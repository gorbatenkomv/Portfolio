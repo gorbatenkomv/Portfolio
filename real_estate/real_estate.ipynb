{
  "metadata": {
    "ExecuteTimeLog": [
      {
        "duration": 704,
        "start_time": "2022-03-07T10:11:08.127Z"
      },
      {
        "duration": 62,
        "start_time": "2022-03-07T10:11:35.662Z"
      },
      {
        "duration": 1509,
        "start_time": "2022-03-07T10:21:25.347Z"
      },
      {
        "duration": 56,
        "start_time": "2022-03-07T10:22:47.465Z"
      },
      {
        "duration": 88,
        "start_time": "2022-03-07T10:23:01.834Z"
      },
      {
        "duration": 118,
        "start_time": "2022-03-07T10:23:49.673Z"
      },
      {
        "duration": 12,
        "start_time": "2022-03-07T10:53:01.457Z"
      },
      {
        "duration": 58,
        "start_time": "2022-03-07T13:10:06.850Z"
      },
      {
        "duration": 59,
        "start_time": "2022-03-07T13:10:22.648Z"
      },
      {
        "duration": 235,
        "start_time": "2022-03-07T13:10:26.346Z"
      },
      {
        "duration": 35,
        "start_time": "2022-03-07T13:10:38.474Z"
      },
      {
        "duration": 15,
        "start_time": "2022-03-07T13:15:39.581Z"
      },
      {
        "duration": 14,
        "start_time": "2022-03-07T13:17:34.735Z"
      },
      {
        "duration": 16,
        "start_time": "2022-03-07T13:17:38.123Z"
      },
      {
        "duration": 13,
        "start_time": "2022-03-07T13:17:40.659Z"
      },
      {
        "duration": 195,
        "start_time": "2022-03-07T13:41:34.503Z"
      },
      {
        "duration": 4,
        "start_time": "2022-03-07T13:42:14.400Z"
      },
      {
        "duration": 611,
        "start_time": "2022-03-07T13:44:21.585Z"
      },
      {
        "duration": 13,
        "start_time": "2022-03-07T13:44:22.199Z"
      },
      {
        "duration": 27,
        "start_time": "2022-03-07T13:44:22.215Z"
      },
      {
        "duration": 14,
        "start_time": "2022-03-07T13:44:22.244Z"
      },
      {
        "duration": 4,
        "start_time": "2022-03-07T13:44:22.260Z"
      },
      {
        "duration": 12,
        "start_time": "2022-03-07T14:17:00.580Z"
      },
      {
        "duration": 3,
        "start_time": "2022-03-07T14:17:10.765Z"
      },
      {
        "duration": 9,
        "start_time": "2022-03-07T14:17:12.674Z"
      },
      {
        "duration": 5,
        "start_time": "2022-03-07T14:17:14.736Z"
      },
      {
        "duration": 11,
        "start_time": "2022-03-07T14:17:17.256Z"
      },
      {
        "duration": 5,
        "start_time": "2022-03-07T14:19:32.463Z"
      },
      {
        "duration": 4,
        "start_time": "2022-03-07T14:19:35.209Z"
      },
      {
        "duration": 9,
        "start_time": "2022-03-07T14:27:15.460Z"
      },
      {
        "duration": 4,
        "start_time": "2022-03-07T14:27:17.727Z"
      },
      {
        "duration": 3,
        "start_time": "2022-03-07T14:27:19.573Z"
      },
      {
        "duration": 12,
        "start_time": "2022-03-07T14:27:21.183Z"
      },
      {
        "duration": 25,
        "start_time": "2022-03-07T14:34:57.636Z"
      },
      {
        "duration": 28,
        "start_time": "2022-03-07T14:38:36.612Z"
      },
      {
        "duration": 28,
        "start_time": "2022-03-07T14:39:37.609Z"
      },
      {
        "duration": 26,
        "start_time": "2022-03-07T14:41:14.589Z"
      },
      {
        "duration": 31,
        "start_time": "2022-03-07T14:59:47.210Z"
      },
      {
        "duration": -121,
        "start_time": "2022-03-07T15:03:15.341Z"
      },
      {
        "duration": 4567,
        "start_time": "2022-03-07T15:03:18.876Z"
      },
      {
        "duration": 7,
        "start_time": "2022-03-07T15:03:35.310Z"
      },
      {
        "duration": 183,
        "start_time": "2022-03-07T15:13:32.722Z"
      },
      {
        "duration": 6,
        "start_time": "2022-03-07T15:14:13.043Z"
      },
      {
        "duration": 60,
        "start_time": "2022-03-07T15:16:04.107Z"
      },
      {
        "duration": 287,
        "start_time": "2022-03-07T15:16:19.222Z"
      },
      {
        "duration": 172,
        "start_time": "2022-03-07T15:17:05.125Z"
      },
      {
        "duration": 171,
        "start_time": "2022-03-07T15:17:23.198Z"
      },
      {
        "duration": 4555,
        "start_time": "2022-03-07T15:19:20.832Z"
      },
      {
        "duration": 56,
        "start_time": "2022-03-07T15:19:54.165Z"
      },
      {
        "duration": 4,
        "start_time": "2022-03-07T15:20:01.022Z"
      },
      {
        "duration": 4,
        "start_time": "2022-03-07T15:20:19.412Z"
      },
      {
        "duration": 6,
        "start_time": "2022-03-07T15:20:40.540Z"
      },
      {
        "duration": 26,
        "start_time": "2022-03-07T15:37:35.276Z"
      },
      {
        "duration": 24,
        "start_time": "2022-03-07T15:37:57.802Z"
      },
      {
        "duration": 667,
        "start_time": "2022-03-07T17:26:36.915Z"
      },
      {
        "duration": 5,
        "start_time": "2022-03-07T17:29:56.521Z"
      },
      {
        "duration": 237,
        "start_time": "2022-03-07T17:32:17.300Z"
      },
      {
        "duration": 4,
        "start_time": "2022-03-07T17:32:40.613Z"
      },
      {
        "duration": 63,
        "start_time": "2022-03-07T17:47:19.388Z"
      },
      {
        "duration": 55,
        "start_time": "2022-03-07T17:47:33.011Z"
      },
      {
        "duration": 60,
        "start_time": "2022-03-07T17:47:44.956Z"
      },
      {
        "duration": 156,
        "start_time": "2022-03-07T17:48:03.817Z"
      },
      {
        "duration": 37,
        "start_time": "2022-03-07T17:48:41.240Z"
      },
      {
        "duration": 30,
        "start_time": "2022-03-07T17:51:31.538Z"
      },
      {
        "duration": 26,
        "start_time": "2022-03-07T17:53:58.051Z"
      },
      {
        "duration": 24,
        "start_time": "2022-03-07T17:55:03.789Z"
      },
      {
        "duration": 41,
        "start_time": "2022-03-07T17:56:13.327Z"
      },
      {
        "duration": 34,
        "start_time": "2022-03-07T17:57:04.160Z"
      },
      {
        "duration": 182,
        "start_time": "2022-03-07T18:53:09.069Z"
      },
      {
        "duration": 32,
        "start_time": "2022-03-07T18:53:12.899Z"
      },
      {
        "duration": 211,
        "start_time": "2022-03-07T19:13:41.431Z"
      },
      {
        "duration": 36,
        "start_time": "2022-03-07T19:13:47.877Z"
      },
      {
        "duration": 206,
        "start_time": "2022-03-07T19:22:15.810Z"
      },
      {
        "duration": 202,
        "start_time": "2022-03-07T19:22:34.918Z"
      },
      {
        "duration": 215,
        "start_time": "2022-03-07T19:23:52.489Z"
      },
      {
        "duration": 193,
        "start_time": "2022-03-07T19:24:06.506Z"
      },
      {
        "duration": 193,
        "start_time": "2022-03-07T19:34:50.448Z"
      },
      {
        "duration": 60,
        "start_time": "2022-03-07T19:35:34.047Z"
      },
      {
        "duration": 171,
        "start_time": "2022-03-07T19:35:40.755Z"
      },
      {
        "duration": 199,
        "start_time": "2022-03-07T19:39:39.550Z"
      },
      {
        "duration": 188,
        "start_time": "2022-03-07T19:39:57.950Z"
      },
      {
        "duration": 214,
        "start_time": "2022-03-07T19:40:03.814Z"
      },
      {
        "duration": 181,
        "start_time": "2022-03-07T19:41:43.686Z"
      },
      {
        "duration": 177,
        "start_time": "2022-03-07T19:42:46.115Z"
      },
      {
        "duration": 183,
        "start_time": "2022-03-07T19:43:07.220Z"
      },
      {
        "duration": 191,
        "start_time": "2022-03-07T19:43:11.456Z"
      },
      {
        "duration": 189,
        "start_time": "2022-03-07T19:44:38.430Z"
      },
      {
        "duration": 181,
        "start_time": "2022-03-07T19:45:11.446Z"
      },
      {
        "duration": 179,
        "start_time": "2022-03-07T19:45:30.051Z"
      },
      {
        "duration": 195,
        "start_time": "2022-03-07T19:46:07.673Z"
      },
      {
        "duration": 179,
        "start_time": "2022-03-07T19:46:37.194Z"
      },
      {
        "duration": 240,
        "start_time": "2022-03-07T19:50:12.156Z"
      },
      {
        "duration": 54,
        "start_time": "2022-03-07T19:51:22.969Z"
      },
      {
        "duration": 180,
        "start_time": "2022-03-07T19:51:27.610Z"
      },
      {
        "duration": 59,
        "start_time": "2022-03-07T19:52:11.023Z"
      },
      {
        "duration": 57,
        "start_time": "2022-03-07T19:52:23.479Z"
      },
      {
        "duration": 69,
        "start_time": "2022-03-07T19:52:46.232Z"
      },
      {
        "duration": 680,
        "start_time": "2022-03-07T19:53:00.920Z"
      },
      {
        "duration": 13,
        "start_time": "2022-03-07T19:53:01.602Z"
      },
      {
        "duration": 28,
        "start_time": "2022-03-07T19:53:01.633Z"
      },
      {
        "duration": 16,
        "start_time": "2022-03-07T19:53:01.664Z"
      },
      {
        "duration": 61,
        "start_time": "2022-03-07T19:53:01.682Z"
      },
      {
        "duration": 62,
        "start_time": "2022-03-07T19:53:01.745Z"
      },
      {
        "duration": -76,
        "start_time": "2022-03-07T19:53:01.885Z"
      },
      {
        "duration": -79,
        "start_time": "2022-03-07T19:53:01.889Z"
      },
      {
        "duration": -79,
        "start_time": "2022-03-07T19:53:01.891Z"
      },
      {
        "duration": -81,
        "start_time": "2022-03-07T19:53:01.894Z"
      },
      {
        "duration": -82,
        "start_time": "2022-03-07T19:53:01.896Z"
      },
      {
        "duration": -83,
        "start_time": "2022-03-07T19:53:01.898Z"
      },
      {
        "duration": -83,
        "start_time": "2022-03-07T19:53:01.899Z"
      },
      {
        "duration": -90,
        "start_time": "2022-03-07T19:53:01.907Z"
      },
      {
        "duration": -92,
        "start_time": "2022-03-07T19:53:01.910Z"
      },
      {
        "duration": -93,
        "start_time": "2022-03-07T19:53:01.913Z"
      },
      {
        "duration": 88,
        "start_time": "2022-03-07T19:53:20.290Z"
      },
      {
        "duration": 66,
        "start_time": "2022-03-07T20:00:22.883Z"
      },
      {
        "duration": 58,
        "start_time": "2022-03-07T20:01:47.263Z"
      },
      {
        "duration": 41,
        "start_time": "2022-03-07T20:02:11.113Z"
      },
      {
        "duration": 249,
        "start_time": "2022-03-07T20:02:36.461Z"
      },
      {
        "duration": 678,
        "start_time": "2022-03-07T20:02:51.931Z"
      },
      {
        "duration": 11,
        "start_time": "2022-03-07T20:02:52.611Z"
      },
      {
        "duration": 25,
        "start_time": "2022-03-07T20:02:52.633Z"
      },
      {
        "duration": 17,
        "start_time": "2022-03-07T20:02:52.660Z"
      },
      {
        "duration": 34,
        "start_time": "2022-03-07T20:02:52.679Z"
      },
      {
        "duration": 32,
        "start_time": "2022-03-07T20:02:52.733Z"
      },
      {
        "duration": 9,
        "start_time": "2022-03-07T20:02:52.767Z"
      },
      {
        "duration": 7,
        "start_time": "2022-03-07T20:02:52.778Z"
      },
      {
        "duration": 5,
        "start_time": "2022-03-07T20:02:52.787Z"
      },
      {
        "duration": 46,
        "start_time": "2022-03-07T20:02:52.794Z"
      },
      {
        "duration": 44,
        "start_time": "2022-03-07T20:02:52.841Z"
      },
      {
        "duration": 63,
        "start_time": "2022-03-07T20:02:52.887Z"
      },
      {
        "duration": 5,
        "start_time": "2022-03-07T20:02:52.951Z"
      },
      {
        "duration": 24,
        "start_time": "2022-03-07T20:02:52.957Z"
      },
      {
        "duration": 2,
        "start_time": "2022-03-07T20:02:52.982Z"
      },
      {
        "duration": 58,
        "start_time": "2022-03-07T20:02:52.986Z"
      },
      {
        "duration": 5,
        "start_time": "2022-03-07T20:11:43.721Z"
      },
      {
        "duration": 254,
        "start_time": "2022-03-07T20:12:45.182Z"
      },
      {
        "duration": 319,
        "start_time": "2022-03-07T20:12:58.194Z"
      },
      {
        "duration": 264,
        "start_time": "2022-03-07T20:13:06.561Z"
      },
      {
        "duration": 195,
        "start_time": "2022-03-07T20:13:12.983Z"
      },
      {
        "duration": 205,
        "start_time": "2022-03-07T20:13:22.652Z"
      },
      {
        "duration": 208,
        "start_time": "2022-03-07T20:16:31.265Z"
      },
      {
        "duration": 219,
        "start_time": "2022-03-07T20:16:33.652Z"
      },
      {
        "duration": 320,
        "start_time": "2022-03-07T20:16:40.773Z"
      },
      {
        "duration": 239,
        "start_time": "2022-03-07T20:16:48.629Z"
      },
      {
        "duration": 362,
        "start_time": "2022-03-07T20:16:55.892Z"
      },
      {
        "duration": 208,
        "start_time": "2022-03-07T20:17:00.691Z"
      },
      {
        "duration": 256,
        "start_time": "2022-03-07T20:17:05.683Z"
      },
      {
        "duration": 221,
        "start_time": "2022-03-07T20:17:14.641Z"
      },
      {
        "duration": 230,
        "start_time": "2022-03-07T20:17:18.159Z"
      },
      {
        "duration": 216,
        "start_time": "2022-03-07T20:17:25.127Z"
      },
      {
        "duration": 270,
        "start_time": "2022-03-08T10:05:45.887Z"
      },
      {
        "duration": 775,
        "start_time": "2022-03-08T10:05:58.352Z"
      },
      {
        "duration": 10,
        "start_time": "2022-03-08T10:05:59.128Z"
      },
      {
        "duration": 27,
        "start_time": "2022-03-08T10:05:59.140Z"
      },
      {
        "duration": 15,
        "start_time": "2022-03-08T10:05:59.169Z"
      },
      {
        "duration": 35,
        "start_time": "2022-03-08T10:05:59.185Z"
      },
      {
        "duration": 42,
        "start_time": "2022-03-08T10:05:59.222Z"
      },
      {
        "duration": 27,
        "start_time": "2022-03-08T10:05:59.266Z"
      },
      {
        "duration": 9,
        "start_time": "2022-03-08T10:05:59.295Z"
      },
      {
        "duration": 7,
        "start_time": "2022-03-08T10:05:59.306Z"
      },
      {
        "duration": 5,
        "start_time": "2022-03-08T10:05:59.315Z"
      },
      {
        "duration": 13,
        "start_time": "2022-03-08T10:05:59.321Z"
      },
      {
        "duration": 49,
        "start_time": "2022-03-08T10:05:59.335Z"
      },
      {
        "duration": 29,
        "start_time": "2022-03-08T10:05:59.385Z"
      },
      {
        "duration": 4,
        "start_time": "2022-03-08T10:05:59.416Z"
      },
      {
        "duration": 42,
        "start_time": "2022-03-08T10:05:59.421Z"
      },
      {
        "duration": 2,
        "start_time": "2022-03-08T10:05:59.464Z"
      },
      {
        "duration": 25,
        "start_time": "2022-03-08T10:05:59.468Z"
      },
      {
        "duration": 375,
        "start_time": "2022-03-08T10:05:59.494Z"
      },
      {
        "duration": 228,
        "start_time": "2022-03-08T10:05:59.870Z"
      },
      {
        "duration": 278,
        "start_time": "2022-03-08T10:06:00.100Z"
      },
      {
        "duration": 313,
        "start_time": "2022-03-08T10:06:00.380Z"
      },
      {
        "duration": 37,
        "start_time": "2022-03-08T10:08:23.385Z"
      },
      {
        "duration": 48,
        "start_time": "2022-03-08T10:10:29.712Z"
      },
      {
        "duration": 34,
        "start_time": "2022-03-08T10:11:28.557Z"
      },
      {
        "duration": 1096,
        "start_time": "2022-03-08T10:29:50.904Z"
      },
      {
        "duration": 31,
        "start_time": "2022-03-08T10:30:33.608Z"
      },
      {
        "duration": 1101,
        "start_time": "2022-03-08T10:34:07.631Z"
      },
      {
        "duration": 1097,
        "start_time": "2022-03-08T10:35:37.086Z"
      },
      {
        "duration": 79,
        "start_time": "2022-03-08T10:36:02.084Z"
      },
      {
        "duration": 1081,
        "start_time": "2022-03-08T10:36:10.366Z"
      },
      {
        "duration": 997,
        "start_time": "2022-03-08T10:50:04.180Z"
      },
      {
        "duration": 246,
        "start_time": "2022-03-08T11:09:34.282Z"
      },
      {
        "duration": 1109,
        "start_time": "2022-03-08T11:09:49.740Z"
      },
      {
        "duration": 1140,
        "start_time": "2022-03-08T11:10:07.491Z"
      },
      {
        "duration": 1022,
        "start_time": "2022-03-08T11:10:47.133Z"
      },
      {
        "duration": 28,
        "start_time": "2022-03-08T11:12:26.910Z"
      },
      {
        "duration": 897,
        "start_time": "2022-03-08T11:22:45.526Z"
      },
      {
        "duration": 491,
        "start_time": "2022-03-08T11:27:03.742Z"
      },
      {
        "duration": 344,
        "start_time": "2022-03-08T12:37:59.300Z"
      },
      {
        "duration": 404,
        "start_time": "2022-03-08T12:38:20.946Z"
      },
      {
        "duration": 384,
        "start_time": "2022-03-08T12:38:31.387Z"
      },
      {
        "duration": 431,
        "start_time": "2022-03-08T12:41:15.880Z"
      },
      {
        "duration": 402,
        "start_time": "2022-03-08T12:41:51.463Z"
      },
      {
        "duration": 401,
        "start_time": "2022-03-08T12:44:15.316Z"
      },
      {
        "duration": 344,
        "start_time": "2022-03-08T12:47:33.152Z"
      },
      {
        "duration": 439,
        "start_time": "2022-03-08T12:48:07.016Z"
      },
      {
        "duration": 296,
        "start_time": "2022-03-08T12:57:50.374Z"
      },
      {
        "duration": 333,
        "start_time": "2022-03-08T12:58:29.483Z"
      },
      {
        "duration": 724,
        "start_time": "2022-03-08T13:17:10.907Z"
      },
      {
        "duration": 625,
        "start_time": "2022-03-08T13:18:05.880Z"
      },
      {
        "duration": 356,
        "start_time": "2022-03-08T13:24:39.918Z"
      },
      {
        "duration": 401,
        "start_time": "2022-03-08T13:25:21.172Z"
      },
      {
        "duration": 75,
        "start_time": "2022-03-08T13:34:36.861Z"
      },
      {
        "duration": 356,
        "start_time": "2022-03-08T13:34:51.165Z"
      },
      {
        "duration": 251,
        "start_time": "2022-03-08T13:35:11.563Z"
      },
      {
        "duration": 17,
        "start_time": "2022-03-08T13:35:31.184Z"
      },
      {
        "duration": 13,
        "start_time": "2022-03-08T13:35:54.252Z"
      },
      {
        "duration": 248,
        "start_time": "2022-03-08T13:36:10.278Z"
      },
      {
        "duration": 358,
        "start_time": "2022-03-08T13:36:21.982Z"
      },
      {
        "duration": 675,
        "start_time": "2022-03-08T13:44:14.994Z"
      },
      {
        "duration": 651,
        "start_time": "2022-03-08T13:44:51.636Z"
      },
      {
        "duration": 675,
        "start_time": "2022-03-08T13:45:14.071Z"
      },
      {
        "duration": 405,
        "start_time": "2022-03-08T13:45:32.673Z"
      },
      {
        "duration": 390,
        "start_time": "2022-03-08T13:46:16.265Z"
      },
      {
        "duration": 115,
        "start_time": "2022-03-08T13:51:11.768Z"
      },
      {
        "duration": 154,
        "start_time": "2022-03-08T13:51:31.398Z"
      },
      {
        "duration": 116,
        "start_time": "2022-03-08T13:51:45.469Z"
      },
      {
        "duration": 114,
        "start_time": "2022-03-08T13:51:58.407Z"
      },
      {
        "duration": 111,
        "start_time": "2022-03-08T13:52:09.502Z"
      },
      {
        "duration": 83,
        "start_time": "2022-03-08T13:52:58.884Z"
      },
      {
        "duration": 9,
        "start_time": "2022-03-08T13:52:58.969Z"
      },
      {
        "duration": 14,
        "start_time": "2022-03-08T13:52:58.980Z"
      },
      {
        "duration": 12,
        "start_time": "2022-03-08T13:52:58.995Z"
      },
      {
        "duration": 55,
        "start_time": "2022-03-08T13:52:59.009Z"
      },
      {
        "duration": 7,
        "start_time": "2022-03-08T13:52:59.065Z"
      },
      {
        "duration": 19,
        "start_time": "2022-03-08T13:52:59.073Z"
      },
      {
        "duration": 31,
        "start_time": "2022-03-08T13:52:59.094Z"
      },
      {
        "duration": 15,
        "start_time": "2022-03-08T13:52:59.126Z"
      },
      {
        "duration": 28,
        "start_time": "2022-03-08T13:52:59.143Z"
      },
      {
        "duration": 27,
        "start_time": "2022-03-08T13:52:59.172Z"
      },
      {
        "duration": 467,
        "start_time": "2022-03-08T13:52:59.201Z"
      },
      {
        "duration": 22,
        "start_time": "2022-03-08T13:52:59.670Z"
      },
      {
        "duration": 21,
        "start_time": "2022-03-08T13:52:59.693Z"
      },
      {
        "duration": 430,
        "start_time": "2022-03-08T13:52:59.715Z"
      },
      {
        "duration": 450,
        "start_time": "2022-03-08T13:53:00.147Z"
      },
      {
        "duration": 302,
        "start_time": "2022-03-08T13:53:00.599Z"
      },
      {
        "duration": 311,
        "start_time": "2022-03-08T13:53:00.903Z"
      },
      {
        "duration": 256,
        "start_time": "2022-03-08T13:53:01.216Z"
      },
      {
        "duration": 384,
        "start_time": "2022-03-08T13:53:01.473Z"
      },
      {
        "duration": 132,
        "start_time": "2022-03-08T13:53:01.863Z"
      },
      {
        "duration": 116,
        "start_time": "2022-03-08T13:54:45.220Z"
      },
      {
        "duration": 117,
        "start_time": "2022-03-08T13:54:54.538Z"
      },
      {
        "duration": 123,
        "start_time": "2022-03-08T13:55:02.415Z"
      },
      {
        "duration": 133,
        "start_time": "2022-03-08T13:59:08.311Z"
      },
      {
        "duration": 126,
        "start_time": "2022-03-08T13:59:14.408Z"
      },
      {
        "duration": 135,
        "start_time": "2022-03-08T14:00:27.261Z"
      },
      {
        "duration": 193,
        "start_time": "2022-03-08T14:00:59.914Z"
      },
      {
        "duration": 113,
        "start_time": "2022-03-08T14:01:09.280Z"
      },
      {
        "duration": 111,
        "start_time": "2022-03-08T14:01:14.876Z"
      },
      {
        "duration": 323,
        "start_time": "2022-03-08T14:02:11.025Z"
      },
      {
        "duration": 364,
        "start_time": "2022-03-08T14:02:38.588Z"
      },
      {
        "duration": 217,
        "start_time": "2022-03-08T14:02:58.650Z"
      },
      {
        "duration": 223,
        "start_time": "2022-03-08T14:03:08.418Z"
      },
      {
        "duration": 949,
        "start_time": "2022-03-08T14:03:20.807Z"
      },
      {
        "duration": 124,
        "start_time": "2022-03-08T14:03:35.081Z"
      },
      {
        "duration": 122,
        "start_time": "2022-03-08T14:03:43.889Z"
      },
      {
        "duration": 128,
        "start_time": "2022-03-08T14:06:26.835Z"
      },
      {
        "duration": 840,
        "start_time": "2022-03-08T14:19:08.299Z"
      },
      {
        "duration": 788,
        "start_time": "2022-03-08T14:19:31.749Z"
      },
      {
        "duration": 708,
        "start_time": "2022-03-08T14:20:51.329Z"
      },
      {
        "duration": 10,
        "start_time": "2022-03-08T14:20:52.039Z"
      },
      {
        "duration": 19,
        "start_time": "2022-03-08T14:20:52.051Z"
      },
      {
        "duration": 14,
        "start_time": "2022-03-08T14:20:52.072Z"
      },
      {
        "duration": 25,
        "start_time": "2022-03-08T14:20:52.088Z"
      },
      {
        "duration": 10,
        "start_time": "2022-03-08T14:20:52.115Z"
      },
      {
        "duration": 37,
        "start_time": "2022-03-08T14:20:52.127Z"
      },
      {
        "duration": 6,
        "start_time": "2022-03-08T14:20:52.167Z"
      },
      {
        "duration": 12,
        "start_time": "2022-03-08T14:20:52.175Z"
      },
      {
        "duration": 23,
        "start_time": "2022-03-08T14:20:52.189Z"
      },
      {
        "duration": 53,
        "start_time": "2022-03-08T14:20:52.213Z"
      },
      {
        "duration": 495,
        "start_time": "2022-03-08T14:20:52.267Z"
      },
      {
        "duration": 22,
        "start_time": "2022-03-08T14:20:52.763Z"
      },
      {
        "duration": 20,
        "start_time": "2022-03-08T14:20:52.786Z"
      },
      {
        "duration": 555,
        "start_time": "2022-03-08T14:20:52.808Z"
      },
      {
        "duration": 450,
        "start_time": "2022-03-08T14:20:53.364Z"
      },
      {
        "duration": 370,
        "start_time": "2022-03-08T14:20:53.816Z"
      },
      {
        "duration": 230,
        "start_time": "2022-03-08T14:20:54.188Z"
      },
      {
        "duration": 248,
        "start_time": "2022-03-08T14:20:54.419Z"
      },
      {
        "duration": 377,
        "start_time": "2022-03-08T14:20:54.669Z"
      },
      {
        "duration": 138,
        "start_time": "2022-03-08T14:20:55.048Z"
      },
      {
        "duration": 823,
        "start_time": "2022-03-08T14:20:55.187Z"
      },
      {
        "duration": 742,
        "start_time": "2022-03-08T14:22:09.649Z"
      },
      {
        "duration": 748,
        "start_time": "2022-03-08T14:24:26.043Z"
      },
      {
        "duration": 72,
        "start_time": "2022-03-08T14:27:38.555Z"
      },
      {
        "duration": 82,
        "start_time": "2022-03-08T14:27:54.055Z"
      },
      {
        "duration": 105,
        "start_time": "2022-03-08T14:28:01.827Z"
      },
      {
        "duration": 754,
        "start_time": "2022-03-08T14:28:05.959Z"
      },
      {
        "duration": 7,
        "start_time": "2022-03-08T14:30:57.436Z"
      },
      {
        "duration": 863,
        "start_time": "2022-03-08T14:32:34.018Z"
      },
      {
        "duration": 8,
        "start_time": "2022-03-08T14:32:40.906Z"
      },
      {
        "duration": 734,
        "start_time": "2022-03-08T14:33:42.686Z"
      },
      {
        "duration": 7,
        "start_time": "2022-03-08T14:33:49.765Z"
      },
      {
        "duration": 750,
        "start_time": "2022-03-08T14:34:01.784Z"
      },
      {
        "duration": 7,
        "start_time": "2022-03-08T14:34:06.934Z"
      },
      {
        "duration": 972,
        "start_time": "2022-03-08T14:34:37.955Z"
      },
      {
        "duration": 9,
        "start_time": "2022-03-08T14:34:43.289Z"
      },
      {
        "duration": 747,
        "start_time": "2022-03-08T14:34:50.341Z"
      },
      {
        "duration": 624,
        "start_time": "2022-03-08T14:36:47.712Z"
      },
      {
        "duration": 12,
        "start_time": "2022-03-08T14:36:48.338Z"
      },
      {
        "duration": 25,
        "start_time": "2022-03-08T14:36:48.352Z"
      },
      {
        "duration": 17,
        "start_time": "2022-03-08T14:36:48.379Z"
      },
      {
        "duration": 31,
        "start_time": "2022-03-08T14:36:48.398Z"
      },
      {
        "duration": 75,
        "start_time": "2022-03-08T14:36:48.431Z"
      },
      {
        "duration": 2887,
        "start_time": "2022-03-08T14:36:45.621Z"
      },
      {
        "duration": 2880,
        "start_time": "2022-03-08T14:36:45.629Z"
      },
      {
        "duration": 2877,
        "start_time": "2022-03-08T14:36:45.633Z"
      },
      {
        "duration": 2873,
        "start_time": "2022-03-08T14:36:45.638Z"
      },
      {
        "duration": 2866,
        "start_time": "2022-03-08T14:36:45.646Z"
      },
      {
        "duration": 2863,
        "start_time": "2022-03-08T14:36:45.650Z"
      },
      {
        "duration": 2861,
        "start_time": "2022-03-08T14:36:45.653Z"
      },
      {
        "duration": 2855,
        "start_time": "2022-03-08T14:36:45.659Z"
      },
      {
        "duration": 2852,
        "start_time": "2022-03-08T14:36:45.664Z"
      },
      {
        "duration": 2849,
        "start_time": "2022-03-08T14:36:45.668Z"
      },
      {
        "duration": 2845,
        "start_time": "2022-03-08T14:36:45.672Z"
      },
      {
        "duration": 2837,
        "start_time": "2022-03-08T14:36:45.681Z"
      },
      {
        "duration": 2835,
        "start_time": "2022-03-08T14:36:45.684Z"
      },
      {
        "duration": 2832,
        "start_time": "2022-03-08T14:36:45.688Z"
      },
      {
        "duration": 2825,
        "start_time": "2022-03-08T14:36:45.696Z"
      },
      {
        "duration": 2822,
        "start_time": "2022-03-08T14:36:45.700Z"
      },
      {
        "duration": 2801,
        "start_time": "2022-03-08T14:36:45.722Z"
      },
      {
        "duration": 2791,
        "start_time": "2022-03-08T14:36:45.732Z"
      },
      {
        "duration": 690,
        "start_time": "2022-03-08T14:37:26.465Z"
      },
      {
        "duration": 11,
        "start_time": "2022-03-08T14:37:27.157Z"
      },
      {
        "duration": 14,
        "start_time": "2022-03-08T14:37:27.172Z"
      },
      {
        "duration": 14,
        "start_time": "2022-03-08T14:37:27.188Z"
      },
      {
        "duration": 28,
        "start_time": "2022-03-08T14:37:27.204Z"
      },
      {
        "duration": 4,
        "start_time": "2022-03-08T14:37:27.264Z"
      },
      {
        "duration": 9,
        "start_time": "2022-03-08T14:37:27.272Z"
      },
      {
        "duration": 8,
        "start_time": "2022-03-08T14:37:27.284Z"
      },
      {
        "duration": 5,
        "start_time": "2022-03-08T14:37:27.295Z"
      },
      {
        "duration": 15,
        "start_time": "2022-03-08T14:37:27.302Z"
      },
      {
        "duration": 64,
        "start_time": "2022-03-08T14:37:27.319Z"
      },
      {
        "duration": 31,
        "start_time": "2022-03-08T14:37:27.385Z"
      },
      {
        "duration": 500,
        "start_time": "2022-03-08T14:37:27.417Z"
      },
      {
        "duration": 21,
        "start_time": "2022-03-08T14:37:27.918Z"
      },
      {
        "duration": 42,
        "start_time": "2022-03-08T14:37:27.940Z"
      },
      {
        "duration": 542,
        "start_time": "2022-03-08T14:37:27.984Z"
      },
      {
        "duration": 450,
        "start_time": "2022-03-08T14:37:28.527Z"
      },
      {
        "duration": 314,
        "start_time": "2022-03-08T14:37:28.979Z"
      },
      {
        "duration": 247,
        "start_time": "2022-03-08T14:37:29.294Z"
      },
      {
        "duration": 271,
        "start_time": "2022-03-08T14:37:29.543Z"
      },
      {
        "duration": 399,
        "start_time": "2022-03-08T14:37:29.816Z"
      },
      {
        "duration": 257,
        "start_time": "2022-03-08T14:37:30.219Z"
      },
      {
        "duration": 1792,
        "start_time": "2022-03-08T14:37:30.478Z"
      },
      {
        "duration": 11,
        "start_time": "2022-03-08T14:37:32.273Z"
      },
      {
        "duration": 790,
        "start_time": "2022-03-08T14:39:01.099Z"
      },
      {
        "duration": 8,
        "start_time": "2022-03-08T14:39:07.801Z"
      },
      {
        "duration": 700,
        "start_time": "2022-03-08T14:39:31.263Z"
      },
      {
        "duration": 12,
        "start_time": "2022-03-08T14:39:31.965Z"
      },
      {
        "duration": 14,
        "start_time": "2022-03-08T14:39:31.979Z"
      },
      {
        "duration": 13,
        "start_time": "2022-03-08T14:39:31.995Z"
      },
      {
        "duration": 58,
        "start_time": "2022-03-08T14:39:32.009Z"
      },
      {
        "duration": 74,
        "start_time": "2022-03-08T14:39:32.069Z"
      },
      {
        "duration": 3119,
        "start_time": "2022-03-08T14:39:29.026Z"
      },
      {
        "duration": 3118,
        "start_time": "2022-03-08T14:39:29.029Z"
      },
      {
        "duration": 3115,
        "start_time": "2022-03-08T14:39:29.033Z"
      },
      {
        "duration": 3113,
        "start_time": "2022-03-08T14:39:29.036Z"
      },
      {
        "duration": 3110,
        "start_time": "2022-03-08T14:39:29.040Z"
      },
      {
        "duration": 3108,
        "start_time": "2022-03-08T14:39:29.043Z"
      },
      {
        "duration": 3105,
        "start_time": "2022-03-08T14:39:29.047Z"
      },
      {
        "duration": 3103,
        "start_time": "2022-03-08T14:39:29.050Z"
      },
      {
        "duration": 3090,
        "start_time": "2022-03-08T14:39:29.064Z"
      },
      {
        "duration": 3086,
        "start_time": "2022-03-08T14:39:29.069Z"
      },
      {
        "duration": 3083,
        "start_time": "2022-03-08T14:39:29.073Z"
      },
      {
        "duration": 3080,
        "start_time": "2022-03-08T14:39:29.077Z"
      },
      {
        "duration": 3078,
        "start_time": "2022-03-08T14:39:29.080Z"
      },
      {
        "duration": 3077,
        "start_time": "2022-03-08T14:39:29.082Z"
      },
      {
        "duration": 3075,
        "start_time": "2022-03-08T14:39:29.085Z"
      },
      {
        "duration": 3072,
        "start_time": "2022-03-08T14:39:29.089Z"
      },
      {
        "duration": 3070,
        "start_time": "2022-03-08T14:39:29.093Z"
      },
      {
        "duration": 3068,
        "start_time": "2022-03-08T14:39:29.095Z"
      },
      {
        "duration": 690,
        "start_time": "2022-03-08T14:40:14.756Z"
      },
      {
        "duration": 10,
        "start_time": "2022-03-08T14:40:15.448Z"
      },
      {
        "duration": 15,
        "start_time": "2022-03-08T14:40:15.462Z"
      },
      {
        "duration": 15,
        "start_time": "2022-03-08T14:40:15.479Z"
      },
      {
        "duration": 29,
        "start_time": "2022-03-08T14:40:15.495Z"
      },
      {
        "duration": 5,
        "start_time": "2022-03-08T14:40:15.525Z"
      },
      {
        "duration": 43,
        "start_time": "2022-03-08T14:40:15.532Z"
      },
      {
        "duration": 8,
        "start_time": "2022-03-08T14:40:15.578Z"
      },
      {
        "duration": 5,
        "start_time": "2022-03-08T14:40:15.588Z"
      },
      {
        "duration": 14,
        "start_time": "2022-03-08T14:40:15.595Z"
      },
      {
        "duration": 22,
        "start_time": "2022-03-08T14:40:15.611Z"
      },
      {
        "duration": 44,
        "start_time": "2022-03-08T14:40:15.634Z"
      },
      {
        "duration": 492,
        "start_time": "2022-03-08T14:40:15.679Z"
      },
      {
        "duration": 20,
        "start_time": "2022-03-08T14:40:16.173Z"
      },
      {
        "duration": 27,
        "start_time": "2022-03-08T14:40:16.195Z"
      },
      {
        "duration": 542,
        "start_time": "2022-03-08T14:40:16.223Z"
      },
      {
        "duration": 443,
        "start_time": "2022-03-08T14:40:16.767Z"
      },
      {
        "duration": 318,
        "start_time": "2022-03-08T14:40:17.212Z"
      },
      {
        "duration": 233,
        "start_time": "2022-03-08T14:40:17.532Z"
      },
      {
        "duration": 245,
        "start_time": "2022-03-08T14:40:17.767Z"
      },
      {
        "duration": 370,
        "start_time": "2022-03-08T14:40:18.013Z"
      },
      {
        "duration": 148,
        "start_time": "2022-03-08T14:40:18.385Z"
      },
      {
        "duration": 1062,
        "start_time": "2022-03-08T14:40:18.538Z"
      },
      {
        "duration": 6,
        "start_time": "2022-03-08T14:40:19.602Z"
      },
      {
        "duration": 95,
        "start_time": "2022-03-08T14:45:00.113Z"
      },
      {
        "duration": 3129,
        "start_time": "2022-03-08T14:45:23.136Z"
      },
      {
        "duration": 235,
        "start_time": "2022-03-08T14:45:40.544Z"
      },
      {
        "duration": 373,
        "start_time": "2022-03-08T14:46:16.995Z"
      },
      {
        "duration": 138,
        "start_time": "2022-03-08T14:47:26.371Z"
      },
      {
        "duration": 851,
        "start_time": "2022-03-08T14:48:22.576Z"
      },
      {
        "duration": 93,
        "start_time": "2022-03-08T15:05:35.271Z"
      },
      {
        "duration": 249,
        "start_time": "2022-03-08T15:06:01.818Z"
      },
      {
        "duration": 235,
        "start_time": "2022-03-08T15:07:07.419Z"
      },
      {
        "duration": 455,
        "start_time": "2022-03-08T15:07:16.051Z"
      },
      {
        "duration": 5759,
        "start_time": "2022-03-08T15:09:39.243Z"
      },
      {
        "duration": 207,
        "start_time": "2022-03-08T15:10:04.572Z"
      },
      {
        "duration": 194,
        "start_time": "2022-03-08T15:13:57.313Z"
      },
      {
        "duration": 196,
        "start_time": "2022-03-08T15:14:02.913Z"
      },
      {
        "duration": 200,
        "start_time": "2022-03-08T15:14:07.026Z"
      },
      {
        "duration": 191,
        "start_time": "2022-03-08T15:18:37.689Z"
      },
      {
        "duration": 265,
        "start_time": "2022-03-08T15:22:19.805Z"
      },
      {
        "duration": 170,
        "start_time": "2022-03-08T15:24:30.499Z"
      },
      {
        "duration": 6494,
        "start_time": "2022-03-08T15:27:09.179Z"
      },
      {
        "duration": 522,
        "start_time": "2022-03-08T15:27:34.300Z"
      },
      {
        "duration": 303,
        "start_time": "2022-03-08T20:00:53.598Z"
      },
      {
        "duration": 781,
        "start_time": "2022-03-08T20:01:10.350Z"
      },
      {
        "duration": 14,
        "start_time": "2022-03-08T20:01:11.133Z"
      },
      {
        "duration": 34,
        "start_time": "2022-03-08T20:01:11.149Z"
      },
      {
        "duration": 23,
        "start_time": "2022-03-08T20:01:11.185Z"
      },
      {
        "duration": 49,
        "start_time": "2022-03-08T20:01:11.209Z"
      },
      {
        "duration": 4,
        "start_time": "2022-03-08T20:01:11.260Z"
      },
      {
        "duration": 40,
        "start_time": "2022-03-08T20:01:11.266Z"
      },
      {
        "duration": 24,
        "start_time": "2022-03-08T20:01:11.309Z"
      },
      {
        "duration": 20,
        "start_time": "2022-03-08T20:01:11.335Z"
      },
      {
        "duration": 36,
        "start_time": "2022-03-08T20:01:11.357Z"
      },
      {
        "duration": 40,
        "start_time": "2022-03-08T20:01:11.394Z"
      },
      {
        "duration": 36,
        "start_time": "2022-03-08T20:01:11.435Z"
      },
      {
        "duration": 534,
        "start_time": "2022-03-08T20:01:11.473Z"
      },
      {
        "duration": 25,
        "start_time": "2022-03-08T20:01:12.009Z"
      },
      {
        "duration": 47,
        "start_time": "2022-03-08T20:01:12.036Z"
      },
      {
        "duration": 632,
        "start_time": "2022-03-08T20:01:12.085Z"
      },
      {
        "duration": 819,
        "start_time": "2022-03-08T20:01:12.719Z"
      },
      {
        "duration": 371,
        "start_time": "2022-03-08T20:01:13.540Z"
      },
      {
        "duration": 295,
        "start_time": "2022-03-08T20:01:13.912Z"
      },
      {
        "duration": 311,
        "start_time": "2022-03-08T20:01:14.209Z"
      },
      {
        "duration": 480,
        "start_time": "2022-03-08T20:01:14.522Z"
      },
      {
        "duration": 164,
        "start_time": "2022-03-08T20:01:15.004Z"
      },
      {
        "duration": 1094,
        "start_time": "2022-03-08T20:01:15.171Z"
      },
      {
        "duration": 260,
        "start_time": "2022-03-08T20:01:16.267Z"
      },
      {
        "duration": 264,
        "start_time": "2022-03-08T20:01:16.529Z"
      },
      {
        "duration": 215,
        "start_time": "2022-03-08T20:01:16.794Z"
      },
      {
        "duration": 568,
        "start_time": "2022-03-08T20:01:17.011Z"
      },
      {
        "duration": 320,
        "start_time": "2022-03-08T20:01:17.580Z"
      },
      {
        "duration": 4023,
        "start_time": "2022-03-08T20:01:13.880Z"
      },
      {
        "duration": 4021,
        "start_time": "2022-03-08T20:01:13.883Z"
      },
      {
        "duration": 26,
        "start_time": "2022-03-08T20:01:47.001Z"
      },
      {
        "duration": 33,
        "start_time": "2022-03-08T20:01:52.623Z"
      },
      {
        "duration": 542,
        "start_time": "2022-03-08T20:02:06.517Z"
      },
      {
        "duration": 238,
        "start_time": "2022-03-08T20:11:01.488Z"
      },
      {
        "duration": 230,
        "start_time": "2022-03-08T20:11:36.154Z"
      },
      {
        "duration": 295,
        "start_time": "2022-03-08T20:14:07.201Z"
      },
      {
        "duration": 250,
        "start_time": "2022-03-08T20:14:17.975Z"
      },
      {
        "duration": 273,
        "start_time": "2022-03-08T20:15:00.037Z"
      },
      {
        "duration": 275,
        "start_time": "2022-03-08T20:18:39.828Z"
      },
      {
        "duration": 249,
        "start_time": "2022-03-08T20:18:59.200Z"
      },
      {
        "duration": 255,
        "start_time": "2022-03-08T20:20:00.580Z"
      },
      {
        "duration": 249,
        "start_time": "2022-03-08T20:20:04.756Z"
      },
      {
        "duration": 377,
        "start_time": "2022-03-08T20:20:16.616Z"
      },
      {
        "duration": 246,
        "start_time": "2022-03-08T20:20:23.027Z"
      },
      {
        "duration": 241,
        "start_time": "2022-03-08T20:20:39.068Z"
      },
      {
        "duration": 252,
        "start_time": "2022-03-08T20:20:49.427Z"
      },
      {
        "duration": 207,
        "start_time": "2022-03-08T20:21:57.520Z"
      },
      {
        "duration": 209,
        "start_time": "2022-03-08T20:22:55.113Z"
      },
      {
        "duration": 291,
        "start_time": "2022-03-08T20:23:50.602Z"
      },
      {
        "duration": 536,
        "start_time": "2022-03-08T20:24:34.635Z"
      },
      {
        "duration": 562,
        "start_time": "2022-03-08T20:24:40.631Z"
      },
      {
        "duration": 545,
        "start_time": "2022-03-08T20:26:09.007Z"
      },
      {
        "duration": 99,
        "start_time": "2022-03-08T20:26:17.629Z"
      },
      {
        "duration": 557,
        "start_time": "2022-03-08T20:26:22.812Z"
      },
      {
        "duration": 709,
        "start_time": "2022-03-08T20:40:14.269Z"
      },
      {
        "duration": 252,
        "start_time": "2022-03-08T20:40:53.585Z"
      },
      {
        "duration": 34,
        "start_time": "2022-03-08T20:42:36.680Z"
      },
      {
        "duration": 226,
        "start_time": "2022-03-08T20:43:20.487Z"
      },
      {
        "duration": 239,
        "start_time": "2022-03-08T20:49:36.071Z"
      },
      {
        "duration": 242,
        "start_time": "2022-03-08T20:52:14.473Z"
      },
      {
        "duration": 277,
        "start_time": "2022-03-08T20:54:48.538Z"
      },
      {
        "duration": 240,
        "start_time": "2022-03-08T20:55:01.505Z"
      },
      {
        "duration": 90,
        "start_time": "2022-03-08T21:01:58.652Z"
      },
      {
        "duration": 91,
        "start_time": "2022-03-08T21:03:19.246Z"
      },
      {
        "duration": 84,
        "start_time": "2022-03-08T21:03:27.007Z"
      },
      {
        "duration": 245,
        "start_time": "2022-03-08T21:04:12.708Z"
      },
      {
        "duration": 268,
        "start_time": "2022-03-08T21:04:29.183Z"
      },
      {
        "duration": 35,
        "start_time": "2022-03-08T21:04:53.680Z"
      },
      {
        "duration": 29,
        "start_time": "2022-03-08T21:05:24.874Z"
      },
      {
        "duration": 264,
        "start_time": "2022-03-08T21:16:09.564Z"
      },
      {
        "duration": 256,
        "start_time": "2022-03-08T21:16:34.379Z"
      },
      {
        "duration": 364,
        "start_time": "2022-03-08T21:18:00.417Z"
      },
      {
        "duration": 108,
        "start_time": "2022-03-08T21:18:15.041Z"
      },
      {
        "duration": 268,
        "start_time": "2022-03-08T21:18:39.505Z"
      },
      {
        "duration": 248,
        "start_time": "2022-03-08T21:18:53.377Z"
      },
      {
        "duration": 306,
        "start_time": "2022-03-08T21:19:10.838Z"
      },
      {
        "duration": 223,
        "start_time": "2022-03-08T21:19:42.517Z"
      },
      {
        "duration": 225,
        "start_time": "2022-03-08T21:19:57.413Z"
      },
      {
        "duration": 222,
        "start_time": "2022-03-08T21:20:29.090Z"
      },
      {
        "duration": 241,
        "start_time": "2022-03-08T21:20:37.004Z"
      },
      {
        "duration": 217,
        "start_time": "2022-03-08T21:20:51.792Z"
      },
      {
        "duration": 85,
        "start_time": "2022-03-08T21:23:11.109Z"
      },
      {
        "duration": 223,
        "start_time": "2022-03-08T21:23:16.836Z"
      },
      {
        "duration": 257,
        "start_time": "2022-03-08T21:42:32.360Z"
      },
      {
        "duration": 10,
        "start_time": "2022-03-08T21:42:41.248Z"
      },
      {
        "duration": 242,
        "start_time": "2022-03-08T21:42:45.367Z"
      },
      {
        "duration": 236,
        "start_time": "2022-03-08T21:45:50.093Z"
      },
      {
        "duration": 240,
        "start_time": "2022-03-08T21:53:25.982Z"
      },
      {
        "duration": 251,
        "start_time": "2022-03-08T21:59:52.421Z"
      },
      {
        "duration": 413,
        "start_time": "2022-03-08T22:03:09.050Z"
      },
      {
        "duration": 211,
        "start_time": "2022-03-08T22:07:25.474Z"
      },
      {
        "duration": 495,
        "start_time": "2022-03-08T22:13:29.126Z"
      },
      {
        "duration": 517,
        "start_time": "2022-03-08T22:13:34.320Z"
      },
      {
        "duration": 392,
        "start_time": "2022-03-08T22:13:47.922Z"
      },
      {
        "duration": 269,
        "start_time": "2022-03-08T22:13:58.361Z"
      },
      {
        "duration": 238,
        "start_time": "2022-03-08T22:15:27.416Z"
      },
      {
        "duration": 238,
        "start_time": "2022-03-08T22:19:42.723Z"
      },
      {
        "duration": 702,
        "start_time": "2022-03-08T22:32:17.028Z"
      },
      {
        "duration": 11,
        "start_time": "2022-03-08T22:32:17.732Z"
      },
      {
        "duration": 19,
        "start_time": "2022-03-08T22:32:17.745Z"
      },
      {
        "duration": 24,
        "start_time": "2022-03-08T22:32:17.766Z"
      },
      {
        "duration": 33,
        "start_time": "2022-03-08T22:32:17.791Z"
      },
      {
        "duration": 3,
        "start_time": "2022-03-08T22:32:17.826Z"
      },
      {
        "duration": 46,
        "start_time": "2022-03-08T22:32:17.831Z"
      },
      {
        "duration": 9,
        "start_time": "2022-03-08T22:32:17.879Z"
      },
      {
        "duration": 9,
        "start_time": "2022-03-08T22:32:17.891Z"
      },
      {
        "duration": 14,
        "start_time": "2022-03-08T22:32:17.902Z"
      },
      {
        "duration": 27,
        "start_time": "2022-03-08T22:32:17.918Z"
      },
      {
        "duration": 54,
        "start_time": "2022-03-08T22:32:17.947Z"
      },
      {
        "duration": 549,
        "start_time": "2022-03-08T22:32:18.003Z"
      },
      {
        "duration": 35,
        "start_time": "2022-03-08T22:32:18.554Z"
      },
      {
        "duration": 24,
        "start_time": "2022-03-08T22:32:18.591Z"
      },
      {
        "duration": 623,
        "start_time": "2022-03-08T22:32:18.616Z"
      },
      {
        "duration": 526,
        "start_time": "2022-03-08T22:32:19.241Z"
      },
      {
        "duration": 369,
        "start_time": "2022-03-08T22:32:19.769Z"
      },
      {
        "duration": 304,
        "start_time": "2022-03-08T22:32:20.140Z"
      },
      {
        "duration": 357,
        "start_time": "2022-03-08T22:32:20.446Z"
      },
      {
        "duration": 518,
        "start_time": "2022-03-08T22:32:20.805Z"
      },
      {
        "duration": 183,
        "start_time": "2022-03-08T22:32:21.326Z"
      },
      {
        "duration": 1067,
        "start_time": "2022-03-08T22:32:21.511Z"
      },
      {
        "duration": 278,
        "start_time": "2022-03-08T22:32:22.580Z"
      },
      {
        "duration": 281,
        "start_time": "2022-03-08T22:32:22.860Z"
      },
      {
        "duration": 245,
        "start_time": "2022-03-08T22:32:23.144Z"
      },
      {
        "duration": 588,
        "start_time": "2022-03-08T22:32:23.391Z"
      },
      {
        "duration": 263,
        "start_time": "2022-03-08T22:32:23.981Z"
      },
      {
        "duration": 265,
        "start_time": "2022-03-08T22:32:24.246Z"
      },
      {
        "duration": 264,
        "start_time": "2022-03-08T22:32:24.513Z"
      },
      {
        "duration": 26,
        "start_time": "2022-03-08T22:32:24.779Z"
      },
      {
        "duration": 270,
        "start_time": "2022-03-08T22:32:24.807Z"
      },
      {
        "duration": 9,
        "start_time": "2022-03-08T22:32:25.079Z"
      },
      {
        "duration": 605,
        "start_time": "2022-03-08T22:32:25.090Z"
      },
      {
        "duration": 549,
        "start_time": "2022-03-08T22:32:25.697Z"
      },
      {
        "duration": 387,
        "start_time": "2022-03-08T22:32:26.248Z"
      },
      {
        "duration": 307,
        "start_time": "2022-03-08T22:32:26.636Z"
      },
      {
        "duration": 267,
        "start_time": "2022-03-08T22:32:26.945Z"
      },
      {
        "duration": 228,
        "start_time": "2022-03-08T22:32:27.214Z"
      },
      {
        "duration": 391,
        "start_time": "2022-03-08T22:32:27.444Z"
      },
      {
        "duration": 242,
        "start_time": "2022-03-08T22:32:27.837Z"
      },
      {
        "duration": 253,
        "start_time": "2022-03-08T22:32:28.081Z"
      },
      {
        "duration": 255,
        "start_time": "2022-03-08T22:32:28.335Z"
      },
      {
        "duration": 417,
        "start_time": "2022-03-09T06:55:37.475Z"
      },
      {
        "duration": 288,
        "start_time": "2022-03-09T06:55:47.796Z"
      },
      {
        "duration": 637,
        "start_time": "2022-03-09T06:56:11.516Z"
      },
      {
        "duration": 9,
        "start_time": "2022-03-09T06:56:12.155Z"
      },
      {
        "duration": 12,
        "start_time": "2022-03-09T06:56:12.166Z"
      },
      {
        "duration": 30,
        "start_time": "2022-03-09T06:56:12.179Z"
      },
      {
        "duration": 25,
        "start_time": "2022-03-09T06:56:12.210Z"
      },
      {
        "duration": 3,
        "start_time": "2022-03-09T06:56:12.237Z"
      },
      {
        "duration": 8,
        "start_time": "2022-03-09T06:56:12.357Z"
      },
      {
        "duration": 7,
        "start_time": "2022-03-09T06:56:12.505Z"
      },
      {
        "duration": 4,
        "start_time": "2022-03-09T06:56:12.649Z"
      },
      {
        "duration": 13,
        "start_time": "2022-03-09T06:56:12.654Z"
      },
      {
        "duration": 21,
        "start_time": "2022-03-09T06:56:12.669Z"
      },
      {
        "duration": 25,
        "start_time": "2022-03-09T06:56:12.691Z"
      },
      {
        "duration": 432,
        "start_time": "2022-03-09T06:56:12.717Z"
      },
      {
        "duration": 19,
        "start_time": "2022-03-09T06:56:13.150Z"
      },
      {
        "duration": 17,
        "start_time": "2022-03-09T06:56:13.170Z"
      },
      {
        "duration": 459,
        "start_time": "2022-03-09T06:56:13.205Z"
      },
      {
        "duration": 393,
        "start_time": "2022-03-09T06:56:13.666Z"
      },
      {
        "duration": 277,
        "start_time": "2022-03-09T06:56:14.060Z"
      },
      {
        "duration": 224,
        "start_time": "2022-03-09T06:56:14.339Z"
      },
      {
        "duration": 230,
        "start_time": "2022-03-09T06:56:14.564Z"
      },
      {
        "duration": 323,
        "start_time": "2022-03-09T06:56:14.796Z"
      },
      {
        "duration": 122,
        "start_time": "2022-03-09T06:56:15.120Z"
      },
      {
        "duration": 713,
        "start_time": "2022-03-09T06:56:15.243Z"
      },
      {
        "duration": 1220,
        "start_time": "2022-03-09T06:56:15.957Z"
      },
      {
        "duration": -115,
        "start_time": "2022-03-09T06:56:17.295Z"
      },
      {
        "duration": -122,
        "start_time": "2022-03-09T06:56:17.302Z"
      },
      {
        "duration": -123,
        "start_time": "2022-03-09T06:56:17.305Z"
      },
      {
        "duration": -126,
        "start_time": "2022-03-09T06:56:17.309Z"
      },
      {
        "duration": -128,
        "start_time": "2022-03-09T06:56:17.312Z"
      },
      {
        "duration": -132,
        "start_time": "2022-03-09T06:56:17.317Z"
      },
      {
        "duration": -134,
        "start_time": "2022-03-09T06:56:17.320Z"
      },
      {
        "duration": -141,
        "start_time": "2022-03-09T06:56:17.327Z"
      },
      {
        "duration": -145,
        "start_time": "2022-03-09T06:56:17.332Z"
      },
      {
        "duration": -148,
        "start_time": "2022-03-09T06:56:17.336Z"
      },
      {
        "duration": -151,
        "start_time": "2022-03-09T06:56:17.340Z"
      },
      {
        "duration": -154,
        "start_time": "2022-03-09T06:56:17.344Z"
      },
      {
        "duration": -158,
        "start_time": "2022-03-09T06:56:17.348Z"
      },
      {
        "duration": -169,
        "start_time": "2022-03-09T06:56:17.360Z"
      },
      {
        "duration": -173,
        "start_time": "2022-03-09T06:56:17.365Z"
      },
      {
        "duration": -176,
        "start_time": "2022-03-09T06:56:17.369Z"
      },
      {
        "duration": -179,
        "start_time": "2022-03-09T06:56:17.372Z"
      },
      {
        "duration": -184,
        "start_time": "2022-03-09T06:56:17.378Z"
      },
      {
        "duration": -187,
        "start_time": "2022-03-09T06:56:17.382Z"
      },
      {
        "duration": 180,
        "start_time": "2022-03-09T06:56:40.568Z"
      },
      {
        "duration": 337,
        "start_time": "2022-03-09T07:00:01.837Z"
      },
      {
        "duration": 2195,
        "start_time": "2022-03-09T07:13:56.976Z"
      },
      {
        "duration": 10,
        "start_time": "2022-03-09T07:13:59.173Z"
      },
      {
        "duration": 22,
        "start_time": "2022-03-09T07:13:59.187Z"
      },
      {
        "duration": 12,
        "start_time": "2022-03-09T07:13:59.210Z"
      },
      {
        "duration": 25,
        "start_time": "2022-03-09T07:13:59.223Z"
      },
      {
        "duration": 2,
        "start_time": "2022-03-09T07:13:59.250Z"
      },
      {
        "duration": 13,
        "start_time": "2022-03-09T07:13:59.254Z"
      },
      {
        "duration": 6,
        "start_time": "2022-03-09T07:13:59.269Z"
      },
      {
        "duration": 30,
        "start_time": "2022-03-09T07:13:59.277Z"
      },
      {
        "duration": 13,
        "start_time": "2022-03-09T07:13:59.308Z"
      },
      {
        "duration": 20,
        "start_time": "2022-03-09T07:13:59.322Z"
      },
      {
        "duration": 24,
        "start_time": "2022-03-09T07:13:59.344Z"
      },
      {
        "duration": 556,
        "start_time": "2022-03-09T07:13:59.370Z"
      },
      {
        "duration": 19,
        "start_time": "2022-03-09T07:13:59.927Z"
      },
      {
        "duration": 18,
        "start_time": "2022-03-09T07:13:59.947Z"
      },
      {
        "duration": 686,
        "start_time": "2022-03-09T07:13:59.966Z"
      },
      {
        "duration": 420,
        "start_time": "2022-03-09T07:14:00.654Z"
      },
      {
        "duration": 286,
        "start_time": "2022-03-09T07:14:01.075Z"
      },
      {
        "duration": 216,
        "start_time": "2022-03-09T07:14:01.362Z"
      },
      {
        "duration": 230,
        "start_time": "2022-03-09T07:14:01.579Z"
      },
      {
        "duration": 345,
        "start_time": "2022-03-09T07:14:01.811Z"
      },
      {
        "duration": 134,
        "start_time": "2022-03-09T07:14:02.159Z"
      },
      {
        "duration": 726,
        "start_time": "2022-03-09T07:14:02.295Z"
      },
      {
        "duration": 193,
        "start_time": "2022-03-09T07:14:03.023Z"
      },
      {
        "duration": 370,
        "start_time": "2022-03-09T07:14:03.217Z"
      },
      {
        "duration": -182,
        "start_time": "2022-03-09T07:14:03.771Z"
      },
      {
        "duration": -186,
        "start_time": "2022-03-09T07:14:03.776Z"
      },
      {
        "duration": -190,
        "start_time": "2022-03-09T07:14:03.781Z"
      },
      {
        "duration": -192,
        "start_time": "2022-03-09T07:14:03.784Z"
      },
      {
        "duration": -195,
        "start_time": "2022-03-09T07:14:03.788Z"
      },
      {
        "duration": -199,
        "start_time": "2022-03-09T07:14:03.793Z"
      },
      {
        "duration": -203,
        "start_time": "2022-03-09T07:14:03.798Z"
      },
      {
        "duration": -206,
        "start_time": "2022-03-09T07:14:03.802Z"
      },
      {
        "duration": -209,
        "start_time": "2022-03-09T07:14:03.806Z"
      },
      {
        "duration": -212,
        "start_time": "2022-03-09T07:14:03.810Z"
      },
      {
        "duration": -215,
        "start_time": "2022-03-09T07:14:03.814Z"
      },
      {
        "duration": -218,
        "start_time": "2022-03-09T07:14:03.818Z"
      },
      {
        "duration": -222,
        "start_time": "2022-03-09T07:14:03.822Z"
      },
      {
        "duration": -225,
        "start_time": "2022-03-09T07:14:03.826Z"
      },
      {
        "duration": -227,
        "start_time": "2022-03-09T07:14:03.829Z"
      },
      {
        "duration": -230,
        "start_time": "2022-03-09T07:14:03.833Z"
      },
      {
        "duration": -232,
        "start_time": "2022-03-09T07:14:03.836Z"
      },
      {
        "duration": -235,
        "start_time": "2022-03-09T07:14:03.840Z"
      },
      {
        "duration": 213,
        "start_time": "2022-03-09T07:15:06.688Z"
      },
      {
        "duration": 145,
        "start_time": "2022-03-09T07:15:26.054Z"
      },
      {
        "duration": 480,
        "start_time": "2022-03-09T07:16:04.082Z"
      },
      {
        "duration": 157,
        "start_time": "2022-03-09T07:17:19.577Z"
      },
      {
        "duration": 151,
        "start_time": "2022-03-09T07:18:43.692Z"
      },
      {
        "duration": 1244,
        "start_time": "2022-03-09T07:18:54.485Z"
      },
      {
        "duration": 158,
        "start_time": "2022-03-09T07:18:58.813Z"
      },
      {
        "duration": 182,
        "start_time": "2022-03-09T07:19:12.525Z"
      },
      {
        "duration": 21,
        "start_time": "2022-03-09T07:19:45.946Z"
      },
      {
        "duration": 174,
        "start_time": "2022-03-09T07:20:01.657Z"
      },
      {
        "duration": 7,
        "start_time": "2022-03-09T07:20:12.444Z"
      },
      {
        "duration": 420,
        "start_time": "2022-03-09T07:20:13.458Z"
      },
      {
        "duration": 179,
        "start_time": "2022-03-09T07:22:00.977Z"
      },
      {
        "duration": 627,
        "start_time": "2022-03-09T08:21:59.834Z"
      },
      {
        "duration": 8,
        "start_time": "2022-03-09T08:22:00.463Z"
      },
      {
        "duration": 18,
        "start_time": "2022-03-09T08:22:00.473Z"
      },
      {
        "duration": 17,
        "start_time": "2022-03-09T08:22:00.492Z"
      },
      {
        "duration": 26,
        "start_time": "2022-03-09T08:22:00.510Z"
      },
      {
        "duration": 3,
        "start_time": "2022-03-09T08:22:00.537Z"
      },
      {
        "duration": 28,
        "start_time": "2022-03-09T08:22:00.541Z"
      },
      {
        "duration": 11,
        "start_time": "2022-03-09T08:22:00.571Z"
      },
      {
        "duration": 11,
        "start_time": "2022-03-09T08:22:00.584Z"
      },
      {
        "duration": 21,
        "start_time": "2022-03-09T08:22:00.596Z"
      },
      {
        "duration": 25,
        "start_time": "2022-03-09T08:22:00.619Z"
      },
      {
        "duration": 28,
        "start_time": "2022-03-09T08:22:00.646Z"
      },
      {
        "duration": 453,
        "start_time": "2022-03-09T08:22:00.675Z"
      },
      {
        "duration": 18,
        "start_time": "2022-03-09T08:22:01.129Z"
      },
      {
        "duration": 30,
        "start_time": "2022-03-09T08:22:01.149Z"
      },
      {
        "duration": 474,
        "start_time": "2022-03-09T08:22:01.180Z"
      },
      {
        "duration": 407,
        "start_time": "2022-03-09T08:22:01.656Z"
      },
      {
        "duration": 288,
        "start_time": "2022-03-09T08:22:02.064Z"
      },
      {
        "duration": 212,
        "start_time": "2022-03-09T08:22:02.354Z"
      },
      {
        "duration": 228,
        "start_time": "2022-03-09T08:22:02.568Z"
      },
      {
        "duration": 328,
        "start_time": "2022-03-09T08:22:02.797Z"
      },
      {
        "duration": 123,
        "start_time": "2022-03-09T08:22:03.127Z"
      },
      {
        "duration": 727,
        "start_time": "2022-03-09T08:22:03.253Z"
      },
      {
        "duration": 178,
        "start_time": "2022-03-09T08:22:03.982Z"
      },
      {
        "duration": 219,
        "start_time": "2022-03-09T08:22:04.162Z"
      },
      {
        "duration": 192,
        "start_time": "2022-03-09T08:22:04.383Z"
      },
      {
        "duration": 515,
        "start_time": "2022-03-09T08:22:04.577Z"
      },
      {
        "duration": 313,
        "start_time": "2022-03-09T08:22:05.094Z"
      },
      {
        "duration": 319,
        "start_time": "2022-03-09T08:22:05.408Z"
      },
      {
        "duration": 190,
        "start_time": "2022-03-09T08:22:05.729Z"
      },
      {
        "duration": 20,
        "start_time": "2022-03-09T08:22:05.921Z"
      },
      {
        "duration": 186,
        "start_time": "2022-03-09T08:22:05.943Z"
      },
      {
        "duration": 9,
        "start_time": "2022-03-09T08:22:06.130Z"
      },
      {
        "duration": 434,
        "start_time": "2022-03-09T08:22:06.140Z"
      },
      {
        "duration": 404,
        "start_time": "2022-03-09T08:22:06.576Z"
      },
      {
        "duration": 297,
        "start_time": "2022-03-09T08:22:06.982Z"
      },
      {
        "duration": 208,
        "start_time": "2022-03-09T08:22:07.281Z"
      },
      {
        "duration": 189,
        "start_time": "2022-03-09T08:22:07.490Z"
      },
      {
        "duration": 14,
        "start_time": "2022-03-09T08:22:07.681Z"
      },
      {
        "duration": 295,
        "start_time": "2022-03-09T08:22:07.705Z"
      },
      {
        "duration": 171,
        "start_time": "2022-03-09T08:22:08.006Z"
      },
      {
        "duration": 190,
        "start_time": "2022-03-09T08:22:08.179Z"
      },
      {
        "duration": 182,
        "start_time": "2022-03-09T08:22:08.371Z"
      },
      {
        "duration": 924,
        "start_time": "2022-03-17T13:57:40.903Z"
      },
      {
        "duration": 681,
        "start_time": "2022-03-17T13:58:12.729Z"
      },
      {
        "duration": 22,
        "start_time": "2022-03-17T13:58:13.413Z"
      },
      {
        "duration": 41,
        "start_time": "2022-03-17T13:58:13.437Z"
      },
      {
        "duration": 23,
        "start_time": "2022-03-17T13:58:13.481Z"
      },
      {
        "duration": 87,
        "start_time": "2022-03-17T13:58:13.507Z"
      },
      {
        "duration": 5,
        "start_time": "2022-03-17T13:58:13.596Z"
      },
      {
        "duration": 19,
        "start_time": "2022-03-17T13:58:13.603Z"
      },
      {
        "duration": 21,
        "start_time": "2022-03-17T13:58:13.624Z"
      },
      {
        "duration": 21,
        "start_time": "2022-03-17T13:58:13.648Z"
      },
      {
        "duration": 45,
        "start_time": "2022-03-17T13:58:13.673Z"
      },
      {
        "duration": 71,
        "start_time": "2022-03-17T13:58:13.721Z"
      },
      {
        "duration": 88,
        "start_time": "2022-03-17T13:58:13.795Z"
      },
      {
        "duration": 548,
        "start_time": "2022-03-17T13:58:13.886Z"
      },
      {
        "duration": 64,
        "start_time": "2022-03-17T13:58:14.440Z"
      },
      {
        "duration": 64,
        "start_time": "2022-03-17T13:58:14.506Z"
      },
      {
        "duration": 1292,
        "start_time": "2022-03-17T13:58:14.572Z"
      },
      {
        "duration": 861,
        "start_time": "2022-03-17T13:58:15.867Z"
      },
      {
        "duration": 554,
        "start_time": "2022-03-17T13:58:16.731Z"
      },
      {
        "duration": 473,
        "start_time": "2022-03-17T13:58:17.287Z"
      },
      {
        "duration": 515,
        "start_time": "2022-03-17T13:58:17.767Z"
      },
      {
        "duration": 534,
        "start_time": "2022-03-17T13:58:18.285Z"
      },
      {
        "duration": 235,
        "start_time": "2022-03-17T13:58:18.823Z"
      },
      {
        "duration": 1606,
        "start_time": "2022-03-17T13:58:19.061Z"
      },
      {
        "duration": 349,
        "start_time": "2022-03-17T13:58:20.671Z"
      },
      {
        "duration": 404,
        "start_time": "2022-03-17T13:58:21.023Z"
      },
      {
        "duration": 334,
        "start_time": "2022-03-17T13:58:21.430Z"
      },
      {
        "duration": 436,
        "start_time": "2022-03-17T13:58:21.768Z"
      },
      {
        "duration": 350,
        "start_time": "2022-03-17T13:58:22.206Z"
      },
      {
        "duration": 266,
        "start_time": "2022-03-17T13:58:22.559Z"
      },
      {
        "duration": 278,
        "start_time": "2022-03-17T13:58:22.828Z"
      },
      {
        "duration": 37,
        "start_time": "2022-03-17T13:58:23.108Z"
      },
      {
        "duration": 306,
        "start_time": "2022-03-17T13:58:23.167Z"
      },
      {
        "duration": 13,
        "start_time": "2022-03-17T13:58:23.476Z"
      },
      {
        "duration": 530,
        "start_time": "2022-03-17T13:58:23.492Z"
      },
      {
        "duration": 611,
        "start_time": "2022-03-17T13:58:24.025Z"
      },
      {
        "duration": 371,
        "start_time": "2022-03-17T13:58:24.638Z"
      },
      {
        "duration": 316,
        "start_time": "2022-03-17T13:58:25.011Z"
      },
      {
        "duration": 284,
        "start_time": "2022-03-17T13:58:25.329Z"
      },
      {
        "duration": 29,
        "start_time": "2022-03-17T13:58:25.615Z"
      },
      {
        "duration": 300,
        "start_time": "2022-03-17T13:58:25.647Z"
      },
      {
        "duration": 265,
        "start_time": "2022-03-17T13:58:25.954Z"
      },
      {
        "duration": 289,
        "start_time": "2022-03-17T13:58:26.222Z"
      },
      {
        "duration": 294,
        "start_time": "2022-03-17T13:58:26.513Z"
      },
      {
        "duration": 724,
        "start_time": "2022-03-17T14:26:03.852Z"
      },
      {
        "duration": 31,
        "start_time": "2022-03-17T14:26:04.580Z"
      },
      {
        "duration": 21,
        "start_time": "2022-03-17T14:26:04.614Z"
      },
      {
        "duration": 24,
        "start_time": "2022-03-17T14:26:04.668Z"
      },
      {
        "duration": 80,
        "start_time": "2022-03-17T14:26:04.694Z"
      },
      {
        "duration": 5,
        "start_time": "2022-03-17T14:26:04.776Z"
      },
      {
        "duration": 14,
        "start_time": "2022-03-17T14:26:04.784Z"
      },
      {
        "duration": 12,
        "start_time": "2022-03-17T14:26:04.801Z"
      },
      {
        "duration": 6,
        "start_time": "2022-03-17T14:26:04.815Z"
      },
      {
        "duration": 64,
        "start_time": "2022-03-17T14:26:04.825Z"
      },
      {
        "duration": 62,
        "start_time": "2022-03-17T14:26:04.892Z"
      },
      {
        "duration": 67,
        "start_time": "2022-03-17T14:26:04.969Z"
      },
      {
        "duration": 883,
        "start_time": "2022-03-17T14:26:05.039Z"
      },
      {
        "duration": 60,
        "start_time": "2022-03-17T14:26:05.925Z"
      },
      {
        "duration": 48,
        "start_time": "2022-03-17T14:26:05.989Z"
      },
      {
        "duration": 1092,
        "start_time": "2022-03-17T14:26:06.040Z"
      },
      {
        "duration": 566,
        "start_time": "2022-03-17T14:26:07.134Z"
      },
      {
        "duration": 385,
        "start_time": "2022-03-17T14:26:07.702Z"
      },
      {
        "duration": 321,
        "start_time": "2022-03-17T14:26:08.089Z"
      },
      {
        "duration": 103,
        "start_time": "2022-03-17T14:26:08.413Z"
      },
      {
        "duration": 0,
        "start_time": "2022-03-17T14:26:08.519Z"
      },
      {
        "duration": 0,
        "start_time": "2022-03-17T14:26:08.521Z"
      },
      {
        "duration": 0,
        "start_time": "2022-03-17T14:26:08.523Z"
      },
      {
        "duration": 0,
        "start_time": "2022-03-17T14:26:08.524Z"
      },
      {
        "duration": 0,
        "start_time": "2022-03-17T14:26:08.526Z"
      },
      {
        "duration": 0,
        "start_time": "2022-03-17T14:26:08.527Z"
      },
      {
        "duration": 0,
        "start_time": "2022-03-17T14:26:08.529Z"
      },
      {
        "duration": 0,
        "start_time": "2022-03-17T14:26:08.531Z"
      },
      {
        "duration": 0,
        "start_time": "2022-03-17T14:26:08.533Z"
      },
      {
        "duration": 0,
        "start_time": "2022-03-17T14:26:08.534Z"
      },
      {
        "duration": 0,
        "start_time": "2022-03-17T14:26:08.536Z"
      },
      {
        "duration": 0,
        "start_time": "2022-03-17T14:26:08.538Z"
      },
      {
        "duration": 0,
        "start_time": "2022-03-17T14:26:08.540Z"
      },
      {
        "duration": 0,
        "start_time": "2022-03-17T14:26:08.541Z"
      },
      {
        "duration": 0,
        "start_time": "2022-03-17T14:26:08.543Z"
      },
      {
        "duration": 0,
        "start_time": "2022-03-17T14:26:08.544Z"
      },
      {
        "duration": 0,
        "start_time": "2022-03-17T14:26:08.546Z"
      },
      {
        "duration": 0,
        "start_time": "2022-03-17T14:26:08.547Z"
      },
      {
        "duration": 0,
        "start_time": "2022-03-17T14:26:08.548Z"
      },
      {
        "duration": 0,
        "start_time": "2022-03-17T14:26:08.551Z"
      },
      {
        "duration": 0,
        "start_time": "2022-03-17T14:26:08.553Z"
      },
      {
        "duration": 0,
        "start_time": "2022-03-17T14:26:08.555Z"
      },
      {
        "duration": 0,
        "start_time": "2022-03-17T14:26:08.568Z"
      },
      {
        "duration": 675,
        "start_time": "2022-03-17T14:27:21.042Z"
      },
      {
        "duration": 23,
        "start_time": "2022-03-17T14:27:21.720Z"
      },
      {
        "duration": 50,
        "start_time": "2022-03-17T14:27:21.746Z"
      },
      {
        "duration": 26,
        "start_time": "2022-03-17T14:27:21.800Z"
      },
      {
        "duration": 107,
        "start_time": "2022-03-17T14:27:21.829Z"
      },
      {
        "duration": 6,
        "start_time": "2022-03-17T14:27:21.938Z"
      },
      {
        "duration": 12,
        "start_time": "2022-03-17T14:27:21.968Z"
      },
      {
        "duration": 14,
        "start_time": "2022-03-17T14:27:21.982Z"
      },
      {
        "duration": 10,
        "start_time": "2022-03-17T14:27:21.999Z"
      },
      {
        "duration": 57,
        "start_time": "2022-03-17T14:27:22.013Z"
      },
      {
        "duration": 62,
        "start_time": "2022-03-17T14:27:22.073Z"
      },
      {
        "duration": 88,
        "start_time": "2022-03-17T14:27:22.138Z"
      },
      {
        "duration": 872,
        "start_time": "2022-03-17T14:27:22.229Z"
      },
      {
        "duration": 68,
        "start_time": "2022-03-17T14:27:23.104Z"
      },
      {
        "duration": 47,
        "start_time": "2022-03-17T14:27:23.175Z"
      },
      {
        "duration": 951,
        "start_time": "2022-03-17T14:27:23.225Z"
      },
      {
        "duration": 564,
        "start_time": "2022-03-17T14:27:24.178Z"
      },
      {
        "duration": 560,
        "start_time": "2022-03-17T14:27:24.744Z"
      },
      {
        "duration": 476,
        "start_time": "2022-03-17T14:27:25.307Z"
      },
      {
        "duration": 703,
        "start_time": "2022-03-17T14:27:25.785Z"
      },
      {
        "duration": 1498,
        "start_time": "2022-03-17T14:27:26.491Z"
      },
      {
        "duration": 418,
        "start_time": "2022-03-17T14:27:27.992Z"
      },
      {
        "duration": 2125,
        "start_time": "2022-03-17T14:27:28.466Z"
      },
      {
        "duration": 686,
        "start_time": "2022-03-17T14:27:30.594Z"
      },
      {
        "duration": 524,
        "start_time": "2022-03-17T14:27:31.288Z"
      },
      {
        "duration": 417,
        "start_time": "2022-03-17T14:27:31.869Z"
      },
      {
        "duration": 602,
        "start_time": "2022-03-17T14:27:32.288Z"
      },
      {
        "duration": 693,
        "start_time": "2022-03-17T14:27:32.897Z"
      },
      {
        "duration": 164,
        "start_time": "2022-03-17T14:27:33.593Z"
      },
      {
        "duration": 0,
        "start_time": "2022-03-17T14:27:33.759Z"
      },
      {
        "duration": 0,
        "start_time": "2022-03-17T14:27:33.769Z"
      },
      {
        "duration": 0,
        "start_time": "2022-03-17T14:27:33.771Z"
      },
      {
        "duration": 0,
        "start_time": "2022-03-17T14:27:33.773Z"
      },
      {
        "duration": 0,
        "start_time": "2022-03-17T14:27:33.775Z"
      },
      {
        "duration": 0,
        "start_time": "2022-03-17T14:27:33.778Z"
      },
      {
        "duration": 0,
        "start_time": "2022-03-17T14:27:33.780Z"
      },
      {
        "duration": 0,
        "start_time": "2022-03-17T14:27:33.782Z"
      },
      {
        "duration": 0,
        "start_time": "2022-03-17T14:27:33.784Z"
      },
      {
        "duration": 0,
        "start_time": "2022-03-17T14:27:33.786Z"
      },
      {
        "duration": 0,
        "start_time": "2022-03-17T14:27:33.788Z"
      },
      {
        "duration": 0,
        "start_time": "2022-03-17T14:27:33.790Z"
      },
      {
        "duration": 0,
        "start_time": "2022-03-17T14:27:33.792Z"
      },
      {
        "duration": 0,
        "start_time": "2022-03-17T14:27:33.794Z"
      },
      {
        "duration": 771,
        "start_time": "2022-03-17T14:27:55.267Z"
      },
      {
        "duration": 38,
        "start_time": "2022-03-17T14:27:56.041Z"
      },
      {
        "duration": 27,
        "start_time": "2022-03-17T14:27:56.081Z"
      },
      {
        "duration": 56,
        "start_time": "2022-03-17T14:27:56.113Z"
      },
      {
        "duration": 99,
        "start_time": "2022-03-17T14:27:56.172Z"
      },
      {
        "duration": 4,
        "start_time": "2022-03-17T14:27:56.274Z"
      },
      {
        "duration": 13,
        "start_time": "2022-03-17T14:27:56.280Z"
      },
      {
        "duration": 18,
        "start_time": "2022-03-17T14:27:56.296Z"
      },
      {
        "duration": 8,
        "start_time": "2022-03-17T14:27:56.316Z"
      },
      {
        "duration": 64,
        "start_time": "2022-03-17T14:27:56.329Z"
      },
      {
        "duration": 80,
        "start_time": "2022-03-17T14:27:56.396Z"
      },
      {
        "duration": 64,
        "start_time": "2022-03-17T14:27:56.478Z"
      },
      {
        "duration": 875,
        "start_time": "2022-03-17T14:27:56.545Z"
      },
      {
        "duration": 63,
        "start_time": "2022-03-17T14:27:57.423Z"
      },
      {
        "duration": 51,
        "start_time": "2022-03-17T14:27:57.489Z"
      },
      {
        "duration": 1281,
        "start_time": "2022-03-17T14:27:57.542Z"
      },
      {
        "duration": 798,
        "start_time": "2022-03-17T14:27:58.826Z"
      },
      {
        "duration": 449,
        "start_time": "2022-03-17T14:27:59.627Z"
      },
      {
        "duration": 479,
        "start_time": "2022-03-17T14:28:00.078Z"
      },
      {
        "duration": 490,
        "start_time": "2022-03-17T14:28:00.560Z"
      },
      {
        "duration": 787,
        "start_time": "2022-03-17T14:28:01.053Z"
      },
      {
        "duration": 287,
        "start_time": "2022-03-17T14:28:01.842Z"
      },
      {
        "duration": 1614,
        "start_time": "2022-03-17T14:28:02.131Z"
      },
      {
        "duration": 256,
        "start_time": "2022-03-17T14:28:03.748Z"
      },
      {
        "duration": 300,
        "start_time": "2022-03-17T14:28:04.006Z"
      },
      {
        "duration": 341,
        "start_time": "2022-03-17T14:28:04.308Z"
      },
      {
        "duration": 318,
        "start_time": "2022-03-17T14:28:04.652Z"
      },
      {
        "duration": 265,
        "start_time": "2022-03-17T14:28:04.975Z"
      },
      {
        "duration": 273,
        "start_time": "2022-03-17T14:28:05.245Z"
      },
      {
        "duration": 276,
        "start_time": "2022-03-17T14:28:05.521Z"
      },
      {
        "duration": 36,
        "start_time": "2022-03-17T14:28:05.800Z"
      },
      {
        "duration": 297,
        "start_time": "2022-03-17T14:28:05.838Z"
      },
      {
        "duration": 14,
        "start_time": "2022-03-17T14:28:06.138Z"
      },
      {
        "duration": 646,
        "start_time": "2022-03-17T14:28:06.154Z"
      },
      {
        "duration": 798,
        "start_time": "2022-03-17T14:28:06.803Z"
      },
      {
        "duration": 492,
        "start_time": "2022-03-17T14:28:07.603Z"
      },
      {
        "duration": 351,
        "start_time": "2022-03-17T14:28:08.098Z"
      },
      {
        "duration": 329,
        "start_time": "2022-03-17T14:28:08.451Z"
      },
      {
        "duration": 29,
        "start_time": "2022-03-17T14:28:08.783Z"
      },
      {
        "duration": 452,
        "start_time": "2022-03-17T14:28:08.815Z"
      },
      {
        "duration": 418,
        "start_time": "2022-03-17T14:28:09.270Z"
      },
      {
        "duration": 345,
        "start_time": "2022-03-17T14:28:09.692Z"
      },
      {
        "duration": 338,
        "start_time": "2022-03-17T14:28:10.040Z"
      },
      {
        "duration": 240,
        "start_time": "2022-03-17T14:33:00.817Z"
      },
      {
        "duration": 318,
        "start_time": "2022-03-17T14:33:06.676Z"
      },
      {
        "duration": 267,
        "start_time": "2022-03-17T14:33:25.929Z"
      },
      {
        "duration": 297,
        "start_time": "2022-03-17T14:34:02.425Z"
      },
      {
        "duration": 369,
        "start_time": "2022-03-17T14:34:17.911Z"
      },
      {
        "duration": 306,
        "start_time": "2022-03-17T14:34:27.389Z"
      },
      {
        "duration": 300,
        "start_time": "2022-03-17T14:34:39.521Z"
      },
      {
        "duration": 275,
        "start_time": "2022-03-17T14:34:56.004Z"
      },
      {
        "duration": 267,
        "start_time": "2022-03-17T14:35:16.290Z"
      },
      {
        "duration": 282,
        "start_time": "2022-03-17T14:35:38.626Z"
      },
      {
        "duration": 357,
        "start_time": "2022-03-17T14:35:47.057Z"
      },
      {
        "duration": 362,
        "start_time": "2022-03-17T14:36:08.057Z"
      },
      {
        "duration": 362,
        "start_time": "2022-03-17T14:36:16.499Z"
      },
      {
        "duration": 305,
        "start_time": "2022-03-17T14:36:22.014Z"
      },
      {
        "duration": 292,
        "start_time": "2022-03-17T14:36:26.632Z"
      },
      {
        "duration": 287,
        "start_time": "2022-03-17T14:36:36.804Z"
      },
      {
        "duration": 299,
        "start_time": "2022-03-17T14:36:43.005Z"
      },
      {
        "duration": 298,
        "start_time": "2022-03-17T14:36:46.448Z"
      },
      {
        "duration": 295,
        "start_time": "2022-03-17T14:37:04.106Z"
      },
      {
        "duration": 296,
        "start_time": "2022-03-17T14:37:20.819Z"
      },
      {
        "duration": 258,
        "start_time": "2022-03-17T14:37:33.892Z"
      },
      {
        "duration": 246,
        "start_time": "2022-03-17T14:37:56.708Z"
      },
      {
        "duration": 225,
        "start_time": "2022-03-17T14:39:10.120Z"
      },
      {
        "duration": 245,
        "start_time": "2022-03-17T14:39:33.567Z"
      },
      {
        "duration": 454,
        "start_time": "2022-03-17T14:39:39.230Z"
      },
      {
        "duration": 978,
        "start_time": "2022-03-17T14:40:23.629Z"
      },
      {
        "duration": 1113,
        "start_time": "2022-03-17T14:40:49.896Z"
      },
      {
        "duration": 258,
        "start_time": "2022-03-17T14:41:00.546Z"
      },
      {
        "duration": 316,
        "start_time": "2022-03-17T14:41:08.370Z"
      },
      {
        "duration": 245,
        "start_time": "2022-03-17T14:41:35.157Z"
      },
      {
        "duration": 413,
        "start_time": "2022-03-17T14:41:51.491Z"
      },
      {
        "duration": 238,
        "start_time": "2022-03-17T14:42:24.616Z"
      },
      {
        "duration": 307,
        "start_time": "2022-03-17T14:42:43.664Z"
      },
      {
        "duration": 393,
        "start_time": "2022-03-17T14:43:19.918Z"
      },
      {
        "duration": 742,
        "start_time": "2022-03-17T14:47:29.126Z"
      },
      {
        "duration": 23,
        "start_time": "2022-03-17T14:47:29.870Z"
      },
      {
        "duration": 26,
        "start_time": "2022-03-17T14:47:29.895Z"
      },
      {
        "duration": 51,
        "start_time": "2022-03-17T14:47:29.925Z"
      },
      {
        "duration": 55,
        "start_time": "2022-03-17T14:47:29.978Z"
      },
      {
        "duration": 34,
        "start_time": "2022-03-17T14:47:30.035Z"
      },
      {
        "duration": 20,
        "start_time": "2022-03-17T14:47:30.072Z"
      },
      {
        "duration": 14,
        "start_time": "2022-03-17T14:47:30.094Z"
      },
      {
        "duration": 21,
        "start_time": "2022-03-17T14:47:30.110Z"
      },
      {
        "duration": 39,
        "start_time": "2022-03-17T14:47:30.135Z"
      },
      {
        "duration": 43,
        "start_time": "2022-03-17T14:47:30.176Z"
      },
      {
        "duration": 73,
        "start_time": "2022-03-17T14:47:30.221Z"
      },
      {
        "duration": 561,
        "start_time": "2022-03-17T14:47:30.296Z"
      },
      {
        "duration": 43,
        "start_time": "2022-03-17T14:47:30.859Z"
      },
      {
        "duration": 38,
        "start_time": "2022-03-17T14:47:30.904Z"
      },
      {
        "duration": 1330,
        "start_time": "2022-03-17T14:47:30.944Z"
      },
      {
        "duration": 749,
        "start_time": "2022-03-17T14:47:32.277Z"
      },
      {
        "duration": 409,
        "start_time": "2022-03-17T14:47:33.029Z"
      },
      {
        "duration": 329,
        "start_time": "2022-03-17T14:47:33.441Z"
      },
      {
        "duration": 350,
        "start_time": "2022-03-17T14:47:33.773Z"
      },
      {
        "duration": 504,
        "start_time": "2022-03-17T14:47:34.126Z"
      },
      {
        "duration": 192,
        "start_time": "2022-03-17T14:47:34.632Z"
      },
      {
        "duration": 1115,
        "start_time": "2022-03-17T14:47:34.827Z"
      },
      {
        "duration": 276,
        "start_time": "2022-03-17T14:47:35.945Z"
      },
      {
        "duration": 306,
        "start_time": "2022-03-17T14:47:36.224Z"
      },
      {
        "duration": 266,
        "start_time": "2022-03-17T14:47:36.532Z"
      },
      {
        "duration": 343,
        "start_time": "2022-03-17T14:47:36.800Z"
      },
      {
        "duration": 270,
        "start_time": "2022-03-17T14:47:37.148Z"
      },
      {
        "duration": 290,
        "start_time": "2022-03-17T14:47:37.420Z"
      },
      {
        "duration": 383,
        "start_time": "2022-03-17T14:47:37.713Z"
      },
      {
        "duration": 51,
        "start_time": "2022-03-17T14:47:38.100Z"
      },
      {
        "duration": 279,
        "start_time": "2022-03-17T14:47:38.167Z"
      },
      {
        "duration": 22,
        "start_time": "2022-03-17T14:47:38.448Z"
      },
      {
        "duration": 538,
        "start_time": "2022-03-17T14:47:38.473Z"
      },
      {
        "duration": 693,
        "start_time": "2022-03-17T14:47:39.014Z"
      },
      {
        "duration": 441,
        "start_time": "2022-03-17T14:47:39.710Z"
      },
      {
        "duration": 386,
        "start_time": "2022-03-17T14:47:40.153Z"
      },
      {
        "duration": 364,
        "start_time": "2022-03-17T14:47:40.543Z"
      },
      {
        "duration": 32,
        "start_time": "2022-03-17T14:47:40.910Z"
      },
      {
        "duration": 337,
        "start_time": "2022-03-17T14:47:40.944Z"
      },
      {
        "duration": 293,
        "start_time": "2022-03-17T14:47:41.284Z"
      },
      {
        "duration": 316,
        "start_time": "2022-03-17T14:47:41.579Z"
      },
      {
        "duration": 328,
        "start_time": "2022-03-17T14:47:41.898Z"
      },
      {
        "duration": 106,
        "start_time": "2022-03-17T14:47:42.229Z"
      },
      {
        "duration": 886,
        "start_time": "2022-03-17T14:50:07.097Z"
      },
      {
        "duration": 31,
        "start_time": "2022-03-17T14:50:07.986Z"
      },
      {
        "duration": 59,
        "start_time": "2022-03-17T14:50:08.020Z"
      },
      {
        "duration": 26,
        "start_time": "2022-03-17T14:50:08.083Z"
      },
      {
        "duration": 105,
        "start_time": "2022-03-17T14:50:08.112Z"
      },
      {
        "duration": 5,
        "start_time": "2022-03-17T14:50:08.220Z"
      },
      {
        "duration": 21,
        "start_time": "2022-03-17T14:50:08.228Z"
      },
      {
        "duration": 32,
        "start_time": "2022-03-17T14:50:08.251Z"
      },
      {
        "duration": 9,
        "start_time": "2022-03-17T14:50:08.286Z"
      },
      {
        "duration": 22,
        "start_time": "2022-03-17T14:50:08.299Z"
      },
      {
        "duration": 69,
        "start_time": "2022-03-17T14:50:08.323Z"
      },
      {
        "duration": 47,
        "start_time": "2022-03-17T14:50:08.394Z"
      },
      {
        "duration": 883,
        "start_time": "2022-03-17T14:50:08.444Z"
      },
      {
        "duration": 65,
        "start_time": "2022-03-17T14:50:09.329Z"
      },
      {
        "duration": 51,
        "start_time": "2022-03-17T14:50:09.397Z"
      },
      {
        "duration": 1283,
        "start_time": "2022-03-17T14:50:09.467Z"
      },
      {
        "duration": 586,
        "start_time": "2022-03-17T14:50:10.753Z"
      },
      {
        "duration": 428,
        "start_time": "2022-03-17T14:50:11.342Z"
      },
      {
        "duration": 323,
        "start_time": "2022-03-17T14:50:11.772Z"
      },
      {
        "duration": 365,
        "start_time": "2022-03-17T14:50:12.098Z"
      },
      {
        "duration": 569,
        "start_time": "2022-03-17T14:50:12.469Z"
      },
      {
        "duration": 203,
        "start_time": "2022-03-17T14:50:13.041Z"
      },
      {
        "duration": 1645,
        "start_time": "2022-03-17T14:50:13.247Z"
      },
      {
        "duration": 377,
        "start_time": "2022-03-17T14:50:14.894Z"
      },
      {
        "duration": 308,
        "start_time": "2022-03-17T14:50:15.274Z"
      },
      {
        "duration": 258,
        "start_time": "2022-03-17T14:50:15.584Z"
      },
      {
        "duration": 350,
        "start_time": "2022-03-17T14:50:15.844Z"
      },
      {
        "duration": 310,
        "start_time": "2022-03-17T14:50:16.201Z"
      },
      {
        "duration": 302,
        "start_time": "2022-03-17T14:50:16.513Z"
      },
      {
        "duration": 376,
        "start_time": "2022-03-17T14:50:16.818Z"
      },
      {
        "duration": 50,
        "start_time": "2022-03-17T14:50:17.197Z"
      },
      {
        "duration": 402,
        "start_time": "2022-03-17T14:50:17.268Z"
      },
      {
        "duration": 13,
        "start_time": "2022-03-17T14:50:17.672Z"
      },
      {
        "duration": 570,
        "start_time": "2022-03-17T14:50:17.687Z"
      },
      {
        "duration": 616,
        "start_time": "2022-03-17T14:50:18.259Z"
      },
      {
        "duration": 376,
        "start_time": "2022-03-17T14:50:18.877Z"
      },
      {
        "duration": 318,
        "start_time": "2022-03-17T14:50:19.255Z"
      },
      {
        "duration": 317,
        "start_time": "2022-03-17T14:50:19.575Z"
      },
      {
        "duration": 26,
        "start_time": "2022-03-17T14:50:19.894Z"
      },
      {
        "duration": 314,
        "start_time": "2022-03-17T14:50:19.922Z"
      },
      {
        "duration": 285,
        "start_time": "2022-03-17T14:50:20.238Z"
      },
      {
        "duration": 365,
        "start_time": "2022-03-17T14:50:20.526Z"
      },
      {
        "duration": 323,
        "start_time": "2022-03-17T14:50:20.894Z"
      }
    ],
    "kernelspec": {
      "name": "python",
      "display_name": "Python (Pyodide)",
      "language": "python"
    },
    "language_info": {
      "codemirror_mode": {
        "name": "python",
        "version": 3
      },
      "file_extension": ".py",
      "mimetype": "text/x-python",
      "name": "python",
      "nbconvert_exporter": "python",
      "pygments_lexer": "ipython3",
      "version": "3.8"
    },
    "toc": {
      "base_numbering": 1,
      "nav_menu": {},
      "number_sections": true,
      "sideBar": true,
      "skip_h1_title": true,
      "title_cell": "Содержание",
      "title_sidebar": "Contents",
      "toc_cell": true,
      "toc_position": {
        "height": "calc(100% - 180px)",
        "left": "10px",
        "top": "150px",
        "width": "165px"
      },
      "toc_section_display": true,
      "toc_window_display": true
    }
  },
  "nbformat_minor": 4,
  "nbformat": 4,
  "cells": [
    {
      "cell_type": "markdown",
      "source": "<h1>Содержание<span class=\"tocSkip\"></span></h1>\n<div class=\"toc\"><ul class=\"toc-item\"><li><span><a href=\"#Изучение-данных-из-файла\" data-toc-modified-id=\"Изучение-данных-из-файла-1\"><span class=\"toc-item-num\">1&nbsp;&nbsp;</span>Изучение данных из файла</a></span><ul class=\"toc-item\"><li><span><a href=\"#Вывод\" data-toc-modified-id=\"Вывод-1.1\"><span class=\"toc-item-num\">1.1&nbsp;&nbsp;</span>Вывод</a></span></li></ul></li><li><span><a href=\"#Предобработка-данных\" data-toc-modified-id=\"Предобработка-данных-2\"><span class=\"toc-item-num\">2&nbsp;&nbsp;</span>Предобработка данных</a></span><ul class=\"toc-item\"><li><span><a href=\"#Заполнение-пропусков\" data-toc-modified-id=\"Заполнение-пропусков-2.1\"><span class=\"toc-item-num\">2.1&nbsp;&nbsp;</span>Заполнение пропусков</a></span></li><li><span><a href=\"#Изменение-типов-данных\" data-toc-modified-id=\"Изменение-типов-данных-2.2\"><span class=\"toc-item-num\">2.2&nbsp;&nbsp;</span>Изменение типов данных</a></span></li></ul></li><li><span><a href=\"#Расчёты-и-добавление-результатов-в-таблицу\" data-toc-modified-id=\"Расчёты-и-добавление-результатов-в-таблицу-3\"><span class=\"toc-item-num\">3&nbsp;&nbsp;</span>Расчёты и добавление результатов в таблицу</a></span></li><li><span><a href=\"#Исследовательский-анализ-данных\" data-toc-modified-id=\"Исследовательский-анализ-данных-4\"><span class=\"toc-item-num\">4&nbsp;&nbsp;</span>Исследовательский анализ данных</a></span></li><li><span><a href=\"#Общий-вывод\" data-toc-modified-id=\"Общий-вывод-5\"><span class=\"toc-item-num\">5&nbsp;&nbsp;</span>Общий вывод</a></span></li><li><span><a href=\"#Чек-лист-готовности-проекта\" data-toc-modified-id=\"Чек-лист-готовности-проекта-6\"><span class=\"toc-item-num\">6&nbsp;&nbsp;</span>Чек-лист готовности проекта</a></span></li></ul></div>",
      "metadata": {
        "toc": true
      }
    },
    {
      "cell_type": "markdown",
      "source": "# Исследование объявлений о продаже квартир\n\nВ вашем распоряжении данные сервиса Яндекc Недвижимость — архив объявлений о продаже квартир в Санкт-Петербурге и соседних населённых пунктах за несколько лет. Нужно научиться определять рыночную стоимость объектов недвижимости. Ваша задача — установить параметры. Это позволит построить автоматизированную систему: она отследит аномалии и мошенническую деятельность. \n\nПо каждой квартире на продажу доступны два вида данных. Первые вписаны пользователем, вторые получены автоматически на основе картографических данных. Например, расстояние до центра, аэропорта, ближайшего парка и водоёма. ",
      "metadata": {}
    },
    {
      "cell_type": "markdown",
      "source": "## Изучение данных из файла",
      "metadata": {}
    },
    {
      "cell_type": "code",
      "source": "import pandas as pd\ndata = pd.read_csv('/datasets/real_estate_data.csv', sep='\\t')\ndata.head(10)\n",
      "metadata": {
        "scrolled": true
      },
      "execution_count": 1,
      "outputs": [
        {
          "execution_count": 1,
          "output_type": "execute_result",
          "data": {
            "text/html": [
              "<div>\n",
              "<style scoped>\n",
              "    .dataframe tbody tr th:only-of-type {\n",
              "        vertical-align: middle;\n",
              "    }\n",
              "\n",
              "    .dataframe tbody tr th {\n",
              "        vertical-align: top;\n",
              "    }\n",
              "\n",
              "    .dataframe thead th {\n",
              "        text-align: right;\n",
              "    }\n",
              "</style>\n",
              "<table border=\"1\" class=\"dataframe\">\n",
              "  <thead>\n",
              "    <tr style=\"text-align: right;\">\n",
              "      <th></th>\n",
              "      <th>total_images</th>\n",
              "      <th>last_price</th>\n",
              "      <th>total_area</th>\n",
              "      <th>first_day_exposition</th>\n",
              "      <th>rooms</th>\n",
              "      <th>ceiling_height</th>\n",
              "      <th>floors_total</th>\n",
              "      <th>living_area</th>\n",
              "      <th>floor</th>\n",
              "      <th>is_apartment</th>\n",
              "      <th>...</th>\n",
              "      <th>kitchen_area</th>\n",
              "      <th>balcony</th>\n",
              "      <th>locality_name</th>\n",
              "      <th>airports_nearest</th>\n",
              "      <th>cityCenters_nearest</th>\n",
              "      <th>parks_around3000</th>\n",
              "      <th>parks_nearest</th>\n",
              "      <th>ponds_around3000</th>\n",
              "      <th>ponds_nearest</th>\n",
              "      <th>days_exposition</th>\n",
              "    </tr>\n",
              "  </thead>\n",
              "  <tbody>\n",
              "    <tr>\n",
              "      <th>0</th>\n",
              "      <td>20</td>\n",
              "      <td>13000000.0</td>\n",
              "      <td>108.00</td>\n",
              "      <td>2019-03-07T00:00:00</td>\n",
              "      <td>3</td>\n",
              "      <td>2.70</td>\n",
              "      <td>16.0</td>\n",
              "      <td>51.00</td>\n",
              "      <td>8</td>\n",
              "      <td>NaN</td>\n",
              "      <td>...</td>\n",
              "      <td>25.00</td>\n",
              "      <td>NaN</td>\n",
              "      <td>Санкт-Петербург</td>\n",
              "      <td>18863.0</td>\n",
              "      <td>16028.0</td>\n",
              "      <td>1.0</td>\n",
              "      <td>482.0</td>\n",
              "      <td>2.0</td>\n",
              "      <td>755.0</td>\n",
              "      <td>NaN</td>\n",
              "    </tr>\n",
              "    <tr>\n",
              "      <th>1</th>\n",
              "      <td>7</td>\n",
              "      <td>3350000.0</td>\n",
              "      <td>40.40</td>\n",
              "      <td>2018-12-04T00:00:00</td>\n",
              "      <td>1</td>\n",
              "      <td>NaN</td>\n",
              "      <td>11.0</td>\n",
              "      <td>18.60</td>\n",
              "      <td>1</td>\n",
              "      <td>NaN</td>\n",
              "      <td>...</td>\n",
              "      <td>11.00</td>\n",
              "      <td>2.0</td>\n",
              "      <td>посёлок Шушары</td>\n",
              "      <td>12817.0</td>\n",
              "      <td>18603.0</td>\n",
              "      <td>0.0</td>\n",
              "      <td>NaN</td>\n",
              "      <td>0.0</td>\n",
              "      <td>NaN</td>\n",
              "      <td>81.0</td>\n",
              "    </tr>\n",
              "    <tr>\n",
              "      <th>2</th>\n",
              "      <td>10</td>\n",
              "      <td>5196000.0</td>\n",
              "      <td>56.00</td>\n",
              "      <td>2015-08-20T00:00:00</td>\n",
              "      <td>2</td>\n",
              "      <td>NaN</td>\n",
              "      <td>5.0</td>\n",
              "      <td>34.30</td>\n",
              "      <td>4</td>\n",
              "      <td>NaN</td>\n",
              "      <td>...</td>\n",
              "      <td>8.30</td>\n",
              "      <td>0.0</td>\n",
              "      <td>Санкт-Петербург</td>\n",
              "      <td>21741.0</td>\n",
              "      <td>13933.0</td>\n",
              "      <td>1.0</td>\n",
              "      <td>90.0</td>\n",
              "      <td>2.0</td>\n",
              "      <td>574.0</td>\n",
              "      <td>558.0</td>\n",
              "    </tr>\n",
              "    <tr>\n",
              "      <th>3</th>\n",
              "      <td>0</td>\n",
              "      <td>64900000.0</td>\n",
              "      <td>159.00</td>\n",
              "      <td>2015-07-24T00:00:00</td>\n",
              "      <td>3</td>\n",
              "      <td>NaN</td>\n",
              "      <td>14.0</td>\n",
              "      <td>NaN</td>\n",
              "      <td>9</td>\n",
              "      <td>NaN</td>\n",
              "      <td>...</td>\n",
              "      <td>NaN</td>\n",
              "      <td>0.0</td>\n",
              "      <td>Санкт-Петербург</td>\n",
              "      <td>28098.0</td>\n",
              "      <td>6800.0</td>\n",
              "      <td>2.0</td>\n",
              "      <td>84.0</td>\n",
              "      <td>3.0</td>\n",
              "      <td>234.0</td>\n",
              "      <td>424.0</td>\n",
              "    </tr>\n",
              "    <tr>\n",
              "      <th>4</th>\n",
              "      <td>2</td>\n",
              "      <td>10000000.0</td>\n",
              "      <td>100.00</td>\n",
              "      <td>2018-06-19T00:00:00</td>\n",
              "      <td>2</td>\n",
              "      <td>3.03</td>\n",
              "      <td>14.0</td>\n",
              "      <td>32.00</td>\n",
              "      <td>13</td>\n",
              "      <td>NaN</td>\n",
              "      <td>...</td>\n",
              "      <td>41.00</td>\n",
              "      <td>NaN</td>\n",
              "      <td>Санкт-Петербург</td>\n",
              "      <td>31856.0</td>\n",
              "      <td>8098.0</td>\n",
              "      <td>2.0</td>\n",
              "      <td>112.0</td>\n",
              "      <td>1.0</td>\n",
              "      <td>48.0</td>\n",
              "      <td>121.0</td>\n",
              "    </tr>\n",
              "    <tr>\n",
              "      <th>5</th>\n",
              "      <td>10</td>\n",
              "      <td>2890000.0</td>\n",
              "      <td>30.40</td>\n",
              "      <td>2018-09-10T00:00:00</td>\n",
              "      <td>1</td>\n",
              "      <td>NaN</td>\n",
              "      <td>12.0</td>\n",
              "      <td>14.40</td>\n",
              "      <td>5</td>\n",
              "      <td>NaN</td>\n",
              "      <td>...</td>\n",
              "      <td>9.10</td>\n",
              "      <td>NaN</td>\n",
              "      <td>городской посёлок Янино-1</td>\n",
              "      <td>NaN</td>\n",
              "      <td>NaN</td>\n",
              "      <td>NaN</td>\n",
              "      <td>NaN</td>\n",
              "      <td>NaN</td>\n",
              "      <td>NaN</td>\n",
              "      <td>55.0</td>\n",
              "    </tr>\n",
              "    <tr>\n",
              "      <th>6</th>\n",
              "      <td>6</td>\n",
              "      <td>3700000.0</td>\n",
              "      <td>37.30</td>\n",
              "      <td>2017-11-02T00:00:00</td>\n",
              "      <td>1</td>\n",
              "      <td>NaN</td>\n",
              "      <td>26.0</td>\n",
              "      <td>10.60</td>\n",
              "      <td>6</td>\n",
              "      <td>NaN</td>\n",
              "      <td>...</td>\n",
              "      <td>14.40</td>\n",
              "      <td>1.0</td>\n",
              "      <td>посёлок Парголово</td>\n",
              "      <td>52996.0</td>\n",
              "      <td>19143.0</td>\n",
              "      <td>0.0</td>\n",
              "      <td>NaN</td>\n",
              "      <td>0.0</td>\n",
              "      <td>NaN</td>\n",
              "      <td>155.0</td>\n",
              "    </tr>\n",
              "    <tr>\n",
              "      <th>7</th>\n",
              "      <td>5</td>\n",
              "      <td>7915000.0</td>\n",
              "      <td>71.60</td>\n",
              "      <td>2019-04-18T00:00:00</td>\n",
              "      <td>2</td>\n",
              "      <td>NaN</td>\n",
              "      <td>24.0</td>\n",
              "      <td>NaN</td>\n",
              "      <td>22</td>\n",
              "      <td>NaN</td>\n",
              "      <td>...</td>\n",
              "      <td>18.90</td>\n",
              "      <td>2.0</td>\n",
              "      <td>Санкт-Петербург</td>\n",
              "      <td>23982.0</td>\n",
              "      <td>11634.0</td>\n",
              "      <td>0.0</td>\n",
              "      <td>NaN</td>\n",
              "      <td>0.0</td>\n",
              "      <td>NaN</td>\n",
              "      <td>NaN</td>\n",
              "    </tr>\n",
              "    <tr>\n",
              "      <th>8</th>\n",
              "      <td>20</td>\n",
              "      <td>2900000.0</td>\n",
              "      <td>33.16</td>\n",
              "      <td>2018-05-23T00:00:00</td>\n",
              "      <td>1</td>\n",
              "      <td>NaN</td>\n",
              "      <td>27.0</td>\n",
              "      <td>15.43</td>\n",
              "      <td>26</td>\n",
              "      <td>NaN</td>\n",
              "      <td>...</td>\n",
              "      <td>8.81</td>\n",
              "      <td>NaN</td>\n",
              "      <td>посёлок Мурино</td>\n",
              "      <td>NaN</td>\n",
              "      <td>NaN</td>\n",
              "      <td>NaN</td>\n",
              "      <td>NaN</td>\n",
              "      <td>NaN</td>\n",
              "      <td>NaN</td>\n",
              "      <td>189.0</td>\n",
              "    </tr>\n",
              "    <tr>\n",
              "      <th>9</th>\n",
              "      <td>18</td>\n",
              "      <td>5400000.0</td>\n",
              "      <td>61.00</td>\n",
              "      <td>2017-02-26T00:00:00</td>\n",
              "      <td>3</td>\n",
              "      <td>2.50</td>\n",
              "      <td>9.0</td>\n",
              "      <td>43.60</td>\n",
              "      <td>7</td>\n",
              "      <td>NaN</td>\n",
              "      <td>...</td>\n",
              "      <td>6.50</td>\n",
              "      <td>2.0</td>\n",
              "      <td>Санкт-Петербург</td>\n",
              "      <td>50898.0</td>\n",
              "      <td>15008.0</td>\n",
              "      <td>0.0</td>\n",
              "      <td>NaN</td>\n",
              "      <td>0.0</td>\n",
              "      <td>NaN</td>\n",
              "      <td>289.0</td>\n",
              "    </tr>\n",
              "  </tbody>\n",
              "</table>\n",
              "<p>10 rows × 22 columns</p>\n",
              "</div>"
            ],
            "text/plain": [
              "   total_images  last_price  total_area first_day_exposition  rooms  \\\n",
              "0            20  13000000.0      108.00  2019-03-07T00:00:00      3   \n",
              "1             7   3350000.0       40.40  2018-12-04T00:00:00      1   \n",
              "2            10   5196000.0       56.00  2015-08-20T00:00:00      2   \n",
              "3             0  64900000.0      159.00  2015-07-24T00:00:00      3   \n",
              "4             2  10000000.0      100.00  2018-06-19T00:00:00      2   \n",
              "5            10   2890000.0       30.40  2018-09-10T00:00:00      1   \n",
              "6             6   3700000.0       37.30  2017-11-02T00:00:00      1   \n",
              "7             5   7915000.0       71.60  2019-04-18T00:00:00      2   \n",
              "8            20   2900000.0       33.16  2018-05-23T00:00:00      1   \n",
              "9            18   5400000.0       61.00  2017-02-26T00:00:00      3   \n",
              "\n",
              "   ceiling_height  floors_total  living_area  floor is_apartment  ...  \\\n",
              "0            2.70          16.0        51.00      8          NaN  ...   \n",
              "1             NaN          11.0        18.60      1          NaN  ...   \n",
              "2             NaN           5.0        34.30      4          NaN  ...   \n",
              "3             NaN          14.0          NaN      9          NaN  ...   \n",
              "4            3.03          14.0        32.00     13          NaN  ...   \n",
              "5             NaN          12.0        14.40      5          NaN  ...   \n",
              "6             NaN          26.0        10.60      6          NaN  ...   \n",
              "7             NaN          24.0          NaN     22          NaN  ...   \n",
              "8             NaN          27.0        15.43     26          NaN  ...   \n",
              "9            2.50           9.0        43.60      7          NaN  ...   \n",
              "\n",
              "   kitchen_area  balcony              locality_name  airports_nearest  \\\n",
              "0         25.00      NaN            Санкт-Петербург           18863.0   \n",
              "1         11.00      2.0             посёлок Шушары           12817.0   \n",
              "2          8.30      0.0            Санкт-Петербург           21741.0   \n",
              "3           NaN      0.0            Санкт-Петербург           28098.0   \n",
              "4         41.00      NaN            Санкт-Петербург           31856.0   \n",
              "5          9.10      NaN  городской посёлок Янино-1               NaN   \n",
              "6         14.40      1.0          посёлок Парголово           52996.0   \n",
              "7         18.90      2.0            Санкт-Петербург           23982.0   \n",
              "8          8.81      NaN             посёлок Мурино               NaN   \n",
              "9          6.50      2.0            Санкт-Петербург           50898.0   \n",
              "\n",
              "  cityCenters_nearest  parks_around3000  parks_nearest  ponds_around3000  \\\n",
              "0             16028.0               1.0          482.0               2.0   \n",
              "1             18603.0               0.0            NaN               0.0   \n",
              "2             13933.0               1.0           90.0               2.0   \n",
              "3              6800.0               2.0           84.0               3.0   \n",
              "4              8098.0               2.0          112.0               1.0   \n",
              "5                 NaN               NaN            NaN               NaN   \n",
              "6             19143.0               0.0            NaN               0.0   \n",
              "7             11634.0               0.0            NaN               0.0   \n",
              "8                 NaN               NaN            NaN               NaN   \n",
              "9             15008.0               0.0            NaN               0.0   \n",
              "\n",
              "   ponds_nearest  days_exposition  \n",
              "0          755.0              NaN  \n",
              "1            NaN             81.0  \n",
              "2          574.0            558.0  \n",
              "3          234.0            424.0  \n",
              "4           48.0            121.0  \n",
              "5            NaN             55.0  \n",
              "6            NaN            155.0  \n",
              "7            NaN              NaN  \n",
              "8            NaN            189.0  \n",
              "9            NaN            289.0  \n",
              "\n",
              "[10 rows x 22 columns]"
            ]
          },
          "metadata": {}
        }
      ]
    },
    {
      "cell_type": "code",
      "source": "data.info()",
      "metadata": {},
      "execution_count": 2,
      "outputs": [
        {
          "name": "stdout",
          "output_type": "stream",
          "text": "<class 'pandas.core.frame.DataFrame'>\n\nRangeIndex: 23699 entries, 0 to 23698\n\nData columns (total 22 columns):\n\n #   Column                Non-Null Count  Dtype  \n\n---  ------                --------------  -----  \n\n 0   total_images          23699 non-null  int64  \n\n 1   last_price            23699 non-null  float64\n\n 2   total_area            23699 non-null  float64\n\n 3   first_day_exposition  23699 non-null  object \n\n 4   rooms                 23699 non-null  int64  \n\n 5   ceiling_height        14504 non-null  float64\n\n 6   floors_total          23613 non-null  float64\n\n 7   living_area           21796 non-null  float64\n\n 8   floor                 23699 non-null  int64  \n\n 9   is_apartment          2775 non-null   object \n\n 10  studio                23699 non-null  bool   \n\n 11  open_plan             23699 non-null  bool   \n\n 12  kitchen_area          21421 non-null  float64\n\n 13  balcony               12180 non-null  float64\n\n 14  locality_name         23650 non-null  object \n\n 15  airports_nearest      18157 non-null  float64\n\n 16  cityCenters_nearest   18180 non-null  float64\n\n 17  parks_around3000      18181 non-null  float64\n\n 18  parks_nearest         8079 non-null   float64\n\n 19  ponds_around3000      18181 non-null  float64\n\n 20  ponds_nearest         9110 non-null   float64\n\n 21  days_exposition       20518 non-null  float64\n\ndtypes: bool(2), float64(14), int64(3), object(3)\n\nmemory usage: 3.7+ MB\n"
        }
      ]
    },
    {
      "cell_type": "markdown",
      "source": "### Вывод",
      "metadata": {}
    },
    {
      "cell_type": "markdown",
      "source": "Первичный анализ данных о  объявлений о продаже квартир показал:\n1. В таблице представлена информация: airports_nearest — расстояние до ближайшего аэропорта в метрах (м), balcony — число балконов, ceiling_height — высота потолков (м), cityCenters_nearest — расстояние до центра города (м), days_exposition — сколько дней было размещено объявление (от публикации до снятия), first_day_exposition — дата публикации, floor — этаж, floors_total — всего этажей в доме, is_apartment — апартаменты (булев тип), kitchen_area — площадь кухни в квадратных метрах (м²), last_price — цена на момент снятия с публикации, living_area — жилая площадь в квадратных метрах (м²), locality_name — название населённого пункта, open_plan — свободная планировка (булев тип), parks_around3000 — число парков в радиусе 3 км, parks_nearest — расстояние до ближайшего парка (м), ponds_around3000 — число водоёмов в радиусе 3 км, ponds_nearest — расстояние до ближайшего водоёма (м), rooms — число комнат, studio — квартира-студия (булев тип), total_area — площадь квартиры в квадратных метрах (м²), total_images — число фотографий квартиры в объявлении.\n\n2. Существуют пропуски в следующих столбцах: высота потолков (ceiling_height), жилая площадь (living_area), апартаменты (is_apartment), площадь кухни (kitchen_area), balcony (число балконов), airports_nearest (расстояние до ближайшего аэропорта), расстояние до центра города (cityCenters_nearest), число парков в радиусе 3 км (parks_around3000), расстояние до ближайшего парк (parks_nearest), число водоёмов в радиусе 3 км (ponds_around3000), расстояние до ближайшего водоёма (ponds_nearest), сколько дней было размещено объявление (days_exposition).",
      "metadata": {}
    },
    {
      "cell_type": "markdown",
      "source": "Из анализа общей информации о таблице данных видно:\n1. что есть пропуски в высоте потолков (ceiling_height), количеству этажей в доме (floors_total), жилой площади (living_area), признаку апартамент (is_apartment), площади кухни (kitchen_area), количеству балконов (balcony), названию населённого пункта (locality_name), расстоянии до ближайшего аэропорта (airports_nearest), расстоянии до центра города (cityCenters_nearest), числе парков в радиусе 3 км (parks_around3000), расстоянии до ближайшего парка (parks_nearest), числе водоёмов в радиусе 3 км (ponds_around3000), расстоянии до ближайшего водоёма (ponds_nearest), длительности размещения объявления (days_exposition).\n2. Число балконов (balcony), сколько дней было размещено объявление (от публикации до снятия) (days_exposition), количество этажей в доме (floors_total), число парков в радиусе 3 км (parks_around3000), число водоёмов в радиусе 3 км сохранены как вещественные числа, хотя это целые.\n3. Дата рамещения сохранена, как строки.\n4. Булевая переменная с признаком апартамент сохранена, как строки.\n",
      "metadata": {}
    },
    {
      "cell_type": "markdown",
      "source": "## Предобработка данных\n### Заполнение пропусков",
      "metadata": {}
    },
    {
      "cell_type": "markdown",
      "source": "Обзор данных на предыдущем шаге показал, что в высоте потолков (ceiling_height), количеству этажей в доме (floors_total), жилой площади (living_area), признаку апартамент (is_apartment), площади кухни (kitchen_area), количеству балконов (balcony), названию населённого пункта (locality_name), расстоянии до ближайшего аэропорта (airports_nearest), расстоянии до центра города (cityCenters_nearest), числе парков в радиусе 3 км (parks_around3000), расстоянии до ближайшего парка (parks_nearest), числе водоёмов в радиусе 3 км (ponds_around3000), расстоянии до ближайшего водоёма (ponds_nearest), длительности размещения объявления (days_exposition) есть пропуски. Предположительно связано это с ошибкой выгрузки, но есть и логические пропуски: количество балконов (их нет), признак апартамента (это нежилая недвижимость), количество парков или прудов, а как следствие и расстояние до них (их нет).",
      "metadata": {}
    },
    {
      "cell_type": "markdown",
      "source": "Для дальнейшего анализа и расчетов заменим логические пропуски: количество балконов, признак апартамента, количество парков или прудов и расстояние до них на ноль.",
      "metadata": {}
    },
    {
      "cell_type": "code",
      "source": "data['balcony'] = data['balcony'].fillna(value=0)\ndata['is_apartment'] = data['is_apartment'].fillna(value=0)\ndata['parks_around3000'] = data['parks_around3000'].fillna(value=0)\ndata['ponds_around3000'] = data['ponds_around3000'].fillna(value=0)\ndata['ponds_nearest'] = data['ponds_nearest'].fillna(value=0)\ndata['parks_nearest'] = data['parks_nearest'].fillna(value=0)",
      "metadata": {},
      "execution_count": 3,
      "outputs": []
    },
    {
      "cell_type": "markdown",
      "source": "Проверим, что в столбцах с количеством балконов, признаком апартамента, количеством парков или прудов и расстоянием до них не осталось пропусков. Для этого посчитаем пропущенные значения.",
      "metadata": {}
    },
    {
      "cell_type": "code",
      "source": "display(data['balcony'].isna().sum())\ndisplay(data['is_apartment'].isna().sum())\ndisplay(data['parks_around3000'].isna().sum())\ndisplay(data['ponds_around3000'].isna().sum())\ndisplay(data['ponds_nearest'].isna().sum())\ndisplay(data['parks_nearest'].isna().sum())",
      "metadata": {
        "scrolled": true
      },
      "execution_count": 4,
      "outputs": [
        {
          "output_type": "display_data",
          "data": {
            "text/plain": [
              "0"
            ]
          },
          "metadata": {}
        },
        {
          "output_type": "display_data",
          "data": {
            "text/plain": [
              "0"
            ]
          },
          "metadata": {}
        },
        {
          "output_type": "display_data",
          "data": {
            "text/plain": [
              "0"
            ]
          },
          "metadata": {}
        },
        {
          "output_type": "display_data",
          "data": {
            "text/plain": [
              "0"
            ]
          },
          "metadata": {}
        },
        {
          "output_type": "display_data",
          "data": {
            "text/plain": [
              "0"
            ]
          },
          "metadata": {}
        },
        {
          "output_type": "display_data",
          "data": {
            "text/plain": [
              "0"
            ]
          },
          "metadata": {}
        }
      ]
    },
    {
      "cell_type": "markdown",
      "source": "Заполним пропуски в жилой площади (living_area), площади кухни (kitchen_area) и высоте потолков (ceiling_height) медиальным значениями",
      "metadata": {}
    },
    {
      "cell_type": "code",
      "source": "data['living_area'] = data['living_area'].fillna(value=data['living_area'].median())\ndata['kitchen_area'] = data['kitchen_area'].fillna(value=data['kitchen_area'].median())\ndata['ceiling_height'] = data['ceiling_height'].fillna(value=data['ceiling_height'].median())\ndata.head(10)",
      "metadata": {},
      "execution_count": 5,
      "outputs": [
        {
          "execution_count": 5,
          "output_type": "execute_result",
          "data": {
            "text/html": [
              "<div>\n",
              "<style scoped>\n",
              "    .dataframe tbody tr th:only-of-type {\n",
              "        vertical-align: middle;\n",
              "    }\n",
              "\n",
              "    .dataframe tbody tr th {\n",
              "        vertical-align: top;\n",
              "    }\n",
              "\n",
              "    .dataframe thead th {\n",
              "        text-align: right;\n",
              "    }\n",
              "</style>\n",
              "<table border=\"1\" class=\"dataframe\">\n",
              "  <thead>\n",
              "    <tr style=\"text-align: right;\">\n",
              "      <th></th>\n",
              "      <th>total_images</th>\n",
              "      <th>last_price</th>\n",
              "      <th>total_area</th>\n",
              "      <th>first_day_exposition</th>\n",
              "      <th>rooms</th>\n",
              "      <th>ceiling_height</th>\n",
              "      <th>floors_total</th>\n",
              "      <th>living_area</th>\n",
              "      <th>floor</th>\n",
              "      <th>is_apartment</th>\n",
              "      <th>...</th>\n",
              "      <th>kitchen_area</th>\n",
              "      <th>balcony</th>\n",
              "      <th>locality_name</th>\n",
              "      <th>airports_nearest</th>\n",
              "      <th>cityCenters_nearest</th>\n",
              "      <th>parks_around3000</th>\n",
              "      <th>parks_nearest</th>\n",
              "      <th>ponds_around3000</th>\n",
              "      <th>ponds_nearest</th>\n",
              "      <th>days_exposition</th>\n",
              "    </tr>\n",
              "  </thead>\n",
              "  <tbody>\n",
              "    <tr>\n",
              "      <th>0</th>\n",
              "      <td>20</td>\n",
              "      <td>13000000.0</td>\n",
              "      <td>108.00</td>\n",
              "      <td>2019-03-07T00:00:00</td>\n",
              "      <td>3</td>\n",
              "      <td>2.70</td>\n",
              "      <td>16.0</td>\n",
              "      <td>51.00</td>\n",
              "      <td>8</td>\n",
              "      <td>0</td>\n",
              "      <td>...</td>\n",
              "      <td>25.00</td>\n",
              "      <td>0.0</td>\n",
              "      <td>Санкт-Петербург</td>\n",
              "      <td>18863.0</td>\n",
              "      <td>16028.0</td>\n",
              "      <td>1.0</td>\n",
              "      <td>482.0</td>\n",
              "      <td>2.0</td>\n",
              "      <td>755.0</td>\n",
              "      <td>NaN</td>\n",
              "    </tr>\n",
              "    <tr>\n",
              "      <th>1</th>\n",
              "      <td>7</td>\n",
              "      <td>3350000.0</td>\n",
              "      <td>40.40</td>\n",
              "      <td>2018-12-04T00:00:00</td>\n",
              "      <td>1</td>\n",
              "      <td>2.65</td>\n",
              "      <td>11.0</td>\n",
              "      <td>18.60</td>\n",
              "      <td>1</td>\n",
              "      <td>0</td>\n",
              "      <td>...</td>\n",
              "      <td>11.00</td>\n",
              "      <td>2.0</td>\n",
              "      <td>посёлок Шушары</td>\n",
              "      <td>12817.0</td>\n",
              "      <td>18603.0</td>\n",
              "      <td>0.0</td>\n",
              "      <td>0.0</td>\n",
              "      <td>0.0</td>\n",
              "      <td>0.0</td>\n",
              "      <td>81.0</td>\n",
              "    </tr>\n",
              "    <tr>\n",
              "      <th>2</th>\n",
              "      <td>10</td>\n",
              "      <td>5196000.0</td>\n",
              "      <td>56.00</td>\n",
              "      <td>2015-08-20T00:00:00</td>\n",
              "      <td>2</td>\n",
              "      <td>2.65</td>\n",
              "      <td>5.0</td>\n",
              "      <td>34.30</td>\n",
              "      <td>4</td>\n",
              "      <td>0</td>\n",
              "      <td>...</td>\n",
              "      <td>8.30</td>\n",
              "      <td>0.0</td>\n",
              "      <td>Санкт-Петербург</td>\n",
              "      <td>21741.0</td>\n",
              "      <td>13933.0</td>\n",
              "      <td>1.0</td>\n",
              "      <td>90.0</td>\n",
              "      <td>2.0</td>\n",
              "      <td>574.0</td>\n",
              "      <td>558.0</td>\n",
              "    </tr>\n",
              "    <tr>\n",
              "      <th>3</th>\n",
              "      <td>0</td>\n",
              "      <td>64900000.0</td>\n",
              "      <td>159.00</td>\n",
              "      <td>2015-07-24T00:00:00</td>\n",
              "      <td>3</td>\n",
              "      <td>2.65</td>\n",
              "      <td>14.0</td>\n",
              "      <td>30.00</td>\n",
              "      <td>9</td>\n",
              "      <td>0</td>\n",
              "      <td>...</td>\n",
              "      <td>9.10</td>\n",
              "      <td>0.0</td>\n",
              "      <td>Санкт-Петербург</td>\n",
              "      <td>28098.0</td>\n",
              "      <td>6800.0</td>\n",
              "      <td>2.0</td>\n",
              "      <td>84.0</td>\n",
              "      <td>3.0</td>\n",
              "      <td>234.0</td>\n",
              "      <td>424.0</td>\n",
              "    </tr>\n",
              "    <tr>\n",
              "      <th>4</th>\n",
              "      <td>2</td>\n",
              "      <td>10000000.0</td>\n",
              "      <td>100.00</td>\n",
              "      <td>2018-06-19T00:00:00</td>\n",
              "      <td>2</td>\n",
              "      <td>3.03</td>\n",
              "      <td>14.0</td>\n",
              "      <td>32.00</td>\n",
              "      <td>13</td>\n",
              "      <td>0</td>\n",
              "      <td>...</td>\n",
              "      <td>41.00</td>\n",
              "      <td>0.0</td>\n",
              "      <td>Санкт-Петербург</td>\n",
              "      <td>31856.0</td>\n",
              "      <td>8098.0</td>\n",
              "      <td>2.0</td>\n",
              "      <td>112.0</td>\n",
              "      <td>1.0</td>\n",
              "      <td>48.0</td>\n",
              "      <td>121.0</td>\n",
              "    </tr>\n",
              "    <tr>\n",
              "      <th>5</th>\n",
              "      <td>10</td>\n",
              "      <td>2890000.0</td>\n",
              "      <td>30.40</td>\n",
              "      <td>2018-09-10T00:00:00</td>\n",
              "      <td>1</td>\n",
              "      <td>2.65</td>\n",
              "      <td>12.0</td>\n",
              "      <td>14.40</td>\n",
              "      <td>5</td>\n",
              "      <td>0</td>\n",
              "      <td>...</td>\n",
              "      <td>9.10</td>\n",
              "      <td>0.0</td>\n",
              "      <td>городской посёлок Янино-1</td>\n",
              "      <td>NaN</td>\n",
              "      <td>NaN</td>\n",
              "      <td>0.0</td>\n",
              "      <td>0.0</td>\n",
              "      <td>0.0</td>\n",
              "      <td>0.0</td>\n",
              "      <td>55.0</td>\n",
              "    </tr>\n",
              "    <tr>\n",
              "      <th>6</th>\n",
              "      <td>6</td>\n",
              "      <td>3700000.0</td>\n",
              "      <td>37.30</td>\n",
              "      <td>2017-11-02T00:00:00</td>\n",
              "      <td>1</td>\n",
              "      <td>2.65</td>\n",
              "      <td>26.0</td>\n",
              "      <td>10.60</td>\n",
              "      <td>6</td>\n",
              "      <td>0</td>\n",
              "      <td>...</td>\n",
              "      <td>14.40</td>\n",
              "      <td>1.0</td>\n",
              "      <td>посёлок Парголово</td>\n",
              "      <td>52996.0</td>\n",
              "      <td>19143.0</td>\n",
              "      <td>0.0</td>\n",
              "      <td>0.0</td>\n",
              "      <td>0.0</td>\n",
              "      <td>0.0</td>\n",
              "      <td>155.0</td>\n",
              "    </tr>\n",
              "    <tr>\n",
              "      <th>7</th>\n",
              "      <td>5</td>\n",
              "      <td>7915000.0</td>\n",
              "      <td>71.60</td>\n",
              "      <td>2019-04-18T00:00:00</td>\n",
              "      <td>2</td>\n",
              "      <td>2.65</td>\n",
              "      <td>24.0</td>\n",
              "      <td>30.00</td>\n",
              "      <td>22</td>\n",
              "      <td>0</td>\n",
              "      <td>...</td>\n",
              "      <td>18.90</td>\n",
              "      <td>2.0</td>\n",
              "      <td>Санкт-Петербург</td>\n",
              "      <td>23982.0</td>\n",
              "      <td>11634.0</td>\n",
              "      <td>0.0</td>\n",
              "      <td>0.0</td>\n",
              "      <td>0.0</td>\n",
              "      <td>0.0</td>\n",
              "      <td>NaN</td>\n",
              "    </tr>\n",
              "    <tr>\n",
              "      <th>8</th>\n",
              "      <td>20</td>\n",
              "      <td>2900000.0</td>\n",
              "      <td>33.16</td>\n",
              "      <td>2018-05-23T00:00:00</td>\n",
              "      <td>1</td>\n",
              "      <td>2.65</td>\n",
              "      <td>27.0</td>\n",
              "      <td>15.43</td>\n",
              "      <td>26</td>\n",
              "      <td>0</td>\n",
              "      <td>...</td>\n",
              "      <td>8.81</td>\n",
              "      <td>0.0</td>\n",
              "      <td>посёлок Мурино</td>\n",
              "      <td>NaN</td>\n",
              "      <td>NaN</td>\n",
              "      <td>0.0</td>\n",
              "      <td>0.0</td>\n",
              "      <td>0.0</td>\n",
              "      <td>0.0</td>\n",
              "      <td>189.0</td>\n",
              "    </tr>\n",
              "    <tr>\n",
              "      <th>9</th>\n",
              "      <td>18</td>\n",
              "      <td>5400000.0</td>\n",
              "      <td>61.00</td>\n",
              "      <td>2017-02-26T00:00:00</td>\n",
              "      <td>3</td>\n",
              "      <td>2.50</td>\n",
              "      <td>9.0</td>\n",
              "      <td>43.60</td>\n",
              "      <td>7</td>\n",
              "      <td>0</td>\n",
              "      <td>...</td>\n",
              "      <td>6.50</td>\n",
              "      <td>2.0</td>\n",
              "      <td>Санкт-Петербург</td>\n",
              "      <td>50898.0</td>\n",
              "      <td>15008.0</td>\n",
              "      <td>0.0</td>\n",
              "      <td>0.0</td>\n",
              "      <td>0.0</td>\n",
              "      <td>0.0</td>\n",
              "      <td>289.0</td>\n",
              "    </tr>\n",
              "  </tbody>\n",
              "</table>\n",
              "<p>10 rows × 22 columns</p>\n",
              "</div>"
            ],
            "text/plain": [
              "   total_images  last_price  total_area first_day_exposition  rooms  \\\n",
              "0            20  13000000.0      108.00  2019-03-07T00:00:00      3   \n",
              "1             7   3350000.0       40.40  2018-12-04T00:00:00      1   \n",
              "2            10   5196000.0       56.00  2015-08-20T00:00:00      2   \n",
              "3             0  64900000.0      159.00  2015-07-24T00:00:00      3   \n",
              "4             2  10000000.0      100.00  2018-06-19T00:00:00      2   \n",
              "5            10   2890000.0       30.40  2018-09-10T00:00:00      1   \n",
              "6             6   3700000.0       37.30  2017-11-02T00:00:00      1   \n",
              "7             5   7915000.0       71.60  2019-04-18T00:00:00      2   \n",
              "8            20   2900000.0       33.16  2018-05-23T00:00:00      1   \n",
              "9            18   5400000.0       61.00  2017-02-26T00:00:00      3   \n",
              "\n",
              "   ceiling_height  floors_total  living_area  floor is_apartment  ...  \\\n",
              "0            2.70          16.0        51.00      8            0  ...   \n",
              "1            2.65          11.0        18.60      1            0  ...   \n",
              "2            2.65           5.0        34.30      4            0  ...   \n",
              "3            2.65          14.0        30.00      9            0  ...   \n",
              "4            3.03          14.0        32.00     13            0  ...   \n",
              "5            2.65          12.0        14.40      5            0  ...   \n",
              "6            2.65          26.0        10.60      6            0  ...   \n",
              "7            2.65          24.0        30.00     22            0  ...   \n",
              "8            2.65          27.0        15.43     26            0  ...   \n",
              "9            2.50           9.0        43.60      7            0  ...   \n",
              "\n",
              "   kitchen_area  balcony              locality_name  airports_nearest  \\\n",
              "0         25.00      0.0            Санкт-Петербург           18863.0   \n",
              "1         11.00      2.0             посёлок Шушары           12817.0   \n",
              "2          8.30      0.0            Санкт-Петербург           21741.0   \n",
              "3          9.10      0.0            Санкт-Петербург           28098.0   \n",
              "4         41.00      0.0            Санкт-Петербург           31856.0   \n",
              "5          9.10      0.0  городской посёлок Янино-1               NaN   \n",
              "6         14.40      1.0          посёлок Парголово           52996.0   \n",
              "7         18.90      2.0            Санкт-Петербург           23982.0   \n",
              "8          8.81      0.0             посёлок Мурино               NaN   \n",
              "9          6.50      2.0            Санкт-Петербург           50898.0   \n",
              "\n",
              "  cityCenters_nearest  parks_around3000  parks_nearest  ponds_around3000  \\\n",
              "0             16028.0               1.0          482.0               2.0   \n",
              "1             18603.0               0.0            0.0               0.0   \n",
              "2             13933.0               1.0           90.0               2.0   \n",
              "3              6800.0               2.0           84.0               3.0   \n",
              "4              8098.0               2.0          112.0               1.0   \n",
              "5                 NaN               0.0            0.0               0.0   \n",
              "6             19143.0               0.0            0.0               0.0   \n",
              "7             11634.0               0.0            0.0               0.0   \n",
              "8                 NaN               0.0            0.0               0.0   \n",
              "9             15008.0               0.0            0.0               0.0   \n",
              "\n",
              "   ponds_nearest  days_exposition  \n",
              "0          755.0              NaN  \n",
              "1            0.0             81.0  \n",
              "2          574.0            558.0  \n",
              "3          234.0            424.0  \n",
              "4           48.0            121.0  \n",
              "5            0.0             55.0  \n",
              "6            0.0            155.0  \n",
              "7            0.0              NaN  \n",
              "8            0.0            189.0  \n",
              "9            0.0            289.0  \n",
              "\n",
              "[10 rows x 22 columns]"
            ]
          },
          "metadata": {}
        }
      ]
    },
    {
      "cell_type": "markdown",
      "source": "Пропуски в количестве этажей в доме (floors_total) заполнять не будем, т.к. они нематериальны (86 шт от 23699, ~ 0,4%).",
      "metadata": {}
    },
    {
      "cell_type": "markdown",
      "source": "Пропуски в длительности размещения объявления (days_exposition) заменем на значение, которое будет отбрасываться потом в анализе и не входит в базу, ноль.",
      "metadata": {}
    },
    {
      "cell_type": "code",
      "source": "data['days_exposition'] = data['days_exposition'].fillna(value=0)",
      "metadata": {},
      "execution_count": 6,
      "outputs": []
    },
    {
      "cell_type": "markdown",
      "source": "### Изменение типов данных",
      "metadata": {}
    },
    {
      "cell_type": "markdown",
      "source": "Для дальнейшего анализа и расчетов заменим тип данных, которые сохранены как вещественные числа, на целые: число балконов (balcony), сколько дней было размещено объявление (от публикации до снятия) (days_exposition), число парков в радиусе 3 км (parks_around3000), число водоёмов в радиусе 3 км (ponds_around3000).",
      "metadata": {}
    },
    {
      "cell_type": "code",
      "source": "data['balcony'] = data['balcony'].astype('int')\ndata['days_exposition'] = data['days_exposition'].astype('int')\ndata['parks_around3000'] = data['parks_around3000'].astype('int')\ndata['ponds_around3000'] = data['ponds_around3000'].astype('int')",
      "metadata": {},
      "execution_count": 7,
      "outputs": []
    },
    {
      "cell_type": "markdown",
      "source": "Для дальнейшего анализа и расчетов (определения дня, недели, месяца и года публикации объявления) заменим дата рамещения сохранена на тип данных  datetime64.",
      "metadata": {}
    },
    {
      "cell_type": "code",
      "source": "data['first_day_exposition'] = pd.to_datetime(data['first_day_exposition'], format='%Y.%m.%dT%H:%M:%S')",
      "metadata": {},
      "execution_count": 8,
      "outputs": []
    },
    {
      "cell_type": "markdown",
      "source": "Сохраним переменную с признаком апартамент как булевую.",
      "metadata": {}
    },
    {
      "cell_type": "code",
      "source": "data['is_apartment'] = data['is_apartment'].astype('bool')",
      "metadata": {},
      "execution_count": 9,
      "outputs": []
    },
    {
      "cell_type": "markdown",
      "source": "Проверим тип переменных после изменений.",
      "metadata": {}
    },
    {
      "cell_type": "code",
      "source": "data.info()",
      "metadata": {
        "scrolled": true
      },
      "execution_count": 10,
      "outputs": [
        {
          "name": "stdout",
          "output_type": "stream",
          "text": "<class 'pandas.core.frame.DataFrame'>\n\nRangeIndex: 23699 entries, 0 to 23698\n\nData columns (total 22 columns):\n\n #   Column                Non-Null Count  Dtype         \n\n---  ------                --------------  -----         \n\n 0   total_images          23699 non-null  int64         \n\n 1   last_price            23699 non-null  float64       \n\n 2   total_area            23699 non-null  float64       \n\n 3   first_day_exposition  23699 non-null  datetime64[ns]\n\n 4   rooms                 23699 non-null  int64         \n\n 5   ceiling_height        23699 non-null  float64       \n\n 6   floors_total          23613 non-null  float64       \n\n 7   living_area           23699 non-null  float64       \n\n 8   floor                 23699 non-null  int64         \n\n 9   is_apartment          23699 non-null  bool          \n\n 10  studio                23699 non-null  bool          \n\n 11  open_plan             23699 non-null  bool          \n\n 12  kitchen_area          23699 non-null  float64       \n\n 13  balcony               23699 non-null  int64         \n\n 14  locality_name         23650 non-null  object        \n\n 15  airports_nearest      18157 non-null  float64       \n\n 16  cityCenters_nearest   18180 non-null  float64       \n\n 17  parks_around3000      23699 non-null  int64         \n\n 18  parks_nearest         23699 non-null  float64       \n\n 19  ponds_around3000      23699 non-null  int64         \n\n 20  ponds_nearest         23699 non-null  float64       \n\n 21  days_exposition       23699 non-null  int64         \n\ndtypes: bool(3), datetime64[ns](1), float64(10), int64(7), object(1)\n\nmemory usage: 3.5+ MB\n"
        }
      ]
    },
    {
      "cell_type": "markdown",
      "source": "## Расчёты и добавление результатов в таблицу",
      "metadata": {}
    },
    {
      "cell_type": "markdown",
      "source": "Для анализа рассчитаем следующие показатели: цену квадратного метра; день недели, месяц и год публикации объявления; этаж квартиры; варианты — первый, последний, другой; соотношение жилой и общей площади, а также отношение площади кухни к общей.\n",
      "metadata": {}
    },
    {
      "cell_type": "code",
      "source": "# рассчитаем цену кв.метра и сохраним в 'price_one_sqr_m', приведем результат к целочисленному знаению\ndata['price_one_sqr_m'] = data['last_price'] / data['total_area']\ndata['price_one_sqr_m'] = data['price_one_sqr_m'].astype('int')\ndata.head()",
      "metadata": {},
      "execution_count": 11,
      "outputs": [
        {
          "execution_count": 11,
          "output_type": "execute_result",
          "data": {
            "text/html": [
              "<div>\n",
              "<style scoped>\n",
              "    .dataframe tbody tr th:only-of-type {\n",
              "        vertical-align: middle;\n",
              "    }\n",
              "\n",
              "    .dataframe tbody tr th {\n",
              "        vertical-align: top;\n",
              "    }\n",
              "\n",
              "    .dataframe thead th {\n",
              "        text-align: right;\n",
              "    }\n",
              "</style>\n",
              "<table border=\"1\" class=\"dataframe\">\n",
              "  <thead>\n",
              "    <tr style=\"text-align: right;\">\n",
              "      <th></th>\n",
              "      <th>total_images</th>\n",
              "      <th>last_price</th>\n",
              "      <th>total_area</th>\n",
              "      <th>first_day_exposition</th>\n",
              "      <th>rooms</th>\n",
              "      <th>ceiling_height</th>\n",
              "      <th>floors_total</th>\n",
              "      <th>living_area</th>\n",
              "      <th>floor</th>\n",
              "      <th>is_apartment</th>\n",
              "      <th>...</th>\n",
              "      <th>balcony</th>\n",
              "      <th>locality_name</th>\n",
              "      <th>airports_nearest</th>\n",
              "      <th>cityCenters_nearest</th>\n",
              "      <th>parks_around3000</th>\n",
              "      <th>parks_nearest</th>\n",
              "      <th>ponds_around3000</th>\n",
              "      <th>ponds_nearest</th>\n",
              "      <th>days_exposition</th>\n",
              "      <th>price_one_sqr_m</th>\n",
              "    </tr>\n",
              "  </thead>\n",
              "  <tbody>\n",
              "    <tr>\n",
              "      <th>0</th>\n",
              "      <td>20</td>\n",
              "      <td>13000000.0</td>\n",
              "      <td>108.0</td>\n",
              "      <td>2019-03-07</td>\n",
              "      <td>3</td>\n",
              "      <td>2.70</td>\n",
              "      <td>16.0</td>\n",
              "      <td>51.0</td>\n",
              "      <td>8</td>\n",
              "      <td>False</td>\n",
              "      <td>...</td>\n",
              "      <td>0</td>\n",
              "      <td>Санкт-Петербург</td>\n",
              "      <td>18863.0</td>\n",
              "      <td>16028.0</td>\n",
              "      <td>1</td>\n",
              "      <td>482.0</td>\n",
              "      <td>2</td>\n",
              "      <td>755.0</td>\n",
              "      <td>0</td>\n",
              "      <td>120370</td>\n",
              "    </tr>\n",
              "    <tr>\n",
              "      <th>1</th>\n",
              "      <td>7</td>\n",
              "      <td>3350000.0</td>\n",
              "      <td>40.4</td>\n",
              "      <td>2018-12-04</td>\n",
              "      <td>1</td>\n",
              "      <td>2.65</td>\n",
              "      <td>11.0</td>\n",
              "      <td>18.6</td>\n",
              "      <td>1</td>\n",
              "      <td>False</td>\n",
              "      <td>...</td>\n",
              "      <td>2</td>\n",
              "      <td>посёлок Шушары</td>\n",
              "      <td>12817.0</td>\n",
              "      <td>18603.0</td>\n",
              "      <td>0</td>\n",
              "      <td>0.0</td>\n",
              "      <td>0</td>\n",
              "      <td>0.0</td>\n",
              "      <td>81</td>\n",
              "      <td>82920</td>\n",
              "    </tr>\n",
              "    <tr>\n",
              "      <th>2</th>\n",
              "      <td>10</td>\n",
              "      <td>5196000.0</td>\n",
              "      <td>56.0</td>\n",
              "      <td>2015-08-20</td>\n",
              "      <td>2</td>\n",
              "      <td>2.65</td>\n",
              "      <td>5.0</td>\n",
              "      <td>34.3</td>\n",
              "      <td>4</td>\n",
              "      <td>False</td>\n",
              "      <td>...</td>\n",
              "      <td>0</td>\n",
              "      <td>Санкт-Петербург</td>\n",
              "      <td>21741.0</td>\n",
              "      <td>13933.0</td>\n",
              "      <td>1</td>\n",
              "      <td>90.0</td>\n",
              "      <td>2</td>\n",
              "      <td>574.0</td>\n",
              "      <td>558</td>\n",
              "      <td>92785</td>\n",
              "    </tr>\n",
              "    <tr>\n",
              "      <th>3</th>\n",
              "      <td>0</td>\n",
              "      <td>64900000.0</td>\n",
              "      <td>159.0</td>\n",
              "      <td>2015-07-24</td>\n",
              "      <td>3</td>\n",
              "      <td>2.65</td>\n",
              "      <td>14.0</td>\n",
              "      <td>30.0</td>\n",
              "      <td>9</td>\n",
              "      <td>False</td>\n",
              "      <td>...</td>\n",
              "      <td>0</td>\n",
              "      <td>Санкт-Петербург</td>\n",
              "      <td>28098.0</td>\n",
              "      <td>6800.0</td>\n",
              "      <td>2</td>\n",
              "      <td>84.0</td>\n",
              "      <td>3</td>\n",
              "      <td>234.0</td>\n",
              "      <td>424</td>\n",
              "      <td>408176</td>\n",
              "    </tr>\n",
              "    <tr>\n",
              "      <th>4</th>\n",
              "      <td>2</td>\n",
              "      <td>10000000.0</td>\n",
              "      <td>100.0</td>\n",
              "      <td>2018-06-19</td>\n",
              "      <td>2</td>\n",
              "      <td>3.03</td>\n",
              "      <td>14.0</td>\n",
              "      <td>32.0</td>\n",
              "      <td>13</td>\n",
              "      <td>False</td>\n",
              "      <td>...</td>\n",
              "      <td>0</td>\n",
              "      <td>Санкт-Петербург</td>\n",
              "      <td>31856.0</td>\n",
              "      <td>8098.0</td>\n",
              "      <td>2</td>\n",
              "      <td>112.0</td>\n",
              "      <td>1</td>\n",
              "      <td>48.0</td>\n",
              "      <td>121</td>\n",
              "      <td>100000</td>\n",
              "    </tr>\n",
              "  </tbody>\n",
              "</table>\n",
              "<p>5 rows × 23 columns</p>\n",
              "</div>"
            ],
            "text/plain": [
              "   total_images  last_price  total_area first_day_exposition  rooms  \\\n",
              "0            20  13000000.0       108.0           2019-03-07      3   \n",
              "1             7   3350000.0        40.4           2018-12-04      1   \n",
              "2            10   5196000.0        56.0           2015-08-20      2   \n",
              "3             0  64900000.0       159.0           2015-07-24      3   \n",
              "4             2  10000000.0       100.0           2018-06-19      2   \n",
              "\n",
              "   ceiling_height  floors_total  living_area  floor  is_apartment  ...  \\\n",
              "0            2.70          16.0         51.0      8         False  ...   \n",
              "1            2.65          11.0         18.6      1         False  ...   \n",
              "2            2.65           5.0         34.3      4         False  ...   \n",
              "3            2.65          14.0         30.0      9         False  ...   \n",
              "4            3.03          14.0         32.0     13         False  ...   \n",
              "\n",
              "   balcony    locality_name  airports_nearest  cityCenters_nearest  \\\n",
              "0        0  Санкт-Петербург           18863.0              16028.0   \n",
              "1        2   посёлок Шушары           12817.0              18603.0   \n",
              "2        0  Санкт-Петербург           21741.0              13933.0   \n",
              "3        0  Санкт-Петербург           28098.0               6800.0   \n",
              "4        0  Санкт-Петербург           31856.0               8098.0   \n",
              "\n",
              "  parks_around3000  parks_nearest  ponds_around3000  ponds_nearest  \\\n",
              "0                1          482.0                 2          755.0   \n",
              "1                0            0.0                 0            0.0   \n",
              "2                1           90.0                 2          574.0   \n",
              "3                2           84.0                 3          234.0   \n",
              "4                2          112.0                 1           48.0   \n",
              "\n",
              "   days_exposition  price_one_sqr_m  \n",
              "0                0           120370  \n",
              "1               81            82920  \n",
              "2              558            92785  \n",
              "3              424           408176  \n",
              "4              121           100000  \n",
              "\n",
              "[5 rows x 23 columns]"
            ]
          },
          "metadata": {}
        }
      ]
    },
    {
      "cell_type": "code",
      "source": "#определим день недели, месяц и год публикации объявления\ndata['weekday_exposition'] = pd.DatetimeIndex(data['first_day_exposition']).weekday \ndata['month_exposition'] = pd.DatetimeIndex(data['first_day_exposition']).month \ndata['year_exposition'] = pd.DatetimeIndex(data['first_day_exposition']).year \ndata.head()",
      "metadata": {},
      "execution_count": 12,
      "outputs": [
        {
          "execution_count": 12,
          "output_type": "execute_result",
          "data": {
            "text/html": [
              "<div>\n",
              "<style scoped>\n",
              "    .dataframe tbody tr th:only-of-type {\n",
              "        vertical-align: middle;\n",
              "    }\n",
              "\n",
              "    .dataframe tbody tr th {\n",
              "        vertical-align: top;\n",
              "    }\n",
              "\n",
              "    .dataframe thead th {\n",
              "        text-align: right;\n",
              "    }\n",
              "</style>\n",
              "<table border=\"1\" class=\"dataframe\">\n",
              "  <thead>\n",
              "    <tr style=\"text-align: right;\">\n",
              "      <th></th>\n",
              "      <th>total_images</th>\n",
              "      <th>last_price</th>\n",
              "      <th>total_area</th>\n",
              "      <th>first_day_exposition</th>\n",
              "      <th>rooms</th>\n",
              "      <th>ceiling_height</th>\n",
              "      <th>floors_total</th>\n",
              "      <th>living_area</th>\n",
              "      <th>floor</th>\n",
              "      <th>is_apartment</th>\n",
              "      <th>...</th>\n",
              "      <th>cityCenters_nearest</th>\n",
              "      <th>parks_around3000</th>\n",
              "      <th>parks_nearest</th>\n",
              "      <th>ponds_around3000</th>\n",
              "      <th>ponds_nearest</th>\n",
              "      <th>days_exposition</th>\n",
              "      <th>price_one_sqr_m</th>\n",
              "      <th>weekday_exposition</th>\n",
              "      <th>month_exposition</th>\n",
              "      <th>year_exposition</th>\n",
              "    </tr>\n",
              "  </thead>\n",
              "  <tbody>\n",
              "    <tr>\n",
              "      <th>0</th>\n",
              "      <td>20</td>\n",
              "      <td>13000000.0</td>\n",
              "      <td>108.0</td>\n",
              "      <td>2019-03-07</td>\n",
              "      <td>3</td>\n",
              "      <td>2.70</td>\n",
              "      <td>16.0</td>\n",
              "      <td>51.0</td>\n",
              "      <td>8</td>\n",
              "      <td>False</td>\n",
              "      <td>...</td>\n",
              "      <td>16028.0</td>\n",
              "      <td>1</td>\n",
              "      <td>482.0</td>\n",
              "      <td>2</td>\n",
              "      <td>755.0</td>\n",
              "      <td>0</td>\n",
              "      <td>120370</td>\n",
              "      <td>3</td>\n",
              "      <td>3</td>\n",
              "      <td>2019</td>\n",
              "    </tr>\n",
              "    <tr>\n",
              "      <th>1</th>\n",
              "      <td>7</td>\n",
              "      <td>3350000.0</td>\n",
              "      <td>40.4</td>\n",
              "      <td>2018-12-04</td>\n",
              "      <td>1</td>\n",
              "      <td>2.65</td>\n",
              "      <td>11.0</td>\n",
              "      <td>18.6</td>\n",
              "      <td>1</td>\n",
              "      <td>False</td>\n",
              "      <td>...</td>\n",
              "      <td>18603.0</td>\n",
              "      <td>0</td>\n",
              "      <td>0.0</td>\n",
              "      <td>0</td>\n",
              "      <td>0.0</td>\n",
              "      <td>81</td>\n",
              "      <td>82920</td>\n",
              "      <td>1</td>\n",
              "      <td>12</td>\n",
              "      <td>2018</td>\n",
              "    </tr>\n",
              "    <tr>\n",
              "      <th>2</th>\n",
              "      <td>10</td>\n",
              "      <td>5196000.0</td>\n",
              "      <td>56.0</td>\n",
              "      <td>2015-08-20</td>\n",
              "      <td>2</td>\n",
              "      <td>2.65</td>\n",
              "      <td>5.0</td>\n",
              "      <td>34.3</td>\n",
              "      <td>4</td>\n",
              "      <td>False</td>\n",
              "      <td>...</td>\n",
              "      <td>13933.0</td>\n",
              "      <td>1</td>\n",
              "      <td>90.0</td>\n",
              "      <td>2</td>\n",
              "      <td>574.0</td>\n",
              "      <td>558</td>\n",
              "      <td>92785</td>\n",
              "      <td>3</td>\n",
              "      <td>8</td>\n",
              "      <td>2015</td>\n",
              "    </tr>\n",
              "    <tr>\n",
              "      <th>3</th>\n",
              "      <td>0</td>\n",
              "      <td>64900000.0</td>\n",
              "      <td>159.0</td>\n",
              "      <td>2015-07-24</td>\n",
              "      <td>3</td>\n",
              "      <td>2.65</td>\n",
              "      <td>14.0</td>\n",
              "      <td>30.0</td>\n",
              "      <td>9</td>\n",
              "      <td>False</td>\n",
              "      <td>...</td>\n",
              "      <td>6800.0</td>\n",
              "      <td>2</td>\n",
              "      <td>84.0</td>\n",
              "      <td>3</td>\n",
              "      <td>234.0</td>\n",
              "      <td>424</td>\n",
              "      <td>408176</td>\n",
              "      <td>4</td>\n",
              "      <td>7</td>\n",
              "      <td>2015</td>\n",
              "    </tr>\n",
              "    <tr>\n",
              "      <th>4</th>\n",
              "      <td>2</td>\n",
              "      <td>10000000.0</td>\n",
              "      <td>100.0</td>\n",
              "      <td>2018-06-19</td>\n",
              "      <td>2</td>\n",
              "      <td>3.03</td>\n",
              "      <td>14.0</td>\n",
              "      <td>32.0</td>\n",
              "      <td>13</td>\n",
              "      <td>False</td>\n",
              "      <td>...</td>\n",
              "      <td>8098.0</td>\n",
              "      <td>2</td>\n",
              "      <td>112.0</td>\n",
              "      <td>1</td>\n",
              "      <td>48.0</td>\n",
              "      <td>121</td>\n",
              "      <td>100000</td>\n",
              "      <td>1</td>\n",
              "      <td>6</td>\n",
              "      <td>2018</td>\n",
              "    </tr>\n",
              "  </tbody>\n",
              "</table>\n",
              "<p>5 rows × 26 columns</p>\n",
              "</div>"
            ],
            "text/plain": [
              "   total_images  last_price  total_area first_day_exposition  rooms  \\\n",
              "0            20  13000000.0       108.0           2019-03-07      3   \n",
              "1             7   3350000.0        40.4           2018-12-04      1   \n",
              "2            10   5196000.0        56.0           2015-08-20      2   \n",
              "3             0  64900000.0       159.0           2015-07-24      3   \n",
              "4             2  10000000.0       100.0           2018-06-19      2   \n",
              "\n",
              "   ceiling_height  floors_total  living_area  floor  is_apartment  ...  \\\n",
              "0            2.70          16.0         51.0      8         False  ...   \n",
              "1            2.65          11.0         18.6      1         False  ...   \n",
              "2            2.65           5.0         34.3      4         False  ...   \n",
              "3            2.65          14.0         30.0      9         False  ...   \n",
              "4            3.03          14.0         32.0     13         False  ...   \n",
              "\n",
              "   cityCenters_nearest  parks_around3000  parks_nearest  ponds_around3000  \\\n",
              "0              16028.0                 1          482.0                 2   \n",
              "1              18603.0                 0            0.0                 0   \n",
              "2              13933.0                 1           90.0                 2   \n",
              "3               6800.0                 2           84.0                 3   \n",
              "4               8098.0                 2          112.0                 1   \n",
              "\n",
              "  ponds_nearest  days_exposition  price_one_sqr_m  weekday_exposition  \\\n",
              "0         755.0                0           120370                   3   \n",
              "1           0.0               81            82920                   1   \n",
              "2         574.0              558            92785                   3   \n",
              "3         234.0              424           408176                   4   \n",
              "4          48.0              121           100000                   1   \n",
              "\n",
              "   month_exposition  year_exposition  \n",
              "0                 3             2019  \n",
              "1                12             2018  \n",
              "2                 8             2015  \n",
              "3                 7             2015  \n",
              "4                 6             2018  \n",
              "\n",
              "[5 rows x 26 columns]"
            ]
          },
          "metadata": {}
        }
      ]
    },
    {
      "cell_type": "code",
      "source": "#определим этаж квартиры и варианты — первый, последний, другой\ndef floor_category(row):\n    floors_total = row['floors_total']\n    floor = row['floor']\n    if floor == 1:\n        return 'первый этаж'\n    elif floor == floors_total:\n        return 'последни этаж'\n    elif 1 < floor < floors_total:\n        return 'другой этаж'\ndata['floor_category'] = data.apply(floor_category, axis = 1)\ndata.head(10)",
      "metadata": {},
      "execution_count": 13,
      "outputs": [
        {
          "execution_count": 13,
          "output_type": "execute_result",
          "data": {
            "text/html": [
              "<div>\n",
              "<style scoped>\n",
              "    .dataframe tbody tr th:only-of-type {\n",
              "        vertical-align: middle;\n",
              "    }\n",
              "\n",
              "    .dataframe tbody tr th {\n",
              "        vertical-align: top;\n",
              "    }\n",
              "\n",
              "    .dataframe thead th {\n",
              "        text-align: right;\n",
              "    }\n",
              "</style>\n",
              "<table border=\"1\" class=\"dataframe\">\n",
              "  <thead>\n",
              "    <tr style=\"text-align: right;\">\n",
              "      <th></th>\n",
              "      <th>total_images</th>\n",
              "      <th>last_price</th>\n",
              "      <th>total_area</th>\n",
              "      <th>first_day_exposition</th>\n",
              "      <th>rooms</th>\n",
              "      <th>ceiling_height</th>\n",
              "      <th>floors_total</th>\n",
              "      <th>living_area</th>\n",
              "      <th>floor</th>\n",
              "      <th>is_apartment</th>\n",
              "      <th>...</th>\n",
              "      <th>parks_around3000</th>\n",
              "      <th>parks_nearest</th>\n",
              "      <th>ponds_around3000</th>\n",
              "      <th>ponds_nearest</th>\n",
              "      <th>days_exposition</th>\n",
              "      <th>price_one_sqr_m</th>\n",
              "      <th>weekday_exposition</th>\n",
              "      <th>month_exposition</th>\n",
              "      <th>year_exposition</th>\n",
              "      <th>floor_category</th>\n",
              "    </tr>\n",
              "  </thead>\n",
              "  <tbody>\n",
              "    <tr>\n",
              "      <th>0</th>\n",
              "      <td>20</td>\n",
              "      <td>13000000.0</td>\n",
              "      <td>108.00</td>\n",
              "      <td>2019-03-07</td>\n",
              "      <td>3</td>\n",
              "      <td>2.70</td>\n",
              "      <td>16.0</td>\n",
              "      <td>51.00</td>\n",
              "      <td>8</td>\n",
              "      <td>False</td>\n",
              "      <td>...</td>\n",
              "      <td>1</td>\n",
              "      <td>482.0</td>\n",
              "      <td>2</td>\n",
              "      <td>755.0</td>\n",
              "      <td>0</td>\n",
              "      <td>120370</td>\n",
              "      <td>3</td>\n",
              "      <td>3</td>\n",
              "      <td>2019</td>\n",
              "      <td>другой этаж</td>\n",
              "    </tr>\n",
              "    <tr>\n",
              "      <th>1</th>\n",
              "      <td>7</td>\n",
              "      <td>3350000.0</td>\n",
              "      <td>40.40</td>\n",
              "      <td>2018-12-04</td>\n",
              "      <td>1</td>\n",
              "      <td>2.65</td>\n",
              "      <td>11.0</td>\n",
              "      <td>18.60</td>\n",
              "      <td>1</td>\n",
              "      <td>False</td>\n",
              "      <td>...</td>\n",
              "      <td>0</td>\n",
              "      <td>0.0</td>\n",
              "      <td>0</td>\n",
              "      <td>0.0</td>\n",
              "      <td>81</td>\n",
              "      <td>82920</td>\n",
              "      <td>1</td>\n",
              "      <td>12</td>\n",
              "      <td>2018</td>\n",
              "      <td>первый этаж</td>\n",
              "    </tr>\n",
              "    <tr>\n",
              "      <th>2</th>\n",
              "      <td>10</td>\n",
              "      <td>5196000.0</td>\n",
              "      <td>56.00</td>\n",
              "      <td>2015-08-20</td>\n",
              "      <td>2</td>\n",
              "      <td>2.65</td>\n",
              "      <td>5.0</td>\n",
              "      <td>34.30</td>\n",
              "      <td>4</td>\n",
              "      <td>False</td>\n",
              "      <td>...</td>\n",
              "      <td>1</td>\n",
              "      <td>90.0</td>\n",
              "      <td>2</td>\n",
              "      <td>574.0</td>\n",
              "      <td>558</td>\n",
              "      <td>92785</td>\n",
              "      <td>3</td>\n",
              "      <td>8</td>\n",
              "      <td>2015</td>\n",
              "      <td>другой этаж</td>\n",
              "    </tr>\n",
              "    <tr>\n",
              "      <th>3</th>\n",
              "      <td>0</td>\n",
              "      <td>64900000.0</td>\n",
              "      <td>159.00</td>\n",
              "      <td>2015-07-24</td>\n",
              "      <td>3</td>\n",
              "      <td>2.65</td>\n",
              "      <td>14.0</td>\n",
              "      <td>30.00</td>\n",
              "      <td>9</td>\n",
              "      <td>False</td>\n",
              "      <td>...</td>\n",
              "      <td>2</td>\n",
              "      <td>84.0</td>\n",
              "      <td>3</td>\n",
              "      <td>234.0</td>\n",
              "      <td>424</td>\n",
              "      <td>408176</td>\n",
              "      <td>4</td>\n",
              "      <td>7</td>\n",
              "      <td>2015</td>\n",
              "      <td>другой этаж</td>\n",
              "    </tr>\n",
              "    <tr>\n",
              "      <th>4</th>\n",
              "      <td>2</td>\n",
              "      <td>10000000.0</td>\n",
              "      <td>100.00</td>\n",
              "      <td>2018-06-19</td>\n",
              "      <td>2</td>\n",
              "      <td>3.03</td>\n",
              "      <td>14.0</td>\n",
              "      <td>32.00</td>\n",
              "      <td>13</td>\n",
              "      <td>False</td>\n",
              "      <td>...</td>\n",
              "      <td>2</td>\n",
              "      <td>112.0</td>\n",
              "      <td>1</td>\n",
              "      <td>48.0</td>\n",
              "      <td>121</td>\n",
              "      <td>100000</td>\n",
              "      <td>1</td>\n",
              "      <td>6</td>\n",
              "      <td>2018</td>\n",
              "      <td>другой этаж</td>\n",
              "    </tr>\n",
              "    <tr>\n",
              "      <th>5</th>\n",
              "      <td>10</td>\n",
              "      <td>2890000.0</td>\n",
              "      <td>30.40</td>\n",
              "      <td>2018-09-10</td>\n",
              "      <td>1</td>\n",
              "      <td>2.65</td>\n",
              "      <td>12.0</td>\n",
              "      <td>14.40</td>\n",
              "      <td>5</td>\n",
              "      <td>False</td>\n",
              "      <td>...</td>\n",
              "      <td>0</td>\n",
              "      <td>0.0</td>\n",
              "      <td>0</td>\n",
              "      <td>0.0</td>\n",
              "      <td>55</td>\n",
              "      <td>95065</td>\n",
              "      <td>0</td>\n",
              "      <td>9</td>\n",
              "      <td>2018</td>\n",
              "      <td>другой этаж</td>\n",
              "    </tr>\n",
              "    <tr>\n",
              "      <th>6</th>\n",
              "      <td>6</td>\n",
              "      <td>3700000.0</td>\n",
              "      <td>37.30</td>\n",
              "      <td>2017-11-02</td>\n",
              "      <td>1</td>\n",
              "      <td>2.65</td>\n",
              "      <td>26.0</td>\n",
              "      <td>10.60</td>\n",
              "      <td>6</td>\n",
              "      <td>False</td>\n",
              "      <td>...</td>\n",
              "      <td>0</td>\n",
              "      <td>0.0</td>\n",
              "      <td>0</td>\n",
              "      <td>0.0</td>\n",
              "      <td>155</td>\n",
              "      <td>99195</td>\n",
              "      <td>3</td>\n",
              "      <td>11</td>\n",
              "      <td>2017</td>\n",
              "      <td>другой этаж</td>\n",
              "    </tr>\n",
              "    <tr>\n",
              "      <th>7</th>\n",
              "      <td>5</td>\n",
              "      <td>7915000.0</td>\n",
              "      <td>71.60</td>\n",
              "      <td>2019-04-18</td>\n",
              "      <td>2</td>\n",
              "      <td>2.65</td>\n",
              "      <td>24.0</td>\n",
              "      <td>30.00</td>\n",
              "      <td>22</td>\n",
              "      <td>False</td>\n",
              "      <td>...</td>\n",
              "      <td>0</td>\n",
              "      <td>0.0</td>\n",
              "      <td>0</td>\n",
              "      <td>0.0</td>\n",
              "      <td>0</td>\n",
              "      <td>110544</td>\n",
              "      <td>3</td>\n",
              "      <td>4</td>\n",
              "      <td>2019</td>\n",
              "      <td>другой этаж</td>\n",
              "    </tr>\n",
              "    <tr>\n",
              "      <th>8</th>\n",
              "      <td>20</td>\n",
              "      <td>2900000.0</td>\n",
              "      <td>33.16</td>\n",
              "      <td>2018-05-23</td>\n",
              "      <td>1</td>\n",
              "      <td>2.65</td>\n",
              "      <td>27.0</td>\n",
              "      <td>15.43</td>\n",
              "      <td>26</td>\n",
              "      <td>False</td>\n",
              "      <td>...</td>\n",
              "      <td>0</td>\n",
              "      <td>0.0</td>\n",
              "      <td>0</td>\n",
              "      <td>0.0</td>\n",
              "      <td>189</td>\n",
              "      <td>87454</td>\n",
              "      <td>2</td>\n",
              "      <td>5</td>\n",
              "      <td>2018</td>\n",
              "      <td>другой этаж</td>\n",
              "    </tr>\n",
              "    <tr>\n",
              "      <th>9</th>\n",
              "      <td>18</td>\n",
              "      <td>5400000.0</td>\n",
              "      <td>61.00</td>\n",
              "      <td>2017-02-26</td>\n",
              "      <td>3</td>\n",
              "      <td>2.50</td>\n",
              "      <td>9.0</td>\n",
              "      <td>43.60</td>\n",
              "      <td>7</td>\n",
              "      <td>False</td>\n",
              "      <td>...</td>\n",
              "      <td>0</td>\n",
              "      <td>0.0</td>\n",
              "      <td>0</td>\n",
              "      <td>0.0</td>\n",
              "      <td>289</td>\n",
              "      <td>88524</td>\n",
              "      <td>6</td>\n",
              "      <td>2</td>\n",
              "      <td>2017</td>\n",
              "      <td>другой этаж</td>\n",
              "    </tr>\n",
              "  </tbody>\n",
              "</table>\n",
              "<p>10 rows × 27 columns</p>\n",
              "</div>"
            ],
            "text/plain": [
              "   total_images  last_price  total_area first_day_exposition  rooms  \\\n",
              "0            20  13000000.0      108.00           2019-03-07      3   \n",
              "1             7   3350000.0       40.40           2018-12-04      1   \n",
              "2            10   5196000.0       56.00           2015-08-20      2   \n",
              "3             0  64900000.0      159.00           2015-07-24      3   \n",
              "4             2  10000000.0      100.00           2018-06-19      2   \n",
              "5            10   2890000.0       30.40           2018-09-10      1   \n",
              "6             6   3700000.0       37.30           2017-11-02      1   \n",
              "7             5   7915000.0       71.60           2019-04-18      2   \n",
              "8            20   2900000.0       33.16           2018-05-23      1   \n",
              "9            18   5400000.0       61.00           2017-02-26      3   \n",
              "\n",
              "   ceiling_height  floors_total  living_area  floor  is_apartment  ...  \\\n",
              "0            2.70          16.0        51.00      8         False  ...   \n",
              "1            2.65          11.0        18.60      1         False  ...   \n",
              "2            2.65           5.0        34.30      4         False  ...   \n",
              "3            2.65          14.0        30.00      9         False  ...   \n",
              "4            3.03          14.0        32.00     13         False  ...   \n",
              "5            2.65          12.0        14.40      5         False  ...   \n",
              "6            2.65          26.0        10.60      6         False  ...   \n",
              "7            2.65          24.0        30.00     22         False  ...   \n",
              "8            2.65          27.0        15.43     26         False  ...   \n",
              "9            2.50           9.0        43.60      7         False  ...   \n",
              "\n",
              "   parks_around3000  parks_nearest  ponds_around3000  ponds_nearest  \\\n",
              "0                 1          482.0                 2          755.0   \n",
              "1                 0            0.0                 0            0.0   \n",
              "2                 1           90.0                 2          574.0   \n",
              "3                 2           84.0                 3          234.0   \n",
              "4                 2          112.0                 1           48.0   \n",
              "5                 0            0.0                 0            0.0   \n",
              "6                 0            0.0                 0            0.0   \n",
              "7                 0            0.0                 0            0.0   \n",
              "8                 0            0.0                 0            0.0   \n",
              "9                 0            0.0                 0            0.0   \n",
              "\n",
              "  days_exposition  price_one_sqr_m  weekday_exposition  month_exposition  \\\n",
              "0               0           120370                   3                 3   \n",
              "1              81            82920                   1                12   \n",
              "2             558            92785                   3                 8   \n",
              "3             424           408176                   4                 7   \n",
              "4             121           100000                   1                 6   \n",
              "5              55            95065                   0                 9   \n",
              "6             155            99195                   3                11   \n",
              "7               0           110544                   3                 4   \n",
              "8             189            87454                   2                 5   \n",
              "9             289            88524                   6                 2   \n",
              "\n",
              "   year_exposition  floor_category  \n",
              "0             2019     другой этаж  \n",
              "1             2018     первый этаж  \n",
              "2             2015     другой этаж  \n",
              "3             2015     другой этаж  \n",
              "4             2018     другой этаж  \n",
              "5             2018     другой этаж  \n",
              "6             2017     другой этаж  \n",
              "7             2019     другой этаж  \n",
              "8             2018     другой этаж  \n",
              "9             2017     другой этаж  \n",
              "\n",
              "[10 rows x 27 columns]"
            ]
          },
          "metadata": {}
        }
      ]
    },
    {
      "cell_type": "code",
      "source": "#рассчитаем соотношение жилой и общей площади\ndata['pt_living_total_area'] = data['living_area'] / data['total_area']\ndata.head()",
      "metadata": {},
      "execution_count": 14,
      "outputs": [
        {
          "execution_count": 14,
          "output_type": "execute_result",
          "data": {
            "text/html": [
              "<div>\n",
              "<style scoped>\n",
              "    .dataframe tbody tr th:only-of-type {\n",
              "        vertical-align: middle;\n",
              "    }\n",
              "\n",
              "    .dataframe tbody tr th {\n",
              "        vertical-align: top;\n",
              "    }\n",
              "\n",
              "    .dataframe thead th {\n",
              "        text-align: right;\n",
              "    }\n",
              "</style>\n",
              "<table border=\"1\" class=\"dataframe\">\n",
              "  <thead>\n",
              "    <tr style=\"text-align: right;\">\n",
              "      <th></th>\n",
              "      <th>total_images</th>\n",
              "      <th>last_price</th>\n",
              "      <th>total_area</th>\n",
              "      <th>first_day_exposition</th>\n",
              "      <th>rooms</th>\n",
              "      <th>ceiling_height</th>\n",
              "      <th>floors_total</th>\n",
              "      <th>living_area</th>\n",
              "      <th>floor</th>\n",
              "      <th>is_apartment</th>\n",
              "      <th>...</th>\n",
              "      <th>parks_nearest</th>\n",
              "      <th>ponds_around3000</th>\n",
              "      <th>ponds_nearest</th>\n",
              "      <th>days_exposition</th>\n",
              "      <th>price_one_sqr_m</th>\n",
              "      <th>weekday_exposition</th>\n",
              "      <th>month_exposition</th>\n",
              "      <th>year_exposition</th>\n",
              "      <th>floor_category</th>\n",
              "      <th>pt_living_total_area</th>\n",
              "    </tr>\n",
              "  </thead>\n",
              "  <tbody>\n",
              "    <tr>\n",
              "      <th>0</th>\n",
              "      <td>20</td>\n",
              "      <td>13000000.0</td>\n",
              "      <td>108.0</td>\n",
              "      <td>2019-03-07</td>\n",
              "      <td>3</td>\n",
              "      <td>2.70</td>\n",
              "      <td>16.0</td>\n",
              "      <td>51.0</td>\n",
              "      <td>8</td>\n",
              "      <td>False</td>\n",
              "      <td>...</td>\n",
              "      <td>482.0</td>\n",
              "      <td>2</td>\n",
              "      <td>755.0</td>\n",
              "      <td>0</td>\n",
              "      <td>120370</td>\n",
              "      <td>3</td>\n",
              "      <td>3</td>\n",
              "      <td>2019</td>\n",
              "      <td>другой этаж</td>\n",
              "      <td>0.472222</td>\n",
              "    </tr>\n",
              "    <tr>\n",
              "      <th>1</th>\n",
              "      <td>7</td>\n",
              "      <td>3350000.0</td>\n",
              "      <td>40.4</td>\n",
              "      <td>2018-12-04</td>\n",
              "      <td>1</td>\n",
              "      <td>2.65</td>\n",
              "      <td>11.0</td>\n",
              "      <td>18.6</td>\n",
              "      <td>1</td>\n",
              "      <td>False</td>\n",
              "      <td>...</td>\n",
              "      <td>0.0</td>\n",
              "      <td>0</td>\n",
              "      <td>0.0</td>\n",
              "      <td>81</td>\n",
              "      <td>82920</td>\n",
              "      <td>1</td>\n",
              "      <td>12</td>\n",
              "      <td>2018</td>\n",
              "      <td>первый этаж</td>\n",
              "      <td>0.460396</td>\n",
              "    </tr>\n",
              "    <tr>\n",
              "      <th>2</th>\n",
              "      <td>10</td>\n",
              "      <td>5196000.0</td>\n",
              "      <td>56.0</td>\n",
              "      <td>2015-08-20</td>\n",
              "      <td>2</td>\n",
              "      <td>2.65</td>\n",
              "      <td>5.0</td>\n",
              "      <td>34.3</td>\n",
              "      <td>4</td>\n",
              "      <td>False</td>\n",
              "      <td>...</td>\n",
              "      <td>90.0</td>\n",
              "      <td>2</td>\n",
              "      <td>574.0</td>\n",
              "      <td>558</td>\n",
              "      <td>92785</td>\n",
              "      <td>3</td>\n",
              "      <td>8</td>\n",
              "      <td>2015</td>\n",
              "      <td>другой этаж</td>\n",
              "      <td>0.612500</td>\n",
              "    </tr>\n",
              "    <tr>\n",
              "      <th>3</th>\n",
              "      <td>0</td>\n",
              "      <td>64900000.0</td>\n",
              "      <td>159.0</td>\n",
              "      <td>2015-07-24</td>\n",
              "      <td>3</td>\n",
              "      <td>2.65</td>\n",
              "      <td>14.0</td>\n",
              "      <td>30.0</td>\n",
              "      <td>9</td>\n",
              "      <td>False</td>\n",
              "      <td>...</td>\n",
              "      <td>84.0</td>\n",
              "      <td>3</td>\n",
              "      <td>234.0</td>\n",
              "      <td>424</td>\n",
              "      <td>408176</td>\n",
              "      <td>4</td>\n",
              "      <td>7</td>\n",
              "      <td>2015</td>\n",
              "      <td>другой этаж</td>\n",
              "      <td>0.188679</td>\n",
              "    </tr>\n",
              "    <tr>\n",
              "      <th>4</th>\n",
              "      <td>2</td>\n",
              "      <td>10000000.0</td>\n",
              "      <td>100.0</td>\n",
              "      <td>2018-06-19</td>\n",
              "      <td>2</td>\n",
              "      <td>3.03</td>\n",
              "      <td>14.0</td>\n",
              "      <td>32.0</td>\n",
              "      <td>13</td>\n",
              "      <td>False</td>\n",
              "      <td>...</td>\n",
              "      <td>112.0</td>\n",
              "      <td>1</td>\n",
              "      <td>48.0</td>\n",
              "      <td>121</td>\n",
              "      <td>100000</td>\n",
              "      <td>1</td>\n",
              "      <td>6</td>\n",
              "      <td>2018</td>\n",
              "      <td>другой этаж</td>\n",
              "      <td>0.320000</td>\n",
              "    </tr>\n",
              "  </tbody>\n",
              "</table>\n",
              "<p>5 rows × 28 columns</p>\n",
              "</div>"
            ],
            "text/plain": [
              "   total_images  last_price  total_area first_day_exposition  rooms  \\\n",
              "0            20  13000000.0       108.0           2019-03-07      3   \n",
              "1             7   3350000.0        40.4           2018-12-04      1   \n",
              "2            10   5196000.0        56.0           2015-08-20      2   \n",
              "3             0  64900000.0       159.0           2015-07-24      3   \n",
              "4             2  10000000.0       100.0           2018-06-19      2   \n",
              "\n",
              "   ceiling_height  floors_total  living_area  floor  is_apartment  ...  \\\n",
              "0            2.70          16.0         51.0      8         False  ...   \n",
              "1            2.65          11.0         18.6      1         False  ...   \n",
              "2            2.65           5.0         34.3      4         False  ...   \n",
              "3            2.65          14.0         30.0      9         False  ...   \n",
              "4            3.03          14.0         32.0     13         False  ...   \n",
              "\n",
              "   parks_nearest  ponds_around3000  ponds_nearest  days_exposition  \\\n",
              "0          482.0                 2          755.0                0   \n",
              "1            0.0                 0            0.0               81   \n",
              "2           90.0                 2          574.0              558   \n",
              "3           84.0                 3          234.0              424   \n",
              "4          112.0                 1           48.0              121   \n",
              "\n",
              "  price_one_sqr_m  weekday_exposition  month_exposition  year_exposition  \\\n",
              "0          120370                   3                 3             2019   \n",
              "1           82920                   1                12             2018   \n",
              "2           92785                   3                 8             2015   \n",
              "3          408176                   4                 7             2015   \n",
              "4          100000                   1                 6             2018   \n",
              "\n",
              "   floor_category  pt_living_total_area  \n",
              "0     другой этаж              0.472222  \n",
              "1     первый этаж              0.460396  \n",
              "2     другой этаж              0.612500  \n",
              "3     другой этаж              0.188679  \n",
              "4     другой этаж              0.320000  \n",
              "\n",
              "[5 rows x 28 columns]"
            ]
          },
          "metadata": {}
        }
      ]
    },
    {
      "cell_type": "code",
      "source": "#отпределим отношение площади кухни к общей\ndata['pt_kitchen_total_area'] = data['kitchen_area'] / data['total_area']\ndata.head()",
      "metadata": {},
      "execution_count": 15,
      "outputs": [
        {
          "execution_count": 15,
          "output_type": "execute_result",
          "data": {
            "text/html": [
              "<div>\n",
              "<style scoped>\n",
              "    .dataframe tbody tr th:only-of-type {\n",
              "        vertical-align: middle;\n",
              "    }\n",
              "\n",
              "    .dataframe tbody tr th {\n",
              "        vertical-align: top;\n",
              "    }\n",
              "\n",
              "    .dataframe thead th {\n",
              "        text-align: right;\n",
              "    }\n",
              "</style>\n",
              "<table border=\"1\" class=\"dataframe\">\n",
              "  <thead>\n",
              "    <tr style=\"text-align: right;\">\n",
              "      <th></th>\n",
              "      <th>total_images</th>\n",
              "      <th>last_price</th>\n",
              "      <th>total_area</th>\n",
              "      <th>first_day_exposition</th>\n",
              "      <th>rooms</th>\n",
              "      <th>ceiling_height</th>\n",
              "      <th>floors_total</th>\n",
              "      <th>living_area</th>\n",
              "      <th>floor</th>\n",
              "      <th>is_apartment</th>\n",
              "      <th>...</th>\n",
              "      <th>ponds_around3000</th>\n",
              "      <th>ponds_nearest</th>\n",
              "      <th>days_exposition</th>\n",
              "      <th>price_one_sqr_m</th>\n",
              "      <th>weekday_exposition</th>\n",
              "      <th>month_exposition</th>\n",
              "      <th>year_exposition</th>\n",
              "      <th>floor_category</th>\n",
              "      <th>pt_living_total_area</th>\n",
              "      <th>pt_kitchen_total_area</th>\n",
              "    </tr>\n",
              "  </thead>\n",
              "  <tbody>\n",
              "    <tr>\n",
              "      <th>0</th>\n",
              "      <td>20</td>\n",
              "      <td>13000000.0</td>\n",
              "      <td>108.0</td>\n",
              "      <td>2019-03-07</td>\n",
              "      <td>3</td>\n",
              "      <td>2.70</td>\n",
              "      <td>16.0</td>\n",
              "      <td>51.0</td>\n",
              "      <td>8</td>\n",
              "      <td>False</td>\n",
              "      <td>...</td>\n",
              "      <td>2</td>\n",
              "      <td>755.0</td>\n",
              "      <td>0</td>\n",
              "      <td>120370</td>\n",
              "      <td>3</td>\n",
              "      <td>3</td>\n",
              "      <td>2019</td>\n",
              "      <td>другой этаж</td>\n",
              "      <td>0.472222</td>\n",
              "      <td>0.231481</td>\n",
              "    </tr>\n",
              "    <tr>\n",
              "      <th>1</th>\n",
              "      <td>7</td>\n",
              "      <td>3350000.0</td>\n",
              "      <td>40.4</td>\n",
              "      <td>2018-12-04</td>\n",
              "      <td>1</td>\n",
              "      <td>2.65</td>\n",
              "      <td>11.0</td>\n",
              "      <td>18.6</td>\n",
              "      <td>1</td>\n",
              "      <td>False</td>\n",
              "      <td>...</td>\n",
              "      <td>0</td>\n",
              "      <td>0.0</td>\n",
              "      <td>81</td>\n",
              "      <td>82920</td>\n",
              "      <td>1</td>\n",
              "      <td>12</td>\n",
              "      <td>2018</td>\n",
              "      <td>первый этаж</td>\n",
              "      <td>0.460396</td>\n",
              "      <td>0.272277</td>\n",
              "    </tr>\n",
              "    <tr>\n",
              "      <th>2</th>\n",
              "      <td>10</td>\n",
              "      <td>5196000.0</td>\n",
              "      <td>56.0</td>\n",
              "      <td>2015-08-20</td>\n",
              "      <td>2</td>\n",
              "      <td>2.65</td>\n",
              "      <td>5.0</td>\n",
              "      <td>34.3</td>\n",
              "      <td>4</td>\n",
              "      <td>False</td>\n",
              "      <td>...</td>\n",
              "      <td>2</td>\n",
              "      <td>574.0</td>\n",
              "      <td>558</td>\n",
              "      <td>92785</td>\n",
              "      <td>3</td>\n",
              "      <td>8</td>\n",
              "      <td>2015</td>\n",
              "      <td>другой этаж</td>\n",
              "      <td>0.612500</td>\n",
              "      <td>0.148214</td>\n",
              "    </tr>\n",
              "    <tr>\n",
              "      <th>3</th>\n",
              "      <td>0</td>\n",
              "      <td>64900000.0</td>\n",
              "      <td>159.0</td>\n",
              "      <td>2015-07-24</td>\n",
              "      <td>3</td>\n",
              "      <td>2.65</td>\n",
              "      <td>14.0</td>\n",
              "      <td>30.0</td>\n",
              "      <td>9</td>\n",
              "      <td>False</td>\n",
              "      <td>...</td>\n",
              "      <td>3</td>\n",
              "      <td>234.0</td>\n",
              "      <td>424</td>\n",
              "      <td>408176</td>\n",
              "      <td>4</td>\n",
              "      <td>7</td>\n",
              "      <td>2015</td>\n",
              "      <td>другой этаж</td>\n",
              "      <td>0.188679</td>\n",
              "      <td>0.057233</td>\n",
              "    </tr>\n",
              "    <tr>\n",
              "      <th>4</th>\n",
              "      <td>2</td>\n",
              "      <td>10000000.0</td>\n",
              "      <td>100.0</td>\n",
              "      <td>2018-06-19</td>\n",
              "      <td>2</td>\n",
              "      <td>3.03</td>\n",
              "      <td>14.0</td>\n",
              "      <td>32.0</td>\n",
              "      <td>13</td>\n",
              "      <td>False</td>\n",
              "      <td>...</td>\n",
              "      <td>1</td>\n",
              "      <td>48.0</td>\n",
              "      <td>121</td>\n",
              "      <td>100000</td>\n",
              "      <td>1</td>\n",
              "      <td>6</td>\n",
              "      <td>2018</td>\n",
              "      <td>другой этаж</td>\n",
              "      <td>0.320000</td>\n",
              "      <td>0.410000</td>\n",
              "    </tr>\n",
              "  </tbody>\n",
              "</table>\n",
              "<p>5 rows × 29 columns</p>\n",
              "</div>"
            ],
            "text/plain": [
              "   total_images  last_price  total_area first_day_exposition  rooms  \\\n",
              "0            20  13000000.0       108.0           2019-03-07      3   \n",
              "1             7   3350000.0        40.4           2018-12-04      1   \n",
              "2            10   5196000.0        56.0           2015-08-20      2   \n",
              "3             0  64900000.0       159.0           2015-07-24      3   \n",
              "4             2  10000000.0       100.0           2018-06-19      2   \n",
              "\n",
              "   ceiling_height  floors_total  living_area  floor  is_apartment  ...  \\\n",
              "0            2.70          16.0         51.0      8         False  ...   \n",
              "1            2.65          11.0         18.6      1         False  ...   \n",
              "2            2.65           5.0         34.3      4         False  ...   \n",
              "3            2.65          14.0         30.0      9         False  ...   \n",
              "4            3.03          14.0         32.0     13         False  ...   \n",
              "\n",
              "   ponds_around3000  ponds_nearest  days_exposition  price_one_sqr_m  \\\n",
              "0                 2          755.0                0           120370   \n",
              "1                 0            0.0               81            82920   \n",
              "2                 2          574.0              558            92785   \n",
              "3                 3          234.0              424           408176   \n",
              "4                 1           48.0              121           100000   \n",
              "\n",
              "  weekday_exposition  month_exposition  year_exposition  floor_category  \\\n",
              "0                  3                 3             2019     другой этаж   \n",
              "1                  1                12             2018     первый этаж   \n",
              "2                  3                 8             2015     другой этаж   \n",
              "3                  4                 7             2015     другой этаж   \n",
              "4                  1                 6             2018     другой этаж   \n",
              "\n",
              "   pt_living_total_area  pt_kitchen_total_area  \n",
              "0              0.472222               0.231481  \n",
              "1              0.460396               0.272277  \n",
              "2              0.612500               0.148214  \n",
              "3              0.188679               0.057233  \n",
              "4              0.320000               0.410000  \n",
              "\n",
              "[5 rows x 29 columns]"
            ]
          },
          "metadata": {}
        }
      ]
    },
    {
      "cell_type": "markdown",
      "source": "## Исследовательский анализ данных",
      "metadata": {}
    },
    {
      "cell_type": "markdown",
      "source": "Проанализируем следующие показатели: площадь, цена, число комнат, высота потолков и построим соответствующие гистограммы.",
      "metadata": {}
    },
    {
      "cell_type": "code",
      "source": "# проанализуем общую площадь объектов\nimport matplotlib.pyplot as plt\ndata.plot(y = 'total_area', kind = 'hist', bins = 100, grid=True, figsize = (9,9), range = (0,450))\nplt.title('Общая площадь объектов')\ndata['total_area'].describe()",
      "metadata": {
        "scrolled": true
      },
      "execution_count": 16,
      "outputs": [
        {
          "execution_count": 16,
          "output_type": "execute_result",
          "data": {
            "text/plain": [
              "count    23699.000000\n",
              "mean        60.348651\n",
              "std         35.654083\n",
              "min         12.000000\n",
              "25%         40.000000\n",
              "50%         52.000000\n",
              "75%         69.900000\n",
              "max        900.000000\n",
              "Name: total_area, dtype: float64"
            ]
          },
          "metadata": {}
        },
        {
          "output_type": "display_data",
          "data": {
            "image/png": "[encoded data removed]",
            "text/plain": [
              "<Figure size 648x648 with 1 Axes>"
            ]
          },
          "metadata": {
            "needs_background": "light"
          }
        }
      ]
    },
    {
      "cell_type": "markdown",
      "source": "Анализ гистограммы общей площади показывает нормальное распределение с небольшими выбросами. Общая площадь  колеблется от 12 до 900 м2, среднее значение 60, а медиана - 52 м2.",
      "metadata": {}
    },
    {
      "cell_type": "code",
      "source": "#изучим цену\ndata.plot(y = 'last_price', kind = 'hist', bins = 100, grid=True, range = (0,15000000), figsize = (9,9))\nplt.title('Цена')\ndata['last_price'].describe()",
      "metadata": {
        "scrolled": true
      },
      "execution_count": 17,
      "outputs": [
        {
          "execution_count": 17,
          "output_type": "execute_result",
          "data": {
            "text/plain": [
              "count    2.369900e+04\n",
              "mean     6.541549e+06\n",
              "std      1.088701e+07\n",
              "min      1.219000e+04\n",
              "25%      3.400000e+06\n",
              "50%      4.650000e+06\n",
              "75%      6.800000e+06\n",
              "max      7.630000e+08\n",
              "Name: last_price, dtype: float64"
            ]
          },
          "metadata": {}
        },
        {
          "output_type": "display_data",
          "data": {
            "image/png": "[encoded data removed]",
            "text/plain": [
              "<Figure size 648x648 with 1 Axes>"
            ]
          },
          "metadata": {
            "needs_background": "light"
          }
        }
      ]
    },
    {
      "cell_type": "markdown",
      "source": "Анализ гистограммы цены показывает нормальное распределение с небольшими выбросами. Цены на квартиры изменяются от 0,012 млн. руб. до 763 млн. руб., среднее стоимость составляет 6,54 млн. руб., медиана -  4,65 млн. руб.",
      "metadata": {}
    },
    {
      "cell_type": "code",
      "source": "#проаналируем число комнат\ndata.plot(y = 'rooms', kind = 'hist', bins = 30, grid=True, figsize = (9,9))\nplt.title('Число комнат')\ndata['rooms'].describe()",
      "metadata": {
        "scrolled": true
      },
      "execution_count": 18,
      "outputs": [
        {
          "execution_count": 18,
          "output_type": "execute_result",
          "data": {
            "text/plain": [
              "count    23699.000000\n",
              "mean         2.070636\n",
              "std          1.078405\n",
              "min          0.000000\n",
              "25%          1.000000\n",
              "50%          2.000000\n",
              "75%          3.000000\n",
              "max         19.000000\n",
              "Name: rooms, dtype: float64"
            ]
          },
          "metadata": {}
        },
        {
          "output_type": "display_data",
          "data": {
            "image/png": "[encoded data removed]",
            "text/plain": [
              "<Figure size 648x648 with 1 Axes>"
            ]
          },
          "metadata": {
            "needs_background": "light"
          }
        }
      ]
    },
    {
      "cell_type": "raw",
      "source": "Анализ гистограммы количества комнат показывает, что больше всего одно комнатных квартир. Количество комнат изменяется от 0 (студии) до 19. Среднее значение/медиана составляет 2 комнаты.",
      "metadata": {}
    },
    {
      "cell_type": "code",
      "source": "#изучим высоту потолков\ndata.plot(y = 'ceiling_height', kind = 'hist', bins = 30, range = (2,5), grid=True, figsize = (5,3))\nplt.title('Высота потолков')\ndata['ceiling_height'].describe()",
      "metadata": {
        "scrolled": true
      },
      "execution_count": 19,
      "outputs": [
        {
          "execution_count": 19,
          "output_type": "execute_result",
          "data": {
            "text/plain": [
              "count    23699.000000\n",
              "mean         2.724358\n",
              "std          0.988298\n",
              "min          1.000000\n",
              "25%          2.600000\n",
              "50%          2.650000\n",
              "75%          2.700000\n",
              "max        100.000000\n",
              "Name: ceiling_height, dtype: float64"
            ]
          },
          "metadata": {}
        },
        {
          "output_type": "display_data",
          "data": {
            "image/png": "[encoded data removed]",
            "text/plain": [
              "<Figure size 360x216 with 1 Axes>"
            ]
          },
          "metadata": {
            "needs_background": "light"
          }
        }
      ]
    },
    {
      "cell_type": "markdown",
      "source": "Анализ гистограммы высоты потолков показывает нормальное распределение. Высота потолков колеблется от 1 до 100 м (скорее ошибка), среднее значение 2,7 м, а медиана - 2.65 м.",
      "metadata": {}
    },
    {
      "cell_type": "markdown",
      "source": "Проанализируем время продажи квартиры. Предположим, что сколько дней было размещено объявление соответствует времени продажи квартир. Построим по days_exposition гистограмму и посчитаем среднее и медиану.",
      "metadata": {}
    },
    {
      "cell_type": "code",
      "source": "#построим гисторгамму\ndata.plot(y = 'days_exposition', kind = 'hist', bins = 30, grid = True, range = (1,1600))\nplt.title('Время продажи квартиры')\n\n#выдедем среднее значение и медиану, отбросив нулевые значения\ndata[data['days_exposition']!=0]['days_exposition'].describe()",
      "metadata": {
        "scrolled": true
      },
      "execution_count": 20,
      "outputs": [
        {
          "execution_count": 20,
          "output_type": "execute_result",
          "data": {
            "text/plain": [
              "count    20518.000000\n",
              "mean       180.888634\n",
              "std        219.727988\n",
              "min          1.000000\n",
              "25%         45.000000\n",
              "50%         95.000000\n",
              "75%        232.000000\n",
              "max       1580.000000\n",
              "Name: days_exposition, dtype: float64"
            ]
          },
          "metadata": {}
        },
        {
          "output_type": "display_data",
          "data": {
            "image/png": "[encoded data removed]",
            "text/plain": [
              "<Figure size 432x288 with 1 Axes>"
            ]
          },
          "metadata": {
            "needs_background": "light"
          }
        }
      ]
    },
    {
      "cell_type": "markdown",
      "source": "Анализ гистограммы показал нормальное распределение. Среднее значение - 180 дней, а медиана - 95 дней. \nДля детального анализа выбросов сделаем гистограмму со значениями от 0 до 200 и количеством корзин 100, а также посчитаем методом value_counts наиболее популярное количество дней до снятия объявления.",
      "metadata": {}
    },
    {
      "cell_type": "code",
      "source": "data.plot(y = 'days_exposition', kind = 'hist', bins = 100, grid = True, range = (1,200))\ndata[data['days_exposition']!=0]['days_exposition'].value_counts()",
      "metadata": {
        "scrolled": true
      },
      "execution_count": 21,
      "outputs": [
        {
          "execution_count": 21,
          "output_type": "execute_result",
          "data": {
            "text/plain": [
              "45      880\n",
              "60      538\n",
              "7       234\n",
              "30      208\n",
              "90      204\n",
              "       ... \n",
              "1112      1\n",
              "1080      1\n",
              "1064      1\n",
              "1032      1\n",
              "1391      1\n",
              "Name: days_exposition, Length: 1141, dtype: int64"
            ]
          },
          "metadata": {}
        },
        {
          "output_type": "display_data",
          "data": {
            "image/png": "[encoded data removed]",
            "text/plain": [
              "<Figure size 432x288 with 1 Axes>"
            ]
          },
          "metadata": {
            "needs_background": "light"
          }
        }
      ]
    },
    {
      "cell_type": "markdown",
      "source": "Таким образом, выявлены аномалии на 45, 60, 7, 30, 90 днях - это наиболее популярное количество дней до снятия объявления.",
      "metadata": {}
    },
    {
      "cell_type": "markdown",
      "source": "Для визуального анализа характеристики распределения времени продаж построем диаграмму размаха.",
      "metadata": {}
    },
    {
      "cell_type": "code",
      "source": "data[data['days_exposition']!=0].boxplot('days_exposition')\nplt.ylim(1,700)",
      "metadata": {},
      "execution_count": 22,
      "outputs": [
        {
          "execution_count": 22,
          "output_type": "execute_result",
          "data": {
            "text/plain": [
              "(1.0, 700.0)"
            ]
          },
          "metadata": {}
        },
        {
          "output_type": "display_data",
          "data": {
            "image/png": "[encoded data removed]",
            "text/plain": [
              "<Figure size 432x288 with 1 Axes>"
            ]
          },
          "metadata": {
            "needs_background": "light"
          }
        }
      ]
    },
    {
      "cell_type": "markdown",
      "source": "Исходя из метода describe, межквартильный размах - от 45 до 232 дней, исходя из диаграммы размаха разница между минимальным значение и максимальным примерно 500 дней. Значит необоснованно быстрых продаж и необоснованно долгих (500 дней и больше) нет. Значит нормальные значения лежат от 1 до 500.",
      "metadata": {}
    },
    {
      "cell_type": "markdown",
      "source": "Уберем редкие и выбивающиеся значения во времени продажи квартиры.",
      "metadata": {}
    },
    {
      "cell_type": "code",
      "source": "#отфильтруем данные от аномалий и запишем их в новый датафрейм good_data\ngood_data = data.query('days_exposition != 30 and days_exposition != 60 and days_exposition != 90 and days_exposition != 7 and days_exposition != 45 and days_exposition != 45 and days_exposition != 0')\n\n#построим диаграмму размаха\ngood_data.boxplot('days_exposition')\nplt.ylim(1,700)\n\n\n#построим гистограммы\ngood_data.plot(y = 'days_exposition', kind = 'hist', bins = 30, grid = True, range = (1,1600))\nplt.title('Время продажи квартиры')\ngood_data.plot(y = 'days_exposition', kind = 'hist', bins = 100, grid = True, range = (1,200))\nplt.title('Время продажи квартиры')\n\n#выведем среднее значение, медиану \ngood_data['days_exposition'].describe()",
      "metadata": {},
      "execution_count": 23,
      "outputs": [
        {
          "execution_count": 23,
          "output_type": "execute_result",
          "data": {
            "text/plain": [
              "count    18454.000000\n",
              "mean       195.803349\n",
              "std        226.760010\n",
              "min          1.000000\n",
              "25%         44.000000\n",
              "50%        114.000000\n",
              "75%        259.000000\n",
              "max       1580.000000\n",
              "Name: days_exposition, dtype: float64"
            ]
          },
          "metadata": {}
        },
        {
          "output_type": "display_data",
          "data": {
            "image/png": "[encoded data removed]",
            "text/plain": [
              "<Figure size 432x288 with 1 Axes>"
            ]
          },
          "metadata": {
            "needs_background": "light"
          }
        },
        {
          "output_type": "display_data",
          "data": {
            "image/png": "[encoded data removed]",
            "text/plain": [
              "<Figure size 432x288 with 1 Axes>"
            ]
          },
          "metadata": {
            "needs_background": "light"
          }
        },
        {
          "output_type": "display_data",
          "data": {
            "image/png": "[encoded data removed]",
            "text/plain": [
              "<Figure size 432x288 with 1 Axes>"
            ]
          },
          "metadata": {
            "needs_background": "light"
          }
        }
      ]
    },
    {
      "cell_type": "markdown",
      "source": "Таким образом, в очищенных данных получаем большие значения медианы и среднего значения - 114 и 195 соответственно, вместо 95 и 180. Аналогично нормальные значения располагаются от 1 до 600 дней вместо от 1 до 500 дней.",
      "metadata": {}
    },
    {
      "cell_type": "markdown",
      "source": "Проведем анализ, какие факторы больше всего влияют на стоимость квартиры. Изучим, зависит ли цена квадратного метра от общей площади квартиры, числа комнат, этажа (первого или последнего), удалённости от центра и даты размещения: дня недели, месяца и года. Построим соответствующие графики и сводные таблицы для анализа факторов, влияющих на цену.",
      "metadata": {}
    },
    {
      "cell_type": "code",
      "source": "#анализ зависимости цены квадратного метра от общей площади квартиры, \n#создадим переменную pivot_table_total_area с данными для анализа\npivot_table_total_area = data.pivot_table(index = 'total_area', values = 'price_one_sqr_m', aggfunc = 'median')\npivot_table_total_area.columns = ['median']\ndisplay(pivot_table_total_area.head(10))\n\n#построим график зависимости медианального значения цены от общей площади\npivot_table_total_area.plot(y = 'median', style = 'o')\nplt.title('Зависимость медианального значения цены от общей площади')\n\n#рассчитаем коэффициент корреляции цены квадратного метра и общей площади квартиры\ndata['total_area'].corr(data['price_one_sqr_m'])",
      "metadata": {},
      "execution_count": 24,
      "outputs": [
        {
          "output_type": "display_data",
          "data": {
            "text/html": [
              "<div>\n",
              "<style scoped>\n",
              "    .dataframe tbody tr th:only-of-type {\n",
              "        vertical-align: middle;\n",
              "    }\n",
              "\n",
              "    .dataframe tbody tr th {\n",
              "        vertical-align: top;\n",
              "    }\n",
              "\n",
              "    .dataframe thead th {\n",
              "        text-align: right;\n",
              "    }\n",
              "</style>\n",
              "<table border=\"1\" class=\"dataframe\">\n",
              "  <thead>\n",
              "    <tr style=\"text-align: right;\">\n",
              "      <th></th>\n",
              "      <th>median</th>\n",
              "    </tr>\n",
              "    <tr>\n",
              "      <th>total_area</th>\n",
              "      <th></th>\n",
              "    </tr>\n",
              "  </thead>\n",
              "  <tbody>\n",
              "    <tr>\n",
              "      <th>12.0</th>\n",
              "      <td>200000.0</td>\n",
              "    </tr>\n",
              "    <tr>\n",
              "      <th>13.0</th>\n",
              "      <td>142307.0</td>\n",
              "    </tr>\n",
              "    <tr>\n",
              "      <th>13.2</th>\n",
              "      <td>127727.0</td>\n",
              "    </tr>\n",
              "    <tr>\n",
              "      <th>14.0</th>\n",
              "      <td>85000.0</td>\n",
              "    </tr>\n",
              "    <tr>\n",
              "      <th>15.0</th>\n",
              "      <td>114999.5</td>\n",
              "    </tr>\n",
              "    <tr>\n",
              "      <th>15.5</th>\n",
              "      <td>158064.0</td>\n",
              "    </tr>\n",
              "    <tr>\n",
              "      <th>16.0</th>\n",
              "      <td>131250.0</td>\n",
              "    </tr>\n",
              "    <tr>\n",
              "      <th>17.0</th>\n",
              "      <td>99999.5</td>\n",
              "    </tr>\n",
              "    <tr>\n",
              "      <th>17.2</th>\n",
              "      <td>119186.0</td>\n",
              "    </tr>\n",
              "    <tr>\n",
              "      <th>17.6</th>\n",
              "      <td>193181.0</td>\n",
              "    </tr>\n",
              "  </tbody>\n",
              "</table>\n",
              "</div>"
            ],
            "text/plain": [
              "              median\n",
              "total_area          \n",
              "12.0        200000.0\n",
              "13.0        142307.0\n",
              "13.2        127727.0\n",
              "14.0         85000.0\n",
              "15.0        114999.5\n",
              "15.5        158064.0\n",
              "16.0        131250.0\n",
              "17.0         99999.5\n",
              "17.2        119186.0\n",
              "17.6        193181.0"
            ]
          },
          "metadata": {}
        },
        {
          "execution_count": 24,
          "output_type": "execute_result",
          "data": {
            "text/plain": [
              "0.30196014387792547"
            ]
          },
          "metadata": {}
        },
        {
          "output_type": "display_data",
          "data": {
            "image/png": "[encoded data removed]",
            "text/plain": [
              "<Figure size 432x288 with 1 Axes>"
            ]
          },
          "metadata": {
            "needs_background": "light"
          }
        }
      ]
    },
    {
      "cell_type": "markdown",
      "source": "Таким образом, зависимость между ценой квадратного метра и общей площадью минимальна (коэффициент корреляции Пирсона - 0.3). Также из графика видно, что больше площадь, тем немного выше стоимость.",
      "metadata": {}
    },
    {
      "cell_type": "code",
      "source": "#анализ зависимости цены квадратного метра от количества комнат \n#создадим переменную pivot_table_total_rooms с данными для анализа\npivot_table_rooms = data.pivot_table(index = 'rooms', values = 'price_one_sqr_m', aggfunc = ['count','median'])\npivot_table_rooms.columns = ['count','median']\ndisplay(pivot_table_rooms)\n\n#построим график зависимости медианального значения цены от количества комнат, отбросив группы с минимальным количеством\npivot_table_rooms.query('count > 12').plot(y = 'median')\nplt.title('Зависимость медианального значения цены от количества комнат')\n\n#рассчитаем коэффициент корреляции цены квадратного метра и количество комнат\ndata['rooms'].corr(data['price_one_sqr_m'])",
      "metadata": {},
      "execution_count": 25,
      "outputs": [
        {
          "output_type": "display_data",
          "data": {
            "text/html": [
              "<div>\n",
              "<style scoped>\n",
              "    .dataframe tbody tr th:only-of-type {\n",
              "        vertical-align: middle;\n",
              "    }\n",
              "\n",
              "    .dataframe tbody tr th {\n",
              "        vertical-align: top;\n",
              "    }\n",
              "\n",
              "    .dataframe thead th {\n",
              "        text-align: right;\n",
              "    }\n",
              "</style>\n",
              "<table border=\"1\" class=\"dataframe\">\n",
              "  <thead>\n",
              "    <tr style=\"text-align: right;\">\n",
              "      <th></th>\n",
              "      <th>count</th>\n",
              "      <th>median</th>\n",
              "    </tr>\n",
              "    <tr>\n",
              "      <th>rooms</th>\n",
              "      <th></th>\n",
              "      <th></th>\n",
              "    </tr>\n",
              "  </thead>\n",
              "  <tbody>\n",
              "    <tr>\n",
              "      <th>0</th>\n",
              "      <td>197</td>\n",
              "      <td>105555.0</td>\n",
              "    </tr>\n",
              "    <tr>\n",
              "      <th>1</th>\n",
              "      <td>8047</td>\n",
              "      <td>100000.0</td>\n",
              "    </tr>\n",
              "    <tr>\n",
              "      <th>2</th>\n",
              "      <td>7940</td>\n",
              "      <td>92796.0</td>\n",
              "    </tr>\n",
              "    <tr>\n",
              "      <th>3</th>\n",
              "      <td>5814</td>\n",
              "      <td>88983.0</td>\n",
              "    </tr>\n",
              "    <tr>\n",
              "      <th>4</th>\n",
              "      <td>1180</td>\n",
              "      <td>92666.0</td>\n",
              "    </tr>\n",
              "    <tr>\n",
              "      <th>5</th>\n",
              "      <td>326</td>\n",
              "      <td>96516.5</td>\n",
              "    </tr>\n",
              "    <tr>\n",
              "      <th>6</th>\n",
              "      <td>105</td>\n",
              "      <td>99411.0</td>\n",
              "    </tr>\n",
              "    <tr>\n",
              "      <th>7</th>\n",
              "      <td>59</td>\n",
              "      <td>108827.0</td>\n",
              "    </tr>\n",
              "    <tr>\n",
              "      <th>8</th>\n",
              "      <td>12</td>\n",
              "      <td>106760.0</td>\n",
              "    </tr>\n",
              "    <tr>\n",
              "      <th>9</th>\n",
              "      <td>8</td>\n",
              "      <td>92517.5</td>\n",
              "    </tr>\n",
              "    <tr>\n",
              "      <th>10</th>\n",
              "      <td>3</td>\n",
              "      <td>84372.0</td>\n",
              "    </tr>\n",
              "    <tr>\n",
              "      <th>11</th>\n",
              "      <td>2</td>\n",
              "      <td>132639.5</td>\n",
              "    </tr>\n",
              "    <tr>\n",
              "      <th>12</th>\n",
              "      <td>1</td>\n",
              "      <td>466666.0</td>\n",
              "    </tr>\n",
              "    <tr>\n",
              "      <th>14</th>\n",
              "      <td>2</td>\n",
              "      <td>92827.0</td>\n",
              "    </tr>\n",
              "    <tr>\n",
              "      <th>15</th>\n",
              "      <td>1</td>\n",
              "      <td>110169.0</td>\n",
              "    </tr>\n",
              "    <tr>\n",
              "      <th>16</th>\n",
              "      <td>1</td>\n",
              "      <td>105555.0</td>\n",
              "    </tr>\n",
              "    <tr>\n",
              "      <th>19</th>\n",
              "      <td>1</td>\n",
              "      <td>86091.0</td>\n",
              "    </tr>\n",
              "  </tbody>\n",
              "</table>\n",
              "</div>"
            ],
            "text/plain": [
              "       count    median\n",
              "rooms                 \n",
              "0        197  105555.0\n",
              "1       8047  100000.0\n",
              "2       7940   92796.0\n",
              "3       5814   88983.0\n",
              "4       1180   92666.0\n",
              "5        326   96516.5\n",
              "6        105   99411.0\n",
              "7         59  108827.0\n",
              "8         12  106760.0\n",
              "9          8   92517.5\n",
              "10         3   84372.0\n",
              "11         2  132639.5\n",
              "12         1  466666.0\n",
              "14         2   92827.0\n",
              "15         1  110169.0\n",
              "16         1  105555.0\n",
              "19         1   86091.0"
            ]
          },
          "metadata": {}
        },
        {
          "execution_count": 25,
          "output_type": "execute_result",
          "data": {
            "text/plain": [
              "0.0554194996705922"
            ]
          },
          "metadata": {}
        },
        {
          "output_type": "display_data",
          "data": {
            "image/png": "[encoded data removed]",
            "text/plain": [
              "<Figure size 432x288 with 1 Axes>"
            ]
          },
          "metadata": {
            "needs_background": "light"
          }
        }
      ]
    },
    {
      "cell_type": "markdown",
      "source": "Таким образом, зависимость между ценой квадратного метра и количеством комнат отсутствует (корреляции Пирсона - 0.05). Также из графика видно, самый дешевый квадратный метр у трехкомнатных квартир.",
      "metadata": {}
    },
    {
      "cell_type": "code",
      "source": "#анализ зависимости цены квадратного метра от этажа \n#создадим переменную pivot_table_floor_category с данными для анализа\npivot_table_floor_category = data.query('floor_category != \"другой этаж\"').pivot_table(index = 'floor_category', values = 'price_one_sqr_m', aggfunc = 'median')\npivot_table_floor_category.columns = ['median']\ndisplay(pivot_table_floor_category.head(10))\n\n#построим график зависимости медианального значения цены от этажа\npivot_table_floor_category.plot(y = 'median')\nplt.title('Зависимость медианального значения цены от этажа')",
      "metadata": {},
      "execution_count": 26,
      "outputs": [
        {
          "output_type": "display_data",
          "data": {
            "text/html": [
              "<div>\n",
              "<style scoped>\n",
              "    .dataframe tbody tr th:only-of-type {\n",
              "        vertical-align: middle;\n",
              "    }\n",
              "\n",
              "    .dataframe tbody tr th {\n",
              "        vertical-align: top;\n",
              "    }\n",
              "\n",
              "    .dataframe thead th {\n",
              "        text-align: right;\n",
              "    }\n",
              "</style>\n",
              "<table border=\"1\" class=\"dataframe\">\n",
              "  <thead>\n",
              "    <tr style=\"text-align: right;\">\n",
              "      <th></th>\n",
              "      <th>median</th>\n",
              "    </tr>\n",
              "    <tr>\n",
              "      <th>floor_category</th>\n",
              "      <th></th>\n",
              "    </tr>\n",
              "  </thead>\n",
              "  <tbody>\n",
              "    <tr>\n",
              "      <th>первый этаж</th>\n",
              "      <td>81223</td>\n",
              "    </tr>\n",
              "    <tr>\n",
              "      <th>последни этаж</th>\n",
              "      <td>87777</td>\n",
              "    </tr>\n",
              "  </tbody>\n",
              "</table>\n",
              "</div>"
            ],
            "text/plain": [
              "                median\n",
              "floor_category        \n",
              "первый этаж      81223\n",
              "последни этаж    87777"
            ]
          },
          "metadata": {}
        },
        {
          "execution_count": 26,
          "output_type": "execute_result",
          "data": {
            "text/plain": [
              "Text(0.5, 1.0, 'Зависимость медианального значения цены от этажа')"
            ]
          },
          "metadata": {}
        },
        {
          "output_type": "display_data",
          "data": {
            "image/png": "[encoded data removed]",
            "text/plain": [
              "<Figure size 432x288 with 1 Axes>"
            ]
          },
          "metadata": {
            "needs_background": "light"
          }
        }
      ]
    },
    {
      "cell_type": "markdown",
      "source": "Таким образом, согласно графику, квартиры на первом этаже дешевле квартир на последнем этаже.",
      "metadata": {}
    },
    {
      "cell_type": "code",
      "source": "#анализ зависимости цены квадратного метра от близости к центру\n#построим график зависимости медианального значения цены от близости к центру\ndata.plot(kind = 'scatter', y = 'price_one_sqr_m', x = 'cityCenters_nearest', alpha = 0.5)\nplt.title('Зависимость медианального значения цены от близости к центру')\n\n#рассчитаем коэффициент корреляции цены квадратного метра и расстояние до центра\ndata['cityCenters_nearest'].corr(data['price_one_sqr_m'])",
      "metadata": {},
      "execution_count": 27,
      "outputs": [
        {
          "execution_count": 27,
          "output_type": "execute_result",
          "data": {
            "text/plain": [
              "-0.3179507368286467"
            ]
          },
          "metadata": {}
        },
        {
          "output_type": "display_data",
          "data": {
            "image/png": "[encoded data removed]",
            "text/plain": [
              "<Figure size 432x288 with 1 Axes>"
            ]
          },
          "metadata": {
            "needs_background": "light"
          }
        }
      ]
    },
    {
      "cell_type": "markdown",
      "source": "Таким образом, видна зависимость стоимости квадратного метра от близости к центру: чем ближе к центру, тем выше стоимость. Это также подтверждает отрицательное значение коэффициента корреляции.",
      "metadata": {}
    },
    {
      "cell_type": "code",
      "source": "#анализ зависимости цены квадратного метра от дня размещения обьявление\n#создадим переменную pivot_table_weekday с данными для анализа\npivot_table_weekday = data.pivot_table(index = 'weekday_exposition', values = 'price_one_sqr_m', aggfunc = 'median')\npivot_table_weekday.columns = ['median']\ndisplay(pivot_table_weekday.sort_values('median', ascending = False))\n\n#построим график зависимости медианального значения цены от дня размещения обьявление\npivot_table_weekday.plot(y = 'median')\nplt.title('Зависимость медианального значения цены от дня размещения обьявление')",
      "metadata": {},
      "execution_count": 28,
      "outputs": [
        {
          "output_type": "display_data",
          "data": {
            "text/html": [
              "<div>\n",
              "<style scoped>\n",
              "    .dataframe tbody tr th:only-of-type {\n",
              "        vertical-align: middle;\n",
              "    }\n",
              "\n",
              "    .dataframe tbody tr th {\n",
              "        vertical-align: top;\n",
              "    }\n",
              "\n",
              "    .dataframe thead th {\n",
              "        text-align: right;\n",
              "    }\n",
              "</style>\n",
              "<table border=\"1\" class=\"dataframe\">\n",
              "  <thead>\n",
              "    <tr style=\"text-align: right;\">\n",
              "      <th></th>\n",
              "      <th>median</th>\n",
              "    </tr>\n",
              "    <tr>\n",
              "      <th>weekday_exposition</th>\n",
              "      <th></th>\n",
              "    </tr>\n",
              "  </thead>\n",
              "  <tbody>\n",
              "    <tr>\n",
              "      <th>1</th>\n",
              "      <td>95634.0</td>\n",
              "    </tr>\n",
              "    <tr>\n",
              "      <th>2</th>\n",
              "      <td>95473.0</td>\n",
              "    </tr>\n",
              "    <tr>\n",
              "      <th>3</th>\n",
              "      <td>95143.0</td>\n",
              "    </tr>\n",
              "    <tr>\n",
              "      <th>0</th>\n",
              "      <td>94688.0</td>\n",
              "    </tr>\n",
              "    <tr>\n",
              "      <th>4</th>\n",
              "      <td>94616.0</td>\n",
              "    </tr>\n",
              "    <tr>\n",
              "      <th>6</th>\n",
              "      <td>94501.0</td>\n",
              "    </tr>\n",
              "    <tr>\n",
              "      <th>5</th>\n",
              "      <td>93545.5</td>\n",
              "    </tr>\n",
              "  </tbody>\n",
              "</table>\n",
              "</div>"
            ],
            "text/plain": [
              "                     median\n",
              "weekday_exposition         \n",
              "1                   95634.0\n",
              "2                   95473.0\n",
              "3                   95143.0\n",
              "0                   94688.0\n",
              "4                   94616.0\n",
              "6                   94501.0\n",
              "5                   93545.5"
            ]
          },
          "metadata": {}
        },
        {
          "execution_count": 28,
          "output_type": "execute_result",
          "data": {
            "text/plain": [
              "Text(0.5, 1.0, 'Зависимость медианального значения цены от дня размещения обьявление')"
            ]
          },
          "metadata": {}
        },
        {
          "output_type": "display_data",
          "data": {
            "image/png": "[encoded data removed]",
            "text/plain": [
              "<Figure size 432x288 with 1 Axes>"
            ]
          },
          "metadata": {
            "needs_background": "light"
          }
        }
      ]
    },
    {
      "cell_type": "markdown",
      "source": "Из графика видно, что ко вторнику выставляются объявления с большей стоимостью, а в субботу - с минимальной. ",
      "metadata": {}
    },
    {
      "cell_type": "code",
      "source": "#анализ зависимости цены квадратного метра от месяца размещения обьявление\n#создадим переменную pivot_table_month с данными для анализа\npivot_table_month = data.pivot_table(index = 'month_exposition', values = 'price_one_sqr_m', aggfunc = 'median')\npivot_table_month.columns = ['median']\ndisplay(pivot_table_month.sort_values('median', ascending = False))\n\n#построим график зависимости медианального значения цены от месяца размещения обьявление\npivot_table_month.plot(y = 'median')\nplt.title('Зависимость медианального значения цены от месяца размещения обьявление')",
      "metadata": {},
      "execution_count": 29,
      "outputs": [
        {
          "output_type": "display_data",
          "data": {
            "text/html": [
              "<div>\n",
              "<style scoped>\n",
              "    .dataframe tbody tr th:only-of-type {\n",
              "        vertical-align: middle;\n",
              "    }\n",
              "\n",
              "    .dataframe tbody tr th {\n",
              "        vertical-align: top;\n",
              "    }\n",
              "\n",
              "    .dataframe thead th {\n",
              "        text-align: right;\n",
              "    }\n",
              "</style>\n",
              "<table border=\"1\" class=\"dataframe\">\n",
              "  <thead>\n",
              "    <tr style=\"text-align: right;\">\n",
              "      <th></th>\n",
              "      <th>median</th>\n",
              "    </tr>\n",
              "    <tr>\n",
              "      <th>month_exposition</th>\n",
              "      <th></th>\n",
              "    </tr>\n",
              "  </thead>\n",
              "  <tbody>\n",
              "    <tr>\n",
              "      <th>4</th>\n",
              "      <td>96451</td>\n",
              "    </tr>\n",
              "    <tr>\n",
              "      <th>8</th>\n",
              "      <td>96026</td>\n",
              "    </tr>\n",
              "    <tr>\n",
              "      <th>9</th>\n",
              "      <td>95607</td>\n",
              "    </tr>\n",
              "    <tr>\n",
              "      <th>11</th>\n",
              "      <td>95588</td>\n",
              "    </tr>\n",
              "    <tr>\n",
              "      <th>3</th>\n",
              "      <td>95238</td>\n",
              "    </tr>\n",
              "    <tr>\n",
              "      <th>1</th>\n",
              "      <td>95222</td>\n",
              "    </tr>\n",
              "    <tr>\n",
              "      <th>2</th>\n",
              "      <td>95000</td>\n",
              "    </tr>\n",
              "    <tr>\n",
              "      <th>7</th>\n",
              "      <td>95000</td>\n",
              "    </tr>\n",
              "    <tr>\n",
              "      <th>12</th>\n",
              "      <td>94262</td>\n",
              "    </tr>\n",
              "    <tr>\n",
              "      <th>10</th>\n",
              "      <td>94202</td>\n",
              "    </tr>\n",
              "    <tr>\n",
              "      <th>5</th>\n",
              "      <td>92857</td>\n",
              "    </tr>\n",
              "    <tr>\n",
              "      <th>6</th>\n",
              "      <td>92799</td>\n",
              "    </tr>\n",
              "  </tbody>\n",
              "</table>\n",
              "</div>"
            ],
            "text/plain": [
              "                  median\n",
              "month_exposition        \n",
              "4                  96451\n",
              "8                  96026\n",
              "9                  95607\n",
              "11                 95588\n",
              "3                  95238\n",
              "1                  95222\n",
              "2                  95000\n",
              "7                  95000\n",
              "12                 94262\n",
              "10                 94202\n",
              "5                  92857\n",
              "6                  92799"
            ]
          },
          "metadata": {}
        },
        {
          "execution_count": 29,
          "output_type": "execute_result",
          "data": {
            "text/plain": [
              "Text(0.5, 1.0, 'Зависимость медианального значения цены от месяца размещения обьявление')"
            ]
          },
          "metadata": {}
        },
        {
          "output_type": "display_data",
          "data": {
            "image/png": "[encoded data removed]",
            "text/plain": [
              "<Figure size 432x288 with 1 Axes>"
            ]
          },
          "metadata": {
            "needs_background": "light"
          }
        }
      ]
    },
    {
      "cell_type": "markdown",
      "source": "Таким образом, самая высокая стоимость квадратного метра в апреле, самая низкая - в июне. ",
      "metadata": {}
    },
    {
      "cell_type": "code",
      "source": "#анализ зависимости цены квадратного метра от года размещения обьявление\n#создадим переменную  pivot_table_year с данными для анализа\npivot_table_year = data.pivot_table(index = 'year_exposition', values = 'price_one_sqr_m', aggfunc = 'median')\npivot_table_year.columns = ['median']\ndisplay(pivot_table_year.sort_values('median', ascending = False))\n\n#построим график зависимости медианального значения цены от года размещения обьявление\npivot_table_year.plot(y = 'median')\nplt.show('Зависимость медианального значения цены от года размещения обьявления')",
      "metadata": {},
      "execution_count": 30,
      "outputs": [
        {
          "output_type": "display_data",
          "data": {
            "text/html": [
              "<div>\n",
              "<style scoped>\n",
              "    .dataframe tbody tr th:only-of-type {\n",
              "        vertical-align: middle;\n",
              "    }\n",
              "\n",
              "    .dataframe tbody tr th {\n",
              "        vertical-align: top;\n",
              "    }\n",
              "\n",
              "    .dataframe thead th {\n",
              "        text-align: right;\n",
              "    }\n",
              "</style>\n",
              "<table border=\"1\" class=\"dataframe\">\n",
              "  <thead>\n",
              "    <tr style=\"text-align: right;\">\n",
              "      <th></th>\n",
              "      <th>median</th>\n",
              "    </tr>\n",
              "    <tr>\n",
              "      <th>year_exposition</th>\n",
              "      <th></th>\n",
              "    </tr>\n",
              "  </thead>\n",
              "  <tbody>\n",
              "    <tr>\n",
              "      <th>2014</th>\n",
              "      <td>107000.0</td>\n",
              "    </tr>\n",
              "    <tr>\n",
              "      <th>2019</th>\n",
              "      <td>103305.0</td>\n",
              "    </tr>\n",
              "    <tr>\n",
              "      <th>2018</th>\n",
              "      <td>95689.0</td>\n",
              "    </tr>\n",
              "    <tr>\n",
              "      <th>2015</th>\n",
              "      <td>93414.0</td>\n",
              "    </tr>\n",
              "    <tr>\n",
              "      <th>2017</th>\n",
              "      <td>92564.5</td>\n",
              "    </tr>\n",
              "    <tr>\n",
              "      <th>2016</th>\n",
              "      <td>91743.0</td>\n",
              "    </tr>\n",
              "  </tbody>\n",
              "</table>\n",
              "</div>"
            ],
            "text/plain": [
              "                   median\n",
              "year_exposition          \n",
              "2014             107000.0\n",
              "2019             103305.0\n",
              "2018              95689.0\n",
              "2015              93414.0\n",
              "2017              92564.5\n",
              "2016              91743.0"
            ]
          },
          "metadata": {}
        },
        {
          "output_type": "display_data",
          "data": {
            "image/png": "[encoded data removed]",
            "text/plain": [
              "<Figure size 432x288 with 1 Axes>"
            ]
          },
          "metadata": {
            "needs_background": "light"
          }
        }
      ]
    },
    {
      "cell_type": "markdown",
      "source": "Таким образом, в период с 2014 до 2016 года цена падала, а затем начала увеличиваться.",
      "metadata": {}
    },
    {
      "cell_type": "markdown",
      "source": "Проведем анализ 10 населённых пунктов с наибольшим числом объявлений. Посчитаем среднюю цену квадратного метра в этих населённых пунктах. Выделим населённые пункты с самой высокой и низкой стоимостью жилья. ",
      "metadata": {}
    },
    {
      "cell_type": "code",
      "source": "pivot_table_locality = data.pivot_table(index = 'locality_name', values = 'price_one_sqr_m', aggfunc=['count', 'mean'])\npivot_table_locality.columns = ['count', 'mean']\n#10 населённых пунктов с наибольшим числом объявлений\npivot_table_locality = pivot_table_locality.sort_values('count', ascending = False).head(10)\ndisplay(pivot_table_locality)",
      "metadata": {},
      "execution_count": 31,
      "outputs": [
        {
          "output_type": "display_data",
          "data": {
            "text/html": [
              "<div>\n",
              "<style scoped>\n",
              "    .dataframe tbody tr th:only-of-type {\n",
              "        vertical-align: middle;\n",
              "    }\n",
              "\n",
              "    .dataframe tbody tr th {\n",
              "        vertical-align: top;\n",
              "    }\n",
              "\n",
              "    .dataframe thead th {\n",
              "        text-align: right;\n",
              "    }\n",
              "</style>\n",
              "<table border=\"1\" class=\"dataframe\">\n",
              "  <thead>\n",
              "    <tr style=\"text-align: right;\">\n",
              "      <th></th>\n",
              "      <th>count</th>\n",
              "      <th>mean</th>\n",
              "    </tr>\n",
              "    <tr>\n",
              "      <th>locality_name</th>\n",
              "      <th></th>\n",
              "      <th></th>\n",
              "    </tr>\n",
              "  </thead>\n",
              "  <tbody>\n",
              "    <tr>\n",
              "      <th>Санкт-Петербург</th>\n",
              "      <td>15721</td>\n",
              "      <td>114848.565231</td>\n",
              "    </tr>\n",
              "    <tr>\n",
              "      <th>посёлок Мурино</th>\n",
              "      <td>522</td>\n",
              "      <td>85751.733716</td>\n",
              "    </tr>\n",
              "    <tr>\n",
              "      <th>посёлок Шушары</th>\n",
              "      <td>440</td>\n",
              "      <td>78676.904545</td>\n",
              "    </tr>\n",
              "    <tr>\n",
              "      <th>Всеволожск</th>\n",
              "      <td>398</td>\n",
              "      <td>68654.007538</td>\n",
              "    </tr>\n",
              "    <tr>\n",
              "      <th>Пушкин</th>\n",
              "      <td>369</td>\n",
              "      <td>103125.373984</td>\n",
              "    </tr>\n",
              "    <tr>\n",
              "      <th>Колпино</th>\n",
              "      <td>338</td>\n",
              "      <td>75424.150888</td>\n",
              "    </tr>\n",
              "    <tr>\n",
              "      <th>посёлок Парголово</th>\n",
              "      <td>327</td>\n",
              "      <td>90175.489297</td>\n",
              "    </tr>\n",
              "    <tr>\n",
              "      <th>Гатчина</th>\n",
              "      <td>307</td>\n",
              "      <td>68745.693811</td>\n",
              "    </tr>\n",
              "    <tr>\n",
              "      <th>деревня Кудрово</th>\n",
              "      <td>299</td>\n",
              "      <td>92473.086957</td>\n",
              "    </tr>\n",
              "    <tr>\n",
              "      <th>Выборг</th>\n",
              "      <td>237</td>\n",
              "      <td>58141.489451</td>\n",
              "    </tr>\n",
              "  </tbody>\n",
              "</table>\n",
              "</div>"
            ],
            "text/plain": [
              "                   count           mean\n",
              "locality_name                          \n",
              "Санкт-Петербург    15721  114848.565231\n",
              "посёлок Мурино       522   85751.733716\n",
              "посёлок Шушары       440   78676.904545\n",
              "Всеволожск           398   68654.007538\n",
              "Пушкин               369  103125.373984\n",
              "Колпино              338   75424.150888\n",
              "посёлок Парголово    327   90175.489297\n",
              "Гатчина              307   68745.693811\n",
              "деревня Кудрово      299   92473.086957\n",
              "Выборг               237   58141.489451"
            ]
          },
          "metadata": {}
        }
      ]
    },
    {
      "cell_type": "markdown",
      "source": "Таким образом, самая высокая средняя стоимость жилья из 10 населённых пунктов с самым большим количеством объявлений - в Санкт-Петербурге, самая низкая - в Выборге.",
      "metadata": {}
    },
    {
      "cell_type": "markdown",
      "source": "Изучим предложения квартир: определим границу центра",
      "metadata": {}
    },
    {
      "cell_type": "code",
      "source": "#cоздаем столбец с расстоянием до центра в километрах\ndata['cityCenters_nearest_km'] = data['cityCenters_nearest']/1000\ndata['cityCenters_nearest_km'] = data['cityCenters_nearest_km'].fillna(9999)\n\n#округляем до целых значений\ndata['cityCenters_nearest_km'] = data['cityCenters_nearest_km'].astype('int')\n\n# создаем переменную для расчета средней цены для каждого километра в Санкт-Петербурге\npivot_table_km = data.query('locality_name == \"Санкт-Петербург\" and cityCenters_nearest_km !=9999').pivot_table(index = 'cityCenters_nearest_km', values = 'price_one_sqr_m', aggfunc = 'mean')\ndisplay(pivot_table_km.head())\n\n# строит график для анализа зависимости цены от удалённости от центра.\npivot_table_km.plot()\nplt.title('Зависимость зависимости цены от удалённости от центра')\n",
      "metadata": {},
      "execution_count": 32,
      "outputs": [
        {
          "output_type": "display_data",
          "data": {
            "text/html": [
              "<div>\n",
              "<style scoped>\n",
              "    .dataframe tbody tr th:only-of-type {\n",
              "        vertical-align: middle;\n",
              "    }\n",
              "\n",
              "    .dataframe tbody tr th {\n",
              "        vertical-align: top;\n",
              "    }\n",
              "\n",
              "    .dataframe thead th {\n",
              "        text-align: right;\n",
              "    }\n",
              "</style>\n",
              "<table border=\"1\" class=\"dataframe\">\n",
              "  <thead>\n",
              "    <tr style=\"text-align: right;\">\n",
              "      <th></th>\n",
              "      <th>price_one_sqr_m</th>\n",
              "    </tr>\n",
              "    <tr>\n",
              "      <th>cityCenters_nearest_km</th>\n",
              "      <th></th>\n",
              "    </tr>\n",
              "  </thead>\n",
              "  <tbody>\n",
              "    <tr>\n",
              "      <th>0</th>\n",
              "      <td>187323.674419</td>\n",
              "    </tr>\n",
              "    <tr>\n",
              "      <th>1</th>\n",
              "      <td>166603.312500</td>\n",
              "    </tr>\n",
              "    <tr>\n",
              "      <th>2</th>\n",
              "      <td>146662.420195</td>\n",
              "    </tr>\n",
              "    <tr>\n",
              "      <th>3</th>\n",
              "      <td>129415.891635</td>\n",
              "    </tr>\n",
              "    <tr>\n",
              "      <th>4</th>\n",
              "      <td>137475.039691</td>\n",
              "    </tr>\n",
              "  </tbody>\n",
              "</table>\n",
              "</div>"
            ],
            "text/plain": [
              "                        price_one_sqr_m\n",
              "cityCenters_nearest_km                 \n",
              "0                         187323.674419\n",
              "1                         166603.312500\n",
              "2                         146662.420195\n",
              "3                         129415.891635\n",
              "4                         137475.039691"
            ]
          },
          "metadata": {}
        },
        {
          "execution_count": 32,
          "output_type": "execute_result",
          "data": {
            "text/plain": [
              "Text(0.5, 1.0, 'Зависимость зависимости цены от удалённости от центра')"
            ]
          },
          "metadata": {}
        },
        {
          "output_type": "display_data",
          "data": {
            "image/png": "[encoded data removed]",
            "text/plain": [
              "<Figure size 432x288 with 1 Axes>"
            ]
          },
          "metadata": {
            "needs_background": "light"
          }
        }
      ]
    },
    {
      "cell_type": "markdown",
      "source": "График сильно меняется на 3 км - это и есть центральная зона.",
      "metadata": {}
    },
    {
      "cell_type": "markdown",
      "source": "Проанализируем предложения центральной зоны. Изучим следующие параметры: площадь, цена, число комнат, высота потолков. Также выделием факторы, которые влияют на стоимость квартиры (число комнат, этаж, удалённость от центра, дата размещения объявления). ",
      "metadata": {}
    },
    {
      "cell_type": "code",
      "source": "#выделим квартиры в центре Санкт-Петербург, беря за радиус 3 км\ncenter_spb_data = data.query('cityCenters_nearest_km <= 3 and locality_name == \"Санкт-Петербург\"')",
      "metadata": {},
      "execution_count": 33,
      "outputs": []
    },
    {
      "cell_type": "code",
      "source": "# проанализуем общую площадь объектов\ncenter_spb_data.plot(y = 'total_area', kind = 'hist', bins = 100, grid=True, figsize = (9,9), range = (0,450))\nplt.title('Общая площадь объектов в центре Санкт-Петербурга')\ncenter_spb_data['total_area'].describe()",
      "metadata": {
        "scrolled": true
      },
      "execution_count": 34,
      "outputs": [
        {
          "execution_count": 34,
          "output_type": "execute_result",
          "data": {
            "text/plain": [
              "count    1159.000000\n",
              "mean       97.399172\n",
              "std        55.772422\n",
              "min        12.000000\n",
              "25%        62.000000\n",
              "50%        84.100000\n",
              "75%       115.250000\n",
              "max       517.000000\n",
              "Name: total_area, dtype: float64"
            ]
          },
          "metadata": {}
        },
        {
          "output_type": "display_data",
          "data": {
            "image/png": "[encoded data removed]",
            "text/plain": [
              "<Figure size 648x648 with 1 Axes>"
            ]
          },
          "metadata": {
            "needs_background": "light"
          }
        }
      ]
    },
    {
      "cell_type": "markdown",
      "source": "Анализ гистограммы общей площади показывает нормальное распределение с небольшими выбросами. Общая площадь колеблется от 12 до 517 м2, среднее значение 97, а медиана - 84 м2.",
      "metadata": {}
    },
    {
      "cell_type": "code",
      "source": "#изучим цену\ncenter_spb_data.plot(y = 'last_price', kind = 'hist', bins = 100, grid=True, range = (0,15000000), figsize = (9,9))\nplt.title('Цена квадратного метра в центре Санкт-Петербурга')\ncenter_spb_data['last_price'].describe()",
      "metadata": {},
      "execution_count": 35,
      "outputs": [
        {
          "execution_count": 35,
          "output_type": "execute_result",
          "data": {
            "text/plain": [
              "count    1.159000e+03\n",
              "mean     1.602257e+07\n",
              "std      3.292117e+07\n",
              "min      2.100000e+06\n",
              "25%      7.000000e+06\n",
              "50%      9.500000e+06\n",
              "75%      1.447000e+07\n",
              "max      7.630000e+08\n",
              "Name: last_price, dtype: float64"
            ]
          },
          "metadata": {}
        },
        {
          "output_type": "display_data",
          "data": {
            "image/png": "[encoded data removed]",
            "text/plain": [
              "<Figure size 648x648 with 1 Axes>"
            ]
          },
          "metadata": {
            "needs_background": "light"
          }
        }
      ]
    },
    {
      "cell_type": "markdown",
      "source": "Анализ гистограммы цены показывает нормальное распределение с небольшими выбросами. Цены на квартиры изменяются от 2,1 млн. руб. до 763 млн. руб., среднее стоимость составляет 16 млн. руб., медиана -  9,5 млн. руб.",
      "metadata": {}
    },
    {
      "cell_type": "code",
      "source": "#проаналируем число комнат\ncenter_spb_data.plot(y = 'rooms', kind = 'hist', bins = 30, grid=True, figsize = (9,9))\nplt.title('Число комнат в центре Санкт-Петербурга')\ncenter_spb_data['rooms'].describe()",
      "metadata": {},
      "execution_count": 36,
      "outputs": [
        {
          "execution_count": 36,
          "output_type": "execute_result",
          "data": {
            "text/plain": [
              "count    1159.000000\n",
              "mean        3.104400\n",
              "std         1.558964\n",
              "min         0.000000\n",
              "25%         2.000000\n",
              "50%         3.000000\n",
              "75%         4.000000\n",
              "max        19.000000\n",
              "Name: rooms, dtype: float64"
            ]
          },
          "metadata": {}
        },
        {
          "output_type": "display_data",
          "data": {
            "image/png": "[encoded data removed]",
            "text/plain": [
              "<Figure size 648x648 with 1 Axes>"
            ]
          },
          "metadata": {
            "needs_background": "light"
          }
        }
      ]
    },
    {
      "cell_type": "markdown",
      "source": "<div class=\"alert alert-success\">\n<b>Комментарий ревьюера:</b>\n\nКстати сам график можно было бы сделать пошире и чуть ниже в высоту.\n    \n</div>",
      "metadata": {}
    },
    {
      "cell_type": "markdown",
      "source": "Анализ гистограммы количества комнат показывает нормальное распределение. Количество комнат изменяется от 0 (студии) до 19. Среднее значение/медиана составляет 3 комнаты.",
      "metadata": {}
    },
    {
      "cell_type": "code",
      "source": "#изучим высоту потолков\ncenter_spb_data.plot(y = 'ceiling_height', kind = 'hist', bins = 30, range = (2,5), grid=True, figsize = (5,3))\nplt.title('Высота потолков в центре Санкт-Петербурга')\ncenter_spb_data['ceiling_height'].describe()",
      "metadata": {},
      "execution_count": 37,
      "outputs": [
        {
          "execution_count": 37,
          "output_type": "execute_result",
          "data": {
            "text/plain": [
              "count    1159.000000\n",
              "mean        3.070699\n",
              "std         1.175007\n",
              "min         2.450000\n",
              "25%         2.650000\n",
              "50%         3.000000\n",
              "75%         3.300000\n",
              "max        32.000000\n",
              "Name: ceiling_height, dtype: float64"
            ]
          },
          "metadata": {}
        },
        {
          "output_type": "display_data",
          "data": {
            "image/png": "[encoded data removed]",
            "text/plain": [
              "<Figure size 360x216 with 1 Axes>"
            ]
          },
          "metadata": {
            "needs_background": "light"
          }
        }
      ]
    },
    {
      "cell_type": "markdown",
      "source": "Анализ гистограммы высоты потолков показывает нормальное распределение с небольшими выбросами. Высота потолков колеблется от 2,45 до 32 м, среднее значение 3,07 м, а медиана - 3 м.",
      "metadata": {}
    },
    {
      "cell_type": "code",
      "source": "#анализ зависимости цены квадратного метра от количества комнат \n#создадим переменную pivot_table_total_rooms_center_spb с данными для анализа\npivot_table_rooms_center_spb = center_spb_data.pivot_table(index = 'rooms', values = 'price_one_sqr_m', aggfunc = ['count', 'median'])\npivot_table_rooms_center_spb.columns = ['count', 'median']\ndisplay(pivot_table_rooms_center_spb)\n\n#построим график зависимости медианального значения цены от количества комнат, отбросив группы с минимальным количеством\npivot_table_rooms_center_spb.query('count > 12').plot(y = 'median')\nplt.title('Зависимость медианального значения цены от количества комнат в центре Санкт-Петербурга')\n\n#рассчитаем коэффициент корреляции цены квадратного метра и количество комнат\ncenter_spb_data['rooms'].corr(center_spb_data['price_one_sqr_m'])",
      "metadata": {},
      "execution_count": 38,
      "outputs": [
        {
          "output_type": "display_data",
          "data": {
            "text/html": [
              "<div>\n",
              "<style scoped>\n",
              "    .dataframe tbody tr th:only-of-type {\n",
              "        vertical-align: middle;\n",
              "    }\n",
              "\n",
              "    .dataframe tbody tr th {\n",
              "        vertical-align: top;\n",
              "    }\n",
              "\n",
              "    .dataframe thead th {\n",
              "        text-align: right;\n",
              "    }\n",
              "</style>\n",
              "<table border=\"1\" class=\"dataframe\">\n",
              "  <thead>\n",
              "    <tr style=\"text-align: right;\">\n",
              "      <th></th>\n",
              "      <th>count</th>\n",
              "      <th>median</th>\n",
              "    </tr>\n",
              "    <tr>\n",
              "      <th>rooms</th>\n",
              "      <th></th>\n",
              "      <th></th>\n",
              "    </tr>\n",
              "  </thead>\n",
              "  <tbody>\n",
              "    <tr>\n",
              "      <th>0</th>\n",
              "      <td>5</td>\n",
              "      <td>131250.0</td>\n",
              "    </tr>\n",
              "    <tr>\n",
              "      <th>1</th>\n",
              "      <td>110</td>\n",
              "      <td>133397.5</td>\n",
              "    </tr>\n",
              "    <tr>\n",
              "      <th>2</th>\n",
              "      <td>330</td>\n",
              "      <td>122193.5</td>\n",
              "    </tr>\n",
              "    <tr>\n",
              "      <th>3</th>\n",
              "      <td>347</td>\n",
              "      <td>111764.0</td>\n",
              "    </tr>\n",
              "    <tr>\n",
              "      <th>4</th>\n",
              "      <td>190</td>\n",
              "      <td>105883.0</td>\n",
              "    </tr>\n",
              "    <tr>\n",
              "      <th>5</th>\n",
              "      <td>103</td>\n",
              "      <td>101798.0</td>\n",
              "    </tr>\n",
              "    <tr>\n",
              "      <th>6</th>\n",
              "      <td>40</td>\n",
              "      <td>95437.0</td>\n",
              "    </tr>\n",
              "    <tr>\n",
              "      <th>7</th>\n",
              "      <td>24</td>\n",
              "      <td>119569.0</td>\n",
              "    </tr>\n",
              "    <tr>\n",
              "      <th>8</th>\n",
              "      <td>5</td>\n",
              "      <td>116056.0</td>\n",
              "    </tr>\n",
              "    <tr>\n",
              "      <th>9</th>\n",
              "      <td>1</td>\n",
              "      <td>220000.0</td>\n",
              "    </tr>\n",
              "    <tr>\n",
              "      <th>11</th>\n",
              "      <td>2</td>\n",
              "      <td>132639.5</td>\n",
              "    </tr>\n",
              "    <tr>\n",
              "      <th>14</th>\n",
              "      <td>1</td>\n",
              "      <td>116784.0</td>\n",
              "    </tr>\n",
              "    <tr>\n",
              "      <th>19</th>\n",
              "      <td>1</td>\n",
              "      <td>86091.0</td>\n",
              "    </tr>\n",
              "  </tbody>\n",
              "</table>\n",
              "</div>"
            ],
            "text/plain": [
              "       count    median\n",
              "rooms                 \n",
              "0          5  131250.0\n",
              "1        110  133397.5\n",
              "2        330  122193.5\n",
              "3        347  111764.0\n",
              "4        190  105883.0\n",
              "5        103  101798.0\n",
              "6         40   95437.0\n",
              "7         24  119569.0\n",
              "8          5  116056.0\n",
              "9          1  220000.0\n",
              "11         2  132639.5\n",
              "14         1  116784.0\n",
              "19         1   86091.0"
            ]
          },
          "metadata": {}
        },
        {
          "execution_count": 38,
          "output_type": "execute_result",
          "data": {
            "text/plain": [
              "0.0017673487141106456"
            ]
          },
          "metadata": {}
        },
        {
          "output_type": "display_data",
          "data": {
            "image/png": "[encoded data removed]",
            "text/plain": [
              "<Figure size 432x288 with 1 Axes>"
            ]
          },
          "metadata": {
            "needs_background": "light"
          }
        }
      ]
    },
    {
      "cell_type": "markdown",
      "source": "Таким образом, зависимость между ценой квадратного метра и количеством комнат отсутствует (коэффициент корреляции Пирсона - 0.002). Также из графика видно, самый дешевый квадратный метр в 19-комнатной квартире. В общей выборке - самый дешевый кв. м у трехкомнатной квартиры.",
      "metadata": {}
    },
    {
      "cell_type": "code",
      "source": "#анализ зависимости цены квадратного метра от этажа \n#создадим переменную pivot_table_floor_category_center_spb с данными для анализа\npivot_table_floor_category_center_spb = center_spb_data.query('floor_category != \"другой этаж\"').pivot_table(index = 'floor_category', values = 'price_one_sqr_m', aggfunc = 'median')\npivot_table_floor_category_center_spb.columns = ['median']\ndisplay(pivot_table_floor_category_center_spb.head(10))\n\n#построим график зависимости медианального значения цены от этажа",
      "metadata": {},
      "execution_count": 39,
      "outputs": [
        {
          "output_type": "display_data",
          "data": {
            "text/html": [
              "<div>\n",
              "<style scoped>\n",
              "    .dataframe tbody tr th:only-of-type {\n",
              "        vertical-align: middle;\n",
              "    }\n",
              "\n",
              "    .dataframe tbody tr th {\n",
              "        vertical-align: top;\n",
              "    }\n",
              "\n",
              "    .dataframe thead th {\n",
              "        text-align: right;\n",
              "    }\n",
              "</style>\n",
              "<table border=\"1\" class=\"dataframe\">\n",
              "  <thead>\n",
              "    <tr style=\"text-align: right;\">\n",
              "      <th></th>\n",
              "      <th>median</th>\n",
              "    </tr>\n",
              "    <tr>\n",
              "      <th>floor_category</th>\n",
              "      <th></th>\n",
              "    </tr>\n",
              "  </thead>\n",
              "  <tbody>\n",
              "    <tr>\n",
              "      <th>первый этаж</th>\n",
              "      <td>107508.5</td>\n",
              "    </tr>\n",
              "    <tr>\n",
              "      <th>последни этаж</th>\n",
              "      <td>114432.0</td>\n",
              "    </tr>\n",
              "  </tbody>\n",
              "</table>\n",
              "</div>"
            ],
            "text/plain": [
              "                  median\n",
              "floor_category          \n",
              "первый этаж     107508.5\n",
              "последни этаж   114432.0"
            ]
          },
          "metadata": {}
        }
      ]
    },
    {
      "cell_type": "markdown",
      "source": "Таким образом, согласно графику квартиры на первом этаже дешевле квартир на последнем этаже. Аналогично общей тенденции.",
      "metadata": {}
    },
    {
      "cell_type": "code",
      "source": "#анализ зависимости цены квадратного метра от близости к центру\n#построим график зависимости медианального значения цены от близости к центру\ncenter_spb_data.plot(kind = 'scatter', y = 'price_one_sqr_m', x = 'cityCenters_nearest', alpha = 0.5)\nplt.title('Зависимость медианального значения цены от близости к центру в Санкт-Петербурга')\n\n#рассчитаем коэффициент корреляции цены квадратного метра и расстояние до центра\ncenter_spb_data['cityCenters_nearest'].corr(center_spb_data['price_one_sqr_m'])",
      "metadata": {},
      "execution_count": 40,
      "outputs": [
        {
          "execution_count": 40,
          "output_type": "execute_result",
          "data": {
            "text/plain": [
              "-0.16437506633061943"
            ]
          },
          "metadata": {}
        },
        {
          "output_type": "display_data",
          "data": {
            "image/png": "[encoded data removed]",
            "text/plain": [
              "<Figure size 432x288 with 1 Axes>"
            ]
          },
          "metadata": {
            "needs_background": "light"
          }
        }
      ]
    },
    {
      "cell_type": "markdown",
      "source": "Таким образом, четкой зависимости стоимости от близости к центру нет, так как выборка по центру города. В общем выборке зависимость цены от близостости прослеживается.",
      "metadata": {}
    },
    {
      "cell_type": "code",
      "source": "#анализ зависимости цены квадратного метра от дня размещения обьявление\n#создадим переменную pivot_table_weekday_center_spb с данными для анализа\npivot_table_weekday_center_spb = center_spb_data.pivot_table(index = 'weekday_exposition', values = 'price_one_sqr_m', aggfunc = 'median')\npivot_table_weekday_center_spb.columns = ['median']\ndisplay(pivot_table_weekday_center_spb.sort_values('median', ascending = False))\n\n#построим график зависимости медианального значения цены от дня размещения обьявление\npivot_table_weekday_center_spb.plot(y = 'median')\nplt.title('Цена от дня размещения обьявление в центре С.-Петербурга')",
      "metadata": {},
      "execution_count": 41,
      "outputs": [
        {
          "output_type": "display_data",
          "data": {
            "text/html": [
              "<div>\n",
              "<style scoped>\n",
              "    .dataframe tbody tr th:only-of-type {\n",
              "        vertical-align: middle;\n",
              "    }\n",
              "\n",
              "    .dataframe tbody tr th {\n",
              "        vertical-align: top;\n",
              "    }\n",
              "\n",
              "    .dataframe thead th {\n",
              "        text-align: right;\n",
              "    }\n",
              "</style>\n",
              "<table border=\"1\" class=\"dataframe\">\n",
              "  <thead>\n",
              "    <tr style=\"text-align: right;\">\n",
              "      <th></th>\n",
              "      <th>median</th>\n",
              "    </tr>\n",
              "    <tr>\n",
              "      <th>weekday_exposition</th>\n",
              "      <th></th>\n",
              "    </tr>\n",
              "  </thead>\n",
              "  <tbody>\n",
              "    <tr>\n",
              "      <th>0</th>\n",
              "      <td>121354.0</td>\n",
              "    </tr>\n",
              "    <tr>\n",
              "      <th>5</th>\n",
              "      <td>120568.0</td>\n",
              "    </tr>\n",
              "    <tr>\n",
              "      <th>4</th>\n",
              "      <td>117984.0</td>\n",
              "    </tr>\n",
              "    <tr>\n",
              "      <th>2</th>\n",
              "      <td>114902.5</td>\n",
              "    </tr>\n",
              "    <tr>\n",
              "      <th>1</th>\n",
              "      <td>114209.0</td>\n",
              "    </tr>\n",
              "    <tr>\n",
              "      <th>6</th>\n",
              "      <td>110843.0</td>\n",
              "    </tr>\n",
              "    <tr>\n",
              "      <th>3</th>\n",
              "      <td>110132.0</td>\n",
              "    </tr>\n",
              "  </tbody>\n",
              "</table>\n",
              "</div>"
            ],
            "text/plain": [
              "                      median\n",
              "weekday_exposition          \n",
              "0                   121354.0\n",
              "5                   120568.0\n",
              "4                   117984.0\n",
              "2                   114902.5\n",
              "1                   114209.0\n",
              "6                   110843.0\n",
              "3                   110132.0"
            ]
          },
          "metadata": {}
        },
        {
          "execution_count": 41,
          "output_type": "execute_result",
          "data": {
            "text/plain": [
              "Text(0.5, 1.0, 'Цена от дня размещения обьявление в центре С.-Петербурга')"
            ]
          },
          "metadata": {}
        },
        {
          "output_type": "display_data",
          "data": {
            "image/png": "[encoded data removed]",
            "text/plain": [
              "<Figure size 432x288 with 1 Axes>"
            ]
          },
          "metadata": {
            "needs_background": "light"
          }
        }
      ]
    },
    {
      "cell_type": "markdown",
      "source": "Из графика видно, что в понедельник и субботу выставляются объявления с большей стоимостью, а в четверг - с минимальной. Общая тенденция немного отличается: ко вторнику выставляются объявления с большей стоимостью, а в субботу - с минимальной. ",
      "metadata": {}
    },
    {
      "cell_type": "code",
      "source": "#анализ зависимости цены квадратного метра от месяца размещения обьявление\n#создадим переменную pivot_table_month_center_spb с данными для анализа\npivot_table_month_center_spb = center_spb_data.pivot_table(index = 'month_exposition', values = 'price_one_sqr_m', aggfunc = ['mean', 'count', 'median'])\npivot_table_month_center_spb.columns = ['mean', 'count', 'median']\ndisplay(pivot_table_month_center_spb.sort_values('median', ascending = False))\n\n#построим график зависимости медианального значения цены от месяца размещения обьявление\npivot_table_month_center_spb.plot(y = 'median')\nplt.title('Зависимость цены от мес. размещения обьявление в центре Санкт-Петербурга')",
      "metadata": {},
      "execution_count": 42,
      "outputs": [
        {
          "output_type": "display_data",
          "data": {
            "text/html": [
              "<div>\n",
              "<style scoped>\n",
              "    .dataframe tbody tr th:only-of-type {\n",
              "        vertical-align: middle;\n",
              "    }\n",
              "\n",
              "    .dataframe tbody tr th {\n",
              "        vertical-align: top;\n",
              "    }\n",
              "\n",
              "    .dataframe thead th {\n",
              "        text-align: right;\n",
              "    }\n",
              "</style>\n",
              "<table border=\"1\" class=\"dataframe\">\n",
              "  <thead>\n",
              "    <tr style=\"text-align: right;\">\n",
              "      <th></th>\n",
              "      <th>mean</th>\n",
              "      <th>count</th>\n",
              "      <th>median</th>\n",
              "    </tr>\n",
              "    <tr>\n",
              "      <th>month_exposition</th>\n",
              "      <th></th>\n",
              "      <th></th>\n",
              "      <th></th>\n",
              "    </tr>\n",
              "  </thead>\n",
              "  <tbody>\n",
              "    <tr>\n",
              "      <th>4</th>\n",
              "      <td>168982.870690</td>\n",
              "      <td>116</td>\n",
              "      <td>123094.5</td>\n",
              "    </tr>\n",
              "    <tr>\n",
              "      <th>10</th>\n",
              "      <td>143129.021277</td>\n",
              "      <td>94</td>\n",
              "      <td>121978.0</td>\n",
              "    </tr>\n",
              "    <tr>\n",
              "      <th>12</th>\n",
              "      <td>162849.843373</td>\n",
              "      <td>83</td>\n",
              "      <td>121568.0</td>\n",
              "    </tr>\n",
              "    <tr>\n",
              "      <th>3</th>\n",
              "      <td>149574.508475</td>\n",
              "      <td>118</td>\n",
              "      <td>117409.0</td>\n",
              "    </tr>\n",
              "    <tr>\n",
              "      <th>1</th>\n",
              "      <td>147760.090909</td>\n",
              "      <td>77</td>\n",
              "      <td>117244.0</td>\n",
              "    </tr>\n",
              "    <tr>\n",
              "      <th>2</th>\n",
              "      <td>141960.713178</td>\n",
              "      <td>129</td>\n",
              "      <td>116406.0</td>\n",
              "    </tr>\n",
              "    <tr>\n",
              "      <th>9</th>\n",
              "      <td>155581.594059</td>\n",
              "      <td>101</td>\n",
              "      <td>116054.0</td>\n",
              "    </tr>\n",
              "    <tr>\n",
              "      <th>11</th>\n",
              "      <td>136308.390244</td>\n",
              "      <td>123</td>\n",
              "      <td>112639.0</td>\n",
              "    </tr>\n",
              "    <tr>\n",
              "      <th>7</th>\n",
              "      <td>137694.565657</td>\n",
              "      <td>99</td>\n",
              "      <td>112195.0</td>\n",
              "    </tr>\n",
              "    <tr>\n",
              "      <th>8</th>\n",
              "      <td>142370.175676</td>\n",
              "      <td>74</td>\n",
              "      <td>110491.0</td>\n",
              "    </tr>\n",
              "    <tr>\n",
              "      <th>6</th>\n",
              "      <td>131927.364706</td>\n",
              "      <td>85</td>\n",
              "      <td>110081.0</td>\n",
              "    </tr>\n",
              "    <tr>\n",
              "      <th>5</th>\n",
              "      <td>123652.833333</td>\n",
              "      <td>60</td>\n",
              "      <td>107799.0</td>\n",
              "    </tr>\n",
              "  </tbody>\n",
              "</table>\n",
              "</div>"
            ],
            "text/plain": [
              "                           mean  count    median\n",
              "month_exposition                                \n",
              "4                 168982.870690    116  123094.5\n",
              "10                143129.021277     94  121978.0\n",
              "12                162849.843373     83  121568.0\n",
              "3                 149574.508475    118  117409.0\n",
              "1                 147760.090909     77  117244.0\n",
              "2                 141960.713178    129  116406.0\n",
              "9                 155581.594059    101  116054.0\n",
              "11                136308.390244    123  112639.0\n",
              "7                 137694.565657     99  112195.0\n",
              "8                 142370.175676     74  110491.0\n",
              "6                 131927.364706     85  110081.0\n",
              "5                 123652.833333     60  107799.0"
            ]
          },
          "metadata": {}
        },
        {
          "execution_count": 42,
          "output_type": "execute_result",
          "data": {
            "text/plain": [
              "Text(0.5, 1.0, 'Зависимость цены от мес. размещения обьявление в центре Санкт-Петербурга')"
            ]
          },
          "metadata": {}
        },
        {
          "output_type": "display_data",
          "data": {
            "image/png": "[encoded data removed]",
            "text/plain": [
              "<Figure size 432x288 with 1 Axes>"
            ]
          },
          "metadata": {
            "needs_background": "light"
          }
        }
      ]
    },
    {
      "cell_type": "markdown",
      "source": "Самая низкая стоимость квадратного метра в центре Санкт-Петербурга наблюдалась мае, а высокая - в апреле. В общей выборке тенденция аналогична: самая высокая стоимость квадратного метра в апреле, самая низкая - июнь. ",
      "metadata": {}
    },
    {
      "cell_type": "code",
      "source": "#анализ зависимости цены квадратного метра от года размещения обьявление\n#создадим переменную  pivot_table_year_center_spb с данными для анализа\npivot_table_year_center_spb = center_spb_data.pivot_table(index = 'year_exposition', values = 'price_one_sqr_m', aggfunc = ['mean', 'count', 'median'])\npivot_table_year_center_spb.columns = ['mean', 'count', 'median']\ndisplay(pivot_table_year_center_spb.sort_values('median', ascending = False))\n\n#построим график зависимости медианального значения цены от года размещения обьявление\npivot_table_year_center_spb.plot(y = 'median')\nplt.title('Зависимость цены от года размещения обьявление в центре Санкт-Петербурга')",
      "metadata": {},
      "execution_count": 43,
      "outputs": [
        {
          "output_type": "display_data",
          "data": {
            "text/html": [
              "<div>\n",
              "<style scoped>\n",
              "    .dataframe tbody tr th:only-of-type {\n",
              "        vertical-align: middle;\n",
              "    }\n",
              "\n",
              "    .dataframe tbody tr th {\n",
              "        vertical-align: top;\n",
              "    }\n",
              "\n",
              "    .dataframe thead th {\n",
              "        text-align: right;\n",
              "    }\n",
              "</style>\n",
              "<table border=\"1\" class=\"dataframe\">\n",
              "  <thead>\n",
              "    <tr style=\"text-align: right;\">\n",
              "      <th></th>\n",
              "      <th>mean</th>\n",
              "      <th>count</th>\n",
              "      <th>median</th>\n",
              "    </tr>\n",
              "    <tr>\n",
              "      <th>year_exposition</th>\n",
              "      <th></th>\n",
              "      <th></th>\n",
              "      <th></th>\n",
              "    </tr>\n",
              "  </thead>\n",
              "  <tbody>\n",
              "    <tr>\n",
              "      <th>2014</th>\n",
              "      <td>253598.222222</td>\n",
              "      <td>9</td>\n",
              "      <td>260000</td>\n",
              "    </tr>\n",
              "    <tr>\n",
              "      <th>2019</th>\n",
              "      <td>173593.070866</td>\n",
              "      <td>127</td>\n",
              "      <td>131432</td>\n",
              "    </tr>\n",
              "    <tr>\n",
              "      <th>2018</th>\n",
              "      <td>140129.402941</td>\n",
              "      <td>340</td>\n",
              "      <td>117898</td>\n",
              "    </tr>\n",
              "    <tr>\n",
              "      <th>2017</th>\n",
              "      <td>141410.263158</td>\n",
              "      <td>418</td>\n",
              "      <td>114579</td>\n",
              "    </tr>\n",
              "    <tr>\n",
              "      <th>2016</th>\n",
              "      <td>135592.863946</td>\n",
              "      <td>147</td>\n",
              "      <td>109090</td>\n",
              "    </tr>\n",
              "    <tr>\n",
              "      <th>2015</th>\n",
              "      <td>154054.330508</td>\n",
              "      <td>118</td>\n",
              "      <td>107055</td>\n",
              "    </tr>\n",
              "  </tbody>\n",
              "</table>\n",
              "</div>"
            ],
            "text/plain": [
              "                          mean  count  median\n",
              "year_exposition                              \n",
              "2014             253598.222222      9  260000\n",
              "2019             173593.070866    127  131432\n",
              "2018             140129.402941    340  117898\n",
              "2017             141410.263158    418  114579\n",
              "2016             135592.863946    147  109090\n",
              "2015             154054.330508    118  107055"
            ]
          },
          "metadata": {}
        },
        {
          "execution_count": 43,
          "output_type": "execute_result",
          "data": {
            "text/plain": [
              "Text(0.5, 1.0, 'Зависимость цены от года размещения обьявление в центре Санкт-Петербурга')"
            ]
          },
          "metadata": {}
        },
        {
          "output_type": "display_data",
          "data": {
            "image/png": "[encoded data removed]",
            "text/plain": [
              "<Figure size 432x288 with 1 Axes>"
            ]
          },
          "metadata": {
            "needs_background": "light"
          }
        }
      ]
    },
    {
      "cell_type": "markdown",
      "source": "Таким образом, самая высокая цена была в 2014, затем резкий спад и медленный рост. В целой базе подъем цены был быстрее.",
      "metadata": {}
    },
    {
      "cell_type": "markdown",
      "source": "## Общий вывод",
      "metadata": {}
    },
    {
      "cell_type": "markdown",
      "source": "Таким образом, проанализировав архив объявлений о продаже квартир в Санкт-Петербурге и соседних населённых пунктах за несколько лет было выявлено:\n1. Цена 1 кв. метра, площадь квартиры, количество комнат и высота потолков в выборке показывает нормальное распределение.\n2. Нормальные значения времени продажи квартир варьируются от 1 до 600 дней. Отсутствуют необоснованно быстрые продажи или долгие.\n3. На цену квадратного метра квартиры больше всего влияют этаж квартиры и близость к центру. Незначительно влияет общая площадь.\n4. Ко вторнику выставляются объявления с большей стоимостью кв. метра, а в субботу - с минимальной. Самая высокая стоимость квадратного метра в апреле, самая низкая - в июне. В период с 2014 до 2016 года цена кв. метра падала, а затем начала увеличиваться.\n5. Самая высокая средняя стоимость жилья из 10 населённых пунктов с самым большим количеством объявлений - в Санкт-Петербурге, самая низкая - в Выборге.\n6. В Санкт-Петербурге в центре также на цену квадратного метра квартиры больше всего влияют этаж квартиры и близость к центру. Остальные зависимости отличны: в понедельник и субботу выставляются объявления с большей стоимостью, а в четверг - с минимальной, самая низкая стоимость квадратного метра - в мае, а высокая - в апреле, подъем с 2015 - 2016 более медленным.\n\nДля дальнейшего анализа рекомендуется провести анализ с географической сегментацией. Анализ одного сегмента (В Санкт-Петербурге в центре) показал, что при сегментации тенденции могут отличается от средних показателей по рынку.",
      "metadata": {}
    },
    {
      "cell_type": "code",
      "source": "",
      "metadata": {},
      "execution_count": null,
      "outputs": []
    }
  ]
}