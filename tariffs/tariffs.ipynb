{
  "metadata": {
    "ExecuteTimeLog": [
      {
        "duration": 1689,
        "start_time": "2022-03-18T09:02:26.086Z"
      },
      {
        "duration": 1464,
        "start_time": "2022-03-18T09:03:01.413Z"
      },
      {
        "duration": 1538,
        "start_time": "2022-03-18T09:04:01.554Z"
      },
      {
        "duration": 1479,
        "start_time": "2022-03-18T09:04:31.500Z"
      },
      {
        "duration": 1625,
        "start_time": "2022-03-18T09:05:32.190Z"
      },
      {
        "duration": 1386,
        "start_time": "2022-03-18T09:05:57.569Z"
      },
      {
        "duration": 1409,
        "start_time": "2022-03-18T09:06:19.649Z"
      },
      {
        "duration": 1472,
        "start_time": "2022-03-18T09:06:43.493Z"
      },
      {
        "duration": 224,
        "start_time": "2022-03-18T09:07:36.283Z"
      },
      {
        "duration": 223,
        "start_time": "2022-03-18T09:08:09.272Z"
      },
      {
        "duration": 236,
        "start_time": "2022-03-18T09:09:46.725Z"
      },
      {
        "duration": 236,
        "start_time": "2022-03-18T09:09:53.553Z"
      },
      {
        "duration": 1469,
        "start_time": "2022-03-18T09:10:03.386Z"
      },
      {
        "duration": 244,
        "start_time": "2022-03-18T09:10:04.857Z"
      },
      {
        "duration": 221,
        "start_time": "2022-03-18T09:10:23.225Z"
      },
      {
        "duration": 42,
        "start_time": "2022-03-18T09:10:23.449Z"
      },
      {
        "duration": 772,
        "start_time": "2022-03-18T09:49:23.735Z"
      },
      {
        "duration": 134,
        "start_time": "2022-03-18T09:49:33.119Z"
      },
      {
        "duration": 28,
        "start_time": "2022-03-18T09:49:36.510Z"
      },
      {
        "duration": 184,
        "start_time": "2022-03-18T09:58:55.375Z"
      },
      {
        "duration": 30,
        "start_time": "2022-03-18T09:58:59.733Z"
      },
      {
        "duration": 25,
        "start_time": "2022-03-18T12:14:08.651Z"
      },
      {
        "duration": 34,
        "start_time": "2022-03-18T12:14:15.861Z"
      },
      {
        "duration": 49,
        "start_time": "2022-03-18T12:19:37.882Z"
      },
      {
        "duration": 26,
        "start_time": "2022-03-18T12:20:50.892Z"
      },
      {
        "duration": 34,
        "start_time": "2022-03-18T12:21:46.673Z"
      },
      {
        "duration": 17,
        "start_time": "2022-03-18T12:22:04.176Z"
      },
      {
        "duration": 15,
        "start_time": "2022-03-18T12:24:04.849Z"
      },
      {
        "duration": 168,
        "start_time": "2022-03-18T13:19:55.397Z"
      },
      {
        "duration": 140,
        "start_time": "2022-03-18T13:20:42.803Z"
      },
      {
        "duration": 181,
        "start_time": "2022-03-18T13:53:16.615Z"
      },
      {
        "duration": 46,
        "start_time": "2022-03-18T13:53:50.696Z"
      },
      {
        "duration": 1725,
        "start_time": "2022-03-19T15:25:41.213Z"
      },
      {
        "duration": 223,
        "start_time": "2022-03-19T15:25:42.941Z"
      },
      {
        "duration": 195,
        "start_time": "2022-03-19T15:25:43.173Z"
      },
      {
        "duration": 188,
        "start_time": "2022-03-19T15:25:43.374Z"
      },
      {
        "duration": 154,
        "start_time": "2022-03-19T15:25:43.565Z"
      },
      {
        "duration": 184,
        "start_time": "2022-03-19T15:25:43.722Z"
      },
      {
        "duration": 30,
        "start_time": "2022-03-19T15:25:43.909Z"
      },
      {
        "duration": 43,
        "start_time": "2022-03-19T15:25:43.941Z"
      },
      {
        "duration": 17,
        "start_time": "2022-03-19T15:25:43.990Z"
      },
      {
        "duration": 24,
        "start_time": "2022-03-19T15:25:44.011Z"
      },
      {
        "duration": 39,
        "start_time": "2022-03-19T15:25:44.038Z"
      },
      {
        "duration": 111,
        "start_time": "2022-03-19T15:31:16.909Z"
      },
      {
        "duration": 9,
        "start_time": "2022-03-19T15:34:12.401Z"
      },
      {
        "duration": 298,
        "start_time": "2022-03-19T15:34:12.413Z"
      },
      {
        "duration": 250,
        "start_time": "2022-03-19T15:34:12.714Z"
      },
      {
        "duration": 178,
        "start_time": "2022-03-19T15:34:12.978Z"
      },
      {
        "duration": 146,
        "start_time": "2022-03-19T15:34:13.159Z"
      },
      {
        "duration": 190,
        "start_time": "2022-03-19T15:34:13.310Z"
      },
      {
        "duration": 39,
        "start_time": "2022-03-19T15:34:13.502Z"
      },
      {
        "duration": 41,
        "start_time": "2022-03-19T15:34:13.544Z"
      },
      {
        "duration": 17,
        "start_time": "2022-03-19T15:34:13.588Z"
      },
      {
        "duration": 54,
        "start_time": "2022-03-19T15:34:13.607Z"
      },
      {
        "duration": 22,
        "start_time": "2022-03-19T15:34:13.663Z"
      },
      {
        "duration": 10,
        "start_time": "2022-03-19T15:39:05.393Z"
      },
      {
        "duration": 215,
        "start_time": "2022-03-19T15:39:05.406Z"
      },
      {
        "duration": 182,
        "start_time": "2022-03-19T15:39:05.623Z"
      },
      {
        "duration": 194,
        "start_time": "2022-03-19T15:39:05.808Z"
      },
      {
        "duration": 145,
        "start_time": "2022-03-19T15:39:06.004Z"
      },
      {
        "duration": 186,
        "start_time": "2022-03-19T15:39:06.154Z"
      },
      {
        "duration": 39,
        "start_time": "2022-03-19T15:39:06.342Z"
      },
      {
        "duration": 21,
        "start_time": "2022-03-19T15:39:06.383Z"
      },
      {
        "duration": 15,
        "start_time": "2022-03-19T15:39:06.407Z"
      },
      {
        "duration": 29,
        "start_time": "2022-03-19T15:39:06.425Z"
      },
      {
        "duration": 36,
        "start_time": "2022-03-19T15:39:06.456Z"
      },
      {
        "duration": 18,
        "start_time": "2022-03-19T15:42:35.121Z"
      },
      {
        "duration": 24,
        "start_time": "2022-03-19T15:42:39.031Z"
      },
      {
        "duration": 1393,
        "start_time": "2022-03-19T15:43:40.329Z"
      },
      {
        "duration": 226,
        "start_time": "2022-03-19T15:43:41.725Z"
      },
      {
        "duration": 194,
        "start_time": "2022-03-19T15:43:41.953Z"
      },
      {
        "duration": 188,
        "start_time": "2022-03-19T15:43:42.150Z"
      },
      {
        "duration": 164,
        "start_time": "2022-03-19T15:43:42.340Z"
      },
      {
        "duration": 187,
        "start_time": "2022-03-19T15:43:42.506Z"
      },
      {
        "duration": 26,
        "start_time": "2022-03-19T15:43:42.695Z"
      },
      {
        "duration": 19,
        "start_time": "2022-03-19T15:43:42.723Z"
      },
      {
        "duration": 42,
        "start_time": "2022-03-19T15:43:42.744Z"
      },
      {
        "duration": 25,
        "start_time": "2022-03-19T15:43:42.791Z"
      },
      {
        "duration": 16,
        "start_time": "2022-03-19T15:43:42.817Z"
      },
      {
        "duration": 91,
        "start_time": "2022-03-19T15:43:42.835Z"
      },
      {
        "duration": 180,
        "start_time": "2022-03-19T15:44:14.681Z"
      },
      {
        "duration": 197,
        "start_time": "2022-03-19T15:44:39.631Z"
      },
      {
        "duration": 118,
        "start_time": "2022-03-19T15:45:22.892Z"
      },
      {
        "duration": 91,
        "start_time": "2022-03-19T15:45:26.057Z"
      },
      {
        "duration": 28,
        "start_time": "2022-03-19T15:45:37.242Z"
      },
      {
        "duration": 20,
        "start_time": "2022-03-19T15:45:41.841Z"
      },
      {
        "duration": 101,
        "start_time": "2022-03-19T15:50:44.024Z"
      },
      {
        "duration": 133,
        "start_time": "2022-03-19T15:55:51.937Z"
      },
      {
        "duration": 13,
        "start_time": "2022-03-19T15:56:39.781Z"
      },
      {
        "duration": 1407,
        "start_time": "2022-03-19T15:59:03.978Z"
      },
      {
        "duration": 66,
        "start_time": "2022-03-19T16:01:13.664Z"
      },
      {
        "duration": 65,
        "start_time": "2022-03-19T16:01:32.929Z"
      },
      {
        "duration": 116,
        "start_time": "2022-03-19T16:01:47.874Z"
      },
      {
        "duration": 75,
        "start_time": "2022-03-19T16:02:04.914Z"
      },
      {
        "duration": 140,
        "start_time": "2022-03-19T16:02:22.656Z"
      },
      {
        "duration": 19,
        "start_time": "2022-03-19T16:08:57.936Z"
      },
      {
        "duration": 0,
        "start_time": "2022-03-19T16:09:34.413Z"
      },
      {
        "duration": 16,
        "start_time": "2022-03-19T16:09:53.571Z"
      },
      {
        "duration": 15,
        "start_time": "2022-03-19T16:10:11.546Z"
      },
      {
        "duration": 16,
        "start_time": "2022-03-19T16:10:19.596Z"
      },
      {
        "duration": 14,
        "start_time": "2022-03-19T16:10:31.676Z"
      },
      {
        "duration": 29,
        "start_time": "2022-03-19T16:10:48.726Z"
      },
      {
        "duration": 21,
        "start_time": "2022-03-19T16:32:42.634Z"
      },
      {
        "duration": 77,
        "start_time": "2022-03-19T16:32:52.905Z"
      },
      {
        "duration": 68,
        "start_time": "2022-03-19T16:36:32.233Z"
      },
      {
        "duration": 75,
        "start_time": "2022-03-19T16:38:18.514Z"
      },
      {
        "duration": 50,
        "start_time": "2022-03-19T18:25:05.976Z"
      },
      {
        "duration": 1263,
        "start_time": "2022-03-19T18:25:12.904Z"
      },
      {
        "duration": 146,
        "start_time": "2022-03-19T18:25:14.169Z"
      },
      {
        "duration": 173,
        "start_time": "2022-03-19T18:25:14.317Z"
      },
      {
        "duration": 122,
        "start_time": "2022-03-19T18:25:14.492Z"
      },
      {
        "duration": 79,
        "start_time": "2022-03-19T18:25:14.616Z"
      },
      {
        "duration": 87,
        "start_time": "2022-03-19T18:25:14.697Z"
      },
      {
        "duration": 66,
        "start_time": "2022-03-19T18:25:14.786Z"
      },
      {
        "duration": 14,
        "start_time": "2022-03-19T18:25:14.853Z"
      },
      {
        "duration": 10,
        "start_time": "2022-03-19T18:25:14.869Z"
      },
      {
        "duration": 29,
        "start_time": "2022-03-19T18:25:14.881Z"
      },
      {
        "duration": 22,
        "start_time": "2022-03-19T18:25:14.911Z"
      },
      {
        "duration": 127,
        "start_time": "2022-03-19T18:25:14.935Z"
      },
      {
        "duration": 22,
        "start_time": "2022-03-19T18:25:15.063Z"
      },
      {
        "duration": 67,
        "start_time": "2022-03-19T18:25:15.087Z"
      },
      {
        "duration": 47,
        "start_time": "2022-03-19T18:26:20.982Z"
      },
      {
        "duration": 122,
        "start_time": "2022-03-19T18:26:47.075Z"
      },
      {
        "duration": 47,
        "start_time": "2022-03-19T18:26:49.749Z"
      },
      {
        "duration": 65,
        "start_time": "2022-03-19T18:37:30.566Z"
      },
      {
        "duration": 103,
        "start_time": "2022-03-19T18:44:29.726Z"
      },
      {
        "duration": 71,
        "start_time": "2022-03-19T18:48:34.651Z"
      },
      {
        "duration": 101,
        "start_time": "2022-03-19T19:00:32.611Z"
      },
      {
        "duration": 34,
        "start_time": "2022-03-19T19:01:18.821Z"
      },
      {
        "duration": 19,
        "start_time": "2022-03-19T19:01:31.289Z"
      },
      {
        "duration": 27,
        "start_time": "2022-03-19T19:03:46.750Z"
      },
      {
        "duration": 26,
        "start_time": "2022-03-19T19:07:41.603Z"
      },
      {
        "duration": 27,
        "start_time": "2022-03-19T19:07:47.021Z"
      },
      {
        "duration": 27,
        "start_time": "2022-03-19T19:08:32.538Z"
      },
      {
        "duration": 20,
        "start_time": "2022-03-19T19:09:18.440Z"
      },
      {
        "duration": 1385,
        "start_time": "2022-03-20T07:26:42.204Z"
      },
      {
        "duration": 180,
        "start_time": "2022-03-20T07:26:43.591Z"
      },
      {
        "duration": 147,
        "start_time": "2022-03-20T07:26:43.773Z"
      },
      {
        "duration": 148,
        "start_time": "2022-03-20T07:26:43.922Z"
      },
      {
        "duration": 93,
        "start_time": "2022-03-20T07:26:44.072Z"
      },
      {
        "duration": 94,
        "start_time": "2022-03-20T07:26:44.167Z"
      },
      {
        "duration": 77,
        "start_time": "2022-03-20T07:26:44.263Z"
      },
      {
        "duration": 20,
        "start_time": "2022-03-20T07:26:44.341Z"
      },
      {
        "duration": 12,
        "start_time": "2022-03-20T07:26:44.362Z"
      },
      {
        "duration": 36,
        "start_time": "2022-03-20T07:26:44.377Z"
      },
      {
        "duration": 15,
        "start_time": "2022-03-20T07:26:44.415Z"
      },
      {
        "duration": 131,
        "start_time": "2022-03-20T07:26:44.432Z"
      },
      {
        "duration": 25,
        "start_time": "2022-03-20T07:26:44.565Z"
      },
      {
        "duration": 74,
        "start_time": "2022-03-20T07:26:44.592Z"
      },
      {
        "duration": 31,
        "start_time": "2022-03-20T07:26:44.667Z"
      },
      {
        "duration": 64,
        "start_time": "2022-03-20T07:26:44.699Z"
      },
      {
        "duration": 21,
        "start_time": "2022-03-20T07:26:44.765Z"
      },
      {
        "duration": 55,
        "start_time": "2022-03-20T07:26:44.787Z"
      },
      {
        "duration": 164,
        "start_time": "2022-03-20T07:29:27.970Z"
      },
      {
        "duration": 174,
        "start_time": "2022-03-20T07:29:51.762Z"
      },
      {
        "duration": 407,
        "start_time": "2022-03-20T07:30:24.407Z"
      },
      {
        "duration": 180,
        "start_time": "2022-03-20T07:32:00.217Z"
      },
      {
        "duration": 157,
        "start_time": "2022-03-20T07:32:08.836Z"
      },
      {
        "duration": 205,
        "start_time": "2022-03-20T07:33:09.147Z"
      },
      {
        "duration": 1636,
        "start_time": "2022-03-20T07:34:31.151Z"
      },
      {
        "duration": 807,
        "start_time": "2022-03-20T07:34:32.789Z"
      },
      {
        "duration": 146,
        "start_time": "2022-03-20T07:34:33.598Z"
      },
      {
        "duration": 149,
        "start_time": "2022-03-20T07:34:33.746Z"
      },
      {
        "duration": 100,
        "start_time": "2022-03-20T07:34:33.897Z"
      },
      {
        "duration": 94,
        "start_time": "2022-03-20T07:34:33.999Z"
      },
      {
        "duration": 74,
        "start_time": "2022-03-20T07:34:34.095Z"
      },
      {
        "duration": 20,
        "start_time": "2022-03-20T07:34:34.170Z"
      },
      {
        "duration": 11,
        "start_time": "2022-03-20T07:34:34.191Z"
      },
      {
        "duration": 63,
        "start_time": "2022-03-20T07:34:34.204Z"
      },
      {
        "duration": 14,
        "start_time": "2022-03-20T07:34:34.269Z"
      },
      {
        "duration": 118,
        "start_time": "2022-03-20T07:34:34.285Z"
      },
      {
        "duration": 34,
        "start_time": "2022-03-20T07:34:34.404Z"
      },
      {
        "duration": 55,
        "start_time": "2022-03-20T07:34:34.441Z"
      },
      {
        "duration": 50,
        "start_time": "2022-03-20T07:34:34.498Z"
      },
      {
        "duration": 167,
        "start_time": "2022-03-20T07:34:34.549Z"
      },
      {
        "duration": 0,
        "start_time": "2022-03-20T07:34:34.718Z"
      },
      {
        "duration": 0,
        "start_time": "2022-03-20T07:34:34.719Z"
      },
      {
        "duration": 716,
        "start_time": "2022-03-20T07:35:05.144Z"
      },
      {
        "duration": 603,
        "start_time": "2022-03-20T07:35:18.900Z"
      },
      {
        "duration": 360,
        "start_time": "2022-03-20T07:35:36.630Z"
      },
      {
        "duration": 292,
        "start_time": "2022-03-20T07:35:49.210Z"
      },
      {
        "duration": 72,
        "start_time": "2022-03-20T07:36:07.578Z"
      },
      {
        "duration": 64,
        "start_time": "2022-03-20T07:37:37.109Z"
      },
      {
        "duration": 69,
        "start_time": "2022-03-20T07:37:56.175Z"
      },
      {
        "duration": 68,
        "start_time": "2022-03-20T07:38:24.067Z"
      },
      {
        "duration": 63,
        "start_time": "2022-03-20T07:39:48.828Z"
      },
      {
        "duration": 185,
        "start_time": "2022-03-20T07:41:27.164Z"
      },
      {
        "duration": 39,
        "start_time": "2022-03-20T07:41:47.922Z"
      },
      {
        "duration": 270,
        "start_time": "2022-03-20T07:48:09.605Z"
      },
      {
        "duration": 1187,
        "start_time": "2022-03-20T07:49:17.916Z"
      },
      {
        "duration": 39,
        "start_time": "2022-03-20T07:51:27.996Z"
      },
      {
        "duration": 16,
        "start_time": "2022-03-20T07:53:26.327Z"
      },
      {
        "duration": 22,
        "start_time": "2022-03-20T07:53:40.719Z"
      },
      {
        "duration": 26,
        "start_time": "2022-03-20T07:53:42.978Z"
      },
      {
        "duration": 25,
        "start_time": "2022-03-20T07:59:54.027Z"
      },
      {
        "duration": 19,
        "start_time": "2022-03-20T08:07:38.479Z"
      },
      {
        "duration": 16,
        "start_time": "2022-03-20T08:07:47.385Z"
      },
      {
        "duration": 16,
        "start_time": "2022-03-20T08:07:52.605Z"
      },
      {
        "duration": 16,
        "start_time": "2022-03-20T08:08:06.887Z"
      },
      {
        "duration": 18,
        "start_time": "2022-03-20T08:14:38.817Z"
      },
      {
        "duration": 1119,
        "start_time": "2022-03-20T08:14:56.261Z"
      },
      {
        "duration": 180,
        "start_time": "2022-03-20T08:14:57.382Z"
      },
      {
        "duration": 158,
        "start_time": "2022-03-20T08:14:57.566Z"
      },
      {
        "duration": 146,
        "start_time": "2022-03-20T08:14:57.726Z"
      },
      {
        "duration": 104,
        "start_time": "2022-03-20T08:14:57.874Z"
      },
      {
        "duration": 105,
        "start_time": "2022-03-20T08:14:57.980Z"
      },
      {
        "duration": 75,
        "start_time": "2022-03-20T08:14:58.086Z"
      },
      {
        "duration": 21,
        "start_time": "2022-03-20T08:14:58.163Z"
      },
      {
        "duration": 10,
        "start_time": "2022-03-20T08:14:58.186Z"
      },
      {
        "duration": 48,
        "start_time": "2022-03-20T08:14:58.198Z"
      },
      {
        "duration": 15,
        "start_time": "2022-03-20T08:14:58.248Z"
      },
      {
        "duration": 150,
        "start_time": "2022-03-20T08:14:58.264Z"
      },
      {
        "duration": 40,
        "start_time": "2022-03-20T08:14:58.417Z"
      },
      {
        "duration": 72,
        "start_time": "2022-03-20T08:14:58.459Z"
      },
      {
        "duration": 31,
        "start_time": "2022-03-20T08:14:58.533Z"
      },
      {
        "duration": 40,
        "start_time": "2022-03-20T08:14:58.566Z"
      },
      {
        "duration": 41,
        "start_time": "2022-03-20T08:14:58.608Z"
      },
      {
        "duration": 26,
        "start_time": "2022-03-20T08:14:58.651Z"
      },
      {
        "duration": 25,
        "start_time": "2022-03-20T08:14:58.679Z"
      },
      {
        "duration": 43,
        "start_time": "2022-03-20T08:14:58.706Z"
      },
      {
        "duration": 28,
        "start_time": "2022-03-20T08:14:58.751Z"
      },
      {
        "duration": 22,
        "start_time": "2022-03-20T08:15:23.765Z"
      },
      {
        "duration": 21,
        "start_time": "2022-03-20T08:41:52.778Z"
      },
      {
        "duration": 18,
        "start_time": "2022-03-20T08:42:43.351Z"
      },
      {
        "duration": 25,
        "start_time": "2022-03-20T08:43:21.440Z"
      },
      {
        "duration": 16,
        "start_time": "2022-03-20T08:43:58.045Z"
      },
      {
        "duration": 26,
        "start_time": "2022-03-20T08:44:52.739Z"
      },
      {
        "duration": 108,
        "start_time": "2022-03-20T08:45:46.365Z"
      },
      {
        "duration": 21,
        "start_time": "2022-03-20T08:45:52.445Z"
      },
      {
        "duration": 24,
        "start_time": "2022-03-20T08:46:01.134Z"
      },
      {
        "duration": 23,
        "start_time": "2022-03-20T08:47:28.236Z"
      },
      {
        "duration": 30,
        "start_time": "2022-03-20T08:52:58.445Z"
      },
      {
        "duration": 19,
        "start_time": "2022-03-20T08:53:40.032Z"
      },
      {
        "duration": 12,
        "start_time": "2022-03-20T08:59:47.217Z"
      },
      {
        "duration": 34,
        "start_time": "2022-03-20T09:00:01.508Z"
      },
      {
        "duration": 9,
        "start_time": "2022-03-20T09:08:56.448Z"
      },
      {
        "duration": 51,
        "start_time": "2022-03-20T09:16:49.446Z"
      },
      {
        "duration": 14,
        "start_time": "2022-03-20T09:18:16.459Z"
      },
      {
        "duration": 24,
        "start_time": "2022-03-20T09:18:46.243Z"
      },
      {
        "duration": 1141,
        "start_time": "2022-03-20T09:19:04.250Z"
      },
      {
        "duration": 171,
        "start_time": "2022-03-20T09:19:05.394Z"
      },
      {
        "duration": 145,
        "start_time": "2022-03-20T09:19:05.566Z"
      },
      {
        "duration": 155,
        "start_time": "2022-03-20T09:19:05.713Z"
      },
      {
        "duration": 96,
        "start_time": "2022-03-20T09:19:05.871Z"
      },
      {
        "duration": 99,
        "start_time": "2022-03-20T09:19:05.968Z"
      },
      {
        "duration": 75,
        "start_time": "2022-03-20T09:19:06.069Z"
      },
      {
        "duration": 20,
        "start_time": "2022-03-20T09:19:06.145Z"
      },
      {
        "duration": 10,
        "start_time": "2022-03-20T09:19:06.167Z"
      },
      {
        "duration": 51,
        "start_time": "2022-03-20T09:19:06.179Z"
      },
      {
        "duration": 15,
        "start_time": "2022-03-20T09:19:06.232Z"
      },
      {
        "duration": 138,
        "start_time": "2022-03-20T09:19:06.248Z"
      },
      {
        "duration": 24,
        "start_time": "2022-03-20T09:19:06.388Z"
      },
      {
        "duration": 12,
        "start_time": "2022-03-20T09:19:06.431Z"
      },
      {
        "duration": 57,
        "start_time": "2022-03-20T09:19:06.445Z"
      },
      {
        "duration": 50,
        "start_time": "2022-03-20T09:19:06.504Z"
      },
      {
        "duration": 39,
        "start_time": "2022-03-20T09:19:06.556Z"
      },
      {
        "duration": 41,
        "start_time": "2022-03-20T09:19:06.597Z"
      },
      {
        "duration": 25,
        "start_time": "2022-03-20T09:19:06.640Z"
      },
      {
        "duration": 25,
        "start_time": "2022-03-20T09:19:06.666Z"
      },
      {
        "duration": 49,
        "start_time": "2022-03-20T09:19:06.693Z"
      },
      {
        "duration": 23,
        "start_time": "2022-03-20T09:19:06.744Z"
      },
      {
        "duration": 24,
        "start_time": "2022-03-20T09:19:06.768Z"
      },
      {
        "duration": 62,
        "start_time": "2022-03-20T09:19:06.794Z"
      },
      {
        "duration": 36,
        "start_time": "2022-03-20T09:19:06.859Z"
      },
      {
        "duration": 3371,
        "start_time": "2022-03-20T09:19:06.897Z"
      },
      {
        "duration": 0,
        "start_time": "2022-03-20T09:19:10.269Z"
      },
      {
        "duration": 10,
        "start_time": "2022-03-20T09:19:34.216Z"
      },
      {
        "duration": 4,
        "start_time": "2022-03-20T09:20:00.343Z"
      },
      {
        "duration": 4,
        "start_time": "2022-03-20T09:22:05.935Z"
      },
      {
        "duration": 179,
        "start_time": "2022-03-20T09:28:06.555Z"
      },
      {
        "duration": 10,
        "start_time": "2022-03-20T09:28:13.489Z"
      },
      {
        "duration": 10,
        "start_time": "2022-03-20T09:28:34.561Z"
      },
      {
        "duration": 17,
        "start_time": "2022-03-20T09:29:06.592Z"
      },
      {
        "duration": 8,
        "start_time": "2022-03-20T09:29:43.273Z"
      },
      {
        "duration": 5,
        "start_time": "2022-03-20T09:30:02.393Z"
      },
      {
        "duration": 162,
        "start_time": "2022-03-20T09:30:04.161Z"
      },
      {
        "duration": 119,
        "start_time": "2022-03-20T09:30:43.217Z"
      },
      {
        "duration": 134,
        "start_time": "2022-03-20T09:30:57.932Z"
      },
      {
        "duration": 3,
        "start_time": "2022-03-20T09:32:29.819Z"
      },
      {
        "duration": 3140,
        "start_time": "2022-03-20T09:32:31.660Z"
      },
      {
        "duration": 4,
        "start_time": "2022-03-20T09:32:59.421Z"
      },
      {
        "duration": 4,
        "start_time": "2022-03-20T09:33:03.253Z"
      },
      {
        "duration": 139,
        "start_time": "2022-03-20T09:33:05.811Z"
      },
      {
        "duration": 4,
        "start_time": "2022-03-20T09:33:20.109Z"
      },
      {
        "duration": 28,
        "start_time": "2022-03-20T09:33:22.433Z"
      },
      {
        "duration": 3,
        "start_time": "2022-03-20T09:33:32.100Z"
      },
      {
        "duration": 97,
        "start_time": "2022-03-20T09:33:35.398Z"
      },
      {
        "duration": 21,
        "start_time": "2022-03-20T09:34:31.805Z"
      },
      {
        "duration": 3,
        "start_time": "2022-03-20T09:34:52.338Z"
      },
      {
        "duration": 21,
        "start_time": "2022-03-20T09:34:53.953Z"
      },
      {
        "duration": 105,
        "start_time": "2022-03-20T09:35:09.028Z"
      },
      {
        "duration": 4,
        "start_time": "2022-03-20T09:35:52.503Z"
      },
      {
        "duration": 117,
        "start_time": "2022-03-20T09:35:54.525Z"
      },
      {
        "duration": 120,
        "start_time": "2022-03-20T09:39:56.796Z"
      },
      {
        "duration": 128,
        "start_time": "2022-03-20T09:40:02.952Z"
      },
      {
        "duration": 127,
        "start_time": "2022-03-20T09:40:34.701Z"
      },
      {
        "duration": 125,
        "start_time": "2022-03-20T09:41:45.109Z"
      },
      {
        "duration": 124,
        "start_time": "2022-03-20T09:42:03.179Z"
      },
      {
        "duration": 5,
        "start_time": "2022-03-20T09:43:51.747Z"
      },
      {
        "duration": 135,
        "start_time": "2022-03-20T09:44:12.751Z"
      },
      {
        "duration": 141,
        "start_time": "2022-03-20T09:45:11.369Z"
      },
      {
        "duration": 130,
        "start_time": "2022-03-20T09:48:00.176Z"
      },
      {
        "duration": 9,
        "start_time": "2022-03-20T09:48:04.257Z"
      },
      {
        "duration": 15,
        "start_time": "2022-03-20T09:48:12.244Z"
      },
      {
        "duration": 178,
        "start_time": "2022-03-20T09:49:15.725Z"
      },
      {
        "duration": 160,
        "start_time": "2022-03-20T09:49:51.751Z"
      },
      {
        "duration": 14,
        "start_time": "2022-03-20T09:49:55.256Z"
      },
      {
        "duration": 19,
        "start_time": "2022-03-20T09:50:14.153Z"
      },
      {
        "duration": 3041,
        "start_time": "2022-03-20T10:55:23.621Z"
      },
      {
        "duration": 4,
        "start_time": "2022-03-20T10:55:46.504Z"
      },
      {
        "duration": 10,
        "start_time": "2022-03-20T10:55:53.662Z"
      },
      {
        "duration": 2985,
        "start_time": "2022-03-20T10:56:04.352Z"
      },
      {
        "duration": 2993,
        "start_time": "2022-03-20T10:56:17.493Z"
      },
      {
        "duration": 21,
        "start_time": "2022-03-20T10:56:27.213Z"
      },
      {
        "duration": 3180,
        "start_time": "2022-03-20T11:05:29.799Z"
      },
      {
        "duration": 205,
        "start_time": "2022-03-20T11:05:46.418Z"
      },
      {
        "duration": 199,
        "start_time": "2022-03-20T11:05:59.412Z"
      },
      {
        "duration": 132,
        "start_time": "2022-03-20T11:06:03.548Z"
      },
      {
        "duration": 259,
        "start_time": "2022-03-20T11:06:29.293Z"
      },
      {
        "duration": 126,
        "start_time": "2022-03-20T11:06:38.256Z"
      },
      {
        "duration": 161,
        "start_time": "2022-03-20T11:07:46.111Z"
      },
      {
        "duration": 150,
        "start_time": "2022-03-20T11:07:58.259Z"
      },
      {
        "duration": 144,
        "start_time": "2022-03-20T11:08:04.638Z"
      },
      {
        "duration": 143,
        "start_time": "2022-03-20T11:08:10.492Z"
      },
      {
        "duration": 146,
        "start_time": "2022-03-20T11:08:34.754Z"
      },
      {
        "duration": 50,
        "start_time": "2022-03-20T11:12:46.788Z"
      },
      {
        "duration": 17,
        "start_time": "2022-03-20T11:12:52.340Z"
      },
      {
        "duration": 12,
        "start_time": "2022-03-20T11:12:55.875Z"
      },
      {
        "duration": 12,
        "start_time": "2022-03-20T11:13:03.564Z"
      },
      {
        "duration": 12,
        "start_time": "2022-03-20T11:13:45.036Z"
      },
      {
        "duration": 11,
        "start_time": "2022-03-20T11:13:48.589Z"
      },
      {
        "duration": 15,
        "start_time": "2022-03-20T11:13:57.079Z"
      },
      {
        "duration": 11,
        "start_time": "2022-03-20T11:14:00.985Z"
      },
      {
        "duration": 11,
        "start_time": "2022-03-20T11:16:29.492Z"
      },
      {
        "duration": 14,
        "start_time": "2022-03-20T11:16:31.902Z"
      },
      {
        "duration": 302,
        "start_time": "2022-03-20T11:25:56.385Z"
      },
      {
        "duration": 222,
        "start_time": "2022-03-20T11:26:26.448Z"
      },
      {
        "duration": 213,
        "start_time": "2022-03-20T11:27:31.214Z"
      },
      {
        "duration": 212,
        "start_time": "2022-03-20T11:27:49.494Z"
      },
      {
        "duration": 13,
        "start_time": "2022-03-20T11:33:26.512Z"
      },
      {
        "duration": 235,
        "start_time": "2022-03-20T11:34:31.778Z"
      },
      {
        "duration": 172,
        "start_time": "2022-03-20T11:36:59.290Z"
      },
      {
        "duration": 17,
        "start_time": "2022-03-20T11:37:04.373Z"
      },
      {
        "duration": 14,
        "start_time": "2022-03-20T11:37:43.271Z"
      },
      {
        "duration": 208,
        "start_time": "2022-03-20T11:38:36.948Z"
      },
      {
        "duration": 5,
        "start_time": "2022-03-20T11:47:02.116Z"
      },
      {
        "duration": 14,
        "start_time": "2022-03-20T11:47:14.810Z"
      },
      {
        "duration": 0,
        "start_time": "2022-03-20T12:12:36.852Z"
      },
      {
        "duration": 0,
        "start_time": "2022-03-20T12:12:36.854Z"
      },
      {
        "duration": 0,
        "start_time": "2022-03-20T12:12:36.854Z"
      },
      {
        "duration": 0,
        "start_time": "2022-03-20T12:12:36.855Z"
      },
      {
        "duration": 0,
        "start_time": "2022-03-20T12:12:36.856Z"
      },
      {
        "duration": 0,
        "start_time": "2022-03-20T12:12:36.857Z"
      },
      {
        "duration": 0,
        "start_time": "2022-03-20T12:12:36.858Z"
      },
      {
        "duration": 0,
        "start_time": "2022-03-20T12:12:36.859Z"
      },
      {
        "duration": 0,
        "start_time": "2022-03-20T12:12:36.860Z"
      },
      {
        "duration": 0,
        "start_time": "2022-03-20T12:12:36.861Z"
      },
      {
        "duration": 0,
        "start_time": "2022-03-20T12:12:36.862Z"
      },
      {
        "duration": 0,
        "start_time": "2022-03-20T12:12:36.863Z"
      },
      {
        "duration": 0,
        "start_time": "2022-03-20T12:12:36.864Z"
      },
      {
        "duration": 0,
        "start_time": "2022-03-20T12:12:36.865Z"
      },
      {
        "duration": 0,
        "start_time": "2022-03-20T12:12:36.866Z"
      },
      {
        "duration": 0,
        "start_time": "2022-03-20T12:12:36.867Z"
      },
      {
        "duration": 0,
        "start_time": "2022-03-20T12:12:36.868Z"
      },
      {
        "duration": 0,
        "start_time": "2022-03-20T12:12:36.869Z"
      },
      {
        "duration": 0,
        "start_time": "2022-03-20T12:12:36.870Z"
      },
      {
        "duration": 0,
        "start_time": "2022-03-20T12:12:36.871Z"
      },
      {
        "duration": 0,
        "start_time": "2022-03-20T12:12:36.872Z"
      },
      {
        "duration": 0,
        "start_time": "2022-03-20T12:12:36.873Z"
      },
      {
        "duration": 0,
        "start_time": "2022-03-20T12:12:36.873Z"
      },
      {
        "duration": 0,
        "start_time": "2022-03-20T12:12:36.875Z"
      },
      {
        "duration": 0,
        "start_time": "2022-03-20T12:12:36.932Z"
      },
      {
        "duration": 0,
        "start_time": "2022-03-20T12:12:36.934Z"
      },
      {
        "duration": 0,
        "start_time": "2022-03-20T12:12:36.934Z"
      },
      {
        "duration": 0,
        "start_time": "2022-03-20T12:12:36.935Z"
      },
      {
        "duration": 0,
        "start_time": "2022-03-20T12:12:36.936Z"
      },
      {
        "duration": 0,
        "start_time": "2022-03-20T12:12:36.937Z"
      },
      {
        "duration": 0,
        "start_time": "2022-03-20T12:12:36.938Z"
      },
      {
        "duration": 0,
        "start_time": "2022-03-20T12:12:36.939Z"
      },
      {
        "duration": 0,
        "start_time": "2022-03-20T12:12:36.940Z"
      },
      {
        "duration": 0,
        "start_time": "2022-03-20T12:12:36.941Z"
      },
      {
        "duration": 0,
        "start_time": "2022-03-20T12:12:36.942Z"
      },
      {
        "duration": 0,
        "start_time": "2022-03-20T12:12:36.943Z"
      },
      {
        "duration": 0,
        "start_time": "2022-03-20T12:12:36.944Z"
      },
      {
        "duration": 0,
        "start_time": "2022-03-20T12:12:36.945Z"
      },
      {
        "duration": 0,
        "start_time": "2022-03-20T12:12:36.946Z"
      },
      {
        "duration": 0,
        "start_time": "2022-03-20T12:12:36.947Z"
      },
      {
        "duration": 0,
        "start_time": "2022-03-20T12:12:36.948Z"
      },
      {
        "duration": 1154,
        "start_time": "2022-03-20T12:13:10.812Z"
      },
      {
        "duration": 169,
        "start_time": "2022-03-20T12:13:11.968Z"
      },
      {
        "duration": 135,
        "start_time": "2022-03-20T12:13:12.138Z"
      },
      {
        "duration": 137,
        "start_time": "2022-03-20T12:13:12.275Z"
      },
      {
        "duration": 85,
        "start_time": "2022-03-20T12:13:12.414Z"
      },
      {
        "duration": 96,
        "start_time": "2022-03-20T12:13:12.501Z"
      },
      {
        "duration": 73,
        "start_time": "2022-03-20T12:13:12.599Z"
      },
      {
        "duration": 19,
        "start_time": "2022-03-20T12:13:12.673Z"
      },
      {
        "duration": 10,
        "start_time": "2022-03-20T12:13:12.694Z"
      },
      {
        "duration": 42,
        "start_time": "2022-03-20T12:13:12.707Z"
      },
      {
        "duration": 15,
        "start_time": "2022-03-20T12:13:12.751Z"
      },
      {
        "duration": 126,
        "start_time": "2022-03-20T12:13:12.768Z"
      },
      {
        "duration": 24,
        "start_time": "2022-03-20T12:13:12.895Z"
      },
      {
        "duration": 10,
        "start_time": "2022-03-20T12:13:12.932Z"
      },
      {
        "duration": 52,
        "start_time": "2022-03-20T12:13:12.944Z"
      },
      {
        "duration": 60,
        "start_time": "2022-03-20T12:13:12.998Z"
      },
      {
        "duration": 40,
        "start_time": "2022-03-20T12:13:13.059Z"
      },
      {
        "duration": 42,
        "start_time": "2022-03-20T12:13:13.100Z"
      },
      {
        "duration": 24,
        "start_time": "2022-03-20T12:13:13.144Z"
      },
      {
        "duration": 24,
        "start_time": "2022-03-20T12:13:13.169Z"
      },
      {
        "duration": 43,
        "start_time": "2022-03-20T12:13:13.195Z"
      },
      {
        "duration": 20,
        "start_time": "2022-03-20T12:13:13.240Z"
      },
      {
        "duration": 22,
        "start_time": "2022-03-20T12:13:13.261Z"
      },
      {
        "duration": 60,
        "start_time": "2022-03-20T12:13:13.284Z"
      },
      {
        "duration": 34,
        "start_time": "2022-03-20T12:13:13.345Z"
      },
      {
        "duration": 10,
        "start_time": "2022-03-20T12:13:13.381Z"
      },
      {
        "duration": 152,
        "start_time": "2022-03-20T12:13:13.393Z"
      },
      {
        "duration": 0,
        "start_time": "2022-03-20T12:13:13.547Z"
      },
      {
        "duration": 0,
        "start_time": "2022-03-20T12:13:13.548Z"
      },
      {
        "duration": 0,
        "start_time": "2022-03-20T12:13:13.550Z"
      },
      {
        "duration": 0,
        "start_time": "2022-03-20T12:13:13.551Z"
      },
      {
        "duration": 0,
        "start_time": "2022-03-20T12:13:13.552Z"
      },
      {
        "duration": 0,
        "start_time": "2022-03-20T12:13:13.553Z"
      },
      {
        "duration": 0,
        "start_time": "2022-03-20T12:13:13.554Z"
      },
      {
        "duration": 0,
        "start_time": "2022-03-20T12:13:13.555Z"
      },
      {
        "duration": 0,
        "start_time": "2022-03-20T12:13:13.556Z"
      },
      {
        "duration": 0,
        "start_time": "2022-03-20T12:13:13.557Z"
      },
      {
        "duration": 0,
        "start_time": "2022-03-20T12:13:13.558Z"
      },
      {
        "duration": 0,
        "start_time": "2022-03-20T12:13:13.559Z"
      },
      {
        "duration": 0,
        "start_time": "2022-03-20T12:13:13.560Z"
      },
      {
        "duration": 0,
        "start_time": "2022-03-20T12:13:13.561Z"
      },
      {
        "duration": 133,
        "start_time": "2022-03-20T12:13:47.819Z"
      },
      {
        "duration": 1120,
        "start_time": "2022-03-20T12:13:54.747Z"
      },
      {
        "duration": 165,
        "start_time": "2022-03-20T12:13:55.869Z"
      },
      {
        "duration": 131,
        "start_time": "2022-03-20T12:13:56.036Z"
      },
      {
        "duration": 135,
        "start_time": "2022-03-20T12:13:56.169Z"
      },
      {
        "duration": 91,
        "start_time": "2022-03-20T12:13:56.305Z"
      },
      {
        "duration": 96,
        "start_time": "2022-03-20T12:13:56.397Z"
      },
      {
        "duration": 79,
        "start_time": "2022-03-20T12:13:56.495Z"
      },
      {
        "duration": 20,
        "start_time": "2022-03-20T12:13:56.576Z"
      },
      {
        "duration": 11,
        "start_time": "2022-03-20T12:13:56.597Z"
      },
      {
        "duration": 44,
        "start_time": "2022-03-20T12:13:56.612Z"
      },
      {
        "duration": 15,
        "start_time": "2022-03-20T12:13:56.658Z"
      },
      {
        "duration": 124,
        "start_time": "2022-03-20T12:13:56.675Z"
      },
      {
        "duration": 31,
        "start_time": "2022-03-20T12:13:56.800Z"
      },
      {
        "duration": 11,
        "start_time": "2022-03-20T12:13:56.833Z"
      },
      {
        "duration": 51,
        "start_time": "2022-03-20T12:13:56.845Z"
      },
      {
        "duration": 54,
        "start_time": "2022-03-20T12:13:56.898Z"
      },
      {
        "duration": 37,
        "start_time": "2022-03-20T12:13:56.954Z"
      },
      {
        "duration": 39,
        "start_time": "2022-03-20T12:13:56.993Z"
      },
      {
        "duration": 24,
        "start_time": "2022-03-20T12:13:57.034Z"
      },
      {
        "duration": 23,
        "start_time": "2022-03-20T12:13:57.060Z"
      },
      {
        "duration": 22,
        "start_time": "2022-03-20T12:13:57.085Z"
      },
      {
        "duration": 21,
        "start_time": "2022-03-20T12:13:57.132Z"
      },
      {
        "duration": 22,
        "start_time": "2022-03-20T12:13:57.155Z"
      },
      {
        "duration": 64,
        "start_time": "2022-03-20T12:13:57.179Z"
      },
      {
        "duration": 32,
        "start_time": "2022-03-20T12:13:57.244Z"
      },
      {
        "duration": 10,
        "start_time": "2022-03-20T12:13:57.278Z"
      },
      {
        "duration": 166,
        "start_time": "2022-03-20T12:13:57.290Z"
      },
      {
        "duration": 17,
        "start_time": "2022-03-20T12:13:57.461Z"
      },
      {
        "duration": 190,
        "start_time": "2022-03-20T12:13:57.480Z"
      },
      {
        "duration": 150,
        "start_time": "2022-03-20T12:13:57.672Z"
      },
      {
        "duration": 158,
        "start_time": "2022-03-20T12:13:57.831Z"
      },
      {
        "duration": 61,
        "start_time": "2022-03-20T12:13:57.990Z"
      },
      {
        "duration": 11,
        "start_time": "2022-03-20T12:13:58.052Z"
      },
      {
        "duration": 227,
        "start_time": "2022-03-20T12:13:58.065Z"
      },
      {
        "duration": 12,
        "start_time": "2022-03-20T12:13:58.294Z"
      },
      {
        "duration": 214,
        "start_time": "2022-03-20T12:13:58.308Z"
      },
      {
        "duration": 15,
        "start_time": "2022-03-20T12:13:58.524Z"
      },
      {
        "duration": 211,
        "start_time": "2022-03-20T12:13:58.541Z"
      },
      {
        "duration": 4,
        "start_time": "2022-03-20T12:13:58.754Z"
      },
      {
        "duration": 16,
        "start_time": "2022-03-20T12:13:58.760Z"
      },
      {
        "duration": 296,
        "start_time": "2022-03-20T12:13:58.778Z"
      },
      {
        "duration": 191,
        "start_time": "2022-03-20T12:18:00.452Z"
      },
      {
        "duration": 19,
        "start_time": "2022-03-20T12:21:39.073Z"
      },
      {
        "duration": 17,
        "start_time": "2022-03-20T12:21:52.387Z"
      },
      {
        "duration": 1254,
        "start_time": "2022-03-20T12:24:02.226Z"
      },
      {
        "duration": 185,
        "start_time": "2022-03-20T12:24:03.482Z"
      },
      {
        "duration": 149,
        "start_time": "2022-03-20T12:24:03.669Z"
      },
      {
        "duration": 149,
        "start_time": "2022-03-20T12:24:03.821Z"
      },
      {
        "duration": 126,
        "start_time": "2022-03-20T12:24:03.972Z"
      },
      {
        "duration": 97,
        "start_time": "2022-03-20T12:24:04.100Z"
      },
      {
        "duration": 78,
        "start_time": "2022-03-20T12:24:04.198Z"
      },
      {
        "duration": 19,
        "start_time": "2022-03-20T12:24:04.278Z"
      },
      {
        "duration": 11,
        "start_time": "2022-03-20T12:24:04.299Z"
      },
      {
        "duration": 41,
        "start_time": "2022-03-20T12:24:04.332Z"
      },
      {
        "duration": 22,
        "start_time": "2022-03-20T12:24:04.375Z"
      },
      {
        "duration": 157,
        "start_time": "2022-03-20T12:24:04.399Z"
      },
      {
        "duration": 24,
        "start_time": "2022-03-20T12:24:04.558Z"
      },
      {
        "duration": 15,
        "start_time": "2022-03-20T12:24:04.584Z"
      },
      {
        "duration": 78,
        "start_time": "2022-03-20T12:24:04.601Z"
      },
      {
        "duration": 51,
        "start_time": "2022-03-20T12:24:04.681Z"
      },
      {
        "duration": 41,
        "start_time": "2022-03-20T12:24:04.734Z"
      },
      {
        "duration": 22,
        "start_time": "2022-03-20T12:24:04.777Z"
      },
      {
        "duration": 54,
        "start_time": "2022-03-20T12:24:04.800Z"
      },
      {
        "duration": 25,
        "start_time": "2022-03-20T12:24:04.856Z"
      },
      {
        "duration": 53,
        "start_time": "2022-03-20T12:24:04.883Z"
      },
      {
        "duration": 22,
        "start_time": "2022-03-20T12:24:04.938Z"
      },
      {
        "duration": 24,
        "start_time": "2022-03-20T12:24:04.962Z"
      },
      {
        "duration": 70,
        "start_time": "2022-03-20T12:24:04.988Z"
      },
      {
        "duration": 36,
        "start_time": "2022-03-20T12:24:05.060Z"
      },
      {
        "duration": 40,
        "start_time": "2022-03-20T12:24:05.098Z"
      },
      {
        "duration": 162,
        "start_time": "2022-03-20T12:24:05.140Z"
      },
      {
        "duration": 30,
        "start_time": "2022-03-20T12:24:05.306Z"
      },
      {
        "duration": 208,
        "start_time": "2022-03-20T12:24:05.338Z"
      },
      {
        "duration": 168,
        "start_time": "2022-03-20T12:24:05.548Z"
      },
      {
        "duration": 183,
        "start_time": "2022-03-20T12:24:05.718Z"
      },
      {
        "duration": 61,
        "start_time": "2022-03-20T12:24:05.903Z"
      },
      {
        "duration": 11,
        "start_time": "2022-03-20T12:24:05.966Z"
      },
      {
        "duration": 250,
        "start_time": "2022-03-20T12:24:05.979Z"
      },
      {
        "duration": 11,
        "start_time": "2022-03-20T12:24:06.231Z"
      },
      {
        "duration": 238,
        "start_time": "2022-03-20T12:24:06.244Z"
      },
      {
        "duration": 12,
        "start_time": "2022-03-20T12:24:06.484Z"
      },
      {
        "duration": 225,
        "start_time": "2022-03-20T12:24:06.497Z"
      },
      {
        "duration": 9,
        "start_time": "2022-03-20T12:24:06.724Z"
      },
      {
        "duration": 16,
        "start_time": "2022-03-20T12:24:06.734Z"
      },
      {
        "duration": 17,
        "start_time": "2022-03-20T12:24:06.752Z"
      },
      {
        "duration": 101,
        "start_time": "2022-03-20T12:37:42.860Z"
      },
      {
        "duration": 166,
        "start_time": "2022-03-20T12:53:39.883Z"
      },
      {
        "duration": 166,
        "start_time": "2022-03-20T12:54:02.610Z"
      },
      {
        "duration": 232,
        "start_time": "2022-03-20T13:00:23.889Z"
      },
      {
        "duration": 2512,
        "start_time": "2022-03-20T14:12:04.884Z"
      },
      {
        "duration": 26,
        "start_time": "2022-03-20T14:12:42.961Z"
      },
      {
        "duration": 19,
        "start_time": "2022-03-20T14:12:52.484Z"
      },
      {
        "duration": 21,
        "start_time": "2022-03-20T14:13:46.757Z"
      },
      {
        "duration": 27,
        "start_time": "2022-03-20T14:19:05.811Z"
      },
      {
        "duration": 27,
        "start_time": "2022-03-20T14:20:03.556Z"
      },
      {
        "duration": 27,
        "start_time": "2022-03-20T14:20:47.749Z"
      },
      {
        "duration": 27,
        "start_time": "2022-03-20T14:21:11.096Z"
      },
      {
        "duration": 1121,
        "start_time": "2022-03-20T14:41:24.357Z"
      },
      {
        "duration": 169,
        "start_time": "2022-03-20T14:41:25.480Z"
      },
      {
        "duration": 144,
        "start_time": "2022-03-20T14:41:25.651Z"
      },
      {
        "duration": 138,
        "start_time": "2022-03-20T14:41:25.797Z"
      },
      {
        "duration": 83,
        "start_time": "2022-03-20T14:41:25.936Z"
      },
      {
        "duration": 96,
        "start_time": "2022-03-20T14:41:26.032Z"
      },
      {
        "duration": 64,
        "start_time": "2022-03-20T14:41:26.130Z"
      },
      {
        "duration": 20,
        "start_time": "2022-03-20T14:41:26.195Z"
      },
      {
        "duration": 20,
        "start_time": "2022-03-20T14:41:26.217Z"
      },
      {
        "duration": 42,
        "start_time": "2022-03-20T14:41:26.240Z"
      },
      {
        "duration": 14,
        "start_time": "2022-03-20T14:41:26.284Z"
      },
      {
        "duration": 125,
        "start_time": "2022-03-20T14:41:26.300Z"
      },
      {
        "duration": 28,
        "start_time": "2022-03-20T14:41:26.427Z"
      },
      {
        "duration": 12,
        "start_time": "2022-03-20T14:41:26.457Z"
      },
      {
        "duration": 84,
        "start_time": "2022-03-20T14:41:26.471Z"
      },
      {
        "duration": 32,
        "start_time": "2022-03-20T14:41:26.557Z"
      },
      {
        "duration": 64,
        "start_time": "2022-03-20T14:41:26.591Z"
      },
      {
        "duration": 22,
        "start_time": "2022-03-20T14:41:26.657Z"
      },
      {
        "duration": 26,
        "start_time": "2022-03-20T14:41:26.681Z"
      },
      {
        "duration": 24,
        "start_time": "2022-03-20T14:41:26.731Z"
      },
      {
        "duration": 25,
        "start_time": "2022-03-20T14:41:26.758Z"
      },
      {
        "duration": 54,
        "start_time": "2022-03-20T14:41:26.785Z"
      },
      {
        "duration": 23,
        "start_time": "2022-03-20T14:41:26.841Z"
      },
      {
        "duration": 30,
        "start_time": "2022-03-20T14:41:26.865Z"
      },
      {
        "duration": 66,
        "start_time": "2022-03-20T14:41:26.897Z"
      },
      {
        "duration": 10,
        "start_time": "2022-03-20T14:41:26.965Z"
      },
      {
        "duration": 162,
        "start_time": "2022-03-20T14:41:26.977Z"
      },
      {
        "duration": 24,
        "start_time": "2022-03-20T14:41:27.142Z"
      },
      {
        "duration": 191,
        "start_time": "2022-03-20T14:41:27.168Z"
      },
      {
        "duration": 159,
        "start_time": "2022-03-20T14:41:27.361Z"
      },
      {
        "duration": 168,
        "start_time": "2022-03-20T14:41:27.522Z"
      },
      {
        "duration": 74,
        "start_time": "2022-03-20T14:41:27.692Z"
      },
      {
        "duration": 29,
        "start_time": "2022-03-20T14:41:27.769Z"
      },
      {
        "duration": 224,
        "start_time": "2022-03-20T14:41:27.800Z"
      },
      {
        "duration": 29,
        "start_time": "2022-03-20T14:41:28.026Z"
      },
      {
        "duration": 233,
        "start_time": "2022-03-20T14:41:28.057Z"
      },
      {
        "duration": 29,
        "start_time": "2022-03-20T14:41:28.292Z"
      },
      {
        "duration": 211,
        "start_time": "2022-03-20T14:41:28.332Z"
      },
      {
        "duration": 4,
        "start_time": "2022-03-20T14:41:28.544Z"
      },
      {
        "duration": 30,
        "start_time": "2022-03-20T14:41:28.551Z"
      },
      {
        "duration": 27,
        "start_time": "2022-03-20T14:41:28.583Z"
      },
      {
        "duration": 1190,
        "start_time": "2022-03-20T14:44:00.722Z"
      },
      {
        "duration": 190,
        "start_time": "2022-03-20T14:44:01.915Z"
      },
      {
        "duration": 136,
        "start_time": "2022-03-20T14:44:02.107Z"
      },
      {
        "duration": 151,
        "start_time": "2022-03-20T14:44:02.245Z"
      },
      {
        "duration": 95,
        "start_time": "2022-03-20T14:44:02.398Z"
      },
      {
        "duration": 95,
        "start_time": "2022-03-20T14:44:02.494Z"
      },
      {
        "duration": 80,
        "start_time": "2022-03-20T14:44:02.591Z"
      },
      {
        "duration": 21,
        "start_time": "2022-03-20T14:44:02.672Z"
      },
      {
        "duration": 11,
        "start_time": "2022-03-20T14:44:02.695Z"
      },
      {
        "duration": 47,
        "start_time": "2022-03-20T14:44:02.709Z"
      },
      {
        "duration": 16,
        "start_time": "2022-03-20T14:44:02.758Z"
      },
      {
        "duration": 126,
        "start_time": "2022-03-20T14:44:02.776Z"
      },
      {
        "duration": 35,
        "start_time": "2022-03-20T14:44:02.904Z"
      },
      {
        "duration": 12,
        "start_time": "2022-03-20T14:44:02.941Z"
      },
      {
        "duration": 77,
        "start_time": "2022-03-20T14:44:02.955Z"
      },
      {
        "duration": 31,
        "start_time": "2022-03-20T14:44:03.034Z"
      },
      {
        "duration": 39,
        "start_time": "2022-03-20T14:44:03.067Z"
      },
      {
        "duration": 42,
        "start_time": "2022-03-20T14:44:03.108Z"
      },
      {
        "duration": 25,
        "start_time": "2022-03-20T14:44:03.153Z"
      },
      {
        "duration": 53,
        "start_time": "2022-03-20T14:44:03.180Z"
      },
      {
        "duration": 24,
        "start_time": "2022-03-20T14:44:03.236Z"
      },
      {
        "duration": 25,
        "start_time": "2022-03-20T14:44:03.263Z"
      },
      {
        "duration": 53,
        "start_time": "2022-03-20T14:44:03.290Z"
      },
      {
        "duration": 32,
        "start_time": "2022-03-20T14:44:03.344Z"
      },
      {
        "duration": 63,
        "start_time": "2022-03-20T14:44:03.378Z"
      },
      {
        "duration": 10,
        "start_time": "2022-03-20T14:44:03.443Z"
      },
      {
        "duration": 158,
        "start_time": "2022-03-20T14:44:03.454Z"
      },
      {
        "duration": 30,
        "start_time": "2022-03-20T14:44:03.615Z"
      },
      {
        "duration": 186,
        "start_time": "2022-03-20T14:44:03.647Z"
      },
      {
        "duration": 155,
        "start_time": "2022-03-20T14:44:03.834Z"
      },
      {
        "duration": 170,
        "start_time": "2022-03-20T14:44:03.991Z"
      },
      {
        "duration": 69,
        "start_time": "2022-03-20T14:44:04.163Z"
      },
      {
        "duration": 30,
        "start_time": "2022-03-20T14:44:04.234Z"
      },
      {
        "duration": 244,
        "start_time": "2022-03-20T14:44:04.265Z"
      },
      {
        "duration": 38,
        "start_time": "2022-03-20T14:44:04.511Z"
      },
      {
        "duration": 217,
        "start_time": "2022-03-20T14:44:04.551Z"
      },
      {
        "duration": 29,
        "start_time": "2022-03-20T14:44:04.770Z"
      },
      {
        "duration": 241,
        "start_time": "2022-03-20T14:44:04.801Z"
      },
      {
        "duration": 5,
        "start_time": "2022-03-20T14:44:05.044Z"
      },
      {
        "duration": 26,
        "start_time": "2022-03-20T14:44:05.051Z"
      },
      {
        "duration": 21,
        "start_time": "2022-03-20T14:44:05.079Z"
      },
      {
        "duration": 1200,
        "start_time": "2022-03-20T14:50:54.394Z"
      },
      {
        "duration": 163,
        "start_time": "2022-03-20T14:50:55.596Z"
      },
      {
        "duration": 137,
        "start_time": "2022-03-20T14:50:55.760Z"
      },
      {
        "duration": 141,
        "start_time": "2022-03-20T14:50:55.899Z"
      },
      {
        "duration": 93,
        "start_time": "2022-03-20T14:50:56.041Z"
      },
      {
        "duration": 98,
        "start_time": "2022-03-20T14:50:56.136Z"
      },
      {
        "duration": 66,
        "start_time": "2022-03-20T14:50:56.236Z"
      },
      {
        "duration": 34,
        "start_time": "2022-03-20T14:50:56.303Z"
      },
      {
        "duration": 12,
        "start_time": "2022-03-20T14:50:56.339Z"
      },
      {
        "duration": 34,
        "start_time": "2022-03-20T14:50:56.354Z"
      },
      {
        "duration": 15,
        "start_time": "2022-03-20T14:50:56.390Z"
      },
      {
        "duration": 150,
        "start_time": "2022-03-20T14:50:56.406Z"
      },
      {
        "duration": 82,
        "start_time": "2022-03-20T14:50:56.557Z"
      },
      {
        "duration": 12,
        "start_time": "2022-03-20T14:50:56.641Z"
      },
      {
        "duration": 102,
        "start_time": "2022-03-20T14:50:56.654Z"
      },
      {
        "duration": 83,
        "start_time": "2022-03-20T14:50:56.758Z"
      },
      {
        "duration": 90,
        "start_time": "2022-03-20T14:50:56.842Z"
      },
      {
        "duration": 22,
        "start_time": "2022-03-20T14:50:56.934Z"
      },
      {
        "duration": 77,
        "start_time": "2022-03-20T14:50:56.957Z"
      },
      {
        "duration": 23,
        "start_time": "2022-03-20T14:50:57.036Z"
      },
      {
        "duration": 72,
        "start_time": "2022-03-20T14:50:57.061Z"
      },
      {
        "duration": 22,
        "start_time": "2022-03-20T14:50:57.134Z"
      },
      {
        "duration": 76,
        "start_time": "2022-03-20T14:50:57.158Z"
      },
      {
        "duration": 30,
        "start_time": "2022-03-20T14:50:57.236Z"
      },
      {
        "duration": 100,
        "start_time": "2022-03-20T14:50:57.268Z"
      },
      {
        "duration": 63,
        "start_time": "2022-03-20T14:50:57.370Z"
      },
      {
        "duration": 298,
        "start_time": "2022-03-20T14:50:57.434Z"
      },
      {
        "duration": 23,
        "start_time": "2022-03-20T14:50:57.735Z"
      },
      {
        "duration": 388,
        "start_time": "2022-03-20T14:50:57.759Z"
      },
      {
        "duration": 302,
        "start_time": "2022-03-20T14:50:58.148Z"
      },
      {
        "duration": 172,
        "start_time": "2022-03-20T14:50:58.452Z"
      },
      {
        "duration": 67,
        "start_time": "2022-03-20T14:50:58.626Z"
      },
      {
        "duration": 45,
        "start_time": "2022-03-20T14:50:58.695Z"
      },
      {
        "duration": 224,
        "start_time": "2022-03-20T14:50:58.742Z"
      },
      {
        "duration": 28,
        "start_time": "2022-03-20T14:50:58.968Z"
      },
      {
        "duration": 231,
        "start_time": "2022-03-20T14:50:58.997Z"
      },
      {
        "duration": 27,
        "start_time": "2022-03-20T14:50:59.231Z"
      },
      {
        "duration": 222,
        "start_time": "2022-03-20T14:50:59.259Z"
      },
      {
        "duration": 4,
        "start_time": "2022-03-20T14:50:59.483Z"
      },
      {
        "duration": 16,
        "start_time": "2022-03-20T14:50:59.489Z"
      },
      {
        "duration": 17,
        "start_time": "2022-03-20T14:50:59.532Z"
      },
      {
        "duration": 1180,
        "start_time": "2022-03-20T15:04:39.908Z"
      },
      {
        "duration": 168,
        "start_time": "2022-03-20T15:04:41.090Z"
      },
      {
        "duration": 148,
        "start_time": "2022-03-20T15:04:41.259Z"
      },
      {
        "duration": 153,
        "start_time": "2022-03-20T15:04:41.410Z"
      },
      {
        "duration": 98,
        "start_time": "2022-03-20T15:04:41.565Z"
      },
      {
        "duration": 100,
        "start_time": "2022-03-20T15:04:41.665Z"
      },
      {
        "duration": 78,
        "start_time": "2022-03-20T15:04:41.767Z"
      },
      {
        "duration": 22,
        "start_time": "2022-03-20T15:04:41.847Z"
      },
      {
        "duration": 15,
        "start_time": "2022-03-20T15:04:41.872Z"
      },
      {
        "duration": 60,
        "start_time": "2022-03-20T15:04:41.891Z"
      },
      {
        "duration": 19,
        "start_time": "2022-03-20T15:04:41.954Z"
      },
      {
        "duration": 146,
        "start_time": "2022-03-20T15:04:41.975Z"
      },
      {
        "duration": 31,
        "start_time": "2022-03-20T15:04:42.123Z"
      },
      {
        "duration": 11,
        "start_time": "2022-03-20T15:04:42.156Z"
      },
      {
        "duration": 79,
        "start_time": "2022-03-20T15:04:42.169Z"
      },
      {
        "duration": 31,
        "start_time": "2022-03-20T15:04:42.250Z"
      },
      {
        "duration": 70,
        "start_time": "2022-03-20T15:04:42.283Z"
      },
      {
        "duration": 24,
        "start_time": "2022-03-20T15:04:42.355Z"
      },
      {
        "duration": 27,
        "start_time": "2022-03-20T15:04:42.380Z"
      },
      {
        "duration": 46,
        "start_time": "2022-03-20T15:04:42.409Z"
      },
      {
        "duration": 23,
        "start_time": "2022-03-20T15:04:42.457Z"
      },
      {
        "duration": 60,
        "start_time": "2022-03-20T15:04:42.482Z"
      },
      {
        "duration": 22,
        "start_time": "2022-03-20T15:04:42.544Z"
      },
      {
        "duration": 66,
        "start_time": "2022-03-20T15:04:42.568Z"
      },
      {
        "duration": 35,
        "start_time": "2022-03-20T15:04:42.636Z"
      },
      {
        "duration": 10,
        "start_time": "2022-03-20T15:04:42.673Z"
      },
      {
        "duration": 188,
        "start_time": "2022-03-20T15:04:42.685Z"
      },
      {
        "duration": 24,
        "start_time": "2022-03-20T15:04:42.876Z"
      },
      {
        "duration": 197,
        "start_time": "2022-03-20T15:04:42.901Z"
      },
      {
        "duration": 156,
        "start_time": "2022-03-20T15:04:43.100Z"
      },
      {
        "duration": 184,
        "start_time": "2022-03-20T15:04:43.257Z"
      },
      {
        "duration": 61,
        "start_time": "2022-03-20T15:04:43.443Z"
      },
      {
        "duration": 44,
        "start_time": "2022-03-20T15:04:43.505Z"
      },
      {
        "duration": 230,
        "start_time": "2022-03-20T15:04:43.551Z"
      },
      {
        "duration": 29,
        "start_time": "2022-03-20T15:04:43.782Z"
      },
      {
        "duration": 238,
        "start_time": "2022-03-20T15:04:43.812Z"
      },
      {
        "duration": 28,
        "start_time": "2022-03-20T15:04:44.052Z"
      },
      {
        "duration": 230,
        "start_time": "2022-03-20T15:04:44.082Z"
      },
      {
        "duration": 4,
        "start_time": "2022-03-20T15:04:44.314Z"
      },
      {
        "duration": 13,
        "start_time": "2022-03-20T15:04:44.331Z"
      },
      {
        "duration": 15,
        "start_time": "2022-03-20T15:04:44.346Z"
      },
      {
        "duration": 1466,
        "start_time": "2022-03-30T20:17:01.884Z"
      },
      {
        "duration": 244,
        "start_time": "2022-03-30T20:17:03.353Z"
      },
      {
        "duration": 197,
        "start_time": "2022-03-30T20:17:03.599Z"
      },
      {
        "duration": 198,
        "start_time": "2022-03-30T20:17:03.799Z"
      },
      {
        "duration": 164,
        "start_time": "2022-03-30T20:17:04.000Z"
      },
      {
        "duration": 124,
        "start_time": "2022-03-30T20:17:04.167Z"
      },
      {
        "duration": 106,
        "start_time": "2022-03-30T20:17:04.294Z"
      },
      {
        "duration": 21,
        "start_time": "2022-03-30T20:17:04.403Z"
      },
      {
        "duration": 16,
        "start_time": "2022-03-30T20:17:04.427Z"
      },
      {
        "duration": 60,
        "start_time": "2022-03-30T20:17:04.445Z"
      },
      {
        "duration": 24,
        "start_time": "2022-03-30T20:17:04.508Z"
      },
      {
        "duration": 211,
        "start_time": "2022-03-30T20:17:04.534Z"
      },
      {
        "duration": 45,
        "start_time": "2022-03-30T20:17:04.747Z"
      },
      {
        "duration": 16,
        "start_time": "2022-03-30T20:17:04.797Z"
      },
      {
        "duration": 92,
        "start_time": "2022-03-30T20:17:04.815Z"
      },
      {
        "duration": 39,
        "start_time": "2022-03-30T20:17:04.910Z"
      },
      {
        "duration": 75,
        "start_time": "2022-03-30T20:17:04.952Z"
      },
      {
        "duration": 209,
        "start_time": "2022-03-30T20:17:05.029Z"
      },
      {
        "duration": 30,
        "start_time": "2022-03-30T20:17:05.241Z"
      },
      {
        "duration": 34,
        "start_time": "2022-03-30T20:17:05.273Z"
      },
      {
        "duration": 29,
        "start_time": "2022-03-30T20:17:05.309Z"
      },
      {
        "duration": 63,
        "start_time": "2022-03-30T20:17:05.341Z"
      },
      {
        "duration": 34,
        "start_time": "2022-03-30T20:17:05.406Z"
      },
      {
        "duration": 74,
        "start_time": "2022-03-30T20:17:05.443Z"
      },
      {
        "duration": 74,
        "start_time": "2022-03-30T20:17:05.519Z"
      },
      {
        "duration": 13,
        "start_time": "2022-03-30T20:17:05.596Z"
      },
      {
        "duration": 245,
        "start_time": "2022-03-30T20:17:05.611Z"
      },
      {
        "duration": 46,
        "start_time": "2022-03-30T20:17:05.858Z"
      },
      {
        "duration": 298,
        "start_time": "2022-03-30T20:17:05.906Z"
      },
      {
        "duration": 231,
        "start_time": "2022-03-30T20:17:06.206Z"
      },
      {
        "duration": 255,
        "start_time": "2022-03-30T20:17:06.439Z"
      },
      {
        "duration": 112,
        "start_time": "2022-03-30T20:17:06.697Z"
      },
      {
        "duration": 42,
        "start_time": "2022-03-30T20:17:06.812Z"
      },
      {
        "duration": 351,
        "start_time": "2022-03-30T20:17:06.856Z"
      },
      {
        "duration": 39,
        "start_time": "2022-03-30T20:17:07.210Z"
      },
      {
        "duration": 339,
        "start_time": "2022-03-30T20:17:07.251Z"
      },
      {
        "duration": 43,
        "start_time": "2022-03-30T20:17:07.593Z"
      },
      {
        "duration": 337,
        "start_time": "2022-03-30T20:17:07.638Z"
      },
      {
        "duration": 8,
        "start_time": "2022-03-30T20:17:07.984Z"
      },
      {
        "duration": 40,
        "start_time": "2022-03-30T20:17:07.995Z"
      },
      {
        "duration": 58,
        "start_time": "2022-03-30T20:17:08.040Z"
      },
      {
        "duration": 36,
        "start_time": "2022-03-30T20:20:48.435Z"
      },
      {
        "duration": 45,
        "start_time": "2022-03-31T06:54:50.480Z"
      },
      {
        "duration": 1370,
        "start_time": "2022-03-31T06:55:02.717Z"
      },
      {
        "duration": 159,
        "start_time": "2022-03-31T06:55:04.089Z"
      },
      {
        "duration": 145,
        "start_time": "2022-03-31T06:55:04.250Z"
      },
      {
        "duration": 142,
        "start_time": "2022-03-31T06:55:04.397Z"
      },
      {
        "duration": 97,
        "start_time": "2022-03-31T06:55:04.542Z"
      },
      {
        "duration": 87,
        "start_time": "2022-03-31T06:55:04.642Z"
      },
      {
        "duration": 62,
        "start_time": "2022-03-31T06:55:04.738Z"
      },
      {
        "duration": 15,
        "start_time": "2022-03-31T06:55:04.802Z"
      },
      {
        "duration": 27,
        "start_time": "2022-03-31T06:55:04.819Z"
      },
      {
        "duration": 26,
        "start_time": "2022-03-31T06:55:04.848Z"
      },
      {
        "duration": 13,
        "start_time": "2022-03-31T06:55:04.876Z"
      },
      {
        "duration": 129,
        "start_time": "2022-03-31T06:55:04.891Z"
      },
      {
        "duration": 29,
        "start_time": "2022-03-31T06:55:05.021Z"
      },
      {
        "duration": 11,
        "start_time": "2022-03-31T06:55:05.053Z"
      },
      {
        "duration": 36,
        "start_time": "2022-03-31T06:55:05.066Z"
      },
      {
        "duration": 57,
        "start_time": "2022-03-31T06:55:05.103Z"
      },
      {
        "duration": 19,
        "start_time": "2022-03-31T06:55:05.162Z"
      },
      {
        "duration": 21,
        "start_time": "2022-03-31T06:55:05.183Z"
      },
      {
        "duration": 43,
        "start_time": "2022-03-31T06:55:05.206Z"
      },
      {
        "duration": 21,
        "start_time": "2022-03-31T06:55:05.251Z"
      },
      {
        "duration": 66,
        "start_time": "2022-03-31T06:55:05.274Z"
      },
      {
        "duration": 105,
        "start_time": "2022-03-31T06:55:05.342Z"
      },
      {
        "duration": 0,
        "start_time": "2022-03-31T06:55:05.449Z"
      },
      {
        "duration": 0,
        "start_time": "2022-03-31T06:55:05.451Z"
      },
      {
        "duration": 0,
        "start_time": "2022-03-31T06:55:05.452Z"
      },
      {
        "duration": 0,
        "start_time": "2022-03-31T06:55:05.453Z"
      },
      {
        "duration": 0,
        "start_time": "2022-03-31T06:55:05.454Z"
      },
      {
        "duration": 0,
        "start_time": "2022-03-31T06:55:05.456Z"
      },
      {
        "duration": 0,
        "start_time": "2022-03-31T06:55:05.457Z"
      },
      {
        "duration": 0,
        "start_time": "2022-03-31T06:55:05.458Z"
      },
      {
        "duration": 0,
        "start_time": "2022-03-31T06:55:05.460Z"
      },
      {
        "duration": 0,
        "start_time": "2022-03-31T06:55:05.461Z"
      },
      {
        "duration": 0,
        "start_time": "2022-03-31T06:55:05.463Z"
      },
      {
        "duration": 0,
        "start_time": "2022-03-31T06:55:05.464Z"
      },
      {
        "duration": 0,
        "start_time": "2022-03-31T06:55:05.465Z"
      },
      {
        "duration": 0,
        "start_time": "2022-03-31T06:55:05.467Z"
      },
      {
        "duration": 0,
        "start_time": "2022-03-31T06:55:05.468Z"
      },
      {
        "duration": 0,
        "start_time": "2022-03-31T06:55:05.470Z"
      },
      {
        "duration": 0,
        "start_time": "2022-03-31T06:55:05.471Z"
      },
      {
        "duration": 0,
        "start_time": "2022-03-31T06:55:05.472Z"
      },
      {
        "duration": 0,
        "start_time": "2022-03-31T06:55:05.473Z"
      },
      {
        "duration": 20,
        "start_time": "2022-03-31T06:55:55.115Z"
      },
      {
        "duration": 3946,
        "start_time": "2022-03-31T06:59:00.914Z"
      },
      {
        "duration": 1932,
        "start_time": "2022-03-31T06:59:35.166Z"
      },
      {
        "duration": 1886,
        "start_time": "2022-03-31T07:02:10.041Z"
      },
      {
        "duration": 11,
        "start_time": "2022-03-31T07:02:35.216Z"
      },
      {
        "duration": 2142,
        "start_time": "2022-03-31T07:02:50.953Z"
      },
      {
        "duration": 2120,
        "start_time": "2022-03-31T07:03:52.740Z"
      },
      {
        "duration": 2352,
        "start_time": "2022-03-31T07:04:50.288Z"
      },
      {
        "duration": 44,
        "start_time": "2022-03-31T07:06:21.426Z"
      },
      {
        "duration": 45,
        "start_time": "2022-03-31T07:07:19.758Z"
      },
      {
        "duration": 10,
        "start_time": "2022-03-31T07:08:26.876Z"
      },
      {
        "duration": 21,
        "start_time": "2022-03-31T07:09:14.353Z"
      },
      {
        "duration": 14,
        "start_time": "2022-03-31T07:09:23.319Z"
      },
      {
        "duration": 1099,
        "start_time": "2022-03-31T07:10:50.935Z"
      },
      {
        "duration": 163,
        "start_time": "2022-03-31T07:10:52.039Z"
      },
      {
        "duration": 133,
        "start_time": "2022-03-31T07:10:52.204Z"
      },
      {
        "duration": 138,
        "start_time": "2022-03-31T07:10:52.339Z"
      },
      {
        "duration": 93,
        "start_time": "2022-03-31T07:10:52.478Z"
      },
      {
        "duration": 83,
        "start_time": "2022-03-31T07:10:52.572Z"
      },
      {
        "duration": 61,
        "start_time": "2022-03-31T07:10:52.657Z"
      },
      {
        "duration": 31,
        "start_time": "2022-03-31T07:10:52.720Z"
      },
      {
        "duration": 11,
        "start_time": "2022-03-31T07:10:52.753Z"
      },
      {
        "duration": 26,
        "start_time": "2022-03-31T07:10:52.766Z"
      },
      {
        "duration": 13,
        "start_time": "2022-03-31T07:10:52.794Z"
      },
      {
        "duration": 128,
        "start_time": "2022-03-31T07:10:52.809Z"
      },
      {
        "duration": 21,
        "start_time": "2022-03-31T07:10:52.939Z"
      },
      {
        "duration": 11,
        "start_time": "2022-03-31T07:10:52.962Z"
      },
      {
        "duration": 29,
        "start_time": "2022-03-31T07:10:52.974Z"
      },
      {
        "duration": 64,
        "start_time": "2022-03-31T07:10:53.005Z"
      },
      {
        "duration": 20,
        "start_time": "2022-03-31T07:10:53.071Z"
      },
      {
        "duration": 24,
        "start_time": "2022-03-31T07:10:53.093Z"
      },
      {
        "duration": 38,
        "start_time": "2022-03-31T07:10:53.118Z"
      },
      {
        "duration": 21,
        "start_time": "2022-03-31T07:10:53.157Z"
      },
      {
        "duration": 71,
        "start_time": "2022-03-31T07:10:53.179Z"
      },
      {
        "duration": 21,
        "start_time": "2022-03-31T07:10:53.251Z"
      },
      {
        "duration": 22,
        "start_time": "2022-03-31T07:10:53.274Z"
      },
      {
        "duration": 61,
        "start_time": "2022-03-31T07:10:53.297Z"
      },
      {
        "duration": 31,
        "start_time": "2022-03-31T07:10:53.360Z"
      },
      {
        "duration": 9,
        "start_time": "2022-03-31T07:10:53.393Z"
      },
      {
        "duration": 168,
        "start_time": "2022-03-31T07:10:53.403Z"
      },
      {
        "duration": 20,
        "start_time": "2022-03-31T07:10:53.574Z"
      },
      {
        "duration": 167,
        "start_time": "2022-03-31T07:10:53.596Z"
      },
      {
        "duration": 131,
        "start_time": "2022-03-31T07:10:53.764Z"
      },
      {
        "duration": 150,
        "start_time": "2022-03-31T07:10:53.896Z"
      },
      {
        "duration": 59,
        "start_time": "2022-03-31T07:10:54.047Z"
      },
      {
        "duration": 44,
        "start_time": "2022-03-31T07:10:54.107Z"
      },
      {
        "duration": 197,
        "start_time": "2022-03-31T07:10:54.153Z"
      },
      {
        "duration": 25,
        "start_time": "2022-03-31T07:10:54.351Z"
      },
      {
        "duration": 189,
        "start_time": "2022-03-31T07:10:54.377Z"
      },
      {
        "duration": 25,
        "start_time": "2022-03-31T07:10:54.568Z"
      },
      {
        "duration": 185,
        "start_time": "2022-03-31T07:10:54.594Z"
      },
      {
        "duration": 4,
        "start_time": "2022-03-31T07:10:54.781Z"
      },
      {
        "duration": 15,
        "start_time": "2022-03-31T07:10:54.786Z"
      },
      {
        "duration": 14,
        "start_time": "2022-03-31T07:10:54.802Z"
      },
      {
        "duration": 126,
        "start_time": "2022-03-31T07:12:04.099Z"
      },
      {
        "duration": 142,
        "start_time": "2022-03-31T07:12:13.324Z"
      },
      {
        "duration": 241,
        "start_time": "2022-03-31T07:25:28.252Z"
      },
      {
        "duration": 1090,
        "start_time": "2022-03-31T07:26:56.281Z"
      },
      {
        "duration": 150,
        "start_time": "2022-03-31T07:26:57.373Z"
      },
      {
        "duration": 137,
        "start_time": "2022-03-31T07:26:57.524Z"
      },
      {
        "duration": 131,
        "start_time": "2022-03-31T07:26:57.663Z"
      },
      {
        "duration": 90,
        "start_time": "2022-03-31T07:26:57.796Z"
      },
      {
        "duration": 88,
        "start_time": "2022-03-31T07:26:57.888Z"
      },
      {
        "duration": 69,
        "start_time": "2022-03-31T07:26:57.977Z"
      },
      {
        "duration": 15,
        "start_time": "2022-03-31T07:26:58.047Z"
      },
      {
        "duration": 10,
        "start_time": "2022-03-31T07:26:58.064Z"
      },
      {
        "duration": 24,
        "start_time": "2022-03-31T07:26:58.076Z"
      },
      {
        "duration": 12,
        "start_time": "2022-03-31T07:26:58.102Z"
      },
      {
        "duration": 126,
        "start_time": "2022-03-31T07:26:58.115Z"
      },
      {
        "duration": 22,
        "start_time": "2022-03-31T07:26:58.243Z"
      },
      {
        "duration": 11,
        "start_time": "2022-03-31T07:26:58.266Z"
      },
      {
        "duration": 31,
        "start_time": "2022-03-31T07:26:58.278Z"
      },
      {
        "duration": 60,
        "start_time": "2022-03-31T07:26:58.310Z"
      },
      {
        "duration": 19,
        "start_time": "2022-03-31T07:26:58.372Z"
      },
      {
        "duration": 24,
        "start_time": "2022-03-31T07:26:58.393Z"
      },
      {
        "duration": 22,
        "start_time": "2022-03-31T07:26:58.438Z"
      },
      {
        "duration": 20,
        "start_time": "2022-03-31T07:26:58.462Z"
      },
      {
        "duration": 73,
        "start_time": "2022-03-31T07:26:58.484Z"
      },
      {
        "duration": 21,
        "start_time": "2022-03-31T07:26:58.559Z"
      },
      {
        "duration": 21,
        "start_time": "2022-03-31T07:26:58.581Z"
      },
      {
        "duration": 56,
        "start_time": "2022-03-31T07:26:58.604Z"
      },
      {
        "duration": 30,
        "start_time": "2022-03-31T07:26:58.662Z"
      },
      {
        "duration": 8,
        "start_time": "2022-03-31T07:26:58.694Z"
      },
      {
        "duration": 157,
        "start_time": "2022-03-31T07:26:58.703Z"
      },
      {
        "duration": 19,
        "start_time": "2022-03-31T07:26:58.864Z"
      },
      {
        "duration": 163,
        "start_time": "2022-03-31T07:26:58.884Z"
      },
      {
        "duration": 125,
        "start_time": "2022-03-31T07:26:59.048Z"
      },
      {
        "duration": 133,
        "start_time": "2022-03-31T07:26:59.174Z"
      },
      {
        "duration": 65,
        "start_time": "2022-03-31T07:26:59.308Z"
      },
      {
        "duration": 24,
        "start_time": "2022-03-31T07:26:59.375Z"
      },
      {
        "duration": 193,
        "start_time": "2022-03-31T07:26:59.400Z"
      },
      {
        "duration": 25,
        "start_time": "2022-03-31T07:26:59.595Z"
      },
      {
        "duration": 184,
        "start_time": "2022-03-31T07:26:59.622Z"
      },
      {
        "duration": 32,
        "start_time": "2022-03-31T07:26:59.808Z"
      },
      {
        "duration": 181,
        "start_time": "2022-03-31T07:26:59.842Z"
      },
      {
        "duration": 13,
        "start_time": "2022-03-31T07:27:00.025Z"
      },
      {
        "duration": 17,
        "start_time": "2022-03-31T07:27:00.040Z"
      },
      {
        "duration": 17,
        "start_time": "2022-03-31T07:27:00.059Z"
      }
    ],
    "kernelspec": {
      "name": "python",
      "display_name": "Python (Pyodide)",
      "language": "python"
    },
    "language_info": {
      "codemirror_mode": {
        "name": "python",
        "version": 3
      },
      "file_extension": ".py",
      "mimetype": "text/x-python",
      "name": "python",
      "nbconvert_exporter": "python",
      "pygments_lexer": "ipython3",
      "version": "3.8"
    },
    "toc": {
      "base_numbering": 1,
      "nav_menu": {
        "height": "86px",
        "width": "207px"
      },
      "number_sections": true,
      "sideBar": true,
      "skip_h1_title": true,
      "title_cell": "Table of Contents",
      "title_sidebar": "Contents",
      "toc_cell": false,
      "toc_position": {
        "height": "calc(100% - 180px)",
        "left": "10px",
        "top": "150px",
        "width": "238.398px"
      },
      "toc_section_display": true,
      "toc_window_display": true
    }
  },
  "nbformat_minor": 4,
  "nbformat": 4,
  "cells": [
    {
      "cell_type": "markdown",
      "source": "# Определение перспективного тарифа для телеком-компании",
      "metadata": {}
    },
    {
      "cell_type": "markdown",
      "source": "Содержание\n1. [Описание проекта](#start)\n2. [Обзор данных](#data_view)\n3. [Предобработка данных](#preprocessing)\n4. [Анализ данных](#analysis)\n5. [Проверка гипотез](#hypothesis)\n6. [Общий вывод](#conclusion)",
      "metadata": {}
    },
    {
      "cell_type": "markdown",
      "source": "## Описание проекта <a id='start'></a>\n\nВы аналитик компании «Мегалайн» — федерального оператора сотовой связи. Клиентам предлагают два тарифных плана: «Смарт» и «Ультра». Чтобы скорректировать рекламный бюджет, коммерческий департамент хочет понять, какой тариф приносит больше денег. Необходимо сделать предварительный анализ тарифов на небольшой выборке клиентов. В вашем распоряжении данные 500 пользователей «Мегалайна»: кто они, откуда, каким тарифом пользуются, сколько звонков и сообщений каждый отправил за 2018 год. Нужно проанализировать поведение клиентов и сделать вывод — какой тариф лучше.\n\n**Описание тарифов  \nТариф «Смарт»**\n1. Ежемесячная плата: 550 рублей\n2. Включено 500 минут разговора, 50 сообщений и 15 Гб интернет-трафика\n3. Стоимость услуг сверх тарифного пакета: минута разговора: 3 рубля, сообщение: 3 рубля, 1 Гб интернет-трафика: 200 рублей\n**Тариф «Ультра»**\n1. Ежемесячная плата: 1950 рублей\n2. Включено 3000 минут разговора, 1000 сообщений и 30 Гб интернет-трафика\n3. Стоимость услуг сверх тарифного пакета: минута разговора: 1 рубль, сообщение: 1 рубль, 1 Гб интернет-трафика: 150 рублей\n\n*Примечание:\n«Мегалайн» всегда округляет секунды до минут, а мегабайты — до гигабайт. Каждый звонок округляется отдельно: даже если он длился всего 1 секунду, будет засчитан как 1 минута.\nДля веб-трафика отдельные сессии не считаются. Вместо этого общая сумма за месяц округляется в бо́льшую сторону. Если абонент использует 1025 мегабайт в этом месяце, с него возьмут плату за 2 гигабайта.*",
      "metadata": {}
    },
    {
      "cell_type": "markdown",
      "source": "## Обзор данных <a id='data_view'></a>",
      "metadata": {}
    },
    {
      "cell_type": "code",
      "source": "import pandas as pd\nimport matplotlib.pyplot as plt\nimport numpy as np\nimport scipy.stats as st",
      "metadata": {},
      "execution_count": 1,
      "outputs": []
    },
    {
      "cell_type": "code",
      "source": "calls = pd.read_csv('/datasets/calls.csv')\ncalls.head()",
      "metadata": {},
      "execution_count": 2,
      "outputs": [
        {
          "execution_count": 2,
          "output_type": "execute_result",
          "data": {
            "text/html": [
              "<div>\n",
              "<style scoped>\n",
              "    .dataframe tbody tr th:only-of-type {\n",
              "        vertical-align: middle;\n",
              "    }\n",
              "\n",
              "    .dataframe tbody tr th {\n",
              "        vertical-align: top;\n",
              "    }\n",
              "\n",
              "    .dataframe thead th {\n",
              "        text-align: right;\n",
              "    }\n",
              "</style>\n",
              "<table border=\"1\" class=\"dataframe\">\n",
              "  <thead>\n",
              "    <tr style=\"text-align: right;\">\n",
              "      <th></th>\n",
              "      <th>id</th>\n",
              "      <th>call_date</th>\n",
              "      <th>duration</th>\n",
              "      <th>user_id</th>\n",
              "    </tr>\n",
              "  </thead>\n",
              "  <tbody>\n",
              "    <tr>\n",
              "      <th>0</th>\n",
              "      <td>1000_0</td>\n",
              "      <td>2018-07-25</td>\n",
              "      <td>0.00</td>\n",
              "      <td>1000</td>\n",
              "    </tr>\n",
              "    <tr>\n",
              "      <th>1</th>\n",
              "      <td>1000_1</td>\n",
              "      <td>2018-08-17</td>\n",
              "      <td>0.00</td>\n",
              "      <td>1000</td>\n",
              "    </tr>\n",
              "    <tr>\n",
              "      <th>2</th>\n",
              "      <td>1000_2</td>\n",
              "      <td>2018-06-11</td>\n",
              "      <td>2.85</td>\n",
              "      <td>1000</td>\n",
              "    </tr>\n",
              "    <tr>\n",
              "      <th>3</th>\n",
              "      <td>1000_3</td>\n",
              "      <td>2018-09-21</td>\n",
              "      <td>13.80</td>\n",
              "      <td>1000</td>\n",
              "    </tr>\n",
              "    <tr>\n",
              "      <th>4</th>\n",
              "      <td>1000_4</td>\n",
              "      <td>2018-12-15</td>\n",
              "      <td>5.18</td>\n",
              "      <td>1000</td>\n",
              "    </tr>\n",
              "  </tbody>\n",
              "</table>\n",
              "</div>"
            ],
            "text/plain": [
              "       id   call_date  duration  user_id\n",
              "0  1000_0  2018-07-25      0.00     1000\n",
              "1  1000_1  2018-08-17      0.00     1000\n",
              "2  1000_2  2018-06-11      2.85     1000\n",
              "3  1000_3  2018-09-21     13.80     1000\n",
              "4  1000_4  2018-12-15      5.18     1000"
            ]
          },
          "metadata": {}
        }
      ]
    },
    {
      "cell_type": "code",
      "source": "calls.info()\ndisplay(calls.duplicated().sum())",
      "metadata": {},
      "execution_count": 3,
      "outputs": [
        {
          "name": "stdout",
          "output_type": "stream",
          "text": "<class 'pandas.core.frame.DataFrame'>\n\nRangeIndex: 202607 entries, 0 to 202606\n\nData columns (total 4 columns):\n\n #   Column     Non-Null Count   Dtype  \n\n---  ------     --------------   -----  \n\n 0   id         202607 non-null  object \n\n 1   call_date  202607 non-null  object \n\n 2   duration   202607 non-null  float64\n\n 3   user_id    202607 non-null  int64  \n\ndtypes: float64(1), int64(1), object(2)\n\nmemory usage: 6.2+ MB\n"
        },
        {
          "output_type": "display_data",
          "data": {
            "text/plain": [
              "0"
            ]
          },
          "metadata": {}
        }
      ]
    },
    {
      "cell_type": "markdown",
      "source": "Первичный анализ таблицы calls (информация о звонках) показал:\n1. В таблице представлена информация: уникальный номер звонка (id), дата звонка (call_date), длительность звонка в минутах (duration), идентификатор пользователя, сделавшего звонок (user_id).\n2. Явные пропуски отсутствуют.\n3. Дата звонка сохранена, как строка.\n4. Явные дубликаты отсутствуют.",
      "metadata": {}
    },
    {
      "cell_type": "code",
      "source": "internet = pd.read_csv('/datasets/internet.csv')\ninternet.head()",
      "metadata": {},
      "execution_count": 4,
      "outputs": [
        {
          "execution_count": 4,
          "output_type": "execute_result",
          "data": {
            "text/html": [
              "<div>\n",
              "<style scoped>\n",
              "    .dataframe tbody tr th:only-of-type {\n",
              "        vertical-align: middle;\n",
              "    }\n",
              "\n",
              "    .dataframe tbody tr th {\n",
              "        vertical-align: top;\n",
              "    }\n",
              "\n",
              "    .dataframe thead th {\n",
              "        text-align: right;\n",
              "    }\n",
              "</style>\n",
              "<table border=\"1\" class=\"dataframe\">\n",
              "  <thead>\n",
              "    <tr style=\"text-align: right;\">\n",
              "      <th></th>\n",
              "      <th>Unnamed: 0</th>\n",
              "      <th>id</th>\n",
              "      <th>mb_used</th>\n",
              "      <th>session_date</th>\n",
              "      <th>user_id</th>\n",
              "    </tr>\n",
              "  </thead>\n",
              "  <tbody>\n",
              "    <tr>\n",
              "      <th>0</th>\n",
              "      <td>0</td>\n",
              "      <td>1000_0</td>\n",
              "      <td>112.95</td>\n",
              "      <td>2018-11-25</td>\n",
              "      <td>1000</td>\n",
              "    </tr>\n",
              "    <tr>\n",
              "      <th>1</th>\n",
              "      <td>1</td>\n",
              "      <td>1000_1</td>\n",
              "      <td>1052.81</td>\n",
              "      <td>2018-09-07</td>\n",
              "      <td>1000</td>\n",
              "    </tr>\n",
              "    <tr>\n",
              "      <th>2</th>\n",
              "      <td>2</td>\n",
              "      <td>1000_2</td>\n",
              "      <td>1197.26</td>\n",
              "      <td>2018-06-25</td>\n",
              "      <td>1000</td>\n",
              "    </tr>\n",
              "    <tr>\n",
              "      <th>3</th>\n",
              "      <td>3</td>\n",
              "      <td>1000_3</td>\n",
              "      <td>550.27</td>\n",
              "      <td>2018-08-22</td>\n",
              "      <td>1000</td>\n",
              "    </tr>\n",
              "    <tr>\n",
              "      <th>4</th>\n",
              "      <td>4</td>\n",
              "      <td>1000_4</td>\n",
              "      <td>302.56</td>\n",
              "      <td>2018-09-24</td>\n",
              "      <td>1000</td>\n",
              "    </tr>\n",
              "  </tbody>\n",
              "</table>\n",
              "</div>"
            ],
            "text/plain": [
              "   Unnamed: 0      id  mb_used session_date  user_id\n",
              "0           0  1000_0   112.95   2018-11-25     1000\n",
              "1           1  1000_1  1052.81   2018-09-07     1000\n",
              "2           2  1000_2  1197.26   2018-06-25     1000\n",
              "3           3  1000_3   550.27   2018-08-22     1000\n",
              "4           4  1000_4   302.56   2018-09-24     1000"
            ]
          },
          "metadata": {}
        }
      ]
    },
    {
      "cell_type": "code",
      "source": "internet.info()\ndisplay(internet.duplicated().sum())",
      "metadata": {},
      "execution_count": 5,
      "outputs": [
        {
          "name": "stdout",
          "output_type": "stream",
          "text": "<class 'pandas.core.frame.DataFrame'>\n\nRangeIndex: 149396 entries, 0 to 149395\n\nData columns (total 5 columns):\n\n #   Column        Non-Null Count   Dtype  \n\n---  ------        --------------   -----  \n\n 0   Unnamed: 0    149396 non-null  int64  \n\n 1   id            149396 non-null  object \n\n 2   mb_used       149396 non-null  float64\n\n 3   session_date  149396 non-null  object \n\n 4   user_id       149396 non-null  int64  \n\ndtypes: float64(1), int64(2), object(2)\n\nmemory usage: 5.7+ MB\n"
        },
        {
          "output_type": "display_data",
          "data": {
            "text/plain": [
              "0"
            ]
          },
          "metadata": {}
        }
      ]
    },
    {
      "cell_type": "markdown",
      "source": "Первичный анализ таблицы internet (информация об интернет-сессиях показал:\n1. В таблице представлена информация: уникальный номер сессии (id), объём потраченного за сессию интернет-трафика (в мегабайтах) (mb_used), дата интернет-сессии (session_date), идентификатор пользователя (user_id).\n2. Явные пропуски отсутствуют.\n3. Дата интернет-сессии сохранена, как строка.\n4. Сохранен столбец с индексом (Unnamed).\n5. Явные дубликаты отсутствуют.",
      "metadata": {}
    },
    {
      "cell_type": "code",
      "source": "messages = pd.read_csv('/datasets/messages.csv')\nmessages.head()",
      "metadata": {},
      "execution_count": 6,
      "outputs": [
        {
          "execution_count": 6,
          "output_type": "execute_result",
          "data": {
            "text/html": [
              "<div>\n",
              "<style scoped>\n",
              "    .dataframe tbody tr th:only-of-type {\n",
              "        vertical-align: middle;\n",
              "    }\n",
              "\n",
              "    .dataframe tbody tr th {\n",
              "        vertical-align: top;\n",
              "    }\n",
              "\n",
              "    .dataframe thead th {\n",
              "        text-align: right;\n",
              "    }\n",
              "</style>\n",
              "<table border=\"1\" class=\"dataframe\">\n",
              "  <thead>\n",
              "    <tr style=\"text-align: right;\">\n",
              "      <th></th>\n",
              "      <th>id</th>\n",
              "      <th>message_date</th>\n",
              "      <th>user_id</th>\n",
              "    </tr>\n",
              "  </thead>\n",
              "  <tbody>\n",
              "    <tr>\n",
              "      <th>0</th>\n",
              "      <td>1000_0</td>\n",
              "      <td>2018-06-27</td>\n",
              "      <td>1000</td>\n",
              "    </tr>\n",
              "    <tr>\n",
              "      <th>1</th>\n",
              "      <td>1000_1</td>\n",
              "      <td>2018-10-08</td>\n",
              "      <td>1000</td>\n",
              "    </tr>\n",
              "    <tr>\n",
              "      <th>2</th>\n",
              "      <td>1000_2</td>\n",
              "      <td>2018-08-04</td>\n",
              "      <td>1000</td>\n",
              "    </tr>\n",
              "    <tr>\n",
              "      <th>3</th>\n",
              "      <td>1000_3</td>\n",
              "      <td>2018-06-16</td>\n",
              "      <td>1000</td>\n",
              "    </tr>\n",
              "    <tr>\n",
              "      <th>4</th>\n",
              "      <td>1000_4</td>\n",
              "      <td>2018-12-05</td>\n",
              "      <td>1000</td>\n",
              "    </tr>\n",
              "  </tbody>\n",
              "</table>\n",
              "</div>"
            ],
            "text/plain": [
              "       id message_date  user_id\n",
              "0  1000_0   2018-06-27     1000\n",
              "1  1000_1   2018-10-08     1000\n",
              "2  1000_2   2018-08-04     1000\n",
              "3  1000_3   2018-06-16     1000\n",
              "4  1000_4   2018-12-05     1000"
            ]
          },
          "metadata": {}
        }
      ]
    },
    {
      "cell_type": "code",
      "source": "messages.info()\ndisplay(messages.duplicated().sum())",
      "metadata": {},
      "execution_count": 7,
      "outputs": [
        {
          "name": "stdout",
          "output_type": "stream",
          "text": "<class 'pandas.core.frame.DataFrame'>\n\nRangeIndex: 123036 entries, 0 to 123035\n\nData columns (total 3 columns):\n\n #   Column        Non-Null Count   Dtype \n\n---  ------        --------------   ----- \n\n 0   id            123036 non-null  object\n\n 1   message_date  123036 non-null  object\n\n 2   user_id       123036 non-null  int64 \n\ndtypes: int64(1), object(2)\n\nmemory usage: 2.8+ MB\n"
        },
        {
          "output_type": "display_data",
          "data": {
            "text/plain": [
              "0"
            ]
          },
          "metadata": {}
        }
      ]
    },
    {
      "cell_type": "markdown",
      "source": "Первичный анализ таблицы messages (информация о сообщениях) показал:\n1. В таблице представлена информация: уникальный номер сообщения (id), дата сообщения (message_date), идентификатор пользователя, отправившего сообщение (user_id).\n2. Явные пропуски отсутствуют.\n3. Дата сообщения сохранена, как строка.",
      "metadata": {}
    },
    {
      "cell_type": "code",
      "source": "tariffs = pd.read_csv('/datasets/tariffs.csv')\ntariffs.head()",
      "metadata": {},
      "execution_count": 8,
      "outputs": [
        {
          "execution_count": 8,
          "output_type": "execute_result",
          "data": {
            "text/html": [
              "<div>\n",
              "<style scoped>\n",
              "    .dataframe tbody tr th:only-of-type {\n",
              "        vertical-align: middle;\n",
              "    }\n",
              "\n",
              "    .dataframe tbody tr th {\n",
              "        vertical-align: top;\n",
              "    }\n",
              "\n",
              "    .dataframe thead th {\n",
              "        text-align: right;\n",
              "    }\n",
              "</style>\n",
              "<table border=\"1\" class=\"dataframe\">\n",
              "  <thead>\n",
              "    <tr style=\"text-align: right;\">\n",
              "      <th></th>\n",
              "      <th>messages_included</th>\n",
              "      <th>mb_per_month_included</th>\n",
              "      <th>minutes_included</th>\n",
              "      <th>rub_monthly_fee</th>\n",
              "      <th>rub_per_gb</th>\n",
              "      <th>rub_per_message</th>\n",
              "      <th>rub_per_minute</th>\n",
              "      <th>tariff_name</th>\n",
              "    </tr>\n",
              "  </thead>\n",
              "  <tbody>\n",
              "    <tr>\n",
              "      <th>0</th>\n",
              "      <td>50</td>\n",
              "      <td>15360</td>\n",
              "      <td>500</td>\n",
              "      <td>550</td>\n",
              "      <td>200</td>\n",
              "      <td>3</td>\n",
              "      <td>3</td>\n",
              "      <td>smart</td>\n",
              "    </tr>\n",
              "    <tr>\n",
              "      <th>1</th>\n",
              "      <td>1000</td>\n",
              "      <td>30720</td>\n",
              "      <td>3000</td>\n",
              "      <td>1950</td>\n",
              "      <td>150</td>\n",
              "      <td>1</td>\n",
              "      <td>1</td>\n",
              "      <td>ultra</td>\n",
              "    </tr>\n",
              "  </tbody>\n",
              "</table>\n",
              "</div>"
            ],
            "text/plain": [
              "   messages_included  mb_per_month_included  minutes_included  \\\n",
              "0                 50                  15360               500   \n",
              "1               1000                  30720              3000   \n",
              "\n",
              "   rub_monthly_fee  rub_per_gb  rub_per_message  rub_per_minute tariff_name  \n",
              "0              550         200                3               3       smart  \n",
              "1             1950         150                1               1       ultra  "
            ]
          },
          "metadata": {}
        }
      ]
    },
    {
      "cell_type": "code",
      "source": "tariffs.info()",
      "metadata": {},
      "execution_count": 9,
      "outputs": [
        {
          "name": "stdout",
          "output_type": "stream",
          "text": "<class 'pandas.core.frame.DataFrame'>\n\nRangeIndex: 2 entries, 0 to 1\n\nData columns (total 8 columns):\n\n #   Column                 Non-Null Count  Dtype \n\n---  ------                 --------------  ----- \n\n 0   messages_included      2 non-null      int64 \n\n 1   mb_per_month_included  2 non-null      int64 \n\n 2   minutes_included       2 non-null      int64 \n\n 3   rub_monthly_fee        2 non-null      int64 \n\n 4   rub_per_gb             2 non-null      int64 \n\n 5   rub_per_message        2 non-null      int64 \n\n 6   rub_per_minute         2 non-null      int64 \n\n 7   tariff_name            2 non-null      object\n\ndtypes: int64(7), object(1)\n\nmemory usage: 256.0+ bytes\n"
        }
      ]
    },
    {
      "cell_type": "markdown",
      "source": "Первичный анализ таблицы tariffs (информация о тарифах) показал:\n1. В таблице представлена информация: название тарифа (tariff_name), ежемесячная абонентская плата в рублях (rub_monthly_fee), количество минут разговора в месяц, включённых в абонентскую плату (minutes_included), количество сообщений в месяц, включённых в абонентскую плату (messages_included), объём интернет-трафика, включённого в абонентскую плату (в мегабайтах) (mb_per_month_included), стоимость минуты разговора сверх тарифного пакета (rub_per_minute), стоимость отправки сообщения сверх тарифного пакета (rub_per_message), стоимость дополнительного гигабайта интернет-трафика сверх тарифного пакета (rub_per_gb).\n2. Явные пропуски отсутствуют.\n3. Все количественные показатели сохранены, как вещественные числа, хотя они натуральные.\n4. Явные дубликаты отсутствуют.",
      "metadata": {}
    },
    {
      "cell_type": "code",
      "source": "users = pd.read_csv('/datasets/users.csv')\nusers.head()",
      "metadata": {},
      "execution_count": 10,
      "outputs": [
        {
          "execution_count": 10,
          "output_type": "execute_result",
          "data": {
            "text/html": [
              "<div>\n",
              "<style scoped>\n",
              "    .dataframe tbody tr th:only-of-type {\n",
              "        vertical-align: middle;\n",
              "    }\n",
              "\n",
              "    .dataframe tbody tr th {\n",
              "        vertical-align: top;\n",
              "    }\n",
              "\n",
              "    .dataframe thead th {\n",
              "        text-align: right;\n",
              "    }\n",
              "</style>\n",
              "<table border=\"1\" class=\"dataframe\">\n",
              "  <thead>\n",
              "    <tr style=\"text-align: right;\">\n",
              "      <th></th>\n",
              "      <th>user_id</th>\n",
              "      <th>age</th>\n",
              "      <th>churn_date</th>\n",
              "      <th>city</th>\n",
              "      <th>first_name</th>\n",
              "      <th>last_name</th>\n",
              "      <th>reg_date</th>\n",
              "      <th>tariff</th>\n",
              "    </tr>\n",
              "  </thead>\n",
              "  <tbody>\n",
              "    <tr>\n",
              "      <th>0</th>\n",
              "      <td>1000</td>\n",
              "      <td>52</td>\n",
              "      <td>NaN</td>\n",
              "      <td>Краснодар</td>\n",
              "      <td>Рафаил</td>\n",
              "      <td>Верещагин</td>\n",
              "      <td>2018-05-25</td>\n",
              "      <td>ultra</td>\n",
              "    </tr>\n",
              "    <tr>\n",
              "      <th>1</th>\n",
              "      <td>1001</td>\n",
              "      <td>41</td>\n",
              "      <td>NaN</td>\n",
              "      <td>Москва</td>\n",
              "      <td>Иван</td>\n",
              "      <td>Ежов</td>\n",
              "      <td>2018-11-01</td>\n",
              "      <td>smart</td>\n",
              "    </tr>\n",
              "    <tr>\n",
              "      <th>2</th>\n",
              "      <td>1002</td>\n",
              "      <td>59</td>\n",
              "      <td>NaN</td>\n",
              "      <td>Стерлитамак</td>\n",
              "      <td>Евгений</td>\n",
              "      <td>Абрамович</td>\n",
              "      <td>2018-06-17</td>\n",
              "      <td>smart</td>\n",
              "    </tr>\n",
              "    <tr>\n",
              "      <th>3</th>\n",
              "      <td>1003</td>\n",
              "      <td>23</td>\n",
              "      <td>NaN</td>\n",
              "      <td>Москва</td>\n",
              "      <td>Белла</td>\n",
              "      <td>Белякова</td>\n",
              "      <td>2018-08-17</td>\n",
              "      <td>ultra</td>\n",
              "    </tr>\n",
              "    <tr>\n",
              "      <th>4</th>\n",
              "      <td>1004</td>\n",
              "      <td>68</td>\n",
              "      <td>NaN</td>\n",
              "      <td>Новокузнецк</td>\n",
              "      <td>Татьяна</td>\n",
              "      <td>Авдеенко</td>\n",
              "      <td>2018-05-14</td>\n",
              "      <td>ultra</td>\n",
              "    </tr>\n",
              "  </tbody>\n",
              "</table>\n",
              "</div>"
            ],
            "text/plain": [
              "   user_id  age churn_date         city first_name  last_name    reg_date  \\\n",
              "0     1000   52        NaN    Краснодар     Рафаил  Верещагин  2018-05-25   \n",
              "1     1001   41        NaN       Москва       Иван       Ежов  2018-11-01   \n",
              "2     1002   59        NaN  Стерлитамак    Евгений  Абрамович  2018-06-17   \n",
              "3     1003   23        NaN       Москва      Белла   Белякова  2018-08-17   \n",
              "4     1004   68        NaN  Новокузнецк    Татьяна   Авдеенко  2018-05-14   \n",
              "\n",
              "  tariff  \n",
              "0  ultra  \n",
              "1  smart  \n",
              "2  smart  \n",
              "3  ultra  \n",
              "4  ultra  "
            ]
          },
          "metadata": {}
        }
      ]
    },
    {
      "cell_type": "code",
      "source": "users.info()\ndisplay(users.duplicated().sum())",
      "metadata": {},
      "execution_count": 11,
      "outputs": [
        {
          "name": "stdout",
          "output_type": "stream",
          "text": "<class 'pandas.core.frame.DataFrame'>\n\nRangeIndex: 500 entries, 0 to 499\n\nData columns (total 8 columns):\n\n #   Column      Non-Null Count  Dtype \n\n---  ------      --------------  ----- \n\n 0   user_id     500 non-null    int64 \n\n 1   age         500 non-null    int64 \n\n 2   churn_date  38 non-null     object\n\n 3   city        500 non-null    object\n\n 4   first_name  500 non-null    object\n\n 5   last_name   500 non-null    object\n\n 6   reg_date    500 non-null    object\n\n 7   tariff      500 non-null    object\n\ndtypes: int64(2), object(6)\n\nmemory usage: 31.4+ KB\n"
        },
        {
          "output_type": "display_data",
          "data": {
            "text/plain": [
              "0"
            ]
          },
          "metadata": {}
        }
      ]
    },
    {
      "cell_type": "markdown",
      "source": "Первичный анализ таблицы users (информация о пользователях) показал:\n1. В таблице представлена информация: уникальный идентификатор пользователя (user_id), имя пользователя (first_name), фамилия пользователя (last_name), возраст пользователя (годы) (age), дата подключения тарифа (reg_date), дата прекращения пользования тарифом (если значение пропущено, то тариф ещё действовал на момент выгрузки данных) (churn_date), город проживания пользователя (city), название тарифного плана (tariff).\n2. Даты сохранены, как строки.\n3. user_id  и age сохранены как вещественные числа, хотя они натуральные.\n4. Явные дубликаты отсутствуют.",
      "metadata": {}
    },
    {
      "cell_type": "markdown",
      "source": "Таким образом, во всех таблицах обнаружен неверный формат даты. Название тарифного плана во всех таблицах обозначится как tariff, кроме таблицы с информацией о тарифах (tariff_name). Также необходимо округлить время звонков и количество мегабайт трафика в большую сторону в соответствии с условиями тарифов.",
      "metadata": {}
    },
    {
      "cell_type": "markdown",
      "source": "## Предобработка данных <a id='preprocessing'></a>",
      "metadata": {}
    },
    {
      "cell_type": "markdown",
      "source": "Для дальнейшего анализа и расчетов заменим тип данных для дат:",
      "metadata": {}
    },
    {
      "cell_type": "code",
      "source": "calls['call_date'] = pd.to_datetime(calls['call_date'], format='%Y.%m.%d')\ninternet['session_date'] = pd.to_datetime(internet['session_date'], format='%Y.%m.%d')\nmessages['message_date'] = pd.to_datetime(messages['message_date'], format='%Y.%m.%d')\nusers['reg_date'] = pd.to_datetime(users['reg_date'], format='%Y.%m.%d')\ncalls.info()\ninternet.info()\nmessages.info()\nusers.info()",
      "metadata": {},
      "execution_count": 12,
      "outputs": [
        {
          "name": "stdout",
          "output_type": "stream",
          "text": "<class 'pandas.core.frame.DataFrame'>\n\nRangeIndex: 202607 entries, 0 to 202606\n\nData columns (total 4 columns):\n\n #   Column     Non-Null Count   Dtype         \n\n---  ------     --------------   -----         \n\n 0   id         202607 non-null  object        \n\n 1   call_date  202607 non-null  datetime64[ns]\n\n 2   duration   202607 non-null  float64       \n\n 3   user_id    202607 non-null  int64         \n\ndtypes: datetime64[ns](1), float64(1), int64(1), object(1)\n\nmemory usage: 6.2+ MB\n\n<class 'pandas.core.frame.DataFrame'>\n\nRangeIndex: 149396 entries, 0 to 149395\n\nData columns (total 5 columns):\n\n #   Column        Non-Null Count   Dtype         \n\n---  ------        --------------   -----         \n\n 0   Unnamed: 0    149396 non-null  int64         \n\n 1   id            149396 non-null  object        \n\n 2   mb_used       149396 non-null  float64       \n\n 3   session_date  149396 non-null  datetime64[ns]\n\n 4   user_id       149396 non-null  int64         \n\ndtypes: datetime64[ns](1), float64(1), int64(2), object(1)\n\nmemory usage: 5.7+ MB\n\n<class 'pandas.core.frame.DataFrame'>\n\nRangeIndex: 123036 entries, 0 to 123035\n\nData columns (total 3 columns):\n\n #   Column        Non-Null Count   Dtype         \n\n---  ------        --------------   -----         \n\n 0   id            123036 non-null  object        \n\n 1   message_date  123036 non-null  datetime64[ns]\n\n 2   user_id       123036 non-null  int64         \n\ndtypes: datetime64[ns](1), int64(1), object(1)\n\nmemory usage: 2.8+ MB\n\n<class 'pandas.core.frame.DataFrame'>\n\nRangeIndex: 500 entries, 0 to 499\n\nData columns (total 8 columns):\n\n #   Column      Non-Null Count  Dtype         \n\n---  ------      --------------  -----         \n\n 0   user_id     500 non-null    int64         \n\n 1   age         500 non-null    int64         \n\n 2   churn_date  38 non-null     object        \n\n 3   city        500 non-null    object        \n\n 4   first_name  500 non-null    object        \n\n 5   last_name   500 non-null    object        \n\n 6   reg_date    500 non-null    datetime64[ns]\n\n 7   tariff      500 non-null    object        \n\ndtypes: datetime64[ns](1), int64(2), object(5)\n\nmemory usage: 31.4+ KB\n"
        }
      ]
    },
    {
      "cell_type": "markdown",
      "source": "Удалим столбец с индексом (Unnamed) в таблице internet",
      "metadata": {}
    },
    {
      "cell_type": "code",
      "source": "internet = internet.drop(columns='Unnamed: 0')\ninternet.info()",
      "metadata": {},
      "execution_count": 13,
      "outputs": [
        {
          "name": "stdout",
          "output_type": "stream",
          "text": "<class 'pandas.core.frame.DataFrame'>\n\nRangeIndex: 149396 entries, 0 to 149395\n\nData columns (total 4 columns):\n\n #   Column        Non-Null Count   Dtype         \n\n---  ------        --------------   -----         \n\n 0   id            149396 non-null  object        \n\n 1   mb_used       149396 non-null  float64       \n\n 2   session_date  149396 non-null  datetime64[ns]\n\n 3   user_id       149396 non-null  int64         \n\ndtypes: datetime64[ns](1), float64(1), int64(1), object(1)\n\nmemory usage: 4.6+ MB\n"
        }
      ]
    },
    {
      "cell_type": "markdown",
      "source": "Переименуем столбец tariff_name в tariffs по аналогии с остальными таблицами.",
      "metadata": {}
    },
    {
      "cell_type": "code",
      "source": "tariffs = tariffs.rename(columns={'tariff_name':'tariff'})\ntariffs.info()",
      "metadata": {},
      "execution_count": 14,
      "outputs": [
        {
          "name": "stdout",
          "output_type": "stream",
          "text": "<class 'pandas.core.frame.DataFrame'>\n\nRangeIndex: 2 entries, 0 to 1\n\nData columns (total 8 columns):\n\n #   Column                 Non-Null Count  Dtype \n\n---  ------                 --------------  ----- \n\n 0   messages_included      2 non-null      int64 \n\n 1   mb_per_month_included  2 non-null      int64 \n\n 2   minutes_included       2 non-null      int64 \n\n 3   rub_monthly_fee        2 non-null      int64 \n\n 4   rub_per_gb             2 non-null      int64 \n\n 5   rub_per_message        2 non-null      int64 \n\n 6   rub_per_minute         2 non-null      int64 \n\n 7   tariff                 2 non-null      object\n\ndtypes: int64(7), object(1)\n\nmemory usage: 256.0+ bytes\n"
        }
      ]
    },
    {
      "cell_type": "markdown",
      "source": "Рассчитаем количество сделанных звонков и израсходованных минут разговора по месяцам. ",
      "metadata": {}
    },
    {
      "cell_type": "code",
      "source": "#сформируем столбец month в таблице calls\ncalls['month'] = calls['call_date'].astype('datetime64[M]')\ncalls.head()",
      "metadata": {},
      "execution_count": 15,
      "outputs": [
        {
          "execution_count": 15,
          "output_type": "execute_result",
          "data": {
            "text/html": [
              "<div>\n",
              "<style scoped>\n",
              "    .dataframe tbody tr th:only-of-type {\n",
              "        vertical-align: middle;\n",
              "    }\n",
              "\n",
              "    .dataframe tbody tr th {\n",
              "        vertical-align: top;\n",
              "    }\n",
              "\n",
              "    .dataframe thead th {\n",
              "        text-align: right;\n",
              "    }\n",
              "</style>\n",
              "<table border=\"1\" class=\"dataframe\">\n",
              "  <thead>\n",
              "    <tr style=\"text-align: right;\">\n",
              "      <th></th>\n",
              "      <th>id</th>\n",
              "      <th>call_date</th>\n",
              "      <th>duration</th>\n",
              "      <th>user_id</th>\n",
              "      <th>month</th>\n",
              "    </tr>\n",
              "  </thead>\n",
              "  <tbody>\n",
              "    <tr>\n",
              "      <th>0</th>\n",
              "      <td>1000_0</td>\n",
              "      <td>2018-07-25</td>\n",
              "      <td>0.00</td>\n",
              "      <td>1000</td>\n",
              "      <td>2018-07-01</td>\n",
              "    </tr>\n",
              "    <tr>\n",
              "      <th>1</th>\n",
              "      <td>1000_1</td>\n",
              "      <td>2018-08-17</td>\n",
              "      <td>0.00</td>\n",
              "      <td>1000</td>\n",
              "      <td>2018-08-01</td>\n",
              "    </tr>\n",
              "    <tr>\n",
              "      <th>2</th>\n",
              "      <td>1000_2</td>\n",
              "      <td>2018-06-11</td>\n",
              "      <td>2.85</td>\n",
              "      <td>1000</td>\n",
              "      <td>2018-06-01</td>\n",
              "    </tr>\n",
              "    <tr>\n",
              "      <th>3</th>\n",
              "      <td>1000_3</td>\n",
              "      <td>2018-09-21</td>\n",
              "      <td>13.80</td>\n",
              "      <td>1000</td>\n",
              "      <td>2018-09-01</td>\n",
              "    </tr>\n",
              "    <tr>\n",
              "      <th>4</th>\n",
              "      <td>1000_4</td>\n",
              "      <td>2018-12-15</td>\n",
              "      <td>5.18</td>\n",
              "      <td>1000</td>\n",
              "      <td>2018-12-01</td>\n",
              "    </tr>\n",
              "  </tbody>\n",
              "</table>\n",
              "</div>"
            ],
            "text/plain": [
              "       id  call_date  duration  user_id      month\n",
              "0  1000_0 2018-07-25      0.00     1000 2018-07-01\n",
              "1  1000_1 2018-08-17      0.00     1000 2018-08-01\n",
              "2  1000_2 2018-06-11      2.85     1000 2018-06-01\n",
              "3  1000_3 2018-09-21     13.80     1000 2018-09-01\n",
              "4  1000_4 2018-12-15      5.18     1000 2018-12-01"
            ]
          },
          "metadata": {}
        }
      ]
    },
    {
      "cell_type": "code",
      "source": "#сформируем переменную user_calls, в которую сохраним количество звонков (calls_total_in_month) \n#и минут разговора по месяца (month_calls_duration)\nuser_calls = (calls\n                  .groupby(['user_id', 'month'])\n                  .agg({'duration':'sum', 'id':'count'})\n                  .reset_index()\n                  .rename(columns={'duration':'month_calls_duration','id':'calls_total_in_month'})\n)\nuser_calls.head()",
      "metadata": {},
      "execution_count": 16,
      "outputs": [
        {
          "execution_count": 16,
          "output_type": "execute_result",
          "data": {
            "text/html": [
              "<div>\n",
              "<style scoped>\n",
              "    .dataframe tbody tr th:only-of-type {\n",
              "        vertical-align: middle;\n",
              "    }\n",
              "\n",
              "    .dataframe tbody tr th {\n",
              "        vertical-align: top;\n",
              "    }\n",
              "\n",
              "    .dataframe thead th {\n",
              "        text-align: right;\n",
              "    }\n",
              "</style>\n",
              "<table border=\"1\" class=\"dataframe\">\n",
              "  <thead>\n",
              "    <tr style=\"text-align: right;\">\n",
              "      <th></th>\n",
              "      <th>user_id</th>\n",
              "      <th>month</th>\n",
              "      <th>month_calls_duration</th>\n",
              "      <th>calls_total_in_month</th>\n",
              "    </tr>\n",
              "  </thead>\n",
              "  <tbody>\n",
              "    <tr>\n",
              "      <th>0</th>\n",
              "      <td>1000</td>\n",
              "      <td>2018-05-01</td>\n",
              "      <td>150.06</td>\n",
              "      <td>22</td>\n",
              "    </tr>\n",
              "    <tr>\n",
              "      <th>1</th>\n",
              "      <td>1000</td>\n",
              "      <td>2018-06-01</td>\n",
              "      <td>158.90</td>\n",
              "      <td>43</td>\n",
              "    </tr>\n",
              "    <tr>\n",
              "      <th>2</th>\n",
              "      <td>1000</td>\n",
              "      <td>2018-07-01</td>\n",
              "      <td>318.80</td>\n",
              "      <td>47</td>\n",
              "    </tr>\n",
              "    <tr>\n",
              "      <th>3</th>\n",
              "      <td>1000</td>\n",
              "      <td>2018-08-01</td>\n",
              "      <td>389.87</td>\n",
              "      <td>52</td>\n",
              "    </tr>\n",
              "    <tr>\n",
              "      <th>4</th>\n",
              "      <td>1000</td>\n",
              "      <td>2018-09-01</td>\n",
              "      <td>440.14</td>\n",
              "      <td>58</td>\n",
              "    </tr>\n",
              "  </tbody>\n",
              "</table>\n",
              "</div>"
            ],
            "text/plain": [
              "   user_id      month  month_calls_duration  calls_total_in_month\n",
              "0     1000 2018-05-01                150.06                    22\n",
              "1     1000 2018-06-01                158.90                    43\n",
              "2     1000 2018-07-01                318.80                    47\n",
              "3     1000 2018-08-01                389.87                    52\n",
              "4     1000 2018-09-01                440.14                    58"
            ]
          },
          "metadata": {}
        }
      ]
    },
    {
      "cell_type": "markdown",
      "source": "Рассчитаем количество отправленных сообщений по месяцам.",
      "metadata": {}
    },
    {
      "cell_type": "code",
      "source": "#сформируем столбец month в таблице messages\nmessages['month'] = messages['message_date'].astype('datetime64[M]')\nmessages.head()",
      "metadata": {},
      "execution_count": 17,
      "outputs": [
        {
          "execution_count": 17,
          "output_type": "execute_result",
          "data": {
            "text/html": [
              "<div>\n",
              "<style scoped>\n",
              "    .dataframe tbody tr th:only-of-type {\n",
              "        vertical-align: middle;\n",
              "    }\n",
              "\n",
              "    .dataframe tbody tr th {\n",
              "        vertical-align: top;\n",
              "    }\n",
              "\n",
              "    .dataframe thead th {\n",
              "        text-align: right;\n",
              "    }\n",
              "</style>\n",
              "<table border=\"1\" class=\"dataframe\">\n",
              "  <thead>\n",
              "    <tr style=\"text-align: right;\">\n",
              "      <th></th>\n",
              "      <th>id</th>\n",
              "      <th>message_date</th>\n",
              "      <th>user_id</th>\n",
              "      <th>month</th>\n",
              "    </tr>\n",
              "  </thead>\n",
              "  <tbody>\n",
              "    <tr>\n",
              "      <th>0</th>\n",
              "      <td>1000_0</td>\n",
              "      <td>2018-06-27</td>\n",
              "      <td>1000</td>\n",
              "      <td>2018-06-01</td>\n",
              "    </tr>\n",
              "    <tr>\n",
              "      <th>1</th>\n",
              "      <td>1000_1</td>\n",
              "      <td>2018-10-08</td>\n",
              "      <td>1000</td>\n",
              "      <td>2018-10-01</td>\n",
              "    </tr>\n",
              "    <tr>\n",
              "      <th>2</th>\n",
              "      <td>1000_2</td>\n",
              "      <td>2018-08-04</td>\n",
              "      <td>1000</td>\n",
              "      <td>2018-08-01</td>\n",
              "    </tr>\n",
              "    <tr>\n",
              "      <th>3</th>\n",
              "      <td>1000_3</td>\n",
              "      <td>2018-06-16</td>\n",
              "      <td>1000</td>\n",
              "      <td>2018-06-01</td>\n",
              "    </tr>\n",
              "    <tr>\n",
              "      <th>4</th>\n",
              "      <td>1000_4</td>\n",
              "      <td>2018-12-05</td>\n",
              "      <td>1000</td>\n",
              "      <td>2018-12-01</td>\n",
              "    </tr>\n",
              "  </tbody>\n",
              "</table>\n",
              "</div>"
            ],
            "text/plain": [
              "       id message_date  user_id      month\n",
              "0  1000_0   2018-06-27     1000 2018-06-01\n",
              "1  1000_1   2018-10-08     1000 2018-10-01\n",
              "2  1000_2   2018-08-04     1000 2018-08-01\n",
              "3  1000_3   2018-06-16     1000 2018-06-01\n",
              "4  1000_4   2018-12-05     1000 2018-12-01"
            ]
          },
          "metadata": {}
        }
      ]
    },
    {
      "cell_type": "code",
      "source": "#сформируем переменную user_messages, в которую сохраним количество сообщений (sms_total_in_month) \nuser_messages = (messages\n                        .groupby(['user_id', 'month'])\n                        .agg({'id':'count'})\n                        .reset_index()\n                        .rename(columns={'id':'sms_total_in_month'})\n)\n\nuser_messages.head()",
      "metadata": {},
      "execution_count": 18,
      "outputs": [
        {
          "execution_count": 18,
          "output_type": "execute_result",
          "data": {
            "text/html": [
              "<div>\n",
              "<style scoped>\n",
              "    .dataframe tbody tr th:only-of-type {\n",
              "        vertical-align: middle;\n",
              "    }\n",
              "\n",
              "    .dataframe tbody tr th {\n",
              "        vertical-align: top;\n",
              "    }\n",
              "\n",
              "    .dataframe thead th {\n",
              "        text-align: right;\n",
              "    }\n",
              "</style>\n",
              "<table border=\"1\" class=\"dataframe\">\n",
              "  <thead>\n",
              "    <tr style=\"text-align: right;\">\n",
              "      <th></th>\n",
              "      <th>user_id</th>\n",
              "      <th>month</th>\n",
              "      <th>sms_total_in_month</th>\n",
              "    </tr>\n",
              "  </thead>\n",
              "  <tbody>\n",
              "    <tr>\n",
              "      <th>0</th>\n",
              "      <td>1000</td>\n",
              "      <td>2018-05-01</td>\n",
              "      <td>22</td>\n",
              "    </tr>\n",
              "    <tr>\n",
              "      <th>1</th>\n",
              "      <td>1000</td>\n",
              "      <td>2018-06-01</td>\n",
              "      <td>60</td>\n",
              "    </tr>\n",
              "    <tr>\n",
              "      <th>2</th>\n",
              "      <td>1000</td>\n",
              "      <td>2018-07-01</td>\n",
              "      <td>75</td>\n",
              "    </tr>\n",
              "    <tr>\n",
              "      <th>3</th>\n",
              "      <td>1000</td>\n",
              "      <td>2018-08-01</td>\n",
              "      <td>81</td>\n",
              "    </tr>\n",
              "    <tr>\n",
              "      <th>4</th>\n",
              "      <td>1000</td>\n",
              "      <td>2018-09-01</td>\n",
              "      <td>57</td>\n",
              "    </tr>\n",
              "  </tbody>\n",
              "</table>\n",
              "</div>"
            ],
            "text/plain": [
              "   user_id      month  sms_total_in_month\n",
              "0     1000 2018-05-01                  22\n",
              "1     1000 2018-06-01                  60\n",
              "2     1000 2018-07-01                  75\n",
              "3     1000 2018-08-01                  81\n",
              "4     1000 2018-09-01                  57"
            ]
          },
          "metadata": {}
        }
      ]
    },
    {
      "cell_type": "markdown",
      "source": "Рассчитаем объем израсходованного интернет-трафика по месяцам.",
      "metadata": {}
    },
    {
      "cell_type": "code",
      "source": "#сформируем столбец month в таблице internet\ninternet['month'] = internet['session_date'].astype('datetime64[M]')\ninternet.head()",
      "metadata": {},
      "execution_count": 19,
      "outputs": [
        {
          "execution_count": 19,
          "output_type": "execute_result",
          "data": {
            "text/html": [
              "<div>\n",
              "<style scoped>\n",
              "    .dataframe tbody tr th:only-of-type {\n",
              "        vertical-align: middle;\n",
              "    }\n",
              "\n",
              "    .dataframe tbody tr th {\n",
              "        vertical-align: top;\n",
              "    }\n",
              "\n",
              "    .dataframe thead th {\n",
              "        text-align: right;\n",
              "    }\n",
              "</style>\n",
              "<table border=\"1\" class=\"dataframe\">\n",
              "  <thead>\n",
              "    <tr style=\"text-align: right;\">\n",
              "      <th></th>\n",
              "      <th>id</th>\n",
              "      <th>mb_used</th>\n",
              "      <th>session_date</th>\n",
              "      <th>user_id</th>\n",
              "      <th>month</th>\n",
              "    </tr>\n",
              "  </thead>\n",
              "  <tbody>\n",
              "    <tr>\n",
              "      <th>0</th>\n",
              "      <td>1000_0</td>\n",
              "      <td>112.95</td>\n",
              "      <td>2018-11-25</td>\n",
              "      <td>1000</td>\n",
              "      <td>2018-11-01</td>\n",
              "    </tr>\n",
              "    <tr>\n",
              "      <th>1</th>\n",
              "      <td>1000_1</td>\n",
              "      <td>1052.81</td>\n",
              "      <td>2018-09-07</td>\n",
              "      <td>1000</td>\n",
              "      <td>2018-09-01</td>\n",
              "    </tr>\n",
              "    <tr>\n",
              "      <th>2</th>\n",
              "      <td>1000_2</td>\n",
              "      <td>1197.26</td>\n",
              "      <td>2018-06-25</td>\n",
              "      <td>1000</td>\n",
              "      <td>2018-06-01</td>\n",
              "    </tr>\n",
              "    <tr>\n",
              "      <th>3</th>\n",
              "      <td>1000_3</td>\n",
              "      <td>550.27</td>\n",
              "      <td>2018-08-22</td>\n",
              "      <td>1000</td>\n",
              "      <td>2018-08-01</td>\n",
              "    </tr>\n",
              "    <tr>\n",
              "      <th>4</th>\n",
              "      <td>1000_4</td>\n",
              "      <td>302.56</td>\n",
              "      <td>2018-09-24</td>\n",
              "      <td>1000</td>\n",
              "      <td>2018-09-01</td>\n",
              "    </tr>\n",
              "  </tbody>\n",
              "</table>\n",
              "</div>"
            ],
            "text/plain": [
              "       id  mb_used session_date  user_id      month\n",
              "0  1000_0   112.95   2018-11-25     1000 2018-11-01\n",
              "1  1000_1  1052.81   2018-09-07     1000 2018-09-01\n",
              "2  1000_2  1197.26   2018-06-25     1000 2018-06-01\n",
              "3  1000_3   550.27   2018-08-22     1000 2018-08-01\n",
              "4  1000_4   302.56   2018-09-24     1000 2018-09-01"
            ]
          },
          "metadata": {}
        }
      ]
    },
    {
      "cell_type": "code",
      "source": "#сформируем переменную user_internet, в которую объем израсходованного интернет-трафика (mb_total_in_month) \nuser_internet = (internet\n                        .groupby(['user_id', 'month'])\n                        .agg({'mb_used':'sum'})\n                        .reset_index()\n                        .rename(columns={'mb_used':'mb_total_in_month'})\n)\nuser_internet.head()",
      "metadata": {},
      "execution_count": 20,
      "outputs": [
        {
          "execution_count": 20,
          "output_type": "execute_result",
          "data": {
            "text/html": [
              "<div>\n",
              "<style scoped>\n",
              "    .dataframe tbody tr th:only-of-type {\n",
              "        vertical-align: middle;\n",
              "    }\n",
              "\n",
              "    .dataframe tbody tr th {\n",
              "        vertical-align: top;\n",
              "    }\n",
              "\n",
              "    .dataframe thead th {\n",
              "        text-align: right;\n",
              "    }\n",
              "</style>\n",
              "<table border=\"1\" class=\"dataframe\">\n",
              "  <thead>\n",
              "    <tr style=\"text-align: right;\">\n",
              "      <th></th>\n",
              "      <th>user_id</th>\n",
              "      <th>month</th>\n",
              "      <th>mb_total_in_month</th>\n",
              "    </tr>\n",
              "  </thead>\n",
              "  <tbody>\n",
              "    <tr>\n",
              "      <th>0</th>\n",
              "      <td>1000</td>\n",
              "      <td>2018-05-01</td>\n",
              "      <td>2253.49</td>\n",
              "    </tr>\n",
              "    <tr>\n",
              "      <th>1</th>\n",
              "      <td>1000</td>\n",
              "      <td>2018-06-01</td>\n",
              "      <td>23233.77</td>\n",
              "    </tr>\n",
              "    <tr>\n",
              "      <th>2</th>\n",
              "      <td>1000</td>\n",
              "      <td>2018-07-01</td>\n",
              "      <td>14003.64</td>\n",
              "    </tr>\n",
              "    <tr>\n",
              "      <th>3</th>\n",
              "      <td>1000</td>\n",
              "      <td>2018-08-01</td>\n",
              "      <td>14055.93</td>\n",
              "    </tr>\n",
              "    <tr>\n",
              "      <th>4</th>\n",
              "      <td>1000</td>\n",
              "      <td>2018-09-01</td>\n",
              "      <td>14568.91</td>\n",
              "    </tr>\n",
              "  </tbody>\n",
              "</table>\n",
              "</div>"
            ],
            "text/plain": [
              "   user_id      month  mb_total_in_month\n",
              "0     1000 2018-05-01            2253.49\n",
              "1     1000 2018-06-01           23233.77\n",
              "2     1000 2018-07-01           14003.64\n",
              "3     1000 2018-08-01           14055.93\n",
              "4     1000 2018-09-01           14568.91"
            ]
          },
          "metadata": {}
        }
      ]
    },
    {
      "cell_type": "markdown",
      "source": "Округлим время звонков и количество мегабайт трафика в большую сторону в соответствии с условиями тарифов.",
      "metadata": {}
    },
    {
      "cell_type": "code",
      "source": "#округлим в большую сторону звонки\nuser_calls['calls_total_in_month'] = np.ceil(user_calls['calls_total_in_month']).astype('int')\n \n# округлим в большую сторону крличество мб\nuser_internet['mb_total_in_month'] = np.ceil(user_internet['mb_total_in_month']).astype('int')\n\n#выведем таблицы calls и internet и информации о них после преобразований\ndisplay(calls.head())\ncalls.info()\ndisplay(internet.head())\ninternet.info()",
      "metadata": {
        "scrolled": true
      },
      "execution_count": 21,
      "outputs": [
        {
          "output_type": "display_data",
          "data": {
            "text/html": [
              "<div>\n",
              "<style scoped>\n",
              "    .dataframe tbody tr th:only-of-type {\n",
              "        vertical-align: middle;\n",
              "    }\n",
              "\n",
              "    .dataframe tbody tr th {\n",
              "        vertical-align: top;\n",
              "    }\n",
              "\n",
              "    .dataframe thead th {\n",
              "        text-align: right;\n",
              "    }\n",
              "</style>\n",
              "<table border=\"1\" class=\"dataframe\">\n",
              "  <thead>\n",
              "    <tr style=\"text-align: right;\">\n",
              "      <th></th>\n",
              "      <th>id</th>\n",
              "      <th>call_date</th>\n",
              "      <th>duration</th>\n",
              "      <th>user_id</th>\n",
              "      <th>month</th>\n",
              "    </tr>\n",
              "  </thead>\n",
              "  <tbody>\n",
              "    <tr>\n",
              "      <th>0</th>\n",
              "      <td>1000_0</td>\n",
              "      <td>2018-07-25</td>\n",
              "      <td>0.00</td>\n",
              "      <td>1000</td>\n",
              "      <td>2018-07-01</td>\n",
              "    </tr>\n",
              "    <tr>\n",
              "      <th>1</th>\n",
              "      <td>1000_1</td>\n",
              "      <td>2018-08-17</td>\n",
              "      <td>0.00</td>\n",
              "      <td>1000</td>\n",
              "      <td>2018-08-01</td>\n",
              "    </tr>\n",
              "    <tr>\n",
              "      <th>2</th>\n",
              "      <td>1000_2</td>\n",
              "      <td>2018-06-11</td>\n",
              "      <td>2.85</td>\n",
              "      <td>1000</td>\n",
              "      <td>2018-06-01</td>\n",
              "    </tr>\n",
              "    <tr>\n",
              "      <th>3</th>\n",
              "      <td>1000_3</td>\n",
              "      <td>2018-09-21</td>\n",
              "      <td>13.80</td>\n",
              "      <td>1000</td>\n",
              "      <td>2018-09-01</td>\n",
              "    </tr>\n",
              "    <tr>\n",
              "      <th>4</th>\n",
              "      <td>1000_4</td>\n",
              "      <td>2018-12-15</td>\n",
              "      <td>5.18</td>\n",
              "      <td>1000</td>\n",
              "      <td>2018-12-01</td>\n",
              "    </tr>\n",
              "  </tbody>\n",
              "</table>\n",
              "</div>"
            ],
            "text/plain": [
              "       id  call_date  duration  user_id      month\n",
              "0  1000_0 2018-07-25      0.00     1000 2018-07-01\n",
              "1  1000_1 2018-08-17      0.00     1000 2018-08-01\n",
              "2  1000_2 2018-06-11      2.85     1000 2018-06-01\n",
              "3  1000_3 2018-09-21     13.80     1000 2018-09-01\n",
              "4  1000_4 2018-12-15      5.18     1000 2018-12-01"
            ]
          },
          "metadata": {}
        },
        {
          "name": "stdout",
          "output_type": "stream",
          "text": "<class 'pandas.core.frame.DataFrame'>\n\nRangeIndex: 202607 entries, 0 to 202606\n\nData columns (total 5 columns):\n\n #   Column     Non-Null Count   Dtype         \n\n---  ------     --------------   -----         \n\n 0   id         202607 non-null  object        \n\n 1   call_date  202607 non-null  datetime64[ns]\n\n 2   duration   202607 non-null  float64       \n\n 3   user_id    202607 non-null  int64         \n\n 4   month      202607 non-null  datetime64[ns]\n\ndtypes: datetime64[ns](2), float64(1), int64(1), object(1)\n\nmemory usage: 7.7+ MB\n"
        },
        {
          "output_type": "display_data",
          "data": {
            "text/html": [
              "<div>\n",
              "<style scoped>\n",
              "    .dataframe tbody tr th:only-of-type {\n",
              "        vertical-align: middle;\n",
              "    }\n",
              "\n",
              "    .dataframe tbody tr th {\n",
              "        vertical-align: top;\n",
              "    }\n",
              "\n",
              "    .dataframe thead th {\n",
              "        text-align: right;\n",
              "    }\n",
              "</style>\n",
              "<table border=\"1\" class=\"dataframe\">\n",
              "  <thead>\n",
              "    <tr style=\"text-align: right;\">\n",
              "      <th></th>\n",
              "      <th>id</th>\n",
              "      <th>mb_used</th>\n",
              "      <th>session_date</th>\n",
              "      <th>user_id</th>\n",
              "      <th>month</th>\n",
              "    </tr>\n",
              "  </thead>\n",
              "  <tbody>\n",
              "    <tr>\n",
              "      <th>0</th>\n",
              "      <td>1000_0</td>\n",
              "      <td>112.95</td>\n",
              "      <td>2018-11-25</td>\n",
              "      <td>1000</td>\n",
              "      <td>2018-11-01</td>\n",
              "    </tr>\n",
              "    <tr>\n",
              "      <th>1</th>\n",
              "      <td>1000_1</td>\n",
              "      <td>1052.81</td>\n",
              "      <td>2018-09-07</td>\n",
              "      <td>1000</td>\n",
              "      <td>2018-09-01</td>\n",
              "    </tr>\n",
              "    <tr>\n",
              "      <th>2</th>\n",
              "      <td>1000_2</td>\n",
              "      <td>1197.26</td>\n",
              "      <td>2018-06-25</td>\n",
              "      <td>1000</td>\n",
              "      <td>2018-06-01</td>\n",
              "    </tr>\n",
              "    <tr>\n",
              "      <th>3</th>\n",
              "      <td>1000_3</td>\n",
              "      <td>550.27</td>\n",
              "      <td>2018-08-22</td>\n",
              "      <td>1000</td>\n",
              "      <td>2018-08-01</td>\n",
              "    </tr>\n",
              "    <tr>\n",
              "      <th>4</th>\n",
              "      <td>1000_4</td>\n",
              "      <td>302.56</td>\n",
              "      <td>2018-09-24</td>\n",
              "      <td>1000</td>\n",
              "      <td>2018-09-01</td>\n",
              "    </tr>\n",
              "  </tbody>\n",
              "</table>\n",
              "</div>"
            ],
            "text/plain": [
              "       id  mb_used session_date  user_id      month\n",
              "0  1000_0   112.95   2018-11-25     1000 2018-11-01\n",
              "1  1000_1  1052.81   2018-09-07     1000 2018-09-01\n",
              "2  1000_2  1197.26   2018-06-25     1000 2018-06-01\n",
              "3  1000_3   550.27   2018-08-22     1000 2018-08-01\n",
              "4  1000_4   302.56   2018-09-24     1000 2018-09-01"
            ]
          },
          "metadata": {}
        },
        {
          "name": "stdout",
          "output_type": "stream",
          "text": "<class 'pandas.core.frame.DataFrame'>\n\nRangeIndex: 149396 entries, 0 to 149395\n\nData columns (total 5 columns):\n\n #   Column        Non-Null Count   Dtype         \n\n---  ------        --------------   -----         \n\n 0   id            149396 non-null  object        \n\n 1   mb_used       149396 non-null  float64       \n\n 2   session_date  149396 non-null  datetime64[ns]\n\n 3   user_id       149396 non-null  int64         \n\n 4   month         149396 non-null  datetime64[ns]\n\ndtypes: datetime64[ns](2), float64(1), int64(1), object(1)\n\nmemory usage: 5.7+ MB\n"
        }
      ]
    },
    {
      "cell_type": "markdown",
      "source": "Рассчитаем помесячную выручку с каждого пользователя: вычтем бесплатный лимит из суммарного количества звонков, сообщений и интернет-трафика, остаток умножим на значение из тарифного плана и прибавим абонентскую плату, соответствующую тарифному плану.",
      "metadata": {}
    },
    {
      "cell_type": "code",
      "source": "#сформируем общий датафрейм по количеству и продолжительности звонков, количеству сообщений и интернет трафику\n#объединим информацию по звонкам и сообщения\ntelecom_data = user_calls.merge(user_messages, on=['user_id','month'], how='outer')\ndisplay(telecom_data.head())\ndisplay(telecom_data.isna().sum())\ntelecom_data.duplicated().sum()",
      "metadata": {},
      "execution_count": 22,
      "outputs": [
        {
          "output_type": "display_data",
          "data": {
            "text/html": [
              "<div>\n",
              "<style scoped>\n",
              "    .dataframe tbody tr th:only-of-type {\n",
              "        vertical-align: middle;\n",
              "    }\n",
              "\n",
              "    .dataframe tbody tr th {\n",
              "        vertical-align: top;\n",
              "    }\n",
              "\n",
              "    .dataframe thead th {\n",
              "        text-align: right;\n",
              "    }\n",
              "</style>\n",
              "<table border=\"1\" class=\"dataframe\">\n",
              "  <thead>\n",
              "    <tr style=\"text-align: right;\">\n",
              "      <th></th>\n",
              "      <th>user_id</th>\n",
              "      <th>month</th>\n",
              "      <th>month_calls_duration</th>\n",
              "      <th>calls_total_in_month</th>\n",
              "      <th>sms_total_in_month</th>\n",
              "    </tr>\n",
              "  </thead>\n",
              "  <tbody>\n",
              "    <tr>\n",
              "      <th>0</th>\n",
              "      <td>1000</td>\n",
              "      <td>2018-05-01</td>\n",
              "      <td>150.06</td>\n",
              "      <td>22.0</td>\n",
              "      <td>22.0</td>\n",
              "    </tr>\n",
              "    <tr>\n",
              "      <th>1</th>\n",
              "      <td>1000</td>\n",
              "      <td>2018-06-01</td>\n",
              "      <td>158.90</td>\n",
              "      <td>43.0</td>\n",
              "      <td>60.0</td>\n",
              "    </tr>\n",
              "    <tr>\n",
              "      <th>2</th>\n",
              "      <td>1000</td>\n",
              "      <td>2018-07-01</td>\n",
              "      <td>318.80</td>\n",
              "      <td>47.0</td>\n",
              "      <td>75.0</td>\n",
              "    </tr>\n",
              "    <tr>\n",
              "      <th>3</th>\n",
              "      <td>1000</td>\n",
              "      <td>2018-08-01</td>\n",
              "      <td>389.87</td>\n",
              "      <td>52.0</td>\n",
              "      <td>81.0</td>\n",
              "    </tr>\n",
              "    <tr>\n",
              "      <th>4</th>\n",
              "      <td>1000</td>\n",
              "      <td>2018-09-01</td>\n",
              "      <td>440.14</td>\n",
              "      <td>58.0</td>\n",
              "      <td>57.0</td>\n",
              "    </tr>\n",
              "  </tbody>\n",
              "</table>\n",
              "</div>"
            ],
            "text/plain": [
              "   user_id      month  month_calls_duration  calls_total_in_month  \\\n",
              "0     1000 2018-05-01                150.06                  22.0   \n",
              "1     1000 2018-06-01                158.90                  43.0   \n",
              "2     1000 2018-07-01                318.80                  47.0   \n",
              "3     1000 2018-08-01                389.87                  52.0   \n",
              "4     1000 2018-09-01                440.14                  58.0   \n",
              "\n",
              "   sms_total_in_month  \n",
              "0                22.0  \n",
              "1                60.0  \n",
              "2                75.0  \n",
              "3                81.0  \n",
              "4                57.0  "
            ]
          },
          "metadata": {}
        },
        {
          "output_type": "display_data",
          "data": {
            "text/plain": [
              "user_id                   0\n",
              "month                     0\n",
              "month_calls_duration     39\n",
              "calls_total_in_month     39\n",
              "sms_total_in_month      496\n",
              "dtype: int64"
            ]
          },
          "metadata": {}
        },
        {
          "execution_count": 22,
          "output_type": "execute_result",
          "data": {
            "text/plain": [
              "0"
            ]
          },
          "metadata": {}
        }
      ]
    },
    {
      "cell_type": "code",
      "source": "#объединим информацию по звонкам и сообщения и интернет трафику\ntelecom_data = telecom_data.merge(user_internet, on=['user_id','month'], how='outer')\ndisplay(telecom_data.head())\ndisplay(telecom_data.isna().sum())\ntelecom_data.duplicated().sum()",
      "metadata": {},
      "execution_count": 23,
      "outputs": [
        {
          "output_type": "display_data",
          "data": {
            "text/html": [
              "<div>\n",
              "<style scoped>\n",
              "    .dataframe tbody tr th:only-of-type {\n",
              "        vertical-align: middle;\n",
              "    }\n",
              "\n",
              "    .dataframe tbody tr th {\n",
              "        vertical-align: top;\n",
              "    }\n",
              "\n",
              "    .dataframe thead th {\n",
              "        text-align: right;\n",
              "    }\n",
              "</style>\n",
              "<table border=\"1\" class=\"dataframe\">\n",
              "  <thead>\n",
              "    <tr style=\"text-align: right;\">\n",
              "      <th></th>\n",
              "      <th>user_id</th>\n",
              "      <th>month</th>\n",
              "      <th>month_calls_duration</th>\n",
              "      <th>calls_total_in_month</th>\n",
              "      <th>sms_total_in_month</th>\n",
              "      <th>mb_total_in_month</th>\n",
              "    </tr>\n",
              "  </thead>\n",
              "  <tbody>\n",
              "    <tr>\n",
              "      <th>0</th>\n",
              "      <td>1000</td>\n",
              "      <td>2018-05-01</td>\n",
              "      <td>150.06</td>\n",
              "      <td>22.0</td>\n",
              "      <td>22.0</td>\n",
              "      <td>2254.0</td>\n",
              "    </tr>\n",
              "    <tr>\n",
              "      <th>1</th>\n",
              "      <td>1000</td>\n",
              "      <td>2018-06-01</td>\n",
              "      <td>158.90</td>\n",
              "      <td>43.0</td>\n",
              "      <td>60.0</td>\n",
              "      <td>23234.0</td>\n",
              "    </tr>\n",
              "    <tr>\n",
              "      <th>2</th>\n",
              "      <td>1000</td>\n",
              "      <td>2018-07-01</td>\n",
              "      <td>318.80</td>\n",
              "      <td>47.0</td>\n",
              "      <td>75.0</td>\n",
              "      <td>14004.0</td>\n",
              "    </tr>\n",
              "    <tr>\n",
              "      <th>3</th>\n",
              "      <td>1000</td>\n",
              "      <td>2018-08-01</td>\n",
              "      <td>389.87</td>\n",
              "      <td>52.0</td>\n",
              "      <td>81.0</td>\n",
              "      <td>14056.0</td>\n",
              "    </tr>\n",
              "    <tr>\n",
              "      <th>4</th>\n",
              "      <td>1000</td>\n",
              "      <td>2018-09-01</td>\n",
              "      <td>440.14</td>\n",
              "      <td>58.0</td>\n",
              "      <td>57.0</td>\n",
              "      <td>14569.0</td>\n",
              "    </tr>\n",
              "  </tbody>\n",
              "</table>\n",
              "</div>"
            ],
            "text/plain": [
              "   user_id      month  month_calls_duration  calls_total_in_month  \\\n",
              "0     1000 2018-05-01                150.06                  22.0   \n",
              "1     1000 2018-06-01                158.90                  43.0   \n",
              "2     1000 2018-07-01                318.80                  47.0   \n",
              "3     1000 2018-08-01                389.87                  52.0   \n",
              "4     1000 2018-09-01                440.14                  58.0   \n",
              "\n",
              "   sms_total_in_month  mb_total_in_month  \n",
              "0                22.0             2254.0  \n",
              "1                60.0            23234.0  \n",
              "2                75.0            14004.0  \n",
              "3                81.0            14056.0  \n",
              "4                57.0            14569.0  "
            ]
          },
          "metadata": {}
        },
        {
          "output_type": "display_data",
          "data": {
            "text/plain": [
              "user_id                   0\n",
              "month                     0\n",
              "month_calls_duration     40\n",
              "calls_total_in_month     40\n",
              "sms_total_in_month      497\n",
              "mb_total_in_month        11\n",
              "dtype: int64"
            ]
          },
          "metadata": {}
        },
        {
          "execution_count": 23,
          "output_type": "execute_result",
          "data": {
            "text/plain": [
              "0"
            ]
          },
          "metadata": {}
        }
      ]
    },
    {
      "cell_type": "code",
      "source": "#добавим информацию о пользователях\ntelecom_data = telecom_data.merge(users, on='user_id', how='left')\ndisplay(telecom_data.head())\ndisplay(telecom_data.isna().sum())\ntelecom_data.duplicated().sum()",
      "metadata": {},
      "execution_count": 24,
      "outputs": [
        {
          "output_type": "display_data",
          "data": {
            "text/html": [
              "<div>\n",
              "<style scoped>\n",
              "    .dataframe tbody tr th:only-of-type {\n",
              "        vertical-align: middle;\n",
              "    }\n",
              "\n",
              "    .dataframe tbody tr th {\n",
              "        vertical-align: top;\n",
              "    }\n",
              "\n",
              "    .dataframe thead th {\n",
              "        text-align: right;\n",
              "    }\n",
              "</style>\n",
              "<table border=\"1\" class=\"dataframe\">\n",
              "  <thead>\n",
              "    <tr style=\"text-align: right;\">\n",
              "      <th></th>\n",
              "      <th>user_id</th>\n",
              "      <th>month</th>\n",
              "      <th>month_calls_duration</th>\n",
              "      <th>calls_total_in_month</th>\n",
              "      <th>sms_total_in_month</th>\n",
              "      <th>mb_total_in_month</th>\n",
              "      <th>age</th>\n",
              "      <th>churn_date</th>\n",
              "      <th>city</th>\n",
              "      <th>first_name</th>\n",
              "      <th>last_name</th>\n",
              "      <th>reg_date</th>\n",
              "      <th>tariff</th>\n",
              "    </tr>\n",
              "  </thead>\n",
              "  <tbody>\n",
              "    <tr>\n",
              "      <th>0</th>\n",
              "      <td>1000</td>\n",
              "      <td>2018-05-01</td>\n",
              "      <td>150.06</td>\n",
              "      <td>22.0</td>\n",
              "      <td>22.0</td>\n",
              "      <td>2254.0</td>\n",
              "      <td>52</td>\n",
              "      <td>NaN</td>\n",
              "      <td>Краснодар</td>\n",
              "      <td>Рафаил</td>\n",
              "      <td>Верещагин</td>\n",
              "      <td>2018-05-25</td>\n",
              "      <td>ultra</td>\n",
              "    </tr>\n",
              "    <tr>\n",
              "      <th>1</th>\n",
              "      <td>1000</td>\n",
              "      <td>2018-06-01</td>\n",
              "      <td>158.90</td>\n",
              "      <td>43.0</td>\n",
              "      <td>60.0</td>\n",
              "      <td>23234.0</td>\n",
              "      <td>52</td>\n",
              "      <td>NaN</td>\n",
              "      <td>Краснодар</td>\n",
              "      <td>Рафаил</td>\n",
              "      <td>Верещагин</td>\n",
              "      <td>2018-05-25</td>\n",
              "      <td>ultra</td>\n",
              "    </tr>\n",
              "    <tr>\n",
              "      <th>2</th>\n",
              "      <td>1000</td>\n",
              "      <td>2018-07-01</td>\n",
              "      <td>318.80</td>\n",
              "      <td>47.0</td>\n",
              "      <td>75.0</td>\n",
              "      <td>14004.0</td>\n",
              "      <td>52</td>\n",
              "      <td>NaN</td>\n",
              "      <td>Краснодар</td>\n",
              "      <td>Рафаил</td>\n",
              "      <td>Верещагин</td>\n",
              "      <td>2018-05-25</td>\n",
              "      <td>ultra</td>\n",
              "    </tr>\n",
              "    <tr>\n",
              "      <th>3</th>\n",
              "      <td>1000</td>\n",
              "      <td>2018-08-01</td>\n",
              "      <td>389.87</td>\n",
              "      <td>52.0</td>\n",
              "      <td>81.0</td>\n",
              "      <td>14056.0</td>\n",
              "      <td>52</td>\n",
              "      <td>NaN</td>\n",
              "      <td>Краснодар</td>\n",
              "      <td>Рафаил</td>\n",
              "      <td>Верещагин</td>\n",
              "      <td>2018-05-25</td>\n",
              "      <td>ultra</td>\n",
              "    </tr>\n",
              "    <tr>\n",
              "      <th>4</th>\n",
              "      <td>1000</td>\n",
              "      <td>2018-09-01</td>\n",
              "      <td>440.14</td>\n",
              "      <td>58.0</td>\n",
              "      <td>57.0</td>\n",
              "      <td>14569.0</td>\n",
              "      <td>52</td>\n",
              "      <td>NaN</td>\n",
              "      <td>Краснодар</td>\n",
              "      <td>Рафаил</td>\n",
              "      <td>Верещагин</td>\n",
              "      <td>2018-05-25</td>\n",
              "      <td>ultra</td>\n",
              "    </tr>\n",
              "  </tbody>\n",
              "</table>\n",
              "</div>"
            ],
            "text/plain": [
              "   user_id      month  month_calls_duration  calls_total_in_month  \\\n",
              "0     1000 2018-05-01                150.06                  22.0   \n",
              "1     1000 2018-06-01                158.90                  43.0   \n",
              "2     1000 2018-07-01                318.80                  47.0   \n",
              "3     1000 2018-08-01                389.87                  52.0   \n",
              "4     1000 2018-09-01                440.14                  58.0   \n",
              "\n",
              "   sms_total_in_month  mb_total_in_month  age churn_date       city  \\\n",
              "0                22.0             2254.0   52        NaN  Краснодар   \n",
              "1                60.0            23234.0   52        NaN  Краснодар   \n",
              "2                75.0            14004.0   52        NaN  Краснодар   \n",
              "3                81.0            14056.0   52        NaN  Краснодар   \n",
              "4                57.0            14569.0   52        NaN  Краснодар   \n",
              "\n",
              "  first_name  last_name   reg_date tariff  \n",
              "0     Рафаил  Верещагин 2018-05-25  ultra  \n",
              "1     Рафаил  Верещагин 2018-05-25  ultra  \n",
              "2     Рафаил  Верещагин 2018-05-25  ultra  \n",
              "3     Рафаил  Верещагин 2018-05-25  ultra  \n",
              "4     Рафаил  Верещагин 2018-05-25  ultra  "
            ]
          },
          "metadata": {}
        },
        {
          "output_type": "display_data",
          "data": {
            "text/plain": [
              "user_id                    0\n",
              "month                      0\n",
              "month_calls_duration      40\n",
              "calls_total_in_month      40\n",
              "sms_total_in_month       497\n",
              "mb_total_in_month         11\n",
              "age                        0\n",
              "churn_date              3027\n",
              "city                       0\n",
              "first_name                 0\n",
              "last_name                  0\n",
              "reg_date                   0\n",
              "tariff                     0\n",
              "dtype: int64"
            ]
          },
          "metadata": {}
        },
        {
          "execution_count": 24,
          "output_type": "execute_result",
          "data": {
            "text/plain": [
              "0"
            ]
          },
          "metadata": {}
        }
      ]
    },
    {
      "cell_type": "code",
      "source": "#добавим информацию о тарифах\ntelecom_data = telecom_data.merge(tariffs, on='tariff', how='left')\ndisplay(telecom_data.head())\ndisplay(telecom_data.isna().sum())\ntelecom_data.duplicated().sum()",
      "metadata": {
        "scrolled": true
      },
      "execution_count": 25,
      "outputs": [
        {
          "output_type": "display_data",
          "data": {
            "text/html": [
              "<div>\n",
              "<style scoped>\n",
              "    .dataframe tbody tr th:only-of-type {\n",
              "        vertical-align: middle;\n",
              "    }\n",
              "\n",
              "    .dataframe tbody tr th {\n",
              "        vertical-align: top;\n",
              "    }\n",
              "\n",
              "    .dataframe thead th {\n",
              "        text-align: right;\n",
              "    }\n",
              "</style>\n",
              "<table border=\"1\" class=\"dataframe\">\n",
              "  <thead>\n",
              "    <tr style=\"text-align: right;\">\n",
              "      <th></th>\n",
              "      <th>user_id</th>\n",
              "      <th>month</th>\n",
              "      <th>month_calls_duration</th>\n",
              "      <th>calls_total_in_month</th>\n",
              "      <th>sms_total_in_month</th>\n",
              "      <th>mb_total_in_month</th>\n",
              "      <th>age</th>\n",
              "      <th>churn_date</th>\n",
              "      <th>city</th>\n",
              "      <th>first_name</th>\n",
              "      <th>last_name</th>\n",
              "      <th>reg_date</th>\n",
              "      <th>tariff</th>\n",
              "      <th>messages_included</th>\n",
              "      <th>mb_per_month_included</th>\n",
              "      <th>minutes_included</th>\n",
              "      <th>rub_monthly_fee</th>\n",
              "      <th>rub_per_gb</th>\n",
              "      <th>rub_per_message</th>\n",
              "      <th>rub_per_minute</th>\n",
              "    </tr>\n",
              "  </thead>\n",
              "  <tbody>\n",
              "    <tr>\n",
              "      <th>0</th>\n",
              "      <td>1000</td>\n",
              "      <td>2018-05-01</td>\n",
              "      <td>150.06</td>\n",
              "      <td>22.0</td>\n",
              "      <td>22.0</td>\n",
              "      <td>2254.0</td>\n",
              "      <td>52</td>\n",
              "      <td>NaN</td>\n",
              "      <td>Краснодар</td>\n",
              "      <td>Рафаил</td>\n",
              "      <td>Верещагин</td>\n",
              "      <td>2018-05-25</td>\n",
              "      <td>ultra</td>\n",
              "      <td>1000</td>\n",
              "      <td>30720</td>\n",
              "      <td>3000</td>\n",
              "      <td>1950</td>\n",
              "      <td>150</td>\n",
              "      <td>1</td>\n",
              "      <td>1</td>\n",
              "    </tr>\n",
              "    <tr>\n",
              "      <th>1</th>\n",
              "      <td>1000</td>\n",
              "      <td>2018-06-01</td>\n",
              "      <td>158.90</td>\n",
              "      <td>43.0</td>\n",
              "      <td>60.0</td>\n",
              "      <td>23234.0</td>\n",
              "      <td>52</td>\n",
              "      <td>NaN</td>\n",
              "      <td>Краснодар</td>\n",
              "      <td>Рафаил</td>\n",
              "      <td>Верещагин</td>\n",
              "      <td>2018-05-25</td>\n",
              "      <td>ultra</td>\n",
              "      <td>1000</td>\n",
              "      <td>30720</td>\n",
              "      <td>3000</td>\n",
              "      <td>1950</td>\n",
              "      <td>150</td>\n",
              "      <td>1</td>\n",
              "      <td>1</td>\n",
              "    </tr>\n",
              "    <tr>\n",
              "      <th>2</th>\n",
              "      <td>1000</td>\n",
              "      <td>2018-07-01</td>\n",
              "      <td>318.80</td>\n",
              "      <td>47.0</td>\n",
              "      <td>75.0</td>\n",
              "      <td>14004.0</td>\n",
              "      <td>52</td>\n",
              "      <td>NaN</td>\n",
              "      <td>Краснодар</td>\n",
              "      <td>Рафаил</td>\n",
              "      <td>Верещагин</td>\n",
              "      <td>2018-05-25</td>\n",
              "      <td>ultra</td>\n",
              "      <td>1000</td>\n",
              "      <td>30720</td>\n",
              "      <td>3000</td>\n",
              "      <td>1950</td>\n",
              "      <td>150</td>\n",
              "      <td>1</td>\n",
              "      <td>1</td>\n",
              "    </tr>\n",
              "    <tr>\n",
              "      <th>3</th>\n",
              "      <td>1000</td>\n",
              "      <td>2018-08-01</td>\n",
              "      <td>389.87</td>\n",
              "      <td>52.0</td>\n",
              "      <td>81.0</td>\n",
              "      <td>14056.0</td>\n",
              "      <td>52</td>\n",
              "      <td>NaN</td>\n",
              "      <td>Краснодар</td>\n",
              "      <td>Рафаил</td>\n",
              "      <td>Верещагин</td>\n",
              "      <td>2018-05-25</td>\n",
              "      <td>ultra</td>\n",
              "      <td>1000</td>\n",
              "      <td>30720</td>\n",
              "      <td>3000</td>\n",
              "      <td>1950</td>\n",
              "      <td>150</td>\n",
              "      <td>1</td>\n",
              "      <td>1</td>\n",
              "    </tr>\n",
              "    <tr>\n",
              "      <th>4</th>\n",
              "      <td>1000</td>\n",
              "      <td>2018-09-01</td>\n",
              "      <td>440.14</td>\n",
              "      <td>58.0</td>\n",
              "      <td>57.0</td>\n",
              "      <td>14569.0</td>\n",
              "      <td>52</td>\n",
              "      <td>NaN</td>\n",
              "      <td>Краснодар</td>\n",
              "      <td>Рафаил</td>\n",
              "      <td>Верещагин</td>\n",
              "      <td>2018-05-25</td>\n",
              "      <td>ultra</td>\n",
              "      <td>1000</td>\n",
              "      <td>30720</td>\n",
              "      <td>3000</td>\n",
              "      <td>1950</td>\n",
              "      <td>150</td>\n",
              "      <td>1</td>\n",
              "      <td>1</td>\n",
              "    </tr>\n",
              "  </tbody>\n",
              "</table>\n",
              "</div>"
            ],
            "text/plain": [
              "   user_id      month  month_calls_duration  calls_total_in_month  \\\n",
              "0     1000 2018-05-01                150.06                  22.0   \n",
              "1     1000 2018-06-01                158.90                  43.0   \n",
              "2     1000 2018-07-01                318.80                  47.0   \n",
              "3     1000 2018-08-01                389.87                  52.0   \n",
              "4     1000 2018-09-01                440.14                  58.0   \n",
              "\n",
              "   sms_total_in_month  mb_total_in_month  age churn_date       city  \\\n",
              "0                22.0             2254.0   52        NaN  Краснодар   \n",
              "1                60.0            23234.0   52        NaN  Краснодар   \n",
              "2                75.0            14004.0   52        NaN  Краснодар   \n",
              "3                81.0            14056.0   52        NaN  Краснодар   \n",
              "4                57.0            14569.0   52        NaN  Краснодар   \n",
              "\n",
              "  first_name  last_name   reg_date tariff  messages_included  \\\n",
              "0     Рафаил  Верещагин 2018-05-25  ultra               1000   \n",
              "1     Рафаил  Верещагин 2018-05-25  ultra               1000   \n",
              "2     Рафаил  Верещагин 2018-05-25  ultra               1000   \n",
              "3     Рафаил  Верещагин 2018-05-25  ultra               1000   \n",
              "4     Рафаил  Верещагин 2018-05-25  ultra               1000   \n",
              "\n",
              "   mb_per_month_included  minutes_included  rub_monthly_fee  rub_per_gb  \\\n",
              "0                  30720              3000             1950         150   \n",
              "1                  30720              3000             1950         150   \n",
              "2                  30720              3000             1950         150   \n",
              "3                  30720              3000             1950         150   \n",
              "4                  30720              3000             1950         150   \n",
              "\n",
              "   rub_per_message  rub_per_minute  \n",
              "0                1               1  \n",
              "1                1               1  \n",
              "2                1               1  \n",
              "3                1               1  \n",
              "4                1               1  "
            ]
          },
          "metadata": {}
        },
        {
          "output_type": "display_data",
          "data": {
            "text/plain": [
              "user_id                     0\n",
              "month                       0\n",
              "month_calls_duration       40\n",
              "calls_total_in_month       40\n",
              "sms_total_in_month        497\n",
              "mb_total_in_month          11\n",
              "age                         0\n",
              "churn_date               3027\n",
              "city                        0\n",
              "first_name                  0\n",
              "last_name                   0\n",
              "reg_date                    0\n",
              "tariff                      0\n",
              "messages_included           0\n",
              "mb_per_month_included       0\n",
              "minutes_included            0\n",
              "rub_monthly_fee             0\n",
              "rub_per_gb                  0\n",
              "rub_per_message             0\n",
              "rub_per_minute              0\n",
              "dtype: int64"
            ]
          },
          "metadata": {}
        },
        {
          "execution_count": 25,
          "output_type": "execute_result",
          "data": {
            "text/plain": [
              "0"
            ]
          },
          "metadata": {}
        }
      ]
    },
    {
      "cell_type": "markdown",
      "source": "Заполним пропуски в данных month_calls_duration, calls_total_in_month, sms_total_in_month, mb_total_in_month (пользователи, которые не тратят интернет, или не пишут смс, или не звонят).",
      "metadata": {}
    },
    {
      "cell_type": "code",
      "source": "columns = ['month_calls_duration', 'calls_total_in_month', 'sms_total_in_month', 'mb_total_in_month']\nfor i in columns:\n    telecom_data[i] = telecom_data[i].fillna(0)\ndisplay(telecom_data.isna().sum())",
      "metadata": {},
      "execution_count": 26,
      "outputs": [
        {
          "output_type": "display_data",
          "data": {
            "text/plain": [
              "user_id                     0\n",
              "month                       0\n",
              "month_calls_duration        0\n",
              "calls_total_in_month        0\n",
              "sms_total_in_month          0\n",
              "mb_total_in_month           0\n",
              "age                         0\n",
              "churn_date               3027\n",
              "city                        0\n",
              "first_name                  0\n",
              "last_name                   0\n",
              "reg_date                    0\n",
              "tariff                      0\n",
              "messages_included           0\n",
              "mb_per_month_included       0\n",
              "minutes_included            0\n",
              "rub_monthly_fee             0\n",
              "rub_per_gb                  0\n",
              "rub_per_message             0\n",
              "rub_per_minute              0\n",
              "dtype: int64"
            ]
          },
          "metadata": {}
        }
      ]
    },
    {
      "cell_type": "code",
      "source": "#посчитаем платежи сверх тарифного плана\ndef above_tariff(row):\n    sms = (row['sms_total_in_month'] - row['messages_included']) * row['rub_per_message']\n    mins = (row['month_calls_duration'] - row['minutes_included']) * row['rub_per_minute']\n    mbs = np.ceil((row['mb_total_in_month'] - row['mb_per_month_included']) / 1024) * row['rub_per_gb'] \n    total = 0\n    for i in [sms, mins, mbs]:\n        if i > 0:\n            total += i\n    return total\ntelecom_data['above_tariff'] = telecom_data.apply(lambda x: above_tariff(x), axis=1)\n\n#посчитаем общую сумму платежей\ntelecom_data['total_paid'] = telecom_data['rub_monthly_fee'] + telecom_data['above_tariff']\ndisplay(telecom_data.sort_values(by='total_paid').tail())\npd.set_option('display.max_columns', None)",
      "metadata": {
        "scrolled": true
      },
      "execution_count": 27,
      "outputs": [
        {
          "output_type": "display_data",
          "data": {
            "text/html": [
              "<div>\n",
              "<style scoped>\n",
              "    .dataframe tbody tr th:only-of-type {\n",
              "        vertical-align: middle;\n",
              "    }\n",
              "\n",
              "    .dataframe tbody tr th {\n",
              "        vertical-align: top;\n",
              "    }\n",
              "\n",
              "    .dataframe thead th {\n",
              "        text-align: right;\n",
              "    }\n",
              "</style>\n",
              "<table border=\"1\" class=\"dataframe\">\n",
              "  <thead>\n",
              "    <tr style=\"text-align: right;\">\n",
              "      <th></th>\n",
              "      <th>user_id</th>\n",
              "      <th>month</th>\n",
              "      <th>month_calls_duration</th>\n",
              "      <th>calls_total_in_month</th>\n",
              "      <th>sms_total_in_month</th>\n",
              "      <th>mb_total_in_month</th>\n",
              "      <th>age</th>\n",
              "      <th>churn_date</th>\n",
              "      <th>city</th>\n",
              "      <th>first_name</th>\n",
              "      <th>...</th>\n",
              "      <th>tariff</th>\n",
              "      <th>messages_included</th>\n",
              "      <th>mb_per_month_included</th>\n",
              "      <th>minutes_included</th>\n",
              "      <th>rub_monthly_fee</th>\n",
              "      <th>rub_per_gb</th>\n",
              "      <th>rub_per_message</th>\n",
              "      <th>rub_per_minute</th>\n",
              "      <th>above_tariff</th>\n",
              "      <th>total_paid</th>\n",
              "    </tr>\n",
              "  </thead>\n",
              "  <tbody>\n",
              "    <tr>\n",
              "      <th>1793</th>\n",
              "      <td>1286</td>\n",
              "      <td>2018-12-01</td>\n",
              "      <td>693.79</td>\n",
              "      <td>95.0</td>\n",
              "      <td>68.0</td>\n",
              "      <td>35109.0</td>\n",
              "      <td>19</td>\n",
              "      <td>NaN</td>\n",
              "      <td>Москва</td>\n",
              "      <td>Рашид</td>\n",
              "      <td>...</td>\n",
              "      <td>smart</td>\n",
              "      <td>50</td>\n",
              "      <td>15360</td>\n",
              "      <td>500</td>\n",
              "      <td>550</td>\n",
              "      <td>200</td>\n",
              "      <td>3</td>\n",
              "      <td>3</td>\n",
              "      <td>4635.37</td>\n",
              "      <td>5185.37</td>\n",
              "    </tr>\n",
              "    <tr>\n",
              "      <th>1622</th>\n",
              "      <td>1261</td>\n",
              "      <td>2018-12-01</td>\n",
              "      <td>1015.89</td>\n",
              "      <td>141.0</td>\n",
              "      <td>22.0</td>\n",
              "      <td>32651.0</td>\n",
              "      <td>46</td>\n",
              "      <td>NaN</td>\n",
              "      <td>Казань</td>\n",
              "      <td>Мадина</td>\n",
              "      <td>...</td>\n",
              "      <td>smart</td>\n",
              "      <td>50</td>\n",
              "      <td>15360</td>\n",
              "      <td>500</td>\n",
              "      <td>550</td>\n",
              "      <td>200</td>\n",
              "      <td>3</td>\n",
              "      <td>3</td>\n",
              "      <td>4947.67</td>\n",
              "      <td>5497.67</td>\n",
              "    </tr>\n",
              "    <tr>\n",
              "      <th>3105</th>\n",
              "      <td>1486</td>\n",
              "      <td>2018-11-01</td>\n",
              "      <td>723.39</td>\n",
              "      <td>108.0</td>\n",
              "      <td>96.0</td>\n",
              "      <td>36267.0</td>\n",
              "      <td>35</td>\n",
              "      <td>NaN</td>\n",
              "      <td>Нижний Новгород</td>\n",
              "      <td>Матвей</td>\n",
              "      <td>...</td>\n",
              "      <td>smart</td>\n",
              "      <td>50</td>\n",
              "      <td>15360</td>\n",
              "      <td>500</td>\n",
              "      <td>550</td>\n",
              "      <td>200</td>\n",
              "      <td>3</td>\n",
              "      <td>3</td>\n",
              "      <td>5008.17</td>\n",
              "      <td>5558.17</td>\n",
              "    </tr>\n",
              "    <tr>\n",
              "      <th>260</th>\n",
              "      <td>1042</td>\n",
              "      <td>2018-12-01</td>\n",
              "      <td>680.16</td>\n",
              "      <td>121.0</td>\n",
              "      <td>75.0</td>\n",
              "      <td>37166.0</td>\n",
              "      <td>42</td>\n",
              "      <td>NaN</td>\n",
              "      <td>Хабаровск</td>\n",
              "      <td>Константин</td>\n",
              "      <td>...</td>\n",
              "      <td>smart</td>\n",
              "      <td>50</td>\n",
              "      <td>15360</td>\n",
              "      <td>500</td>\n",
              "      <td>550</td>\n",
              "      <td>200</td>\n",
              "      <td>3</td>\n",
              "      <td>3</td>\n",
              "      <td>5015.48</td>\n",
              "      <td>5565.48</td>\n",
              "    </tr>\n",
              "    <tr>\n",
              "      <th>3106</th>\n",
              "      <td>1486</td>\n",
              "      <td>2018-12-01</td>\n",
              "      <td>954.70</td>\n",
              "      <td>133.0</td>\n",
              "      <td>83.0</td>\n",
              "      <td>38553.0</td>\n",
              "      <td>35</td>\n",
              "      <td>NaN</td>\n",
              "      <td>Нижний Новгород</td>\n",
              "      <td>Матвей</td>\n",
              "      <td>...</td>\n",
              "      <td>smart</td>\n",
              "      <td>50</td>\n",
              "      <td>15360</td>\n",
              "      <td>500</td>\n",
              "      <td>550</td>\n",
              "      <td>200</td>\n",
              "      <td>3</td>\n",
              "      <td>3</td>\n",
              "      <td>6063.10</td>\n",
              "      <td>6613.10</td>\n",
              "    </tr>\n",
              "  </tbody>\n",
              "</table>\n",
              "<p>5 rows × 22 columns</p>\n",
              "</div>"
            ],
            "text/plain": [
              "      user_id      month  month_calls_duration  calls_total_in_month  \\\n",
              "1793     1286 2018-12-01                693.79                  95.0   \n",
              "1622     1261 2018-12-01               1015.89                 141.0   \n",
              "3105     1486 2018-11-01                723.39                 108.0   \n",
              "260      1042 2018-12-01                680.16                 121.0   \n",
              "3106     1486 2018-12-01                954.70                 133.0   \n",
              "\n",
              "      sms_total_in_month  mb_total_in_month  age churn_date             city  \\\n",
              "1793                68.0            35109.0   19        NaN           Москва   \n",
              "1622                22.0            32651.0   46        NaN           Казань   \n",
              "3105                96.0            36267.0   35        NaN  Нижний Новгород   \n",
              "260                 75.0            37166.0   42        NaN        Хабаровск   \n",
              "3106                83.0            38553.0   35        NaN  Нижний Новгород   \n",
              "\n",
              "      first_name  ... tariff messages_included mb_per_month_included  \\\n",
              "1793       Рашид  ...  smart                50                 15360   \n",
              "1622      Мадина  ...  smart                50                 15360   \n",
              "3105      Матвей  ...  smart                50                 15360   \n",
              "260   Константин  ...  smart                50                 15360   \n",
              "3106      Матвей  ...  smart                50                 15360   \n",
              "\n",
              "      minutes_included  rub_monthly_fee  rub_per_gb  rub_per_message  \\\n",
              "1793               500              550         200                3   \n",
              "1622               500              550         200                3   \n",
              "3105               500              550         200                3   \n",
              "260                500              550         200                3   \n",
              "3106               500              550         200                3   \n",
              "\n",
              "      rub_per_minute  above_tariff  total_paid  \n",
              "1793               3       4635.37     5185.37  \n",
              "1622               3       4947.67     5497.67  \n",
              "3105               3       5008.17     5558.17  \n",
              "260                3       5015.48     5565.48  \n",
              "3106               3       6063.10     6613.10  \n",
              "\n",
              "[5 rows x 22 columns]"
            ]
          },
          "metadata": {}
        }
      ]
    },
    {
      "cell_type": "markdown",
      "source": "## Анализ данных <a id='analysis'></a>",
      "metadata": {}
    },
    {
      "cell_type": "markdown",
      "source": "Проведем анализ платежей по тарифам.",
      "metadata": {}
    },
    {
      "cell_type": "code",
      "source": "display(telecom_data[['above_tariff', 'total_paid']].describe())\ndisplay(telecom_data['tariff'].value_counts())\ndisplay(telecom_data.groupby('tariff')['total_paid'].sum())",
      "metadata": {
        "scrolled": true
      },
      "execution_count": 28,
      "outputs": [
        {
          "output_type": "display_data",
          "data": {
            "text/html": [
              "<div>\n",
              "<style scoped>\n",
              "    .dataframe tbody tr th:only-of-type {\n",
              "        vertical-align: middle;\n",
              "    }\n",
              "\n",
              "    .dataframe tbody tr th {\n",
              "        vertical-align: top;\n",
              "    }\n",
              "\n",
              "    .dataframe thead th {\n",
              "        text-align: right;\n",
              "    }\n",
              "</style>\n",
              "<table border=\"1\" class=\"dataframe\">\n",
              "  <thead>\n",
              "    <tr style=\"text-align: right;\">\n",
              "      <th></th>\n",
              "      <th>above_tariff</th>\n",
              "      <th>total_paid</th>\n",
              "    </tr>\n",
              "  </thead>\n",
              "  <tbody>\n",
              "    <tr>\n",
              "      <th>count</th>\n",
              "      <td>3214.000000</td>\n",
              "      <td>3214.000000</td>\n",
              "    </tr>\n",
              "    <tr>\n",
              "      <th>mean</th>\n",
              "      <td>527.258563</td>\n",
              "      <td>1506.318923</td>\n",
              "    </tr>\n",
              "    <tr>\n",
              "      <th>std</th>\n",
              "      <td>749.130090</td>\n",
              "      <td>792.756078</td>\n",
              "    </tr>\n",
              "    <tr>\n",
              "      <th>min</th>\n",
              "      <td>0.000000</td>\n",
              "      <td>550.000000</td>\n",
              "    </tr>\n",
              "    <tr>\n",
              "      <th>25%</th>\n",
              "      <td>0.000000</td>\n",
              "      <td>740.717500</td>\n",
              "    </tr>\n",
              "    <tr>\n",
              "      <th>50%</th>\n",
              "      <td>120.630000</td>\n",
              "      <td>1564.190000</td>\n",
              "    </tr>\n",
              "    <tr>\n",
              "      <th>75%</th>\n",
              "      <td>890.000000</td>\n",
              "      <td>1950.000000</td>\n",
              "    </tr>\n",
              "    <tr>\n",
              "      <th>max</th>\n",
              "      <td>6063.100000</td>\n",
              "      <td>6613.100000</td>\n",
              "    </tr>\n",
              "  </tbody>\n",
              "</table>\n",
              "</div>"
            ],
            "text/plain": [
              "       above_tariff   total_paid\n",
              "count   3214.000000  3214.000000\n",
              "mean     527.258563  1506.318923\n",
              "std      749.130090   792.756078\n",
              "min        0.000000   550.000000\n",
              "25%        0.000000   740.717500\n",
              "50%      120.630000  1564.190000\n",
              "75%      890.000000  1950.000000\n",
              "max     6063.100000  6613.100000"
            ]
          },
          "metadata": {}
        },
        {
          "output_type": "display_data",
          "data": {
            "text/plain": [
              "smart    2229\n",
              "ultra     985\n",
              "Name: tariff, dtype: int64"
            ]
          },
          "metadata": {}
        },
        {
          "output_type": "display_data",
          "data": {
            "text/plain": [
              "tariff\n",
              "smart    2802209.02\n",
              "ultra    2039100.00\n",
              "Name: total_paid, dtype: float64"
            ]
          },
          "metadata": {}
        }
      ]
    },
    {
      "cell_type": "markdown",
      "source": "Таким образом, общая сумма платежей в месяц колеблется от 550 руб. (ежемесячный платеж без платежей сверх тарифа Смарт) до 6613 руб., среднее значение составляет - 1506 руб., а медианальное - 1564 руб. Количество клиентов, использующие тариф Смарт, больше, чем клиентов, использующий тариф Ультра, приблизительно в два раза. Тариф Смарт приносит больше выручки, чем Ультра. Построим диаграмму размаха по общей сумме платежей в разрезе тарифов.",
      "metadata": {}
    },
    {
      "cell_type": "code",
      "source": "telecom_data.boxplot('total_paid', by='tariff', figsize=(9,9)).set_ylim(50,7000);",
      "metadata": {},
      "execution_count": 29,
      "outputs": [
        {
          "output_type": "display_data",
          "data": {
            "image/png": "[encoded data removed]",
            "text/plain": [
              "<Figure size 648x648 with 1 Axes>"
            ]
          },
          "metadata": {
            "needs_background": "light"
          }
        }
      ]
    },
    {
      "cell_type": "markdown",
      "source": "Таким образом, для тарифа Смарт характерно скошенное распределение тогда, когда у Ультра все оплаты концентрируются около 2000 руб. Построим дополнительно по каждому из тарифу гистрограмму и выведем медиальное, среднее, дисперсию и стандартного отклонение по каждому из тарифов.",
      "metadata": {}
    },
    {
      "cell_type": "code",
      "source": "telecom_data[telecom_data['tariff'] == 'ultra']['total_paid'].plot(kind='hist', bins=10, grid=True, figsize = (5,5), alpha=0.5)\nplt.title('Тариф Ультра');",
      "metadata": {
        "scrolled": true
      },
      "execution_count": 30,
      "outputs": [
        {
          "output_type": "display_data",
          "data": {
            "image/png": "[encoded data removed]",
            "text/plain": [
              "<Figure size 360x360 with 1 Axes>"
            ]
          },
          "metadata": {
            "needs_background": "light"
          }
        }
      ]
    },
    {
      "cell_type": "code",
      "source": "telecom_data[telecom_data['tariff'] == 'smart']['total_paid'].plot(kind='hist', bins=10, grid=True, figsize = (5,5), alpha=0.5)\nplt.title('Тариф Смарт');",
      "metadata": {},
      "execution_count": 31,
      "outputs": [
        {
          "output_type": "display_data",
          "data": {
            "image/png": "[encoded data removed]",
            "text/plain": [
              "<Figure size 360x360 with 1 Axes>"
            ]
          },
          "metadata": {
            "needs_background": "light"
          }
        }
      ]
    },
    {
      "cell_type": "code",
      "source": "(telecom_data\n            .pivot_table(index = 'tariff', values = 'total_paid', aggfunc = ['median','mean','var','std'])\n            .style.format(\"{:.1f}\")\n)",
      "metadata": {},
      "execution_count": 32,
      "outputs": [
        {
          "execution_count": 32,
          "output_type": "execute_result",
          "data": {
            "text/html": [
              "<style  type=\"text/css\" >\n",
              "</style><table id=\"T_eca46_\" ><thead>    <tr>        <th class=\"blank level0\" ></th>        <th class=\"col_heading level0 col0\" >median</th>        <th class=\"col_heading level0 col1\" >mean</th>        <th class=\"col_heading level0 col2\" >var</th>        <th class=\"col_heading level0 col3\" >std</th>    </tr>    <tr>        <th class=\"blank level1\" ></th>        <th class=\"col_heading level1 col0\" >total_paid</th>        <th class=\"col_heading level1 col1\" >total_paid</th>        <th class=\"col_heading level1 col2\" >total_paid</th>        <th class=\"col_heading level1 col3\" >total_paid</th>    </tr>    <tr>        <th class=\"index_name level0\" >tariff</th>        <th class=\"blank\" ></th>        <th class=\"blank\" ></th>        <th class=\"blank\" ></th>        <th class=\"blank\" ></th>    </tr></thead><tbody>\n",
              "                <tr>\n",
              "                        <th id=\"T_eca46_level0_row0\" class=\"row_heading level0 row0\" >smart</th>\n",
              "                        <td id=\"T_eca46_row0_col0\" class=\"data row0 col0\" >961.7</td>\n",
              "                        <td id=\"T_eca46_row0_col1\" class=\"data row0 col1\" >1257.2</td>\n",
              "                        <td id=\"T_eca46_row0_col2\" class=\"data row0 col2\" >641149.1</td>\n",
              "                        <td id=\"T_eca46_row0_col3\" class=\"data row0 col3\" >800.7</td>\n",
              "            </tr>\n",
              "            <tr>\n",
              "                        <th id=\"T_eca46_level0_row1\" class=\"row_heading level0 row1\" >ultra</th>\n",
              "                        <td id=\"T_eca46_row1_col0\" class=\"data row1 col0\" >1950.0</td>\n",
              "                        <td id=\"T_eca46_row1_col1\" class=\"data row1 col1\" >2070.2</td>\n",
              "                        <td id=\"T_eca46_row1_col2\" class=\"data row1 col2\" >141516.7</td>\n",
              "                        <td id=\"T_eca46_row1_col3\" class=\"data row1 col3\" >376.2</td>\n",
              "            </tr>\n",
              "    </tbody></table>"
            ],
            "text/plain": [
              "<pandas.io.formats.style.Styler at 0x7f66cd791d30>"
            ]
          },
          "metadata": {}
        }
      ]
    },
    {
      "cell_type": "markdown",
      "source": "Анализ гистограмм и основных показателей выборки подтвердил, что пользователи тарифа Ультра в основном платят ежемесячную плату (1950 руб.). Тогда когда пользователи тарифа Смарт выходят за ежемесячную плату и используют дополнительные услуги. Также для Смарта характерно скошенное вправо распределение.",
      "metadata": {}
    },
    {
      "cell_type": "markdown",
      "source": "Проведем анализ по продолжительности звонков.",
      "metadata": {}
    },
    {
      "cell_type": "code",
      "source": "(telecom_data\n             .pivot_table(index = 'tariff', values = 'month_calls_duration', aggfunc = ['median','mean','var','std'])\n             .style.format(\"{:.1f}\")\n)",
      "metadata": {},
      "execution_count": 33,
      "outputs": [
        {
          "execution_count": 33,
          "output_type": "execute_result",
          "data": {
            "text/html": [
              "<style  type=\"text/css\" >\n",
              "</style><table id=\"T_1e883_\" ><thead>    <tr>        <th class=\"blank level0\" ></th>        <th class=\"col_heading level0 col0\" >median</th>        <th class=\"col_heading level0 col1\" >mean</th>        <th class=\"col_heading level0 col2\" >var</th>        <th class=\"col_heading level0 col3\" >std</th>    </tr>    <tr>        <th class=\"blank level1\" ></th>        <th class=\"col_heading level1 col0\" >month_calls_duration</th>        <th class=\"col_heading level1 col1\" >month_calls_duration</th>        <th class=\"col_heading level1 col2\" >month_calls_duration</th>        <th class=\"col_heading level1 col3\" >month_calls_duration</th>    </tr>    <tr>        <th class=\"index_name level0\" >tariff</th>        <th class=\"blank\" ></th>        <th class=\"blank\" ></th>        <th class=\"blank\" ></th>        <th class=\"blank\" ></th>    </tr></thead><tbody>\n",
              "                <tr>\n",
              "                        <th id=\"T_1e883_level0_row0\" class=\"row_heading level0 row0\" >smart</th>\n",
              "                        <td id=\"T_1e883_row0_col0\" class=\"data row0 col0\" >398.0</td>\n",
              "                        <td id=\"T_1e883_row0_col1\" class=\"data row0 col1\" >394.4</td>\n",
              "                        <td id=\"T_1e883_row0_col2\" class=\"data row0 col2\" >32386.4</td>\n",
              "                        <td id=\"T_1e883_row0_col3\" class=\"data row0 col3\" >180.0</td>\n",
              "            </tr>\n",
              "            <tr>\n",
              "                        <th id=\"T_1e883_level0_row1\" class=\"row_heading level0 row1\" >ultra</th>\n",
              "                        <td id=\"T_1e883_row1_col0\" class=\"data row1 col0\" >488.1</td>\n",
              "                        <td id=\"T_1e883_row1_col1\" class=\"data row1 col1\" >497.1</td>\n",
              "                        <td id=\"T_1e883_row1_col2\" class=\"data row1 col2\" >89942.5</td>\n",
              "                        <td id=\"T_1e883_row1_col3\" class=\"data row1 col3\" >299.9</td>\n",
              "            </tr>\n",
              "    </tbody></table>"
            ],
            "text/plain": [
              "<pandas.io.formats.style.Styler at 0x7f66cd763d60>"
            ]
          },
          "metadata": {}
        }
      ]
    },
    {
      "cell_type": "code",
      "source": "telecom_data[telecom_data['tariff'] == 'smart']['month_calls_duration'].plot(kind='hist', bins=10, grid=True, figsize = (5,5), alpha=0.5)\ntelecom_data[telecom_data['tariff'] == 'ultra']['month_calls_duration'].plot(kind='hist', bins=10, grid=True, figsize = (5,5), alpha=0.5)\nplt.title('Звонки в минутах в месяц')\nplt.legend(['smart', 'ultra']);",
      "metadata": {},
      "execution_count": 34,
      "outputs": [
        {
          "output_type": "display_data",
          "data": {
            "image/png": "[encoded data removed]",
            "text/plain": [
              "<Figure size 360x360 with 1 Axes>"
            ]
          },
          "metadata": {
            "needs_background": "light"
          }
        }
      ]
    },
    {
      "cell_type": "markdown",
      "source": "На Смарте клиенты в месяц говорят около 400 минут, на Ультре - около 490 минут в месяц. Таким образом, на Смарте пользователи практически выговаривают весь лимит звонков (500 минут), остается запас в 100 минут, а на Ультре - остается значительный запас бесплатных минут (лимит - 3000 минут). Среднее и медиана практически совпадают на обоих тарифах.",
      "metadata": {}
    },
    {
      "cell_type": "markdown",
      "source": "Проведем анализ по используемым мб.",
      "metadata": {}
    },
    {
      "cell_type": "code",
      "source": "(telecom_data\n            .pivot_table(index = 'tariff', values = 'mb_total_in_month', aggfunc = ['median','mean','var','std'])\n            .style.format(\"{:.1f}\")\n)",
      "metadata": {},
      "execution_count": 35,
      "outputs": [
        {
          "execution_count": 35,
          "output_type": "execute_result",
          "data": {
            "text/html": [
              "<style  type=\"text/css\" >\n",
              "</style><table id=\"T_f49d6_\" ><thead>    <tr>        <th class=\"blank level0\" ></th>        <th class=\"col_heading level0 col0\" >median</th>        <th class=\"col_heading level0 col1\" >mean</th>        <th class=\"col_heading level0 col2\" >var</th>        <th class=\"col_heading level0 col3\" >std</th>    </tr>    <tr>        <th class=\"blank level1\" ></th>        <th class=\"col_heading level1 col0\" >mb_total_in_month</th>        <th class=\"col_heading level1 col1\" >mb_total_in_month</th>        <th class=\"col_heading level1 col2\" >mb_total_in_month</th>        <th class=\"col_heading level1 col3\" >mb_total_in_month</th>    </tr>    <tr>        <th class=\"index_name level0\" >tariff</th>        <th class=\"blank\" ></th>        <th class=\"blank\" ></th>        <th class=\"blank\" ></th>        <th class=\"blank\" ></th>    </tr></thead><tbody>\n",
              "                <tr>\n",
              "                        <th id=\"T_f49d6_level0_row0\" class=\"row_heading level0 row0\" >smart</th>\n",
              "                        <td id=\"T_f49d6_row0_col0\" class=\"data row0 col0\" >16507.0</td>\n",
              "                        <td id=\"T_f49d6_row0_col1\" class=\"data row0 col1\" >16208.9</td>\n",
              "                        <td id=\"T_f49d6_row0_col2\" class=\"data row0 col2\" >34462562.8</td>\n",
              "                        <td id=\"T_f49d6_row0_col3\" class=\"data row0 col3\" >5870.5</td>\n",
              "            </tr>\n",
              "            <tr>\n",
              "                        <th id=\"T_f49d6_level0_row1\" class=\"row_heading level0 row1\" >ultra</th>\n",
              "                        <td id=\"T_f49d6_row1_col0\" class=\"data row1 col0\" >19309.0</td>\n",
              "                        <td id=\"T_f49d6_row1_col1\" class=\"data row1 col1\" >19469.3</td>\n",
              "                        <td id=\"T_f49d6_row1_col2\" class=\"data row1 col2\" >101751558.0</td>\n",
              "                        <td id=\"T_f49d6_row1_col3\" class=\"data row1 col3\" >10087.2</td>\n",
              "            </tr>\n",
              "    </tbody></table>"
            ],
            "text/plain": [
              "<pandas.io.formats.style.Styler at 0x7f66cd3f72b0>"
            ]
          },
          "metadata": {}
        }
      ]
    },
    {
      "cell_type": "code",
      "source": "telecom_data[telecom_data['tariff'] == 'smart']['mb_total_in_month'].plot(kind='hist', bins=10, grid=True, figsize = (5,5), alpha=0.5)\ntelecom_data[telecom_data['tariff'] == 'ultra']['mb_total_in_month'].plot(kind='hist', bins=10, grid=True, figsize = (5,5), alpha=0.5)\nplt.title('Интернет в МБ в месяц')\nplt.legend(['smart', 'ultra']);",
      "metadata": {},
      "execution_count": 36,
      "outputs": [
        {
          "output_type": "display_data",
          "data": {
            "image/png": "[encoded data removed]",
            "text/plain": [
              "<Figure size 360x360 with 1 Axes>"
            ]
          },
          "metadata": {
            "needs_background": "light"
          }
        }
      ]
    },
    {
      "cell_type": "markdown",
      "source": "На Смарте клиенты в месяц используют около 16 гб, на Ультре - около 19 гб в месяц. Таким образом, на Смарте пользователи используют весь лимит (15 гб) и даже больше, а на Ультре - остается значительный запас бесплатных гб (лимит - 30 гб). Среднее и медиана практически совпадают на обоих тарифах.",
      "metadata": {}
    },
    {
      "cell_type": "markdown",
      "source": "Проведем анализ по количеству сообщений.",
      "metadata": {}
    },
    {
      "cell_type": "code",
      "source": "(telecom_data\n             .pivot_table(index = 'tariff', values = 'sms_total_in_month', aggfunc = ['median','mean','var','std'])\n             .style.format(\"{:.1f}\")\n)",
      "metadata": {},
      "execution_count": 37,
      "outputs": [
        {
          "execution_count": 37,
          "output_type": "execute_result",
          "data": {
            "text/html": [
              "<style  type=\"text/css\" >\n",
              "</style><table id=\"T_82065_\" ><thead>    <tr>        <th class=\"blank level0\" ></th>        <th class=\"col_heading level0 col0\" >median</th>        <th class=\"col_heading level0 col1\" >mean</th>        <th class=\"col_heading level0 col2\" >var</th>        <th class=\"col_heading level0 col3\" >std</th>    </tr>    <tr>        <th class=\"blank level1\" ></th>        <th class=\"col_heading level1 col0\" >sms_total_in_month</th>        <th class=\"col_heading level1 col1\" >sms_total_in_month</th>        <th class=\"col_heading level1 col2\" >sms_total_in_month</th>        <th class=\"col_heading level1 col3\" >sms_total_in_month</th>    </tr>    <tr>        <th class=\"index_name level0\" >tariff</th>        <th class=\"blank\" ></th>        <th class=\"blank\" ></th>        <th class=\"blank\" ></th>        <th class=\"blank\" ></th>    </tr></thead><tbody>\n",
              "                <tr>\n",
              "                        <th id=\"T_82065_level0_row0\" class=\"row_heading level0 row0\" >smart</th>\n",
              "                        <td id=\"T_82065_row0_col0\" class=\"data row0 col0\" >28.0</td>\n",
              "                        <td id=\"T_82065_row0_col1\" class=\"data row0 col1\" >33.4</td>\n",
              "                        <td id=\"T_82065_row0_col2\" class=\"data row0 col2\" >796.8</td>\n",
              "                        <td id=\"T_82065_row0_col3\" class=\"data row0 col3\" >28.2</td>\n",
              "            </tr>\n",
              "            <tr>\n",
              "                        <th id=\"T_82065_level0_row1\" class=\"row_heading level0 row1\" >ultra</th>\n",
              "                        <td id=\"T_82065_row1_col0\" class=\"data row1 col0\" >38.0</td>\n",
              "                        <td id=\"T_82065_row1_col1\" class=\"data row1 col1\" >49.4</td>\n",
              "                        <td id=\"T_82065_row1_col2\" class=\"data row1 col2\" >2285.3</td>\n",
              "                        <td id=\"T_82065_row1_col3\" class=\"data row1 col3\" >47.8</td>\n",
              "            </tr>\n",
              "    </tbody></table>"
            ],
            "text/plain": [
              "<pandas.io.formats.style.Styler at 0x7f66cd388490>"
            ]
          },
          "metadata": {}
        }
      ]
    },
    {
      "cell_type": "code",
      "source": "telecom_data[telecom_data['tariff'] == 'smart']['sms_total_in_month'].plot(kind='hist', bins=10, grid=True, figsize = (5,5), alpha=0.5)\ntelecom_data[telecom_data['tariff'] == 'ultra']['sms_total_in_month'].plot(kind='hist', bins=10, grid=True, figsize = (5,5), alpha=0.5)\nplt.title('СМС в месяц')\nplt.legend(['smart', 'ultra'])",
      "metadata": {
        "scrolled": true
      },
      "execution_count": 38,
      "outputs": [
        {
          "execution_count": 38,
          "output_type": "execute_result",
          "data": {
            "text/plain": [
              "<matplotlib.legend.Legend at 0x7f66cd2a7c70>"
            ]
          },
          "metadata": {}
        },
        {
          "output_type": "display_data",
          "data": {
            "image/png": "[encoded data removed]",
            "text/plain": [
              "<Figure size 360x360 with 1 Axes>"
            ]
          },
          "metadata": {
            "needs_background": "light"
          }
        }
      ]
    },
    {
      "cell_type": "markdown",
      "source": "Поведение пользователей выглядит похожим. На обоих тарифах практически не пользуются смс, среднее количество в месяц на обоих тарифах в пределах бесплатного лимита (Смарт - 50, Ультра -  1000). ",
      "metadata": {}
    },
    {
      "cell_type": "markdown",
      "source": "## Проверка гипотез <a id='hypothesis'></a>",
      "metadata": {}
    },
    {
      "cell_type": "markdown",
      "source": "Напишем функцию для удаления выбросов.",
      "metadata": {}
    },
    {
      "cell_type": "code",
      "source": "def delete_outliers(telecom_data, column, graphic=0, x = 10, y = 10):\n    q1 = telecom_data[column].quantile(0.25)                 \n    q3 = telecom_data[column].quantile(0.75)\n    iqr = q3 - q1\n    iqr_test = (telecom_data[column] >= (q1 - 1.5 * iqr)) & (telecom_data[column] <= (q3 + 1.5 * iqr))\n    if graphic == 1:\n        return telecom_data.loc[iqr_test].boxplot([column], figsize=(x,y))\n    else:\n        return telecom_data.loc[iqr_test]",
      "metadata": {},
      "execution_count": 39,
      "outputs": []
    },
    {
      "cell_type": "markdown",
      "source": "Будем использовать t-критерий Стьюдента, так как сравниваемые выборки независимы между собой.\n\nПроверим, что средняя выручка пользователей тарифов «Ультра» и «Смарт» различаются. Для это сформулируем нулевую и альтернативную гипотезы:\n\n**H0:** выручка пользователей тарифов «Ультра» и «Смарт» не различается.  \n**H1:** выручка пользователей тарифов «Ультра» и «Смарт» различается.",
      "metadata": {}
    },
    {
      "cell_type": "code",
      "source": "ultra = telecom_data[telecom_data['tariff'] == 'ultra']\nsmart = telecom_data[telecom_data['tariff'] == 'smart']\nultra = delete_outliers(ultra, 'total_paid', 0)\nultra = telecom_data['total_paid']\nsmart = delete_outliers(smart, 'total_paid', 0)\nsmart = smart['total_paid']\nalpha = 0.05\nresults = st.ttest_ind(ultra, smart)\nprint('p-значение:', results.pvalue)\n\nif (results.pvalue < alpha):\n    print(\"Отвергаем нулевую гипотезу\")\nelse:\n    print(\"Не получилось отвергнуть нулевую гипотезу\")",
      "metadata": {
        "scrolled": true
      },
      "execution_count": 40,
      "outputs": [
        {
          "name": "stdout",
          "output_type": "stream",
          "text": "p-значение: 1.4436073750351825e-43\n\nОтвергаем нулевую гипотезу\n"
        }
      ]
    },
    {
      "cell_type": "markdown",
      "source": "Таким образом, выручка пользователей тарифов «Ультра» и «Смарт» различается.",
      "metadata": {}
    },
    {
      "cell_type": "markdown",
      "source": "Проверим, что средняя выручка пользователей из Москвы отличается от выручки пользователей из других регионов. Для это сформулируем нулевую и альтернативную гипотезы:\n\n**H0:** средняя выручка пользователей из Москвы не отличается от выручки пользователей из других регионов.  \n**H1:** средняя выручка пользователей из Москвы отличается от выручки пользователей из других регионов.",
      "metadata": {}
    },
    {
      "cell_type": "code",
      "source": "telecom_data['region'] = np.where(telecom_data['city'] == 'Москва', 'Москва', 'Другие')\nmoscow = telecom_data[telecom_data['region'] == 'Москва']\nother = telecom_data[telecom_data['region'] == 'Другие']\nmoscow = delete_outliers(moscow, 'total_paid', 0)\nmoscow = moscow['total_paid']\nother = delete_outliers(other, 'total_paid', 0)\nother = other['total_paid']\nalpha = 0.05\nresults = st.ttest_ind(moscow, other)\nprint('p-значение:', results.pvalue)\n\nif (results.pvalue < alpha):\n    print(\"Отвергаем нулевую гипотезу\")\nelse:\n    print(\"Не получилось отвергнуть нулевую гипотезу\")",
      "metadata": {},
      "execution_count": 41,
      "outputs": [
        {
          "name": "stdout",
          "output_type": "stream",
          "text": "p-значение: 0.242673583054445\n\nНе получилось отвергнуть нулевую гипотезу\n"
        }
      ]
    },
    {
      "cell_type": "markdown",
      "source": "Таким образом, с вероятностью в 24% такой результат может быть получен случайно. Средняя выручка пользователей из Москвы может не отличается от выручки пользователей из других регионов.",
      "metadata": {}
    },
    {
      "cell_type": "markdown",
      "source": "## Общий ввод <a id='conclusion'></a>\nТаким образом, проанализировав данные 500 пользователей «Мегалайна» за 2018 год было выявлено:\n1. Общая сумма платежей в месяц колеблется от 550 руб. до 6613 руб. \n2. Количество клиентов, использующие тариф Смарт, больше, чем клиентов, использующий тариф Ультра, приблизительно в два раза. Тариф Смарт приносит больше выручки, чем Ультра.\n3. Пользователи тарифа Ультра в основном платят ежемесячную плату (1950 руб.) тогда, когда пользователи тарифа Смарт выходят за ежемесячную плату и используют дополнительные услуги (минуты и гб).\n4. На Смарте пользователи практически выговаривают весь лимит звонков, а на Ультре - остается значительный запас бесплатных минут. \n5. На Смарте клиенты используют сверх лимита бесплатного интернета, а на Ультре - остается значительный запас бесплатных гб.\n6. На обоих тарифах практически не пользуются смс.\n7. Средняя выручка пользователей тарифов «Ультра» и «Смарт» различается.\n8. Средняя выручка пользователей из Москвы не отличается от выручки пользователей из других регионов. \n\nРекомендуется провести оптимизацию тарифов, на Смарте клиенты близки к лимитам, то на Ультре - остаются большие неизрасходованные запасы минут, гб и смс. При этом выручка от Смарта выше, чем от Ультры.\n",
      "metadata": {}
    }
  ]
}