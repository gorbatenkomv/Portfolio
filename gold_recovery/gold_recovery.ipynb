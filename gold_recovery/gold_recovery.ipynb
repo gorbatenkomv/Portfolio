{
  "metadata": {
    "ExecuteTimeLog": [
      {
        "duration": 1509,
        "start_time": "2022-05-23T07:13:31.595Z"
      },
      {
        "duration": 930,
        "start_time": "2022-05-23T07:51:49.445Z"
      },
      {
        "duration": 925,
        "start_time": "2022-05-23T07:52:07.395Z"
      },
      {
        "duration": 817,
        "start_time": "2022-05-23T07:52:21.579Z"
      },
      {
        "duration": 48,
        "start_time": "2022-05-23T07:53:37.480Z"
      },
      {
        "duration": 817,
        "start_time": "2022-05-23T08:26:08.036Z"
      },
      {
        "duration": 44,
        "start_time": "2022-05-23T14:56:03.348Z"
      },
      {
        "duration": 24,
        "start_time": "2022-05-23T14:56:20.628Z"
      },
      {
        "duration": 40,
        "start_time": "2022-05-23T14:57:45.272Z"
      },
      {
        "duration": 4,
        "start_time": "2022-05-23T14:57:58.533Z"
      },
      {
        "duration": 53,
        "start_time": "2022-05-23T14:58:15.981Z"
      },
      {
        "duration": 1391,
        "start_time": "2022-05-23T14:58:41.851Z"
      },
      {
        "duration": 1822,
        "start_time": "2022-05-23T14:58:43.245Z"
      },
      {
        "duration": 46,
        "start_time": "2022-05-23T14:58:45.069Z"
      },
      {
        "duration": 141,
        "start_time": "2022-05-23T14:58:45.117Z"
      },
      {
        "duration": 5,
        "start_time": "2022-05-23T14:59:07.327Z"
      },
      {
        "duration": 45,
        "start_time": "2022-05-23T14:59:11.736Z"
      },
      {
        "duration": 45,
        "start_time": "2022-05-23T14:59:20.035Z"
      },
      {
        "duration": 1328,
        "start_time": "2022-05-24T06:12:06.914Z"
      },
      {
        "duration": 3505,
        "start_time": "2022-05-24T06:12:08.245Z"
      },
      {
        "duration": 63,
        "start_time": "2022-05-24T06:12:11.752Z"
      },
      {
        "duration": 135,
        "start_time": "2022-05-24T06:12:11.817Z"
      },
      {
        "duration": 1385,
        "start_time": "2022-05-25T21:28:01.424Z"
      },
      {
        "duration": 3298,
        "start_time": "2022-05-25T21:28:02.812Z"
      },
      {
        "duration": 68,
        "start_time": "2022-05-25T21:28:06.112Z"
      },
      {
        "duration": 143,
        "start_time": "2022-05-25T21:28:06.183Z"
      },
      {
        "duration": 0,
        "start_time": "2022-05-25T21:28:06.328Z"
      },
      {
        "duration": 6,
        "start_time": "2022-05-25T21:52:09.888Z"
      },
      {
        "duration": 334,
        "start_time": "2022-05-25T21:52:14.568Z"
      },
      {
        "duration": 6,
        "start_time": "2022-05-25T21:52:55.571Z"
      },
      {
        "duration": 1305,
        "start_time": "2022-05-28T14:47:05.684Z"
      },
      {
        "duration": 3633,
        "start_time": "2022-05-28T14:47:06.992Z"
      },
      {
        "duration": 104,
        "start_time": "2022-05-28T14:47:10.627Z"
      },
      {
        "duration": 431,
        "start_time": "2022-05-28T14:47:10.733Z"
      },
      {
        "duration": 5,
        "start_time": "2022-05-28T14:47:11.166Z"
      },
      {
        "duration": 829,
        "start_time": "2022-05-28T14:47:11.173Z"
      },
      {
        "duration": 0,
        "start_time": "2022-05-28T14:47:12.004Z"
      },
      {
        "duration": 447,
        "start_time": "2022-05-28T15:27:43.476Z"
      },
      {
        "duration": 472,
        "start_time": "2022-05-28T15:27:48.129Z"
      },
      {
        "duration": 12,
        "start_time": "2022-05-28T15:27:55.558Z"
      },
      {
        "duration": 11,
        "start_time": "2022-05-28T15:28:23.770Z"
      },
      {
        "duration": 460,
        "start_time": "2022-05-28T15:28:35.998Z"
      },
      {
        "duration": 11,
        "start_time": "2022-05-28T15:28:43.836Z"
      },
      {
        "duration": 31,
        "start_time": "2022-05-28T15:29:49.668Z"
      },
      {
        "duration": 18,
        "start_time": "2022-05-28T15:29:55.926Z"
      },
      {
        "duration": 12,
        "start_time": "2022-05-28T15:30:04.882Z"
      },
      {
        "duration": 1224,
        "start_time": "2022-05-28T15:37:30.988Z"
      },
      {
        "duration": 919,
        "start_time": "2022-05-28T15:37:32.215Z"
      },
      {
        "duration": 29,
        "start_time": "2022-05-28T15:37:33.136Z"
      },
      {
        "duration": 4,
        "start_time": "2022-05-28T15:37:33.167Z"
      },
      {
        "duration": 6,
        "start_time": "2022-05-28T15:37:33.173Z"
      },
      {
        "duration": 0,
        "start_time": "2022-05-28T15:37:33.180Z"
      },
      {
        "duration": 0,
        "start_time": "2022-05-28T15:37:33.182Z"
      },
      {
        "duration": 0,
        "start_time": "2022-05-28T15:37:33.183Z"
      },
      {
        "duration": 0,
        "start_time": "2022-05-28T15:37:33.185Z"
      },
      {
        "duration": 1177,
        "start_time": "2022-05-28T15:37:55.805Z"
      },
      {
        "duration": 954,
        "start_time": "2022-05-28T15:37:56.985Z"
      },
      {
        "duration": 49,
        "start_time": "2022-05-28T15:37:57.941Z"
      },
      {
        "duration": 4,
        "start_time": "2022-05-28T15:37:57.993Z"
      },
      {
        "duration": 27,
        "start_time": "2022-05-28T15:37:57.999Z"
      },
      {
        "duration": 0,
        "start_time": "2022-05-28T15:37:58.029Z"
      },
      {
        "duration": 0,
        "start_time": "2022-05-28T15:37:58.030Z"
      },
      {
        "duration": 0,
        "start_time": "2022-05-28T15:37:58.031Z"
      },
      {
        "duration": 0,
        "start_time": "2022-05-28T15:37:58.032Z"
      },
      {
        "duration": 286,
        "start_time": "2022-05-28T15:38:27.208Z"
      },
      {
        "duration": 684,
        "start_time": "2022-05-28T15:49:59.178Z"
      },
      {
        "duration": 20,
        "start_time": "2022-05-28T15:50:30.111Z"
      },
      {
        "duration": 593,
        "start_time": "2022-05-28T15:50:43.661Z"
      },
      {
        "duration": 12,
        "start_time": "2022-05-28T15:50:55.725Z"
      },
      {
        "duration": 11,
        "start_time": "2022-05-28T15:51:28.234Z"
      },
      {
        "duration": 12,
        "start_time": "2022-05-28T15:51:53.305Z"
      },
      {
        "duration": 784,
        "start_time": "2022-05-28T15:55:24.870Z"
      },
      {
        "duration": 32,
        "start_time": "2022-05-28T16:12:12.825Z"
      },
      {
        "duration": 30,
        "start_time": "2022-05-28T16:12:25.834Z"
      },
      {
        "duration": 12,
        "start_time": "2022-05-28T16:12:40.323Z"
      },
      {
        "duration": 7,
        "start_time": "2022-05-28T16:13:22.279Z"
      },
      {
        "duration": 8,
        "start_time": "2022-05-28T16:15:29.905Z"
      },
      {
        "duration": 47,
        "start_time": "2022-05-28T16:16:31.957Z"
      },
      {
        "duration": 17,
        "start_time": "2022-05-28T16:16:38.989Z"
      },
      {
        "duration": 12,
        "start_time": "2022-05-28T16:19:13.332Z"
      },
      {
        "duration": 14,
        "start_time": "2022-05-28T16:20:14.277Z"
      },
      {
        "duration": 19,
        "start_time": "2022-05-28T16:21:14.864Z"
      },
      {
        "duration": 17,
        "start_time": "2022-05-28T16:21:35.374Z"
      },
      {
        "duration": 28,
        "start_time": "2022-05-28T16:22:28.288Z"
      },
      {
        "duration": 275,
        "start_time": "2022-05-28T16:22:45.668Z"
      },
      {
        "duration": 34,
        "start_time": "2022-05-28T16:23:05.539Z"
      },
      {
        "duration": 34,
        "start_time": "2022-05-28T16:23:49.744Z"
      },
      {
        "duration": 38,
        "start_time": "2022-05-28T16:23:59.200Z"
      },
      {
        "duration": 36,
        "start_time": "2022-05-28T16:24:17.698Z"
      },
      {
        "duration": 34,
        "start_time": "2022-05-28T16:25:07.564Z"
      },
      {
        "duration": 42,
        "start_time": "2022-05-28T16:25:42.772Z"
      },
      {
        "duration": 35,
        "start_time": "2022-05-28T16:25:49.784Z"
      },
      {
        "duration": 36,
        "start_time": "2022-05-28T16:27:19.864Z"
      },
      {
        "duration": 40,
        "start_time": "2022-05-28T16:28:34.144Z"
      },
      {
        "duration": 36,
        "start_time": "2022-05-28T16:29:01.384Z"
      },
      {
        "duration": 16,
        "start_time": "2022-05-28T16:30:59.794Z"
      },
      {
        "duration": 28,
        "start_time": "2022-05-28T16:46:14.063Z"
      },
      {
        "duration": 24,
        "start_time": "2022-05-28T16:47:47.930Z"
      },
      {
        "duration": 1168,
        "start_time": "2022-05-28T16:48:11.317Z"
      },
      {
        "duration": 1000,
        "start_time": "2022-05-28T16:48:12.488Z"
      },
      {
        "duration": 64,
        "start_time": "2022-05-28T16:48:13.490Z"
      },
      {
        "duration": 4,
        "start_time": "2022-05-28T16:48:13.556Z"
      },
      {
        "duration": 321,
        "start_time": "2022-05-28T16:48:13.562Z"
      },
      {
        "duration": 12,
        "start_time": "2022-05-28T16:48:13.884Z"
      },
      {
        "duration": 36,
        "start_time": "2022-05-28T16:48:13.898Z"
      },
      {
        "duration": 28,
        "start_time": "2022-05-28T16:48:13.936Z"
      },
      {
        "duration": 857,
        "start_time": "2022-05-28T16:48:13.966Z"
      },
      {
        "duration": 0,
        "start_time": "2022-05-28T16:48:14.825Z"
      },
      {
        "duration": 25,
        "start_time": "2022-05-28T16:49:17.372Z"
      },
      {
        "duration": 25,
        "start_time": "2022-05-28T16:50:25.425Z"
      },
      {
        "duration": 24,
        "start_time": "2022-05-28T16:50:50.835Z"
      },
      {
        "duration": 703,
        "start_time": "2022-05-28T17:18:58.059Z"
      },
      {
        "duration": 719,
        "start_time": "2022-05-28T17:20:24.535Z"
      },
      {
        "duration": 699,
        "start_time": "2022-05-28T17:20:39.266Z"
      },
      {
        "duration": 1266,
        "start_time": "2022-05-28T17:20:55.045Z"
      },
      {
        "duration": 837,
        "start_time": "2022-05-28T17:20:56.313Z"
      },
      {
        "duration": 41,
        "start_time": "2022-05-28T17:20:57.151Z"
      },
      {
        "duration": 4,
        "start_time": "2022-05-28T17:20:57.194Z"
      },
      {
        "duration": 316,
        "start_time": "2022-05-28T17:20:57.223Z"
      },
      {
        "duration": 13,
        "start_time": "2022-05-28T17:20:57.540Z"
      },
      {
        "duration": 14,
        "start_time": "2022-05-28T17:20:57.555Z"
      },
      {
        "duration": 53,
        "start_time": "2022-05-28T17:20:57.571Z"
      },
      {
        "duration": 3,
        "start_time": "2022-05-28T17:20:57.625Z"
      },
      {
        "duration": 11015,
        "start_time": "2022-05-28T17:20:57.630Z"
      },
      {
        "duration": 266,
        "start_time": "2022-05-28T17:21:08.646Z"
      },
      {
        "duration": 1188,
        "start_time": "2022-05-28T17:39:41.962Z"
      },
      {
        "duration": 10799,
        "start_time": "2022-05-28T17:39:59.685Z"
      },
      {
        "duration": 44,
        "start_time": "2022-05-28T18:43:26.432Z"
      },
      {
        "duration": 167,
        "start_time": "2022-05-28T18:43:34.954Z"
      },
      {
        "duration": 1312,
        "start_time": "2022-05-28T18:43:52.896Z"
      },
      {
        "duration": 2365,
        "start_time": "2022-05-28T18:44:30.358Z"
      },
      {
        "duration": 2765,
        "start_time": "2022-05-28T18:49:48.458Z"
      },
      {
        "duration": 2863,
        "start_time": "2022-05-28T18:50:56.636Z"
      },
      {
        "duration": 577,
        "start_time": "2022-05-28T18:51:09.942Z"
      },
      {
        "duration": 2304,
        "start_time": "2022-05-28T18:51:23.809Z"
      },
      {
        "duration": 29,
        "start_time": "2022-05-28T19:01:56.071Z"
      },
      {
        "duration": 38,
        "start_time": "2022-05-28T19:02:32.873Z"
      },
      {
        "duration": 11924,
        "start_time": "2022-05-28T19:02:44.390Z"
      },
      {
        "duration": 570,
        "start_time": "2022-05-28T19:09:09.866Z"
      },
      {
        "duration": 550,
        "start_time": "2022-05-28T19:09:28.348Z"
      },
      {
        "duration": 2702,
        "start_time": "2022-05-28T19:10:45.710Z"
      },
      {
        "duration": 2424,
        "start_time": "2022-05-28T19:13:34.338Z"
      },
      {
        "duration": 2322,
        "start_time": "2022-05-28T19:13:39.773Z"
      },
      {
        "duration": 181,
        "start_time": "2022-05-28T19:14:56.750Z"
      },
      {
        "duration": 2214,
        "start_time": "2022-05-28T19:16:02.922Z"
      },
      {
        "duration": 22,
        "start_time": "2022-05-28T19:16:19.971Z"
      },
      {
        "duration": 2990,
        "start_time": "2022-05-28T19:17:45.325Z"
      },
      {
        "duration": 446,
        "start_time": "2022-05-28T19:25:16.252Z"
      },
      {
        "duration": 468,
        "start_time": "2022-05-28T19:26:27.961Z"
      },
      {
        "duration": 406,
        "start_time": "2022-05-28T19:26:42.147Z"
      },
      {
        "duration": 402,
        "start_time": "2022-05-28T19:27:09.308Z"
      },
      {
        "duration": 626,
        "start_time": "2022-05-28T19:27:32.285Z"
      },
      {
        "duration": 844,
        "start_time": "2022-05-28T19:28:30.197Z"
      },
      {
        "duration": 484,
        "start_time": "2022-05-28T19:28:41.353Z"
      },
      {
        "duration": 719,
        "start_time": "2022-05-28T19:33:41.858Z"
      },
      {
        "duration": 550,
        "start_time": "2022-05-28T19:34:00.024Z"
      },
      {
        "duration": 528,
        "start_time": "2022-05-28T19:34:22.113Z"
      },
      {
        "duration": 520,
        "start_time": "2022-05-28T19:39:00.197Z"
      },
      {
        "duration": 801,
        "start_time": "2022-05-28T19:42:01.176Z"
      },
      {
        "duration": 522,
        "start_time": "2022-05-28T19:55:14.144Z"
      },
      {
        "duration": 536,
        "start_time": "2022-05-28T19:55:47.781Z"
      },
      {
        "duration": 502,
        "start_time": "2022-05-28T19:56:20.321Z"
      },
      {
        "duration": 61,
        "start_time": "2022-05-29T09:31:33.424Z"
      },
      {
        "duration": 0,
        "start_time": "2022-05-29T09:38:39.801Z"
      },
      {
        "duration": 0,
        "start_time": "2022-05-29T09:38:39.801Z"
      },
      {
        "duration": 0,
        "start_time": "2022-05-29T09:38:39.802Z"
      },
      {
        "duration": 0,
        "start_time": "2022-05-29T09:38:39.803Z"
      },
      {
        "duration": 0,
        "start_time": "2022-05-29T09:38:39.803Z"
      },
      {
        "duration": 0,
        "start_time": "2022-05-29T09:38:39.809Z"
      },
      {
        "duration": 0,
        "start_time": "2022-05-29T09:38:39.810Z"
      },
      {
        "duration": 0,
        "start_time": "2022-05-29T09:38:39.816Z"
      },
      {
        "duration": 0,
        "start_time": "2022-05-29T09:38:39.820Z"
      },
      {
        "duration": 0,
        "start_time": "2022-05-29T09:38:39.821Z"
      },
      {
        "duration": 0,
        "start_time": "2022-05-29T09:38:39.822Z"
      },
      {
        "duration": 0,
        "start_time": "2022-05-29T09:38:39.823Z"
      },
      {
        "duration": 0,
        "start_time": "2022-05-29T09:38:39.825Z"
      },
      {
        "duration": 0,
        "start_time": "2022-05-29T09:38:39.826Z"
      },
      {
        "duration": 0,
        "start_time": "2022-05-29T09:38:39.827Z"
      },
      {
        "duration": 0,
        "start_time": "2022-05-29T09:38:39.828Z"
      },
      {
        "duration": 0,
        "start_time": "2022-05-29T09:38:39.829Z"
      },
      {
        "duration": 0,
        "start_time": "2022-05-29T09:38:39.831Z"
      },
      {
        "duration": 0,
        "start_time": "2022-05-29T09:38:39.832Z"
      },
      {
        "duration": 0,
        "start_time": "2022-05-29T09:38:39.833Z"
      },
      {
        "duration": 0,
        "start_time": "2022-05-29T09:38:39.885Z"
      },
      {
        "duration": 1188,
        "start_time": "2022-05-29T09:43:51.722Z"
      },
      {
        "duration": 971,
        "start_time": "2022-05-29T09:43:52.913Z"
      },
      {
        "duration": 46,
        "start_time": "2022-05-29T09:43:53.886Z"
      },
      {
        "duration": 4,
        "start_time": "2022-05-29T09:43:53.934Z"
      },
      {
        "duration": 380,
        "start_time": "2022-05-29T09:43:53.940Z"
      },
      {
        "duration": 16,
        "start_time": "2022-05-29T09:43:54.322Z"
      },
      {
        "duration": 48,
        "start_time": "2022-05-29T09:43:54.340Z"
      },
      {
        "duration": 25,
        "start_time": "2022-05-29T09:43:54.390Z"
      },
      {
        "duration": 331,
        "start_time": "2022-05-29T09:43:54.417Z"
      },
      {
        "duration": 0,
        "start_time": "2022-05-29T09:43:54.750Z"
      },
      {
        "duration": 0,
        "start_time": "2022-05-29T09:43:54.751Z"
      },
      {
        "duration": 0,
        "start_time": "2022-05-29T09:43:54.753Z"
      },
      {
        "duration": 0,
        "start_time": "2022-05-29T09:43:54.754Z"
      },
      {
        "duration": 0,
        "start_time": "2022-05-29T09:43:54.755Z"
      },
      {
        "duration": 0,
        "start_time": "2022-05-29T09:43:54.756Z"
      },
      {
        "duration": 0,
        "start_time": "2022-05-29T09:43:54.757Z"
      },
      {
        "duration": 0,
        "start_time": "2022-05-29T09:43:54.759Z"
      },
      {
        "duration": 0,
        "start_time": "2022-05-29T09:43:54.760Z"
      },
      {
        "duration": 0,
        "start_time": "2022-05-29T09:43:54.784Z"
      },
      {
        "duration": 0,
        "start_time": "2022-05-29T09:43:54.785Z"
      },
      {
        "duration": 0,
        "start_time": "2022-05-29T09:43:54.787Z"
      },
      {
        "duration": 166,
        "start_time": "2022-05-29T09:44:28.894Z"
      },
      {
        "duration": 2708,
        "start_time": "2022-05-29T09:44:56.296Z"
      },
      {
        "duration": 183,
        "start_time": "2022-05-29T09:45:28.208Z"
      },
      {
        "duration": 177,
        "start_time": "2022-05-29T09:45:32.781Z"
      },
      {
        "duration": 2519,
        "start_time": "2022-05-29T09:45:39.199Z"
      },
      {
        "duration": 573,
        "start_time": "2022-05-29T09:47:35.715Z"
      },
      {
        "duration": 2426,
        "start_time": "2022-05-29T09:50:35.626Z"
      },
      {
        "duration": 2718,
        "start_time": "2022-05-29T09:50:43.598Z"
      },
      {
        "duration": 199,
        "start_time": "2022-05-29T09:59:19.212Z"
      },
      {
        "duration": 15,
        "start_time": "2022-05-29T10:28:53.905Z"
      },
      {
        "duration": 812,
        "start_time": "2022-05-29T10:38:09.061Z"
      },
      {
        "duration": 823,
        "start_time": "2022-05-29T10:44:29.023Z"
      },
      {
        "duration": 1213,
        "start_time": "2022-05-29T10:45:22.209Z"
      },
      {
        "duration": 567,
        "start_time": "2022-05-29T10:46:11.008Z"
      },
      {
        "duration": 12,
        "start_time": "2022-05-29T10:48:17.241Z"
      },
      {
        "duration": 212,
        "start_time": "2022-05-29T10:48:42.786Z"
      },
      {
        "duration": 12,
        "start_time": "2022-05-29T10:49:28.135Z"
      },
      {
        "duration": 571,
        "start_time": "2022-05-29T10:49:30.550Z"
      },
      {
        "duration": 731,
        "start_time": "2022-05-29T10:50:24.562Z"
      },
      {
        "duration": 900,
        "start_time": "2022-05-29T10:50:36.736Z"
      },
      {
        "duration": 1000,
        "start_time": "2022-05-29T10:50:47.618Z"
      },
      {
        "duration": 219,
        "start_time": "2022-05-29T11:26:15.127Z"
      },
      {
        "duration": 702,
        "start_time": "2022-05-29T11:27:24.450Z"
      },
      {
        "duration": 597,
        "start_time": "2022-05-29T11:29:20.396Z"
      },
      {
        "duration": 610,
        "start_time": "2022-05-29T11:29:32.121Z"
      },
      {
        "duration": 567,
        "start_time": "2022-05-29T11:30:07.617Z"
      },
      {
        "duration": 525,
        "start_time": "2022-05-29T11:30:22.595Z"
      },
      {
        "duration": 35,
        "start_time": "2022-05-29T11:49:17.790Z"
      },
      {
        "duration": 926,
        "start_time": "2022-05-29T11:49:26.966Z"
      },
      {
        "duration": 428,
        "start_time": "2022-05-29T11:49:56.283Z"
      },
      {
        "duration": 31,
        "start_time": "2022-05-29T11:51:50.772Z"
      },
      {
        "duration": 830,
        "start_time": "2022-05-29T11:51:53.754Z"
      },
      {
        "duration": 455,
        "start_time": "2022-05-29T11:51:57.091Z"
      },
      {
        "duration": 31,
        "start_time": "2022-05-29T11:52:16.714Z"
      },
      {
        "duration": 722,
        "start_time": "2022-05-29T11:52:21.170Z"
      },
      {
        "duration": 528,
        "start_time": "2022-05-29T11:52:23.180Z"
      },
      {
        "duration": 112,
        "start_time": "2022-05-29T11:53:27.818Z"
      },
      {
        "duration": 579,
        "start_time": "2022-05-29T11:57:43.680Z"
      },
      {
        "duration": 5,
        "start_time": "2022-05-29T12:05:39.457Z"
      },
      {
        "duration": 7,
        "start_time": "2022-05-29T13:27:31.451Z"
      },
      {
        "duration": 11,
        "start_time": "2022-05-29T13:45:16.046Z"
      },
      {
        "duration": 7,
        "start_time": "2022-05-29T13:45:18.138Z"
      },
      {
        "duration": 3,
        "start_time": "2022-05-29T13:45:21.907Z"
      },
      {
        "duration": 72,
        "start_time": "2022-05-29T13:45:25.654Z"
      },
      {
        "duration": 57,
        "start_time": "2022-05-29T13:45:49.470Z"
      },
      {
        "duration": 1505,
        "start_time": "2022-05-29T13:46:19.416Z"
      },
      {
        "duration": 2380,
        "start_time": "2022-05-29T13:46:20.925Z"
      },
      {
        "duration": 119,
        "start_time": "2022-05-29T13:46:23.312Z"
      },
      {
        "duration": 5,
        "start_time": "2022-05-29T13:46:23.433Z"
      },
      {
        "duration": 891,
        "start_time": "2022-05-29T13:46:23.440Z"
      },
      {
        "duration": 58,
        "start_time": "2022-05-29T13:46:24.333Z"
      },
      {
        "duration": 31,
        "start_time": "2022-05-29T13:46:24.393Z"
      },
      {
        "duration": 98,
        "start_time": "2022-05-29T13:46:24.427Z"
      },
      {
        "duration": 2979,
        "start_time": "2022-05-29T13:46:24.529Z"
      },
      {
        "duration": 3004,
        "start_time": "2022-05-29T13:46:27.512Z"
      },
      {
        "duration": 837,
        "start_time": "2022-05-29T13:46:30.525Z"
      },
      {
        "duration": 28,
        "start_time": "2022-05-29T13:46:31.364Z"
      },
      {
        "duration": 971,
        "start_time": "2022-05-29T13:46:31.394Z"
      },
      {
        "duration": 760,
        "start_time": "2022-05-29T13:46:32.368Z"
      },
      {
        "duration": 71,
        "start_time": "2022-05-29T13:46:33.130Z"
      },
      {
        "duration": 926,
        "start_time": "2022-05-29T13:46:33.208Z"
      },
      {
        "duration": 540,
        "start_time": "2022-05-29T13:46:34.138Z"
      },
      {
        "duration": 133,
        "start_time": "2022-05-29T13:46:34.686Z"
      },
      {
        "duration": 8,
        "start_time": "2022-05-29T13:46:34.822Z"
      },
      {
        "duration": 11,
        "start_time": "2022-05-29T13:46:34.832Z"
      },
      {
        "duration": 7,
        "start_time": "2022-05-29T13:46:34.845Z"
      },
      {
        "duration": 217,
        "start_time": "2022-05-29T13:46:34.854Z"
      },
      {
        "duration": 0,
        "start_time": "2022-05-29T13:46:35.073Z"
      },
      {
        "duration": 0,
        "start_time": "2022-05-29T13:46:35.074Z"
      },
      {
        "duration": 0,
        "start_time": "2022-05-29T13:46:35.075Z"
      },
      {
        "duration": 23,
        "start_time": "2022-05-29T13:51:23.341Z"
      },
      {
        "duration": 88,
        "start_time": "2022-05-29T13:53:08.682Z"
      },
      {
        "duration": 36,
        "start_time": "2022-05-29T13:54:30.160Z"
      },
      {
        "duration": 16,
        "start_time": "2022-05-29T13:55:06.211Z"
      },
      {
        "duration": 1326,
        "start_time": "2022-05-29T13:55:14.485Z"
      },
      {
        "duration": 1116,
        "start_time": "2022-05-29T13:55:15.817Z"
      },
      {
        "duration": 65,
        "start_time": "2022-05-29T13:55:16.934Z"
      },
      {
        "duration": 7,
        "start_time": "2022-05-29T13:55:17.006Z"
      },
      {
        "duration": 371,
        "start_time": "2022-05-29T13:55:17.015Z"
      },
      {
        "duration": 22,
        "start_time": "2022-05-29T13:55:17.388Z"
      },
      {
        "duration": 33,
        "start_time": "2022-05-29T13:55:17.412Z"
      },
      {
        "duration": 48,
        "start_time": "2022-05-29T13:55:17.447Z"
      },
      {
        "duration": 2943,
        "start_time": "2022-05-29T13:55:17.497Z"
      },
      {
        "duration": 2720,
        "start_time": "2022-05-29T13:55:20.444Z"
      },
      {
        "duration": 810,
        "start_time": "2022-05-29T13:55:23.166Z"
      },
      {
        "duration": 21,
        "start_time": "2022-05-29T13:55:23.978Z"
      },
      {
        "duration": 868,
        "start_time": "2022-05-29T13:55:24.002Z"
      },
      {
        "duration": 672,
        "start_time": "2022-05-29T13:55:24.872Z"
      },
      {
        "duration": 67,
        "start_time": "2022-05-29T13:55:25.546Z"
      },
      {
        "duration": 876,
        "start_time": "2022-05-29T13:55:25.615Z"
      },
      {
        "duration": 536,
        "start_time": "2022-05-29T13:55:26.493Z"
      },
      {
        "duration": 128,
        "start_time": "2022-05-29T13:55:27.032Z"
      },
      {
        "duration": 57,
        "start_time": "2022-05-29T13:55:27.162Z"
      },
      {
        "duration": 5,
        "start_time": "2022-05-29T13:55:27.220Z"
      },
      {
        "duration": 11,
        "start_time": "2022-05-29T13:55:27.227Z"
      },
      {
        "duration": 235,
        "start_time": "2022-05-29T13:55:27.240Z"
      },
      {
        "duration": 0,
        "start_time": "2022-05-29T13:55:27.478Z"
      },
      {
        "duration": 0,
        "start_time": "2022-05-29T13:55:27.480Z"
      },
      {
        "duration": 0,
        "start_time": "2022-05-29T13:55:27.481Z"
      },
      {
        "duration": 41,
        "start_time": "2022-05-29T13:56:34.441Z"
      },
      {
        "duration": 2112,
        "start_time": "2022-05-29T13:57:04.577Z"
      },
      {
        "duration": 34,
        "start_time": "2022-05-29T13:57:59.442Z"
      },
      {
        "duration": 23,
        "start_time": "2022-05-29T13:58:03.742Z"
      },
      {
        "duration": 47,
        "start_time": "2022-05-29T14:00:34.363Z"
      },
      {
        "duration": 12,
        "start_time": "2022-05-29T14:05:03.964Z"
      },
      {
        "duration": 14,
        "start_time": "2022-05-29T14:05:31.869Z"
      },
      {
        "duration": 2471,
        "start_time": "2022-05-29T14:07:26.918Z"
      },
      {
        "duration": 26,
        "start_time": "2022-05-29T14:24:00.649Z"
      },
      {
        "duration": 1291,
        "start_time": "2022-05-29T14:24:08.719Z"
      },
      {
        "duration": 1775,
        "start_time": "2022-05-29T14:24:10.014Z"
      },
      {
        "duration": 127,
        "start_time": "2022-05-29T14:24:11.792Z"
      },
      {
        "duration": 5,
        "start_time": "2022-05-29T14:24:11.923Z"
      },
      {
        "duration": 896,
        "start_time": "2022-05-29T14:24:11.930Z"
      },
      {
        "duration": 70,
        "start_time": "2022-05-29T14:24:12.828Z"
      },
      {
        "duration": 25,
        "start_time": "2022-05-29T14:24:12.901Z"
      },
      {
        "duration": 97,
        "start_time": "2022-05-29T14:24:12.929Z"
      },
      {
        "duration": 2993,
        "start_time": "2022-05-29T14:24:13.028Z"
      },
      {
        "duration": 2735,
        "start_time": "2022-05-29T14:24:16.023Z"
      },
      {
        "duration": 817,
        "start_time": "2022-05-29T14:24:18.760Z"
      },
      {
        "duration": 19,
        "start_time": "2022-05-29T14:24:19.579Z"
      },
      {
        "duration": 875,
        "start_time": "2022-05-29T14:24:19.599Z"
      },
      {
        "duration": 658,
        "start_time": "2022-05-29T14:24:20.475Z"
      },
      {
        "duration": 62,
        "start_time": "2022-05-29T14:24:21.135Z"
      },
      {
        "duration": 867,
        "start_time": "2022-05-29T14:24:21.200Z"
      },
      {
        "duration": 517,
        "start_time": "2022-05-29T14:24:22.069Z"
      },
      {
        "duration": 164,
        "start_time": "2022-05-29T14:24:22.588Z"
      },
      {
        "duration": 0,
        "start_time": "2022-05-29T14:24:22.754Z"
      },
      {
        "duration": 0,
        "start_time": "2022-05-29T14:24:22.756Z"
      },
      {
        "duration": 0,
        "start_time": "2022-05-29T14:24:22.757Z"
      },
      {
        "duration": 0,
        "start_time": "2022-05-29T14:24:22.759Z"
      },
      {
        "duration": 0,
        "start_time": "2022-05-29T14:24:22.760Z"
      },
      {
        "duration": 1,
        "start_time": "2022-05-29T14:24:22.761Z"
      },
      {
        "duration": 0,
        "start_time": "2022-05-29T14:24:22.763Z"
      },
      {
        "duration": 1287,
        "start_time": "2022-05-29T14:24:40.018Z"
      },
      {
        "duration": 1774,
        "start_time": "2022-05-29T14:24:41.310Z"
      },
      {
        "duration": 110,
        "start_time": "2022-05-29T14:24:43.087Z"
      },
      {
        "duration": 8,
        "start_time": "2022-05-29T14:24:43.199Z"
      },
      {
        "duration": 984,
        "start_time": "2022-05-29T14:24:43.211Z"
      },
      {
        "duration": 32,
        "start_time": "2022-05-29T14:24:44.198Z"
      },
      {
        "duration": 77,
        "start_time": "2022-05-29T14:24:44.232Z"
      },
      {
        "duration": 87,
        "start_time": "2022-05-29T14:24:44.311Z"
      },
      {
        "duration": 2811,
        "start_time": "2022-05-29T14:24:44.400Z"
      },
      {
        "duration": 2815,
        "start_time": "2022-05-29T14:24:47.213Z"
      },
      {
        "duration": 833,
        "start_time": "2022-05-29T14:24:50.030Z"
      },
      {
        "duration": 23,
        "start_time": "2022-05-29T14:24:50.864Z"
      },
      {
        "duration": 882,
        "start_time": "2022-05-29T14:24:50.889Z"
      },
      {
        "duration": 730,
        "start_time": "2022-05-29T14:24:51.775Z"
      },
      {
        "duration": 52,
        "start_time": "2022-05-29T14:24:52.508Z"
      },
      {
        "duration": 863,
        "start_time": "2022-05-29T14:24:52.562Z"
      },
      {
        "duration": 516,
        "start_time": "2022-05-29T14:24:53.427Z"
      },
      {
        "duration": 51,
        "start_time": "2022-05-29T14:24:53.945Z"
      },
      {
        "duration": 4,
        "start_time": "2022-05-29T14:24:53.998Z"
      },
      {
        "duration": 24,
        "start_time": "2022-05-29T14:24:54.004Z"
      },
      {
        "duration": 159,
        "start_time": "2022-05-29T14:24:54.031Z"
      },
      {
        "duration": 0,
        "start_time": "2022-05-29T14:24:54.193Z"
      },
      {
        "duration": 0,
        "start_time": "2022-05-29T14:24:54.194Z"
      },
      {
        "duration": 0,
        "start_time": "2022-05-29T14:24:54.195Z"
      },
      {
        "duration": 0,
        "start_time": "2022-05-29T14:24:54.198Z"
      },
      {
        "duration": 108,
        "start_time": "2022-05-29T14:28:16.898Z"
      },
      {
        "duration": 1279,
        "start_time": "2022-05-29T14:28:35.552Z"
      },
      {
        "duration": 1085,
        "start_time": "2022-05-29T14:28:36.834Z"
      },
      {
        "duration": 72,
        "start_time": "2022-05-29T14:28:37.920Z"
      },
      {
        "duration": 8,
        "start_time": "2022-05-29T14:28:37.996Z"
      },
      {
        "duration": 706,
        "start_time": "2022-05-29T14:28:38.007Z"
      },
      {
        "duration": 14,
        "start_time": "2022-05-29T14:28:38.714Z"
      },
      {
        "duration": 75,
        "start_time": "2022-05-29T14:28:38.729Z"
      },
      {
        "duration": 78,
        "start_time": "2022-05-29T14:28:38.806Z"
      },
      {
        "duration": 3198,
        "start_time": "2022-05-29T14:28:38.887Z"
      },
      {
        "duration": 2401,
        "start_time": "2022-05-29T14:28:42.087Z"
      },
      {
        "duration": 765,
        "start_time": "2022-05-29T14:28:44.493Z"
      },
      {
        "duration": 13,
        "start_time": "2022-05-29T14:28:45.260Z"
      },
      {
        "duration": 776,
        "start_time": "2022-05-29T14:28:45.286Z"
      },
      {
        "duration": 647,
        "start_time": "2022-05-29T14:28:46.065Z"
      },
      {
        "duration": 43,
        "start_time": "2022-05-29T14:28:46.714Z"
      },
      {
        "duration": 807,
        "start_time": "2022-05-29T14:28:46.759Z"
      },
      {
        "duration": 535,
        "start_time": "2022-05-29T14:28:47.568Z"
      },
      {
        "duration": 40,
        "start_time": "2022-05-29T14:28:48.106Z"
      },
      {
        "duration": 5,
        "start_time": "2022-05-29T14:28:48.148Z"
      },
      {
        "duration": 15,
        "start_time": "2022-05-29T14:28:48.155Z"
      },
      {
        "duration": 279,
        "start_time": "2022-05-29T14:28:48.183Z"
      },
      {
        "duration": 0,
        "start_time": "2022-05-29T14:28:48.463Z"
      },
      {
        "duration": 0,
        "start_time": "2022-05-29T14:28:48.465Z"
      },
      {
        "duration": 0,
        "start_time": "2022-05-29T14:28:48.466Z"
      },
      {
        "duration": 0,
        "start_time": "2022-05-29T14:28:48.467Z"
      },
      {
        "duration": 11,
        "start_time": "2022-05-29T14:29:42.807Z"
      },
      {
        "duration": 23,
        "start_time": "2022-05-29T14:29:50.476Z"
      },
      {
        "duration": 10,
        "start_time": "2022-05-29T14:29:54.747Z"
      },
      {
        "duration": 3,
        "start_time": "2022-05-29T14:30:39.643Z"
      },
      {
        "duration": 1585,
        "start_time": "2022-05-29T14:30:41.704Z"
      },
      {
        "duration": 1485,
        "start_time": "2022-05-29T14:32:48.504Z"
      },
      {
        "duration": 20,
        "start_time": "2022-05-29T14:40:04.081Z"
      },
      {
        "duration": 1208,
        "start_time": "2022-05-29T14:42:18.939Z"
      },
      {
        "duration": 1071,
        "start_time": "2022-05-29T14:42:20.151Z"
      },
      {
        "duration": 72,
        "start_time": "2022-05-29T14:42:21.224Z"
      },
      {
        "duration": 5,
        "start_time": "2022-05-29T14:42:21.302Z"
      },
      {
        "duration": 358,
        "start_time": "2022-05-29T14:42:21.309Z"
      },
      {
        "duration": 35,
        "start_time": "2022-05-29T14:42:21.669Z"
      },
      {
        "duration": 24,
        "start_time": "2022-05-29T14:42:21.706Z"
      },
      {
        "duration": 30,
        "start_time": "2022-05-29T14:42:21.731Z"
      },
      {
        "duration": 2438,
        "start_time": "2022-05-29T14:42:21.784Z"
      },
      {
        "duration": 2400,
        "start_time": "2022-05-29T14:42:24.226Z"
      },
      {
        "duration": 787,
        "start_time": "2022-05-29T14:42:26.628Z"
      },
      {
        "duration": 15,
        "start_time": "2022-05-29T14:42:27.417Z"
      },
      {
        "duration": 940,
        "start_time": "2022-05-29T14:42:27.434Z"
      },
      {
        "duration": 615,
        "start_time": "2022-05-29T14:42:28.388Z"
      },
      {
        "duration": 44,
        "start_time": "2022-05-29T14:42:29.005Z"
      },
      {
        "duration": 784,
        "start_time": "2022-05-29T14:42:29.050Z"
      },
      {
        "duration": 484,
        "start_time": "2022-05-29T14:42:29.836Z"
      },
      {
        "duration": 36,
        "start_time": "2022-05-29T14:42:30.322Z"
      },
      {
        "duration": 34,
        "start_time": "2022-05-29T14:42:30.360Z"
      },
      {
        "duration": 41,
        "start_time": "2022-05-29T14:42:30.397Z"
      },
      {
        "duration": 1547,
        "start_time": "2022-05-29T14:42:30.440Z"
      },
      {
        "duration": 32022,
        "start_time": "2022-05-29T14:42:31.989Z"
      },
      {
        "duration": 135,
        "start_time": "2022-05-29T14:43:04.012Z"
      },
      {
        "duration": 0,
        "start_time": "2022-05-29T14:43:04.149Z"
      },
      {
        "duration": 0,
        "start_time": "2022-05-29T14:43:04.150Z"
      },
      {
        "duration": 31384,
        "start_time": "2022-05-29T14:43:08.655Z"
      },
      {
        "duration": 3841,
        "start_time": "2022-05-29T14:48:57.266Z"
      },
      {
        "duration": 4006,
        "start_time": "2022-05-29T14:50:01.876Z"
      },
      {
        "duration": 1295,
        "start_time": "2022-05-29T14:53:34.777Z"
      },
      {
        "duration": 1038,
        "start_time": "2022-05-29T14:53:36.075Z"
      },
      {
        "duration": 70,
        "start_time": "2022-05-29T14:53:37.115Z"
      },
      {
        "duration": 7,
        "start_time": "2022-05-29T14:53:37.187Z"
      },
      {
        "duration": 362,
        "start_time": "2022-05-29T14:53:37.198Z"
      },
      {
        "duration": 27,
        "start_time": "2022-05-29T14:53:37.562Z"
      },
      {
        "duration": 37,
        "start_time": "2022-05-29T14:53:37.591Z"
      },
      {
        "duration": 27,
        "start_time": "2022-05-29T14:53:37.630Z"
      },
      {
        "duration": 2664,
        "start_time": "2022-05-29T14:53:37.659Z"
      },
      {
        "duration": 2612,
        "start_time": "2022-05-29T14:53:40.326Z"
      },
      {
        "duration": 1023,
        "start_time": "2022-05-29T14:53:42.940Z"
      },
      {
        "duration": 30,
        "start_time": "2022-05-29T14:53:43.966Z"
      },
      {
        "duration": 871,
        "start_time": "2022-05-29T14:53:44.002Z"
      },
      {
        "duration": 723,
        "start_time": "2022-05-29T14:53:44.877Z"
      },
      {
        "duration": 53,
        "start_time": "2022-05-29T14:53:45.601Z"
      },
      {
        "duration": 4012,
        "start_time": "2022-05-29T14:53:45.657Z"
      },
      {
        "duration": 1797,
        "start_time": "2022-05-29T14:53:49.671Z"
      },
      {
        "duration": 2647,
        "start_time": "2022-05-29T14:53:51.471Z"
      },
      {
        "duration": 1808,
        "start_time": "2022-05-29T14:53:54.119Z"
      },
      {
        "duration": 210,
        "start_time": "2022-05-29T14:53:55.932Z"
      },
      {
        "duration": 3737,
        "start_time": "2022-05-29T14:53:56.146Z"
      },
      {
        "duration": 488977,
        "start_time": "2022-05-29T14:53:59.885Z"
      },
      {
        "duration": 151,
        "start_time": "2022-05-29T15:08:12.505Z"
      },
      {
        "duration": 0,
        "start_time": "2022-05-29T15:08:12.659Z"
      },
      {
        "duration": 0,
        "start_time": "2022-05-29T15:08:12.660Z"
      },
      {
        "duration": 4706,
        "start_time": "2022-05-29T15:10:39.174Z"
      },
      {
        "duration": 6055,
        "start_time": "2022-05-29T15:10:55.114Z"
      },
      {
        "duration": 132148,
        "start_time": "2022-05-29T15:11:28.705Z"
      },
      {
        "duration": 2117,
        "start_time": "2022-05-29T15:13:40.855Z"
      },
      {
        "duration": 1637,
        "start_time": "2022-05-29T15:19:48.248Z"
      },
      {
        "duration": 1032,
        "start_time": "2022-05-29T15:23:17.744Z"
      },
      {
        "duration": 586,
        "start_time": "2022-05-29T15:28:38.889Z"
      },
      {
        "duration": 504,
        "start_time": "2022-05-29T15:28:58.337Z"
      },
      {
        "duration": 747,
        "start_time": "2022-05-29T15:29:15.955Z"
      },
      {
        "duration": 572,
        "start_time": "2022-05-29T15:38:57.678Z"
      },
      {
        "duration": 10,
        "start_time": "2022-05-29T15:44:40.450Z"
      },
      {
        "duration": 1349,
        "start_time": "2022-05-29T15:58:19.664Z"
      },
      {
        "duration": 1342,
        "start_time": "2022-05-29T15:58:21.030Z"
      },
      {
        "duration": 61,
        "start_time": "2022-05-29T15:58:22.375Z"
      },
      {
        "duration": 14,
        "start_time": "2022-05-29T15:58:22.439Z"
      },
      {
        "duration": 419,
        "start_time": "2022-05-29T15:58:22.456Z"
      },
      {
        "duration": 25,
        "start_time": "2022-05-29T15:58:22.885Z"
      },
      {
        "duration": 37,
        "start_time": "2022-05-29T15:58:22.913Z"
      },
      {
        "duration": 49,
        "start_time": "2022-05-29T15:58:22.952Z"
      },
      {
        "duration": 2804,
        "start_time": "2022-05-29T15:58:23.004Z"
      },
      {
        "duration": 2754,
        "start_time": "2022-05-29T15:58:25.813Z"
      },
      {
        "duration": 816,
        "start_time": "2022-05-29T15:58:28.568Z"
      },
      {
        "duration": 18,
        "start_time": "2022-05-29T15:58:29.386Z"
      },
      {
        "duration": 835,
        "start_time": "2022-05-29T15:58:29.406Z"
      },
      {
        "duration": 680,
        "start_time": "2022-05-29T15:58:30.243Z"
      },
      {
        "duration": 42,
        "start_time": "2022-05-29T15:58:30.925Z"
      },
      {
        "duration": 858,
        "start_time": "2022-05-29T15:58:30.983Z"
      },
      {
        "duration": 582,
        "start_time": "2022-05-29T15:58:31.843Z"
      },
      {
        "duration": 60,
        "start_time": "2022-05-29T15:58:32.427Z"
      },
      {
        "duration": 179,
        "start_time": "2022-05-29T15:58:32.490Z"
      },
      {
        "duration": 0,
        "start_time": "2022-05-29T15:58:32.672Z"
      },
      {
        "duration": 0,
        "start_time": "2022-05-29T15:58:32.673Z"
      },
      {
        "duration": 0,
        "start_time": "2022-05-29T15:58:32.675Z"
      },
      {
        "duration": 1,
        "start_time": "2022-05-29T15:58:32.676Z"
      },
      {
        "duration": 0,
        "start_time": "2022-05-29T15:58:32.686Z"
      },
      {
        "duration": 0,
        "start_time": "2022-05-29T15:58:32.688Z"
      },
      {
        "duration": 0,
        "start_time": "2022-05-29T15:58:32.690Z"
      },
      {
        "duration": 48,
        "start_time": "2022-05-29T15:58:58.578Z"
      },
      {
        "duration": 1312,
        "start_time": "2022-05-29T15:59:10.913Z"
      },
      {
        "duration": 1387,
        "start_time": "2022-05-29T15:59:12.230Z"
      },
      {
        "duration": 171,
        "start_time": "2022-05-29T15:59:13.619Z"
      },
      {
        "duration": 5,
        "start_time": "2022-05-29T15:59:13.797Z"
      },
      {
        "duration": 1082,
        "start_time": "2022-05-29T15:59:13.805Z"
      },
      {
        "duration": 21,
        "start_time": "2022-05-29T15:59:14.889Z"
      },
      {
        "duration": 34,
        "start_time": "2022-05-29T15:59:14.912Z"
      },
      {
        "duration": 87,
        "start_time": "2022-05-29T15:59:14.947Z"
      },
      {
        "duration": 3251,
        "start_time": "2022-05-29T15:59:15.036Z"
      },
      {
        "duration": 2618,
        "start_time": "2022-05-29T15:59:18.290Z"
      },
      {
        "duration": 797,
        "start_time": "2022-05-29T15:59:20.912Z"
      },
      {
        "duration": 15,
        "start_time": "2022-05-29T15:59:21.711Z"
      },
      {
        "duration": 863,
        "start_time": "2022-05-29T15:59:21.728Z"
      },
      {
        "duration": 671,
        "start_time": "2022-05-29T15:59:22.593Z"
      },
      {
        "duration": 72,
        "start_time": "2022-05-29T15:59:23.267Z"
      },
      {
        "duration": 914,
        "start_time": "2022-05-29T15:59:23.342Z"
      },
      {
        "duration": 553,
        "start_time": "2022-05-29T15:59:24.258Z"
      },
      {
        "duration": 41,
        "start_time": "2022-05-29T15:59:24.813Z"
      },
      {
        "duration": 80,
        "start_time": "2022-05-29T15:59:24.856Z"
      },
      {
        "duration": 4,
        "start_time": "2022-05-29T15:59:24.938Z"
      },
      {
        "duration": 6,
        "start_time": "2022-05-29T15:59:24.944Z"
      },
      {
        "duration": 1350,
        "start_time": "2022-05-29T15:59:24.952Z"
      },
      {
        "duration": 205993,
        "start_time": "2022-05-29T15:59:26.304Z"
      },
      {
        "duration": 106058,
        "start_time": "2022-05-29T16:02:52.299Z"
      },
      {
        "duration": 204,
        "start_time": "2022-05-29T16:04:38.360Z"
      },
      {
        "duration": 155,
        "start_time": "2022-05-29T16:04:38.566Z"
      },
      {
        "duration": 239,
        "start_time": "2022-05-29T16:06:15.540Z"
      },
      {
        "duration": 12,
        "start_time": "2022-05-29T16:06:43.459Z"
      },
      {
        "duration": 528,
        "start_time": "2022-05-29T16:10:01.001Z"
      },
      {
        "duration": 4,
        "start_time": "2022-05-29T16:31:44.511Z"
      },
      {
        "duration": 2070,
        "start_time": "2022-05-29T16:31:49.535Z"
      },
      {
        "duration": 6,
        "start_time": "2022-05-29T16:35:57.272Z"
      },
      {
        "duration": 4,
        "start_time": "2022-05-29T16:35:59.487Z"
      },
      {
        "duration": 2721,
        "start_time": "2022-05-29T16:36:01.806Z"
      },
      {
        "duration": 504,
        "start_time": "2022-05-29T16:36:52.184Z"
      },
      {
        "duration": 7,
        "start_time": "2022-05-29T16:42:13.307Z"
      },
      {
        "duration": 2,
        "start_time": "2022-05-29T16:42:15.832Z"
      },
      {
        "duration": 495,
        "start_time": "2022-05-29T16:42:18.734Z"
      },
      {
        "duration": 1978,
        "start_time": "2022-05-29T16:45:16.710Z"
      },
      {
        "duration": 6,
        "start_time": "2022-05-29T16:50:28.146Z"
      },
      {
        "duration": 3,
        "start_time": "2022-05-29T16:50:30.120Z"
      },
      {
        "duration": 43,
        "start_time": "2022-05-29T16:50:31.710Z"
      },
      {
        "duration": 59,
        "start_time": "2022-05-29T16:50:38.749Z"
      },
      {
        "duration": 6,
        "start_time": "2022-05-29T16:50:56.847Z"
      },
      {
        "duration": 4,
        "start_time": "2022-05-29T16:50:58.547Z"
      },
      {
        "duration": 2396,
        "start_time": "2022-05-29T16:50:59.827Z"
      },
      {
        "duration": 8,
        "start_time": "2022-05-29T16:56:12.811Z"
      },
      {
        "duration": 5,
        "start_time": "2022-05-29T16:56:15.318Z"
      },
      {
        "duration": 2244,
        "start_time": "2022-05-29T16:56:16.841Z"
      },
      {
        "duration": 5,
        "start_time": "2022-05-29T16:57:23.317Z"
      },
      {
        "duration": 161,
        "start_time": "2022-05-29T16:57:25.724Z"
      },
      {
        "duration": 6,
        "start_time": "2022-05-29T16:58:15.257Z"
      },
      {
        "duration": 1964,
        "start_time": "2022-05-29T16:58:17.840Z"
      },
      {
        "duration": 5,
        "start_time": "2022-05-29T16:58:40.464Z"
      },
      {
        "duration": 1605,
        "start_time": "2022-05-29T16:58:43.899Z"
      },
      {
        "duration": 168,
        "start_time": "2022-05-29T17:00:28.820Z"
      },
      {
        "duration": 5,
        "start_time": "2022-05-29T17:00:32.343Z"
      },
      {
        "duration": 1860,
        "start_time": "2022-05-29T17:00:38.053Z"
      },
      {
        "duration": 508,
        "start_time": "2022-05-29T17:00:46.800Z"
      },
      {
        "duration": 6,
        "start_time": "2022-05-29T17:04:57.676Z"
      },
      {
        "duration": 1191,
        "start_time": "2022-05-29T17:05:00.122Z"
      },
      {
        "duration": 691,
        "start_time": "2022-05-29T17:05:16.808Z"
      },
      {
        "duration": 2609,
        "start_time": "2022-05-29T17:05:29.610Z"
      },
      {
        "duration": 2466,
        "start_time": "2022-05-29T17:06:45.736Z"
      },
      {
        "duration": 5,
        "start_time": "2022-05-29T17:10:02.569Z"
      },
      {
        "duration": 2267,
        "start_time": "2022-05-29T17:10:05.917Z"
      },
      {
        "duration": 2522,
        "start_time": "2022-05-29T17:12:46.874Z"
      },
      {
        "duration": 201596,
        "start_time": "2022-05-29T17:13:02.675Z"
      },
      {
        "duration": 970,
        "start_time": "2022-05-29T17:17:15.454Z"
      },
      {
        "duration": 906,
        "start_time": "2022-05-29T17:17:31.032Z"
      },
      {
        "duration": 6,
        "start_time": "2022-05-29T17:19:03.522Z"
      },
      {
        "duration": 2415,
        "start_time": "2022-05-29T17:19:05.128Z"
      },
      {
        "duration": 199323,
        "start_time": "2022-05-29T17:19:15.655Z"
      },
      {
        "duration": 99469,
        "start_time": "2022-05-29T17:22:34.980Z"
      },
      {
        "duration": 71,
        "start_time": "2022-05-29T17:33:05.782Z"
      },
      {
        "duration": 67,
        "start_time": "2022-05-29T17:33:27.079Z"
      },
      {
        "duration": 68,
        "start_time": "2022-05-29T17:34:29.760Z"
      },
      {
        "duration": 592,
        "start_time": "2022-05-29T17:35:10.907Z"
      },
      {
        "duration": 451,
        "start_time": "2022-05-29T17:35:21.662Z"
      },
      {
        "duration": 551,
        "start_time": "2022-05-29T17:35:50.474Z"
      },
      {
        "duration": 894,
        "start_time": "2022-05-29T17:35:56.801Z"
      },
      {
        "duration": 70,
        "start_time": "2022-05-29T17:36:39.872Z"
      },
      {
        "duration": 26,
        "start_time": "2022-05-29T17:37:14.866Z"
      },
      {
        "duration": 88,
        "start_time": "2022-05-29T17:38:42.046Z"
      },
      {
        "duration": 17,
        "start_time": "2022-05-29T17:40:40.860Z"
      },
      {
        "duration": 16,
        "start_time": "2022-05-29T17:40:53.102Z"
      },
      {
        "duration": 525,
        "start_time": "2022-05-29T17:42:03.845Z"
      },
      {
        "duration": 1320,
        "start_time": "2022-05-29T17:50:25.716Z"
      },
      {
        "duration": 2272,
        "start_time": "2022-05-29T17:50:27.039Z"
      },
      {
        "duration": 53,
        "start_time": "2022-05-29T17:50:29.313Z"
      },
      {
        "duration": 8,
        "start_time": "2022-05-29T17:50:29.383Z"
      },
      {
        "duration": 335,
        "start_time": "2022-05-29T17:50:29.395Z"
      },
      {
        "duration": 22,
        "start_time": "2022-05-29T17:50:29.733Z"
      },
      {
        "duration": 52,
        "start_time": "2022-05-29T17:50:29.757Z"
      },
      {
        "duration": 24,
        "start_time": "2022-05-29T17:50:29.811Z"
      },
      {
        "duration": 2536,
        "start_time": "2022-05-29T17:50:29.837Z"
      },
      {
        "duration": 2411,
        "start_time": "2022-05-29T17:50:32.376Z"
      },
      {
        "duration": 770,
        "start_time": "2022-05-29T17:50:34.789Z"
      },
      {
        "duration": 39,
        "start_time": "2022-05-29T17:50:35.561Z"
      },
      {
        "duration": 774,
        "start_time": "2022-05-29T17:50:35.602Z"
      },
      {
        "duration": 631,
        "start_time": "2022-05-29T17:50:36.378Z"
      },
      {
        "duration": 57,
        "start_time": "2022-05-29T17:50:37.011Z"
      },
      {
        "duration": 894,
        "start_time": "2022-05-29T17:50:37.070Z"
      },
      {
        "duration": 593,
        "start_time": "2022-05-29T17:50:37.967Z"
      },
      {
        "duration": 48,
        "start_time": "2022-05-29T17:50:38.562Z"
      },
      {
        "duration": 47,
        "start_time": "2022-05-29T17:50:38.611Z"
      },
      {
        "duration": 4,
        "start_time": "2022-05-29T17:50:38.660Z"
      },
      {
        "duration": 23,
        "start_time": "2022-05-29T17:50:38.686Z"
      },
      {
        "duration": 2085,
        "start_time": "2022-05-29T17:50:38.711Z"
      },
      {
        "duration": 191491,
        "start_time": "2022-05-29T17:50:40.803Z"
      },
      {
        "duration": 95897,
        "start_time": "2022-05-29T17:53:52.297Z"
      },
      {
        "duration": 24,
        "start_time": "2022-05-29T17:55:28.198Z"
      },
      {
        "duration": 538,
        "start_time": "2022-05-29T17:55:28.227Z"
      },
      {
        "duration": 7807,
        "start_time": "2022-05-30T12:26:34.285Z"
      },
      {
        "duration": 8704,
        "start_time": "2022-05-30T12:26:42.184Z"
      },
      {
        "duration": 489,
        "start_time": "2022-05-30T12:26:50.896Z"
      },
      {
        "duration": 99,
        "start_time": "2022-05-30T12:26:51.393Z"
      },
      {
        "duration": 2995,
        "start_time": "2022-05-30T12:26:51.494Z"
      },
      {
        "duration": 102,
        "start_time": "2022-05-30T12:26:54.493Z"
      },
      {
        "duration": 303,
        "start_time": "2022-05-30T12:26:54.687Z"
      },
      {
        "duration": 412,
        "start_time": "2022-05-30T12:26:55.083Z"
      },
      {
        "duration": 20302,
        "start_time": "2022-05-30T12:26:55.589Z"
      },
      {
        "duration": 20505,
        "start_time": "2022-05-30T12:27:15.987Z"
      },
      {
        "duration": 6396,
        "start_time": "2022-05-30T12:27:36.494Z"
      },
      {
        "duration": 303,
        "start_time": "2022-05-30T12:27:42.893Z"
      },
      {
        "duration": 7602,
        "start_time": "2022-05-30T12:27:43.283Z"
      },
      {
        "duration": 5108,
        "start_time": "2022-05-30T12:27:50.983Z"
      },
      {
        "duration": 494,
        "start_time": "2022-05-30T12:27:56.093Z"
      },
      {
        "duration": 7201,
        "start_time": "2022-05-30T12:27:56.589Z"
      },
      {
        "duration": 3898,
        "start_time": "2022-05-30T12:28:03.794Z"
      },
      {
        "duration": 298,
        "start_time": "2022-05-30T12:28:07.789Z"
      },
      {
        "duration": 599,
        "start_time": "2022-05-30T12:28:08.089Z"
      },
      {
        "duration": 98,
        "start_time": "2022-05-30T12:28:08.696Z"
      },
      {
        "duration": 699,
        "start_time": "2022-05-30T12:28:08.885Z"
      },
      {
        "duration": 3411,
        "start_time": "2022-05-30T12:28:09.585Z"
      },
      {
        "duration": 1174894,
        "start_time": "2022-05-30T12:28:12.998Z"
      },
      {
        "duration": 0,
        "start_time": "2022-05-30T12:47:47.895Z"
      },
      {
        "duration": 0,
        "start_time": "2022-05-30T12:47:47.896Z"
      },
      {
        "duration": 0,
        "start_time": "2022-05-30T12:47:47.898Z"
      },
      {
        "duration": 101,
        "start_time": "2022-05-30T12:47:51.085Z"
      },
      {
        "duration": 61,
        "start_time": "2022-05-30T18:31:29.688Z"
      },
      {
        "duration": 1398,
        "start_time": "2022-05-30T18:35:45.390Z"
      },
      {
        "duration": 3568,
        "start_time": "2022-05-30T18:35:46.791Z"
      },
      {
        "duration": 43,
        "start_time": "2022-05-30T18:35:50.361Z"
      },
      {
        "duration": 5,
        "start_time": "2022-05-30T18:35:50.406Z"
      },
      {
        "duration": 0,
        "start_time": "2022-05-30T18:35:50.413Z"
      },
      {
        "duration": 0,
        "start_time": "2022-05-30T18:35:50.414Z"
      },
      {
        "duration": 0,
        "start_time": "2022-05-30T18:35:50.416Z"
      },
      {
        "duration": 0,
        "start_time": "2022-05-30T18:35:50.417Z"
      },
      {
        "duration": 0,
        "start_time": "2022-05-30T18:35:50.418Z"
      },
      {
        "duration": 0,
        "start_time": "2022-05-30T18:35:50.449Z"
      },
      {
        "duration": 0,
        "start_time": "2022-05-30T18:35:50.450Z"
      },
      {
        "duration": 0,
        "start_time": "2022-05-30T18:35:50.451Z"
      },
      {
        "duration": 1,
        "start_time": "2022-05-30T18:35:50.451Z"
      },
      {
        "duration": 0,
        "start_time": "2022-05-30T18:35:50.454Z"
      },
      {
        "duration": 0,
        "start_time": "2022-05-30T18:35:50.455Z"
      },
      {
        "duration": 0,
        "start_time": "2022-05-30T18:35:50.455Z"
      },
      {
        "duration": 0,
        "start_time": "2022-05-30T18:35:50.456Z"
      },
      {
        "duration": 0,
        "start_time": "2022-05-30T18:35:50.457Z"
      },
      {
        "duration": 0,
        "start_time": "2022-05-30T18:35:50.462Z"
      },
      {
        "duration": 0,
        "start_time": "2022-05-30T18:35:50.465Z"
      },
      {
        "duration": 0,
        "start_time": "2022-05-30T18:35:50.466Z"
      },
      {
        "duration": 0,
        "start_time": "2022-05-30T18:35:50.468Z"
      },
      {
        "duration": 0,
        "start_time": "2022-05-30T18:35:50.473Z"
      },
      {
        "duration": 0,
        "start_time": "2022-05-30T18:35:50.475Z"
      },
      {
        "duration": 0,
        "start_time": "2022-05-30T18:35:50.476Z"
      },
      {
        "duration": 0,
        "start_time": "2022-05-30T18:35:50.478Z"
      },
      {
        "duration": 0,
        "start_time": "2022-05-30T18:35:50.479Z"
      },
      {
        "duration": 0,
        "start_time": "2022-05-30T18:35:50.480Z"
      },
      {
        "duration": 1206,
        "start_time": "2022-05-30T18:37:48.240Z"
      },
      {
        "duration": 916,
        "start_time": "2022-05-30T18:37:49.449Z"
      },
      {
        "duration": 77,
        "start_time": "2022-05-30T18:37:50.367Z"
      },
      {
        "duration": 5,
        "start_time": "2022-05-30T18:37:50.446Z"
      },
      {
        "duration": 0,
        "start_time": "2022-05-30T18:37:50.453Z"
      },
      {
        "duration": 0,
        "start_time": "2022-05-30T18:37:50.455Z"
      },
      {
        "duration": 0,
        "start_time": "2022-05-30T18:37:50.457Z"
      },
      {
        "duration": 0,
        "start_time": "2022-05-30T18:37:50.459Z"
      },
      {
        "duration": 0,
        "start_time": "2022-05-30T18:37:50.460Z"
      },
      {
        "duration": 0,
        "start_time": "2022-05-30T18:37:50.462Z"
      },
      {
        "duration": 0,
        "start_time": "2022-05-30T18:37:50.463Z"
      },
      {
        "duration": 0,
        "start_time": "2022-05-30T18:37:50.465Z"
      },
      {
        "duration": 0,
        "start_time": "2022-05-30T18:37:50.466Z"
      },
      {
        "duration": 0,
        "start_time": "2022-05-30T18:37:50.468Z"
      },
      {
        "duration": 0,
        "start_time": "2022-05-30T18:37:50.469Z"
      },
      {
        "duration": 0,
        "start_time": "2022-05-30T18:37:50.471Z"
      },
      {
        "duration": 0,
        "start_time": "2022-05-30T18:37:50.472Z"
      },
      {
        "duration": 0,
        "start_time": "2022-05-30T18:37:50.473Z"
      },
      {
        "duration": 0,
        "start_time": "2022-05-30T18:37:50.474Z"
      },
      {
        "duration": 0,
        "start_time": "2022-05-30T18:37:50.475Z"
      },
      {
        "duration": 0,
        "start_time": "2022-05-30T18:37:50.476Z"
      },
      {
        "duration": 0,
        "start_time": "2022-05-30T18:37:50.478Z"
      },
      {
        "duration": 0,
        "start_time": "2022-05-30T18:37:50.479Z"
      },
      {
        "duration": 0,
        "start_time": "2022-05-30T18:37:50.482Z"
      },
      {
        "duration": 0,
        "start_time": "2022-05-30T18:37:50.483Z"
      },
      {
        "duration": 0,
        "start_time": "2022-05-30T18:37:50.483Z"
      },
      {
        "duration": 0,
        "start_time": "2022-05-30T18:37:50.485Z"
      },
      {
        "duration": 0,
        "start_time": "2022-05-30T18:37:50.545Z"
      },
      {
        "duration": 1210,
        "start_time": "2022-05-30T18:38:59.119Z"
      },
      {
        "duration": 930,
        "start_time": "2022-05-30T18:39:00.332Z"
      },
      {
        "duration": 46,
        "start_time": "2022-05-30T18:39:01.263Z"
      },
      {
        "duration": 5,
        "start_time": "2022-05-30T18:39:01.311Z"
      },
      {
        "duration": 353,
        "start_time": "2022-05-30T18:39:01.317Z"
      },
      {
        "duration": 15,
        "start_time": "2022-05-30T18:39:01.672Z"
      },
      {
        "duration": 20,
        "start_time": "2022-05-30T18:39:01.689Z"
      },
      {
        "duration": 27,
        "start_time": "2022-05-30T18:39:01.744Z"
      },
      {
        "duration": 2411,
        "start_time": "2022-05-30T18:39:01.773Z"
      },
      {
        "duration": 2333,
        "start_time": "2022-05-30T18:39:04.188Z"
      },
      {
        "duration": 709,
        "start_time": "2022-05-30T18:39:06.524Z"
      },
      {
        "duration": 17,
        "start_time": "2022-05-30T18:39:07.234Z"
      },
      {
        "duration": 774,
        "start_time": "2022-05-30T18:39:07.252Z"
      },
      {
        "duration": 618,
        "start_time": "2022-05-30T18:39:08.029Z"
      },
      {
        "duration": 44,
        "start_time": "2022-05-30T18:39:08.649Z"
      },
      {
        "duration": 762,
        "start_time": "2022-05-30T18:39:08.695Z"
      },
      {
        "duration": 432,
        "start_time": "2022-05-30T18:39:09.458Z"
      },
      {
        "duration": 27,
        "start_time": "2022-05-30T18:39:09.892Z"
      },
      {
        "duration": 57,
        "start_time": "2022-05-30T18:39:09.921Z"
      },
      {
        "duration": 26,
        "start_time": "2022-05-30T18:39:09.979Z"
      },
      {
        "duration": 37,
        "start_time": "2022-05-30T18:39:10.007Z"
      },
      {
        "duration": 1003,
        "start_time": "2022-05-30T18:39:10.046Z"
      },
      {
        "duration": 190764,
        "start_time": "2022-05-30T18:39:11.052Z"
      },
      {
        "duration": 5,
        "start_time": "2022-05-30T18:42:21.818Z"
      },
      {
        "duration": 101664,
        "start_time": "2022-05-30T18:42:21.825Z"
      },
      {
        "duration": 19,
        "start_time": "2022-05-30T18:44:03.491Z"
      },
      {
        "duration": 658,
        "start_time": "2022-05-30T18:44:03.513Z"
      },
      {
        "duration": 4,
        "start_time": "2022-05-30T18:51:06.122Z"
      },
      {
        "duration": 1168,
        "start_time": "2022-05-30T18:51:49.548Z"
      },
      {
        "duration": 768,
        "start_time": "2022-05-30T18:52:34.436Z"
      },
      {
        "duration": 1036,
        "start_time": "2022-05-30T19:03:16.209Z"
      },
      {
        "duration": 1047,
        "start_time": "2022-05-30T19:03:31.402Z"
      },
      {
        "duration": 1047,
        "start_time": "2022-05-30T19:03:53.804Z"
      },
      {
        "duration": 1048,
        "start_time": "2022-05-30T19:05:41.397Z"
      },
      {
        "duration": 1044,
        "start_time": "2022-05-30T19:06:16.102Z"
      },
      {
        "duration": 205,
        "start_time": "2022-05-30T19:09:24.944Z"
      },
      {
        "duration": 1748,
        "start_time": "2022-05-30T19:10:23.197Z"
      },
      {
        "duration": 499,
        "start_time": "2022-05-30T19:11:10.017Z"
      },
      {
        "duration": 12,
        "start_time": "2022-05-30T19:12:53.525Z"
      },
      {
        "duration": 11,
        "start_time": "2022-05-30T19:13:02.683Z"
      },
      {
        "duration": 1182,
        "start_time": "2022-05-30T19:13:12.907Z"
      },
      {
        "duration": 909,
        "start_time": "2022-05-30T19:13:14.092Z"
      },
      {
        "duration": 67,
        "start_time": "2022-05-30T19:13:15.003Z"
      },
      {
        "duration": 5,
        "start_time": "2022-05-30T19:13:15.072Z"
      },
      {
        "duration": 336,
        "start_time": "2022-05-30T19:13:15.079Z"
      },
      {
        "duration": 14,
        "start_time": "2022-05-30T19:13:15.417Z"
      },
      {
        "duration": 23,
        "start_time": "2022-05-30T19:13:15.432Z"
      },
      {
        "duration": 25,
        "start_time": "2022-05-30T19:13:15.456Z"
      },
      {
        "duration": 3234,
        "start_time": "2022-05-30T19:13:15.482Z"
      },
      {
        "duration": 2298,
        "start_time": "2022-05-30T19:13:18.718Z"
      },
      {
        "duration": 714,
        "start_time": "2022-05-30T19:13:21.018Z"
      },
      {
        "duration": 18,
        "start_time": "2022-05-30T19:13:21.734Z"
      },
      {
        "duration": 822,
        "start_time": "2022-05-30T19:13:21.754Z"
      },
      {
        "duration": 567,
        "start_time": "2022-05-30T19:13:22.579Z"
      },
      {
        "duration": 40,
        "start_time": "2022-05-30T19:13:23.147Z"
      },
      {
        "duration": 779,
        "start_time": "2022-05-30T19:13:23.189Z"
      },
      {
        "duration": 450,
        "start_time": "2022-05-30T19:13:23.969Z"
      },
      {
        "duration": 35,
        "start_time": "2022-05-30T19:13:24.421Z"
      },
      {
        "duration": 37,
        "start_time": "2022-05-30T19:13:24.457Z"
      },
      {
        "duration": 7,
        "start_time": "2022-05-30T19:13:24.495Z"
      },
      {
        "duration": 10,
        "start_time": "2022-05-30T19:13:24.504Z"
      },
      {
        "duration": 1034,
        "start_time": "2022-05-30T19:13:24.516Z"
      },
      {
        "duration": 185623,
        "start_time": "2022-05-30T19:13:25.552Z"
      },
      {
        "duration": 5,
        "start_time": "2022-05-30T19:16:31.177Z"
      },
      {
        "duration": 92704,
        "start_time": "2022-05-30T19:16:31.183Z"
      },
      {
        "duration": 12,
        "start_time": "2022-05-30T19:18:03.889Z"
      },
      {
        "duration": 532,
        "start_time": "2022-05-30T19:18:03.903Z"
      },
      {
        "duration": 5083,
        "start_time": "2022-05-30T19:18:10.324Z"
      },
      {
        "duration": 189647,
        "start_time": "2022-05-30T19:23:34.211Z"
      },
      {
        "duration": 5,
        "start_time": "2022-05-30T19:26:43.862Z"
      },
      {
        "duration": 167,
        "start_time": "2022-05-30T19:33:45.477Z"
      },
      {
        "duration": 138,
        "start_time": "2022-05-30T19:34:31.808Z"
      },
      {
        "duration": 531,
        "start_time": "2022-05-30T19:34:48.411Z"
      },
      {
        "duration": 120,
        "start_time": "2022-05-30T19:35:00.530Z"
      },
      {
        "duration": 3,
        "start_time": "2022-05-30T20:39:26.429Z"
      },
      {
        "duration": 475,
        "start_time": "2022-05-30T20:39:26.439Z"
      },
      {
        "duration": 4,
        "start_time": "2022-05-30T20:39:29.489Z"
      },
      {
        "duration": 535,
        "start_time": "2022-05-30T20:39:31.959Z"
      },
      {
        "duration": 1078,
        "start_time": "2022-05-30T20:46:21.447Z"
      },
      {
        "duration": 424,
        "start_time": "2022-05-30T20:47:00.841Z"
      },
      {
        "duration": 775,
        "start_time": "2022-05-30T20:47:15.378Z"
      },
      {
        "duration": 185,
        "start_time": "2022-05-30T20:47:16.803Z"
      },
      {
        "duration": 394,
        "start_time": "2022-05-30T20:47:29.474Z"
      },
      {
        "duration": 705,
        "start_time": "2022-05-30T20:47:36.528Z"
      },
      {
        "duration": 232,
        "start_time": "2022-05-30T20:47:39.265Z"
      },
      {
        "duration": 188384,
        "start_time": "2022-05-30T20:50:11.693Z"
      },
      {
        "duration": 4,
        "start_time": "2022-05-30T21:01:54.279Z"
      },
      {
        "duration": 182940,
        "start_time": "2022-05-30T21:02:07.070Z"
      },
      {
        "duration": 4,
        "start_time": "2022-05-30T21:06:09.805Z"
      },
      {
        "duration": 187397,
        "start_time": "2022-05-30T21:06:54.496Z"
      },
      {
        "duration": 5,
        "start_time": "2022-05-30T21:10:01.896Z"
      },
      {
        "duration": 4,
        "start_time": "2022-05-30T21:33:29.638Z"
      },
      {
        "duration": 9,
        "start_time": "2022-05-30T21:39:11.103Z"
      },
      {
        "duration": 4,
        "start_time": "2022-05-30T21:40:49.151Z"
      },
      {
        "duration": 1281,
        "start_time": "2022-05-30T21:42:32.876Z"
      },
      {
        "duration": 223,
        "start_time": "2022-05-30T21:46:53.392Z"
      },
      {
        "duration": 212,
        "start_time": "2022-05-30T21:47:12.416Z"
      },
      {
        "duration": 15,
        "start_time": "2022-05-30T21:48:07.228Z"
      },
      {
        "duration": 19,
        "start_time": "2022-05-30T21:48:27.810Z"
      },
      {
        "duration": 1084,
        "start_time": "2022-05-30T21:49:56.269Z"
      },
      {
        "duration": 5,
        "start_time": "2022-05-30T21:57:11.469Z"
      },
      {
        "duration": 5,
        "start_time": "2022-05-30T21:57:29.656Z"
      },
      {
        "duration": 8,
        "start_time": "2022-05-30T22:02:50.177Z"
      },
      {
        "duration": 10,
        "start_time": "2022-05-30T22:06:35.590Z"
      },
      {
        "duration": 10,
        "start_time": "2022-05-30T22:06:56.074Z"
      },
      {
        "duration": 1275587,
        "start_time": "2022-05-30T22:07:17.348Z"
      },
      {
        "duration": 5,
        "start_time": "2022-05-30T22:28:41.500Z"
      },
      {
        "duration": 3,
        "start_time": "2022-05-30T22:30:38.436Z"
      },
      {
        "duration": 1155,
        "start_time": "2022-05-30T22:30:49.692Z"
      },
      {
        "duration": 810,
        "start_time": "2022-05-30T22:30:50.850Z"
      },
      {
        "duration": 164,
        "start_time": "2022-05-30T22:30:51.662Z"
      },
      {
        "duration": 54,
        "start_time": "2022-05-30T22:30:51.827Z"
      },
      {
        "duration": 4,
        "start_time": "2022-05-30T22:30:51.883Z"
      },
      {
        "duration": 371,
        "start_time": "2022-05-30T22:30:51.889Z"
      },
      {
        "duration": 11,
        "start_time": "2022-05-30T22:30:52.262Z"
      },
      {
        "duration": 30,
        "start_time": "2022-05-30T22:30:52.275Z"
      },
      {
        "duration": 41,
        "start_time": "2022-05-30T22:30:52.307Z"
      },
      {
        "duration": 2906,
        "start_time": "2022-05-30T22:30:52.352Z"
      },
      {
        "duration": 3181,
        "start_time": "2022-05-30T22:30:55.260Z"
      },
      {
        "duration": 674,
        "start_time": "2022-05-30T22:30:58.442Z"
      },
      {
        "duration": 11,
        "start_time": "2022-05-30T22:30:59.118Z"
      },
      {
        "duration": 729,
        "start_time": "2022-05-30T22:30:59.131Z"
      },
      {
        "duration": 584,
        "start_time": "2022-05-30T22:30:59.862Z"
      },
      {
        "duration": 42,
        "start_time": "2022-05-30T22:31:00.448Z"
      },
      {
        "duration": 737,
        "start_time": "2022-05-30T22:31:00.492Z"
      },
      {
        "duration": 452,
        "start_time": "2022-05-30T22:31:01.231Z"
      },
      {
        "duration": 29,
        "start_time": "2022-05-30T22:31:01.685Z"
      },
      {
        "duration": 65,
        "start_time": "2022-05-30T22:31:01.716Z"
      },
      {
        "duration": 5,
        "start_time": "2022-05-30T22:31:01.783Z"
      },
      {
        "duration": 27,
        "start_time": "2022-05-30T22:31:01.789Z"
      },
      {
        "duration": 1030,
        "start_time": "2022-05-30T22:31:01.818Z"
      },
      {
        "duration": 96,
        "start_time": "2022-05-30T22:31:02.850Z"
      },
      {
        "duration": 0,
        "start_time": "2022-05-30T22:31:02.948Z"
      },
      {
        "duration": 0,
        "start_time": "2022-05-30T22:31:02.949Z"
      },
      {
        "duration": 0,
        "start_time": "2022-05-30T22:31:02.951Z"
      },
      {
        "duration": 0,
        "start_time": "2022-05-30T22:31:02.953Z"
      },
      {
        "duration": 0,
        "start_time": "2022-05-30T22:31:02.954Z"
      },
      {
        "duration": 122,
        "start_time": "2022-05-30T22:32:04.134Z"
      },
      {
        "duration": 47134,
        "start_time": "2022-05-30T22:33:13.561Z"
      },
      {
        "duration": 38037,
        "start_time": "2022-05-30T22:34:25.926Z"
      },
      {
        "duration": 17,
        "start_time": "2022-05-30T22:35:35.679Z"
      },
      {
        "duration": 4,
        "start_time": "2022-05-30T22:35:54.609Z"
      },
      {
        "duration": 4,
        "start_time": "2022-05-30T22:36:16.575Z"
      },
      {
        "duration": 5033,
        "start_time": "2022-05-30T22:36:20.801Z"
      },
      {
        "duration": 5,
        "start_time": "2022-05-30T22:36:30.492Z"
      },
      {
        "duration": 11,
        "start_time": "2022-05-30T22:43:37.810Z"
      },
      {
        "duration": 3388,
        "start_time": "2022-05-30T22:43:44.804Z"
      },
      {
        "duration": 4,
        "start_time": "2022-05-30T22:44:34.781Z"
      },
      {
        "duration": 3372,
        "start_time": "2022-05-30T22:50:52.275Z"
      },
      {
        "duration": 3377,
        "start_time": "2022-05-30T22:51:13.822Z"
      },
      {
        "duration": 1252,
        "start_time": "2022-05-30T22:52:39.136Z"
      },
      {
        "duration": 781,
        "start_time": "2022-05-30T22:52:40.391Z"
      },
      {
        "duration": 181,
        "start_time": "2022-05-30T22:52:41.174Z"
      },
      {
        "duration": 42,
        "start_time": "2022-05-30T22:52:41.357Z"
      },
      {
        "duration": 5,
        "start_time": "2022-05-30T22:52:41.401Z"
      },
      {
        "duration": 326,
        "start_time": "2022-05-30T22:52:41.407Z"
      },
      {
        "duration": 19,
        "start_time": "2022-05-30T22:52:41.735Z"
      },
      {
        "duration": 15,
        "start_time": "2022-05-30T22:52:41.756Z"
      },
      {
        "duration": 22,
        "start_time": "2022-05-30T22:52:41.773Z"
      },
      {
        "duration": 2174,
        "start_time": "2022-05-30T22:52:41.798Z"
      },
      {
        "duration": 2132,
        "start_time": "2022-05-30T22:52:43.974Z"
      },
      {
        "duration": 666,
        "start_time": "2022-05-30T22:52:46.109Z"
      },
      {
        "duration": 13,
        "start_time": "2022-05-30T22:52:46.777Z"
      },
      {
        "duration": 708,
        "start_time": "2022-05-30T22:52:46.792Z"
      },
      {
        "duration": 562,
        "start_time": "2022-05-30T22:52:47.502Z"
      },
      {
        "duration": 39,
        "start_time": "2022-05-30T22:52:48.066Z"
      },
      {
        "duration": 690,
        "start_time": "2022-05-30T22:52:48.107Z"
      },
      {
        "duration": 413,
        "start_time": "2022-05-30T22:52:48.799Z"
      },
      {
        "duration": 39,
        "start_time": "2022-05-30T22:52:49.214Z"
      },
      {
        "duration": 39,
        "start_time": "2022-05-30T22:52:49.256Z"
      },
      {
        "duration": 6,
        "start_time": "2022-05-30T22:52:49.297Z"
      },
      {
        "duration": 14,
        "start_time": "2022-05-30T22:52:49.304Z"
      },
      {
        "duration": 1029,
        "start_time": "2022-05-30T22:52:49.320Z"
      },
      {
        "duration": 40454,
        "start_time": "2022-05-30T22:52:50.351Z"
      },
      {
        "duration": 17,
        "start_time": "2022-05-30T22:53:30.807Z"
      },
      {
        "duration": 4955,
        "start_time": "2022-05-30T22:53:30.826Z"
      },
      {
        "duration": 11,
        "start_time": "2022-05-30T22:53:35.783Z"
      },
      {
        "duration": 3363,
        "start_time": "2022-05-30T22:53:35.797Z"
      },
      {
        "duration": 3353,
        "start_time": "2022-05-30T22:54:34.810Z"
      },
      {
        "duration": 1143,
        "start_time": "2022-05-30T22:55:39.560Z"
      },
      {
        "duration": 805,
        "start_time": "2022-05-30T22:55:40.706Z"
      },
      {
        "duration": 186,
        "start_time": "2022-05-30T22:55:41.513Z"
      },
      {
        "duration": 60,
        "start_time": "2022-05-30T22:55:41.701Z"
      },
      {
        "duration": 4,
        "start_time": "2022-05-30T22:55:41.764Z"
      },
      {
        "duration": 342,
        "start_time": "2022-05-30T22:55:41.770Z"
      },
      {
        "duration": 31,
        "start_time": "2022-05-30T22:55:42.114Z"
      },
      {
        "duration": 22,
        "start_time": "2022-05-30T22:55:42.148Z"
      },
      {
        "duration": 23,
        "start_time": "2022-05-30T22:55:42.171Z"
      },
      {
        "duration": 2185,
        "start_time": "2022-05-30T22:55:42.196Z"
      },
      {
        "duration": 2197,
        "start_time": "2022-05-30T22:55:44.383Z"
      },
      {
        "duration": 664,
        "start_time": "2022-05-30T22:55:46.582Z"
      },
      {
        "duration": 12,
        "start_time": "2022-05-30T22:55:47.248Z"
      },
      {
        "duration": 751,
        "start_time": "2022-05-30T22:55:47.263Z"
      },
      {
        "duration": 567,
        "start_time": "2022-05-30T22:55:48.015Z"
      },
      {
        "duration": 40,
        "start_time": "2022-05-30T22:55:48.584Z"
      },
      {
        "duration": 728,
        "start_time": "2022-05-30T22:55:48.626Z"
      },
      {
        "duration": 428,
        "start_time": "2022-05-30T22:55:49.356Z"
      },
      {
        "duration": 164,
        "start_time": "2022-05-30T22:55:49.786Z"
      },
      {
        "duration": 38,
        "start_time": "2022-05-30T22:55:49.952Z"
      },
      {
        "duration": 5,
        "start_time": "2022-05-30T22:55:49.992Z"
      },
      {
        "duration": 11,
        "start_time": "2022-05-30T22:55:49.999Z"
      },
      {
        "duration": 1041,
        "start_time": "2022-05-30T22:55:50.012Z"
      },
      {
        "duration": 38338,
        "start_time": "2022-05-30T22:55:51.055Z"
      },
      {
        "duration": 16,
        "start_time": "2022-05-30T22:56:29.395Z"
      },
      {
        "duration": 4992,
        "start_time": "2022-05-30T22:56:29.412Z"
      },
      {
        "duration": 13,
        "start_time": "2022-05-30T22:56:34.405Z"
      },
      {
        "duration": 3396,
        "start_time": "2022-05-30T22:56:34.419Z"
      },
      {
        "duration": 1206,
        "start_time": "2022-05-30T22:58:31.533Z"
      },
      {
        "duration": 832,
        "start_time": "2022-05-30T22:58:32.742Z"
      },
      {
        "duration": 220,
        "start_time": "2022-05-30T22:58:33.576Z"
      },
      {
        "duration": 63,
        "start_time": "2022-05-30T22:58:33.798Z"
      },
      {
        "duration": 5,
        "start_time": "2022-05-30T22:58:33.864Z"
      },
      {
        "duration": 335,
        "start_time": "2022-05-30T22:58:33.871Z"
      },
      {
        "duration": 37,
        "start_time": "2022-05-30T22:58:34.207Z"
      },
      {
        "duration": 15,
        "start_time": "2022-05-30T22:58:34.246Z"
      },
      {
        "duration": 23,
        "start_time": "2022-05-30T22:58:34.262Z"
      },
      {
        "duration": 3098,
        "start_time": "2022-05-30T22:58:34.286Z"
      },
      {
        "duration": 2183,
        "start_time": "2022-05-30T22:58:37.386Z"
      },
      {
        "duration": 691,
        "start_time": "2022-05-30T22:58:39.571Z"
      },
      {
        "duration": 12,
        "start_time": "2022-05-30T22:58:40.263Z"
      },
      {
        "duration": 717,
        "start_time": "2022-05-30T22:58:40.277Z"
      },
      {
        "duration": 593,
        "start_time": "2022-05-30T22:58:40.996Z"
      },
      {
        "duration": 53,
        "start_time": "2022-05-30T22:58:41.591Z"
      },
      {
        "duration": 749,
        "start_time": "2022-05-30T22:58:41.646Z"
      },
      {
        "duration": 428,
        "start_time": "2022-05-30T22:58:42.397Z"
      },
      {
        "duration": 156,
        "start_time": "2022-05-30T22:58:42.827Z"
      },
      {
        "duration": 38,
        "start_time": "2022-05-30T22:58:42.984Z"
      },
      {
        "duration": 24,
        "start_time": "2022-05-30T22:58:43.024Z"
      },
      {
        "duration": 9,
        "start_time": "2022-05-30T22:58:43.050Z"
      },
      {
        "duration": 991,
        "start_time": "2022-05-30T22:58:43.061Z"
      },
      {
        "duration": 38094,
        "start_time": "2022-05-30T22:58:44.056Z"
      },
      {
        "duration": 17,
        "start_time": "2022-05-30T22:59:22.152Z"
      },
      {
        "duration": 4854,
        "start_time": "2022-05-30T22:59:22.171Z"
      },
      {
        "duration": 20,
        "start_time": "2022-05-30T22:59:27.026Z"
      },
      {
        "duration": 3385,
        "start_time": "2022-05-30T22:59:27.047Z"
      },
      {
        "duration": 1199,
        "start_time": "2022-05-30T23:00:04.505Z"
      },
      {
        "duration": 803,
        "start_time": "2022-05-30T23:00:05.708Z"
      },
      {
        "duration": 175,
        "start_time": "2022-05-30T23:00:06.513Z"
      },
      {
        "duration": 60,
        "start_time": "2022-05-30T23:00:06.691Z"
      },
      {
        "duration": 5,
        "start_time": "2022-05-30T23:00:06.753Z"
      },
      {
        "duration": 357,
        "start_time": "2022-05-30T23:00:06.760Z"
      },
      {
        "duration": 26,
        "start_time": "2022-05-30T23:00:07.119Z"
      },
      {
        "duration": 17,
        "start_time": "2022-05-30T23:00:07.147Z"
      },
      {
        "duration": 25,
        "start_time": "2022-05-30T23:00:07.166Z"
      },
      {
        "duration": 2267,
        "start_time": "2022-05-30T23:00:07.194Z"
      },
      {
        "duration": 2211,
        "start_time": "2022-05-30T23:00:09.463Z"
      },
      {
        "duration": 706,
        "start_time": "2022-05-30T23:00:11.676Z"
      },
      {
        "duration": 11,
        "start_time": "2022-05-30T23:00:12.383Z"
      },
      {
        "duration": 724,
        "start_time": "2022-05-30T23:00:12.396Z"
      },
      {
        "duration": 573,
        "start_time": "2022-05-30T23:00:13.122Z"
      },
      {
        "duration": 51,
        "start_time": "2022-05-30T23:00:13.697Z"
      },
      {
        "duration": 699,
        "start_time": "2022-05-30T23:00:13.750Z"
      },
      {
        "duration": 431,
        "start_time": "2022-05-30T23:00:14.451Z"
      },
      {
        "duration": 29,
        "start_time": "2022-05-30T23:00:14.884Z"
      },
      {
        "duration": 61,
        "start_time": "2022-05-30T23:00:14.915Z"
      },
      {
        "duration": 4,
        "start_time": "2022-05-30T23:00:14.977Z"
      },
      {
        "duration": 10,
        "start_time": "2022-05-30T23:00:14.983Z"
      },
      {
        "duration": 1053,
        "start_time": "2022-05-30T23:00:14.994Z"
      },
      {
        "duration": 37821,
        "start_time": "2022-05-30T23:00:16.050Z"
      },
      {
        "duration": 17,
        "start_time": "2022-05-30T23:00:53.873Z"
      },
      {
        "duration": 4913,
        "start_time": "2022-05-30T23:00:53.892Z"
      },
      {
        "duration": 13,
        "start_time": "2022-05-30T23:00:58.807Z"
      },
      {
        "duration": 3482,
        "start_time": "2022-05-30T23:00:58.823Z"
      },
      {
        "duration": 1102,
        "start_time": "2022-05-30T23:01:22.890Z"
      },
      {
        "duration": 757,
        "start_time": "2022-05-30T23:01:23.994Z"
      },
      {
        "duration": 166,
        "start_time": "2022-05-30T23:01:24.752Z"
      },
      {
        "duration": 59,
        "start_time": "2022-05-30T23:01:24.919Z"
      },
      {
        "duration": 4,
        "start_time": "2022-05-30T23:01:24.980Z"
      },
      {
        "duration": 330,
        "start_time": "2022-05-30T23:01:24.986Z"
      },
      {
        "duration": 12,
        "start_time": "2022-05-30T23:01:25.318Z"
      },
      {
        "duration": 16,
        "start_time": "2022-05-30T23:01:25.344Z"
      },
      {
        "duration": 22,
        "start_time": "2022-05-30T23:01:25.361Z"
      },
      {
        "duration": 2134,
        "start_time": "2022-05-30T23:01:25.385Z"
      },
      {
        "duration": 2158,
        "start_time": "2022-05-30T23:01:27.521Z"
      },
      {
        "duration": 679,
        "start_time": "2022-05-30T23:01:29.681Z"
      },
      {
        "duration": 12,
        "start_time": "2022-05-30T23:01:30.362Z"
      },
      {
        "duration": 722,
        "start_time": "2022-05-30T23:01:30.377Z"
      },
      {
        "duration": 573,
        "start_time": "2022-05-30T23:01:31.101Z"
      },
      {
        "duration": 41,
        "start_time": "2022-05-30T23:01:31.676Z"
      },
      {
        "duration": 759,
        "start_time": "2022-05-30T23:01:31.719Z"
      },
      {
        "duration": 426,
        "start_time": "2022-05-30T23:01:32.480Z"
      },
      {
        "duration": 41,
        "start_time": "2022-05-30T23:01:32.908Z"
      },
      {
        "duration": 40,
        "start_time": "2022-05-30T23:01:32.951Z"
      },
      {
        "duration": 4,
        "start_time": "2022-05-30T23:01:32.993Z"
      },
      {
        "duration": 33,
        "start_time": "2022-05-30T23:01:32.999Z"
      },
      {
        "duration": 1013,
        "start_time": "2022-05-30T23:01:33.034Z"
      },
      {
        "duration": 38035,
        "start_time": "2022-05-30T23:01:34.049Z"
      },
      {
        "duration": 23,
        "start_time": "2022-05-30T23:02:12.086Z"
      },
      {
        "duration": 4966,
        "start_time": "2022-05-30T23:02:12.111Z"
      },
      {
        "duration": 12,
        "start_time": "2022-05-30T23:02:17.079Z"
      },
      {
        "duration": 3401,
        "start_time": "2022-05-30T23:02:17.092Z"
      },
      {
        "duration": 2494,
        "start_time": "2022-05-31T17:35:18.984Z"
      },
      {
        "duration": 1996,
        "start_time": "2022-05-31T17:35:21.483Z"
      },
      {
        "duration": 406,
        "start_time": "2022-05-31T17:35:23.483Z"
      },
      {
        "duration": 111,
        "start_time": "2022-05-31T17:35:23.891Z"
      },
      {
        "duration": 67,
        "start_time": "2022-05-31T17:35:24.004Z"
      },
      {
        "duration": 1304,
        "start_time": "2022-05-31T17:35:24.073Z"
      },
      {
        "duration": 95,
        "start_time": "2022-05-31T17:35:25.385Z"
      },
      {
        "duration": 90,
        "start_time": "2022-05-31T17:35:25.482Z"
      },
      {
        "duration": 98,
        "start_time": "2022-05-31T17:35:25.573Z"
      },
      {
        "duration": 10197,
        "start_time": "2022-05-31T17:35:25.673Z"
      },
      {
        "duration": 6725,
        "start_time": "2022-05-31T17:35:35.872Z"
      },
      {
        "duration": 1874,
        "start_time": "2022-05-31T17:35:42.601Z"
      },
      {
        "duration": 13,
        "start_time": "2022-05-31T17:35:44.477Z"
      },
      {
        "duration": 2205,
        "start_time": "2022-05-31T17:35:44.495Z"
      },
      {
        "duration": 1667,
        "start_time": "2022-05-31T17:35:46.702Z"
      },
      {
        "duration": 102,
        "start_time": "2022-05-31T17:35:48.376Z"
      },
      {
        "duration": 2371,
        "start_time": "2022-05-31T17:35:48.495Z"
      },
      {
        "duration": 1303,
        "start_time": "2022-05-31T17:35:50.868Z"
      },
      {
        "duration": 106,
        "start_time": "2022-05-31T17:35:52.176Z"
      },
      {
        "duration": 105,
        "start_time": "2022-05-31T17:35:52.285Z"
      },
      {
        "duration": 7,
        "start_time": "2022-05-31T17:35:52.392Z"
      },
      {
        "duration": 10,
        "start_time": "2022-05-31T17:35:52.469Z"
      },
      {
        "duration": 2302,
        "start_time": "2022-05-31T17:35:52.482Z"
      },
      {
        "duration": 109919,
        "start_time": "2022-05-31T17:35:54.786Z"
      },
      {
        "duration": 28,
        "start_time": "2022-05-31T17:37:44.765Z"
      },
      {
        "duration": 13891,
        "start_time": "2022-05-31T17:37:44.795Z"
      },
      {
        "duration": 80,
        "start_time": "2022-05-31T17:37:58.688Z"
      },
      {
        "duration": 9520,
        "start_time": "2022-05-31T17:37:58.770Z"
      },
      {
        "duration": 4,
        "start_time": "2022-05-31T17:41:22.322Z"
      },
      {
        "duration": 4,
        "start_time": "2022-05-31T17:41:29.979Z"
      },
      {
        "duration": 2230,
        "start_time": "2022-05-31T17:41:39.835Z"
      },
      {
        "duration": 4,
        "start_time": "2022-05-31T17:41:42.067Z"
      },
      {
        "duration": 13189,
        "start_time": "2022-05-31T17:45:33.384Z"
      },
      {
        "duration": 8,
        "start_time": "2022-05-31T17:45:46.579Z"
      },
      {
        "duration": 7,
        "start_time": "2022-05-31T19:51:44.214Z"
      },
      {
        "duration": 1429,
        "start_time": "2022-05-31T19:52:13.213Z"
      },
      {
        "duration": 0,
        "start_time": "2022-05-31T19:52:14.644Z"
      },
      {
        "duration": 0,
        "start_time": "2022-05-31T19:52:14.645Z"
      },
      {
        "duration": 0,
        "start_time": "2022-05-31T19:52:14.647Z"
      },
      {
        "duration": 0,
        "start_time": "2022-05-31T19:52:14.648Z"
      },
      {
        "duration": 0,
        "start_time": "2022-05-31T19:52:14.649Z"
      },
      {
        "duration": 0,
        "start_time": "2022-05-31T19:52:14.730Z"
      },
      {
        "duration": 0,
        "start_time": "2022-05-31T19:52:14.730Z"
      },
      {
        "duration": 0,
        "start_time": "2022-05-31T19:52:14.731Z"
      },
      {
        "duration": 0,
        "start_time": "2022-05-31T19:52:14.732Z"
      },
      {
        "duration": 0,
        "start_time": "2022-05-31T19:52:14.734Z"
      },
      {
        "duration": 0,
        "start_time": "2022-05-31T19:52:14.737Z"
      },
      {
        "duration": 0,
        "start_time": "2022-05-31T19:52:14.738Z"
      },
      {
        "duration": 0,
        "start_time": "2022-05-31T19:52:14.740Z"
      },
      {
        "duration": 0,
        "start_time": "2022-05-31T19:52:14.742Z"
      },
      {
        "duration": 0,
        "start_time": "2022-05-31T19:52:14.743Z"
      },
      {
        "duration": 0,
        "start_time": "2022-05-31T19:52:14.745Z"
      },
      {
        "duration": 0,
        "start_time": "2022-05-31T19:52:14.746Z"
      },
      {
        "duration": 0,
        "start_time": "2022-05-31T19:52:14.747Z"
      },
      {
        "duration": 0,
        "start_time": "2022-05-31T19:52:14.748Z"
      },
      {
        "duration": 0,
        "start_time": "2022-05-31T19:52:14.749Z"
      },
      {
        "duration": 0,
        "start_time": "2022-05-31T19:52:14.750Z"
      },
      {
        "duration": 0,
        "start_time": "2022-05-31T19:52:14.751Z"
      },
      {
        "duration": 0,
        "start_time": "2022-05-31T19:52:14.781Z"
      },
      {
        "duration": 0,
        "start_time": "2022-05-31T19:52:14.782Z"
      },
      {
        "duration": 0,
        "start_time": "2022-05-31T19:52:14.784Z"
      },
      {
        "duration": 0,
        "start_time": "2022-05-31T19:52:14.785Z"
      },
      {
        "duration": 0,
        "start_time": "2022-05-31T19:52:14.786Z"
      },
      {
        "duration": 3,
        "start_time": "2022-05-31T19:58:31.939Z"
      },
      {
        "duration": 1143,
        "start_time": "2022-05-31T19:58:40.378Z"
      },
      {
        "duration": 3433,
        "start_time": "2022-05-31T19:58:41.524Z"
      },
      {
        "duration": 187,
        "start_time": "2022-05-31T19:58:44.959Z"
      },
      {
        "duration": 61,
        "start_time": "2022-05-31T19:58:45.148Z"
      },
      {
        "duration": 5,
        "start_time": "2022-05-31T19:58:45.211Z"
      },
      {
        "duration": 318,
        "start_time": "2022-05-31T19:58:45.218Z"
      },
      {
        "duration": 12,
        "start_time": "2022-05-31T19:58:45.538Z"
      },
      {
        "duration": 36,
        "start_time": "2022-05-31T19:58:45.551Z"
      },
      {
        "duration": 25,
        "start_time": "2022-05-31T19:58:45.588Z"
      },
      {
        "duration": 2159,
        "start_time": "2022-05-31T19:58:45.615Z"
      },
      {
        "duration": 2011,
        "start_time": "2022-05-31T19:58:47.776Z"
      },
      {
        "duration": 661,
        "start_time": "2022-05-31T19:58:49.794Z"
      },
      {
        "duration": 11,
        "start_time": "2022-05-31T19:58:50.456Z"
      },
      {
        "duration": 668,
        "start_time": "2022-05-31T19:58:50.479Z"
      },
      {
        "duration": 502,
        "start_time": "2022-05-31T19:58:51.149Z"
      },
      {
        "duration": 49,
        "start_time": "2022-05-31T19:58:51.653Z"
      },
      {
        "duration": 655,
        "start_time": "2022-05-31T19:58:51.703Z"
      },
      {
        "duration": 479,
        "start_time": "2022-05-31T19:58:52.360Z"
      },
      {
        "duration": 27,
        "start_time": "2022-05-31T19:58:52.841Z"
      },
      {
        "duration": 48,
        "start_time": "2022-05-31T19:58:52.869Z"
      },
      {
        "duration": 4,
        "start_time": "2022-05-31T19:58:52.919Z"
      },
      {
        "duration": 8,
        "start_time": "2022-05-31T19:58:52.925Z"
      },
      {
        "duration": 1349,
        "start_time": "2022-05-31T19:58:52.935Z"
      },
      {
        "duration": 35585,
        "start_time": "2022-05-31T19:58:54.293Z"
      },
      {
        "duration": 18,
        "start_time": "2022-05-31T19:59:29.880Z"
      },
      {
        "duration": 4927,
        "start_time": "2022-05-31T19:59:29.899Z"
      },
      {
        "duration": 10,
        "start_time": "2022-05-31T19:59:34.828Z"
      },
      {
        "duration": 3655,
        "start_time": "2022-05-31T19:59:34.840Z"
      },
      {
        "duration": 1111,
        "start_time": "2022-05-31T20:00:41.826Z"
      },
      {
        "duration": 1122,
        "start_time": "2022-05-31T20:01:52.197Z"
      },
      {
        "duration": 1078,
        "start_time": "2022-05-31T20:02:37.968Z"
      },
      {
        "duration": 5094,
        "start_time": "2022-05-31T20:05:00.756Z"
      },
      {
        "duration": 5111,
        "start_time": "2022-05-31T20:05:43.062Z"
      },
      {
        "duration": 5516,
        "start_time": "2022-05-31T20:06:06.378Z"
      },
      {
        "duration": 1146,
        "start_time": "2022-05-31T20:11:37.599Z"
      },
      {
        "duration": 765,
        "start_time": "2022-05-31T20:20:27.583Z"
      },
      {
        "duration": 18,
        "start_time": "2022-05-31T20:20:54.278Z"
      },
      {
        "duration": 11,
        "start_time": "2022-05-31T20:22:27.902Z"
      },
      {
        "duration": 58,
        "start_time": "2022-05-31T20:22:38.478Z"
      },
      {
        "duration": 989,
        "start_time": "2022-05-31T20:22:41.923Z"
      },
      {
        "duration": 911,
        "start_time": "2022-05-31T20:31:19.925Z"
      },
      {
        "duration": 852,
        "start_time": "2022-05-31T20:31:40.035Z"
      },
      {
        "duration": 35881,
        "start_time": "2022-05-31T20:32:59.803Z"
      },
      {
        "duration": 17,
        "start_time": "2022-05-31T20:33:40.172Z"
      },
      {
        "duration": 4,
        "start_time": "2022-05-31T20:35:01.829Z"
      },
      {
        "duration": 3,
        "start_time": "2022-05-31T20:35:21.116Z"
      },
      {
        "duration": 573,
        "start_time": "2022-05-31T20:35:30.306Z"
      },
      {
        "duration": 242,
        "start_time": "2022-05-31T20:35:44.148Z"
      },
      {
        "duration": 8,
        "start_time": "2022-05-31T20:36:10.043Z"
      },
      {
        "duration": 587,
        "start_time": "2022-05-31T20:36:13.919Z"
      },
      {
        "duration": 339,
        "start_time": "2022-05-31T20:36:47.460Z"
      },
      {
        "duration": 68,
        "start_time": "2022-05-31T20:44:30.777Z"
      },
      {
        "duration": 822,
        "start_time": "2022-05-31T20:44:41.503Z"
      },
      {
        "duration": 491,
        "start_time": "2022-05-31T20:44:54.100Z"
      },
      {
        "duration": 514,
        "start_time": "2022-05-31T20:45:07.635Z"
      },
      {
        "duration": 434,
        "start_time": "2022-05-31T20:48:13.664Z"
      },
      {
        "duration": 13,
        "start_time": "2022-05-31T20:48:16.297Z"
      },
      {
        "duration": 110,
        "start_time": "2022-05-31T20:48:33.474Z"
      },
      {
        "duration": 582,
        "start_time": "2022-05-31T20:51:10.351Z"
      },
      {
        "duration": 1262,
        "start_time": "2022-05-31T20:51:44.043Z"
      },
      {
        "duration": 403,
        "start_time": "2022-05-31T20:52:12.698Z"
      },
      {
        "duration": 1608,
        "start_time": "2022-05-31T20:52:16.805Z"
      },
      {
        "duration": 263,
        "start_time": "2022-05-31T20:53:16.626Z"
      },
      {
        "duration": 264,
        "start_time": "2022-05-31T20:53:34.117Z"
      },
      {
        "duration": 1753,
        "start_time": "2022-05-31T20:54:41.839Z"
      },
      {
        "duration": 5014,
        "start_time": "2022-05-31T20:54:55.724Z"
      },
      {
        "duration": 14,
        "start_time": "2022-05-31T20:55:24.267Z"
      },
      {
        "duration": 383,
        "start_time": "2022-05-31T20:55:44.548Z"
      },
      {
        "duration": 4800,
        "start_time": "2022-05-31T20:56:16.196Z"
      },
      {
        "duration": 1981,
        "start_time": "2022-05-31T21:02:49.929Z"
      },
      {
        "duration": 2257,
        "start_time": "2022-05-31T21:03:17.241Z"
      },
      {
        "duration": 129,
        "start_time": "2022-05-31T21:03:47.054Z"
      },
      {
        "duration": 186,
        "start_time": "2022-05-31T21:05:49.699Z"
      },
      {
        "duration": 4761,
        "start_time": "2022-05-31T21:07:40.045Z"
      },
      {
        "duration": 3169,
        "start_time": "2022-05-31T21:08:31.078Z"
      },
      {
        "duration": 32961,
        "start_time": "2022-05-31T21:09:33.807Z"
      },
      {
        "duration": 18,
        "start_time": "2022-05-31T21:10:20.848Z"
      },
      {
        "duration": 3,
        "start_time": "2022-05-31T21:10:30.047Z"
      },
      {
        "duration": 17,
        "start_time": "2022-05-31T21:10:33.694Z"
      },
      {
        "duration": 1769,
        "start_time": "2022-05-31T21:15:53.430Z"
      },
      {
        "duration": 41,
        "start_time": "2022-05-31T21:16:25.330Z"
      },
      {
        "duration": 1557,
        "start_time": "2022-05-31T21:16:28.006Z"
      },
      {
        "duration": 1654,
        "start_time": "2022-05-31T21:16:41.700Z"
      },
      {
        "duration": 3348,
        "start_time": "2022-05-31T21:17:27.646Z"
      },
      {
        "duration": 307,
        "start_time": "2022-05-31T21:22:38.009Z"
      },
      {
        "duration": 2060,
        "start_time": "2022-05-31T21:23:04.705Z"
      },
      {
        "duration": 416,
        "start_time": "2022-05-31T21:23:41.883Z"
      },
      {
        "duration": 1776,
        "start_time": "2022-05-31T21:23:59.722Z"
      },
      {
        "duration": 2488,
        "start_time": "2022-05-31T21:25:43.675Z"
      },
      {
        "duration": 45,
        "start_time": "2022-05-31T21:26:26.887Z"
      },
      {
        "duration": 53,
        "start_time": "2022-05-31T21:27:12.173Z"
      },
      {
        "duration": 37,
        "start_time": "2022-05-31T21:27:23.968Z"
      },
      {
        "duration": 20,
        "start_time": "2022-05-31T21:27:53.013Z"
      },
      {
        "duration": 271,
        "start_time": "2022-05-31T21:29:38.420Z"
      },
      {
        "duration": 464,
        "start_time": "2022-05-31T21:33:05.916Z"
      },
      {
        "duration": 5,
        "start_time": "2022-05-31T21:43:04.205Z"
      },
      {
        "duration": 1146,
        "start_time": "2022-05-31T21:43:11.637Z"
      },
      {
        "duration": 914,
        "start_time": "2022-05-31T21:43:26.692Z"
      },
      {
        "duration": 14,
        "start_time": "2022-05-31T21:43:33.695Z"
      },
      {
        "duration": 4544,
        "start_time": "2022-05-31T21:43:37.667Z"
      },
      {
        "duration": 948,
        "start_time": "2022-05-31T21:44:58.878Z"
      },
      {
        "duration": 22,
        "start_time": "2022-05-31T21:45:39.554Z"
      },
      {
        "duration": 730,
        "start_time": "2022-05-31T21:45:59.508Z"
      },
      {
        "duration": 18,
        "start_time": "2022-05-31T21:46:28.183Z"
      },
      {
        "duration": 946,
        "start_time": "2022-05-31T21:49:22.027Z"
      },
      {
        "duration": 1033,
        "start_time": "2022-05-31T21:51:00.809Z"
      },
      {
        "duration": 707,
        "start_time": "2022-05-31T21:51:52.800Z"
      },
      {
        "duration": 34669,
        "start_time": "2022-05-31T22:01:12.300Z"
      },
      {
        "duration": 19,
        "start_time": "2022-05-31T22:02:06.041Z"
      },
      {
        "duration": 22,
        "start_time": "2022-05-31T22:02:23.535Z"
      },
      {
        "duration": 22,
        "start_time": "2022-05-31T22:02:34.457Z"
      },
      {
        "duration": 18,
        "start_time": "2022-05-31T22:03:20.557Z"
      },
      {
        "duration": 17,
        "start_time": "2022-05-31T22:03:33.515Z"
      },
      {
        "duration": 18,
        "start_time": "2022-05-31T22:17:35.464Z"
      },
      {
        "duration": 15,
        "start_time": "2022-05-31T22:17:55.520Z"
      },
      {
        "duration": 26,
        "start_time": "2022-05-31T22:19:57.120Z"
      },
      {
        "duration": 695,
        "start_time": "2022-05-31T22:20:12.021Z"
      },
      {
        "duration": 29757,
        "start_time": "2022-05-31T22:21:27.931Z"
      },
      {
        "duration": 59848,
        "start_time": "2022-05-31T22:23:27.056Z"
      },
      {
        "duration": 57613,
        "start_time": "2022-05-31T22:26:13.134Z"
      },
      {
        "duration": 3040,
        "start_time": "2022-05-31T22:31:03.240Z"
      },
      {
        "duration": 57743,
        "start_time": "2022-05-31T22:32:13.396Z"
      },
      {
        "duration": 1036,
        "start_time": "2022-05-31T22:43:07.252Z"
      },
      {
        "duration": 1888,
        "start_time": "2022-05-31T22:43:15.650Z"
      },
      {
        "duration": 859,
        "start_time": "2022-05-31T22:43:21.984Z"
      },
      {
        "duration": 25,
        "start_time": "2022-05-31T22:47:06.195Z"
      },
      {
        "duration": 23,
        "start_time": "2022-05-31T22:47:28.140Z"
      },
      {
        "duration": 19,
        "start_time": "2022-05-31T22:47:32.709Z"
      },
      {
        "duration": 9,
        "start_time": "2022-05-31T22:48:46.631Z"
      },
      {
        "duration": 13,
        "start_time": "2022-05-31T22:48:51.896Z"
      },
      {
        "duration": 16,
        "start_time": "2022-05-31T22:50:13.750Z"
      },
      {
        "duration": 59026,
        "start_time": "2022-05-31T22:52:23.021Z"
      },
      {
        "duration": 844,
        "start_time": "2022-05-31T22:53:49.152Z"
      },
      {
        "duration": 1008,
        "start_time": "2022-05-31T23:05:35.299Z"
      },
      {
        "duration": 687,
        "start_time": "2022-05-31T23:05:36.309Z"
      },
      {
        "duration": 134,
        "start_time": "2022-05-31T23:05:36.997Z"
      },
      {
        "duration": 53,
        "start_time": "2022-05-31T23:05:37.133Z"
      },
      {
        "duration": 4,
        "start_time": "2022-05-31T23:05:37.187Z"
      },
      {
        "duration": 288,
        "start_time": "2022-05-31T23:05:37.192Z"
      },
      {
        "duration": 11,
        "start_time": "2022-05-31T23:05:37.481Z"
      },
      {
        "duration": 13,
        "start_time": "2022-05-31T23:05:37.493Z"
      },
      {
        "duration": 18,
        "start_time": "2022-05-31T23:05:37.507Z"
      },
      {
        "duration": 1827,
        "start_time": "2022-05-31T23:05:37.528Z"
      },
      {
        "duration": 1797,
        "start_time": "2022-05-31T23:05:39.356Z"
      },
      {
        "duration": 549,
        "start_time": "2022-05-31T23:05:41.155Z"
      },
      {
        "duration": 10,
        "start_time": "2022-05-31T23:05:41.705Z"
      },
      {
        "duration": 624,
        "start_time": "2022-05-31T23:05:41.716Z"
      },
      {
        "duration": 468,
        "start_time": "2022-05-31T23:05:42.341Z"
      },
      {
        "duration": 36,
        "start_time": "2022-05-31T23:05:42.811Z"
      },
      {
        "duration": 580,
        "start_time": "2022-05-31T23:05:42.849Z"
      },
      {
        "duration": 355,
        "start_time": "2022-05-31T23:05:43.430Z"
      },
      {
        "duration": 25,
        "start_time": "2022-05-31T23:05:43.786Z"
      },
      {
        "duration": 31,
        "start_time": "2022-05-31T23:05:43.812Z"
      },
      {
        "duration": 4,
        "start_time": "2022-05-31T23:05:43.844Z"
      },
      {
        "duration": 30,
        "start_time": "2022-05-31T23:05:43.850Z"
      },
      {
        "duration": 900,
        "start_time": "2022-05-31T23:05:43.882Z"
      },
      {
        "duration": 203,
        "start_time": "2022-05-31T23:05:44.787Z"
      },
      {
        "duration": 0,
        "start_time": "2022-05-31T23:05:44.991Z"
      },
      {
        "duration": 0,
        "start_time": "2022-05-31T23:05:44.992Z"
      },
      {
        "duration": 0,
        "start_time": "2022-05-31T23:05:44.993Z"
      },
      {
        "duration": 0,
        "start_time": "2022-05-31T23:05:44.993Z"
      },
      {
        "duration": 23,
        "start_time": "2022-05-31T23:07:45.776Z"
      },
      {
        "duration": 4,
        "start_time": "2022-05-31T23:08:42.659Z"
      },
      {
        "duration": 22,
        "start_time": "2022-05-31T23:08:44.694Z"
      },
      {
        "duration": 1040,
        "start_time": "2022-05-31T23:09:54.078Z"
      },
      {
        "duration": 716,
        "start_time": "2022-05-31T23:09:55.120Z"
      },
      {
        "duration": 143,
        "start_time": "2022-05-31T23:09:55.838Z"
      },
      {
        "duration": 37,
        "start_time": "2022-05-31T23:09:55.984Z"
      },
      {
        "duration": 4,
        "start_time": "2022-05-31T23:09:56.023Z"
      },
      {
        "duration": 296,
        "start_time": "2022-05-31T23:09:56.028Z"
      },
      {
        "duration": 11,
        "start_time": "2022-05-31T23:09:56.326Z"
      },
      {
        "duration": 13,
        "start_time": "2022-05-31T23:09:56.338Z"
      },
      {
        "duration": 43,
        "start_time": "2022-05-31T23:09:56.352Z"
      },
      {
        "duration": 1834,
        "start_time": "2022-05-31T23:09:56.398Z"
      },
      {
        "duration": 1855,
        "start_time": "2022-05-31T23:09:58.233Z"
      },
      {
        "duration": 586,
        "start_time": "2022-05-31T23:10:00.090Z"
      },
      {
        "duration": 11,
        "start_time": "2022-05-31T23:10:00.677Z"
      },
      {
        "duration": 624,
        "start_time": "2022-05-31T23:10:00.689Z"
      },
      {
        "duration": 554,
        "start_time": "2022-05-31T23:10:01.315Z"
      },
      {
        "duration": 39,
        "start_time": "2022-05-31T23:10:01.871Z"
      },
      {
        "duration": 697,
        "start_time": "2022-05-31T23:10:01.912Z"
      },
      {
        "duration": 441,
        "start_time": "2022-05-31T23:10:02.611Z"
      },
      {
        "duration": 29,
        "start_time": "2022-05-31T23:10:03.054Z"
      },
      {
        "duration": 32,
        "start_time": "2022-05-31T23:10:03.084Z"
      },
      {
        "duration": 4,
        "start_time": "2022-05-31T23:10:03.117Z"
      },
      {
        "duration": 8,
        "start_time": "2022-05-31T23:10:03.122Z"
      },
      {
        "duration": 851,
        "start_time": "2022-05-31T23:10:03.131Z"
      },
      {
        "duration": 5,
        "start_time": "2022-05-31T23:10:03.984Z"
      },
      {
        "duration": 118,
        "start_time": "2022-05-31T23:10:04.081Z"
      },
      {
        "duration": 0,
        "start_time": "2022-05-31T23:10:04.200Z"
      },
      {
        "duration": 0,
        "start_time": "2022-05-31T23:10:04.202Z"
      },
      {
        "duration": 0,
        "start_time": "2022-05-31T23:10:04.203Z"
      },
      {
        "duration": 0,
        "start_time": "2022-05-31T23:10:04.204Z"
      },
      {
        "duration": 0,
        "start_time": "2022-05-31T23:10:04.205Z"
      },
      {
        "duration": 4,
        "start_time": "2022-05-31T23:11:54.390Z"
      },
      {
        "duration": 4,
        "start_time": "2022-05-31T23:12:37.675Z"
      },
      {
        "duration": 4,
        "start_time": "2022-05-31T23:12:53.401Z"
      },
      {
        "duration": 21,
        "start_time": "2022-05-31T23:12:55.128Z"
      },
      {
        "duration": 3,
        "start_time": "2022-05-31T23:14:20.134Z"
      },
      {
        "duration": 19,
        "start_time": "2022-05-31T23:14:22.431Z"
      },
      {
        "duration": 993,
        "start_time": "2022-05-31T23:14:34.724Z"
      },
      {
        "duration": 694,
        "start_time": "2022-05-31T23:14:35.720Z"
      },
      {
        "duration": 132,
        "start_time": "2022-05-31T23:14:36.415Z"
      },
      {
        "duration": 48,
        "start_time": "2022-05-31T23:14:36.549Z"
      },
      {
        "duration": 3,
        "start_time": "2022-05-31T23:14:36.599Z"
      },
      {
        "duration": 283,
        "start_time": "2022-05-31T23:14:36.603Z"
      },
      {
        "duration": 11,
        "start_time": "2022-05-31T23:14:36.887Z"
      },
      {
        "duration": 12,
        "start_time": "2022-05-31T23:14:36.899Z"
      },
      {
        "duration": 18,
        "start_time": "2022-05-31T23:14:36.913Z"
      },
      {
        "duration": 1841,
        "start_time": "2022-05-31T23:14:36.934Z"
      },
      {
        "duration": 1792,
        "start_time": "2022-05-31T23:14:38.777Z"
      },
      {
        "duration": 558,
        "start_time": "2022-05-31T23:14:40.570Z"
      },
      {
        "duration": 10,
        "start_time": "2022-05-31T23:14:41.129Z"
      },
      {
        "duration": 601,
        "start_time": "2022-05-31T23:14:41.140Z"
      },
      {
        "duration": 482,
        "start_time": "2022-05-31T23:14:41.742Z"
      },
      {
        "duration": 42,
        "start_time": "2022-05-31T23:14:42.226Z"
      },
      {
        "duration": 596,
        "start_time": "2022-05-31T23:14:42.279Z"
      },
      {
        "duration": 356,
        "start_time": "2022-05-31T23:14:42.877Z"
      },
      {
        "duration": 131,
        "start_time": "2022-05-31T23:14:43.235Z"
      },
      {
        "duration": 43,
        "start_time": "2022-05-31T23:14:43.367Z"
      },
      {
        "duration": 4,
        "start_time": "2022-05-31T23:14:43.411Z"
      },
      {
        "duration": 9,
        "start_time": "2022-05-31T23:14:43.416Z"
      },
      {
        "duration": 955,
        "start_time": "2022-05-31T23:14:43.426Z"
      },
      {
        "duration": 96,
        "start_time": "2022-05-31T23:14:44.383Z"
      },
      {
        "duration": 119,
        "start_time": "2022-05-31T23:14:44.481Z"
      },
      {
        "duration": 0,
        "start_time": "2022-05-31T23:14:44.601Z"
      },
      {
        "duration": 0,
        "start_time": "2022-05-31T23:14:44.603Z"
      },
      {
        "duration": 1,
        "start_time": "2022-05-31T23:14:44.603Z"
      },
      {
        "duration": 0,
        "start_time": "2022-05-31T23:14:44.605Z"
      },
      {
        "duration": 0,
        "start_time": "2022-05-31T23:14:44.605Z"
      },
      {
        "duration": 19,
        "start_time": "2022-05-31T23:16:35.005Z"
      },
      {
        "duration": 1006,
        "start_time": "2022-05-31T23:17:49.391Z"
      },
      {
        "duration": 688,
        "start_time": "2022-05-31T23:17:50.400Z"
      },
      {
        "duration": 138,
        "start_time": "2022-05-31T23:17:51.090Z"
      },
      {
        "duration": 54,
        "start_time": "2022-05-31T23:17:51.230Z"
      },
      {
        "duration": 4,
        "start_time": "2022-05-31T23:17:51.286Z"
      },
      {
        "duration": 281,
        "start_time": "2022-05-31T23:17:51.291Z"
      },
      {
        "duration": 13,
        "start_time": "2022-05-31T23:17:51.579Z"
      },
      {
        "duration": 15,
        "start_time": "2022-05-31T23:17:51.593Z"
      },
      {
        "duration": 21,
        "start_time": "2022-05-31T23:17:51.609Z"
      },
      {
        "duration": 2483,
        "start_time": "2022-05-31T23:17:51.632Z"
      },
      {
        "duration": 1999,
        "start_time": "2022-05-31T23:17:54.116Z"
      },
      {
        "duration": 563,
        "start_time": "2022-05-31T23:17:56.117Z"
      },
      {
        "duration": 9,
        "start_time": "2022-05-31T23:17:56.681Z"
      },
      {
        "duration": 597,
        "start_time": "2022-05-31T23:17:56.693Z"
      },
      {
        "duration": 452,
        "start_time": "2022-05-31T23:17:57.291Z"
      },
      {
        "duration": 44,
        "start_time": "2022-05-31T23:17:57.745Z"
      },
      {
        "duration": 599,
        "start_time": "2022-05-31T23:17:57.791Z"
      },
      {
        "duration": 361,
        "start_time": "2022-05-31T23:17:58.392Z"
      },
      {
        "duration": 33,
        "start_time": "2022-05-31T23:17:58.755Z"
      },
      {
        "duration": 33,
        "start_time": "2022-05-31T23:17:58.789Z"
      },
      {
        "duration": 4,
        "start_time": "2022-05-31T23:17:58.823Z"
      },
      {
        "duration": 5,
        "start_time": "2022-05-31T23:17:58.829Z"
      },
      {
        "duration": 846,
        "start_time": "2022-05-31T23:17:58.836Z"
      },
      {
        "duration": 5,
        "start_time": "2022-05-31T23:17:59.684Z"
      },
      {
        "duration": 116,
        "start_time": "2022-05-31T23:17:59.780Z"
      },
      {
        "duration": 1,
        "start_time": "2022-05-31T23:17:59.897Z"
      },
      {
        "duration": 0,
        "start_time": "2022-05-31T23:17:59.899Z"
      },
      {
        "duration": 0,
        "start_time": "2022-05-31T23:17:59.900Z"
      },
      {
        "duration": 0,
        "start_time": "2022-05-31T23:17:59.900Z"
      },
      {
        "duration": 0,
        "start_time": "2022-05-31T23:17:59.901Z"
      },
      {
        "duration": 21,
        "start_time": "2022-05-31T23:18:57.218Z"
      },
      {
        "duration": 20,
        "start_time": "2022-05-31T23:20:26.416Z"
      },
      {
        "duration": 4,
        "start_time": "2022-05-31T23:20:37.964Z"
      },
      {
        "duration": 20,
        "start_time": "2022-05-31T23:20:40.066Z"
      },
      {
        "duration": 4,
        "start_time": "2022-05-31T23:21:09.298Z"
      },
      {
        "duration": 21,
        "start_time": "2022-05-31T23:21:11.927Z"
      },
      {
        "duration": 4,
        "start_time": "2022-05-31T23:21:46.220Z"
      },
      {
        "duration": 84445,
        "start_time": "2022-05-31T23:21:49.490Z"
      },
      {
        "duration": 1001,
        "start_time": "2022-05-31T23:23:41.514Z"
      },
      {
        "duration": 703,
        "start_time": "2022-05-31T23:23:42.517Z"
      },
      {
        "duration": 135,
        "start_time": "2022-05-31T23:23:43.222Z"
      },
      {
        "duration": 55,
        "start_time": "2022-05-31T23:23:43.358Z"
      },
      {
        "duration": 4,
        "start_time": "2022-05-31T23:23:43.414Z"
      },
      {
        "duration": 289,
        "start_time": "2022-05-31T23:23:43.420Z"
      },
      {
        "duration": 11,
        "start_time": "2022-05-31T23:23:43.711Z"
      },
      {
        "duration": 13,
        "start_time": "2022-05-31T23:23:43.723Z"
      },
      {
        "duration": 48,
        "start_time": "2022-05-31T23:23:43.737Z"
      },
      {
        "duration": 1900,
        "start_time": "2022-05-31T23:23:43.787Z"
      },
      {
        "duration": 1852,
        "start_time": "2022-05-31T23:23:45.689Z"
      },
      {
        "duration": 564,
        "start_time": "2022-05-31T23:23:47.543Z"
      },
      {
        "duration": 9,
        "start_time": "2022-05-31T23:23:48.109Z"
      },
      {
        "duration": 599,
        "start_time": "2022-05-31T23:23:48.121Z"
      },
      {
        "duration": 473,
        "start_time": "2022-05-31T23:23:48.722Z"
      },
      {
        "duration": 36,
        "start_time": "2022-05-31T23:23:49.196Z"
      },
      {
        "duration": 594,
        "start_time": "2022-05-31T23:23:49.233Z"
      },
      {
        "duration": 365,
        "start_time": "2022-05-31T23:23:49.828Z"
      },
      {
        "duration": 23,
        "start_time": "2022-05-31T23:23:50.194Z"
      },
      {
        "duration": 33,
        "start_time": "2022-05-31T23:23:50.219Z"
      },
      {
        "duration": 5,
        "start_time": "2022-05-31T23:23:50.280Z"
      },
      {
        "duration": 10,
        "start_time": "2022-05-31T23:23:50.286Z"
      },
      {
        "duration": 1388,
        "start_time": "2022-05-31T23:23:50.297Z"
      },
      {
        "duration": 94,
        "start_time": "2022-05-31T23:23:51.687Z"
      },
      {
        "duration": 84204,
        "start_time": "2022-05-31T23:23:51.782Z"
      },
      {
        "duration": 11,
        "start_time": "2022-05-31T23:25:15.987Z"
      },
      {
        "duration": 15,
        "start_time": "2022-05-31T23:25:15.999Z"
      },
      {
        "duration": 4704,
        "start_time": "2022-05-31T23:25:16.015Z"
      },
      {
        "duration": 11,
        "start_time": "2022-05-31T23:25:20.720Z"
      },
      {
        "duration": 845,
        "start_time": "2022-05-31T23:25:20.732Z"
      },
      {
        "duration": 1083,
        "start_time": "2022-05-31T23:30:02.266Z"
      },
      {
        "duration": 710,
        "start_time": "2022-05-31T23:30:03.352Z"
      },
      {
        "duration": 148,
        "start_time": "2022-05-31T23:30:04.063Z"
      },
      {
        "duration": 39,
        "start_time": "2022-05-31T23:30:04.212Z"
      },
      {
        "duration": 4,
        "start_time": "2022-05-31T23:30:04.252Z"
      },
      {
        "duration": 306,
        "start_time": "2022-05-31T23:30:04.258Z"
      },
      {
        "duration": 20,
        "start_time": "2022-05-31T23:30:04.566Z"
      },
      {
        "duration": 13,
        "start_time": "2022-05-31T23:30:04.587Z"
      },
      {
        "duration": 20,
        "start_time": "2022-05-31T23:30:04.601Z"
      },
      {
        "duration": 1896,
        "start_time": "2022-05-31T23:30:04.622Z"
      },
      {
        "duration": 1964,
        "start_time": "2022-05-31T23:30:06.520Z"
      },
      {
        "duration": 559,
        "start_time": "2022-05-31T23:30:08.486Z"
      },
      {
        "duration": 11,
        "start_time": "2022-05-31T23:30:09.047Z"
      },
      {
        "duration": 588,
        "start_time": "2022-05-31T23:30:09.060Z"
      },
      {
        "duration": 474,
        "start_time": "2022-05-31T23:30:09.649Z"
      },
      {
        "duration": 38,
        "start_time": "2022-05-31T23:30:10.125Z"
      },
      {
        "duration": 607,
        "start_time": "2022-05-31T23:30:10.165Z"
      },
      {
        "duration": 359,
        "start_time": "2022-05-31T23:30:10.774Z"
      },
      {
        "duration": 25,
        "start_time": "2022-05-31T23:30:11.135Z"
      },
      {
        "duration": 34,
        "start_time": "2022-05-31T23:30:11.180Z"
      },
      {
        "duration": 4,
        "start_time": "2022-05-31T23:30:11.215Z"
      },
      {
        "duration": 5,
        "start_time": "2022-05-31T23:30:11.221Z"
      },
      {
        "duration": 958,
        "start_time": "2022-05-31T23:30:11.227Z"
      },
      {
        "duration": 92,
        "start_time": "2022-05-31T23:30:12.189Z"
      },
      {
        "duration": 84060,
        "start_time": "2022-05-31T23:30:12.283Z"
      },
      {
        "duration": 9,
        "start_time": "2022-05-31T23:31:36.345Z"
      },
      {
        "duration": 30,
        "start_time": "2022-05-31T23:31:36.355Z"
      },
      {
        "duration": 4582,
        "start_time": "2022-05-31T23:31:36.386Z"
      },
      {
        "duration": 13,
        "start_time": "2022-05-31T23:31:40.969Z"
      },
      {
        "duration": 1046,
        "start_time": "2022-05-31T23:31:40.984Z"
      },
      {
        "duration": 1134,
        "start_time": "2022-06-01T13:40:54.300Z"
      },
      {
        "duration": 773,
        "start_time": "2022-06-01T13:40:55.437Z"
      },
      {
        "duration": 191,
        "start_time": "2022-06-01T13:40:56.211Z"
      },
      {
        "duration": 44,
        "start_time": "2022-06-01T13:40:56.404Z"
      },
      {
        "duration": 27,
        "start_time": "2022-06-01T13:40:56.450Z"
      },
      {
        "duration": 304,
        "start_time": "2022-06-01T13:40:56.479Z"
      },
      {
        "duration": 12,
        "start_time": "2022-06-01T13:40:56.785Z"
      },
      {
        "duration": 15,
        "start_time": "2022-06-01T13:40:56.798Z"
      },
      {
        "duration": 23,
        "start_time": "2022-06-01T13:40:56.814Z"
      },
      {
        "duration": 2167,
        "start_time": "2022-06-01T13:40:57.695Z"
      },
      {
        "duration": 4039,
        "start_time": "2022-06-01T13:40:59.864Z"
      },
      {
        "duration": 1290,
        "start_time": "2022-06-01T13:41:03.904Z"
      },
      {
        "duration": 13,
        "start_time": "2022-06-01T13:41:05.196Z"
      },
      {
        "duration": 1592,
        "start_time": "2022-06-01T13:41:05.211Z"
      },
      {
        "duration": 448,
        "start_time": "2022-06-01T13:41:06.805Z"
      },
      {
        "duration": 148,
        "start_time": "2022-06-01T13:41:07.254Z"
      },
      {
        "duration": 758,
        "start_time": "2022-06-01T13:41:07.404Z"
      },
      {
        "duration": 462,
        "start_time": "2022-06-01T13:41:08.164Z"
      },
      {
        "duration": 28,
        "start_time": "2022-06-01T13:41:08.629Z"
      },
      {
        "duration": 39,
        "start_time": "2022-06-01T13:41:08.676Z"
      },
      {
        "duration": 4,
        "start_time": "2022-06-01T13:41:08.717Z"
      },
      {
        "duration": 8,
        "start_time": "2022-06-01T13:41:08.723Z"
      },
      {
        "duration": 853,
        "start_time": "2022-06-01T13:41:08.733Z"
      },
      {
        "duration": 86,
        "start_time": "2022-06-01T13:41:09.590Z"
      },
      {
        "duration": 172802,
        "start_time": "2022-06-01T13:41:09.678Z"
      },
      {
        "duration": 18,
        "start_time": "2022-06-01T13:44:02.483Z"
      },
      {
        "duration": 96,
        "start_time": "2022-06-01T13:44:02.503Z"
      },
      {
        "duration": 10711,
        "start_time": "2022-06-01T13:44:02.602Z"
      },
      {
        "duration": 71,
        "start_time": "2022-06-01T13:44:13.315Z"
      },
      {
        "duration": 2102,
        "start_time": "2022-06-01T13:44:13.388Z"
      },
      {
        "duration": 5,
        "start_time": "2022-06-01T13:44:41.812Z"
      },
      {
        "duration": 9804,
        "start_time": "2022-06-01T13:45:15.307Z"
      },
      {
        "duration": 4,
        "start_time": "2022-06-01T13:45:25.113Z"
      },
      {
        "duration": 4884,
        "start_time": "2022-06-01T13:50:33.791Z"
      },
      {
        "duration": 4,
        "start_time": "2022-06-01T13:50:38.677Z"
      },
      {
        "duration": 5,
        "start_time": "2022-06-01T13:51:12.636Z"
      },
      {
        "duration": 3,
        "start_time": "2022-06-01T13:51:31.699Z"
      },
      {
        "duration": 3,
        "start_time": "2022-06-01T13:51:42.600Z"
      },
      {
        "duration": 5,
        "start_time": "2022-06-01T13:58:00.604Z"
      },
      {
        "duration": 11,
        "start_time": "2022-06-01T13:58:23.881Z"
      },
      {
        "duration": 105,
        "start_time": "2022-06-01T13:58:58.133Z"
      },
      {
        "duration": 4,
        "start_time": "2022-06-01T13:59:11.825Z"
      },
      {
        "duration": 1341,
        "start_time": "2022-06-01T14:51:26.139Z"
      },
      {
        "duration": 3367,
        "start_time": "2022-06-01T14:51:27.483Z"
      },
      {
        "duration": 162,
        "start_time": "2022-06-01T14:51:30.851Z"
      },
      {
        "duration": 52,
        "start_time": "2022-06-01T14:51:31.015Z"
      },
      {
        "duration": 6,
        "start_time": "2022-06-01T14:51:31.070Z"
      },
      {
        "duration": 338,
        "start_time": "2022-06-01T14:51:31.078Z"
      },
      {
        "duration": 18,
        "start_time": "2022-06-01T14:51:31.426Z"
      },
      {
        "duration": 44,
        "start_time": "2022-06-01T14:51:31.447Z"
      },
      {
        "duration": 44,
        "start_time": "2022-06-01T14:51:31.494Z"
      },
      {
        "duration": 2337,
        "start_time": "2022-06-01T14:51:31.540Z"
      },
      {
        "duration": 2301,
        "start_time": "2022-06-01T14:51:33.879Z"
      },
      {
        "duration": 746,
        "start_time": "2022-06-01T14:51:36.181Z"
      },
      {
        "duration": 14,
        "start_time": "2022-06-01T14:51:36.930Z"
      },
      {
        "duration": 778,
        "start_time": "2022-06-01T14:51:36.947Z"
      },
      {
        "duration": 636,
        "start_time": "2022-06-01T14:51:37.726Z"
      },
      {
        "duration": 52,
        "start_time": "2022-06-01T14:51:38.364Z"
      },
      {
        "duration": 797,
        "start_time": "2022-06-01T14:51:38.441Z"
      },
      {
        "duration": 476,
        "start_time": "2022-06-01T14:51:39.239Z"
      },
      {
        "duration": 43,
        "start_time": "2022-06-01T14:51:39.717Z"
      },
      {
        "duration": 42,
        "start_time": "2022-06-01T14:51:39.762Z"
      },
      {
        "duration": 12,
        "start_time": "2022-06-01T14:51:39.827Z"
      },
      {
        "duration": 11,
        "start_time": "2022-06-01T14:51:39.844Z"
      },
      {
        "duration": 2395,
        "start_time": "2022-06-01T14:51:39.857Z"
      },
      {
        "duration": 81,
        "start_time": "2022-06-01T14:51:42.257Z"
      },
      {
        "duration": 0,
        "start_time": "2022-06-01T14:51:42.343Z"
      },
      {
        "duration": 0,
        "start_time": "2022-06-01T14:51:42.346Z"
      },
      {
        "duration": 0,
        "start_time": "2022-06-01T14:51:42.347Z"
      },
      {
        "duration": 0,
        "start_time": "2022-06-01T14:51:42.350Z"
      },
      {
        "duration": 0,
        "start_time": "2022-06-01T14:51:42.351Z"
      },
      {
        "duration": 0,
        "start_time": "2022-06-01T14:51:42.352Z"
      },
      {
        "duration": 0,
        "start_time": "2022-06-01T14:51:42.354Z"
      },
      {
        "duration": 6,
        "start_time": "2022-06-01T14:51:52.315Z"
      },
      {
        "duration": 1273,
        "start_time": "2022-06-01T14:53:56.504Z"
      },
      {
        "duration": 894,
        "start_time": "2022-06-01T14:53:57.780Z"
      },
      {
        "duration": 206,
        "start_time": "2022-06-01T14:53:58.675Z"
      },
      {
        "duration": 79,
        "start_time": "2022-06-01T14:53:58.882Z"
      },
      {
        "duration": 5,
        "start_time": "2022-06-01T14:53:58.964Z"
      },
      {
        "duration": 352,
        "start_time": "2022-06-01T14:53:58.971Z"
      },
      {
        "duration": 21,
        "start_time": "2022-06-01T14:53:59.328Z"
      },
      {
        "duration": 28,
        "start_time": "2022-06-01T14:53:59.351Z"
      },
      {
        "duration": 50,
        "start_time": "2022-06-01T14:53:59.381Z"
      },
      {
        "duration": 2599,
        "start_time": "2022-06-01T14:53:59.433Z"
      },
      {
        "duration": 2388,
        "start_time": "2022-06-01T14:54:02.035Z"
      },
      {
        "duration": 771,
        "start_time": "2022-06-01T14:54:04.426Z"
      },
      {
        "duration": 12,
        "start_time": "2022-06-01T14:54:05.199Z"
      },
      {
        "duration": 822,
        "start_time": "2022-06-01T14:54:05.214Z"
      },
      {
        "duration": 627,
        "start_time": "2022-06-01T14:54:06.038Z"
      },
      {
        "duration": 43,
        "start_time": "2022-06-01T14:54:06.667Z"
      },
      {
        "duration": 799,
        "start_time": "2022-06-01T14:54:06.712Z"
      },
      {
        "duration": 470,
        "start_time": "2022-06-01T14:54:07.513Z"
      },
      {
        "duration": 27,
        "start_time": "2022-06-01T14:54:07.984Z"
      },
      {
        "duration": 49,
        "start_time": "2022-06-01T14:54:08.027Z"
      },
      {
        "duration": 5,
        "start_time": "2022-06-01T14:54:08.078Z"
      },
      {
        "duration": 10,
        "start_time": "2022-06-01T14:54:08.085Z"
      },
      {
        "duration": 1738,
        "start_time": "2022-06-01T14:54:08.097Z"
      },
      {
        "duration": 10,
        "start_time": "2022-06-01T14:54:09.837Z"
      },
      {
        "duration": 107173,
        "start_time": "2022-06-01T14:54:09.849Z"
      },
      {
        "duration": 19,
        "start_time": "2022-06-01T14:55:57.024Z"
      },
      {
        "duration": 41,
        "start_time": "2022-06-01T14:55:57.044Z"
      },
      {
        "duration": 5448,
        "start_time": "2022-06-01T14:55:57.087Z"
      },
      {
        "duration": 66,
        "start_time": "2022-06-01T14:56:02.537Z"
      },
      {
        "duration": 0,
        "start_time": "2022-06-01T14:56:02.605Z"
      },
      {
        "duration": 0,
        "start_time": "2022-06-01T14:56:02.607Z"
      },
      {
        "duration": 1221,
        "start_time": "2022-06-01T14:57:38.590Z"
      },
      {
        "duration": 842,
        "start_time": "2022-06-01T14:57:39.814Z"
      },
      {
        "duration": 182,
        "start_time": "2022-06-01T14:57:40.658Z"
      },
      {
        "duration": 42,
        "start_time": "2022-06-01T14:57:40.843Z"
      },
      {
        "duration": 4,
        "start_time": "2022-06-01T14:57:40.888Z"
      },
      {
        "duration": 361,
        "start_time": "2022-06-01T14:57:40.894Z"
      },
      {
        "duration": 13,
        "start_time": "2022-06-01T14:57:41.256Z"
      },
      {
        "duration": 17,
        "start_time": "2022-06-01T14:57:41.270Z"
      },
      {
        "duration": 46,
        "start_time": "2022-06-01T14:57:41.289Z"
      },
      {
        "duration": 2455,
        "start_time": "2022-06-01T14:57:41.337Z"
      },
      {
        "duration": 2576,
        "start_time": "2022-06-01T14:57:43.794Z"
      },
      {
        "duration": 2000,
        "start_time": "2022-06-01T14:57:46.371Z"
      },
      {
        "duration": 16,
        "start_time": "2022-06-01T14:57:48.426Z"
      },
      {
        "duration": 1517,
        "start_time": "2022-06-01T14:57:48.445Z"
      },
      {
        "duration": 1166,
        "start_time": "2022-06-01T14:57:49.965Z"
      },
      {
        "duration": 99,
        "start_time": "2022-06-01T14:57:51.133Z"
      },
      {
        "duration": 1244,
        "start_time": "2022-06-01T14:57:51.234Z"
      },
      {
        "duration": 488,
        "start_time": "2022-06-01T14:57:52.480Z"
      },
      {
        "duration": 28,
        "start_time": "2022-06-01T14:57:52.969Z"
      },
      {
        "duration": 60,
        "start_time": "2022-06-01T14:57:52.999Z"
      },
      {
        "duration": 4,
        "start_time": "2022-06-01T14:57:53.061Z"
      },
      {
        "duration": 11,
        "start_time": "2022-06-01T14:57:53.067Z"
      },
      {
        "duration": 950,
        "start_time": "2022-06-01T14:57:53.080Z"
      },
      {
        "duration": 95,
        "start_time": "2022-06-01T14:57:54.032Z"
      },
      {
        "duration": 101967,
        "start_time": "2022-06-01T14:57:54.129Z"
      },
      {
        "duration": 29,
        "start_time": "2022-06-01T14:59:36.098Z"
      },
      {
        "duration": 25,
        "start_time": "2022-06-01T14:59:36.129Z"
      },
      {
        "duration": 4959,
        "start_time": "2022-06-01T14:59:36.156Z"
      },
      {
        "duration": 17,
        "start_time": "2022-06-01T14:59:41.117Z"
      },
      {
        "duration": 1023,
        "start_time": "2022-06-01T14:59:41.136Z"
      },
      {
        "duration": 1087,
        "start_time": "2022-06-01T15:01:46.881Z"
      },
      {
        "duration": 762,
        "start_time": "2022-06-01T15:01:47.972Z"
      },
      {
        "duration": 169,
        "start_time": "2022-06-01T15:01:48.735Z"
      },
      {
        "duration": 63,
        "start_time": "2022-06-01T15:01:48.905Z"
      },
      {
        "duration": 5,
        "start_time": "2022-06-01T15:01:48.971Z"
      },
      {
        "duration": 352,
        "start_time": "2022-06-01T15:01:48.978Z"
      },
      {
        "duration": 14,
        "start_time": "2022-06-01T15:01:49.332Z"
      },
      {
        "duration": 15,
        "start_time": "2022-06-01T15:01:49.347Z"
      },
      {
        "duration": 23,
        "start_time": "2022-06-01T15:01:49.364Z"
      },
      {
        "duration": 2303,
        "start_time": "2022-06-01T15:01:49.426Z"
      },
      {
        "duration": 2176,
        "start_time": "2022-06-01T15:01:51.732Z"
      },
      {
        "duration": 659,
        "start_time": "2022-06-01T15:01:53.909Z"
      },
      {
        "duration": 11,
        "start_time": "2022-06-01T15:01:54.570Z"
      },
      {
        "duration": 702,
        "start_time": "2022-06-01T15:01:54.583Z"
      },
      {
        "duration": 557,
        "start_time": "2022-06-01T15:01:55.286Z"
      },
      {
        "duration": 42,
        "start_time": "2022-06-01T15:01:55.845Z"
      },
      {
        "duration": 726,
        "start_time": "2022-06-01T15:01:55.889Z"
      },
      {
        "duration": 421,
        "start_time": "2022-06-01T15:01:56.617Z"
      },
      {
        "duration": 26,
        "start_time": "2022-06-01T15:01:57.040Z"
      },
      {
        "duration": 64,
        "start_time": "2022-06-01T15:01:57.068Z"
      },
      {
        "duration": 4,
        "start_time": "2022-06-01T15:01:57.133Z"
      },
      {
        "duration": 24,
        "start_time": "2022-06-01T15:01:57.139Z"
      },
      {
        "duration": 965,
        "start_time": "2022-06-01T15:01:57.165Z"
      },
      {
        "duration": 92,
        "start_time": "2022-06-01T15:01:58.135Z"
      },
      {
        "duration": 97713,
        "start_time": "2022-06-01T15:01:58.229Z"
      },
      {
        "duration": 11,
        "start_time": "2022-06-01T15:03:35.943Z"
      },
      {
        "duration": 27,
        "start_time": "2022-06-01T15:03:35.955Z"
      },
      {
        "duration": 4900,
        "start_time": "2022-06-01T15:03:35.984Z"
      },
      {
        "duration": 13,
        "start_time": "2022-06-01T15:03:40.886Z"
      },
      {
        "duration": 4072,
        "start_time": "2022-06-01T15:03:40.900Z"
      },
      {
        "duration": 1157,
        "start_time": "2022-06-01T15:03:53.352Z"
      },
      {
        "duration": 790,
        "start_time": "2022-06-01T15:03:54.512Z"
      },
      {
        "duration": 202,
        "start_time": "2022-06-01T15:03:55.304Z"
      },
      {
        "duration": 63,
        "start_time": "2022-06-01T15:03:55.508Z"
      },
      {
        "duration": 4,
        "start_time": "2022-06-01T15:03:55.574Z"
      },
      {
        "duration": 336,
        "start_time": "2022-06-01T15:03:55.581Z"
      },
      {
        "duration": 22,
        "start_time": "2022-06-01T15:03:55.919Z"
      },
      {
        "duration": 20,
        "start_time": "2022-06-01T15:03:55.942Z"
      },
      {
        "duration": 23,
        "start_time": "2022-06-01T15:03:55.964Z"
      },
      {
        "duration": 2162,
        "start_time": "2022-06-01T15:03:56.028Z"
      },
      {
        "duration": 2215,
        "start_time": "2022-06-01T15:03:58.192Z"
      },
      {
        "duration": 670,
        "start_time": "2022-06-01T15:04:00.409Z"
      },
      {
        "duration": 11,
        "start_time": "2022-06-01T15:04:01.081Z"
      },
      {
        "duration": 839,
        "start_time": "2022-06-01T15:04:01.095Z"
      },
      {
        "duration": 575,
        "start_time": "2022-06-01T15:04:01.936Z"
      },
      {
        "duration": 47,
        "start_time": "2022-06-01T15:04:02.513Z"
      },
      {
        "duration": 712,
        "start_time": "2022-06-01T15:04:02.562Z"
      },
      {
        "duration": 415,
        "start_time": "2022-06-01T15:04:03.275Z"
      },
      {
        "duration": 38,
        "start_time": "2022-06-01T15:04:03.691Z"
      },
      {
        "duration": 41,
        "start_time": "2022-06-01T15:04:03.730Z"
      },
      {
        "duration": 4,
        "start_time": "2022-06-01T15:04:03.773Z"
      },
      {
        "duration": 17,
        "start_time": "2022-06-01T15:04:03.779Z"
      },
      {
        "duration": 1228,
        "start_time": "2022-06-01T15:04:03.798Z"
      },
      {
        "duration": 4,
        "start_time": "2022-06-01T15:04:05.028Z"
      },
      {
        "duration": 98668,
        "start_time": "2022-06-01T15:04:05.034Z"
      },
      {
        "duration": 26,
        "start_time": "2022-06-01T15:05:43.704Z"
      },
      {
        "duration": 21,
        "start_time": "2022-06-01T15:05:43.732Z"
      },
      {
        "duration": 5113,
        "start_time": "2022-06-01T15:05:43.754Z"
      },
      {
        "duration": 19,
        "start_time": "2022-06-01T15:05:48.870Z"
      },
      {
        "duration": 4313,
        "start_time": "2022-06-01T15:05:48.891Z"
      },
      {
        "duration": 1132,
        "start_time": "2022-06-01T15:06:19.782Z"
      },
      {
        "duration": 876,
        "start_time": "2022-06-01T15:06:20.917Z"
      },
      {
        "duration": 194,
        "start_time": "2022-06-01T15:06:21.796Z"
      },
      {
        "duration": 65,
        "start_time": "2022-06-01T15:06:21.993Z"
      },
      {
        "duration": 4,
        "start_time": "2022-06-01T15:06:22.061Z"
      },
      {
        "duration": 350,
        "start_time": "2022-06-01T15:06:22.067Z"
      },
      {
        "duration": 19,
        "start_time": "2022-06-01T15:06:22.419Z"
      },
      {
        "duration": 20,
        "start_time": "2022-06-01T15:06:22.440Z"
      },
      {
        "duration": 65,
        "start_time": "2022-06-01T15:06:22.462Z"
      },
      {
        "duration": 2355,
        "start_time": "2022-06-01T15:06:22.530Z"
      },
      {
        "duration": 2264,
        "start_time": "2022-06-01T15:06:24.888Z"
      },
      {
        "duration": 712,
        "start_time": "2022-06-01T15:06:27.154Z"
      },
      {
        "duration": 11,
        "start_time": "2022-06-01T15:06:27.868Z"
      },
      {
        "duration": 727,
        "start_time": "2022-06-01T15:06:27.881Z"
      },
      {
        "duration": 570,
        "start_time": "2022-06-01T15:06:28.609Z"
      },
      {
        "duration": 52,
        "start_time": "2022-06-01T15:06:29.181Z"
      },
      {
        "duration": 697,
        "start_time": "2022-06-01T15:06:29.235Z"
      },
      {
        "duration": 441,
        "start_time": "2022-06-01T15:06:29.934Z"
      },
      {
        "duration": 28,
        "start_time": "2022-06-01T15:06:30.376Z"
      },
      {
        "duration": 41,
        "start_time": "2022-06-01T15:06:30.426Z"
      },
      {
        "duration": 5,
        "start_time": "2022-06-01T15:06:30.469Z"
      },
      {
        "duration": 13,
        "start_time": "2022-06-01T15:06:30.475Z"
      },
      {
        "duration": 940,
        "start_time": "2022-06-01T15:06:30.490Z"
      },
      {
        "duration": 6,
        "start_time": "2022-06-01T15:06:31.432Z"
      },
      {
        "duration": 1202,
        "start_time": "2022-06-01T15:07:04.783Z"
      },
      {
        "duration": 751,
        "start_time": "2022-06-01T15:07:05.988Z"
      },
      {
        "duration": 162,
        "start_time": "2022-06-01T15:07:06.741Z"
      },
      {
        "duration": 54,
        "start_time": "2022-06-01T15:07:06.905Z"
      },
      {
        "duration": 5,
        "start_time": "2022-06-01T15:07:06.961Z"
      },
      {
        "duration": 319,
        "start_time": "2022-06-01T15:07:06.967Z"
      },
      {
        "duration": 13,
        "start_time": "2022-06-01T15:07:07.288Z"
      },
      {
        "duration": 33,
        "start_time": "2022-06-01T15:07:07.302Z"
      },
      {
        "duration": 29,
        "start_time": "2022-06-01T15:07:07.337Z"
      },
      {
        "duration": 2170,
        "start_time": "2022-06-01T15:07:07.368Z"
      },
      {
        "duration": 2304,
        "start_time": "2022-06-01T15:07:09.540Z"
      },
      {
        "duration": 668,
        "start_time": "2022-06-01T15:07:11.846Z"
      },
      {
        "duration": 18,
        "start_time": "2022-06-01T15:07:12.517Z"
      },
      {
        "duration": 749,
        "start_time": "2022-06-01T15:07:12.538Z"
      },
      {
        "duration": 554,
        "start_time": "2022-06-01T15:07:13.289Z"
      },
      {
        "duration": 40,
        "start_time": "2022-06-01T15:07:13.845Z"
      },
      {
        "duration": 715,
        "start_time": "2022-06-01T15:07:13.887Z"
      },
      {
        "duration": 472,
        "start_time": "2022-06-01T15:07:14.604Z"
      },
      {
        "duration": 29,
        "start_time": "2022-06-01T15:07:15.078Z"
      },
      {
        "duration": 39,
        "start_time": "2022-06-01T15:07:15.126Z"
      },
      {
        "duration": 5,
        "start_time": "2022-06-01T15:07:15.166Z"
      },
      {
        "duration": 13,
        "start_time": "2022-06-01T15:07:15.173Z"
      },
      {
        "duration": 1142,
        "start_time": "2022-06-01T15:07:15.187Z"
      },
      {
        "duration": 6,
        "start_time": "2022-06-01T15:07:16.333Z"
      },
      {
        "duration": 67831,
        "start_time": "2022-06-01T15:07:16.341Z"
      },
      {
        "duration": 14,
        "start_time": "2022-06-01T15:08:24.174Z"
      },
      {
        "duration": 45,
        "start_time": "2022-06-01T15:08:24.190Z"
      },
      {
        "duration": 4874,
        "start_time": "2022-06-01T15:08:24.236Z"
      },
      {
        "duration": 18,
        "start_time": "2022-06-01T15:08:29.112Z"
      },
      {
        "duration": 4098,
        "start_time": "2022-06-01T15:08:29.131Z"
      },
      {
        "duration": 2610,
        "start_time": "2022-06-01T15:09:14.033Z"
      },
      {
        "duration": 1183,
        "start_time": "2022-06-01T15:09:58.902Z"
      },
      {
        "duration": 804,
        "start_time": "2022-06-01T15:10:00.088Z"
      },
      {
        "duration": 173,
        "start_time": "2022-06-01T15:10:00.894Z"
      },
      {
        "duration": 72,
        "start_time": "2022-06-01T15:10:01.069Z"
      },
      {
        "duration": 5,
        "start_time": "2022-06-01T15:10:01.143Z"
      },
      {
        "duration": 365,
        "start_time": "2022-06-01T15:10:01.149Z"
      },
      {
        "duration": 22,
        "start_time": "2022-06-01T15:10:01.516Z"
      },
      {
        "duration": 69,
        "start_time": "2022-06-01T15:10:01.540Z"
      },
      {
        "duration": 42,
        "start_time": "2022-06-01T15:10:01.612Z"
      },
      {
        "duration": 2402,
        "start_time": "2022-06-01T15:10:01.658Z"
      },
      {
        "duration": 2269,
        "start_time": "2022-06-01T15:10:04.062Z"
      },
      {
        "duration": 686,
        "start_time": "2022-06-01T15:10:06.333Z"
      },
      {
        "duration": 11,
        "start_time": "2022-06-01T15:10:07.027Z"
      },
      {
        "duration": 728,
        "start_time": "2022-06-01T15:10:07.040Z"
      },
      {
        "duration": 580,
        "start_time": "2022-06-01T15:10:07.770Z"
      },
      {
        "duration": 39,
        "start_time": "2022-06-01T15:10:08.352Z"
      },
      {
        "duration": 735,
        "start_time": "2022-06-01T15:10:08.393Z"
      },
      {
        "duration": 459,
        "start_time": "2022-06-01T15:10:09.130Z"
      },
      {
        "duration": 41,
        "start_time": "2022-06-01T15:10:09.590Z"
      },
      {
        "duration": 40,
        "start_time": "2022-06-01T15:10:09.633Z"
      },
      {
        "duration": 4,
        "start_time": "2022-06-01T15:10:09.675Z"
      },
      {
        "duration": 8,
        "start_time": "2022-06-01T15:10:09.681Z"
      },
      {
        "duration": 1546,
        "start_time": "2022-06-01T15:10:09.690Z"
      },
      {
        "duration": 4,
        "start_time": "2022-06-01T15:10:11.328Z"
      },
      {
        "duration": 1211,
        "start_time": "2022-06-01T15:11:16.077Z"
      },
      {
        "duration": 789,
        "start_time": "2022-06-01T15:11:17.292Z"
      },
      {
        "duration": 174,
        "start_time": "2022-06-01T15:11:18.082Z"
      },
      {
        "duration": 44,
        "start_time": "2022-06-01T15:11:18.258Z"
      },
      {
        "duration": 5,
        "start_time": "2022-06-01T15:11:18.327Z"
      },
      {
        "duration": 393,
        "start_time": "2022-06-01T15:11:18.334Z"
      },
      {
        "duration": 13,
        "start_time": "2022-06-01T15:11:18.728Z"
      },
      {
        "duration": 44,
        "start_time": "2022-06-01T15:11:18.743Z"
      },
      {
        "duration": 37,
        "start_time": "2022-06-01T15:11:18.789Z"
      },
      {
        "duration": 2237,
        "start_time": "2022-06-01T15:11:18.828Z"
      },
      {
        "duration": 2309,
        "start_time": "2022-06-01T15:11:21.067Z"
      },
      {
        "duration": 693,
        "start_time": "2022-06-01T15:11:23.378Z"
      },
      {
        "duration": 12,
        "start_time": "2022-06-01T15:11:24.072Z"
      },
      {
        "duration": 757,
        "start_time": "2022-06-01T15:11:24.087Z"
      },
      {
        "duration": 562,
        "start_time": "2022-06-01T15:11:24.845Z"
      },
      {
        "duration": 52,
        "start_time": "2022-06-01T15:11:25.410Z"
      },
      {
        "duration": 722,
        "start_time": "2022-06-01T15:11:25.464Z"
      },
      {
        "duration": 456,
        "start_time": "2022-06-01T15:11:26.188Z"
      },
      {
        "duration": 34,
        "start_time": "2022-06-01T15:11:26.646Z"
      },
      {
        "duration": 58,
        "start_time": "2022-06-01T15:11:26.681Z"
      },
      {
        "duration": 4,
        "start_time": "2022-06-01T15:11:26.741Z"
      },
      {
        "duration": 12,
        "start_time": "2022-06-01T15:11:26.746Z"
      },
      {
        "duration": 873,
        "start_time": "2022-06-01T15:11:26.760Z"
      },
      {
        "duration": 91,
        "start_time": "2022-06-01T15:11:27.638Z"
      },
      {
        "duration": 69578,
        "start_time": "2022-06-01T15:11:27.731Z"
      },
      {
        "duration": 21,
        "start_time": "2022-06-01T15:12:37.310Z"
      },
      {
        "duration": 21,
        "start_time": "2022-06-01T15:12:37.333Z"
      },
      {
        "duration": 5008,
        "start_time": "2022-06-01T15:12:37.356Z"
      },
      {
        "duration": 12,
        "start_time": "2022-06-01T15:12:42.366Z"
      },
      {
        "duration": 2606,
        "start_time": "2022-06-01T15:12:42.380Z"
      },
      {
        "duration": 1116,
        "start_time": "2022-06-01T15:13:02.947Z"
      },
      {
        "duration": 724,
        "start_time": "2022-06-01T15:13:04.065Z"
      },
      {
        "duration": 171,
        "start_time": "2022-06-01T15:13:04.791Z"
      },
      {
        "duration": 62,
        "start_time": "2022-06-01T15:13:04.964Z"
      },
      {
        "duration": 4,
        "start_time": "2022-06-01T15:13:05.029Z"
      },
      {
        "duration": 310,
        "start_time": "2022-06-01T15:13:05.035Z"
      },
      {
        "duration": 12,
        "start_time": "2022-06-01T15:13:05.346Z"
      },
      {
        "duration": 16,
        "start_time": "2022-06-01T15:13:05.359Z"
      },
      {
        "duration": 55,
        "start_time": "2022-06-01T15:13:05.377Z"
      },
      {
        "duration": 2146,
        "start_time": "2022-06-01T15:13:05.434Z"
      },
      {
        "duration": 2124,
        "start_time": "2022-06-01T15:13:07.583Z"
      },
      {
        "duration": 638,
        "start_time": "2022-06-01T15:13:09.709Z"
      },
      {
        "duration": 10,
        "start_time": "2022-06-01T15:13:10.349Z"
      },
      {
        "duration": 675,
        "start_time": "2022-06-01T15:13:10.362Z"
      },
      {
        "duration": 545,
        "start_time": "2022-06-01T15:13:11.039Z"
      },
      {
        "duration": 57,
        "start_time": "2022-06-01T15:13:11.586Z"
      },
      {
        "duration": 674,
        "start_time": "2022-06-01T15:13:11.645Z"
      },
      {
        "duration": 420,
        "start_time": "2022-06-01T15:13:12.321Z"
      },
      {
        "duration": 26,
        "start_time": "2022-06-01T15:13:12.743Z"
      },
      {
        "duration": 59,
        "start_time": "2022-06-01T15:13:12.771Z"
      },
      {
        "duration": 4,
        "start_time": "2022-06-01T15:13:12.831Z"
      },
      {
        "duration": 8,
        "start_time": "2022-06-01T15:13:12.836Z"
      },
      {
        "duration": 984,
        "start_time": "2022-06-01T15:13:12.846Z"
      },
      {
        "duration": 94,
        "start_time": "2022-06-01T15:13:13.833Z"
      },
      {
        "duration": 66985,
        "start_time": "2022-06-01T15:13:13.929Z"
      },
      {
        "duration": 17,
        "start_time": "2022-06-01T15:14:20.915Z"
      },
      {
        "duration": 23,
        "start_time": "2022-06-01T15:14:20.934Z"
      },
      {
        "duration": 4852,
        "start_time": "2022-06-01T15:14:20.958Z"
      },
      {
        "duration": 18,
        "start_time": "2022-06-01T15:14:25.812Z"
      },
      {
        "duration": 2549,
        "start_time": "2022-06-01T15:14:25.832Z"
      },
      {
        "duration": 1178,
        "start_time": "2022-06-01T15:14:39.098Z"
      },
      {
        "duration": 749,
        "start_time": "2022-06-01T15:14:40.278Z"
      },
      {
        "duration": 173,
        "start_time": "2022-06-01T15:14:41.029Z"
      },
      {
        "duration": 58,
        "start_time": "2022-06-01T15:14:41.204Z"
      },
      {
        "duration": 5,
        "start_time": "2022-06-01T15:14:41.264Z"
      },
      {
        "duration": 349,
        "start_time": "2022-06-01T15:14:41.270Z"
      },
      {
        "duration": 16,
        "start_time": "2022-06-01T15:14:41.627Z"
      },
      {
        "duration": 21,
        "start_time": "2022-06-01T15:14:41.645Z"
      },
      {
        "duration": 62,
        "start_time": "2022-06-01T15:14:41.668Z"
      },
      {
        "duration": 2113,
        "start_time": "2022-06-01T15:14:41.732Z"
      },
      {
        "duration": 2086,
        "start_time": "2022-06-01T15:14:43.847Z"
      },
      {
        "duration": 667,
        "start_time": "2022-06-01T15:14:45.935Z"
      },
      {
        "duration": 11,
        "start_time": "2022-06-01T15:14:46.603Z"
      },
      {
        "duration": 681,
        "start_time": "2022-06-01T15:14:46.626Z"
      },
      {
        "duration": 540,
        "start_time": "2022-06-01T15:14:47.308Z"
      },
      {
        "duration": 38,
        "start_time": "2022-06-01T15:14:47.850Z"
      },
      {
        "duration": 685,
        "start_time": "2022-06-01T15:14:47.890Z"
      },
      {
        "duration": 415,
        "start_time": "2022-06-01T15:14:48.577Z"
      },
      {
        "duration": 44,
        "start_time": "2022-06-01T15:14:48.994Z"
      },
      {
        "duration": 40,
        "start_time": "2022-06-01T15:14:49.040Z"
      },
      {
        "duration": 4,
        "start_time": "2022-06-01T15:14:49.082Z"
      },
      {
        "duration": 10,
        "start_time": "2022-06-01T15:14:49.088Z"
      },
      {
        "duration": 931,
        "start_time": "2022-06-01T15:14:49.099Z"
      },
      {
        "duration": 94,
        "start_time": "2022-06-01T15:14:50.033Z"
      },
      {
        "duration": 69047,
        "start_time": "2022-06-01T15:14:50.129Z"
      },
      {
        "duration": 12,
        "start_time": "2022-06-01T15:15:59.178Z"
      },
      {
        "duration": 42,
        "start_time": "2022-06-01T15:15:59.191Z"
      },
      {
        "duration": 5155,
        "start_time": "2022-06-01T15:15:59.235Z"
      },
      {
        "duration": 13,
        "start_time": "2022-06-01T15:16:04.392Z"
      },
      {
        "duration": 2650,
        "start_time": "2022-06-01T15:16:04.407Z"
      },
      {
        "duration": 1132,
        "start_time": "2022-06-01T15:16:26.148Z"
      },
      {
        "duration": 788,
        "start_time": "2022-06-01T15:16:27.283Z"
      },
      {
        "duration": 171,
        "start_time": "2022-06-01T15:16:28.073Z"
      },
      {
        "duration": 43,
        "start_time": "2022-06-01T15:16:28.246Z"
      },
      {
        "duration": 5,
        "start_time": "2022-06-01T15:16:28.291Z"
      },
      {
        "duration": 335,
        "start_time": "2022-06-01T15:16:28.297Z"
      },
      {
        "duration": 12,
        "start_time": "2022-06-01T15:16:28.634Z"
      },
      {
        "duration": 27,
        "start_time": "2022-06-01T15:16:28.648Z"
      },
      {
        "duration": 51,
        "start_time": "2022-06-01T15:16:28.676Z"
      },
      {
        "duration": 2252,
        "start_time": "2022-06-01T15:16:28.728Z"
      },
      {
        "duration": 2264,
        "start_time": "2022-06-01T15:16:30.982Z"
      },
      {
        "duration": 680,
        "start_time": "2022-06-01T15:16:33.247Z"
      },
      {
        "duration": 11,
        "start_time": "2022-06-01T15:16:33.928Z"
      },
      {
        "duration": 736,
        "start_time": "2022-06-01T15:16:33.941Z"
      },
      {
        "duration": 577,
        "start_time": "2022-06-01T15:16:34.679Z"
      },
      {
        "duration": 40,
        "start_time": "2022-06-01T15:16:35.258Z"
      },
      {
        "duration": 732,
        "start_time": "2022-06-01T15:16:35.300Z"
      },
      {
        "duration": 441,
        "start_time": "2022-06-01T15:16:36.033Z"
      },
      {
        "duration": 28,
        "start_time": "2022-06-01T15:16:36.475Z"
      },
      {
        "duration": 58,
        "start_time": "2022-06-01T15:16:36.505Z"
      },
      {
        "duration": 4,
        "start_time": "2022-06-01T15:16:36.565Z"
      },
      {
        "duration": 9,
        "start_time": "2022-06-01T15:16:36.571Z"
      },
      {
        "duration": 1155,
        "start_time": "2022-06-01T15:16:36.581Z"
      },
      {
        "duration": 5,
        "start_time": "2022-06-01T15:16:37.828Z"
      },
      {
        "duration": 67223,
        "start_time": "2022-06-01T15:16:37.835Z"
      },
      {
        "duration": 12,
        "start_time": "2022-06-01T15:17:45.059Z"
      },
      {
        "duration": 27,
        "start_time": "2022-06-01T15:17:45.073Z"
      },
      {
        "duration": 4888,
        "start_time": "2022-06-01T15:17:45.101Z"
      },
      {
        "duration": 12,
        "start_time": "2022-06-01T15:17:49.991Z"
      },
      {
        "duration": 2683,
        "start_time": "2022-06-01T15:17:50.005Z"
      },
      {
        "duration": 1700,
        "start_time": "2022-06-01T18:05:38.801Z"
      },
      {
        "duration": 3094,
        "start_time": "2022-06-01T18:05:40.503Z"
      },
      {
        "duration": 178,
        "start_time": "2022-06-01T18:05:43.599Z"
      },
      {
        "duration": 71,
        "start_time": "2022-06-01T18:05:43.780Z"
      },
      {
        "duration": 6,
        "start_time": "2022-06-01T18:05:43.853Z"
      },
      {
        "duration": 349,
        "start_time": "2022-06-01T18:05:43.861Z"
      },
      {
        "duration": 16,
        "start_time": "2022-06-01T18:05:44.212Z"
      },
      {
        "duration": 21,
        "start_time": "2022-06-01T18:05:44.245Z"
      },
      {
        "duration": 31,
        "start_time": "2022-06-01T18:05:44.268Z"
      },
      {
        "duration": 2574,
        "start_time": "2022-06-01T18:05:44.302Z"
      },
      {
        "duration": 2522,
        "start_time": "2022-06-01T18:05:46.878Z"
      },
      {
        "duration": 726,
        "start_time": "2022-06-01T18:05:49.402Z"
      },
      {
        "duration": 20,
        "start_time": "2022-06-01T18:05:50.130Z"
      },
      {
        "duration": 795,
        "start_time": "2022-06-01T18:05:50.152Z"
      },
      {
        "duration": 616,
        "start_time": "2022-06-01T18:05:50.948Z"
      },
      {
        "duration": 36,
        "start_time": "2022-06-01T18:05:51.566Z"
      },
      {
        "duration": 834,
        "start_time": "2022-06-01T18:05:51.604Z"
      },
      {
        "duration": 494,
        "start_time": "2022-06-01T18:05:52.440Z"
      },
      {
        "duration": 167,
        "start_time": "2022-06-01T18:05:52.945Z"
      },
      {
        "duration": 51,
        "start_time": "2022-06-01T18:05:53.113Z"
      },
      {
        "duration": 4,
        "start_time": "2022-06-01T18:05:53.166Z"
      },
      {
        "duration": 21,
        "start_time": "2022-06-01T18:05:53.172Z"
      },
      {
        "duration": 1052,
        "start_time": "2022-06-01T18:05:53.195Z"
      },
      {
        "duration": 91,
        "start_time": "2022-06-01T18:05:54.254Z"
      },
      {
        "duration": 77375,
        "start_time": "2022-06-01T18:05:54.346Z"
      },
      {
        "duration": 22,
        "start_time": "2022-06-01T18:07:11.723Z"
      },
      {
        "duration": 51,
        "start_time": "2022-06-01T18:07:11.747Z"
      },
      {
        "duration": 5584,
        "start_time": "2022-06-01T18:07:11.802Z"
      },
      {
        "duration": 13,
        "start_time": "2022-06-01T18:07:17.388Z"
      },
      {
        "duration": 2998,
        "start_time": "2022-06-01T18:07:17.403Z"
      },
      {
        "duration": 1291,
        "start_time": "2022-06-01T18:08:45.862Z"
      },
      {
        "duration": 846,
        "start_time": "2022-06-01T18:08:47.161Z"
      },
      {
        "duration": 205,
        "start_time": "2022-06-01T18:08:48.009Z"
      },
      {
        "duration": 85,
        "start_time": "2022-06-01T18:08:48.217Z"
      },
      {
        "duration": 4,
        "start_time": "2022-06-01T18:08:48.304Z"
      },
      {
        "duration": 369,
        "start_time": "2022-06-01T18:08:48.310Z"
      },
      {
        "duration": 14,
        "start_time": "2022-06-01T18:08:48.681Z"
      },
      {
        "duration": 17,
        "start_time": "2022-06-01T18:08:48.697Z"
      },
      {
        "duration": 30,
        "start_time": "2022-06-01T18:08:48.749Z"
      },
      {
        "duration": 2795,
        "start_time": "2022-06-01T18:08:48.781Z"
      },
      {
        "duration": 2839,
        "start_time": "2022-06-01T18:08:51.578Z"
      },
      {
        "duration": 828,
        "start_time": "2022-06-01T18:08:54.419Z"
      },
      {
        "duration": 15,
        "start_time": "2022-06-01T18:08:55.250Z"
      },
      {
        "duration": 900,
        "start_time": "2022-06-01T18:08:55.267Z"
      },
      {
        "duration": 685,
        "start_time": "2022-06-01T18:08:56.169Z"
      },
      {
        "duration": 50,
        "start_time": "2022-06-01T18:08:56.856Z"
      },
      {
        "duration": 857,
        "start_time": "2022-06-01T18:08:56.908Z"
      },
      {
        "duration": 521,
        "start_time": "2022-06-01T18:08:57.767Z"
      },
      {
        "duration": 185,
        "start_time": "2022-06-01T18:08:58.290Z"
      },
      {
        "duration": 67,
        "start_time": "2022-06-01T18:08:58.477Z"
      },
      {
        "duration": 7,
        "start_time": "2022-06-01T18:08:58.547Z"
      },
      {
        "duration": 12,
        "start_time": "2022-06-01T18:08:58.556Z"
      },
      {
        "duration": 1277,
        "start_time": "2022-06-01T18:08:58.570Z"
      },
      {
        "duration": 12,
        "start_time": "2022-06-01T18:08:59.851Z"
      },
      {
        "duration": 79250,
        "start_time": "2022-06-01T18:08:59.866Z"
      },
      {
        "duration": 13,
        "start_time": "2022-06-01T18:10:19.117Z"
      },
      {
        "duration": 32,
        "start_time": "2022-06-01T18:10:19.145Z"
      },
      {
        "duration": 5524,
        "start_time": "2022-06-01T18:10:19.180Z"
      },
      {
        "duration": 14,
        "start_time": "2022-06-01T18:10:24.707Z"
      },
      {
        "duration": 3732,
        "start_time": "2022-06-01T18:10:24.722Z"
      },
      {
        "duration": 1273,
        "start_time": "2022-06-01T18:12:05.062Z"
      },
      {
        "duration": 836,
        "start_time": "2022-06-01T18:12:06.338Z"
      },
      {
        "duration": 205,
        "start_time": "2022-06-01T18:12:07.176Z"
      },
      {
        "duration": 67,
        "start_time": "2022-06-01T18:12:07.382Z"
      },
      {
        "duration": 7,
        "start_time": "2022-06-01T18:12:07.453Z"
      },
      {
        "duration": 351,
        "start_time": "2022-06-01T18:12:07.462Z"
      },
      {
        "duration": 31,
        "start_time": "2022-06-01T18:12:07.815Z"
      },
      {
        "duration": 25,
        "start_time": "2022-06-01T18:12:07.847Z"
      },
      {
        "duration": 45,
        "start_time": "2022-06-01T18:12:07.874Z"
      },
      {
        "duration": 2609,
        "start_time": "2022-06-01T18:12:07.920Z"
      },
      {
        "duration": 2677,
        "start_time": "2022-06-01T18:12:10.531Z"
      },
      {
        "duration": 798,
        "start_time": "2022-06-01T18:12:13.210Z"
      },
      {
        "duration": 14,
        "start_time": "2022-06-01T18:12:14.010Z"
      },
      {
        "duration": 889,
        "start_time": "2022-06-01T18:12:14.028Z"
      },
      {
        "duration": 658,
        "start_time": "2022-06-01T18:12:14.919Z"
      },
      {
        "duration": 51,
        "start_time": "2022-06-01T18:12:15.579Z"
      },
      {
        "duration": 864,
        "start_time": "2022-06-01T18:12:15.643Z"
      },
      {
        "duration": 485,
        "start_time": "2022-06-01T18:12:16.509Z"
      },
      {
        "duration": 59,
        "start_time": "2022-06-01T18:12:16.996Z"
      },
      {
        "duration": 42,
        "start_time": "2022-06-01T18:12:17.057Z"
      },
      {
        "duration": 5,
        "start_time": "2022-06-01T18:12:17.100Z"
      },
      {
        "duration": 10,
        "start_time": "2022-06-01T18:12:17.106Z"
      },
      {
        "duration": 1229,
        "start_time": "2022-06-01T18:12:17.117Z"
      },
      {
        "duration": 8,
        "start_time": "2022-06-01T18:12:18.348Z"
      },
      {
        "duration": 80245,
        "start_time": "2022-06-01T18:12:18.363Z"
      },
      {
        "duration": 14,
        "start_time": "2022-06-01T18:13:38.610Z"
      },
      {
        "duration": 26,
        "start_time": "2022-06-01T18:13:38.653Z"
      },
      {
        "duration": 5590,
        "start_time": "2022-06-01T18:13:38.681Z"
      },
      {
        "duration": 12,
        "start_time": "2022-06-01T18:13:44.273Z"
      },
      {
        "duration": 3837,
        "start_time": "2022-06-01T18:13:44.286Z"
      },
      {
        "duration": 1270,
        "start_time": "2022-06-01T18:14:12.231Z"
      },
      {
        "duration": 933,
        "start_time": "2022-06-01T18:14:13.504Z"
      },
      {
        "duration": 241,
        "start_time": "2022-06-01T18:14:14.439Z"
      },
      {
        "duration": 75,
        "start_time": "2022-06-01T18:14:14.682Z"
      },
      {
        "duration": 6,
        "start_time": "2022-06-01T18:14:14.760Z"
      },
      {
        "duration": 387,
        "start_time": "2022-06-01T18:14:14.768Z"
      },
      {
        "duration": 20,
        "start_time": "2022-06-01T18:14:15.157Z"
      },
      {
        "duration": 37,
        "start_time": "2022-06-01T18:14:15.181Z"
      },
      {
        "duration": 53,
        "start_time": "2022-06-01T18:14:15.221Z"
      },
      {
        "duration": 2791,
        "start_time": "2022-06-01T18:14:15.277Z"
      },
      {
        "duration": 2513,
        "start_time": "2022-06-01T18:14:18.070Z"
      },
      {
        "duration": 775,
        "start_time": "2022-06-01T18:14:20.585Z"
      },
      {
        "duration": 14,
        "start_time": "2022-06-01T18:14:21.362Z"
      },
      {
        "duration": 819,
        "start_time": "2022-06-01T18:14:21.379Z"
      },
      {
        "duration": 660,
        "start_time": "2022-06-01T18:14:22.200Z"
      },
      {
        "duration": 55,
        "start_time": "2022-06-01T18:14:22.861Z"
      },
      {
        "duration": 813,
        "start_time": "2022-06-01T18:14:22.918Z"
      },
      {
        "duration": 457,
        "start_time": "2022-06-01T18:14:23.733Z"
      },
      {
        "duration": 54,
        "start_time": "2022-06-01T18:14:24.193Z"
      },
      {
        "duration": 54,
        "start_time": "2022-06-01T18:14:24.249Z"
      },
      {
        "duration": 5,
        "start_time": "2022-06-01T18:14:24.307Z"
      },
      {
        "duration": 29,
        "start_time": "2022-06-01T18:14:24.314Z"
      },
      {
        "duration": 2099,
        "start_time": "2022-06-01T18:14:24.345Z"
      },
      {
        "duration": 6,
        "start_time": "2022-06-01T18:14:26.446Z"
      },
      {
        "duration": 80886,
        "start_time": "2022-06-01T18:14:26.454Z"
      },
      {
        "duration": 22,
        "start_time": "2022-06-01T18:15:47.342Z"
      },
      {
        "duration": 37,
        "start_time": "2022-06-01T18:15:47.366Z"
      },
      {
        "duration": 5491,
        "start_time": "2022-06-01T18:15:47.405Z"
      },
      {
        "duration": 16,
        "start_time": "2022-06-01T18:15:52.900Z"
      },
      {
        "duration": 3795,
        "start_time": "2022-06-01T18:15:52.918Z"
      },
      {
        "duration": 75,
        "start_time": "2022-06-02T13:55:55.761Z"
      },
      {
        "duration": 1249,
        "start_time": "2022-06-02T13:56:48.725Z"
      },
      {
        "duration": 795,
        "start_time": "2022-06-02T13:56:49.978Z"
      },
      {
        "duration": 185,
        "start_time": "2022-06-02T13:56:50.775Z"
      },
      {
        "duration": 79,
        "start_time": "2022-06-02T13:56:50.963Z"
      },
      {
        "duration": 4,
        "start_time": "2022-06-02T13:56:51.044Z"
      },
      {
        "duration": 328,
        "start_time": "2022-06-02T13:56:51.050Z"
      },
      {
        "duration": 15,
        "start_time": "2022-06-02T13:56:51.380Z"
      },
      {
        "duration": 37,
        "start_time": "2022-06-02T13:56:51.397Z"
      },
      {
        "duration": 24,
        "start_time": "2022-06-02T13:56:51.436Z"
      },
      {
        "duration": 2379,
        "start_time": "2022-06-02T13:56:51.463Z"
      },
      {
        "duration": 2504,
        "start_time": "2022-06-02T13:56:53.844Z"
      },
      {
        "duration": 792,
        "start_time": "2022-06-02T13:56:56.349Z"
      },
      {
        "duration": 13,
        "start_time": "2022-06-02T13:56:57.143Z"
      },
      {
        "duration": 794,
        "start_time": "2022-06-02T13:56:57.158Z"
      },
      {
        "duration": 658,
        "start_time": "2022-06-02T13:56:57.954Z"
      },
      {
        "duration": 49,
        "start_time": "2022-06-02T13:56:58.613Z"
      },
      {
        "duration": 809,
        "start_time": "2022-06-02T13:56:58.664Z"
      },
      {
        "duration": 480,
        "start_time": "2022-06-02T13:56:59.476Z"
      },
      {
        "duration": 206,
        "start_time": "2022-06-02T13:56:59.957Z"
      },
      {
        "duration": 62,
        "start_time": "2022-06-02T13:57:00.165Z"
      },
      {
        "duration": 6,
        "start_time": "2022-06-02T13:57:00.229Z"
      },
      {
        "duration": 20,
        "start_time": "2022-06-02T13:57:00.237Z"
      },
      {
        "duration": 1275,
        "start_time": "2022-06-02T13:57:00.259Z"
      },
      {
        "duration": 5,
        "start_time": "2022-06-02T13:57:01.625Z"
      },
      {
        "duration": 70491,
        "start_time": "2022-06-02T13:57:01.631Z"
      },
      {
        "duration": 28,
        "start_time": "2022-06-02T13:58:12.126Z"
      },
      {
        "duration": 31,
        "start_time": "2022-06-02T13:58:12.156Z"
      },
      {
        "duration": 5032,
        "start_time": "2022-06-02T13:58:12.191Z"
      },
      {
        "duration": 14,
        "start_time": "2022-06-02T13:58:17.226Z"
      },
      {
        "duration": 3487,
        "start_time": "2022-06-02T13:58:17.241Z"
      },
      {
        "duration": 48,
        "start_time": "2022-06-22T14:43:56.615Z"
      },
      {
        "duration": 1481,
        "start_time": "2022-06-22T18:05:34.757Z"
      },
      {
        "duration": 3021,
        "start_time": "2022-06-22T18:05:36.241Z"
      },
      {
        "duration": 201,
        "start_time": "2022-06-22T18:05:39.264Z"
      },
      {
        "duration": 56,
        "start_time": "2022-06-22T18:05:39.467Z"
      },
      {
        "duration": 6,
        "start_time": "2022-06-22T18:05:39.552Z"
      },
      {
        "duration": 373,
        "start_time": "2022-06-22T18:05:39.560Z"
      },
      {
        "duration": 30,
        "start_time": "2022-06-22T18:05:39.935Z"
      },
      {
        "duration": 29,
        "start_time": "2022-06-22T18:05:39.967Z"
      },
      {
        "duration": 62,
        "start_time": "2022-06-22T18:05:39.998Z"
      },
      {
        "duration": 2537,
        "start_time": "2022-06-22T18:05:40.064Z"
      },
      {
        "duration": 2664,
        "start_time": "2022-06-22T18:05:42.603Z"
      },
      {
        "duration": 668,
        "start_time": "2022-06-22T18:05:45.270Z"
      },
      {
        "duration": 20,
        "start_time": "2022-06-22T18:05:45.942Z"
      },
      {
        "duration": 960,
        "start_time": "2022-06-22T18:05:45.965Z"
      },
      {
        "duration": 554,
        "start_time": "2022-06-22T18:05:46.927Z"
      },
      {
        "duration": 56,
        "start_time": "2022-06-22T18:05:47.483Z"
      },
      {
        "duration": 794,
        "start_time": "2022-06-22T18:05:47.552Z"
      },
      {
        "duration": 582,
        "start_time": "2022-06-22T18:05:48.348Z"
      },
      {
        "duration": 53,
        "start_time": "2022-06-22T18:05:48.932Z"
      },
      {
        "duration": 82,
        "start_time": "2022-06-22T18:05:48.987Z"
      },
      {
        "duration": 6,
        "start_time": "2022-06-22T18:05:49.071Z"
      },
      {
        "duration": 11,
        "start_time": "2022-06-22T18:05:49.079Z"
      },
      {
        "duration": 1672,
        "start_time": "2022-06-22T18:05:49.092Z"
      },
      {
        "duration": 84,
        "start_time": "2022-06-22T18:05:50.767Z"
      },
      {
        "duration": 72354,
        "start_time": "2022-06-22T18:05:50.854Z"
      },
      {
        "duration": 15,
        "start_time": "2022-06-22T18:07:03.210Z"
      },
      {
        "duration": 51,
        "start_time": "2022-06-22T18:07:03.227Z"
      },
      {
        "duration": 5235,
        "start_time": "2022-06-22T18:07:03.283Z"
      },
      {
        "duration": 18,
        "start_time": "2022-06-22T18:07:08.520Z"
      },
      {
        "duration": 3476,
        "start_time": "2022-06-22T18:07:08.551Z"
      },
      {
        "duration": 1711,
        "start_time": "2022-06-22T18:09:59.407Z"
      },
      {
        "duration": 922,
        "start_time": "2022-06-22T18:10:01.121Z"
      },
      {
        "duration": 278,
        "start_time": "2022-06-22T18:10:02.046Z"
      },
      {
        "duration": 84,
        "start_time": "2022-06-22T18:10:02.326Z"
      },
      {
        "duration": 6,
        "start_time": "2022-06-22T18:10:02.414Z"
      },
      {
        "duration": 431,
        "start_time": "2022-06-22T18:10:02.421Z"
      },
      {
        "duration": 17,
        "start_time": "2022-06-22T18:10:02.854Z"
      },
      {
        "duration": 25,
        "start_time": "2022-06-22T18:10:02.873Z"
      },
      {
        "duration": 68,
        "start_time": "2022-06-22T18:10:02.900Z"
      },
      {
        "duration": 3302,
        "start_time": "2022-06-22T18:10:02.970Z"
      },
      {
        "duration": 3129,
        "start_time": "2022-06-22T18:10:06.274Z"
      },
      {
        "duration": 631,
        "start_time": "2022-06-22T18:10:09.405Z"
      },
      {
        "duration": 21,
        "start_time": "2022-06-22T18:10:10.039Z"
      },
      {
        "duration": 1387,
        "start_time": "2022-06-22T18:10:10.064Z"
      },
      {
        "duration": 759,
        "start_time": "2022-06-22T18:10:11.453Z"
      },
      {
        "duration": 67,
        "start_time": "2022-06-22T18:10:12.215Z"
      },
      {
        "duration": 914,
        "start_time": "2022-06-22T18:10:12.285Z"
      },
      {
        "duration": 601,
        "start_time": "2022-06-22T18:10:13.201Z"
      },
      {
        "duration": 47,
        "start_time": "2022-06-22T18:10:13.805Z"
      },
      {
        "duration": 55,
        "start_time": "2022-06-22T18:10:13.855Z"
      },
      {
        "duration": 6,
        "start_time": "2022-06-22T18:10:13.912Z"
      },
      {
        "duration": 42,
        "start_time": "2022-06-22T18:10:13.920Z"
      },
      {
        "duration": 2096,
        "start_time": "2022-06-22T18:10:13.964Z"
      },
      {
        "duration": 84,
        "start_time": "2022-06-22T18:10:16.067Z"
      },
      {
        "duration": 84186,
        "start_time": "2022-06-22T18:10:16.153Z"
      },
      {
        "duration": 25,
        "start_time": "2022-06-22T18:11:40.342Z"
      },
      {
        "duration": 30,
        "start_time": "2022-06-22T18:11:40.369Z"
      },
      {
        "duration": 5393,
        "start_time": "2022-06-22T18:11:40.402Z"
      },
      {
        "duration": 18,
        "start_time": "2022-06-22T18:11:45.797Z"
      },
      {
        "duration": 4863,
        "start_time": "2022-06-22T18:11:45.819Z"
      },
      {
        "duration": 1355,
        "start_time": "2022-06-22T18:22:09.868Z"
      },
      {
        "duration": 694,
        "start_time": "2022-06-22T18:22:11.225Z"
      },
      {
        "duration": 172,
        "start_time": "2022-06-22T18:22:11.921Z"
      },
      {
        "duration": 60,
        "start_time": "2022-06-22T18:22:12.095Z"
      },
      {
        "duration": 6,
        "start_time": "2022-06-22T18:22:12.156Z"
      },
      {
        "duration": 316,
        "start_time": "2022-06-22T18:22:12.163Z"
      },
      {
        "duration": 16,
        "start_time": "2022-06-22T18:22:12.481Z"
      },
      {
        "duration": 19,
        "start_time": "2022-06-22T18:22:12.499Z"
      },
      {
        "duration": 55,
        "start_time": "2022-06-22T18:22:12.520Z"
      },
      {
        "duration": 2332,
        "start_time": "2022-06-22T18:22:12.578Z"
      },
      {
        "duration": 2328,
        "start_time": "2022-06-22T18:22:14.912Z"
      },
      {
        "duration": 545,
        "start_time": "2022-06-22T18:22:17.242Z"
      },
      {
        "duration": 11,
        "start_time": "2022-06-22T18:22:17.789Z"
      },
      {
        "duration": 836,
        "start_time": "2022-06-22T18:22:17.802Z"
      },
      {
        "duration": 459,
        "start_time": "2022-06-22T18:22:18.640Z"
      },
      {
        "duration": 51,
        "start_time": "2022-06-22T18:22:19.100Z"
      },
      {
        "duration": 752,
        "start_time": "2022-06-22T18:22:19.152Z"
      },
      {
        "duration": 653,
        "start_time": "2022-06-22T18:22:19.907Z"
      },
      {
        "duration": 29,
        "start_time": "2022-06-22T18:22:20.562Z"
      },
      {
        "duration": 61,
        "start_time": "2022-06-22T18:22:20.593Z"
      },
      {
        "duration": 5,
        "start_time": "2022-06-22T18:22:20.656Z"
      },
      {
        "duration": 24,
        "start_time": "2022-06-22T18:22:20.663Z"
      },
      {
        "duration": 1076,
        "start_time": "2022-06-22T18:22:20.688Z"
      },
      {
        "duration": 10,
        "start_time": "2022-06-22T18:22:21.767Z"
      },
      {
        "duration": 69889,
        "start_time": "2022-06-22T18:22:21.779Z"
      },
      {
        "duration": 16,
        "start_time": "2022-06-22T18:23:31.670Z"
      },
      {
        "duration": 32,
        "start_time": "2022-06-22T18:23:31.688Z"
      },
      {
        "duration": 4683,
        "start_time": "2022-06-22T18:23:31.753Z"
      },
      {
        "duration": 20,
        "start_time": "2022-06-22T18:23:36.437Z"
      },
      {
        "duration": 3200,
        "start_time": "2022-06-22T18:23:36.459Z"
      }
    ],
    "kernelspec": {
      "name": "python",
      "display_name": "Python (Pyodide)",
      "language": "python"
    },
    "language_info": {
      "codemirror_mode": {
        "name": "python",
        "version": 3
      },
      "file_extension": ".py",
      "mimetype": "text/x-python",
      "name": "python",
      "nbconvert_exporter": "python",
      "pygments_lexer": "ipython3",
      "version": "3.8"
    },
    "toc": {
      "base_numbering": 1,
      "nav_menu": {
        "height": "146px",
        "width": "233px"
      },
      "number_sections": true,
      "sideBar": true,
      "skip_h1_title": true,
      "title_cell": "Содержание",
      "title_sidebar": "Contents",
      "toc_cell": true,
      "toc_position": {},
      "toc_section_display": true,
      "toc_window_display": true
    }
  },
  "nbformat_minor": 4,
  "nbformat": 4,
  "cells": [
    {
      "cell_type": "markdown",
      "source": "<h1>Содержание<span class=\"tocSkip\"></span></h1>\n<div class=\"toc\"><ul class=\"toc-item\"><li><span><a href=\"#Подготовка-данных\" data-toc-modified-id=\"Подготовка-данных-1\"><span class=\"toc-item-num\">1&nbsp;&nbsp;</span>Подготовка данных</a></span></li><li><span><a href=\"#Анализ-данных\" data-toc-modified-id=\"Анализ-данных-2\"><span class=\"toc-item-num\">2&nbsp;&nbsp;</span>Анализ данных</a></span></li><li><span><a href=\"#Модель\" data-toc-modified-id=\"Модель-3\"><span class=\"toc-item-num\">3&nbsp;&nbsp;</span>Модель</a></span></li></ul></div>",
      "metadata": {
        "toc": true
      }
    },
    {
      "cell_type": "markdown",
      "source": "# Восстановление золота из руды",
      "metadata": {}
    },
    {
      "cell_type": "markdown",
      "source": "Подготовьте прототип модели машинного обучения для «Цифры». Компания разрабатывает решения для эффективной работы промышленных предприятий.\n\nМодель должна предсказать коэффициент восстановления золота из золотосодержащей руды. Используйте данные с параметрами добычи и очистки. \n\nМодель поможет оптимизировать производство, чтобы не запускать предприятие с убыточными характеристиками.\n\nВам нужно:\n\n1. Подготовить данные;\n2. Провести исследовательский анализ данных;\n3. Построить и обучить модель.\n\nЧтобы выполнить проект, обращайтесь к библиотекам *pandas*, *matplotlib* и *sklearn.* Вам поможет их документация.\n\nДанные находятся в трёх файлах:  \n*\tgold_recovery_train_new.csv — обучающая выборка;\n*\tgold_recovery_test_new.csv — тестовая выборка;\n*\tgold_recovery_full_new.csv — исходные данные.\n\nДанные индексируются датой и временем получения информации (признак date). Соседние по времени параметры часто похожи.\nНекоторые параметры недоступны, потому что замеряются и/или рассчитываются значительно позже. Из-за этого в тестовой выборке отсутствуют некоторые признаки, которые могут быть в обучающей. Также в тестовом наборе нет целевых признаков.\nИсходный датасет содержит обучающую и тестовую выборки со всеми признаками.\n\n**Технологический процесс производства золота**  \n**1. Флотация**  \nВо флотационную установку подаётся смесь золотосодержащей руды. После обогащения получается черновой концентрат и «отвальные хвосты», то есть остатки продукта с низкой концентрацией ценных металлов.\nНа стабильность этого процесса влияет непостоянное и неоптимальное физико-химическое состояние флотационной пульпы (смеси твёрдых частиц и жидкости).  \n**2. Очистка**  \nЧерновой концентрат проходит две очистки. На выходе получается финальный концентрат и новые отвальные хвосты.\n\n**Описание данных**  \n**Технологический процесс**\n*\tRougher feed — исходное сырье\n*   Rougher additions (или reagent additions) — флотационные реагенты: Xanthate (ксантогенат (промотер, или активатор флотации), Sulphate(сульфат (на данном производстве сульфид натрия), Depressant (депрессант (силикат натрия)\n*\tRougher process (англ. «грубый процесс») — флотация\n*\tRougher tails — отвальные хвосты\n*\tFloat banks — флотационная установка\n*\tCleaner process — очистка\n*\tRougher Au — черновой концентрат золота\n*\tFinal Au — финальный концентрат золота  \n\n**Параметры этапов**\n*\tair amount — объём воздуха\n*\tfluid levels — уровень жидкости\n*\tfeed size — размер гранул сырья\n*\tfeed rate — скорость подачи\n",
      "metadata": {}
    },
    {
      "cell_type": "markdown",
      "source": "## Подготовка данных",
      "metadata": {}
    },
    {
      "cell_type": "code",
      "source": "import pandas as pd\nimport matplotlib.pyplot as plt\nimport numpy as np\nfrom sklearn.linear_model import LinearRegression\nfrom sklearn.tree import DecisionTreeRegressor\nfrom sklearn.ensemble import RandomForestRegressor\nfrom sklearn.metrics import mean_absolute_error, make_scorer\nfrom sklearn.model_selection import GridSearchCV",
      "metadata": {},
      "execution_count": 1,
      "outputs": []
    },
    {
      "cell_type": "code",
      "source": "try:\n    gold_recovery_train = pd.read_csv('/datasets/gold_recovery_train_new.csv') #обучающая выборка\n    gold_recovery_test = pd.read_csv('/datasets/gold_recovery_test_new.csv') #тестовая выборка \n    gold_recovery_full = pd.read_csv('/datasets/gold_recovery_full_new.csv') #исходные данные\nexcept FileNotFoundError:\n    display('Sorry, the file does not exist')",
      "metadata": {},
      "execution_count": 2,
      "outputs": []
    },
    {
      "cell_type": "code",
      "source": "dfs_all = [gold_recovery_train, gold_recovery_test, gold_recovery_full]\ndfs = [gold_recovery_train, gold_recovery_test]\n\ngold_recovery_train.name = 'gold_recovery_train'   \ngold_recovery_test.name = 'gold_recovery_test'\ngold_recovery_full.name = 'gold_recovery_full'\n\npd.set_option('display.max_columns', None)\n\nfor df in dfs_all:\n    display(df.name, df.head())",
      "metadata": {},
      "execution_count": 3,
      "outputs": [
        {
          "output_type": "display_data",
          "data": {
            "text/plain": [
              "'gold_recovery_train'"
            ]
          },
          "metadata": {}
        },
        {
          "output_type": "display_data",
          "data": {
            "text/html": [
              "<div>\n",
              "<style scoped>\n",
              "    .dataframe tbody tr th:only-of-type {\n",
              "        vertical-align: middle;\n",
              "    }\n",
              "\n",
              "    .dataframe tbody tr th {\n",
              "        vertical-align: top;\n",
              "    }\n",
              "\n",
              "    .dataframe thead th {\n",
              "        text-align: right;\n",
              "    }\n",
              "</style>\n",
              "<table border=\"1\" class=\"dataframe\">\n",
              "  <thead>\n",
              "    <tr style=\"text-align: right;\">\n",
              "      <th></th>\n",
              "      <th>date</th>\n",
              "      <th>final.output.concentrate_ag</th>\n",
              "      <th>final.output.concentrate_pb</th>\n",
              "      <th>final.output.concentrate_sol</th>\n",
              "      <th>final.output.concentrate_au</th>\n",
              "      <th>final.output.recovery</th>\n",
              "      <th>final.output.tail_ag</th>\n",
              "      <th>final.output.tail_pb</th>\n",
              "      <th>final.output.tail_sol</th>\n",
              "      <th>final.output.tail_au</th>\n",
              "      <th>primary_cleaner.input.sulfate</th>\n",
              "      <th>primary_cleaner.input.depressant</th>\n",
              "      <th>primary_cleaner.input.feed_size</th>\n",
              "      <th>primary_cleaner.input.xanthate</th>\n",
              "      <th>primary_cleaner.output.concentrate_ag</th>\n",
              "      <th>primary_cleaner.output.concentrate_pb</th>\n",
              "      <th>primary_cleaner.output.concentrate_sol</th>\n",
              "      <th>primary_cleaner.output.concentrate_au</th>\n",
              "      <th>primary_cleaner.output.tail_ag</th>\n",
              "      <th>primary_cleaner.output.tail_pb</th>\n",
              "      <th>primary_cleaner.output.tail_sol</th>\n",
              "      <th>primary_cleaner.output.tail_au</th>\n",
              "      <th>primary_cleaner.state.floatbank8_a_air</th>\n",
              "      <th>primary_cleaner.state.floatbank8_a_level</th>\n",
              "      <th>primary_cleaner.state.floatbank8_b_air</th>\n",
              "      <th>primary_cleaner.state.floatbank8_b_level</th>\n",
              "      <th>primary_cleaner.state.floatbank8_c_air</th>\n",
              "      <th>primary_cleaner.state.floatbank8_c_level</th>\n",
              "      <th>primary_cleaner.state.floatbank8_d_air</th>\n",
              "      <th>primary_cleaner.state.floatbank8_d_level</th>\n",
              "      <th>rougher.calculation.sulfate_to_au_concentrate</th>\n",
              "      <th>rougher.calculation.floatbank10_sulfate_to_au_feed</th>\n",
              "      <th>rougher.calculation.floatbank11_sulfate_to_au_feed</th>\n",
              "      <th>rougher.calculation.au_pb_ratio</th>\n",
              "      <th>rougher.input.feed_ag</th>\n",
              "      <th>rougher.input.feed_pb</th>\n",
              "      <th>rougher.input.feed_rate</th>\n",
              "      <th>rougher.input.feed_size</th>\n",
              "      <th>rougher.input.feed_sol</th>\n",
              "      <th>rougher.input.feed_au</th>\n",
              "      <th>rougher.input.floatbank10_sulfate</th>\n",
              "      <th>rougher.input.floatbank10_xanthate</th>\n",
              "      <th>rougher.input.floatbank11_sulfate</th>\n",
              "      <th>rougher.input.floatbank11_xanthate</th>\n",
              "      <th>rougher.output.concentrate_ag</th>\n",
              "      <th>rougher.output.concentrate_pb</th>\n",
              "      <th>rougher.output.concentrate_sol</th>\n",
              "      <th>rougher.output.concentrate_au</th>\n",
              "      <th>rougher.output.recovery</th>\n",
              "      <th>rougher.output.tail_ag</th>\n",
              "      <th>rougher.output.tail_pb</th>\n",
              "      <th>rougher.output.tail_sol</th>\n",
              "      <th>rougher.output.tail_au</th>\n",
              "      <th>rougher.state.floatbank10_a_air</th>\n",
              "      <th>rougher.state.floatbank10_a_level</th>\n",
              "      <th>rougher.state.floatbank10_b_air</th>\n",
              "      <th>rougher.state.floatbank10_b_level</th>\n",
              "      <th>rougher.state.floatbank10_c_air</th>\n",
              "      <th>rougher.state.floatbank10_c_level</th>\n",
              "      <th>rougher.state.floatbank10_d_air</th>\n",
              "      <th>rougher.state.floatbank10_d_level</th>\n",
              "      <th>rougher.state.floatbank10_e_air</th>\n",
              "      <th>rougher.state.floatbank10_e_level</th>\n",
              "      <th>rougher.state.floatbank10_f_air</th>\n",
              "      <th>rougher.state.floatbank10_f_level</th>\n",
              "      <th>secondary_cleaner.output.tail_ag</th>\n",
              "      <th>secondary_cleaner.output.tail_pb</th>\n",
              "      <th>secondary_cleaner.output.tail_sol</th>\n",
              "      <th>secondary_cleaner.output.tail_au</th>\n",
              "      <th>secondary_cleaner.state.floatbank2_a_air</th>\n",
              "      <th>secondary_cleaner.state.floatbank2_a_level</th>\n",
              "      <th>secondary_cleaner.state.floatbank2_b_air</th>\n",
              "      <th>secondary_cleaner.state.floatbank2_b_level</th>\n",
              "      <th>secondary_cleaner.state.floatbank3_a_air</th>\n",
              "      <th>secondary_cleaner.state.floatbank3_a_level</th>\n",
              "      <th>secondary_cleaner.state.floatbank3_b_air</th>\n",
              "      <th>secondary_cleaner.state.floatbank3_b_level</th>\n",
              "      <th>secondary_cleaner.state.floatbank4_a_air</th>\n",
              "      <th>secondary_cleaner.state.floatbank4_a_level</th>\n",
              "      <th>secondary_cleaner.state.floatbank4_b_air</th>\n",
              "      <th>secondary_cleaner.state.floatbank4_b_level</th>\n",
              "      <th>secondary_cleaner.state.floatbank5_a_air</th>\n",
              "      <th>secondary_cleaner.state.floatbank5_a_level</th>\n",
              "      <th>secondary_cleaner.state.floatbank5_b_air</th>\n",
              "      <th>secondary_cleaner.state.floatbank5_b_level</th>\n",
              "      <th>secondary_cleaner.state.floatbank6_a_air</th>\n",
              "      <th>secondary_cleaner.state.floatbank6_a_level</th>\n",
              "    </tr>\n",
              "  </thead>\n",
              "  <tbody>\n",
              "    <tr>\n",
              "      <th>0</th>\n",
              "      <td>2016-01-15 00:00:00</td>\n",
              "      <td>6.055403</td>\n",
              "      <td>9.889648</td>\n",
              "      <td>5.507324</td>\n",
              "      <td>42.192020</td>\n",
              "      <td>70.541216</td>\n",
              "      <td>10.411962</td>\n",
              "      <td>0.895447</td>\n",
              "      <td>16.904297</td>\n",
              "      <td>2.143149</td>\n",
              "      <td>127.092003</td>\n",
              "      <td>10.128295</td>\n",
              "      <td>7.25</td>\n",
              "      <td>0.988759</td>\n",
              "      <td>8.547551</td>\n",
              "      <td>10.389648</td>\n",
              "      <td>19.529297</td>\n",
              "      <td>34.174427</td>\n",
              "      <td>14.936526</td>\n",
              "      <td>2.534912</td>\n",
              "      <td>7.476074</td>\n",
              "      <td>2.106679</td>\n",
              "      <td>1549.775757</td>\n",
              "      <td>-498.912140</td>\n",
              "      <td>1551.434204</td>\n",
              "      <td>-516.403442</td>\n",
              "      <td>1549.873901</td>\n",
              "      <td>-498.666595</td>\n",
              "      <td>1554.367432</td>\n",
              "      <td>-493.428131</td>\n",
              "      <td>41885.707031</td>\n",
              "      <td>3481.779053</td>\n",
              "      <td>3520.337158</td>\n",
              "      <td>2.838687</td>\n",
              "      <td>6.100378</td>\n",
              "      <td>2.284912</td>\n",
              "      <td>523.546326</td>\n",
              "      <td>55.486599</td>\n",
              "      <td>36.808594</td>\n",
              "      <td>6.486150</td>\n",
              "      <td>11.986616</td>\n",
              "      <td>6.007990</td>\n",
              "      <td>11.836743</td>\n",
              "      <td>6.005818</td>\n",
              "      <td>11.500771</td>\n",
              "      <td>7.101074</td>\n",
              "      <td>28.029297</td>\n",
              "      <td>19.793808</td>\n",
              "      <td>87.107763</td>\n",
              "      <td>5.008018</td>\n",
              "      <td>0.508728</td>\n",
              "      <td>19.154297</td>\n",
              "      <td>1.170244</td>\n",
              "      <td>999.706909</td>\n",
              "      <td>-404.066986</td>\n",
              "      <td>1603.011353</td>\n",
              "      <td>-434.715027</td>\n",
              "      <td>1602.375000</td>\n",
              "      <td>-442.204468</td>\n",
              "      <td>1598.937256</td>\n",
              "      <td>-451.294128</td>\n",
              "      <td>1404.472046</td>\n",
              "      <td>-455.462982</td>\n",
              "      <td>1416.354980</td>\n",
              "      <td>-451.939636</td>\n",
              "      <td>14.500184</td>\n",
              "      <td>4.694824</td>\n",
              "      <td>8.764648</td>\n",
              "      <td>2.606185</td>\n",
              "      <td>25.853109</td>\n",
              "      <td>-498.526489</td>\n",
              "      <td>23.893660</td>\n",
              "      <td>-501.406281</td>\n",
              "      <td>23.961798</td>\n",
              "      <td>-495.262817</td>\n",
              "      <td>21.940409</td>\n",
              "      <td>-499.340973</td>\n",
              "      <td>14.016835</td>\n",
              "      <td>-502.488007</td>\n",
              "      <td>12.099931</td>\n",
              "      <td>-504.715942</td>\n",
              "      <td>9.925633</td>\n",
              "      <td>-498.310211</td>\n",
              "      <td>8.079666</td>\n",
              "      <td>-500.470978</td>\n",
              "      <td>14.151341</td>\n",
              "      <td>-605.841980</td>\n",
              "    </tr>\n",
              "    <tr>\n",
              "      <th>1</th>\n",
              "      <td>2016-01-15 01:00:00</td>\n",
              "      <td>6.029369</td>\n",
              "      <td>9.968944</td>\n",
              "      <td>5.257781</td>\n",
              "      <td>42.701629</td>\n",
              "      <td>69.266198</td>\n",
              "      <td>10.462676</td>\n",
              "      <td>0.927452</td>\n",
              "      <td>16.634514</td>\n",
              "      <td>2.224930</td>\n",
              "      <td>125.629232</td>\n",
              "      <td>10.296251</td>\n",
              "      <td>7.25</td>\n",
              "      <td>1.002663</td>\n",
              "      <td>8.558743</td>\n",
              "      <td>10.497069</td>\n",
              "      <td>19.369147</td>\n",
              "      <td>34.118526</td>\n",
              "      <td>16.250511</td>\n",
              "      <td>3.049646</td>\n",
              "      <td>6.733907</td>\n",
              "      <td>2.353017</td>\n",
              "      <td>1576.166671</td>\n",
              "      <td>-500.904965</td>\n",
              "      <td>1575.950626</td>\n",
              "      <td>-499.865889</td>\n",
              "      <td>1575.994189</td>\n",
              "      <td>-499.315107</td>\n",
              "      <td>1574.479259</td>\n",
              "      <td>-498.931665</td>\n",
              "      <td>42050.861809</td>\n",
              "      <td>3498.370979</td>\n",
              "      <td>3489.981857</td>\n",
              "      <td>2.858998</td>\n",
              "      <td>6.161113</td>\n",
              "      <td>2.266033</td>\n",
              "      <td>525.290581</td>\n",
              "      <td>57.278666</td>\n",
              "      <td>35.753385</td>\n",
              "      <td>6.478583</td>\n",
              "      <td>11.971193</td>\n",
              "      <td>6.005766</td>\n",
              "      <td>11.996163</td>\n",
              "      <td>6.012594</td>\n",
              "      <td>11.615865</td>\n",
              "      <td>7.278807</td>\n",
              "      <td>28.067063</td>\n",
              "      <td>20.050975</td>\n",
              "      <td>86.843261</td>\n",
              "      <td>4.955378</td>\n",
              "      <td>0.536689</td>\n",
              "      <td>18.965234</td>\n",
              "      <td>1.184827</td>\n",
              "      <td>1000.286398</td>\n",
              "      <td>-400.065196</td>\n",
              "      <td>1600.754587</td>\n",
              "      <td>-449.953435</td>\n",
              "      <td>1600.479580</td>\n",
              "      <td>-449.830646</td>\n",
              "      <td>1600.527589</td>\n",
              "      <td>-449.953649</td>\n",
              "      <td>1399.227084</td>\n",
              "      <td>-450.869848</td>\n",
              "      <td>1399.719514</td>\n",
              "      <td>-450.119001</td>\n",
              "      <td>14.265474</td>\n",
              "      <td>4.592547</td>\n",
              "      <td>9.001494</td>\n",
              "      <td>2.488248</td>\n",
              "      <td>25.880539</td>\n",
              "      <td>-499.989656</td>\n",
              "      <td>23.889530</td>\n",
              "      <td>-500.372428</td>\n",
              "      <td>23.970550</td>\n",
              "      <td>-500.085473</td>\n",
              "      <td>22.085714</td>\n",
              "      <td>-499.446897</td>\n",
              "      <td>13.992281</td>\n",
              "      <td>-505.503262</td>\n",
              "      <td>11.950531</td>\n",
              "      <td>-501.331529</td>\n",
              "      <td>10.039245</td>\n",
              "      <td>-500.169983</td>\n",
              "      <td>7.984757</td>\n",
              "      <td>-500.582168</td>\n",
              "      <td>13.998353</td>\n",
              "      <td>-599.787184</td>\n",
              "    </tr>\n",
              "    <tr>\n",
              "      <th>2</th>\n",
              "      <td>2016-01-15 02:00:00</td>\n",
              "      <td>6.055926</td>\n",
              "      <td>10.213995</td>\n",
              "      <td>5.383759</td>\n",
              "      <td>42.657501</td>\n",
              "      <td>68.116445</td>\n",
              "      <td>10.507046</td>\n",
              "      <td>0.953716</td>\n",
              "      <td>16.208849</td>\n",
              "      <td>2.257889</td>\n",
              "      <td>123.819808</td>\n",
              "      <td>11.316280</td>\n",
              "      <td>7.25</td>\n",
              "      <td>0.991265</td>\n",
              "      <td>8.603505</td>\n",
              "      <td>10.354494</td>\n",
              "      <td>19.167579</td>\n",
              "      <td>33.969464</td>\n",
              "      <td>16.491823</td>\n",
              "      <td>3.124664</td>\n",
              "      <td>6.471768</td>\n",
              "      <td>2.416800</td>\n",
              "      <td>1601.556163</td>\n",
              "      <td>-499.997791</td>\n",
              "      <td>1600.386685</td>\n",
              "      <td>-500.607762</td>\n",
              "      <td>1602.003542</td>\n",
              "      <td>-500.870069</td>\n",
              "      <td>1599.541515</td>\n",
              "      <td>-499.827444</td>\n",
              "      <td>42018.101184</td>\n",
              "      <td>3495.348910</td>\n",
              "      <td>3502.359819</td>\n",
              "      <td>2.945989</td>\n",
              "      <td>6.116455</td>\n",
              "      <td>2.159622</td>\n",
              "      <td>530.026610</td>\n",
              "      <td>57.510649</td>\n",
              "      <td>35.971630</td>\n",
              "      <td>6.362222</td>\n",
              "      <td>11.920603</td>\n",
              "      <td>6.197377</td>\n",
              "      <td>11.920305</td>\n",
              "      <td>6.204633</td>\n",
              "      <td>11.695753</td>\n",
              "      <td>7.216833</td>\n",
              "      <td>27.454037</td>\n",
              "      <td>19.737170</td>\n",
              "      <td>86.842308</td>\n",
              "      <td>4.843460</td>\n",
              "      <td>0.546416</td>\n",
              "      <td>18.808533</td>\n",
              "      <td>1.162562</td>\n",
              "      <td>999.719565</td>\n",
              "      <td>-400.074028</td>\n",
              "      <td>1599.337330</td>\n",
              "      <td>-450.008530</td>\n",
              "      <td>1599.672797</td>\n",
              "      <td>-449.954491</td>\n",
              "      <td>1599.849325</td>\n",
              "      <td>-449.954185</td>\n",
              "      <td>1399.180945</td>\n",
              "      <td>-449.937588</td>\n",
              "      <td>1400.316682</td>\n",
              "      <td>-450.527147</td>\n",
              "      <td>14.115662</td>\n",
              "      <td>4.624775</td>\n",
              "      <td>8.842896</td>\n",
              "      <td>2.458187</td>\n",
              "      <td>26.005245</td>\n",
              "      <td>-499.929616</td>\n",
              "      <td>23.886657</td>\n",
              "      <td>-499.951928</td>\n",
              "      <td>23.913535</td>\n",
              "      <td>-499.442343</td>\n",
              "      <td>23.957717</td>\n",
              "      <td>-499.901982</td>\n",
              "      <td>14.015015</td>\n",
              "      <td>-502.520901</td>\n",
              "      <td>11.912783</td>\n",
              "      <td>-501.133383</td>\n",
              "      <td>10.070913</td>\n",
              "      <td>-500.129135</td>\n",
              "      <td>8.013877</td>\n",
              "      <td>-500.517572</td>\n",
              "      <td>14.028663</td>\n",
              "      <td>-601.427363</td>\n",
              "    </tr>\n",
              "    <tr>\n",
              "      <th>3</th>\n",
              "      <td>2016-01-15 03:00:00</td>\n",
              "      <td>6.047977</td>\n",
              "      <td>9.977019</td>\n",
              "      <td>4.858634</td>\n",
              "      <td>42.689819</td>\n",
              "      <td>68.347543</td>\n",
              "      <td>10.422762</td>\n",
              "      <td>0.883763</td>\n",
              "      <td>16.532835</td>\n",
              "      <td>2.146849</td>\n",
              "      <td>122.270188</td>\n",
              "      <td>11.322140</td>\n",
              "      <td>7.25</td>\n",
              "      <td>0.996739</td>\n",
              "      <td>7.221879</td>\n",
              "      <td>8.496563</td>\n",
              "      <td>15.978538</td>\n",
              "      <td>28.260743</td>\n",
              "      <td>16.024359</td>\n",
              "      <td>2.960362</td>\n",
              "      <td>6.843791</td>\n",
              "      <td>2.262051</td>\n",
              "      <td>1599.968720</td>\n",
              "      <td>-500.951778</td>\n",
              "      <td>1600.659236</td>\n",
              "      <td>-499.677094</td>\n",
              "      <td>1600.304144</td>\n",
              "      <td>-500.727997</td>\n",
              "      <td>1600.449520</td>\n",
              "      <td>-500.052575</td>\n",
              "      <td>42029.447991</td>\n",
              "      <td>3498.578313</td>\n",
              "      <td>3499.162912</td>\n",
              "      <td>3.002340</td>\n",
              "      <td>6.043309</td>\n",
              "      <td>2.037807</td>\n",
              "      <td>542.590390</td>\n",
              "      <td>57.792734</td>\n",
              "      <td>36.862241</td>\n",
              "      <td>6.118189</td>\n",
              "      <td>11.630094</td>\n",
              "      <td>6.203177</td>\n",
              "      <td>11.692450</td>\n",
              "      <td>6.196578</td>\n",
              "      <td>11.915047</td>\n",
              "      <td>7.175616</td>\n",
              "      <td>27.341277</td>\n",
              "      <td>19.320810</td>\n",
              "      <td>87.226430</td>\n",
              "      <td>4.655288</td>\n",
              "      <td>0.542525</td>\n",
              "      <td>19.330200</td>\n",
              "      <td>1.079755</td>\n",
              "      <td>999.814770</td>\n",
              "      <td>-400.200179</td>\n",
              "      <td>1600.059442</td>\n",
              "      <td>-450.619948</td>\n",
              "      <td>1600.012842</td>\n",
              "      <td>-449.910497</td>\n",
              "      <td>1597.725177</td>\n",
              "      <td>-450.130127</td>\n",
              "      <td>1400.943157</td>\n",
              "      <td>-450.030142</td>\n",
              "      <td>1400.234743</td>\n",
              "      <td>-449.790835</td>\n",
              "      <td>13.732071</td>\n",
              "      <td>4.482453</td>\n",
              "      <td>9.122857</td>\n",
              "      <td>2.322062</td>\n",
              "      <td>25.942508</td>\n",
              "      <td>-499.176749</td>\n",
              "      <td>23.955516</td>\n",
              "      <td>-499.848796</td>\n",
              "      <td>23.966838</td>\n",
              "      <td>-500.008812</td>\n",
              "      <td>23.954443</td>\n",
              "      <td>-499.944710</td>\n",
              "      <td>14.036510</td>\n",
              "      <td>-500.857308</td>\n",
              "      <td>11.999550</td>\n",
              "      <td>-501.193686</td>\n",
              "      <td>9.970366</td>\n",
              "      <td>-499.201640</td>\n",
              "      <td>7.977324</td>\n",
              "      <td>-500.255908</td>\n",
              "      <td>14.005551</td>\n",
              "      <td>-599.996129</td>\n",
              "    </tr>\n",
              "    <tr>\n",
              "      <th>4</th>\n",
              "      <td>2016-01-15 04:00:00</td>\n",
              "      <td>6.148599</td>\n",
              "      <td>10.142511</td>\n",
              "      <td>4.939416</td>\n",
              "      <td>42.774141</td>\n",
              "      <td>66.927016</td>\n",
              "      <td>10.360302</td>\n",
              "      <td>0.792826</td>\n",
              "      <td>16.525686</td>\n",
              "      <td>2.055292</td>\n",
              "      <td>117.988169</td>\n",
              "      <td>11.913613</td>\n",
              "      <td>7.25</td>\n",
              "      <td>1.009869</td>\n",
              "      <td>9.089428</td>\n",
              "      <td>9.986786</td>\n",
              "      <td>19.199864</td>\n",
              "      <td>33.044932</td>\n",
              "      <td>16.480185</td>\n",
              "      <td>3.112100</td>\n",
              "      <td>6.550154</td>\n",
              "      <td>2.277073</td>\n",
              "      <td>1601.339707</td>\n",
              "      <td>-498.975456</td>\n",
              "      <td>1601.437854</td>\n",
              "      <td>-500.323246</td>\n",
              "      <td>1599.581894</td>\n",
              "      <td>-500.888152</td>\n",
              "      <td>1602.649541</td>\n",
              "      <td>-500.593010</td>\n",
              "      <td>42125.354245</td>\n",
              "      <td>3494.800771</td>\n",
              "      <td>3506.679315</td>\n",
              "      <td>3.169615</td>\n",
              "      <td>6.060915</td>\n",
              "      <td>1.786875</td>\n",
              "      <td>540.531893</td>\n",
              "      <td>56.047189</td>\n",
              "      <td>34.347666</td>\n",
              "      <td>5.663707</td>\n",
              "      <td>10.957755</td>\n",
              "      <td>6.198826</td>\n",
              "      <td>10.960521</td>\n",
              "      <td>6.194897</td>\n",
              "      <td>12.411054</td>\n",
              "      <td>7.240205</td>\n",
              "      <td>27.041023</td>\n",
              "      <td>19.216101</td>\n",
              "      <td>86.688794</td>\n",
              "      <td>4.552800</td>\n",
              "      <td>0.515438</td>\n",
              "      <td>19.267422</td>\n",
              "      <td>1.012642</td>\n",
              "      <td>999.678690</td>\n",
              "      <td>-399.752729</td>\n",
              "      <td>1600.208824</td>\n",
              "      <td>-449.599614</td>\n",
              "      <td>1600.357732</td>\n",
              "      <td>-450.034364</td>\n",
              "      <td>1599.759049</td>\n",
              "      <td>-449.909799</td>\n",
              "      <td>1401.560902</td>\n",
              "      <td>-448.877187</td>\n",
              "      <td>1401.160227</td>\n",
              "      <td>-450.407128</td>\n",
              "      <td>14.079996</td>\n",
              "      <td>4.470737</td>\n",
              "      <td>8.871028</td>\n",
              "      <td>2.330448</td>\n",
              "      <td>26.024787</td>\n",
              "      <td>-500.279091</td>\n",
              "      <td>23.955345</td>\n",
              "      <td>-500.593614</td>\n",
              "      <td>23.985703</td>\n",
              "      <td>-500.083811</td>\n",
              "      <td>23.958945</td>\n",
              "      <td>-499.990309</td>\n",
              "      <td>14.027298</td>\n",
              "      <td>-499.838632</td>\n",
              "      <td>11.953070</td>\n",
              "      <td>-501.053894</td>\n",
              "      <td>9.925709</td>\n",
              "      <td>-501.686727</td>\n",
              "      <td>7.894242</td>\n",
              "      <td>-500.356035</td>\n",
              "      <td>13.996647</td>\n",
              "      <td>-601.496691</td>\n",
              "    </tr>\n",
              "  </tbody>\n",
              "</table>\n",
              "</div>"
            ],
            "text/plain": [
              "                  date  final.output.concentrate_ag  \\\n",
              "0  2016-01-15 00:00:00                     6.055403   \n",
              "1  2016-01-15 01:00:00                     6.029369   \n",
              "2  2016-01-15 02:00:00                     6.055926   \n",
              "3  2016-01-15 03:00:00                     6.047977   \n",
              "4  2016-01-15 04:00:00                     6.148599   \n",
              "\n",
              "   final.output.concentrate_pb  final.output.concentrate_sol  \\\n",
              "0                     9.889648                      5.507324   \n",
              "1                     9.968944                      5.257781   \n",
              "2                    10.213995                      5.383759   \n",
              "3                     9.977019                      4.858634   \n",
              "4                    10.142511                      4.939416   \n",
              "\n",
              "   final.output.concentrate_au  final.output.recovery  final.output.tail_ag  \\\n",
              "0                    42.192020              70.541216             10.411962   \n",
              "1                    42.701629              69.266198             10.462676   \n",
              "2                    42.657501              68.116445             10.507046   \n",
              "3                    42.689819              68.347543             10.422762   \n",
              "4                    42.774141              66.927016             10.360302   \n",
              "\n",
              "   final.output.tail_pb  final.output.tail_sol  final.output.tail_au  \\\n",
              "0              0.895447              16.904297              2.143149   \n",
              "1              0.927452              16.634514              2.224930   \n",
              "2              0.953716              16.208849              2.257889   \n",
              "3              0.883763              16.532835              2.146849   \n",
              "4              0.792826              16.525686              2.055292   \n",
              "\n",
              "   primary_cleaner.input.sulfate  primary_cleaner.input.depressant  \\\n",
              "0                     127.092003                         10.128295   \n",
              "1                     125.629232                         10.296251   \n",
              "2                     123.819808                         11.316280   \n",
              "3                     122.270188                         11.322140   \n",
              "4                     117.988169                         11.913613   \n",
              "\n",
              "   primary_cleaner.input.feed_size  primary_cleaner.input.xanthate  \\\n",
              "0                             7.25                        0.988759   \n",
              "1                             7.25                        1.002663   \n",
              "2                             7.25                        0.991265   \n",
              "3                             7.25                        0.996739   \n",
              "4                             7.25                        1.009869   \n",
              "\n",
              "   primary_cleaner.output.concentrate_ag  \\\n",
              "0                               8.547551   \n",
              "1                               8.558743   \n",
              "2                               8.603505   \n",
              "3                               7.221879   \n",
              "4                               9.089428   \n",
              "\n",
              "   primary_cleaner.output.concentrate_pb  \\\n",
              "0                              10.389648   \n",
              "1                              10.497069   \n",
              "2                              10.354494   \n",
              "3                               8.496563   \n",
              "4                               9.986786   \n",
              "\n",
              "   primary_cleaner.output.concentrate_sol  \\\n",
              "0                               19.529297   \n",
              "1                               19.369147   \n",
              "2                               19.167579   \n",
              "3                               15.978538   \n",
              "4                               19.199864   \n",
              "\n",
              "   primary_cleaner.output.concentrate_au  primary_cleaner.output.tail_ag  \\\n",
              "0                              34.174427                       14.936526   \n",
              "1                              34.118526                       16.250511   \n",
              "2                              33.969464                       16.491823   \n",
              "3                              28.260743                       16.024359   \n",
              "4                              33.044932                       16.480185   \n",
              "\n",
              "   primary_cleaner.output.tail_pb  primary_cleaner.output.tail_sol  \\\n",
              "0                        2.534912                         7.476074   \n",
              "1                        3.049646                         6.733907   \n",
              "2                        3.124664                         6.471768   \n",
              "3                        2.960362                         6.843791   \n",
              "4                        3.112100                         6.550154   \n",
              "\n",
              "   primary_cleaner.output.tail_au  primary_cleaner.state.floatbank8_a_air  \\\n",
              "0                        2.106679                             1549.775757   \n",
              "1                        2.353017                             1576.166671   \n",
              "2                        2.416800                             1601.556163   \n",
              "3                        2.262051                             1599.968720   \n",
              "4                        2.277073                             1601.339707   \n",
              "\n",
              "   primary_cleaner.state.floatbank8_a_level  \\\n",
              "0                               -498.912140   \n",
              "1                               -500.904965   \n",
              "2                               -499.997791   \n",
              "3                               -500.951778   \n",
              "4                               -498.975456   \n",
              "\n",
              "   primary_cleaner.state.floatbank8_b_air  \\\n",
              "0                             1551.434204   \n",
              "1                             1575.950626   \n",
              "2                             1600.386685   \n",
              "3                             1600.659236   \n",
              "4                             1601.437854   \n",
              "\n",
              "   primary_cleaner.state.floatbank8_b_level  \\\n",
              "0                               -516.403442   \n",
              "1                               -499.865889   \n",
              "2                               -500.607762   \n",
              "3                               -499.677094   \n",
              "4                               -500.323246   \n",
              "\n",
              "   primary_cleaner.state.floatbank8_c_air  \\\n",
              "0                             1549.873901   \n",
              "1                             1575.994189   \n",
              "2                             1602.003542   \n",
              "3                             1600.304144   \n",
              "4                             1599.581894   \n",
              "\n",
              "   primary_cleaner.state.floatbank8_c_level  \\\n",
              "0                               -498.666595   \n",
              "1                               -499.315107   \n",
              "2                               -500.870069   \n",
              "3                               -500.727997   \n",
              "4                               -500.888152   \n",
              "\n",
              "   primary_cleaner.state.floatbank8_d_air  \\\n",
              "0                             1554.367432   \n",
              "1                             1574.479259   \n",
              "2                             1599.541515   \n",
              "3                             1600.449520   \n",
              "4                             1602.649541   \n",
              "\n",
              "   primary_cleaner.state.floatbank8_d_level  \\\n",
              "0                               -493.428131   \n",
              "1                               -498.931665   \n",
              "2                               -499.827444   \n",
              "3                               -500.052575   \n",
              "4                               -500.593010   \n",
              "\n",
              "   rougher.calculation.sulfate_to_au_concentrate  \\\n",
              "0                                   41885.707031   \n",
              "1                                   42050.861809   \n",
              "2                                   42018.101184   \n",
              "3                                   42029.447991   \n",
              "4                                   42125.354245   \n",
              "\n",
              "   rougher.calculation.floatbank10_sulfate_to_au_feed  \\\n",
              "0                                        3481.779053    \n",
              "1                                        3498.370979    \n",
              "2                                        3495.348910    \n",
              "3                                        3498.578313    \n",
              "4                                        3494.800771    \n",
              "\n",
              "   rougher.calculation.floatbank11_sulfate_to_au_feed  \\\n",
              "0                                        3520.337158    \n",
              "1                                        3489.981857    \n",
              "2                                        3502.359819    \n",
              "3                                        3499.162912    \n",
              "4                                        3506.679315    \n",
              "\n",
              "   rougher.calculation.au_pb_ratio  rougher.input.feed_ag  \\\n",
              "0                         2.838687               6.100378   \n",
              "1                         2.858998               6.161113   \n",
              "2                         2.945989               6.116455   \n",
              "3                         3.002340               6.043309   \n",
              "4                         3.169615               6.060915   \n",
              "\n",
              "   rougher.input.feed_pb  rougher.input.feed_rate  rougher.input.feed_size  \\\n",
              "0               2.284912               523.546326                55.486599   \n",
              "1               2.266033               525.290581                57.278666   \n",
              "2               2.159622               530.026610                57.510649   \n",
              "3               2.037807               542.590390                57.792734   \n",
              "4               1.786875               540.531893                56.047189   \n",
              "\n",
              "   rougher.input.feed_sol  rougher.input.feed_au  \\\n",
              "0               36.808594               6.486150   \n",
              "1               35.753385               6.478583   \n",
              "2               35.971630               6.362222   \n",
              "3               36.862241               6.118189   \n",
              "4               34.347666               5.663707   \n",
              "\n",
              "   rougher.input.floatbank10_sulfate  rougher.input.floatbank10_xanthate  \\\n",
              "0                          11.986616                            6.007990   \n",
              "1                          11.971193                            6.005766   \n",
              "2                          11.920603                            6.197377   \n",
              "3                          11.630094                            6.203177   \n",
              "4                          10.957755                            6.198826   \n",
              "\n",
              "   rougher.input.floatbank11_sulfate  rougher.input.floatbank11_xanthate  \\\n",
              "0                          11.836743                            6.005818   \n",
              "1                          11.996163                            6.012594   \n",
              "2                          11.920305                            6.204633   \n",
              "3                          11.692450                            6.196578   \n",
              "4                          10.960521                            6.194897   \n",
              "\n",
              "   rougher.output.concentrate_ag  rougher.output.concentrate_pb  \\\n",
              "0                      11.500771                       7.101074   \n",
              "1                      11.615865                       7.278807   \n",
              "2                      11.695753                       7.216833   \n",
              "3                      11.915047                       7.175616   \n",
              "4                      12.411054                       7.240205   \n",
              "\n",
              "   rougher.output.concentrate_sol  rougher.output.concentrate_au  \\\n",
              "0                       28.029297                      19.793808   \n",
              "1                       28.067063                      20.050975   \n",
              "2                       27.454037                      19.737170   \n",
              "3                       27.341277                      19.320810   \n",
              "4                       27.041023                      19.216101   \n",
              "\n",
              "   rougher.output.recovery  rougher.output.tail_ag  rougher.output.tail_pb  \\\n",
              "0                87.107763                5.008018                0.508728   \n",
              "1                86.843261                4.955378                0.536689   \n",
              "2                86.842308                4.843460                0.546416   \n",
              "3                87.226430                4.655288                0.542525   \n",
              "4                86.688794                4.552800                0.515438   \n",
              "\n",
              "   rougher.output.tail_sol  rougher.output.tail_au  \\\n",
              "0                19.154297                1.170244   \n",
              "1                18.965234                1.184827   \n",
              "2                18.808533                1.162562   \n",
              "3                19.330200                1.079755   \n",
              "4                19.267422                1.012642   \n",
              "\n",
              "   rougher.state.floatbank10_a_air  rougher.state.floatbank10_a_level  \\\n",
              "0                       999.706909                        -404.066986   \n",
              "1                      1000.286398                        -400.065196   \n",
              "2                       999.719565                        -400.074028   \n",
              "3                       999.814770                        -400.200179   \n",
              "4                       999.678690                        -399.752729   \n",
              "\n",
              "   rougher.state.floatbank10_b_air  rougher.state.floatbank10_b_level  \\\n",
              "0                      1603.011353                        -434.715027   \n",
              "1                      1600.754587                        -449.953435   \n",
              "2                      1599.337330                        -450.008530   \n",
              "3                      1600.059442                        -450.619948   \n",
              "4                      1600.208824                        -449.599614   \n",
              "\n",
              "   rougher.state.floatbank10_c_air  rougher.state.floatbank10_c_level  \\\n",
              "0                      1602.375000                        -442.204468   \n",
              "1                      1600.479580                        -449.830646   \n",
              "2                      1599.672797                        -449.954491   \n",
              "3                      1600.012842                        -449.910497   \n",
              "4                      1600.357732                        -450.034364   \n",
              "\n",
              "   rougher.state.floatbank10_d_air  rougher.state.floatbank10_d_level  \\\n",
              "0                      1598.937256                        -451.294128   \n",
              "1                      1600.527589                        -449.953649   \n",
              "2                      1599.849325                        -449.954185   \n",
              "3                      1597.725177                        -450.130127   \n",
              "4                      1599.759049                        -449.909799   \n",
              "\n",
              "   rougher.state.floatbank10_e_air  rougher.state.floatbank10_e_level  \\\n",
              "0                      1404.472046                        -455.462982   \n",
              "1                      1399.227084                        -450.869848   \n",
              "2                      1399.180945                        -449.937588   \n",
              "3                      1400.943157                        -450.030142   \n",
              "4                      1401.560902                        -448.877187   \n",
              "\n",
              "   rougher.state.floatbank10_f_air  rougher.state.floatbank10_f_level  \\\n",
              "0                      1416.354980                        -451.939636   \n",
              "1                      1399.719514                        -450.119001   \n",
              "2                      1400.316682                        -450.527147   \n",
              "3                      1400.234743                        -449.790835   \n",
              "4                      1401.160227                        -450.407128   \n",
              "\n",
              "   secondary_cleaner.output.tail_ag  secondary_cleaner.output.tail_pb  \\\n",
              "0                         14.500184                          4.694824   \n",
              "1                         14.265474                          4.592547   \n",
              "2                         14.115662                          4.624775   \n",
              "3                         13.732071                          4.482453   \n",
              "4                         14.079996                          4.470737   \n",
              "\n",
              "   secondary_cleaner.output.tail_sol  secondary_cleaner.output.tail_au  \\\n",
              "0                           8.764648                          2.606185   \n",
              "1                           9.001494                          2.488248   \n",
              "2                           8.842896                          2.458187   \n",
              "3                           9.122857                          2.322062   \n",
              "4                           8.871028                          2.330448   \n",
              "\n",
              "   secondary_cleaner.state.floatbank2_a_air  \\\n",
              "0                                 25.853109   \n",
              "1                                 25.880539   \n",
              "2                                 26.005245   \n",
              "3                                 25.942508   \n",
              "4                                 26.024787   \n",
              "\n",
              "   secondary_cleaner.state.floatbank2_a_level  \\\n",
              "0                                 -498.526489   \n",
              "1                                 -499.989656   \n",
              "2                                 -499.929616   \n",
              "3                                 -499.176749   \n",
              "4                                 -500.279091   \n",
              "\n",
              "   secondary_cleaner.state.floatbank2_b_air  \\\n",
              "0                                 23.893660   \n",
              "1                                 23.889530   \n",
              "2                                 23.886657   \n",
              "3                                 23.955516   \n",
              "4                                 23.955345   \n",
              "\n",
              "   secondary_cleaner.state.floatbank2_b_level  \\\n",
              "0                                 -501.406281   \n",
              "1                                 -500.372428   \n",
              "2                                 -499.951928   \n",
              "3                                 -499.848796   \n",
              "4                                 -500.593614   \n",
              "\n",
              "   secondary_cleaner.state.floatbank3_a_air  \\\n",
              "0                                 23.961798   \n",
              "1                                 23.970550   \n",
              "2                                 23.913535   \n",
              "3                                 23.966838   \n",
              "4                                 23.985703   \n",
              "\n",
              "   secondary_cleaner.state.floatbank3_a_level  \\\n",
              "0                                 -495.262817   \n",
              "1                                 -500.085473   \n",
              "2                                 -499.442343   \n",
              "3                                 -500.008812   \n",
              "4                                 -500.083811   \n",
              "\n",
              "   secondary_cleaner.state.floatbank3_b_air  \\\n",
              "0                                 21.940409   \n",
              "1                                 22.085714   \n",
              "2                                 23.957717   \n",
              "3                                 23.954443   \n",
              "4                                 23.958945   \n",
              "\n",
              "   secondary_cleaner.state.floatbank3_b_level  \\\n",
              "0                                 -499.340973   \n",
              "1                                 -499.446897   \n",
              "2                                 -499.901982   \n",
              "3                                 -499.944710   \n",
              "4                                 -499.990309   \n",
              "\n",
              "   secondary_cleaner.state.floatbank4_a_air  \\\n",
              "0                                 14.016835   \n",
              "1                                 13.992281   \n",
              "2                                 14.015015   \n",
              "3                                 14.036510   \n",
              "4                                 14.027298   \n",
              "\n",
              "   secondary_cleaner.state.floatbank4_a_level  \\\n",
              "0                                 -502.488007   \n",
              "1                                 -505.503262   \n",
              "2                                 -502.520901   \n",
              "3                                 -500.857308   \n",
              "4                                 -499.838632   \n",
              "\n",
              "   secondary_cleaner.state.floatbank4_b_air  \\\n",
              "0                                 12.099931   \n",
              "1                                 11.950531   \n",
              "2                                 11.912783   \n",
              "3                                 11.999550   \n",
              "4                                 11.953070   \n",
              "\n",
              "   secondary_cleaner.state.floatbank4_b_level  \\\n",
              "0                                 -504.715942   \n",
              "1                                 -501.331529   \n",
              "2                                 -501.133383   \n",
              "3                                 -501.193686   \n",
              "4                                 -501.053894   \n",
              "\n",
              "   secondary_cleaner.state.floatbank5_a_air  \\\n",
              "0                                  9.925633   \n",
              "1                                 10.039245   \n",
              "2                                 10.070913   \n",
              "3                                  9.970366   \n",
              "4                                  9.925709   \n",
              "\n",
              "   secondary_cleaner.state.floatbank5_a_level  \\\n",
              "0                                 -498.310211   \n",
              "1                                 -500.169983   \n",
              "2                                 -500.129135   \n",
              "3                                 -499.201640   \n",
              "4                                 -501.686727   \n",
              "\n",
              "   secondary_cleaner.state.floatbank5_b_air  \\\n",
              "0                                  8.079666   \n",
              "1                                  7.984757   \n",
              "2                                  8.013877   \n",
              "3                                  7.977324   \n",
              "4                                  7.894242   \n",
              "\n",
              "   secondary_cleaner.state.floatbank5_b_level  \\\n",
              "0                                 -500.470978   \n",
              "1                                 -500.582168   \n",
              "2                                 -500.517572   \n",
              "3                                 -500.255908   \n",
              "4                                 -500.356035   \n",
              "\n",
              "   secondary_cleaner.state.floatbank6_a_air  \\\n",
              "0                                 14.151341   \n",
              "1                                 13.998353   \n",
              "2                                 14.028663   \n",
              "3                                 14.005551   \n",
              "4                                 13.996647   \n",
              "\n",
              "   secondary_cleaner.state.floatbank6_a_level  \n",
              "0                                 -605.841980  \n",
              "1                                 -599.787184  \n",
              "2                                 -601.427363  \n",
              "3                                 -599.996129  \n",
              "4                                 -601.496691  "
            ]
          },
          "metadata": {}
        },
        {
          "output_type": "display_data",
          "data": {
            "text/plain": [
              "'gold_recovery_test'"
            ]
          },
          "metadata": {}
        },
        {
          "output_type": "display_data",
          "data": {
            "text/html": [
              "<div>\n",
              "<style scoped>\n",
              "    .dataframe tbody tr th:only-of-type {\n",
              "        vertical-align: middle;\n",
              "    }\n",
              "\n",
              "    .dataframe tbody tr th {\n",
              "        vertical-align: top;\n",
              "    }\n",
              "\n",
              "    .dataframe thead th {\n",
              "        text-align: right;\n",
              "    }\n",
              "</style>\n",
              "<table border=\"1\" class=\"dataframe\">\n",
              "  <thead>\n",
              "    <tr style=\"text-align: right;\">\n",
              "      <th></th>\n",
              "      <th>date</th>\n",
              "      <th>primary_cleaner.input.sulfate</th>\n",
              "      <th>primary_cleaner.input.depressant</th>\n",
              "      <th>primary_cleaner.input.feed_size</th>\n",
              "      <th>primary_cleaner.input.xanthate</th>\n",
              "      <th>primary_cleaner.state.floatbank8_a_air</th>\n",
              "      <th>primary_cleaner.state.floatbank8_a_level</th>\n",
              "      <th>primary_cleaner.state.floatbank8_b_air</th>\n",
              "      <th>primary_cleaner.state.floatbank8_b_level</th>\n",
              "      <th>primary_cleaner.state.floatbank8_c_air</th>\n",
              "      <th>primary_cleaner.state.floatbank8_c_level</th>\n",
              "      <th>primary_cleaner.state.floatbank8_d_air</th>\n",
              "      <th>primary_cleaner.state.floatbank8_d_level</th>\n",
              "      <th>rougher.input.feed_ag</th>\n",
              "      <th>rougher.input.feed_pb</th>\n",
              "      <th>rougher.input.feed_rate</th>\n",
              "      <th>rougher.input.feed_size</th>\n",
              "      <th>rougher.input.feed_sol</th>\n",
              "      <th>rougher.input.feed_au</th>\n",
              "      <th>rougher.input.floatbank10_sulfate</th>\n",
              "      <th>rougher.input.floatbank10_xanthate</th>\n",
              "      <th>rougher.input.floatbank11_sulfate</th>\n",
              "      <th>rougher.input.floatbank11_xanthate</th>\n",
              "      <th>rougher.state.floatbank10_a_air</th>\n",
              "      <th>rougher.state.floatbank10_a_level</th>\n",
              "      <th>rougher.state.floatbank10_b_air</th>\n",
              "      <th>rougher.state.floatbank10_b_level</th>\n",
              "      <th>rougher.state.floatbank10_c_air</th>\n",
              "      <th>rougher.state.floatbank10_c_level</th>\n",
              "      <th>rougher.state.floatbank10_d_air</th>\n",
              "      <th>rougher.state.floatbank10_d_level</th>\n",
              "      <th>rougher.state.floatbank10_e_air</th>\n",
              "      <th>rougher.state.floatbank10_e_level</th>\n",
              "      <th>rougher.state.floatbank10_f_air</th>\n",
              "      <th>rougher.state.floatbank10_f_level</th>\n",
              "      <th>secondary_cleaner.state.floatbank2_a_air</th>\n",
              "      <th>secondary_cleaner.state.floatbank2_a_level</th>\n",
              "      <th>secondary_cleaner.state.floatbank2_b_air</th>\n",
              "      <th>secondary_cleaner.state.floatbank2_b_level</th>\n",
              "      <th>secondary_cleaner.state.floatbank3_a_air</th>\n",
              "      <th>secondary_cleaner.state.floatbank3_a_level</th>\n",
              "      <th>secondary_cleaner.state.floatbank3_b_air</th>\n",
              "      <th>secondary_cleaner.state.floatbank3_b_level</th>\n",
              "      <th>secondary_cleaner.state.floatbank4_a_air</th>\n",
              "      <th>secondary_cleaner.state.floatbank4_a_level</th>\n",
              "      <th>secondary_cleaner.state.floatbank4_b_air</th>\n",
              "      <th>secondary_cleaner.state.floatbank4_b_level</th>\n",
              "      <th>secondary_cleaner.state.floatbank5_a_air</th>\n",
              "      <th>secondary_cleaner.state.floatbank5_a_level</th>\n",
              "      <th>secondary_cleaner.state.floatbank5_b_air</th>\n",
              "      <th>secondary_cleaner.state.floatbank5_b_level</th>\n",
              "      <th>secondary_cleaner.state.floatbank6_a_air</th>\n",
              "      <th>secondary_cleaner.state.floatbank6_a_level</th>\n",
              "    </tr>\n",
              "  </thead>\n",
              "  <tbody>\n",
              "    <tr>\n",
              "      <th>0</th>\n",
              "      <td>2016-09-01 00:59:59</td>\n",
              "      <td>210.800909</td>\n",
              "      <td>14.993118</td>\n",
              "      <td>8.080000</td>\n",
              "      <td>1.005021</td>\n",
              "      <td>1398.981301</td>\n",
              "      <td>-500.225577</td>\n",
              "      <td>1399.144926</td>\n",
              "      <td>-499.919735</td>\n",
              "      <td>1400.102998</td>\n",
              "      <td>-500.704369</td>\n",
              "      <td>1399.001695</td>\n",
              "      <td>-499.485144</td>\n",
              "      <td>13.128569</td>\n",
              "      <td>5.636710</td>\n",
              "      <td>489.793655</td>\n",
              "      <td>62.710452</td>\n",
              "      <td>42.022440</td>\n",
              "      <td>12.084103</td>\n",
              "      <td>16.922877</td>\n",
              "      <td>6.153479</td>\n",
              "      <td>16.867518</td>\n",
              "      <td>6.150709</td>\n",
              "      <td>1001.849317</td>\n",
              "      <td>-350.301265</td>\n",
              "      <td>1249.738612</td>\n",
              "      <td>-399.107531</td>\n",
              "      <td>1249.750520</td>\n",
              "      <td>-399.396730</td>\n",
              "      <td>1198.287855</td>\n",
              "      <td>-399.488594</td>\n",
              "      <td>999.472250</td>\n",
              "      <td>-399.530962</td>\n",
              "      <td>949.566189</td>\n",
              "      <td>-398.180807</td>\n",
              "      <td>24.938200</td>\n",
              "      <td>-500.490963</td>\n",
              "      <td>14.947607</td>\n",
              "      <td>-500.013837</td>\n",
              "      <td>20.018166</td>\n",
              "      <td>-450.395995</td>\n",
              "      <td>13.987058</td>\n",
              "      <td>-449.831513</td>\n",
              "      <td>12.023554</td>\n",
              "      <td>-497.795834</td>\n",
              "      <td>8.016656</td>\n",
              "      <td>-501.289139</td>\n",
              "      <td>7.946562</td>\n",
              "      <td>-432.317850</td>\n",
              "      <td>4.872511</td>\n",
              "      <td>-500.037437</td>\n",
              "      <td>26.705889</td>\n",
              "      <td>-499.709414</td>\n",
              "    </tr>\n",
              "    <tr>\n",
              "      <th>1</th>\n",
              "      <td>2016-09-01 01:59:59</td>\n",
              "      <td>215.392455</td>\n",
              "      <td>14.987471</td>\n",
              "      <td>8.080000</td>\n",
              "      <td>0.990469</td>\n",
              "      <td>1398.777912</td>\n",
              "      <td>-500.057435</td>\n",
              "      <td>1398.055362</td>\n",
              "      <td>-499.778182</td>\n",
              "      <td>1396.151033</td>\n",
              "      <td>-499.240168</td>\n",
              "      <td>1399.508091</td>\n",
              "      <td>-500.416324</td>\n",
              "      <td>13.036280</td>\n",
              "      <td>5.526065</td>\n",
              "      <td>490.104534</td>\n",
              "      <td>61.961163</td>\n",
              "      <td>41.187903</td>\n",
              "      <td>11.918977</td>\n",
              "      <td>17.002532</td>\n",
              "      <td>5.999043</td>\n",
              "      <td>16.996063</td>\n",
              "      <td>6.002315</td>\n",
              "      <td>998.690785</td>\n",
              "      <td>-350.425704</td>\n",
              "      <td>1248.395457</td>\n",
              "      <td>-399.946025</td>\n",
              "      <td>1249.514451</td>\n",
              "      <td>-399.630810</td>\n",
              "      <td>1200.506459</td>\n",
              "      <td>-399.942434</td>\n",
              "      <td>1000.002114</td>\n",
              "      <td>-399.491528</td>\n",
              "      <td>950.200009</td>\n",
              "      <td>-405.787514</td>\n",
              "      <td>24.923466</td>\n",
              "      <td>-499.813963</td>\n",
              "      <td>14.930873</td>\n",
              "      <td>-500.764452</td>\n",
              "      <td>19.988503</td>\n",
              "      <td>-450.114024</td>\n",
              "      <td>14.092981</td>\n",
              "      <td>-450.059163</td>\n",
              "      <td>12.058140</td>\n",
              "      <td>-498.695773</td>\n",
              "      <td>8.130979</td>\n",
              "      <td>-499.634209</td>\n",
              "      <td>7.958270</td>\n",
              "      <td>-525.839648</td>\n",
              "      <td>4.878850</td>\n",
              "      <td>-500.162375</td>\n",
              "      <td>25.019940</td>\n",
              "      <td>-499.819438</td>\n",
              "    </tr>\n",
              "    <tr>\n",
              "      <th>2</th>\n",
              "      <td>2016-09-01 02:59:59</td>\n",
              "      <td>215.259946</td>\n",
              "      <td>12.884934</td>\n",
              "      <td>7.786667</td>\n",
              "      <td>0.996043</td>\n",
              "      <td>1398.493666</td>\n",
              "      <td>-500.868360</td>\n",
              "      <td>1398.860436</td>\n",
              "      <td>-499.764529</td>\n",
              "      <td>1398.075709</td>\n",
              "      <td>-502.151509</td>\n",
              "      <td>1399.497088</td>\n",
              "      <td>-499.715479</td>\n",
              "      <td>13.138412</td>\n",
              "      <td>5.426561</td>\n",
              "      <td>489.617969</td>\n",
              "      <td>66.903807</td>\n",
              "      <td>42.546294</td>\n",
              "      <td>12.091332</td>\n",
              "      <td>16.992520</td>\n",
              "      <td>5.850632</td>\n",
              "      <td>16.982096</td>\n",
              "      <td>5.853594</td>\n",
              "      <td>998.516720</td>\n",
              "      <td>-349.783538</td>\n",
              "      <td>1247.440748</td>\n",
              "      <td>-400.264330</td>\n",
              "      <td>1248.207204</td>\n",
              "      <td>-401.074405</td>\n",
              "      <td>1199.770026</td>\n",
              "      <td>-400.790582</td>\n",
              "      <td>999.925519</td>\n",
              "      <td>-399.236999</td>\n",
              "      <td>950.320481</td>\n",
              "      <td>-400.864340</td>\n",
              "      <td>24.908732</td>\n",
              "      <td>-500.304035</td>\n",
              "      <td>14.996511</td>\n",
              "      <td>-500.993821</td>\n",
              "      <td>20.039689</td>\n",
              "      <td>-450.263164</td>\n",
              "      <td>14.077881</td>\n",
              "      <td>-449.660997</td>\n",
              "      <td>11.962366</td>\n",
              "      <td>-498.767484</td>\n",
              "      <td>8.096893</td>\n",
              "      <td>-500.827423</td>\n",
              "      <td>8.071056</td>\n",
              "      <td>-500.801673</td>\n",
              "      <td>4.905125</td>\n",
              "      <td>-499.828510</td>\n",
              "      <td>24.994862</td>\n",
              "      <td>-500.622559</td>\n",
              "    </tr>\n",
              "    <tr>\n",
              "      <th>3</th>\n",
              "      <td>2016-09-01 03:59:59</td>\n",
              "      <td>215.336236</td>\n",
              "      <td>12.006805</td>\n",
              "      <td>7.640000</td>\n",
              "      <td>0.863514</td>\n",
              "      <td>1399.618111</td>\n",
              "      <td>-498.863574</td>\n",
              "      <td>1397.440120</td>\n",
              "      <td>-499.211024</td>\n",
              "      <td>1400.129303</td>\n",
              "      <td>-498.355873</td>\n",
              "      <td>1401.065165</td>\n",
              "      <td>-501.038738</td>\n",
              "      <td>12.400507</td>\n",
              "      <td>5.114758</td>\n",
              "      <td>476.618130</td>\n",
              "      <td>59.865919</td>\n",
              "      <td>41.060195</td>\n",
              "      <td>12.181597</td>\n",
              "      <td>16.532144</td>\n",
              "      <td>5.801935</td>\n",
              "      <td>16.515277</td>\n",
              "      <td>5.803657</td>\n",
              "      <td>1000.276604</td>\n",
              "      <td>-350.172597</td>\n",
              "      <td>1251.322675</td>\n",
              "      <td>-398.655289</td>\n",
              "      <td>1250.493702</td>\n",
              "      <td>-399.746728</td>\n",
              "      <td>1199.398691</td>\n",
              "      <td>-397.503052</td>\n",
              "      <td>1001.930679</td>\n",
              "      <td>-400.437573</td>\n",
              "      <td>950.735324</td>\n",
              "      <td>-399.802986</td>\n",
              "      <td>24.893998</td>\n",
              "      <td>-499.382374</td>\n",
              "      <td>14.916674</td>\n",
              "      <td>-499.862299</td>\n",
              "      <td>20.031100</td>\n",
              "      <td>-449.372570</td>\n",
              "      <td>14.013968</td>\n",
              "      <td>-449.526900</td>\n",
              "      <td>12.033091</td>\n",
              "      <td>-498.350935</td>\n",
              "      <td>8.074946</td>\n",
              "      <td>-499.474407</td>\n",
              "      <td>7.897085</td>\n",
              "      <td>-500.868509</td>\n",
              "      <td>4.931400</td>\n",
              "      <td>-499.963623</td>\n",
              "      <td>24.948919</td>\n",
              "      <td>-498.709987</td>\n",
              "    </tr>\n",
              "    <tr>\n",
              "      <th>4</th>\n",
              "      <td>2016-09-01 04:59:59</td>\n",
              "      <td>199.099327</td>\n",
              "      <td>10.682530</td>\n",
              "      <td>7.530000</td>\n",
              "      <td>0.805575</td>\n",
              "      <td>1401.268123</td>\n",
              "      <td>-500.808305</td>\n",
              "      <td>1398.128818</td>\n",
              "      <td>-499.504543</td>\n",
              "      <td>1402.172226</td>\n",
              "      <td>-500.810606</td>\n",
              "      <td>1399.480508</td>\n",
              "      <td>-499.374053</td>\n",
              "      <td>11.327427</td>\n",
              "      <td>4.767383</td>\n",
              "      <td>488.248117</td>\n",
              "      <td>63.315324</td>\n",
              "      <td>41.269161</td>\n",
              "      <td>11.290425</td>\n",
              "      <td>13.607257</td>\n",
              "      <td>5.738081</td>\n",
              "      <td>13.650053</td>\n",
              "      <td>5.739634</td>\n",
              "      <td>996.541302</td>\n",
              "      <td>-350.562517</td>\n",
              "      <td>1304.658848</td>\n",
              "      <td>-399.511519</td>\n",
              "      <td>1306.455515</td>\n",
              "      <td>-399.050685</td>\n",
              "      <td>1248.699349</td>\n",
              "      <td>-400.876894</td>\n",
              "      <td>1058.839106</td>\n",
              "      <td>-398.988239</td>\n",
              "      <td>949.645313</td>\n",
              "      <td>-399.277632</td>\n",
              "      <td>24.886905</td>\n",
              "      <td>-499.357375</td>\n",
              "      <td>14.979233</td>\n",
              "      <td>-500.186804</td>\n",
              "      <td>19.962364</td>\n",
              "      <td>-450.638828</td>\n",
              "      <td>14.009245</td>\n",
              "      <td>-450.022259</td>\n",
              "      <td>12.025367</td>\n",
              "      <td>-500.786497</td>\n",
              "      <td>8.054678</td>\n",
              "      <td>-500.397500</td>\n",
              "      <td>8.107890</td>\n",
              "      <td>-509.526725</td>\n",
              "      <td>4.957674</td>\n",
              "      <td>-500.360026</td>\n",
              "      <td>25.003331</td>\n",
              "      <td>-500.856333</td>\n",
              "    </tr>\n",
              "  </tbody>\n",
              "</table>\n",
              "</div>"
            ],
            "text/plain": [
              "                  date  primary_cleaner.input.sulfate  \\\n",
              "0  2016-09-01 00:59:59                     210.800909   \n",
              "1  2016-09-01 01:59:59                     215.392455   \n",
              "2  2016-09-01 02:59:59                     215.259946   \n",
              "3  2016-09-01 03:59:59                     215.336236   \n",
              "4  2016-09-01 04:59:59                     199.099327   \n",
              "\n",
              "   primary_cleaner.input.depressant  primary_cleaner.input.feed_size  \\\n",
              "0                         14.993118                         8.080000   \n",
              "1                         14.987471                         8.080000   \n",
              "2                         12.884934                         7.786667   \n",
              "3                         12.006805                         7.640000   \n",
              "4                         10.682530                         7.530000   \n",
              "\n",
              "   primary_cleaner.input.xanthate  primary_cleaner.state.floatbank8_a_air  \\\n",
              "0                        1.005021                             1398.981301   \n",
              "1                        0.990469                             1398.777912   \n",
              "2                        0.996043                             1398.493666   \n",
              "3                        0.863514                             1399.618111   \n",
              "4                        0.805575                             1401.268123   \n",
              "\n",
              "   primary_cleaner.state.floatbank8_a_level  \\\n",
              "0                               -500.225577   \n",
              "1                               -500.057435   \n",
              "2                               -500.868360   \n",
              "3                               -498.863574   \n",
              "4                               -500.808305   \n",
              "\n",
              "   primary_cleaner.state.floatbank8_b_air  \\\n",
              "0                             1399.144926   \n",
              "1                             1398.055362   \n",
              "2                             1398.860436   \n",
              "3                             1397.440120   \n",
              "4                             1398.128818   \n",
              "\n",
              "   primary_cleaner.state.floatbank8_b_level  \\\n",
              "0                               -499.919735   \n",
              "1                               -499.778182   \n",
              "2                               -499.764529   \n",
              "3                               -499.211024   \n",
              "4                               -499.504543   \n",
              "\n",
              "   primary_cleaner.state.floatbank8_c_air  \\\n",
              "0                             1400.102998   \n",
              "1                             1396.151033   \n",
              "2                             1398.075709   \n",
              "3                             1400.129303   \n",
              "4                             1402.172226   \n",
              "\n",
              "   primary_cleaner.state.floatbank8_c_level  \\\n",
              "0                               -500.704369   \n",
              "1                               -499.240168   \n",
              "2                               -502.151509   \n",
              "3                               -498.355873   \n",
              "4                               -500.810606   \n",
              "\n",
              "   primary_cleaner.state.floatbank8_d_air  \\\n",
              "0                             1399.001695   \n",
              "1                             1399.508091   \n",
              "2                             1399.497088   \n",
              "3                             1401.065165   \n",
              "4                             1399.480508   \n",
              "\n",
              "   primary_cleaner.state.floatbank8_d_level  rougher.input.feed_ag  \\\n",
              "0                               -499.485144              13.128569   \n",
              "1                               -500.416324              13.036280   \n",
              "2                               -499.715479              13.138412   \n",
              "3                               -501.038738              12.400507   \n",
              "4                               -499.374053              11.327427   \n",
              "\n",
              "   rougher.input.feed_pb  rougher.input.feed_rate  rougher.input.feed_size  \\\n",
              "0               5.636710               489.793655                62.710452   \n",
              "1               5.526065               490.104534                61.961163   \n",
              "2               5.426561               489.617969                66.903807   \n",
              "3               5.114758               476.618130                59.865919   \n",
              "4               4.767383               488.248117                63.315324   \n",
              "\n",
              "   rougher.input.feed_sol  rougher.input.feed_au  \\\n",
              "0               42.022440              12.084103   \n",
              "1               41.187903              11.918977   \n",
              "2               42.546294              12.091332   \n",
              "3               41.060195              12.181597   \n",
              "4               41.269161              11.290425   \n",
              "\n",
              "   rougher.input.floatbank10_sulfate  rougher.input.floatbank10_xanthate  \\\n",
              "0                          16.922877                            6.153479   \n",
              "1                          17.002532                            5.999043   \n",
              "2                          16.992520                            5.850632   \n",
              "3                          16.532144                            5.801935   \n",
              "4                          13.607257                            5.738081   \n",
              "\n",
              "   rougher.input.floatbank11_sulfate  rougher.input.floatbank11_xanthate  \\\n",
              "0                          16.867518                            6.150709   \n",
              "1                          16.996063                            6.002315   \n",
              "2                          16.982096                            5.853594   \n",
              "3                          16.515277                            5.803657   \n",
              "4                          13.650053                            5.739634   \n",
              "\n",
              "   rougher.state.floatbank10_a_air  rougher.state.floatbank10_a_level  \\\n",
              "0                      1001.849317                        -350.301265   \n",
              "1                       998.690785                        -350.425704   \n",
              "2                       998.516720                        -349.783538   \n",
              "3                      1000.276604                        -350.172597   \n",
              "4                       996.541302                        -350.562517   \n",
              "\n",
              "   rougher.state.floatbank10_b_air  rougher.state.floatbank10_b_level  \\\n",
              "0                      1249.738612                        -399.107531   \n",
              "1                      1248.395457                        -399.946025   \n",
              "2                      1247.440748                        -400.264330   \n",
              "3                      1251.322675                        -398.655289   \n",
              "4                      1304.658848                        -399.511519   \n",
              "\n",
              "   rougher.state.floatbank10_c_air  rougher.state.floatbank10_c_level  \\\n",
              "0                      1249.750520                        -399.396730   \n",
              "1                      1249.514451                        -399.630810   \n",
              "2                      1248.207204                        -401.074405   \n",
              "3                      1250.493702                        -399.746728   \n",
              "4                      1306.455515                        -399.050685   \n",
              "\n",
              "   rougher.state.floatbank10_d_air  rougher.state.floatbank10_d_level  \\\n",
              "0                      1198.287855                        -399.488594   \n",
              "1                      1200.506459                        -399.942434   \n",
              "2                      1199.770026                        -400.790582   \n",
              "3                      1199.398691                        -397.503052   \n",
              "4                      1248.699349                        -400.876894   \n",
              "\n",
              "   rougher.state.floatbank10_e_air  rougher.state.floatbank10_e_level  \\\n",
              "0                       999.472250                        -399.530962   \n",
              "1                      1000.002114                        -399.491528   \n",
              "2                       999.925519                        -399.236999   \n",
              "3                      1001.930679                        -400.437573   \n",
              "4                      1058.839106                        -398.988239   \n",
              "\n",
              "   rougher.state.floatbank10_f_air  rougher.state.floatbank10_f_level  \\\n",
              "0                       949.566189                        -398.180807   \n",
              "1                       950.200009                        -405.787514   \n",
              "2                       950.320481                        -400.864340   \n",
              "3                       950.735324                        -399.802986   \n",
              "4                       949.645313                        -399.277632   \n",
              "\n",
              "   secondary_cleaner.state.floatbank2_a_air  \\\n",
              "0                                 24.938200   \n",
              "1                                 24.923466   \n",
              "2                                 24.908732   \n",
              "3                                 24.893998   \n",
              "4                                 24.886905   \n",
              "\n",
              "   secondary_cleaner.state.floatbank2_a_level  \\\n",
              "0                                 -500.490963   \n",
              "1                                 -499.813963   \n",
              "2                                 -500.304035   \n",
              "3                                 -499.382374   \n",
              "4                                 -499.357375   \n",
              "\n",
              "   secondary_cleaner.state.floatbank2_b_air  \\\n",
              "0                                 14.947607   \n",
              "1                                 14.930873   \n",
              "2                                 14.996511   \n",
              "3                                 14.916674   \n",
              "4                                 14.979233   \n",
              "\n",
              "   secondary_cleaner.state.floatbank2_b_level  \\\n",
              "0                                 -500.013837   \n",
              "1                                 -500.764452   \n",
              "2                                 -500.993821   \n",
              "3                                 -499.862299   \n",
              "4                                 -500.186804   \n",
              "\n",
              "   secondary_cleaner.state.floatbank3_a_air  \\\n",
              "0                                 20.018166   \n",
              "1                                 19.988503   \n",
              "2                                 20.039689   \n",
              "3                                 20.031100   \n",
              "4                                 19.962364   \n",
              "\n",
              "   secondary_cleaner.state.floatbank3_a_level  \\\n",
              "0                                 -450.395995   \n",
              "1                                 -450.114024   \n",
              "2                                 -450.263164   \n",
              "3                                 -449.372570   \n",
              "4                                 -450.638828   \n",
              "\n",
              "   secondary_cleaner.state.floatbank3_b_air  \\\n",
              "0                                 13.987058   \n",
              "1                                 14.092981   \n",
              "2                                 14.077881   \n",
              "3                                 14.013968   \n",
              "4                                 14.009245   \n",
              "\n",
              "   secondary_cleaner.state.floatbank3_b_level  \\\n",
              "0                                 -449.831513   \n",
              "1                                 -450.059163   \n",
              "2                                 -449.660997   \n",
              "3                                 -449.526900   \n",
              "4                                 -450.022259   \n",
              "\n",
              "   secondary_cleaner.state.floatbank4_a_air  \\\n",
              "0                                 12.023554   \n",
              "1                                 12.058140   \n",
              "2                                 11.962366   \n",
              "3                                 12.033091   \n",
              "4                                 12.025367   \n",
              "\n",
              "   secondary_cleaner.state.floatbank4_a_level  \\\n",
              "0                                 -497.795834   \n",
              "1                                 -498.695773   \n",
              "2                                 -498.767484   \n",
              "3                                 -498.350935   \n",
              "4                                 -500.786497   \n",
              "\n",
              "   secondary_cleaner.state.floatbank4_b_air  \\\n",
              "0                                  8.016656   \n",
              "1                                  8.130979   \n",
              "2                                  8.096893   \n",
              "3                                  8.074946   \n",
              "4                                  8.054678   \n",
              "\n",
              "   secondary_cleaner.state.floatbank4_b_level  \\\n",
              "0                                 -501.289139   \n",
              "1                                 -499.634209   \n",
              "2                                 -500.827423   \n",
              "3                                 -499.474407   \n",
              "4                                 -500.397500   \n",
              "\n",
              "   secondary_cleaner.state.floatbank5_a_air  \\\n",
              "0                                  7.946562   \n",
              "1                                  7.958270   \n",
              "2                                  8.071056   \n",
              "3                                  7.897085   \n",
              "4                                  8.107890   \n",
              "\n",
              "   secondary_cleaner.state.floatbank5_a_level  \\\n",
              "0                                 -432.317850   \n",
              "1                                 -525.839648   \n",
              "2                                 -500.801673   \n",
              "3                                 -500.868509   \n",
              "4                                 -509.526725   \n",
              "\n",
              "   secondary_cleaner.state.floatbank5_b_air  \\\n",
              "0                                  4.872511   \n",
              "1                                  4.878850   \n",
              "2                                  4.905125   \n",
              "3                                  4.931400   \n",
              "4                                  4.957674   \n",
              "\n",
              "   secondary_cleaner.state.floatbank5_b_level  \\\n",
              "0                                 -500.037437   \n",
              "1                                 -500.162375   \n",
              "2                                 -499.828510   \n",
              "3                                 -499.963623   \n",
              "4                                 -500.360026   \n",
              "\n",
              "   secondary_cleaner.state.floatbank6_a_air  \\\n",
              "0                                 26.705889   \n",
              "1                                 25.019940   \n",
              "2                                 24.994862   \n",
              "3                                 24.948919   \n",
              "4                                 25.003331   \n",
              "\n",
              "   secondary_cleaner.state.floatbank6_a_level  \n",
              "0                                 -499.709414  \n",
              "1                                 -499.819438  \n",
              "2                                 -500.622559  \n",
              "3                                 -498.709987  \n",
              "4                                 -500.856333  "
            ]
          },
          "metadata": {}
        },
        {
          "output_type": "display_data",
          "data": {
            "text/plain": [
              "'gold_recovery_full'"
            ]
          },
          "metadata": {}
        },
        {
          "output_type": "display_data",
          "data": {
            "text/html": [
              "<div>\n",
              "<style scoped>\n",
              "    .dataframe tbody tr th:only-of-type {\n",
              "        vertical-align: middle;\n",
              "    }\n",
              "\n",
              "    .dataframe tbody tr th {\n",
              "        vertical-align: top;\n",
              "    }\n",
              "\n",
              "    .dataframe thead th {\n",
              "        text-align: right;\n",
              "    }\n",
              "</style>\n",
              "<table border=\"1\" class=\"dataframe\">\n",
              "  <thead>\n",
              "    <tr style=\"text-align: right;\">\n",
              "      <th></th>\n",
              "      <th>date</th>\n",
              "      <th>final.output.concentrate_ag</th>\n",
              "      <th>final.output.concentrate_pb</th>\n",
              "      <th>final.output.concentrate_sol</th>\n",
              "      <th>final.output.concentrate_au</th>\n",
              "      <th>final.output.recovery</th>\n",
              "      <th>final.output.tail_ag</th>\n",
              "      <th>final.output.tail_pb</th>\n",
              "      <th>final.output.tail_sol</th>\n",
              "      <th>final.output.tail_au</th>\n",
              "      <th>primary_cleaner.input.sulfate</th>\n",
              "      <th>primary_cleaner.input.depressant</th>\n",
              "      <th>primary_cleaner.input.feed_size</th>\n",
              "      <th>primary_cleaner.input.xanthate</th>\n",
              "      <th>primary_cleaner.output.concentrate_ag</th>\n",
              "      <th>primary_cleaner.output.concentrate_pb</th>\n",
              "      <th>primary_cleaner.output.concentrate_sol</th>\n",
              "      <th>primary_cleaner.output.concentrate_au</th>\n",
              "      <th>primary_cleaner.output.tail_ag</th>\n",
              "      <th>primary_cleaner.output.tail_pb</th>\n",
              "      <th>primary_cleaner.output.tail_sol</th>\n",
              "      <th>primary_cleaner.output.tail_au</th>\n",
              "      <th>primary_cleaner.state.floatbank8_a_air</th>\n",
              "      <th>primary_cleaner.state.floatbank8_a_level</th>\n",
              "      <th>primary_cleaner.state.floatbank8_b_air</th>\n",
              "      <th>primary_cleaner.state.floatbank8_b_level</th>\n",
              "      <th>primary_cleaner.state.floatbank8_c_air</th>\n",
              "      <th>primary_cleaner.state.floatbank8_c_level</th>\n",
              "      <th>primary_cleaner.state.floatbank8_d_air</th>\n",
              "      <th>primary_cleaner.state.floatbank8_d_level</th>\n",
              "      <th>rougher.calculation.sulfate_to_au_concentrate</th>\n",
              "      <th>rougher.calculation.floatbank10_sulfate_to_au_feed</th>\n",
              "      <th>rougher.calculation.floatbank11_sulfate_to_au_feed</th>\n",
              "      <th>rougher.calculation.au_pb_ratio</th>\n",
              "      <th>rougher.input.feed_ag</th>\n",
              "      <th>rougher.input.feed_pb</th>\n",
              "      <th>rougher.input.feed_rate</th>\n",
              "      <th>rougher.input.feed_size</th>\n",
              "      <th>rougher.input.feed_sol</th>\n",
              "      <th>rougher.input.feed_au</th>\n",
              "      <th>rougher.input.floatbank10_sulfate</th>\n",
              "      <th>rougher.input.floatbank10_xanthate</th>\n",
              "      <th>rougher.input.floatbank11_sulfate</th>\n",
              "      <th>rougher.input.floatbank11_xanthate</th>\n",
              "      <th>rougher.output.concentrate_ag</th>\n",
              "      <th>rougher.output.concentrate_pb</th>\n",
              "      <th>rougher.output.concentrate_sol</th>\n",
              "      <th>rougher.output.concentrate_au</th>\n",
              "      <th>rougher.output.recovery</th>\n",
              "      <th>rougher.output.tail_ag</th>\n",
              "      <th>rougher.output.tail_pb</th>\n",
              "      <th>rougher.output.tail_sol</th>\n",
              "      <th>rougher.output.tail_au</th>\n",
              "      <th>rougher.state.floatbank10_a_air</th>\n",
              "      <th>rougher.state.floatbank10_a_level</th>\n",
              "      <th>rougher.state.floatbank10_b_air</th>\n",
              "      <th>rougher.state.floatbank10_b_level</th>\n",
              "      <th>rougher.state.floatbank10_c_air</th>\n",
              "      <th>rougher.state.floatbank10_c_level</th>\n",
              "      <th>rougher.state.floatbank10_d_air</th>\n",
              "      <th>rougher.state.floatbank10_d_level</th>\n",
              "      <th>rougher.state.floatbank10_e_air</th>\n",
              "      <th>rougher.state.floatbank10_e_level</th>\n",
              "      <th>rougher.state.floatbank10_f_air</th>\n",
              "      <th>rougher.state.floatbank10_f_level</th>\n",
              "      <th>secondary_cleaner.output.tail_ag</th>\n",
              "      <th>secondary_cleaner.output.tail_pb</th>\n",
              "      <th>secondary_cleaner.output.tail_sol</th>\n",
              "      <th>secondary_cleaner.output.tail_au</th>\n",
              "      <th>secondary_cleaner.state.floatbank2_a_air</th>\n",
              "      <th>secondary_cleaner.state.floatbank2_a_level</th>\n",
              "      <th>secondary_cleaner.state.floatbank2_b_air</th>\n",
              "      <th>secondary_cleaner.state.floatbank2_b_level</th>\n",
              "      <th>secondary_cleaner.state.floatbank3_a_air</th>\n",
              "      <th>secondary_cleaner.state.floatbank3_a_level</th>\n",
              "      <th>secondary_cleaner.state.floatbank3_b_air</th>\n",
              "      <th>secondary_cleaner.state.floatbank3_b_level</th>\n",
              "      <th>secondary_cleaner.state.floatbank4_a_air</th>\n",
              "      <th>secondary_cleaner.state.floatbank4_a_level</th>\n",
              "      <th>secondary_cleaner.state.floatbank4_b_air</th>\n",
              "      <th>secondary_cleaner.state.floatbank4_b_level</th>\n",
              "      <th>secondary_cleaner.state.floatbank5_a_air</th>\n",
              "      <th>secondary_cleaner.state.floatbank5_a_level</th>\n",
              "      <th>secondary_cleaner.state.floatbank5_b_air</th>\n",
              "      <th>secondary_cleaner.state.floatbank5_b_level</th>\n",
              "      <th>secondary_cleaner.state.floatbank6_a_air</th>\n",
              "      <th>secondary_cleaner.state.floatbank6_a_level</th>\n",
              "    </tr>\n",
              "  </thead>\n",
              "  <tbody>\n",
              "    <tr>\n",
              "      <th>0</th>\n",
              "      <td>2016-01-15 00:00:00</td>\n",
              "      <td>6.055403</td>\n",
              "      <td>9.889648</td>\n",
              "      <td>5.507324</td>\n",
              "      <td>42.192020</td>\n",
              "      <td>70.541216</td>\n",
              "      <td>10.411962</td>\n",
              "      <td>0.895447</td>\n",
              "      <td>16.904297</td>\n",
              "      <td>2.143149</td>\n",
              "      <td>127.092003</td>\n",
              "      <td>10.128295</td>\n",
              "      <td>7.25</td>\n",
              "      <td>0.988759</td>\n",
              "      <td>8.547551</td>\n",
              "      <td>10.389648</td>\n",
              "      <td>19.529297</td>\n",
              "      <td>34.174427</td>\n",
              "      <td>14.936526</td>\n",
              "      <td>2.534912</td>\n",
              "      <td>7.476074</td>\n",
              "      <td>2.106679</td>\n",
              "      <td>1549.775757</td>\n",
              "      <td>-498.912140</td>\n",
              "      <td>1551.434204</td>\n",
              "      <td>-516.403442</td>\n",
              "      <td>1549.873901</td>\n",
              "      <td>-498.666595</td>\n",
              "      <td>1554.367432</td>\n",
              "      <td>-493.428131</td>\n",
              "      <td>41885.707031</td>\n",
              "      <td>3481.779053</td>\n",
              "      <td>3520.337158</td>\n",
              "      <td>2.838687</td>\n",
              "      <td>6.100378</td>\n",
              "      <td>2.284912</td>\n",
              "      <td>523.546326</td>\n",
              "      <td>55.486599</td>\n",
              "      <td>36.808594</td>\n",
              "      <td>6.486150</td>\n",
              "      <td>11.986616</td>\n",
              "      <td>6.007990</td>\n",
              "      <td>11.836743</td>\n",
              "      <td>6.005818</td>\n",
              "      <td>11.500771</td>\n",
              "      <td>7.101074</td>\n",
              "      <td>28.029297</td>\n",
              "      <td>19.793808</td>\n",
              "      <td>87.107763</td>\n",
              "      <td>5.008018</td>\n",
              "      <td>0.508728</td>\n",
              "      <td>19.154297</td>\n",
              "      <td>1.170244</td>\n",
              "      <td>999.706909</td>\n",
              "      <td>-404.066986</td>\n",
              "      <td>1603.011353</td>\n",
              "      <td>-434.715027</td>\n",
              "      <td>1602.375000</td>\n",
              "      <td>-442.204468</td>\n",
              "      <td>1598.937256</td>\n",
              "      <td>-451.294128</td>\n",
              "      <td>1404.472046</td>\n",
              "      <td>-455.462982</td>\n",
              "      <td>1416.354980</td>\n",
              "      <td>-451.939636</td>\n",
              "      <td>14.500184</td>\n",
              "      <td>4.694824</td>\n",
              "      <td>8.764648</td>\n",
              "      <td>2.606185</td>\n",
              "      <td>25.853109</td>\n",
              "      <td>-498.526489</td>\n",
              "      <td>23.893660</td>\n",
              "      <td>-501.406281</td>\n",
              "      <td>23.961798</td>\n",
              "      <td>-495.262817</td>\n",
              "      <td>21.940409</td>\n",
              "      <td>-499.340973</td>\n",
              "      <td>14.016835</td>\n",
              "      <td>-502.488007</td>\n",
              "      <td>12.099931</td>\n",
              "      <td>-504.715942</td>\n",
              "      <td>9.925633</td>\n",
              "      <td>-498.310211</td>\n",
              "      <td>8.079666</td>\n",
              "      <td>-500.470978</td>\n",
              "      <td>14.151341</td>\n",
              "      <td>-605.841980</td>\n",
              "    </tr>\n",
              "    <tr>\n",
              "      <th>1</th>\n",
              "      <td>2016-01-15 01:00:00</td>\n",
              "      <td>6.029369</td>\n",
              "      <td>9.968944</td>\n",
              "      <td>5.257781</td>\n",
              "      <td>42.701629</td>\n",
              "      <td>69.266198</td>\n",
              "      <td>10.462676</td>\n",
              "      <td>0.927452</td>\n",
              "      <td>16.634514</td>\n",
              "      <td>2.224930</td>\n",
              "      <td>125.629232</td>\n",
              "      <td>10.296251</td>\n",
              "      <td>7.25</td>\n",
              "      <td>1.002663</td>\n",
              "      <td>8.558743</td>\n",
              "      <td>10.497069</td>\n",
              "      <td>19.369147</td>\n",
              "      <td>34.118526</td>\n",
              "      <td>16.250511</td>\n",
              "      <td>3.049646</td>\n",
              "      <td>6.733907</td>\n",
              "      <td>2.353017</td>\n",
              "      <td>1576.166671</td>\n",
              "      <td>-500.904965</td>\n",
              "      <td>1575.950626</td>\n",
              "      <td>-499.865889</td>\n",
              "      <td>1575.994189</td>\n",
              "      <td>-499.315107</td>\n",
              "      <td>1574.479259</td>\n",
              "      <td>-498.931665</td>\n",
              "      <td>42050.861809</td>\n",
              "      <td>3498.370979</td>\n",
              "      <td>3489.981857</td>\n",
              "      <td>2.858998</td>\n",
              "      <td>6.161113</td>\n",
              "      <td>2.266033</td>\n",
              "      <td>525.290581</td>\n",
              "      <td>57.278666</td>\n",
              "      <td>35.753385</td>\n",
              "      <td>6.478583</td>\n",
              "      <td>11.971193</td>\n",
              "      <td>6.005766</td>\n",
              "      <td>11.996163</td>\n",
              "      <td>6.012594</td>\n",
              "      <td>11.615865</td>\n",
              "      <td>7.278807</td>\n",
              "      <td>28.067063</td>\n",
              "      <td>20.050975</td>\n",
              "      <td>86.843261</td>\n",
              "      <td>4.955378</td>\n",
              "      <td>0.536689</td>\n",
              "      <td>18.965234</td>\n",
              "      <td>1.184827</td>\n",
              "      <td>1000.286398</td>\n",
              "      <td>-400.065196</td>\n",
              "      <td>1600.754587</td>\n",
              "      <td>-449.953435</td>\n",
              "      <td>1600.479580</td>\n",
              "      <td>-449.830646</td>\n",
              "      <td>1600.527589</td>\n",
              "      <td>-449.953649</td>\n",
              "      <td>1399.227084</td>\n",
              "      <td>-450.869848</td>\n",
              "      <td>1399.719514</td>\n",
              "      <td>-450.119001</td>\n",
              "      <td>14.265474</td>\n",
              "      <td>4.592547</td>\n",
              "      <td>9.001494</td>\n",
              "      <td>2.488248</td>\n",
              "      <td>25.880539</td>\n",
              "      <td>-499.989656</td>\n",
              "      <td>23.889530</td>\n",
              "      <td>-500.372428</td>\n",
              "      <td>23.970550</td>\n",
              "      <td>-500.085473</td>\n",
              "      <td>22.085714</td>\n",
              "      <td>-499.446897</td>\n",
              "      <td>13.992281</td>\n",
              "      <td>-505.503262</td>\n",
              "      <td>11.950531</td>\n",
              "      <td>-501.331529</td>\n",
              "      <td>10.039245</td>\n",
              "      <td>-500.169983</td>\n",
              "      <td>7.984757</td>\n",
              "      <td>-500.582168</td>\n",
              "      <td>13.998353</td>\n",
              "      <td>-599.787184</td>\n",
              "    </tr>\n",
              "    <tr>\n",
              "      <th>2</th>\n",
              "      <td>2016-01-15 02:00:00</td>\n",
              "      <td>6.055926</td>\n",
              "      <td>10.213995</td>\n",
              "      <td>5.383759</td>\n",
              "      <td>42.657501</td>\n",
              "      <td>68.116445</td>\n",
              "      <td>10.507046</td>\n",
              "      <td>0.953716</td>\n",
              "      <td>16.208849</td>\n",
              "      <td>2.257889</td>\n",
              "      <td>123.819808</td>\n",
              "      <td>11.316280</td>\n",
              "      <td>7.25</td>\n",
              "      <td>0.991265</td>\n",
              "      <td>8.603505</td>\n",
              "      <td>10.354494</td>\n",
              "      <td>19.167579</td>\n",
              "      <td>33.969464</td>\n",
              "      <td>16.491823</td>\n",
              "      <td>3.124664</td>\n",
              "      <td>6.471768</td>\n",
              "      <td>2.416800</td>\n",
              "      <td>1601.556163</td>\n",
              "      <td>-499.997791</td>\n",
              "      <td>1600.386685</td>\n",
              "      <td>-500.607762</td>\n",
              "      <td>1602.003542</td>\n",
              "      <td>-500.870069</td>\n",
              "      <td>1599.541515</td>\n",
              "      <td>-499.827444</td>\n",
              "      <td>42018.101184</td>\n",
              "      <td>3495.348910</td>\n",
              "      <td>3502.359819</td>\n",
              "      <td>2.945989</td>\n",
              "      <td>6.116455</td>\n",
              "      <td>2.159622</td>\n",
              "      <td>530.026610</td>\n",
              "      <td>57.510649</td>\n",
              "      <td>35.971630</td>\n",
              "      <td>6.362222</td>\n",
              "      <td>11.920603</td>\n",
              "      <td>6.197377</td>\n",
              "      <td>11.920305</td>\n",
              "      <td>6.204633</td>\n",
              "      <td>11.695753</td>\n",
              "      <td>7.216833</td>\n",
              "      <td>27.454037</td>\n",
              "      <td>19.737170</td>\n",
              "      <td>86.842308</td>\n",
              "      <td>4.843460</td>\n",
              "      <td>0.546416</td>\n",
              "      <td>18.808533</td>\n",
              "      <td>1.162562</td>\n",
              "      <td>999.719565</td>\n",
              "      <td>-400.074028</td>\n",
              "      <td>1599.337330</td>\n",
              "      <td>-450.008530</td>\n",
              "      <td>1599.672797</td>\n",
              "      <td>-449.954491</td>\n",
              "      <td>1599.849325</td>\n",
              "      <td>-449.954185</td>\n",
              "      <td>1399.180945</td>\n",
              "      <td>-449.937588</td>\n",
              "      <td>1400.316682</td>\n",
              "      <td>-450.527147</td>\n",
              "      <td>14.115662</td>\n",
              "      <td>4.624775</td>\n",
              "      <td>8.842896</td>\n",
              "      <td>2.458187</td>\n",
              "      <td>26.005245</td>\n",
              "      <td>-499.929616</td>\n",
              "      <td>23.886657</td>\n",
              "      <td>-499.951928</td>\n",
              "      <td>23.913535</td>\n",
              "      <td>-499.442343</td>\n",
              "      <td>23.957717</td>\n",
              "      <td>-499.901982</td>\n",
              "      <td>14.015015</td>\n",
              "      <td>-502.520901</td>\n",
              "      <td>11.912783</td>\n",
              "      <td>-501.133383</td>\n",
              "      <td>10.070913</td>\n",
              "      <td>-500.129135</td>\n",
              "      <td>8.013877</td>\n",
              "      <td>-500.517572</td>\n",
              "      <td>14.028663</td>\n",
              "      <td>-601.427363</td>\n",
              "    </tr>\n",
              "    <tr>\n",
              "      <th>3</th>\n",
              "      <td>2016-01-15 03:00:00</td>\n",
              "      <td>6.047977</td>\n",
              "      <td>9.977019</td>\n",
              "      <td>4.858634</td>\n",
              "      <td>42.689819</td>\n",
              "      <td>68.347543</td>\n",
              "      <td>10.422762</td>\n",
              "      <td>0.883763</td>\n",
              "      <td>16.532835</td>\n",
              "      <td>2.146849</td>\n",
              "      <td>122.270188</td>\n",
              "      <td>11.322140</td>\n",
              "      <td>7.25</td>\n",
              "      <td>0.996739</td>\n",
              "      <td>7.221879</td>\n",
              "      <td>8.496563</td>\n",
              "      <td>15.978538</td>\n",
              "      <td>28.260743</td>\n",
              "      <td>16.024359</td>\n",
              "      <td>2.960362</td>\n",
              "      <td>6.843791</td>\n",
              "      <td>2.262051</td>\n",
              "      <td>1599.968720</td>\n",
              "      <td>-500.951778</td>\n",
              "      <td>1600.659236</td>\n",
              "      <td>-499.677094</td>\n",
              "      <td>1600.304144</td>\n",
              "      <td>-500.727997</td>\n",
              "      <td>1600.449520</td>\n",
              "      <td>-500.052575</td>\n",
              "      <td>42029.447991</td>\n",
              "      <td>3498.578313</td>\n",
              "      <td>3499.162912</td>\n",
              "      <td>3.002340</td>\n",
              "      <td>6.043309</td>\n",
              "      <td>2.037807</td>\n",
              "      <td>542.590390</td>\n",
              "      <td>57.792734</td>\n",
              "      <td>36.862241</td>\n",
              "      <td>6.118189</td>\n",
              "      <td>11.630094</td>\n",
              "      <td>6.203177</td>\n",
              "      <td>11.692450</td>\n",
              "      <td>6.196578</td>\n",
              "      <td>11.915047</td>\n",
              "      <td>7.175616</td>\n",
              "      <td>27.341277</td>\n",
              "      <td>19.320810</td>\n",
              "      <td>87.226430</td>\n",
              "      <td>4.655288</td>\n",
              "      <td>0.542525</td>\n",
              "      <td>19.330200</td>\n",
              "      <td>1.079755</td>\n",
              "      <td>999.814770</td>\n",
              "      <td>-400.200179</td>\n",
              "      <td>1600.059442</td>\n",
              "      <td>-450.619948</td>\n",
              "      <td>1600.012842</td>\n",
              "      <td>-449.910497</td>\n",
              "      <td>1597.725177</td>\n",
              "      <td>-450.130127</td>\n",
              "      <td>1400.943157</td>\n",
              "      <td>-450.030142</td>\n",
              "      <td>1400.234743</td>\n",
              "      <td>-449.790835</td>\n",
              "      <td>13.732071</td>\n",
              "      <td>4.482453</td>\n",
              "      <td>9.122857</td>\n",
              "      <td>2.322062</td>\n",
              "      <td>25.942508</td>\n",
              "      <td>-499.176749</td>\n",
              "      <td>23.955516</td>\n",
              "      <td>-499.848796</td>\n",
              "      <td>23.966838</td>\n",
              "      <td>-500.008812</td>\n",
              "      <td>23.954443</td>\n",
              "      <td>-499.944710</td>\n",
              "      <td>14.036510</td>\n",
              "      <td>-500.857308</td>\n",
              "      <td>11.999550</td>\n",
              "      <td>-501.193686</td>\n",
              "      <td>9.970366</td>\n",
              "      <td>-499.201640</td>\n",
              "      <td>7.977324</td>\n",
              "      <td>-500.255908</td>\n",
              "      <td>14.005551</td>\n",
              "      <td>-599.996129</td>\n",
              "    </tr>\n",
              "    <tr>\n",
              "      <th>4</th>\n",
              "      <td>2016-01-15 04:00:00</td>\n",
              "      <td>6.148599</td>\n",
              "      <td>10.142511</td>\n",
              "      <td>4.939416</td>\n",
              "      <td>42.774141</td>\n",
              "      <td>66.927016</td>\n",
              "      <td>10.360302</td>\n",
              "      <td>0.792826</td>\n",
              "      <td>16.525686</td>\n",
              "      <td>2.055292</td>\n",
              "      <td>117.988169</td>\n",
              "      <td>11.913613</td>\n",
              "      <td>7.25</td>\n",
              "      <td>1.009869</td>\n",
              "      <td>9.089428</td>\n",
              "      <td>9.986786</td>\n",
              "      <td>19.199864</td>\n",
              "      <td>33.044932</td>\n",
              "      <td>16.480185</td>\n",
              "      <td>3.112100</td>\n",
              "      <td>6.550154</td>\n",
              "      <td>2.277073</td>\n",
              "      <td>1601.339707</td>\n",
              "      <td>-498.975456</td>\n",
              "      <td>1601.437854</td>\n",
              "      <td>-500.323246</td>\n",
              "      <td>1599.581894</td>\n",
              "      <td>-500.888152</td>\n",
              "      <td>1602.649541</td>\n",
              "      <td>-500.593010</td>\n",
              "      <td>42125.354245</td>\n",
              "      <td>3494.800771</td>\n",
              "      <td>3506.679315</td>\n",
              "      <td>3.169615</td>\n",
              "      <td>6.060915</td>\n",
              "      <td>1.786875</td>\n",
              "      <td>540.531893</td>\n",
              "      <td>56.047189</td>\n",
              "      <td>34.347666</td>\n",
              "      <td>5.663707</td>\n",
              "      <td>10.957755</td>\n",
              "      <td>6.198826</td>\n",
              "      <td>10.960521</td>\n",
              "      <td>6.194897</td>\n",
              "      <td>12.411054</td>\n",
              "      <td>7.240205</td>\n",
              "      <td>27.041023</td>\n",
              "      <td>19.216101</td>\n",
              "      <td>86.688794</td>\n",
              "      <td>4.552800</td>\n",
              "      <td>0.515438</td>\n",
              "      <td>19.267422</td>\n",
              "      <td>1.012642</td>\n",
              "      <td>999.678690</td>\n",
              "      <td>-399.752729</td>\n",
              "      <td>1600.208824</td>\n",
              "      <td>-449.599614</td>\n",
              "      <td>1600.357732</td>\n",
              "      <td>-450.034364</td>\n",
              "      <td>1599.759049</td>\n",
              "      <td>-449.909799</td>\n",
              "      <td>1401.560902</td>\n",
              "      <td>-448.877187</td>\n",
              "      <td>1401.160227</td>\n",
              "      <td>-450.407128</td>\n",
              "      <td>14.079996</td>\n",
              "      <td>4.470737</td>\n",
              "      <td>8.871028</td>\n",
              "      <td>2.330448</td>\n",
              "      <td>26.024787</td>\n",
              "      <td>-500.279091</td>\n",
              "      <td>23.955345</td>\n",
              "      <td>-500.593614</td>\n",
              "      <td>23.985703</td>\n",
              "      <td>-500.083811</td>\n",
              "      <td>23.958945</td>\n",
              "      <td>-499.990309</td>\n",
              "      <td>14.027298</td>\n",
              "      <td>-499.838632</td>\n",
              "      <td>11.953070</td>\n",
              "      <td>-501.053894</td>\n",
              "      <td>9.925709</td>\n",
              "      <td>-501.686727</td>\n",
              "      <td>7.894242</td>\n",
              "      <td>-500.356035</td>\n",
              "      <td>13.996647</td>\n",
              "      <td>-601.496691</td>\n",
              "    </tr>\n",
              "  </tbody>\n",
              "</table>\n",
              "</div>"
            ],
            "text/plain": [
              "                  date  final.output.concentrate_ag  \\\n",
              "0  2016-01-15 00:00:00                     6.055403   \n",
              "1  2016-01-15 01:00:00                     6.029369   \n",
              "2  2016-01-15 02:00:00                     6.055926   \n",
              "3  2016-01-15 03:00:00                     6.047977   \n",
              "4  2016-01-15 04:00:00                     6.148599   \n",
              "\n",
              "   final.output.concentrate_pb  final.output.concentrate_sol  \\\n",
              "0                     9.889648                      5.507324   \n",
              "1                     9.968944                      5.257781   \n",
              "2                    10.213995                      5.383759   \n",
              "3                     9.977019                      4.858634   \n",
              "4                    10.142511                      4.939416   \n",
              "\n",
              "   final.output.concentrate_au  final.output.recovery  final.output.tail_ag  \\\n",
              "0                    42.192020              70.541216             10.411962   \n",
              "1                    42.701629              69.266198             10.462676   \n",
              "2                    42.657501              68.116445             10.507046   \n",
              "3                    42.689819              68.347543             10.422762   \n",
              "4                    42.774141              66.927016             10.360302   \n",
              "\n",
              "   final.output.tail_pb  final.output.tail_sol  final.output.tail_au  \\\n",
              "0              0.895447              16.904297              2.143149   \n",
              "1              0.927452              16.634514              2.224930   \n",
              "2              0.953716              16.208849              2.257889   \n",
              "3              0.883763              16.532835              2.146849   \n",
              "4              0.792826              16.525686              2.055292   \n",
              "\n",
              "   primary_cleaner.input.sulfate  primary_cleaner.input.depressant  \\\n",
              "0                     127.092003                         10.128295   \n",
              "1                     125.629232                         10.296251   \n",
              "2                     123.819808                         11.316280   \n",
              "3                     122.270188                         11.322140   \n",
              "4                     117.988169                         11.913613   \n",
              "\n",
              "   primary_cleaner.input.feed_size  primary_cleaner.input.xanthate  \\\n",
              "0                             7.25                        0.988759   \n",
              "1                             7.25                        1.002663   \n",
              "2                             7.25                        0.991265   \n",
              "3                             7.25                        0.996739   \n",
              "4                             7.25                        1.009869   \n",
              "\n",
              "   primary_cleaner.output.concentrate_ag  \\\n",
              "0                               8.547551   \n",
              "1                               8.558743   \n",
              "2                               8.603505   \n",
              "3                               7.221879   \n",
              "4                               9.089428   \n",
              "\n",
              "   primary_cleaner.output.concentrate_pb  \\\n",
              "0                              10.389648   \n",
              "1                              10.497069   \n",
              "2                              10.354494   \n",
              "3                               8.496563   \n",
              "4                               9.986786   \n",
              "\n",
              "   primary_cleaner.output.concentrate_sol  \\\n",
              "0                               19.529297   \n",
              "1                               19.369147   \n",
              "2                               19.167579   \n",
              "3                               15.978538   \n",
              "4                               19.199864   \n",
              "\n",
              "   primary_cleaner.output.concentrate_au  primary_cleaner.output.tail_ag  \\\n",
              "0                              34.174427                       14.936526   \n",
              "1                              34.118526                       16.250511   \n",
              "2                              33.969464                       16.491823   \n",
              "3                              28.260743                       16.024359   \n",
              "4                              33.044932                       16.480185   \n",
              "\n",
              "   primary_cleaner.output.tail_pb  primary_cleaner.output.tail_sol  \\\n",
              "0                        2.534912                         7.476074   \n",
              "1                        3.049646                         6.733907   \n",
              "2                        3.124664                         6.471768   \n",
              "3                        2.960362                         6.843791   \n",
              "4                        3.112100                         6.550154   \n",
              "\n",
              "   primary_cleaner.output.tail_au  primary_cleaner.state.floatbank8_a_air  \\\n",
              "0                        2.106679                             1549.775757   \n",
              "1                        2.353017                             1576.166671   \n",
              "2                        2.416800                             1601.556163   \n",
              "3                        2.262051                             1599.968720   \n",
              "4                        2.277073                             1601.339707   \n",
              "\n",
              "   primary_cleaner.state.floatbank8_a_level  \\\n",
              "0                               -498.912140   \n",
              "1                               -500.904965   \n",
              "2                               -499.997791   \n",
              "3                               -500.951778   \n",
              "4                               -498.975456   \n",
              "\n",
              "   primary_cleaner.state.floatbank8_b_air  \\\n",
              "0                             1551.434204   \n",
              "1                             1575.950626   \n",
              "2                             1600.386685   \n",
              "3                             1600.659236   \n",
              "4                             1601.437854   \n",
              "\n",
              "   primary_cleaner.state.floatbank8_b_level  \\\n",
              "0                               -516.403442   \n",
              "1                               -499.865889   \n",
              "2                               -500.607762   \n",
              "3                               -499.677094   \n",
              "4                               -500.323246   \n",
              "\n",
              "   primary_cleaner.state.floatbank8_c_air  \\\n",
              "0                             1549.873901   \n",
              "1                             1575.994189   \n",
              "2                             1602.003542   \n",
              "3                             1600.304144   \n",
              "4                             1599.581894   \n",
              "\n",
              "   primary_cleaner.state.floatbank8_c_level  \\\n",
              "0                               -498.666595   \n",
              "1                               -499.315107   \n",
              "2                               -500.870069   \n",
              "3                               -500.727997   \n",
              "4                               -500.888152   \n",
              "\n",
              "   primary_cleaner.state.floatbank8_d_air  \\\n",
              "0                             1554.367432   \n",
              "1                             1574.479259   \n",
              "2                             1599.541515   \n",
              "3                             1600.449520   \n",
              "4                             1602.649541   \n",
              "\n",
              "   primary_cleaner.state.floatbank8_d_level  \\\n",
              "0                               -493.428131   \n",
              "1                               -498.931665   \n",
              "2                               -499.827444   \n",
              "3                               -500.052575   \n",
              "4                               -500.593010   \n",
              "\n",
              "   rougher.calculation.sulfate_to_au_concentrate  \\\n",
              "0                                   41885.707031   \n",
              "1                                   42050.861809   \n",
              "2                                   42018.101184   \n",
              "3                                   42029.447991   \n",
              "4                                   42125.354245   \n",
              "\n",
              "   rougher.calculation.floatbank10_sulfate_to_au_feed  \\\n",
              "0                                        3481.779053    \n",
              "1                                        3498.370979    \n",
              "2                                        3495.348910    \n",
              "3                                        3498.578313    \n",
              "4                                        3494.800771    \n",
              "\n",
              "   rougher.calculation.floatbank11_sulfate_to_au_feed  \\\n",
              "0                                        3520.337158    \n",
              "1                                        3489.981857    \n",
              "2                                        3502.359819    \n",
              "3                                        3499.162912    \n",
              "4                                        3506.679315    \n",
              "\n",
              "   rougher.calculation.au_pb_ratio  rougher.input.feed_ag  \\\n",
              "0                         2.838687               6.100378   \n",
              "1                         2.858998               6.161113   \n",
              "2                         2.945989               6.116455   \n",
              "3                         3.002340               6.043309   \n",
              "4                         3.169615               6.060915   \n",
              "\n",
              "   rougher.input.feed_pb  rougher.input.feed_rate  rougher.input.feed_size  \\\n",
              "0               2.284912               523.546326                55.486599   \n",
              "1               2.266033               525.290581                57.278666   \n",
              "2               2.159622               530.026610                57.510649   \n",
              "3               2.037807               542.590390                57.792734   \n",
              "4               1.786875               540.531893                56.047189   \n",
              "\n",
              "   rougher.input.feed_sol  rougher.input.feed_au  \\\n",
              "0               36.808594               6.486150   \n",
              "1               35.753385               6.478583   \n",
              "2               35.971630               6.362222   \n",
              "3               36.862241               6.118189   \n",
              "4               34.347666               5.663707   \n",
              "\n",
              "   rougher.input.floatbank10_sulfate  rougher.input.floatbank10_xanthate  \\\n",
              "0                          11.986616                            6.007990   \n",
              "1                          11.971193                            6.005766   \n",
              "2                          11.920603                            6.197377   \n",
              "3                          11.630094                            6.203177   \n",
              "4                          10.957755                            6.198826   \n",
              "\n",
              "   rougher.input.floatbank11_sulfate  rougher.input.floatbank11_xanthate  \\\n",
              "0                          11.836743                            6.005818   \n",
              "1                          11.996163                            6.012594   \n",
              "2                          11.920305                            6.204633   \n",
              "3                          11.692450                            6.196578   \n",
              "4                          10.960521                            6.194897   \n",
              "\n",
              "   rougher.output.concentrate_ag  rougher.output.concentrate_pb  \\\n",
              "0                      11.500771                       7.101074   \n",
              "1                      11.615865                       7.278807   \n",
              "2                      11.695753                       7.216833   \n",
              "3                      11.915047                       7.175616   \n",
              "4                      12.411054                       7.240205   \n",
              "\n",
              "   rougher.output.concentrate_sol  rougher.output.concentrate_au  \\\n",
              "0                       28.029297                      19.793808   \n",
              "1                       28.067063                      20.050975   \n",
              "2                       27.454037                      19.737170   \n",
              "3                       27.341277                      19.320810   \n",
              "4                       27.041023                      19.216101   \n",
              "\n",
              "   rougher.output.recovery  rougher.output.tail_ag  rougher.output.tail_pb  \\\n",
              "0                87.107763                5.008018                0.508728   \n",
              "1                86.843261                4.955378                0.536689   \n",
              "2                86.842308                4.843460                0.546416   \n",
              "3                87.226430                4.655288                0.542525   \n",
              "4                86.688794                4.552800                0.515438   \n",
              "\n",
              "   rougher.output.tail_sol  rougher.output.tail_au  \\\n",
              "0                19.154297                1.170244   \n",
              "1                18.965234                1.184827   \n",
              "2                18.808533                1.162562   \n",
              "3                19.330200                1.079755   \n",
              "4                19.267422                1.012642   \n",
              "\n",
              "   rougher.state.floatbank10_a_air  rougher.state.floatbank10_a_level  \\\n",
              "0                       999.706909                        -404.066986   \n",
              "1                      1000.286398                        -400.065196   \n",
              "2                       999.719565                        -400.074028   \n",
              "3                       999.814770                        -400.200179   \n",
              "4                       999.678690                        -399.752729   \n",
              "\n",
              "   rougher.state.floatbank10_b_air  rougher.state.floatbank10_b_level  \\\n",
              "0                      1603.011353                        -434.715027   \n",
              "1                      1600.754587                        -449.953435   \n",
              "2                      1599.337330                        -450.008530   \n",
              "3                      1600.059442                        -450.619948   \n",
              "4                      1600.208824                        -449.599614   \n",
              "\n",
              "   rougher.state.floatbank10_c_air  rougher.state.floatbank10_c_level  \\\n",
              "0                      1602.375000                        -442.204468   \n",
              "1                      1600.479580                        -449.830646   \n",
              "2                      1599.672797                        -449.954491   \n",
              "3                      1600.012842                        -449.910497   \n",
              "4                      1600.357732                        -450.034364   \n",
              "\n",
              "   rougher.state.floatbank10_d_air  rougher.state.floatbank10_d_level  \\\n",
              "0                      1598.937256                        -451.294128   \n",
              "1                      1600.527589                        -449.953649   \n",
              "2                      1599.849325                        -449.954185   \n",
              "3                      1597.725177                        -450.130127   \n",
              "4                      1599.759049                        -449.909799   \n",
              "\n",
              "   rougher.state.floatbank10_e_air  rougher.state.floatbank10_e_level  \\\n",
              "0                      1404.472046                        -455.462982   \n",
              "1                      1399.227084                        -450.869848   \n",
              "2                      1399.180945                        -449.937588   \n",
              "3                      1400.943157                        -450.030142   \n",
              "4                      1401.560902                        -448.877187   \n",
              "\n",
              "   rougher.state.floatbank10_f_air  rougher.state.floatbank10_f_level  \\\n",
              "0                      1416.354980                        -451.939636   \n",
              "1                      1399.719514                        -450.119001   \n",
              "2                      1400.316682                        -450.527147   \n",
              "3                      1400.234743                        -449.790835   \n",
              "4                      1401.160227                        -450.407128   \n",
              "\n",
              "   secondary_cleaner.output.tail_ag  secondary_cleaner.output.tail_pb  \\\n",
              "0                         14.500184                          4.694824   \n",
              "1                         14.265474                          4.592547   \n",
              "2                         14.115662                          4.624775   \n",
              "3                         13.732071                          4.482453   \n",
              "4                         14.079996                          4.470737   \n",
              "\n",
              "   secondary_cleaner.output.tail_sol  secondary_cleaner.output.tail_au  \\\n",
              "0                           8.764648                          2.606185   \n",
              "1                           9.001494                          2.488248   \n",
              "2                           8.842896                          2.458187   \n",
              "3                           9.122857                          2.322062   \n",
              "4                           8.871028                          2.330448   \n",
              "\n",
              "   secondary_cleaner.state.floatbank2_a_air  \\\n",
              "0                                 25.853109   \n",
              "1                                 25.880539   \n",
              "2                                 26.005245   \n",
              "3                                 25.942508   \n",
              "4                                 26.024787   \n",
              "\n",
              "   secondary_cleaner.state.floatbank2_a_level  \\\n",
              "0                                 -498.526489   \n",
              "1                                 -499.989656   \n",
              "2                                 -499.929616   \n",
              "3                                 -499.176749   \n",
              "4                                 -500.279091   \n",
              "\n",
              "   secondary_cleaner.state.floatbank2_b_air  \\\n",
              "0                                 23.893660   \n",
              "1                                 23.889530   \n",
              "2                                 23.886657   \n",
              "3                                 23.955516   \n",
              "4                                 23.955345   \n",
              "\n",
              "   secondary_cleaner.state.floatbank2_b_level  \\\n",
              "0                                 -501.406281   \n",
              "1                                 -500.372428   \n",
              "2                                 -499.951928   \n",
              "3                                 -499.848796   \n",
              "4                                 -500.593614   \n",
              "\n",
              "   secondary_cleaner.state.floatbank3_a_air  \\\n",
              "0                                 23.961798   \n",
              "1                                 23.970550   \n",
              "2                                 23.913535   \n",
              "3                                 23.966838   \n",
              "4                                 23.985703   \n",
              "\n",
              "   secondary_cleaner.state.floatbank3_a_level  \\\n",
              "0                                 -495.262817   \n",
              "1                                 -500.085473   \n",
              "2                                 -499.442343   \n",
              "3                                 -500.008812   \n",
              "4                                 -500.083811   \n",
              "\n",
              "   secondary_cleaner.state.floatbank3_b_air  \\\n",
              "0                                 21.940409   \n",
              "1                                 22.085714   \n",
              "2                                 23.957717   \n",
              "3                                 23.954443   \n",
              "4                                 23.958945   \n",
              "\n",
              "   secondary_cleaner.state.floatbank3_b_level  \\\n",
              "0                                 -499.340973   \n",
              "1                                 -499.446897   \n",
              "2                                 -499.901982   \n",
              "3                                 -499.944710   \n",
              "4                                 -499.990309   \n",
              "\n",
              "   secondary_cleaner.state.floatbank4_a_air  \\\n",
              "0                                 14.016835   \n",
              "1                                 13.992281   \n",
              "2                                 14.015015   \n",
              "3                                 14.036510   \n",
              "4                                 14.027298   \n",
              "\n",
              "   secondary_cleaner.state.floatbank4_a_level  \\\n",
              "0                                 -502.488007   \n",
              "1                                 -505.503262   \n",
              "2                                 -502.520901   \n",
              "3                                 -500.857308   \n",
              "4                                 -499.838632   \n",
              "\n",
              "   secondary_cleaner.state.floatbank4_b_air  \\\n",
              "0                                 12.099931   \n",
              "1                                 11.950531   \n",
              "2                                 11.912783   \n",
              "3                                 11.999550   \n",
              "4                                 11.953070   \n",
              "\n",
              "   secondary_cleaner.state.floatbank4_b_level  \\\n",
              "0                                 -504.715942   \n",
              "1                                 -501.331529   \n",
              "2                                 -501.133383   \n",
              "3                                 -501.193686   \n",
              "4                                 -501.053894   \n",
              "\n",
              "   secondary_cleaner.state.floatbank5_a_air  \\\n",
              "0                                  9.925633   \n",
              "1                                 10.039245   \n",
              "2                                 10.070913   \n",
              "3                                  9.970366   \n",
              "4                                  9.925709   \n",
              "\n",
              "   secondary_cleaner.state.floatbank5_a_level  \\\n",
              "0                                 -498.310211   \n",
              "1                                 -500.169983   \n",
              "2                                 -500.129135   \n",
              "3                                 -499.201640   \n",
              "4                                 -501.686727   \n",
              "\n",
              "   secondary_cleaner.state.floatbank5_b_air  \\\n",
              "0                                  8.079666   \n",
              "1                                  7.984757   \n",
              "2                                  8.013877   \n",
              "3                                  7.977324   \n",
              "4                                  7.894242   \n",
              "\n",
              "   secondary_cleaner.state.floatbank5_b_level  \\\n",
              "0                                 -500.470978   \n",
              "1                                 -500.582168   \n",
              "2                                 -500.517572   \n",
              "3                                 -500.255908   \n",
              "4                                 -500.356035   \n",
              "\n",
              "   secondary_cleaner.state.floatbank6_a_air  \\\n",
              "0                                 14.151341   \n",
              "1                                 13.998353   \n",
              "2                                 14.028663   \n",
              "3                                 14.005551   \n",
              "4                                 13.996647   \n",
              "\n",
              "   secondary_cleaner.state.floatbank6_a_level  \n",
              "0                                 -605.841980  \n",
              "1                                 -599.787184  \n",
              "2                                 -601.427363  \n",
              "3                                 -599.996129  \n",
              "4                                 -601.496691  "
            ]
          },
          "metadata": {}
        }
      ]
    },
    {
      "cell_type": "code",
      "source": "for df in dfs_all:\n    display(df.info())",
      "metadata": {},
      "execution_count": 4,
      "outputs": [
        {
          "name": "stdout",
          "output_type": "stream",
          "text": "<class 'pandas.core.frame.DataFrame'>\n\nRangeIndex: 14149 entries, 0 to 14148\n\nData columns (total 87 columns):\n\n #   Column                                              Non-Null Count  Dtype  \n\n---  ------                                              --------------  -----  \n\n 0   date                                                14149 non-null  object \n\n 1   final.output.concentrate_ag                         14148 non-null  float64\n\n 2   final.output.concentrate_pb                         14148 non-null  float64\n\n 3   final.output.concentrate_sol                        13938 non-null  float64\n\n 4   final.output.concentrate_au                         14149 non-null  float64\n\n 5   final.output.recovery                               14149 non-null  float64\n\n 6   final.output.tail_ag                                14149 non-null  float64\n\n 7   final.output.tail_pb                                14049 non-null  float64\n\n 8   final.output.tail_sol                               14144 non-null  float64\n\n 9   final.output.tail_au                                14149 non-null  float64\n\n 10  primary_cleaner.input.sulfate                       14129 non-null  float64\n\n 11  primary_cleaner.input.depressant                    14117 non-null  float64\n\n 12  primary_cleaner.input.feed_size                     14149 non-null  float64\n\n 13  primary_cleaner.input.xanthate                      14049 non-null  float64\n\n 14  primary_cleaner.output.concentrate_ag               14149 non-null  float64\n\n 15  primary_cleaner.output.concentrate_pb               14063 non-null  float64\n\n 16  primary_cleaner.output.concentrate_sol              13863 non-null  float64\n\n 17  primary_cleaner.output.concentrate_au               14149 non-null  float64\n\n 18  primary_cleaner.output.tail_ag                      14148 non-null  float64\n\n 19  primary_cleaner.output.tail_pb                      14134 non-null  float64\n\n 20  primary_cleaner.output.tail_sol                     14103 non-null  float64\n\n 21  primary_cleaner.output.tail_au                      14149 non-null  float64\n\n 22  primary_cleaner.state.floatbank8_a_air              14145 non-null  float64\n\n 23  primary_cleaner.state.floatbank8_a_level            14148 non-null  float64\n\n 24  primary_cleaner.state.floatbank8_b_air              14145 non-null  float64\n\n 25  primary_cleaner.state.floatbank8_b_level            14148 non-null  float64\n\n 26  primary_cleaner.state.floatbank8_c_air              14147 non-null  float64\n\n 27  primary_cleaner.state.floatbank8_c_level            14148 non-null  float64\n\n 28  primary_cleaner.state.floatbank8_d_air              14146 non-null  float64\n\n 29  primary_cleaner.state.floatbank8_d_level            14148 non-null  float64\n\n 30  rougher.calculation.sulfate_to_au_concentrate       14148 non-null  float64\n\n 31  rougher.calculation.floatbank10_sulfate_to_au_feed  14148 non-null  float64\n\n 32  rougher.calculation.floatbank11_sulfate_to_au_feed  14148 non-null  float64\n\n 33  rougher.calculation.au_pb_ratio                     14149 non-null  float64\n\n 34  rougher.input.feed_ag                               14149 non-null  float64\n\n 35  rougher.input.feed_pb                               14049 non-null  float64\n\n 36  rougher.input.feed_rate                             14141 non-null  float64\n\n 37  rougher.input.feed_size                             14005 non-null  float64\n\n 38  rougher.input.feed_sol                              14071 non-null  float64\n\n 39  rougher.input.feed_au                               14149 non-null  float64\n\n 40  rougher.input.floatbank10_sulfate                   14120 non-null  float64\n\n 41  rougher.input.floatbank10_xanthate                  14141 non-null  float64\n\n 42  rougher.input.floatbank11_sulfate                   14113 non-null  float64\n\n 43  rougher.input.floatbank11_xanthate                  13721 non-null  float64\n\n 44  rougher.output.concentrate_ag                       14149 non-null  float64\n\n 45  rougher.output.concentrate_pb                       14149 non-null  float64\n\n 46  rougher.output.concentrate_sol                      14127 non-null  float64\n\n 47  rougher.output.concentrate_au                       14149 non-null  float64\n\n 48  rougher.output.recovery                             14149 non-null  float64\n\n 49  rougher.output.tail_ag                              14148 non-null  float64\n\n 50  rougher.output.tail_pb                              14149 non-null  float64\n\n 51  rougher.output.tail_sol                             14149 non-null  float64\n\n 52  rougher.output.tail_au                              14149 non-null  float64\n\n 53  rougher.state.floatbank10_a_air                     14148 non-null  float64\n\n 54  rougher.state.floatbank10_a_level                   14148 non-null  float64\n\n 55  rougher.state.floatbank10_b_air                     14148 non-null  float64\n\n 56  rougher.state.floatbank10_b_level                   14148 non-null  float64\n\n 57  rougher.state.floatbank10_c_air                     14148 non-null  float64\n\n 58  rougher.state.floatbank10_c_level                   14148 non-null  float64\n\n 59  rougher.state.floatbank10_d_air                     14149 non-null  float64\n\n 60  rougher.state.floatbank10_d_level                   14149 non-null  float64\n\n 61  rougher.state.floatbank10_e_air                     13713 non-null  float64\n\n 62  rougher.state.floatbank10_e_level                   14149 non-null  float64\n\n 63  rougher.state.floatbank10_f_air                     14149 non-null  float64\n\n 64  rougher.state.floatbank10_f_level                   14149 non-null  float64\n\n 65  secondary_cleaner.output.tail_ag                    14147 non-null  float64\n\n 66  secondary_cleaner.output.tail_pb                    14139 non-null  float64\n\n 67  secondary_cleaner.output.tail_sol                   12544 non-null  float64\n\n 68  secondary_cleaner.output.tail_au                    14149 non-null  float64\n\n 69  secondary_cleaner.state.floatbank2_a_air            13932 non-null  float64\n\n 70  secondary_cleaner.state.floatbank2_a_level          14148 non-null  float64\n\n 71  secondary_cleaner.state.floatbank2_b_air            14128 non-null  float64\n\n 72  secondary_cleaner.state.floatbank2_b_level          14148 non-null  float64\n\n 73  secondary_cleaner.state.floatbank3_a_air            14145 non-null  float64\n\n 74  secondary_cleaner.state.floatbank3_a_level          14148 non-null  float64\n\n 75  secondary_cleaner.state.floatbank3_b_air            14148 non-null  float64\n\n 76  secondary_cleaner.state.floatbank3_b_level          14148 non-null  float64\n\n 77  secondary_cleaner.state.floatbank4_a_air            14143 non-null  float64\n\n 78  secondary_cleaner.state.floatbank4_a_level          14148 non-null  float64\n\n 79  secondary_cleaner.state.floatbank4_b_air            14148 non-null  float64\n\n 80  secondary_cleaner.state.floatbank4_b_level          14148 non-null  float64\n\n 81  secondary_cleaner.state.floatbank5_a_air            14148 non-null  float64\n\n 82  secondary_cleaner.state.floatbank5_a_level          14148 non-null  float64\n\n 83  secondary_cleaner.state.floatbank5_b_air            14148 non-null  float64\n\n 84  secondary_cleaner.state.floatbank5_b_level          14148 non-null  float64\n\n 85  secondary_cleaner.state.floatbank6_a_air            14147 non-null  float64\n\n 86  secondary_cleaner.state.floatbank6_a_level          14148 non-null  float64\n\ndtypes: float64(86), object(1)\n\nmemory usage: 9.4+ MB\n"
        },
        {
          "output_type": "display_data",
          "data": {
            "text/plain": [
              "None"
            ]
          },
          "metadata": {}
        },
        {
          "name": "stdout",
          "output_type": "stream",
          "text": "<class 'pandas.core.frame.DataFrame'>\n\nRangeIndex: 5290 entries, 0 to 5289\n\nData columns (total 53 columns):\n\n #   Column                                      Non-Null Count  Dtype  \n\n---  ------                                      --------------  -----  \n\n 0   date                                        5290 non-null   object \n\n 1   primary_cleaner.input.sulfate               5286 non-null   float64\n\n 2   primary_cleaner.input.depressant            5285 non-null   float64\n\n 3   primary_cleaner.input.feed_size             5290 non-null   float64\n\n 4   primary_cleaner.input.xanthate              5286 non-null   float64\n\n 5   primary_cleaner.state.floatbank8_a_air      5290 non-null   float64\n\n 6   primary_cleaner.state.floatbank8_a_level    5290 non-null   float64\n\n 7   primary_cleaner.state.floatbank8_b_air      5290 non-null   float64\n\n 8   primary_cleaner.state.floatbank8_b_level    5290 non-null   float64\n\n 9   primary_cleaner.state.floatbank8_c_air      5290 non-null   float64\n\n 10  primary_cleaner.state.floatbank8_c_level    5290 non-null   float64\n\n 11  primary_cleaner.state.floatbank8_d_air      5290 non-null   float64\n\n 12  primary_cleaner.state.floatbank8_d_level    5290 non-null   float64\n\n 13  rougher.input.feed_ag                       5290 non-null   float64\n\n 14  rougher.input.feed_pb                       5290 non-null   float64\n\n 15  rougher.input.feed_rate                     5287 non-null   float64\n\n 16  rougher.input.feed_size                     5289 non-null   float64\n\n 17  rougher.input.feed_sol                      5269 non-null   float64\n\n 18  rougher.input.feed_au                       5290 non-null   float64\n\n 19  rougher.input.floatbank10_sulfate           5285 non-null   float64\n\n 20  rougher.input.floatbank10_xanthate          5290 non-null   float64\n\n 21  rougher.input.floatbank11_sulfate           5282 non-null   float64\n\n 22  rougher.input.floatbank11_xanthate          5265 non-null   float64\n\n 23  rougher.state.floatbank10_a_air             5290 non-null   float64\n\n 24  rougher.state.floatbank10_a_level           5290 non-null   float64\n\n 25  rougher.state.floatbank10_b_air             5290 non-null   float64\n\n 26  rougher.state.floatbank10_b_level           5290 non-null   float64\n\n 27  rougher.state.floatbank10_c_air             5290 non-null   float64\n\n 28  rougher.state.floatbank10_c_level           5290 non-null   float64\n\n 29  rougher.state.floatbank10_d_air             5290 non-null   float64\n\n 30  rougher.state.floatbank10_d_level           5290 non-null   float64\n\n 31  rougher.state.floatbank10_e_air             5290 non-null   float64\n\n 32  rougher.state.floatbank10_e_level           5290 non-null   float64\n\n 33  rougher.state.floatbank10_f_air             5290 non-null   float64\n\n 34  rougher.state.floatbank10_f_level           5290 non-null   float64\n\n 35  secondary_cleaner.state.floatbank2_a_air    5287 non-null   float64\n\n 36  secondary_cleaner.state.floatbank2_a_level  5290 non-null   float64\n\n 37  secondary_cleaner.state.floatbank2_b_air    5288 non-null   float64\n\n 38  secondary_cleaner.state.floatbank2_b_level  5290 non-null   float64\n\n 39  secondary_cleaner.state.floatbank3_a_air    5281 non-null   float64\n\n 40  secondary_cleaner.state.floatbank3_a_level  5290 non-null   float64\n\n 41  secondary_cleaner.state.floatbank3_b_air    5290 non-null   float64\n\n 42  secondary_cleaner.state.floatbank3_b_level  5290 non-null   float64\n\n 43  secondary_cleaner.state.floatbank4_a_air    5290 non-null   float64\n\n 44  secondary_cleaner.state.floatbank4_a_level  5290 non-null   float64\n\n 45  secondary_cleaner.state.floatbank4_b_air    5290 non-null   float64\n\n 46  secondary_cleaner.state.floatbank4_b_level  5290 non-null   float64\n\n 47  secondary_cleaner.state.floatbank5_a_air    5290 non-null   float64\n\n 48  secondary_cleaner.state.floatbank5_a_level  5290 non-null   float64\n\n 49  secondary_cleaner.state.floatbank5_b_air    5290 non-null   float64\n\n 50  secondary_cleaner.state.floatbank5_b_level  5290 non-null   float64\n\n 51  secondary_cleaner.state.floatbank6_a_air    5290 non-null   float64\n\n 52  secondary_cleaner.state.floatbank6_a_level  5290 non-null   float64\n\ndtypes: float64(52), object(1)\n\nmemory usage: 2.1+ MB\n"
        },
        {
          "output_type": "display_data",
          "data": {
            "text/plain": [
              "None"
            ]
          },
          "metadata": {}
        },
        {
          "name": "stdout",
          "output_type": "stream",
          "text": "<class 'pandas.core.frame.DataFrame'>\n\nRangeIndex: 19439 entries, 0 to 19438\n\nData columns (total 87 columns):\n\n #   Column                                              Non-Null Count  Dtype  \n\n---  ------                                              --------------  -----  \n\n 0   date                                                19439 non-null  object \n\n 1   final.output.concentrate_ag                         19438 non-null  float64\n\n 2   final.output.concentrate_pb                         19438 non-null  float64\n\n 3   final.output.concentrate_sol                        19228 non-null  float64\n\n 4   final.output.concentrate_au                         19439 non-null  float64\n\n 5   final.output.recovery                               19439 non-null  float64\n\n 6   final.output.tail_ag                                19438 non-null  float64\n\n 7   final.output.tail_pb                                19338 non-null  float64\n\n 8   final.output.tail_sol                               19433 non-null  float64\n\n 9   final.output.tail_au                                19439 non-null  float64\n\n 10  primary_cleaner.input.sulfate                       19415 non-null  float64\n\n 11  primary_cleaner.input.depressant                    19402 non-null  float64\n\n 12  primary_cleaner.input.feed_size                     19439 non-null  float64\n\n 13  primary_cleaner.input.xanthate                      19335 non-null  float64\n\n 14  primary_cleaner.output.concentrate_ag               19439 non-null  float64\n\n 15  primary_cleaner.output.concentrate_pb               19323 non-null  float64\n\n 16  primary_cleaner.output.concentrate_sol              19069 non-null  float64\n\n 17  primary_cleaner.output.concentrate_au               19439 non-null  float64\n\n 18  primary_cleaner.output.tail_ag                      19435 non-null  float64\n\n 19  primary_cleaner.output.tail_pb                      19418 non-null  float64\n\n 20  primary_cleaner.output.tail_sol                     19377 non-null  float64\n\n 21  primary_cleaner.output.tail_au                      19439 non-null  float64\n\n 22  primary_cleaner.state.floatbank8_a_air              19435 non-null  float64\n\n 23  primary_cleaner.state.floatbank8_a_level            19438 non-null  float64\n\n 24  primary_cleaner.state.floatbank8_b_air              19435 non-null  float64\n\n 25  primary_cleaner.state.floatbank8_b_level            19438 non-null  float64\n\n 26  primary_cleaner.state.floatbank8_c_air              19437 non-null  float64\n\n 27  primary_cleaner.state.floatbank8_c_level            19438 non-null  float64\n\n 28  primary_cleaner.state.floatbank8_d_air              19436 non-null  float64\n\n 29  primary_cleaner.state.floatbank8_d_level            19438 non-null  float64\n\n 30  rougher.calculation.sulfate_to_au_concentrate       19437 non-null  float64\n\n 31  rougher.calculation.floatbank10_sulfate_to_au_feed  19437 non-null  float64\n\n 32  rougher.calculation.floatbank11_sulfate_to_au_feed  19437 non-null  float64\n\n 33  rougher.calculation.au_pb_ratio                     19439 non-null  float64\n\n 34  rougher.input.feed_ag                               19439 non-null  float64\n\n 35  rougher.input.feed_pb                               19339 non-null  float64\n\n 36  rougher.input.feed_rate                             19428 non-null  float64\n\n 37  rougher.input.feed_size                             19294 non-null  float64\n\n 38  rougher.input.feed_sol                              19340 non-null  float64\n\n 39  rougher.input.feed_au                               19439 non-null  float64\n\n 40  rougher.input.floatbank10_sulfate                   19405 non-null  float64\n\n 41  rougher.input.floatbank10_xanthate                  19431 non-null  float64\n\n 42  rougher.input.floatbank11_sulfate                   19395 non-null  float64\n\n 43  rougher.input.floatbank11_xanthate                  18986 non-null  float64\n\n 44  rougher.output.concentrate_ag                       19439 non-null  float64\n\n 45  rougher.output.concentrate_pb                       19439 non-null  float64\n\n 46  rougher.output.concentrate_sol                      19416 non-null  float64\n\n 47  rougher.output.concentrate_au                       19439 non-null  float64\n\n 48  rougher.output.recovery                             19439 non-null  float64\n\n 49  rougher.output.tail_ag                              19438 non-null  float64\n\n 50  rougher.output.tail_pb                              19439 non-null  float64\n\n 51  rougher.output.tail_sol                             19439 non-null  float64\n\n 52  rougher.output.tail_au                              19439 non-null  float64\n\n 53  rougher.state.floatbank10_a_air                     19438 non-null  float64\n\n 54  rougher.state.floatbank10_a_level                   19438 non-null  float64\n\n 55  rougher.state.floatbank10_b_air                     19438 non-null  float64\n\n 56  rougher.state.floatbank10_b_level                   19438 non-null  float64\n\n 57  rougher.state.floatbank10_c_air                     19438 non-null  float64\n\n 58  rougher.state.floatbank10_c_level                   19438 non-null  float64\n\n 59  rougher.state.floatbank10_d_air                     19439 non-null  float64\n\n 60  rougher.state.floatbank10_d_level                   19439 non-null  float64\n\n 61  rougher.state.floatbank10_e_air                     19003 non-null  float64\n\n 62  rougher.state.floatbank10_e_level                   19439 non-null  float64\n\n 63  rougher.state.floatbank10_f_air                     19439 non-null  float64\n\n 64  rougher.state.floatbank10_f_level                   19439 non-null  float64\n\n 65  secondary_cleaner.output.tail_ag                    19437 non-null  float64\n\n 66  secondary_cleaner.output.tail_pb                    19427 non-null  float64\n\n 67  secondary_cleaner.output.tail_sol                   17691 non-null  float64\n\n 68  secondary_cleaner.output.tail_au                    19439 non-null  float64\n\n 69  secondary_cleaner.state.floatbank2_a_air            19219 non-null  float64\n\n 70  secondary_cleaner.state.floatbank2_a_level          19438 non-null  float64\n\n 71  secondary_cleaner.state.floatbank2_b_air            19416 non-null  float64\n\n 72  secondary_cleaner.state.floatbank2_b_level          19438 non-null  float64\n\n 73  secondary_cleaner.state.floatbank3_a_air            19426 non-null  float64\n\n 74  secondary_cleaner.state.floatbank3_a_level          19438 non-null  float64\n\n 75  secondary_cleaner.state.floatbank3_b_air            19438 non-null  float64\n\n 76  secondary_cleaner.state.floatbank3_b_level          19438 non-null  float64\n\n 77  secondary_cleaner.state.floatbank4_a_air            19433 non-null  float64\n\n 78  secondary_cleaner.state.floatbank4_a_level          19438 non-null  float64\n\n 79  secondary_cleaner.state.floatbank4_b_air            19438 non-null  float64\n\n 80  secondary_cleaner.state.floatbank4_b_level          19438 non-null  float64\n\n 81  secondary_cleaner.state.floatbank5_a_air            19438 non-null  float64\n\n 82  secondary_cleaner.state.floatbank5_a_level          19438 non-null  float64\n\n 83  secondary_cleaner.state.floatbank5_b_air            19438 non-null  float64\n\n 84  secondary_cleaner.state.floatbank5_b_level          19438 non-null  float64\n\n 85  secondary_cleaner.state.floatbank6_a_air            19437 non-null  float64\n\n 86  secondary_cleaner.state.floatbank6_a_level          19438 non-null  float64\n\ndtypes: float64(86), object(1)\n\nmemory usage: 12.9+ MB\n"
        },
        {
          "output_type": "display_data",
          "data": {
            "text/plain": [
              "None"
            ]
          },
          "metadata": {}
        }
      ]
    },
    {
      "cell_type": "markdown",
      "source": "Первичный анализ данных о характеристиках обогащения золота показал:\n1. В таблице представлена информация: \n* data — индекс, отражающий дату и время получения информации;\n* показатели процесса обогащения, где наименование признаков: [этап].[тип_параметра].[название_параметра]   \n\n***Пример: rougher.input.feed_ag***  \n\nВозможные значения для блока [этап]:\n*\trougher — флотация\n*\tprimary_cleaner — первичная очистка\n*\tsecondary_cleaner — вторичная очистка\n*\tfinal — финальные характеристики \n\nВозможные значения для блока [тип_параметра]:\n*\tinput — параметры сырья\n*\toutput — параметры продукта\n*\tstate — параметры, характеризующие текущее состояние этапа\n*\tcalculation — расчетные характеристик\n\n\n2. В выборках есть пропуски.\n3. Во всех датафреймах data - object (строки), остальные признаки - float64 (вещественные числа). \n4. Тестовая выборка отличается от обучающей отсутствием признаков output на каждом этапе обработки: часть признаков расчетные (содержание можно посчитать через извлечение) и зависят от предыдущего этапа, также два признака целевые  - rougher.output.recovery, final.output.recovery. Предположу, что их удалили, чтобы не возникло утечки целевого признака.\n5. В тестовой выборке нет признаков calculation для этапа флотации (Rougher process), т.к. это расчетные характеристики.",
      "metadata": {}
    },
    {
      "cell_type": "markdown",
      "source": "Выведем признаки, которые доступны только в тестовой выборке.",
      "metadata": {}
    },
    {
      "cell_type": "code",
      "source": "only_train = set(gold_recovery_train.columns) - set(gold_recovery_test.columns)\nonly_train",
      "metadata": {},
      "execution_count": 5,
      "outputs": [
        {
          "execution_count": 5,
          "output_type": "execute_result",
          "data": {
            "text/plain": [
              "{'final.output.concentrate_ag',\n",
              " 'final.output.concentrate_au',\n",
              " 'final.output.concentrate_pb',\n",
              " 'final.output.concentrate_sol',\n",
              " 'final.output.recovery',\n",
              " 'final.output.tail_ag',\n",
              " 'final.output.tail_au',\n",
              " 'final.output.tail_pb',\n",
              " 'final.output.tail_sol',\n",
              " 'primary_cleaner.output.concentrate_ag',\n",
              " 'primary_cleaner.output.concentrate_au',\n",
              " 'primary_cleaner.output.concentrate_pb',\n",
              " 'primary_cleaner.output.concentrate_sol',\n",
              " 'primary_cleaner.output.tail_ag',\n",
              " 'primary_cleaner.output.tail_au',\n",
              " 'primary_cleaner.output.tail_pb',\n",
              " 'primary_cleaner.output.tail_sol',\n",
              " 'rougher.calculation.au_pb_ratio',\n",
              " 'rougher.calculation.floatbank10_sulfate_to_au_feed',\n",
              " 'rougher.calculation.floatbank11_sulfate_to_au_feed',\n",
              " 'rougher.calculation.sulfate_to_au_concentrate',\n",
              " 'rougher.output.concentrate_ag',\n",
              " 'rougher.output.concentrate_au',\n",
              " 'rougher.output.concentrate_pb',\n",
              " 'rougher.output.concentrate_sol',\n",
              " 'rougher.output.recovery',\n",
              " 'rougher.output.tail_ag',\n",
              " 'rougher.output.tail_au',\n",
              " 'rougher.output.tail_pb',\n",
              " 'rougher.output.tail_sol',\n",
              " 'secondary_cleaner.output.tail_ag',\n",
              " 'secondary_cleaner.output.tail_au',\n",
              " 'secondary_cleaner.output.tail_pb',\n",
              " 'secondary_cleaner.output.tail_sol'}"
            ]
          },
          "metadata": {}
        }
      ]
    },
    {
      "cell_type": "markdown",
      "source": "Проверим, что эффективность обогащения рассчитана правильно. Вычислим ее на обучающей выборке для признака rougher.output.recovery и найдем MAE между расчетными и целевыми значенияем признака. ",
      "metadata": {}
    },
    {
      "cell_type": "code",
      "source": "#сформируем функцию, которая расчитывает эффективность обогащения\n#если в знаменателе 0, меняем на значение из исходной таблицы\ndef recovery_rougher(row):\n    C = row['rougher.output.concentrate_au'] #доля золота в концентрате после флотации/очистки\n    F = row['rougher.input.feed_au'] #доля золота в сырье/концентрате до флотации/очистки\n    T = row['rougher.output.tail_au'] #доля золота в отвальных хвостах после флотации/очистки\n    calc = row['rougher.output.recovery'] #целовое значение rougher.output.recovery\n    if (F * (C-T)) == 0: \n        R = сalc\n    else: R = 100* ((C * (F-T)) / (F * (C-T)))   \n    return R\n\n\n#рассчитаем recovery для этапа флотация\ngold_recovery_train['rougher.calculation.recovery'] = gold_recovery_train.apply(recovery_rougher,axis=1)\n\n#определим непустые ячейки\nmae_index = gold_recovery_train['rougher.output.recovery'].notna()\n\n#проверим количество пропусков:\ndisplay(gold_recovery_train.loc[mae_index]['rougher.calculation.recovery'].isna().sum())\ndisplay(gold_recovery_train.loc[mae_index]['rougher.output.recovery'].isna().sum())\n\n\n#поссчитаем MAE:\ndisplay('Среднее абсолютное отклонение: ', mean_absolute_error(gold_recovery_train.loc[mae_index]['rougher.output.recovery'], gold_recovery_train.loc[mae_index]['rougher.calculation.recovery']))",
      "metadata": {},
      "execution_count": 6,
      "outputs": [
        {
          "output_type": "display_data",
          "data": {
            "text/plain": [
              "0"
            ]
          },
          "metadata": {}
        },
        {
          "output_type": "display_data",
          "data": {
            "text/plain": [
              "0"
            ]
          },
          "metadata": {}
        },
        {
          "output_type": "display_data",
          "data": {
            "text/plain": [
              "'Среднее абсолютное отклонение: '"
            ]
          },
          "metadata": {}
        },
        {
          "output_type": "display_data",
          "data": {
            "text/plain": [
              "9.73512347450521e-15"
            ]
          },
          "metadata": {}
        }
      ]
    },
    {
      "cell_type": "markdown",
      "source": "Таким образом, расчетное значения отклоняется от истинных значений rougher.output.recovery в среднем на очень маленькую величину в степени -15. Это говорит о том, что эффективность обогащения рассчитана правильно. Соответственно считаем, что в дальнейшем данная формула - эталон для расчетов.",
      "metadata": {}
    },
    {
      "cell_type": "markdown",
      "source": "Проведем предобработку данных. Проверим на наличие дублей и пропусков.",
      "metadata": {}
    },
    {
      "cell_type": "code",
      "source": "#проверим на наличие явных дубликатов\n#будем считать, что строчки задублированы, если у них повторяются значения в столбце data\nfor df in dfs:\n    display('Количество дублей в датафрейме {}: {}'\n            .format(df.name, df[df.duplicated('date', keep=False)]\n            .shape[0]))",
      "metadata": {},
      "execution_count": 7,
      "outputs": [
        {
          "output_type": "display_data",
          "data": {
            "text/plain": [
              "'Количество дублей в датафрейме gold_recovery_train: 0'"
            ]
          },
          "metadata": {}
        },
        {
          "output_type": "display_data",
          "data": {
            "text/plain": [
              "'Количество дублей в датафрейме gold_recovery_test: 0'"
            ]
          },
          "metadata": {}
        }
      ]
    },
    {
      "cell_type": "code",
      "source": "#проверим на наличие пропусков и проведем их замену\n#посчитаем количество пропусков    \npd.set_option('display.max_rows',None)\n\ndisplay('Количество дублей в обучающей выборке по переменным', gold_recovery_train\n        .isna()\n        .sum()\n        .sort_values(ascending=False)\n       )\ndisplay('Количество дублей в тестовой выборке по переменным', gold_recovery_test\n        .isna()\n        .sum()\n        .sort_values(ascending=False)\n       )",
      "metadata": {},
      "execution_count": 8,
      "outputs": [
        {
          "output_type": "display_data",
          "data": {
            "text/plain": [
              "'Количество дублей в обучающей выборке по переменным'"
            ]
          },
          "metadata": {}
        },
        {
          "output_type": "display_data",
          "data": {
            "text/plain": [
              "secondary_cleaner.output.tail_sol                     1605\n",
              "rougher.state.floatbank10_e_air                        436\n",
              "rougher.input.floatbank11_xanthate                     428\n",
              "primary_cleaner.output.concentrate_sol                 286\n",
              "secondary_cleaner.state.floatbank2_a_air               217\n",
              "final.output.concentrate_sol                           211\n",
              "rougher.input.feed_size                                144\n",
              "final.output.tail_pb                                   100\n",
              "rougher.input.feed_pb                                  100\n",
              "primary_cleaner.input.xanthate                         100\n",
              "primary_cleaner.output.concentrate_pb                   86\n",
              "rougher.input.feed_sol                                  78\n",
              "primary_cleaner.output.tail_sol                         46\n",
              "rougher.input.floatbank11_sulfate                       36\n",
              "primary_cleaner.input.depressant                        32\n",
              "rougher.input.floatbank10_sulfate                       29\n",
              "rougher.output.concentrate_sol                          22\n",
              "secondary_cleaner.state.floatbank2_b_air                21\n",
              "primary_cleaner.input.sulfate                           20\n",
              "primary_cleaner.output.tail_pb                          15\n",
              "secondary_cleaner.output.tail_pb                        10\n",
              "rougher.input.floatbank10_xanthate                       8\n",
              "rougher.input.feed_rate                                  8\n",
              "secondary_cleaner.state.floatbank4_a_air                 6\n",
              "final.output.tail_sol                                    5\n",
              "primary_cleaner.state.floatbank8_a_air                   4\n",
              "secondary_cleaner.state.floatbank3_a_air                 4\n",
              "primary_cleaner.state.floatbank8_b_air                   4\n",
              "primary_cleaner.state.floatbank8_d_air                   3\n",
              "secondary_cleaner.state.floatbank6_a_air                 2\n",
              "secondary_cleaner.output.tail_ag                         2\n",
              "primary_cleaner.state.floatbank8_c_air                   2\n",
              "secondary_cleaner.state.floatbank3_a_level               1\n",
              "final.output.concentrate_ag                              1\n",
              "rougher.state.floatbank10_b_air                          1\n",
              "rougher.output.tail_ag                                   1\n",
              "rougher.state.floatbank10_b_level                        1\n",
              "secondary_cleaner.state.floatbank2_b_level               1\n",
              "rougher.state.floatbank10_c_air                          1\n",
              "rougher.state.floatbank10_c_level                        1\n",
              "secondary_cleaner.state.floatbank3_b_air                 1\n",
              "rougher.state.floatbank10_a_level                        1\n",
              "secondary_cleaner.state.floatbank2_a_level               1\n",
              "rougher.state.floatbank10_a_air                          1\n",
              "rougher.calculation.floatbank11_sulfate_to_au_feed       1\n",
              "secondary_cleaner.state.floatbank3_b_level               1\n",
              "secondary_cleaner.state.floatbank4_a_level               1\n",
              "final.output.concentrate_pb                              1\n",
              "secondary_cleaner.state.floatbank6_a_level               1\n",
              "secondary_cleaner.state.floatbank5_b_level               1\n",
              "secondary_cleaner.state.floatbank5_b_air                 1\n",
              "secondary_cleaner.state.floatbank5_a_level               1\n",
              "secondary_cleaner.state.floatbank5_a_air                 1\n",
              "secondary_cleaner.state.floatbank4_b_level               1\n",
              "primary_cleaner.output.tail_ag                           1\n",
              "secondary_cleaner.state.floatbank4_b_air                 1\n",
              "primary_cleaner.state.floatbank8_a_level                 1\n",
              "primary_cleaner.state.floatbank8_b_level                 1\n",
              "primary_cleaner.state.floatbank8_c_level                 1\n",
              "primary_cleaner.state.floatbank8_d_level                 1\n",
              "rougher.calculation.sulfate_to_au_concentrate            1\n",
              "rougher.calculation.floatbank10_sulfate_to_au_feed       1\n",
              "secondary_cleaner.output.tail_au                         0\n",
              "date                                                     0\n",
              "rougher.output.concentrate_ag                            0\n",
              "rougher.state.floatbank10_f_level                        0\n",
              "rougher.input.feed_ag                                    0\n",
              "final.output.concentrate_au                              0\n",
              "final.output.recovery                                    0\n",
              "final.output.tail_ag                                     0\n",
              "final.output.tail_au                                     0\n",
              "primary_cleaner.input.feed_size                          0\n",
              "primary_cleaner.output.concentrate_ag                    0\n",
              "primary_cleaner.output.concentrate_au                    0\n",
              "primary_cleaner.output.tail_au                           0\n",
              "rougher.calculation.au_pb_ratio                          0\n",
              "rougher.input.feed_au                                    0\n",
              "rougher.state.floatbank10_f_air                          0\n",
              "rougher.output.concentrate_pb                            0\n",
              "rougher.output.concentrate_au                            0\n",
              "rougher.output.recovery                                  0\n",
              "rougher.output.tail_pb                                   0\n",
              "rougher.output.tail_sol                                  0\n",
              "rougher.output.tail_au                                   0\n",
              "rougher.state.floatbank10_d_air                          0\n",
              "rougher.state.floatbank10_d_level                        0\n",
              "rougher.state.floatbank10_e_level                        0\n",
              "rougher.calculation.recovery                             0\n",
              "dtype: int64"
            ]
          },
          "metadata": {}
        },
        {
          "output_type": "display_data",
          "data": {
            "text/plain": [
              "'Количество дублей в тестовой выборке по переменным'"
            ]
          },
          "metadata": {}
        },
        {
          "output_type": "display_data",
          "data": {
            "text/plain": [
              "rougher.input.floatbank11_xanthate            25\n",
              "rougher.input.feed_sol                        21\n",
              "secondary_cleaner.state.floatbank3_a_air       9\n",
              "rougher.input.floatbank11_sulfate              8\n",
              "primary_cleaner.input.depressant               5\n",
              "rougher.input.floatbank10_sulfate              5\n",
              "primary_cleaner.input.xanthate                 4\n",
              "primary_cleaner.input.sulfate                  4\n",
              "rougher.input.feed_rate                        3\n",
              "secondary_cleaner.state.floatbank2_a_air       3\n",
              "secondary_cleaner.state.floatbank2_b_air       2\n",
              "rougher.input.feed_size                        1\n",
              "secondary_cleaner.state.floatbank2_b_level     0\n",
              "rougher.state.floatbank10_f_level              0\n",
              "rougher.state.floatbank10_f_air                0\n",
              "secondary_cleaner.state.floatbank3_a_level     0\n",
              "secondary_cleaner.state.floatbank2_a_level     0\n",
              "date                                           0\n",
              "rougher.state.floatbank10_e_air                0\n",
              "secondary_cleaner.state.floatbank3_b_air       0\n",
              "secondary_cleaner.state.floatbank3_b_level     0\n",
              "secondary_cleaner.state.floatbank4_a_air       0\n",
              "secondary_cleaner.state.floatbank4_a_level     0\n",
              "secondary_cleaner.state.floatbank4_b_air       0\n",
              "secondary_cleaner.state.floatbank4_b_level     0\n",
              "secondary_cleaner.state.floatbank5_a_air       0\n",
              "secondary_cleaner.state.floatbank5_a_level     0\n",
              "secondary_cleaner.state.floatbank5_b_air       0\n",
              "secondary_cleaner.state.floatbank5_b_level     0\n",
              "secondary_cleaner.state.floatbank6_a_air       0\n",
              "rougher.state.floatbank10_e_level              0\n",
              "rougher.state.floatbank10_b_level              0\n",
              "rougher.state.floatbank10_d_level              0\n",
              "primary_cleaner.state.floatbank8_d_level       0\n",
              "primary_cleaner.input.feed_size                0\n",
              "primary_cleaner.state.floatbank8_a_air         0\n",
              "primary_cleaner.state.floatbank8_a_level       0\n",
              "primary_cleaner.state.floatbank8_b_air         0\n",
              "primary_cleaner.state.floatbank8_b_level       0\n",
              "primary_cleaner.state.floatbank8_c_air         0\n",
              "primary_cleaner.state.floatbank8_c_level       0\n",
              "primary_cleaner.state.floatbank8_d_air         0\n",
              "rougher.input.feed_ag                          0\n",
              "rougher.state.floatbank10_d_air                0\n",
              "rougher.input.feed_pb                          0\n",
              "rougher.input.feed_au                          0\n",
              "rougher.input.floatbank10_xanthate             0\n",
              "rougher.state.floatbank10_a_air                0\n",
              "rougher.state.floatbank10_a_level              0\n",
              "rougher.state.floatbank10_b_air                0\n",
              "rougher.state.floatbank10_c_air                0\n",
              "rougher.state.floatbank10_c_level              0\n",
              "secondary_cleaner.state.floatbank6_a_level     0\n",
              "dtype: int64"
            ]
          },
          "metadata": {}
        }
      ]
    },
    {
      "cell_type": "code",
      "source": "#данные индексируются датой и временем получения информации (date). \n#как сказано в задании и видно из первичного анализа cоседние по времени параметры часто похожи.\n#поэтому заполняем последним действительным значением вперед\ngold_recovery_train = gold_recovery_train.fillna(method='ffill') \ngold_recovery_test = gold_recovery_test.fillna(method='ffill')\n    \n#посчитаем количество пропусков после замены    \npd.set_option('display.max_rows',None)\n\ndisplay('Количество дублей в обучающей выборке по переменным', gold_recovery_train\n        .isna()\n        .sum()\n        .sort_values(ascending=False)\n       )\ndisplay('Количество дублей в тестовой выборке по переменным', gold_recovery_test\n        .isna()\n        .sum()\n        .sort_values(ascending=False)\n       )",
      "metadata": {},
      "execution_count": 9,
      "outputs": [
        {
          "output_type": "display_data",
          "data": {
            "text/plain": [
              "'Количество дублей в обучающей выборке по переменным'"
            ]
          },
          "metadata": {}
        },
        {
          "output_type": "display_data",
          "data": {
            "text/plain": [
              "date                                                  0\n",
              "final.output.concentrate_ag                           0\n",
              "rougher.state.floatbank10_f_level                     0\n",
              "rougher.state.floatbank10_f_air                       0\n",
              "rougher.state.floatbank10_e_level                     0\n",
              "rougher.state.floatbank10_e_air                       0\n",
              "rougher.state.floatbank10_d_level                     0\n",
              "rougher.state.floatbank10_d_air                       0\n",
              "rougher.state.floatbank10_c_level                     0\n",
              "rougher.state.floatbank10_c_air                       0\n",
              "rougher.state.floatbank10_b_level                     0\n",
              "rougher.state.floatbank10_b_air                       0\n",
              "rougher.state.floatbank10_a_level                     0\n",
              "rougher.state.floatbank10_a_air                       0\n",
              "rougher.output.tail_au                                0\n",
              "rougher.output.tail_sol                               0\n",
              "rougher.output.tail_pb                                0\n",
              "rougher.output.tail_ag                                0\n",
              "rougher.output.recovery                               0\n",
              "rougher.output.concentrate_au                         0\n",
              "rougher.output.concentrate_sol                        0\n",
              "secondary_cleaner.output.tail_ag                      0\n",
              "secondary_cleaner.output.tail_pb                      0\n",
              "secondary_cleaner.output.tail_sol                     0\n",
              "secondary_cleaner.state.floatbank4_a_level            0\n",
              "secondary_cleaner.state.floatbank6_a_level            0\n",
              "secondary_cleaner.state.floatbank6_a_air              0\n",
              "secondary_cleaner.state.floatbank5_b_level            0\n",
              "secondary_cleaner.state.floatbank5_b_air              0\n",
              "secondary_cleaner.state.floatbank5_a_level            0\n",
              "secondary_cleaner.state.floatbank5_a_air              0\n",
              "secondary_cleaner.state.floatbank4_b_level            0\n",
              "secondary_cleaner.state.floatbank4_b_air              0\n",
              "secondary_cleaner.state.floatbank4_a_air              0\n",
              "secondary_cleaner.output.tail_au                      0\n",
              "secondary_cleaner.state.floatbank3_b_level            0\n",
              "secondary_cleaner.state.floatbank3_b_air              0\n",
              "secondary_cleaner.state.floatbank3_a_level            0\n",
              "secondary_cleaner.state.floatbank3_a_air              0\n",
              "secondary_cleaner.state.floatbank2_b_level            0\n",
              "secondary_cleaner.state.floatbank2_b_air              0\n",
              "secondary_cleaner.state.floatbank2_a_level            0\n",
              "secondary_cleaner.state.floatbank2_a_air              0\n",
              "rougher.output.concentrate_pb                         0\n",
              "rougher.output.concentrate_ag                         0\n",
              "rougher.input.floatbank11_xanthate                    0\n",
              "primary_cleaner.input.depressant                      0\n",
              "primary_cleaner.output.tail_pb                        0\n",
              "primary_cleaner.output.tail_ag                        0\n",
              "primary_cleaner.output.concentrate_au                 0\n",
              "primary_cleaner.output.concentrate_sol                0\n",
              "primary_cleaner.output.concentrate_pb                 0\n",
              "primary_cleaner.output.concentrate_ag                 0\n",
              "primary_cleaner.input.xanthate                        0\n",
              "primary_cleaner.input.feed_size                       0\n",
              "primary_cleaner.input.sulfate                         0\n",
              "primary_cleaner.output.tail_au                        0\n",
              "final.output.tail_au                                  0\n",
              "final.output.tail_sol                                 0\n",
              "final.output.tail_pb                                  0\n",
              "final.output.tail_ag                                  0\n",
              "final.output.recovery                                 0\n",
              "final.output.concentrate_au                           0\n",
              "final.output.concentrate_sol                          0\n",
              "final.output.concentrate_pb                           0\n",
              "primary_cleaner.output.tail_sol                       0\n",
              "primary_cleaner.state.floatbank8_a_air                0\n",
              "rougher.input.floatbank11_sulfate                     0\n",
              "rougher.calculation.au_pb_ratio                       0\n",
              "rougher.input.floatbank10_xanthate                    0\n",
              "rougher.input.floatbank10_sulfate                     0\n",
              "rougher.input.feed_au                                 0\n",
              "rougher.input.feed_sol                                0\n",
              "rougher.input.feed_size                               0\n",
              "rougher.input.feed_rate                               0\n",
              "rougher.input.feed_pb                                 0\n",
              "rougher.input.feed_ag                                 0\n",
              "rougher.calculation.floatbank11_sulfate_to_au_feed    0\n",
              "primary_cleaner.state.floatbank8_a_level              0\n",
              "rougher.calculation.floatbank10_sulfate_to_au_feed    0\n",
              "rougher.calculation.sulfate_to_au_concentrate         0\n",
              "primary_cleaner.state.floatbank8_d_level              0\n",
              "primary_cleaner.state.floatbank8_d_air                0\n",
              "primary_cleaner.state.floatbank8_c_level              0\n",
              "primary_cleaner.state.floatbank8_c_air                0\n",
              "primary_cleaner.state.floatbank8_b_level              0\n",
              "primary_cleaner.state.floatbank8_b_air                0\n",
              "rougher.calculation.recovery                          0\n",
              "dtype: int64"
            ]
          },
          "metadata": {}
        },
        {
          "output_type": "display_data",
          "data": {
            "text/plain": [
              "'Количество дублей в тестовой выборке по переменным'"
            ]
          },
          "metadata": {}
        },
        {
          "output_type": "display_data",
          "data": {
            "text/plain": [
              "date                                          0\n",
              "rougher.state.floatbank10_c_air               0\n",
              "rougher.state.floatbank10_d_air               0\n",
              "rougher.state.floatbank10_d_level             0\n",
              "rougher.state.floatbank10_e_air               0\n",
              "rougher.state.floatbank10_e_level             0\n",
              "rougher.state.floatbank10_f_air               0\n",
              "rougher.state.floatbank10_f_level             0\n",
              "secondary_cleaner.state.floatbank2_a_air      0\n",
              "secondary_cleaner.state.floatbank2_a_level    0\n",
              "secondary_cleaner.state.floatbank2_b_air      0\n",
              "secondary_cleaner.state.floatbank2_b_level    0\n",
              "secondary_cleaner.state.floatbank3_a_air      0\n",
              "secondary_cleaner.state.floatbank3_a_level    0\n",
              "secondary_cleaner.state.floatbank3_b_air      0\n",
              "secondary_cleaner.state.floatbank3_b_level    0\n",
              "secondary_cleaner.state.floatbank4_a_air      0\n",
              "secondary_cleaner.state.floatbank4_a_level    0\n",
              "secondary_cleaner.state.floatbank4_b_air      0\n",
              "secondary_cleaner.state.floatbank4_b_level    0\n",
              "secondary_cleaner.state.floatbank5_a_air      0\n",
              "secondary_cleaner.state.floatbank5_a_level    0\n",
              "secondary_cleaner.state.floatbank5_b_air      0\n",
              "secondary_cleaner.state.floatbank5_b_level    0\n",
              "secondary_cleaner.state.floatbank6_a_air      0\n",
              "rougher.state.floatbank10_c_level             0\n",
              "rougher.state.floatbank10_b_level             0\n",
              "primary_cleaner.input.sulfate                 0\n",
              "rougher.state.floatbank10_b_air               0\n",
              "primary_cleaner.input.depressant              0\n",
              "primary_cleaner.input.feed_size               0\n",
              "primary_cleaner.input.xanthate                0\n",
              "primary_cleaner.state.floatbank8_a_air        0\n",
              "primary_cleaner.state.floatbank8_a_level      0\n",
              "primary_cleaner.state.floatbank8_b_air        0\n",
              "primary_cleaner.state.floatbank8_b_level      0\n",
              "primary_cleaner.state.floatbank8_c_air        0\n",
              "primary_cleaner.state.floatbank8_c_level      0\n",
              "primary_cleaner.state.floatbank8_d_air        0\n",
              "primary_cleaner.state.floatbank8_d_level      0\n",
              "rougher.input.feed_ag                         0\n",
              "rougher.input.feed_pb                         0\n",
              "rougher.input.feed_rate                       0\n",
              "rougher.input.feed_size                       0\n",
              "rougher.input.feed_sol                        0\n",
              "rougher.input.feed_au                         0\n",
              "rougher.input.floatbank10_sulfate             0\n",
              "rougher.input.floatbank10_xanthate            0\n",
              "rougher.input.floatbank11_sulfate             0\n",
              "rougher.input.floatbank11_xanthate            0\n",
              "rougher.state.floatbank10_a_air               0\n",
              "rougher.state.floatbank10_a_level             0\n",
              "secondary_cleaner.state.floatbank6_a_level    0\n",
              "dtype: int64"
            ]
          },
          "metadata": {}
        }
      ]
    },
    {
      "cell_type": "markdown",
      "source": "## Анализ данных",
      "metadata": {}
    },
    {
      "cell_type": "markdown",
      "source": "Проанализируем изменение концентрация металлов (Au, Ag, Pb) на различных этапах очистки.",
      "metadata": {}
    },
    {
      "cell_type": "code",
      "source": "process = ['rougher.input.feed',\n           'rougher.output.concentrate',\n           'primary_cleaner.output.concentrate',\n           'final.output.concentrate']\n\nprocess_tail = ['rougher.input.feed',\n                'rougher.output.tail',\n                'primary_cleaner.output.tail',\n                'final.output.tail']\n\nmetalls = ['au', 'ag', 'pb']\n#для концентрата\ni = 0\n\nBINS = 100\n\nfor element in metalls:\n    fig = plt.figure(figsize=(20, 5))\n    ax = fig.add_axes([0,0,1,1])\n    ax.grid()\n    ttl = fig.suptitle('Металл ' + metalls[i], fontsize=18)\n    plt.xlabel('Содержание металла')\n    plt.ylabel('Количество, шт.')\n    for stage in process:\n        plt.hist(gold_recovery_train[stage+'_'+metalls[i]],\n                 alpha=0.5, \n                 label=stage+'_'+metalls[i], \n                 bins=BINS)\n    plt.legend(loc='upper right')\n    plt.show()\n    i += 1\n",
      "metadata": {},
      "execution_count": 10,
      "outputs": [
        {
          "output_type": "display_data",
          "data": {
            "image/png": "[encoded data removed]",
            "text/plain": [
              "<Figure size 1440x360 with 1 Axes>"
            ]
          },
          "metadata": {
            "needs_background": "light"
          }
        },
        {
          "output_type": "display_data",
          "data": {
            "image/png": "[encoded data removed]",
            "text/plain": [
              "<Figure size 1440x360 with 1 Axes>"
            ]
          },
          "metadata": {
            "needs_background": "light"
          }
        },
        {
          "output_type": "display_data",
          "data": {
            "image/png": "[encoded data removed]",
            "text/plain": [
              "<Figure size 1440x360 with 1 Axes>"
            ]
          },
          "metadata": {
            "needs_background": "light"
          }
        }
      ]
    },
    {
      "cell_type": "code",
      "source": "#для хвостов\ni = 0\n\nBINS = 100\n\nfor element in metalls:\n    fig = plt.figure(figsize=(20, 5))\n    ax = fig.add_axes([0,0,1,1])\n    ax.grid()\n    ttl = fig.suptitle('Металл ' + metalls[i], fontsize=18)\n    plt.xlabel('Содержание металла')\n    plt.ylabel('Количество, шт.')\n    for stage in process_tail:\n        plt.hist(gold_recovery_train[stage+'_'+metalls[i]], \n                 alpha=0.5, \n                 label=stage+'_'+metalls[i],\n                 bins=BINS)\n    plt.legend(loc='upper right')\n    plt.show()\n    \n    i += 1",
      "metadata": {},
      "execution_count": 11,
      "outputs": [
        {
          "output_type": "display_data",
          "data": {
            "image/png": "[encoded data removed]",
            "text/plain": [
              "<Figure size 1440x360 with 1 Axes>"
            ]
          },
          "metadata": {
            "needs_background": "light"
          }
        },
        {
          "output_type": "display_data",
          "data": {
            "image/png": "[encoded data removed]",
            "text/plain": [
              "<Figure size 1440x360 with 1 Axes>"
            ]
          },
          "metadata": {
            "needs_background": "light"
          }
        },
        {
          "output_type": "display_data",
          "data": {
            "image/png": "[encoded data removed]",
            "text/plain": [
              "<Figure size 1440x360 with 1 Axes>"
            ]
          },
          "metadata": {
            "needs_background": "light"
          }
        }
      ]
    },
    {
      "cell_type": "markdown",
      "source": "Таким образом, концентрация золота и свинца в продукте с каждым этапом очистке возрастает, а в хвостах падает, что логично, т.к. часть пустой породы уходит в хвосты. Концентрация серебра ведет себя наоборот - после флотации возрастает, а затем с каждым этап падает, а в хвостах наоборот - возрастает.",
      "metadata": {}
    },
    {
      "cell_type": "markdown",
      "source": "Сравним распределение размеров гранул сырья на обучающей и тестовой выборках.",
      "metadata": {}
    },
    {
      "cell_type": "code",
      "source": "BINS = 30\n\nfig = plt.figure(figsize=(20, 5))\nax = fig.add_axes([0,0,1,1])\nax.grid()\nttl = fig.suptitle('Первичная очистка', fontsize=18)\nplt.xlabel('Размер гранул')\nplt.ylabel('Количество, шт.')\n\ngold_recovery_train['primary_cleaner.input.feed_size'].hist(alpha=0.7, bins=BINS, density=True)\ngold_recovery_test['primary_cleaner.input.feed_size'].hist(alpha=0.7, bins=BINS, density=True)\n\nplt.show()\n\nfig = plt.figure(figsize=(20, 5))\nax = fig.add_axes([0,0,1,1])\nax.grid()\nttl = fig.suptitle('Флотация', fontsize=18)\nplt.xlabel('Размер гранул')\nplt.ylabel('Количество, шт.')\n\n\ngold_recovery_train['rougher.input.feed_size'].hist(alpha=0.7, bins=BINS, density=True)\ngold_recovery_test['rougher.input.feed_size'].hist(alpha=0.7, bins=BINS, density=True)\n\nplt.show()",
      "metadata": {},
      "execution_count": 12,
      "outputs": [
        {
          "output_type": "display_data",
          "data": {
            "image/png": "[encoded data removed]",
            "text/plain": [
              "<Figure size 1440x360 with 1 Axes>"
            ]
          },
          "metadata": {
            "needs_background": "light"
          }
        },
        {
          "output_type": "display_data",
          "data": {
            "image/png": "[encoded data removed]",
            "text/plain": [
              "<Figure size 1440x360 with 1 Axes>"
            ]
          },
          "metadata": {
            "needs_background": "light"
          }
        }
      ]
    },
    {
      "cell_type": "markdown",
      "source": "Таким образом, распредления совпадают. Следовательно оценка модели будет правильной.",
      "metadata": {}
    },
    {
      "cell_type": "markdown",
      "source": "Исследуем суммарную концентрацию всех веществ на разных стадиях: в сырье, в черновом и финальном концентратах.",
      "metadata": {}
    },
    {
      "cell_type": "code",
      "source": "#сумма концентраций металлов в исходной сырье\ngold_recovery_train['sum_input_feed_rougher'] = (\n    gold_recovery_train['rougher.input.feed_ag'] + \n    gold_recovery_train['rougher.input.feed_pb'] + \n    gold_recovery_train['rougher.input.feed_sol'] + \n    gold_recovery_train['rougher.input.feed_au']\n)\n\n\n#сумма концентраций металлов после флотации\ngold_recovery_train['sum_concentrate_rougher'] = (\n    gold_recovery_train['rougher.output.concentrate_ag'] + \n    gold_recovery_train['rougher.output.concentrate_pb'] + \n    gold_recovery_train['rougher.output.concentrate_sol'] + \n    gold_recovery_train['rougher.output.concentrate_au']\n)\n\n#сумма концентраций металлов после первичной очистки\ngold_recovery_train['sum_primary_cleaner_output_concentrate'] = (\n    gold_recovery_train['primary_cleaner.output.concentrate_ag'] + \n    gold_recovery_train['primary_cleaner.output.concentrate_pb'] + \n    gold_recovery_train['primary_cleaner.output.concentrate_sol'] +\n    gold_recovery_train['primary_cleaner.output.concentrate_au']\n)\n\n#сумма концентраций металлов после финальной очистки\ngold_recovery_train['sum_final_output_concentrate'] = (\n    gold_recovery_train['final.output.concentrate_ag'] + \n    gold_recovery_train['final.output.concentrate_pb'] + \n    gold_recovery_train['final.output.concentrate_sol'] + \n    gold_recovery_train['final.output.concentrate_au']\n)\n\nsum_concentrate = (\n    ['sum_input_feed_rougher', 'sum_concentrate_rougher','sum_primary_cleaner_output_concentrate','sum_final_output_concentrate']\n)",
      "metadata": {},
      "execution_count": 13,
      "outputs": []
    },
    {
      "cell_type": "code",
      "source": "BINS = 100\n\nfig = plt.figure(figsize=(18, 7))\nax = fig.add_axes([0,0,1,1])\nax.grid()\nttl = fig.suptitle('Содержание металлов в исходном сырье, в черновом и финальном концентратах.', fontsize=18)\nplt.xlabel('Суммарное содержание металлов')\nplt.ylabel('Количество, шт.')\nfor stage in sum_concentrate:\n    plt.hist(gold_recovery_train[stage],\n             alpha=0.5, \n             label=stage,\n             bins=BINS)\nplt.legend(loc='upper right')\nplt.show()\n",
      "metadata": {},
      "execution_count": 14,
      "outputs": [
        {
          "output_type": "display_data",
          "data": {
            "image/png": "[encoded data removed]",
            "text/plain": [
              "<Figure size 1296x504 with 1 Axes>"
            ]
          },
          "metadata": {
            "needs_background": "light"
          }
        }
      ]
    },
    {
      "cell_type": "code",
      "source": "for stage in sum_concentrate:\n    fig = plt.figure(figsize=(5, 5))\n    ax = fig.add_axes([0,0,1,1])\n    ax.grid()\n    plt.xlabel(stage)\n    plt.ylabel('Суммарное содержание металлов')\n    plt.boxplot(gold_recovery_train[stage], \n                whis = 3,\n                widths = 0.2)\n    plt.show()",
      "metadata": {},
      "execution_count": 15,
      "outputs": [
        {
          "output_type": "display_data",
          "data": {
            "image/png": "[encoded data removed]",
            "text/plain": [
              "<Figure size 360x360 with 1 Axes>"
            ]
          },
          "metadata": {
            "needs_background": "light"
          }
        },
        {
          "output_type": "display_data",
          "data": {
            "image/png": "[encoded data removed]",
            "text/plain": [
              "<Figure size 360x360 with 1 Axes>"
            ]
          },
          "metadata": {
            "needs_background": "light"
          }
        },
        {
          "output_type": "display_data",
          "data": {
            "image/png": "[encoded data removed]",
            "text/plain": [
              "<Figure size 360x360 with 1 Axes>"
            ]
          },
          "metadata": {
            "needs_background": "light"
          }
        },
        {
          "output_type": "display_data",
          "data": {
            "image/png": "[encoded data removed]",
            "text/plain": [
              "<Figure size 360x360 with 1 Axes>"
            ]
          },
          "metadata": {
            "needs_background": "light"
          }
        }
      ]
    },
    {
      "cell_type": "markdown",
      "source": "По распределению видно, что присутствуют выбросы: 0 до 57 в зависимости этапа обогащения, которые можно удалить.",
      "metadata": {}
    },
    {
      "cell_type": "code",
      "source": "gold_recovery_train = gold_recovery_train[gold_recovery_train['sum_input_feed_rougher']>38]\ngold_recovery_train = gold_recovery_train[gold_recovery_train['sum_concentrate_rougher']>42]\ngold_recovery_train = gold_recovery_train[gold_recovery_train['sum_primary_cleaner_output_concentrate']>40]\ngold_recovery_train = gold_recovery_train[gold_recovery_train['sum_final_output_concentrate']>58]\ngold_recovery_train.info()",
      "metadata": {},
      "execution_count": 16,
      "outputs": [
        {
          "name": "stdout",
          "output_type": "stream",
          "text": "<class 'pandas.core.frame.DataFrame'>\n\nInt64Index: 12837 entries, 0 to 14148\n\nData columns (total 92 columns):\n\n #   Column                                              Non-Null Count  Dtype  \n\n---  ------                                              --------------  -----  \n\n 0   date                                                12837 non-null  object \n\n 1   final.output.concentrate_ag                         12837 non-null  float64\n\n 2   final.output.concentrate_pb                         12837 non-null  float64\n\n 3   final.output.concentrate_sol                        12837 non-null  float64\n\n 4   final.output.concentrate_au                         12837 non-null  float64\n\n 5   final.output.recovery                               12837 non-null  float64\n\n 6   final.output.tail_ag                                12837 non-null  float64\n\n 7   final.output.tail_pb                                12837 non-null  float64\n\n 8   final.output.tail_sol                               12837 non-null  float64\n\n 9   final.output.tail_au                                12837 non-null  float64\n\n 10  primary_cleaner.input.sulfate                       12837 non-null  float64\n\n 11  primary_cleaner.input.depressant                    12837 non-null  float64\n\n 12  primary_cleaner.input.feed_size                     12837 non-null  float64\n\n 13  primary_cleaner.input.xanthate                      12837 non-null  float64\n\n 14  primary_cleaner.output.concentrate_ag               12837 non-null  float64\n\n 15  primary_cleaner.output.concentrate_pb               12837 non-null  float64\n\n 16  primary_cleaner.output.concentrate_sol              12837 non-null  float64\n\n 17  primary_cleaner.output.concentrate_au               12837 non-null  float64\n\n 18  primary_cleaner.output.tail_ag                      12837 non-null  float64\n\n 19  primary_cleaner.output.tail_pb                      12837 non-null  float64\n\n 20  primary_cleaner.output.tail_sol                     12837 non-null  float64\n\n 21  primary_cleaner.output.tail_au                      12837 non-null  float64\n\n 22  primary_cleaner.state.floatbank8_a_air              12837 non-null  float64\n\n 23  primary_cleaner.state.floatbank8_a_level            12837 non-null  float64\n\n 24  primary_cleaner.state.floatbank8_b_air              12837 non-null  float64\n\n 25  primary_cleaner.state.floatbank8_b_level            12837 non-null  float64\n\n 26  primary_cleaner.state.floatbank8_c_air              12837 non-null  float64\n\n 27  primary_cleaner.state.floatbank8_c_level            12837 non-null  float64\n\n 28  primary_cleaner.state.floatbank8_d_air              12837 non-null  float64\n\n 29  primary_cleaner.state.floatbank8_d_level            12837 non-null  float64\n\n 30  rougher.calculation.sulfate_to_au_concentrate       12837 non-null  float64\n\n 31  rougher.calculation.floatbank10_sulfate_to_au_feed  12837 non-null  float64\n\n 32  rougher.calculation.floatbank11_sulfate_to_au_feed  12837 non-null  float64\n\n 33  rougher.calculation.au_pb_ratio                     12837 non-null  float64\n\n 34  rougher.input.feed_ag                               12837 non-null  float64\n\n 35  rougher.input.feed_pb                               12837 non-null  float64\n\n 36  rougher.input.feed_rate                             12837 non-null  float64\n\n 37  rougher.input.feed_size                             12837 non-null  float64\n\n 38  rougher.input.feed_sol                              12837 non-null  float64\n\n 39  rougher.input.feed_au                               12837 non-null  float64\n\n 40  rougher.input.floatbank10_sulfate                   12837 non-null  float64\n\n 41  rougher.input.floatbank10_xanthate                  12837 non-null  float64\n\n 42  rougher.input.floatbank11_sulfate                   12837 non-null  float64\n\n 43  rougher.input.floatbank11_xanthate                  12837 non-null  float64\n\n 44  rougher.output.concentrate_ag                       12837 non-null  float64\n\n 45  rougher.output.concentrate_pb                       12837 non-null  float64\n\n 46  rougher.output.concentrate_sol                      12837 non-null  float64\n\n 47  rougher.output.concentrate_au                       12837 non-null  float64\n\n 48  rougher.output.recovery                             12837 non-null  float64\n\n 49  rougher.output.tail_ag                              12837 non-null  float64\n\n 50  rougher.output.tail_pb                              12837 non-null  float64\n\n 51  rougher.output.tail_sol                             12837 non-null  float64\n\n 52  rougher.output.tail_au                              12837 non-null  float64\n\n 53  rougher.state.floatbank10_a_air                     12837 non-null  float64\n\n 54  rougher.state.floatbank10_a_level                   12837 non-null  float64\n\n 55  rougher.state.floatbank10_b_air                     12837 non-null  float64\n\n 56  rougher.state.floatbank10_b_level                   12837 non-null  float64\n\n 57  rougher.state.floatbank10_c_air                     12837 non-null  float64\n\n 58  rougher.state.floatbank10_c_level                   12837 non-null  float64\n\n 59  rougher.state.floatbank10_d_air                     12837 non-null  float64\n\n 60  rougher.state.floatbank10_d_level                   12837 non-null  float64\n\n 61  rougher.state.floatbank10_e_air                     12837 non-null  float64\n\n 62  rougher.state.floatbank10_e_level                   12837 non-null  float64\n\n 63  rougher.state.floatbank10_f_air                     12837 non-null  float64\n\n 64  rougher.state.floatbank10_f_level                   12837 non-null  float64\n\n 65  secondary_cleaner.output.tail_ag                    12837 non-null  float64\n\n 66  secondary_cleaner.output.tail_pb                    12837 non-null  float64\n\n 67  secondary_cleaner.output.tail_sol                   12837 non-null  float64\n\n 68  secondary_cleaner.output.tail_au                    12837 non-null  float64\n\n 69  secondary_cleaner.state.floatbank2_a_air            12837 non-null  float64\n\n 70  secondary_cleaner.state.floatbank2_a_level          12837 non-null  float64\n\n 71  secondary_cleaner.state.floatbank2_b_air            12837 non-null  float64\n\n 72  secondary_cleaner.state.floatbank2_b_level          12837 non-null  float64\n\n 73  secondary_cleaner.state.floatbank3_a_air            12837 non-null  float64\n\n 74  secondary_cleaner.state.floatbank3_a_level          12837 non-null  float64\n\n 75  secondary_cleaner.state.floatbank3_b_air            12837 non-null  float64\n\n 76  secondary_cleaner.state.floatbank3_b_level          12837 non-null  float64\n\n 77  secondary_cleaner.state.floatbank4_a_air            12837 non-null  float64\n\n 78  secondary_cleaner.state.floatbank4_a_level          12837 non-null  float64\n\n 79  secondary_cleaner.state.floatbank4_b_air            12837 non-null  float64\n\n 80  secondary_cleaner.state.floatbank4_b_level          12837 non-null  float64\n\n 81  secondary_cleaner.state.floatbank5_a_air            12837 non-null  float64\n\n 82  secondary_cleaner.state.floatbank5_a_level          12837 non-null  float64\n\n 83  secondary_cleaner.state.floatbank5_b_air            12837 non-null  float64\n\n 84  secondary_cleaner.state.floatbank5_b_level          12837 non-null  float64\n\n 85  secondary_cleaner.state.floatbank6_a_air            12837 non-null  float64\n\n 86  secondary_cleaner.state.floatbank6_a_level          12837 non-null  float64\n\n 87  rougher.calculation.recovery                        12837 non-null  float64\n\n 88  sum_input_feed_rougher                              12837 non-null  float64\n\n 89  sum_concentrate_rougher                             12837 non-null  float64\n\n 90  sum_primary_cleaner_output_concentrate              12837 non-null  float64\n\n 91  sum_final_output_concentrate                        12837 non-null  float64\n\ndtypes: float64(91), object(1)\n\nmemory usage: 9.1+ MB\n"
        }
      ]
    },
    {
      "cell_type": "markdown",
      "source": "Построим гистограммы и \"ящики с усами\" после удаления выбросов.",
      "metadata": {}
    },
    {
      "cell_type": "code",
      "source": "BINS = 100\n\nfig = plt.figure(figsize=(18, 7))\nax = fig.add_axes([0,0,1,1])\nax.grid()\nttl = fig.suptitle('Содержание металлов в исходном сырье, в черновом и финальном концентратах.', fontsize=18)\nplt.xlabel('Суммарное содержание металлов')\nplt.ylabel('Количество, шт.')\nfor stage in sum_concentrate:\n    plt.hist(gold_recovery_train[stage],\n             alpha=0.5, \n             label=stage,\n             bins=BINS)\nplt.legend(loc='upper right')\nplt.show()",
      "metadata": {},
      "execution_count": 17,
      "outputs": [
        {
          "output_type": "display_data",
          "data": {
            "image/png": "[encoded data removed]",
            "text/plain": [
              "<Figure size 1296x504 with 1 Axes>"
            ]
          },
          "metadata": {
            "needs_background": "light"
          }
        }
      ]
    },
    {
      "cell_type": "code",
      "source": "for stage in sum_concentrate:\n    fig = plt.figure(figsize=(5, 5))\n    ax = fig.add_axes([0,0,1,1])\n    ax.grid()\n    plt.xlabel(stage)\n    plt.ylabel('Суммарное содержание металлов')\n    plt.boxplot(gold_recovery_train[stage], \n                whis = 3,\n                widths = 0.2)\n    plt.show()",
      "metadata": {},
      "execution_count": 18,
      "outputs": [
        {
          "output_type": "display_data",
          "data": {
            "image/png": "[encoded data removed]",
            "text/plain": [
              "<Figure size 360x360 with 1 Axes>"
            ]
          },
          "metadata": {
            "needs_background": "light"
          }
        },
        {
          "output_type": "display_data",
          "data": {
            "image/png": "[encoded data removed]",
            "text/plain": [
              "<Figure size 360x360 with 1 Axes>"
            ]
          },
          "metadata": {
            "needs_background": "light"
          }
        },
        {
          "output_type": "display_data",
          "data": {
            "image/png": "[encoded data removed]",
            "text/plain": [
              "<Figure size 360x360 with 1 Axes>"
            ]
          },
          "metadata": {
            "needs_background": "light"
          }
        },
        {
          "output_type": "display_data",
          "data": {
            "image/png": "[encoded data removed]",
            "text/plain": [
              "<Figure size 360x360 with 1 Axes>"
            ]
          },
          "metadata": {
            "needs_background": "light"
          }
        }
      ]
    },
    {
      "cell_type": "markdown",
      "source": "## Модель",
      "metadata": {}
    },
    {
      "cell_type": "markdown",
      "source": "Создадим переменные для признаков и целевого признака.",
      "metadata": {}
    },
    {
      "cell_type": "code",
      "source": "#обучающая выборка\ncolumns = gold_recovery_test.columns #колонки, которые в тестовой выборке\nfeature = gold_recovery_train[columns] #формируем признаки, выбирает в обучающей выборке только тетстовые признаки\nfeature = feature.drop(['date'],axis=1) #удалим столбец-идентификатор (date), который не будет использоваться в модели\ntarget = gold_recovery_train[['rougher.output.recovery','final.output.recovery']] #формируем целевые признаки\n\ndisplay(feature.info())\ndisplay(target.info())",
      "metadata": {},
      "execution_count": 19,
      "outputs": [
        {
          "name": "stdout",
          "output_type": "stream",
          "text": "<class 'pandas.core.frame.DataFrame'>\n\nInt64Index: 12837 entries, 0 to 14148\n\nData columns (total 52 columns):\n\n #   Column                                      Non-Null Count  Dtype  \n\n---  ------                                      --------------  -----  \n\n 0   primary_cleaner.input.sulfate               12837 non-null  float64\n\n 1   primary_cleaner.input.depressant            12837 non-null  float64\n\n 2   primary_cleaner.input.feed_size             12837 non-null  float64\n\n 3   primary_cleaner.input.xanthate              12837 non-null  float64\n\n 4   primary_cleaner.state.floatbank8_a_air      12837 non-null  float64\n\n 5   primary_cleaner.state.floatbank8_a_level    12837 non-null  float64\n\n 6   primary_cleaner.state.floatbank8_b_air      12837 non-null  float64\n\n 7   primary_cleaner.state.floatbank8_b_level    12837 non-null  float64\n\n 8   primary_cleaner.state.floatbank8_c_air      12837 non-null  float64\n\n 9   primary_cleaner.state.floatbank8_c_level    12837 non-null  float64\n\n 10  primary_cleaner.state.floatbank8_d_air      12837 non-null  float64\n\n 11  primary_cleaner.state.floatbank8_d_level    12837 non-null  float64\n\n 12  rougher.input.feed_ag                       12837 non-null  float64\n\n 13  rougher.input.feed_pb                       12837 non-null  float64\n\n 14  rougher.input.feed_rate                     12837 non-null  float64\n\n 15  rougher.input.feed_size                     12837 non-null  float64\n\n 16  rougher.input.feed_sol                      12837 non-null  float64\n\n 17  rougher.input.feed_au                       12837 non-null  float64\n\n 18  rougher.input.floatbank10_sulfate           12837 non-null  float64\n\n 19  rougher.input.floatbank10_xanthate          12837 non-null  float64\n\n 20  rougher.input.floatbank11_sulfate           12837 non-null  float64\n\n 21  rougher.input.floatbank11_xanthate          12837 non-null  float64\n\n 22  rougher.state.floatbank10_a_air             12837 non-null  float64\n\n 23  rougher.state.floatbank10_a_level           12837 non-null  float64\n\n 24  rougher.state.floatbank10_b_air             12837 non-null  float64\n\n 25  rougher.state.floatbank10_b_level           12837 non-null  float64\n\n 26  rougher.state.floatbank10_c_air             12837 non-null  float64\n\n 27  rougher.state.floatbank10_c_level           12837 non-null  float64\n\n 28  rougher.state.floatbank10_d_air             12837 non-null  float64\n\n 29  rougher.state.floatbank10_d_level           12837 non-null  float64\n\n 30  rougher.state.floatbank10_e_air             12837 non-null  float64\n\n 31  rougher.state.floatbank10_e_level           12837 non-null  float64\n\n 32  rougher.state.floatbank10_f_air             12837 non-null  float64\n\n 33  rougher.state.floatbank10_f_level           12837 non-null  float64\n\n 34  secondary_cleaner.state.floatbank2_a_air    12837 non-null  float64\n\n 35  secondary_cleaner.state.floatbank2_a_level  12837 non-null  float64\n\n 36  secondary_cleaner.state.floatbank2_b_air    12837 non-null  float64\n\n 37  secondary_cleaner.state.floatbank2_b_level  12837 non-null  float64\n\n 38  secondary_cleaner.state.floatbank3_a_air    12837 non-null  float64\n\n 39  secondary_cleaner.state.floatbank3_a_level  12837 non-null  float64\n\n 40  secondary_cleaner.state.floatbank3_b_air    12837 non-null  float64\n\n 41  secondary_cleaner.state.floatbank3_b_level  12837 non-null  float64\n\n 42  secondary_cleaner.state.floatbank4_a_air    12837 non-null  float64\n\n 43  secondary_cleaner.state.floatbank4_a_level  12837 non-null  float64\n\n 44  secondary_cleaner.state.floatbank4_b_air    12837 non-null  float64\n\n 45  secondary_cleaner.state.floatbank4_b_level  12837 non-null  float64\n\n 46  secondary_cleaner.state.floatbank5_a_air    12837 non-null  float64\n\n 47  secondary_cleaner.state.floatbank5_a_level  12837 non-null  float64\n\n 48  secondary_cleaner.state.floatbank5_b_air    12837 non-null  float64\n\n 49  secondary_cleaner.state.floatbank5_b_level  12837 non-null  float64\n\n 50  secondary_cleaner.state.floatbank6_a_air    12837 non-null  float64\n\n 51  secondary_cleaner.state.floatbank6_a_level  12837 non-null  float64\n\ndtypes: float64(52)\n\nmemory usage: 5.2 MB\n"
        },
        {
          "output_type": "display_data",
          "data": {
            "text/plain": [
              "None"
            ]
          },
          "metadata": {}
        },
        {
          "name": "stdout",
          "output_type": "stream",
          "text": "<class 'pandas.core.frame.DataFrame'>\n\nInt64Index: 12837 entries, 0 to 14148\n\nData columns (total 2 columns):\n\n #   Column                   Non-Null Count  Dtype  \n\n---  ------                   --------------  -----  \n\n 0   rougher.output.recovery  12837 non-null  float64\n\n 1   final.output.recovery    12837 non-null  float64\n\ndtypes: float64(2)\n\nmemory usage: 300.9 KB\n"
        },
        {
          "output_type": "display_data",
          "data": {
            "text/plain": [
              "None"
            ]
          },
          "metadata": {}
        }
      ]
    },
    {
      "cell_type": "code",
      "source": "#тестовая выборка\ntarget_test = gold_recovery_full[['date','rougher.output.recovery','final.output.recovery']]\ngold_recovery_test = gold_recovery_test.merge(target_test,on=['date'],how='left')\ngold_recovery_test = gold_recovery_test.dropna()\ntarget_test = gold_recovery_test[['rougher.output.recovery','final.output.recovery']]\nfeature_test =  gold_recovery_test.drop(['date','rougher.output.recovery','final.output.recovery'],axis=1)\n\ndisplay(feature_test.info())\ndisplay(target_test.info())",
      "metadata": {},
      "execution_count": 20,
      "outputs": [
        {
          "name": "stdout",
          "output_type": "stream",
          "text": "<class 'pandas.core.frame.DataFrame'>\n\nInt64Index: 5290 entries, 0 to 5289\n\nData columns (total 52 columns):\n\n #   Column                                      Non-Null Count  Dtype  \n\n---  ------                                      --------------  -----  \n\n 0   primary_cleaner.input.sulfate               5290 non-null   float64\n\n 1   primary_cleaner.input.depressant            5290 non-null   float64\n\n 2   primary_cleaner.input.feed_size             5290 non-null   float64\n\n 3   primary_cleaner.input.xanthate              5290 non-null   float64\n\n 4   primary_cleaner.state.floatbank8_a_air      5290 non-null   float64\n\n 5   primary_cleaner.state.floatbank8_a_level    5290 non-null   float64\n\n 6   primary_cleaner.state.floatbank8_b_air      5290 non-null   float64\n\n 7   primary_cleaner.state.floatbank8_b_level    5290 non-null   float64\n\n 8   primary_cleaner.state.floatbank8_c_air      5290 non-null   float64\n\n 9   primary_cleaner.state.floatbank8_c_level    5290 non-null   float64\n\n 10  primary_cleaner.state.floatbank8_d_air      5290 non-null   float64\n\n 11  primary_cleaner.state.floatbank8_d_level    5290 non-null   float64\n\n 12  rougher.input.feed_ag                       5290 non-null   float64\n\n 13  rougher.input.feed_pb                       5290 non-null   float64\n\n 14  rougher.input.feed_rate                     5290 non-null   float64\n\n 15  rougher.input.feed_size                     5290 non-null   float64\n\n 16  rougher.input.feed_sol                      5290 non-null   float64\n\n 17  rougher.input.feed_au                       5290 non-null   float64\n\n 18  rougher.input.floatbank10_sulfate           5290 non-null   float64\n\n 19  rougher.input.floatbank10_xanthate          5290 non-null   float64\n\n 20  rougher.input.floatbank11_sulfate           5290 non-null   float64\n\n 21  rougher.input.floatbank11_xanthate          5290 non-null   float64\n\n 22  rougher.state.floatbank10_a_air             5290 non-null   float64\n\n 23  rougher.state.floatbank10_a_level           5290 non-null   float64\n\n 24  rougher.state.floatbank10_b_air             5290 non-null   float64\n\n 25  rougher.state.floatbank10_b_level           5290 non-null   float64\n\n 26  rougher.state.floatbank10_c_air             5290 non-null   float64\n\n 27  rougher.state.floatbank10_c_level           5290 non-null   float64\n\n 28  rougher.state.floatbank10_d_air             5290 non-null   float64\n\n 29  rougher.state.floatbank10_d_level           5290 non-null   float64\n\n 30  rougher.state.floatbank10_e_air             5290 non-null   float64\n\n 31  rougher.state.floatbank10_e_level           5290 non-null   float64\n\n 32  rougher.state.floatbank10_f_air             5290 non-null   float64\n\n 33  rougher.state.floatbank10_f_level           5290 non-null   float64\n\n 34  secondary_cleaner.state.floatbank2_a_air    5290 non-null   float64\n\n 35  secondary_cleaner.state.floatbank2_a_level  5290 non-null   float64\n\n 36  secondary_cleaner.state.floatbank2_b_air    5290 non-null   float64\n\n 37  secondary_cleaner.state.floatbank2_b_level  5290 non-null   float64\n\n 38  secondary_cleaner.state.floatbank3_a_air    5290 non-null   float64\n\n 39  secondary_cleaner.state.floatbank3_a_level  5290 non-null   float64\n\n 40  secondary_cleaner.state.floatbank3_b_air    5290 non-null   float64\n\n 41  secondary_cleaner.state.floatbank3_b_level  5290 non-null   float64\n\n 42  secondary_cleaner.state.floatbank4_a_air    5290 non-null   float64\n\n 43  secondary_cleaner.state.floatbank4_a_level  5290 non-null   float64\n\n 44  secondary_cleaner.state.floatbank4_b_air    5290 non-null   float64\n\n 45  secondary_cleaner.state.floatbank4_b_level  5290 non-null   float64\n\n 46  secondary_cleaner.state.floatbank5_a_air    5290 non-null   float64\n\n 47  secondary_cleaner.state.floatbank5_a_level  5290 non-null   float64\n\n 48  secondary_cleaner.state.floatbank5_b_air    5290 non-null   float64\n\n 49  secondary_cleaner.state.floatbank5_b_level  5290 non-null   float64\n\n 50  secondary_cleaner.state.floatbank6_a_air    5290 non-null   float64\n\n 51  secondary_cleaner.state.floatbank6_a_level  5290 non-null   float64\n\ndtypes: float64(52)\n\nmemory usage: 2.1 MB\n"
        },
        {
          "output_type": "display_data",
          "data": {
            "text/plain": [
              "None"
            ]
          },
          "metadata": {}
        },
        {
          "name": "stdout",
          "output_type": "stream",
          "text": "<class 'pandas.core.frame.DataFrame'>\n\nInt64Index: 5290 entries, 0 to 5289\n\nData columns (total 2 columns):\n\n #   Column                   Non-Null Count  Dtype  \n\n---  ------                   --------------  -----  \n\n 0   rougher.output.recovery  5290 non-null   float64\n\n 1   final.output.recovery    5290 non-null   float64\n\ndtypes: float64(2)\n\nmemory usage: 124.0 KB\n"
        },
        {
          "output_type": "display_data",
          "data": {
            "text/plain": [
              "None"
            ]
          },
          "metadata": {}
        }
      ]
    },
    {
      "cell_type": "markdown",
      "source": "Напишим функцию для расчета метрики sMAPE",
      "metadata": {}
    },
    {
      "cell_type": "code",
      "source": "def smape(target, predict):\n    predict_rougher = predict[:,0]\n    target__rougher = target[:,0]\n    predict_final = predict[:,1]\n    target__final = target[:,1]\n    \n    smape_rougher = (np.sum(abs(target__rougher - predict_rougher) /\n                            ((abs(target__rougher) + abs(predict_rougher)) / 2)) /\n                     len(target__rougher) * 100\n                    )\n    \n   \n    smape_final = (np.sum(abs(target__final - predict_final) / \n                          ((abs(target__final) + abs(predict_final)) / 2)) /\n                   len(target__final) * 100\n                  )\n    \n    \n    return 0.25 * smape_rougher + 0.75 * smape_final",
      "metadata": {},
      "execution_count": 21,
      "outputs": []
    },
    {
      "cell_type": "markdown",
      "source": "Обучим разные модели и оценим их качество кросс-валидацией. В качестве моделей будем использовать: линейнную регрессию, дерево решений и случайнный лес.",
      "metadata": {}
    },
    {
      "cell_type": "code",
      "source": "size_sample = int(len(gold_recovery_test) / 5) #формируем длину датасета для кросс-валидации, блоков будет 5",
      "metadata": {},
      "execution_count": 22,
      "outputs": []
    },
    {
      "cell_type": "code",
      "source": "# кросс-валидация Линейная регрессия\n\nscores = []\n\nfor i in range(0, len(gold_recovery_test), size_sample):\n    feature_valid = feature[i: i + size_sample]\n    feature_train = feature.drop(feature_valid.index)\n\n    target_valid = target[i: i + size_sample]\n    target_valid_arr = np.array(target_valid)\n    target_train = target.drop(target_valid.index)\n\n    model = LinearRegression().fit(feature_train, target_train)\n    predict = model.predict(feature_valid)\n\n    scores.append(smape(target_valid_arr, predict))\n\n\ndisplay('Итоговый sMAPE:', np.mean(scores))",
      "metadata": {},
      "execution_count": 23,
      "outputs": [
        {
          "output_type": "display_data",
          "data": {
            "text/plain": [
              "'Итоговый sMAPE:'"
            ]
          },
          "metadata": {}
        },
        {
          "output_type": "display_data",
          "data": {
            "text/plain": [
              "7.929815944519424"
            ]
          },
          "metadata": {}
        }
      ]
    },
    {
      "cell_type": "code",
      "source": "# кросс-валидация Случайны лес\ndef smape_1(target, predict):\n    smape = (np.sum(abs(target - predict) /\n                            ((abs(target) + abs(predict)) / 2)) /\n                     len(target) * 100\n                    )\n    return smape\n\ntarget_train_rougher = target['rougher.output.recovery']\ntarget_train_final = target['final.output.recovery']\n\nparametrs = { 'n_estimators': [20],\n              'max_depth': range (1, 5, 1),\n              'min_samples_leaf': range (2, 4, 2),\n              'min_samples_split': range (2, 4, 2) }\n\nscorer = make_scorer(smape_1, greater_is_better = False)",
      "metadata": {},
      "execution_count": 24,
      "outputs": []
    },
    {
      "cell_type": "code",
      "source": "grid_rougher = RandomForestRegressor()\ngrid_rougher = (GridSearchCV(grid_rougher, parametrs, scoring = scorer, n_jobs=-1, cv=5)\n                .fit(feature, target_train_rougher)\n               )\n\ngrid_rougher_best_params = grid_rougher.best_params_\ngrid_rougher_best_score = grid_rougher.best_score_\n\ngrid_final = RandomForestRegressor()\ngrid_final = (GridSearchCV(grid_final, parametrs, scoring = scorer, n_jobs=-1, cv=5)\n              .fit(feature, target_train_final)\n             )\n\ngrid_final_best_params = grid_final.best_params_\ngrid_final_best_score = grid_final.best_score_",
      "metadata": {},
      "execution_count": 25,
      "outputs": []
    },
    {
      "cell_type": "code",
      "source": "display ('Лучшие параметры для чернового концентрата: ')\ndisplay(grid_rougher_best_params)\ndisplay ('Лучшая метрика для чернового концентрата: ')\ndisplay(grid_rougher_best_score)\ndisplay ('Лучшие параметры для финального концентрата: ')\ndisplay(grid_final_best_params)\ndisplay ('Лучшая метрика для финального концентрата: ')\ndisplay(grid_final_best_score)",
      "metadata": {},
      "execution_count": 26,
      "outputs": [
        {
          "output_type": "display_data",
          "data": {
            "text/plain": [
              "'Лучшие параметры для чернового концентрата: '"
            ]
          },
          "metadata": {}
        },
        {
          "output_type": "display_data",
          "data": {
            "text/plain": [
              "{'max_depth': 4,\n",
              " 'min_samples_leaf': 2,\n",
              " 'min_samples_split': 2,\n",
              " 'n_estimators': 20}"
            ]
          },
          "metadata": {}
        },
        {
          "output_type": "display_data",
          "data": {
            "text/plain": [
              "'Лучшая метрика для чернового концентрата: '"
            ]
          },
          "metadata": {}
        },
        {
          "output_type": "display_data",
          "data": {
            "text/plain": [
              "-5.968114313899532"
            ]
          },
          "metadata": {}
        },
        {
          "output_type": "display_data",
          "data": {
            "text/plain": [
              "'Лучшие параметры для финального концентрата: '"
            ]
          },
          "metadata": {}
        },
        {
          "output_type": "display_data",
          "data": {
            "text/plain": [
              "{'max_depth': 4,\n",
              " 'min_samples_leaf': 2,\n",
              " 'min_samples_split': 2,\n",
              " 'n_estimators': 20}"
            ]
          },
          "metadata": {}
        },
        {
          "output_type": "display_data",
          "data": {
            "text/plain": [
              "'Лучшая метрика для финального концентрата: '"
            ]
          },
          "metadata": {}
        },
        {
          "output_type": "display_data",
          "data": {
            "text/plain": [
              "-8.383308452792852"
            ]
          },
          "metadata": {}
        }
      ]
    },
    {
      "cell_type": "code",
      "source": "predict_rougher = grid_rougher.predict(feature)\nscores_rougher = smape_1(np.array(target_train_rougher), predict_rougher)\npredict_final = grid_final.predict(feature)\nscores_final = smape_1(np.array(target_train_final), predict_final)\ndisplay('Итоговый sMAPE', 0.25 * scores_rougher + 0.75 * scores_final )",
      "metadata": {},
      "execution_count": 27,
      "outputs": [
        {
          "output_type": "display_data",
          "data": {
            "text/plain": [
              "'Итоговый sMAPE'"
            ]
          },
          "metadata": {}
        },
        {
          "output_type": "display_data",
          "data": {
            "text/plain": [
              "6.347567971818509"
            ]
          },
          "metadata": {}
        }
      ]
    },
    {
      "cell_type": "code",
      "source": "#кросс-валидация Дерево решений\n\nfor depth in range(1, 6):\n    scores = []\n    for i in range(0, len(gold_recovery_test), size_sample):\n        feature_valid = feature[i: i + size_sample]\n        feature_train = feature.drop(feature_valid.index)\n\n        target_valid = target[i: i + size_sample]\n        target_valid_arr=np.array(target_valid)\n        target_train = target.drop(target_valid.index)\n        model = (DecisionTreeRegressor(random_state=1234, max_depth=depth)\n                 .fit(feature_train, target_train)\n                )\n        predict = model.predict(feature_valid)\n\n        scores.append(smape(target_valid_arr, predict))\n\n    print('Итоговый sMAPE при depth =', str(depth) + ':', np.mean(scores))",
      "metadata": {},
      "execution_count": 28,
      "outputs": [
        {
          "name": "stdout",
          "output_type": "stream",
          "text": "Итоговый sMAPE при depth = 1: 8.803614382155372\n\nИтоговый sMAPE при depth = 2: 8.3824218316079\n\nИтоговый sMAPE при depth = 3: 8.331508780134113\n\nИтоговый sMAPE при depth = 4: 8.374561591523804\n\nИтоговый sMAPE при depth = 5: 8.677863817605687\n"
        }
      ]
    },
    {
      "cell_type": "code",
      "source": "#константная модель\n\nmedian_rougher_recovery = pd.Series(gold_recovery_train['rougher.output.recovery'].median(), index=gold_recovery_test.index)\nmedian_final_recovery = pd.Series(gold_recovery_train['final.output.recovery'].median(), index=gold_recovery_test.index)\n\n\nsmape_rougher = (sum(abs(gold_recovery_test['rougher.output.recovery'] - median_rougher_recovery) /\n                     ((abs(gold_recovery_test['rougher.output.recovery']) + abs(median_rougher_recovery)) / 2)) /\n                     len(gold_recovery_test['rougher.output.recovery']) * 100\n                )\n\nsmape_final = (sum(abs(gold_recovery_test['final.output.recovery'] - median_final_recovery) /\n                     ((abs(gold_recovery_test['final.output.recovery']) + abs(median_final_recovery)) / 2)) /\n                     len(gold_recovery_test['final.output.recovery']) * 100\n                )\n\ndisplay('sMAPE для медианной константной модели:', smape_rougher * 0.25 + smape_final * 0.75)",
      "metadata": {},
      "execution_count": 29,
      "outputs": [
        {
          "output_type": "display_data",
          "data": {
            "text/plain": [
              "'sMAPE для медианной константной модели:'"
            ]
          },
          "metadata": {}
        },
        {
          "output_type": "display_data",
          "data": {
            "text/plain": [
              "9.427228128489613"
            ]
          },
          "metadata": {}
        }
      ]
    },
    {
      "cell_type": "markdown",
      "source": "Таким образом, наилучшая модель - это Случайный лес c итоговым sMAPE = 6.35 и следующими параметрами: \n* max_depth: 4,\n* min_samples_leaf: 2,\n* min_samples_split: 2,\n* n_estimators: 20.   \nДанная модель имеет наиболее низкий показатель итоговый sMAPE. Выберем ее для проверки на тестовой выборке.",
      "metadata": {}
    },
    {
      "cell_type": "code",
      "source": "model = (RandomForestRegressor(max_depth=4, min_samples_leaf=2, min_samples_split=2, n_estimators=20)\n         .fit(feature, target)\n        )\npredict = model.predict(feature_test)\nscores = smape(np.array(target_test), predict)\n\ndisplay('Итоговый sMAPE', scores)",
      "metadata": {},
      "execution_count": 30,
      "outputs": [
        {
          "output_type": "display_data",
          "data": {
            "text/plain": [
              "'Итоговый sMAPE'"
            ]
          },
          "metadata": {}
        },
        {
          "output_type": "display_data",
          "data": {
            "text/plain": [
              "9.167418540053571"
            ]
          },
          "metadata": {}
        }
      ]
    },
    {
      "cell_type": "markdown",
      "source": "Таким образом, модель Случайный лес cо следующими параметрами: \n* max_depth: 4,\n* min_samples_leaf: 2,\n* min_samples_split: 2,\n* n_estimators': 20\nПоказала метрику итогового sMAPE = 9.17 на тестовой выборке.\nПолученная модель поможет лучше прогнозировать коэффициент восстановления золота из золотосодержащей руды для того, чтобы не запускать предприятие с убыточными характеристиками.",
      "metadata": {}
    },
    {
      "cell_type": "code",
      "source": "",
      "metadata": {},
      "execution_count": null,
      "outputs": []
    }
  ]
}