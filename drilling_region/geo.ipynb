{
  "metadata": {
    "ExecuteTimeLog": [
      {
        "duration": 75,
        "start_time": "2022-05-09T13:13:12.368Z"
      },
      {
        "duration": 2175,
        "start_time": "2022-05-09T13:13:15.872Z"
      },
      {
        "duration": 5,
        "start_time": "2022-05-09T13:13:28.243Z"
      },
      {
        "duration": 542,
        "start_time": "2022-05-09T13:13:29.682Z"
      },
      {
        "duration": 521,
        "start_time": "2022-05-09T13:13:44.920Z"
      },
      {
        "duration": 41,
        "start_time": "2022-05-09T13:13:51.185Z"
      },
      {
        "duration": 61,
        "start_time": "2022-05-09T13:14:05.395Z"
      },
      {
        "duration": 2294,
        "start_time": "2022-05-09T14:06:05.280Z"
      },
      {
        "duration": 532,
        "start_time": "2022-05-09T14:06:07.578Z"
      },
      {
        "duration": 78,
        "start_time": "2022-05-09T14:06:08.113Z"
      },
      {
        "duration": 155,
        "start_time": "2022-05-09T14:06:08.225Z"
      },
      {
        "duration": 0,
        "start_time": "2022-05-09T14:06:08.384Z"
      },
      {
        "duration": 464,
        "start_time": "2022-05-09T14:14:01.227Z"
      },
      {
        "duration": 294,
        "start_time": "2022-05-09T14:18:06.977Z"
      },
      {
        "duration": 254,
        "start_time": "2022-05-09T14:18:29.154Z"
      },
      {
        "duration": 351,
        "start_time": "2022-05-09T14:18:36.107Z"
      },
      {
        "duration": 416,
        "start_time": "2022-05-09T14:21:50.265Z"
      },
      {
        "duration": 784,
        "start_time": "2022-05-09T14:22:19.971Z"
      },
      {
        "duration": 423,
        "start_time": "2022-05-09T14:22:41.183Z"
      },
      {
        "duration": 444,
        "start_time": "2022-05-09T14:22:51.154Z"
      },
      {
        "duration": 101,
        "start_time": "2022-05-09T14:23:31.440Z"
      },
      {
        "duration": 497,
        "start_time": "2022-05-09T14:23:49.196Z"
      },
      {
        "duration": 564,
        "start_time": "2022-05-09T14:24:01.923Z"
      },
      {
        "duration": 428,
        "start_time": "2022-05-09T14:24:15.859Z"
      },
      {
        "duration": 21,
        "start_time": "2022-05-09T14:32:06.305Z"
      },
      {
        "duration": 135,
        "start_time": "2022-05-09T14:35:56.052Z"
      },
      {
        "duration": 289,
        "start_time": "2022-05-09T14:39:17.517Z"
      },
      {
        "duration": 50,
        "start_time": "2022-05-09T14:44:06.732Z"
      },
      {
        "duration": 445,
        "start_time": "2022-05-09T14:45:29.073Z"
      },
      {
        "duration": 477,
        "start_time": "2022-05-09T14:45:46.994Z"
      },
      {
        "duration": 60,
        "start_time": "2022-05-09T14:46:00.716Z"
      },
      {
        "duration": 2072,
        "start_time": "2022-05-09T14:48:00.674Z"
      },
      {
        "duration": 509,
        "start_time": "2022-05-09T14:48:02.749Z"
      },
      {
        "duration": 82,
        "start_time": "2022-05-09T14:48:03.260Z"
      },
      {
        "duration": 142,
        "start_time": "2022-05-09T14:48:03.345Z"
      },
      {
        "duration": 556,
        "start_time": "2022-05-09T14:48:03.489Z"
      },
      {
        "duration": 102,
        "start_time": "2022-05-09T14:48:04.047Z"
      },
      {
        "duration": 94,
        "start_time": "2022-05-09T15:12:17.117Z"
      },
      {
        "duration": 7,
        "start_time": "2022-05-09T15:12:39.745Z"
      },
      {
        "duration": 7,
        "start_time": "2022-05-09T15:13:26.989Z"
      },
      {
        "duration": 166,
        "start_time": "2022-05-09T15:13:59.670Z"
      },
      {
        "duration": 16,
        "start_time": "2022-05-09T15:14:57.323Z"
      },
      {
        "duration": 18,
        "start_time": "2022-05-09T15:15:17.585Z"
      },
      {
        "duration": 17,
        "start_time": "2022-05-09T15:15:29.397Z"
      },
      {
        "duration": 45,
        "start_time": "2022-05-09T15:15:46.830Z"
      },
      {
        "duration": 17,
        "start_time": "2022-05-09T15:17:36.893Z"
      },
      {
        "duration": 17,
        "start_time": "2022-05-09T15:17:41.276Z"
      },
      {
        "duration": 20,
        "start_time": "2022-05-09T15:17:48.725Z"
      },
      {
        "duration": 18,
        "start_time": "2022-05-09T15:18:12.945Z"
      },
      {
        "duration": 16,
        "start_time": "2022-05-09T15:18:52.728Z"
      },
      {
        "duration": 1951,
        "start_time": "2022-05-09T15:19:03.202Z"
      },
      {
        "duration": 489,
        "start_time": "2022-05-09T15:19:05.156Z"
      },
      {
        "duration": 79,
        "start_time": "2022-05-09T15:19:05.647Z"
      },
      {
        "duration": 125,
        "start_time": "2022-05-09T15:19:05.728Z"
      },
      {
        "duration": 253,
        "start_time": "2022-05-09T15:19:05.856Z"
      },
      {
        "duration": 57,
        "start_time": "2022-05-09T15:19:06.111Z"
      },
      {
        "duration": 18,
        "start_time": "2022-05-09T15:19:06.170Z"
      },
      {
        "duration": 80,
        "start_time": "2022-05-09T15:19:06.190Z"
      },
      {
        "duration": 61,
        "start_time": "2022-05-09T15:19:41.879Z"
      },
      {
        "duration": 71,
        "start_time": "2022-05-09T15:19:52.711Z"
      },
      {
        "duration": 2121,
        "start_time": "2022-05-09T15:28:03.599Z"
      },
      {
        "duration": 490,
        "start_time": "2022-05-09T15:28:05.723Z"
      },
      {
        "duration": 67,
        "start_time": "2022-05-09T15:28:06.215Z"
      },
      {
        "duration": 154,
        "start_time": "2022-05-09T15:28:06.285Z"
      },
      {
        "duration": 293,
        "start_time": "2022-05-09T15:28:06.443Z"
      },
      {
        "duration": 87,
        "start_time": "2022-05-09T15:28:06.739Z"
      },
      {
        "duration": 26,
        "start_time": "2022-05-09T15:28:06.829Z"
      },
      {
        "duration": 227,
        "start_time": "2022-05-09T15:28:06.857Z"
      },
      {
        "duration": 128,
        "start_time": "2022-05-09T20:24:16.487Z"
      },
      {
        "duration": 2351,
        "start_time": "2022-05-09T20:24:27.948Z"
      },
      {
        "duration": 730,
        "start_time": "2022-05-09T20:24:30.302Z"
      },
      {
        "duration": 90,
        "start_time": "2022-05-09T20:24:31.035Z"
      },
      {
        "duration": 168,
        "start_time": "2022-05-09T20:24:31.128Z"
      },
      {
        "duration": 300,
        "start_time": "2022-05-09T20:24:31.299Z"
      },
      {
        "duration": 52,
        "start_time": "2022-05-09T20:24:31.602Z"
      },
      {
        "duration": 43,
        "start_time": "2022-05-09T20:24:31.656Z"
      },
      {
        "duration": 323,
        "start_time": "2022-05-09T20:24:31.702Z"
      },
      {
        "duration": 19,
        "start_time": "2022-05-09T20:33:00.550Z"
      },
      {
        "duration": 19,
        "start_time": "2022-05-09T20:33:18.493Z"
      },
      {
        "duration": 2186,
        "start_time": "2022-05-09T20:33:31.997Z"
      },
      {
        "duration": 1101,
        "start_time": "2022-05-09T20:33:34.188Z"
      },
      {
        "duration": 130,
        "start_time": "2022-05-09T20:33:35.293Z"
      },
      {
        "duration": 291,
        "start_time": "2022-05-09T20:33:35.426Z"
      },
      {
        "duration": 608,
        "start_time": "2022-05-09T20:33:35.720Z"
      },
      {
        "duration": 154,
        "start_time": "2022-05-09T20:33:36.331Z"
      },
      {
        "duration": 22,
        "start_time": "2022-05-09T20:33:36.489Z"
      },
      {
        "duration": 414,
        "start_time": "2022-05-09T20:33:36.513Z"
      },
      {
        "duration": 2160,
        "start_time": "2022-05-09T20:36:10.550Z"
      },
      {
        "duration": 1169,
        "start_time": "2022-05-09T20:36:12.713Z"
      },
      {
        "duration": 139,
        "start_time": "2022-05-09T20:36:13.886Z"
      },
      {
        "duration": 285,
        "start_time": "2022-05-09T20:36:14.028Z"
      },
      {
        "duration": 492,
        "start_time": "2022-05-09T20:36:14.317Z"
      },
      {
        "duration": 0,
        "start_time": "2022-05-09T20:36:14.811Z"
      },
      {
        "duration": 0,
        "start_time": "2022-05-09T20:36:14.812Z"
      },
      {
        "duration": 0,
        "start_time": "2022-05-09T20:36:14.814Z"
      },
      {
        "duration": 2001,
        "start_time": "2022-05-09T20:38:06.945Z"
      },
      {
        "duration": 500,
        "start_time": "2022-05-09T20:38:08.948Z"
      },
      {
        "duration": 83,
        "start_time": "2022-05-09T20:38:09.451Z"
      },
      {
        "duration": 133,
        "start_time": "2022-05-09T20:38:09.536Z"
      },
      {
        "duration": 246,
        "start_time": "2022-05-09T20:38:09.683Z"
      },
      {
        "duration": 60,
        "start_time": "2022-05-09T20:38:09.931Z"
      },
      {
        "duration": 19,
        "start_time": "2022-05-09T20:38:09.993Z"
      },
      {
        "duration": 303,
        "start_time": "2022-05-09T20:38:10.015Z"
      },
      {
        "duration": 15,
        "start_time": "2022-05-09T20:49:18.169Z"
      },
      {
        "duration": 17,
        "start_time": "2022-05-09T20:52:03.851Z"
      },
      {
        "duration": 16,
        "start_time": "2022-05-09T20:52:41.881Z"
      },
      {
        "duration": 49,
        "start_time": "2022-05-09T20:56:07.259Z"
      },
      {
        "duration": 56,
        "start_time": "2022-05-09T20:56:40.518Z"
      },
      {
        "duration": 47,
        "start_time": "2022-05-09T20:56:53.118Z"
      },
      {
        "duration": 23,
        "start_time": "2022-05-09T20:57:35.587Z"
      },
      {
        "duration": 151,
        "start_time": "2022-05-09T20:57:42.111Z"
      },
      {
        "duration": 18,
        "start_time": "2022-05-09T20:57:48.465Z"
      },
      {
        "duration": 2064,
        "start_time": "2022-05-09T20:58:08.800Z"
      },
      {
        "duration": 557,
        "start_time": "2022-05-09T20:58:10.867Z"
      },
      {
        "duration": 165,
        "start_time": "2022-05-09T20:58:11.426Z"
      },
      {
        "duration": 229,
        "start_time": "2022-05-09T20:58:11.593Z"
      },
      {
        "duration": 438,
        "start_time": "2022-05-09T20:58:11.881Z"
      },
      {
        "duration": 176,
        "start_time": "2022-05-09T20:58:12.322Z"
      },
      {
        "duration": 104,
        "start_time": "2022-05-09T20:58:12.500Z"
      },
      {
        "duration": 313,
        "start_time": "2022-05-09T20:58:12.606Z"
      },
      {
        "duration": 1937,
        "start_time": "2022-05-09T20:58:43.275Z"
      },
      {
        "duration": 469,
        "start_time": "2022-05-09T20:58:45.214Z"
      },
      {
        "duration": 62,
        "start_time": "2022-05-09T20:58:45.685Z"
      },
      {
        "duration": 131,
        "start_time": "2022-05-09T20:58:45.750Z"
      },
      {
        "duration": 217,
        "start_time": "2022-05-09T20:58:45.884Z"
      },
      {
        "duration": 111,
        "start_time": "2022-05-09T20:58:46.103Z"
      },
      {
        "duration": 76,
        "start_time": "2022-05-09T20:58:46.216Z"
      },
      {
        "duration": 173,
        "start_time": "2022-05-09T20:58:46.294Z"
      },
      {
        "duration": 2020,
        "start_time": "2022-05-09T21:00:35.654Z"
      },
      {
        "duration": 465,
        "start_time": "2022-05-09T21:00:37.677Z"
      },
      {
        "duration": 74,
        "start_time": "2022-05-09T21:00:38.144Z"
      },
      {
        "duration": 114,
        "start_time": "2022-05-09T21:00:38.220Z"
      },
      {
        "duration": 234,
        "start_time": "2022-05-09T21:00:38.337Z"
      },
      {
        "duration": 109,
        "start_time": "2022-05-09T21:00:38.574Z"
      },
      {
        "duration": 46,
        "start_time": "2022-05-09T21:00:38.685Z"
      },
      {
        "duration": 193,
        "start_time": "2022-05-09T21:00:38.733Z"
      },
      {
        "duration": 1996,
        "start_time": "2022-05-09T21:02:56.671Z"
      },
      {
        "duration": 466,
        "start_time": "2022-05-09T21:02:58.670Z"
      },
      {
        "duration": 70,
        "start_time": "2022-05-09T21:02:59.138Z"
      },
      {
        "duration": 117,
        "start_time": "2022-05-09T21:02:59.212Z"
      },
      {
        "duration": 242,
        "start_time": "2022-05-09T21:02:59.332Z"
      },
      {
        "duration": 109,
        "start_time": "2022-05-09T21:02:59.576Z"
      },
      {
        "duration": 44,
        "start_time": "2022-05-09T21:02:59.688Z"
      },
      {
        "duration": 199,
        "start_time": "2022-05-09T21:02:59.734Z"
      },
      {
        "duration": 1919,
        "start_time": "2022-05-09T21:03:42.611Z"
      },
      {
        "duration": 478,
        "start_time": "2022-05-09T21:03:44.533Z"
      },
      {
        "duration": 88,
        "start_time": "2022-05-09T21:03:45.014Z"
      },
      {
        "duration": 131,
        "start_time": "2022-05-09T21:03:45.104Z"
      },
      {
        "duration": 252,
        "start_time": "2022-05-09T21:03:45.238Z"
      },
      {
        "duration": 118,
        "start_time": "2022-05-09T21:03:45.493Z"
      },
      {
        "duration": 80,
        "start_time": "2022-05-09T21:03:45.613Z"
      },
      {
        "duration": 173,
        "start_time": "2022-05-09T21:03:45.695Z"
      },
      {
        "duration": 1889,
        "start_time": "2022-05-09T21:04:30.972Z"
      },
      {
        "duration": 463,
        "start_time": "2022-05-09T21:04:32.864Z"
      },
      {
        "duration": 86,
        "start_time": "2022-05-09T21:04:33.330Z"
      },
      {
        "duration": 124,
        "start_time": "2022-05-09T21:04:33.419Z"
      },
      {
        "duration": 249,
        "start_time": "2022-05-09T21:04:33.547Z"
      },
      {
        "duration": 50,
        "start_time": "2022-05-09T21:04:33.798Z"
      },
      {
        "duration": 72,
        "start_time": "2022-05-09T21:04:33.850Z"
      },
      {
        "duration": 282,
        "start_time": "2022-05-09T21:04:33.924Z"
      },
      {
        "duration": 2544,
        "start_time": "2022-05-09T21:04:54.640Z"
      },
      {
        "duration": 471,
        "start_time": "2022-05-09T21:04:57.187Z"
      },
      {
        "duration": 71,
        "start_time": "2022-05-09T21:04:57.660Z"
      },
      {
        "duration": 126,
        "start_time": "2022-05-09T21:04:57.733Z"
      },
      {
        "duration": 241,
        "start_time": "2022-05-09T21:04:57.862Z"
      },
      {
        "duration": 50,
        "start_time": "2022-05-09T21:04:58.106Z"
      },
      {
        "duration": 51,
        "start_time": "2022-05-09T21:04:58.182Z"
      },
      {
        "duration": 204,
        "start_time": "2022-05-09T21:04:58.235Z"
      },
      {
        "duration": 2595,
        "start_time": "2022-05-09T21:05:29.927Z"
      },
      {
        "duration": 708,
        "start_time": "2022-05-09T21:05:32.526Z"
      },
      {
        "duration": 108,
        "start_time": "2022-05-09T21:05:33.237Z"
      },
      {
        "duration": 137,
        "start_time": "2022-05-09T21:05:33.349Z"
      },
      {
        "duration": 246,
        "start_time": "2022-05-09T21:05:33.489Z"
      },
      {
        "duration": 76,
        "start_time": "2022-05-09T21:05:33.738Z"
      },
      {
        "duration": 80,
        "start_time": "2022-05-09T21:05:33.816Z"
      },
      {
        "duration": 183,
        "start_time": "2022-05-09T21:05:33.899Z"
      },
      {
        "duration": 40,
        "start_time": "2022-05-09T21:06:17.164Z"
      },
      {
        "duration": 17,
        "start_time": "2022-05-09T21:11:16.514Z"
      },
      {
        "duration": 105,
        "start_time": "2022-05-09T21:13:19.280Z"
      },
      {
        "duration": 23,
        "start_time": "2022-05-09T21:13:30.350Z"
      },
      {
        "duration": 32,
        "start_time": "2022-05-09T21:13:40.279Z"
      },
      {
        "duration": 21,
        "start_time": "2022-05-09T21:14:06.864Z"
      },
      {
        "duration": 25,
        "start_time": "2022-05-09T21:14:27.644Z"
      },
      {
        "duration": 21,
        "start_time": "2022-05-09T21:15:45.093Z"
      },
      {
        "duration": 2136,
        "start_time": "2022-05-09T21:35:09.266Z"
      },
      {
        "duration": 500,
        "start_time": "2022-05-09T21:35:11.405Z"
      },
      {
        "duration": 87,
        "start_time": "2022-05-09T21:35:11.907Z"
      },
      {
        "duration": 124,
        "start_time": "2022-05-09T21:35:11.996Z"
      },
      {
        "duration": 246,
        "start_time": "2022-05-09T21:35:12.123Z"
      },
      {
        "duration": 60,
        "start_time": "2022-05-09T21:35:12.371Z"
      },
      {
        "duration": 94,
        "start_time": "2022-05-09T21:35:12.434Z"
      },
      {
        "duration": 63,
        "start_time": "2022-05-09T21:35:12.531Z"
      },
      {
        "duration": 192,
        "start_time": "2022-05-09T21:35:12.597Z"
      },
      {
        "duration": 0,
        "start_time": "2022-05-09T21:35:12.792Z"
      },
      {
        "duration": 0,
        "start_time": "2022-05-09T21:35:12.794Z"
      },
      {
        "duration": 0,
        "start_time": "2022-05-09T21:35:12.796Z"
      },
      {
        "duration": 0,
        "start_time": "2022-05-09T21:35:12.799Z"
      },
      {
        "duration": 0,
        "start_time": "2022-05-09T21:35:12.801Z"
      },
      {
        "duration": 0,
        "start_time": "2022-05-09T21:35:12.803Z"
      },
      {
        "duration": 0,
        "start_time": "2022-05-09T21:35:12.805Z"
      },
      {
        "duration": 0,
        "start_time": "2022-05-09T21:35:12.807Z"
      },
      {
        "duration": 2209,
        "start_time": "2022-05-09T21:36:45.760Z"
      },
      {
        "duration": 531,
        "start_time": "2022-05-09T21:36:47.973Z"
      },
      {
        "duration": 118,
        "start_time": "2022-05-09T21:36:48.507Z"
      },
      {
        "duration": 157,
        "start_time": "2022-05-09T21:36:48.629Z"
      },
      {
        "duration": 250,
        "start_time": "2022-05-09T21:36:48.789Z"
      },
      {
        "duration": 75,
        "start_time": "2022-05-09T21:36:49.042Z"
      },
      {
        "duration": 85,
        "start_time": "2022-05-09T21:36:49.119Z"
      },
      {
        "duration": 36,
        "start_time": "2022-05-09T21:36:49.208Z"
      },
      {
        "duration": 101,
        "start_time": "2022-05-09T21:36:49.247Z"
      },
      {
        "duration": 6590,
        "start_time": "2022-05-09T21:36:49.354Z"
      },
      {
        "duration": 398,
        "start_time": "2022-05-09T21:36:55.947Z"
      },
      {
        "duration": 0,
        "start_time": "2022-05-09T21:36:56.348Z"
      },
      {
        "duration": 0,
        "start_time": "2022-05-09T21:36:56.350Z"
      },
      {
        "duration": 0,
        "start_time": "2022-05-09T21:36:56.352Z"
      },
      {
        "duration": 0,
        "start_time": "2022-05-09T21:36:56.353Z"
      },
      {
        "duration": 0,
        "start_time": "2022-05-09T21:36:56.355Z"
      },
      {
        "duration": 0,
        "start_time": "2022-05-09T21:36:56.356Z"
      },
      {
        "duration": 2067,
        "start_time": "2022-05-09T21:38:10.073Z"
      },
      {
        "duration": 520,
        "start_time": "2022-05-09T21:38:12.143Z"
      },
      {
        "duration": 104,
        "start_time": "2022-05-09T21:38:12.687Z"
      },
      {
        "duration": 127,
        "start_time": "2022-05-09T21:38:12.795Z"
      },
      {
        "duration": 256,
        "start_time": "2022-05-09T21:38:12.925Z"
      },
      {
        "duration": 56,
        "start_time": "2022-05-09T21:38:13.184Z"
      },
      {
        "duration": 89,
        "start_time": "2022-05-09T21:38:13.243Z"
      },
      {
        "duration": 64,
        "start_time": "2022-05-09T21:38:13.334Z"
      },
      {
        "duration": 52,
        "start_time": "2022-05-09T21:38:13.400Z"
      },
      {
        "duration": 5520,
        "start_time": "2022-05-09T21:38:13.454Z"
      },
      {
        "duration": 429,
        "start_time": "2022-05-09T21:38:18.977Z"
      },
      {
        "duration": 77,
        "start_time": "2022-05-09T21:38:19.410Z"
      },
      {
        "duration": 25,
        "start_time": "2022-05-09T21:38:19.492Z"
      },
      {
        "duration": 8,
        "start_time": "2022-05-09T21:38:19.523Z"
      },
      {
        "duration": 21097,
        "start_time": "2022-05-09T21:38:19.533Z"
      },
      {
        "duration": 959,
        "start_time": "2022-05-09T21:38:40.633Z"
      },
      {
        "duration": 40,
        "start_time": "2022-05-09T21:38:41.594Z"
      },
      {
        "duration": 562,
        "start_time": "2022-05-09T21:38:41.638Z"
      },
      {
        "duration": 492,
        "start_time": "2022-05-09T21:38:53.396Z"
      },
      {
        "duration": 493,
        "start_time": "2022-05-09T21:39:04.710Z"
      },
      {
        "duration": 491,
        "start_time": "2022-05-09T21:39:14.495Z"
      },
      {
        "duration": 100,
        "start_time": "2022-05-10T09:53:45.214Z"
      },
      {
        "duration": 2273,
        "start_time": "2022-05-10T09:54:14.726Z"
      },
      {
        "duration": 455,
        "start_time": "2022-05-10T09:54:17.002Z"
      },
      {
        "duration": 56,
        "start_time": "2022-05-10T09:54:17.459Z"
      },
      {
        "duration": 138,
        "start_time": "2022-05-10T09:54:17.517Z"
      },
      {
        "duration": 224,
        "start_time": "2022-05-10T09:54:17.658Z"
      },
      {
        "duration": 70,
        "start_time": "2022-05-10T09:54:17.884Z"
      },
      {
        "duration": 43,
        "start_time": "2022-05-10T09:54:17.956Z"
      },
      {
        "duration": 60,
        "start_time": "2022-05-10T09:54:18.001Z"
      },
      {
        "duration": 47,
        "start_time": "2022-05-10T09:54:18.063Z"
      },
      {
        "duration": 4952,
        "start_time": "2022-05-10T09:54:18.112Z"
      },
      {
        "duration": 495,
        "start_time": "2022-05-10T09:54:23.066Z"
      },
      {
        "duration": 4,
        "start_time": "2022-05-10T09:54:23.653Z"
      },
      {
        "duration": 11,
        "start_time": "2022-05-10T09:54:23.659Z"
      },
      {
        "duration": 6,
        "start_time": "2022-05-10T09:54:23.674Z"
      },
      {
        "duration": 18891,
        "start_time": "2022-05-10T09:54:23.682Z"
      },
      {
        "duration": 1000,
        "start_time": "2022-05-10T09:54:42.576Z"
      },
      {
        "duration": 32,
        "start_time": "2022-05-10T09:54:43.579Z"
      },
      {
        "duration": 901,
        "start_time": "2022-05-10T10:00:50.276Z"
      },
      {
        "duration": 1029,
        "start_time": "2022-05-10T10:00:56.432Z"
      },
      {
        "duration": 960,
        "start_time": "2022-05-10T10:01:02.516Z"
      },
      {
        "duration": 912,
        "start_time": "2022-05-10T10:01:09.204Z"
      },
      {
        "duration": 857,
        "start_time": "2022-05-10T10:01:21.908Z"
      },
      {
        "duration": 980,
        "start_time": "2022-05-10T10:01:27.224Z"
      },
      {
        "duration": 1111,
        "start_time": "2022-05-10T10:02:04.817Z"
      },
      {
        "duration": 25,
        "start_time": "2022-05-10T10:05:57.272Z"
      },
      {
        "duration": 6,
        "start_time": "2022-05-10T10:28:49.778Z"
      },
      {
        "duration": 162,
        "start_time": "2022-05-10T10:28:55.878Z"
      },
      {
        "duration": 5,
        "start_time": "2022-05-10T10:28:59.049Z"
      },
      {
        "duration": 5,
        "start_time": "2022-05-10T10:30:32.116Z"
      },
      {
        "duration": 6,
        "start_time": "2022-05-10T10:30:42.202Z"
      },
      {
        "duration": 6,
        "start_time": "2022-05-10T10:31:42.266Z"
      },
      {
        "duration": 6,
        "start_time": "2022-05-10T10:31:48.087Z"
      },
      {
        "duration": 6,
        "start_time": "2022-05-10T10:31:53.266Z"
      },
      {
        "duration": 91,
        "start_time": "2022-05-10T10:55:50.081Z"
      },
      {
        "duration": 92,
        "start_time": "2022-05-10T10:56:42.137Z"
      },
      {
        "duration": 105,
        "start_time": "2022-05-10T10:57:30.481Z"
      },
      {
        "duration": 93,
        "start_time": "2022-05-10T10:57:47.062Z"
      },
      {
        "duration": 601,
        "start_time": "2022-05-10T10:58:18.657Z"
      },
      {
        "duration": 95,
        "start_time": "2022-05-10T11:07:02.680Z"
      },
      {
        "duration": 106,
        "start_time": "2022-05-10T11:07:09.192Z"
      },
      {
        "duration": 7,
        "start_time": "2022-05-10T11:07:16.404Z"
      },
      {
        "duration": 27,
        "start_time": "2022-05-10T11:10:00.881Z"
      },
      {
        "duration": 33,
        "start_time": "2022-05-10T11:16:52.335Z"
      },
      {
        "duration": 29,
        "start_time": "2022-05-10T11:17:09.753Z"
      },
      {
        "duration": 32,
        "start_time": "2022-05-10T11:17:15.923Z"
      },
      {
        "duration": 35,
        "start_time": "2022-05-10T11:17:20.745Z"
      },
      {
        "duration": 35,
        "start_time": "2022-05-10T11:17:32.924Z"
      },
      {
        "duration": 133,
        "start_time": "2022-05-10T11:17:39.316Z"
      },
      {
        "duration": 34,
        "start_time": "2022-05-10T11:17:42.345Z"
      },
      {
        "duration": 33,
        "start_time": "2022-05-10T11:19:24.214Z"
      },
      {
        "duration": 40,
        "start_time": "2022-05-10T11:23:06.898Z"
      },
      {
        "duration": 33,
        "start_time": "2022-05-10T11:23:14.920Z"
      },
      {
        "duration": 36,
        "start_time": "2022-05-10T11:23:29.743Z"
      },
      {
        "duration": 30,
        "start_time": "2022-05-10T11:26:02.588Z"
      },
      {
        "duration": 985,
        "start_time": "2022-05-10T11:28:37.689Z"
      },
      {
        "duration": 536,
        "start_time": "2022-05-10T11:36:15.618Z"
      },
      {
        "duration": 523,
        "start_time": "2022-05-10T11:39:28.839Z"
      },
      {
        "duration": 4069,
        "start_time": "2022-05-10T11:42:16.621Z"
      },
      {
        "duration": 4905,
        "start_time": "2022-05-10T11:42:56.514Z"
      },
      {
        "duration": 5237,
        "start_time": "2022-05-10T11:43:21.649Z"
      },
      {
        "duration": 543,
        "start_time": "2022-05-10T11:44:51.516Z"
      },
      {
        "duration": 533,
        "start_time": "2022-05-10T11:44:58.427Z"
      },
      {
        "duration": 429,
        "start_time": "2022-05-10T11:50:51.412Z"
      },
      {
        "duration": 433,
        "start_time": "2022-05-10T11:50:59.085Z"
      },
      {
        "duration": 571,
        "start_time": "2022-05-10T11:51:47.223Z"
      },
      {
        "duration": 29,
        "start_time": "2022-05-10T12:00:49.252Z"
      },
      {
        "duration": 33,
        "start_time": "2022-05-10T12:00:53.118Z"
      },
      {
        "duration": 58,
        "start_time": "2022-05-10T12:00:58.750Z"
      },
      {
        "duration": 67,
        "start_time": "2022-05-10T12:01:12.658Z"
      },
      {
        "duration": 24,
        "start_time": "2022-05-10T12:13:41.212Z"
      },
      {
        "duration": 66,
        "start_time": "2022-05-10T13:26:37.922Z"
      },
      {
        "duration": 63,
        "start_time": "2022-05-10T13:26:42.647Z"
      },
      {
        "duration": 7970,
        "start_time": "2022-05-10T13:29:06.302Z"
      },
      {
        "duration": 6345,
        "start_time": "2022-05-10T13:29:55.473Z"
      },
      {
        "duration": 8978,
        "start_time": "2022-05-10T13:31:06.408Z"
      },
      {
        "duration": 9402,
        "start_time": "2022-05-10T13:32:16.399Z"
      },
      {
        "duration": 5631,
        "start_time": "2022-05-10T13:33:38.493Z"
      },
      {
        "duration": 5619,
        "start_time": "2022-05-10T13:34:04.343Z"
      },
      {
        "duration": 7507,
        "start_time": "2022-05-10T13:34:29.363Z"
      },
      {
        "duration": 5982,
        "start_time": "2022-05-10T13:34:42.629Z"
      },
      {
        "duration": 3130,
        "start_time": "2022-05-10T13:35:06.521Z"
      },
      {
        "duration": 2864,
        "start_time": "2022-05-10T13:35:23.374Z"
      },
      {
        "duration": 1847,
        "start_time": "2022-05-10T13:36:16.480Z"
      },
      {
        "duration": 469,
        "start_time": "2022-05-10T13:36:18.330Z"
      },
      {
        "duration": 81,
        "start_time": "2022-05-10T13:36:18.801Z"
      },
      {
        "duration": 120,
        "start_time": "2022-05-10T13:36:18.885Z"
      },
      {
        "duration": 246,
        "start_time": "2022-05-10T13:36:19.008Z"
      },
      {
        "duration": 56,
        "start_time": "2022-05-10T13:36:19.256Z"
      },
      {
        "duration": 77,
        "start_time": "2022-05-10T13:36:19.314Z"
      },
      {
        "duration": 17,
        "start_time": "2022-05-10T13:36:19.393Z"
      },
      {
        "duration": 88,
        "start_time": "2022-05-10T13:36:19.412Z"
      },
      {
        "duration": 2565,
        "start_time": "2022-05-10T13:36:19.503Z"
      },
      {
        "duration": 588,
        "start_time": "2022-05-10T13:36:22.071Z"
      },
      {
        "duration": 6,
        "start_time": "2022-05-10T13:36:22.662Z"
      },
      {
        "duration": 15,
        "start_time": "2022-05-10T13:36:22.671Z"
      },
      {
        "duration": 11,
        "start_time": "2022-05-10T13:36:22.689Z"
      },
      {
        "duration": 19514,
        "start_time": "2022-05-10T13:36:22.703Z"
      },
      {
        "duration": 978,
        "start_time": "2022-05-10T13:36:42.219Z"
      },
      {
        "duration": 63,
        "start_time": "2022-05-10T13:36:43.199Z"
      },
      {
        "duration": 46,
        "start_time": "2022-05-10T13:38:36.883Z"
      },
      {
        "duration": 1954,
        "start_time": "2022-05-10T13:38:51.785Z"
      },
      {
        "duration": 548,
        "start_time": "2022-05-10T13:38:53.743Z"
      },
      {
        "duration": 89,
        "start_time": "2022-05-10T13:38:54.293Z"
      },
      {
        "duration": 174,
        "start_time": "2022-05-10T13:38:54.386Z"
      },
      {
        "duration": 250,
        "start_time": "2022-05-10T13:38:54.564Z"
      },
      {
        "duration": 72,
        "start_time": "2022-05-10T13:38:54.817Z"
      },
      {
        "duration": 83,
        "start_time": "2022-05-10T13:38:54.892Z"
      },
      {
        "duration": 19,
        "start_time": "2022-05-10T13:38:54.977Z"
      },
      {
        "duration": 83,
        "start_time": "2022-05-10T13:38:54.999Z"
      },
      {
        "duration": 3085,
        "start_time": "2022-05-10T13:38:55.087Z"
      },
      {
        "duration": 484,
        "start_time": "2022-05-10T13:38:58.175Z"
      },
      {
        "duration": 92,
        "start_time": "2022-05-10T13:38:58.662Z"
      },
      {
        "duration": 8,
        "start_time": "2022-05-10T13:38:58.757Z"
      },
      {
        "duration": 7,
        "start_time": "2022-05-10T13:38:58.767Z"
      },
      {
        "duration": 22000,
        "start_time": "2022-05-10T13:38:58.776Z"
      },
      {
        "duration": 867,
        "start_time": "2022-05-10T13:39:20.778Z"
      },
      {
        "duration": 36,
        "start_time": "2022-05-10T13:39:21.647Z"
      },
      {
        "duration": 671,
        "start_time": "2022-05-10T13:39:21.686Z"
      },
      {
        "duration": 121,
        "start_time": "2022-05-10T13:51:16.861Z"
      },
      {
        "duration": 500,
        "start_time": "2022-05-10T13:51:34.445Z"
      },
      {
        "duration": 170,
        "start_time": "2022-05-10T13:52:07.609Z"
      },
      {
        "duration": 20,
        "start_time": "2022-05-10T13:53:49.427Z"
      },
      {
        "duration": 17,
        "start_time": "2022-05-10T13:53:56.742Z"
      },
      {
        "duration": 165,
        "start_time": "2022-05-10T13:54:07.206Z"
      },
      {
        "duration": 222,
        "start_time": "2022-05-10T13:56:21.341Z"
      },
      {
        "duration": 33,
        "start_time": "2022-05-10T13:56:45.126Z"
      },
      {
        "duration": 279,
        "start_time": "2022-05-10T13:57:05.178Z"
      },
      {
        "duration": 532,
        "start_time": "2022-05-10T13:58:29.321Z"
      },
      {
        "duration": 484,
        "start_time": "2022-05-10T13:58:42.585Z"
      },
      {
        "duration": 106,
        "start_time": "2022-05-10T14:00:42.559Z"
      },
      {
        "duration": 337,
        "start_time": "2022-05-10T14:00:51.117Z"
      },
      {
        "duration": 511,
        "start_time": "2022-05-10T14:01:55.953Z"
      },
      {
        "duration": 421,
        "start_time": "2022-05-10T14:03:16.442Z"
      },
      {
        "duration": 585,
        "start_time": "2022-05-10T14:03:23.773Z"
      },
      {
        "duration": 479,
        "start_time": "2022-05-10T14:11:22.388Z"
      },
      {
        "duration": 21,
        "start_time": "2022-05-10T14:11:45.516Z"
      },
      {
        "duration": 407,
        "start_time": "2022-05-10T14:12:19.068Z"
      },
      {
        "duration": 175,
        "start_time": "2022-05-10T14:18:55.478Z"
      },
      {
        "duration": 356,
        "start_time": "2022-05-10T14:19:12.201Z"
      },
      {
        "duration": 1920,
        "start_time": "2022-05-10T14:19:52.616Z"
      },
      {
        "duration": 478,
        "start_time": "2022-05-10T14:19:54.538Z"
      },
      {
        "duration": 84,
        "start_time": "2022-05-10T14:19:55.018Z"
      },
      {
        "duration": 122,
        "start_time": "2022-05-10T14:19:55.104Z"
      },
      {
        "duration": 251,
        "start_time": "2022-05-10T14:19:55.231Z"
      },
      {
        "duration": 72,
        "start_time": "2022-05-10T14:19:55.484Z"
      },
      {
        "duration": 47,
        "start_time": "2022-05-10T14:19:55.563Z"
      },
      {
        "duration": 39,
        "start_time": "2022-05-10T14:19:55.612Z"
      },
      {
        "duration": 51,
        "start_time": "2022-05-10T14:19:55.654Z"
      },
      {
        "duration": 4026,
        "start_time": "2022-05-10T14:19:55.707Z"
      },
      {
        "duration": 618,
        "start_time": "2022-05-10T14:19:59.735Z"
      },
      {
        "duration": 4,
        "start_time": "2022-05-10T14:20:00.365Z"
      },
      {
        "duration": 20,
        "start_time": "2022-05-10T14:20:00.372Z"
      },
      {
        "duration": 470,
        "start_time": "2022-05-10T14:20:00.395Z"
      },
      {
        "duration": 20500,
        "start_time": "2022-05-10T14:20:00.868Z"
      },
      {
        "duration": 953,
        "start_time": "2022-05-10T14:20:21.372Z"
      },
      {
        "duration": 46,
        "start_time": "2022-05-10T14:20:22.327Z"
      },
      {
        "duration": 1895,
        "start_time": "2022-05-10T14:25:02.392Z"
      },
      {
        "duration": 512,
        "start_time": "2022-05-10T14:25:04.291Z"
      },
      {
        "duration": 93,
        "start_time": "2022-05-10T14:25:04.805Z"
      },
      {
        "duration": 174,
        "start_time": "2022-05-10T14:25:04.901Z"
      },
      {
        "duration": 279,
        "start_time": "2022-05-10T14:25:05.078Z"
      },
      {
        "duration": 55,
        "start_time": "2022-05-10T14:25:05.361Z"
      },
      {
        "duration": 82,
        "start_time": "2022-05-10T14:25:05.418Z"
      },
      {
        "duration": 18,
        "start_time": "2022-05-10T14:25:05.502Z"
      },
      {
        "duration": 85,
        "start_time": "2022-05-10T14:25:05.523Z"
      },
      {
        "duration": 2734,
        "start_time": "2022-05-10T14:25:05.610Z"
      },
      {
        "duration": 604,
        "start_time": "2022-05-10T14:25:08.355Z"
      },
      {
        "duration": 6,
        "start_time": "2022-05-10T14:25:08.962Z"
      },
      {
        "duration": 9,
        "start_time": "2022-05-10T14:25:08.971Z"
      },
      {
        "duration": 493,
        "start_time": "2022-05-10T14:25:08.984Z"
      },
      {
        "duration": 20916,
        "start_time": "2022-05-10T14:25:09.553Z"
      },
      {
        "duration": 917,
        "start_time": "2022-05-10T14:25:30.472Z"
      },
      {
        "duration": 69,
        "start_time": "2022-05-10T14:25:31.391Z"
      },
      {
        "duration": 1924,
        "start_time": "2022-05-10T14:28:07.494Z"
      },
      {
        "duration": 510,
        "start_time": "2022-05-10T14:28:09.421Z"
      },
      {
        "duration": 77,
        "start_time": "2022-05-10T14:28:09.934Z"
      },
      {
        "duration": 155,
        "start_time": "2022-05-10T14:28:10.013Z"
      },
      {
        "duration": 247,
        "start_time": "2022-05-10T14:28:10.172Z"
      },
      {
        "duration": 69,
        "start_time": "2022-05-10T14:28:10.421Z"
      },
      {
        "duration": 86,
        "start_time": "2022-05-10T14:28:10.493Z"
      },
      {
        "duration": 17,
        "start_time": "2022-05-10T14:28:10.582Z"
      },
      {
        "duration": 80,
        "start_time": "2022-05-10T14:28:10.602Z"
      },
      {
        "duration": 2553,
        "start_time": "2022-05-10T14:28:10.685Z"
      },
      {
        "duration": 615,
        "start_time": "2022-05-10T14:28:13.241Z"
      },
      {
        "duration": 7,
        "start_time": "2022-05-10T14:28:13.860Z"
      },
      {
        "duration": 13,
        "start_time": "2022-05-10T14:28:13.870Z"
      },
      {
        "duration": 467,
        "start_time": "2022-05-10T14:28:13.887Z"
      },
      {
        "duration": 21660,
        "start_time": "2022-05-10T14:28:14.357Z"
      },
      {
        "duration": 907,
        "start_time": "2022-05-10T14:28:36.020Z"
      },
      {
        "duration": 48,
        "start_time": "2022-05-10T14:28:36.930Z"
      },
      {
        "duration": 2320,
        "start_time": "2022-05-10T14:28:39.846Z"
      },
      {
        "duration": 516,
        "start_time": "2022-05-10T14:28:42.169Z"
      },
      {
        "duration": 94,
        "start_time": "2022-05-10T14:28:42.687Z"
      },
      {
        "duration": 121,
        "start_time": "2022-05-10T14:28:42.783Z"
      },
      {
        "duration": 227,
        "start_time": "2022-05-10T14:28:42.908Z"
      },
      {
        "duration": 70,
        "start_time": "2022-05-10T14:28:43.137Z"
      },
      {
        "duration": 82,
        "start_time": "2022-05-10T14:28:43.210Z"
      },
      {
        "duration": 16,
        "start_time": "2022-05-10T14:28:43.295Z"
      },
      {
        "duration": 73,
        "start_time": "2022-05-10T14:28:43.314Z"
      },
      {
        "duration": 2366,
        "start_time": "2022-05-10T14:28:43.389Z"
      },
      {
        "duration": 593,
        "start_time": "2022-05-10T14:28:45.758Z"
      },
      {
        "duration": 6,
        "start_time": "2022-05-10T14:28:46.353Z"
      },
      {
        "duration": 11,
        "start_time": "2022-05-10T14:28:46.361Z"
      },
      {
        "duration": 493,
        "start_time": "2022-05-10T14:28:46.376Z"
      },
      {
        "duration": 21146,
        "start_time": "2022-05-10T14:28:46.872Z"
      },
      {
        "duration": 1069,
        "start_time": "2022-05-10T14:29:08.020Z"
      },
      {
        "duration": 69,
        "start_time": "2022-05-10T14:29:09.091Z"
      },
      {
        "duration": 1913,
        "start_time": "2022-05-10T14:31:20.967Z"
      },
      {
        "duration": 497,
        "start_time": "2022-05-10T14:31:22.883Z"
      },
      {
        "duration": 119,
        "start_time": "2022-05-10T14:31:23.383Z"
      },
      {
        "duration": 163,
        "start_time": "2022-05-10T14:31:23.507Z"
      },
      {
        "duration": 300,
        "start_time": "2022-05-10T14:31:23.673Z"
      },
      {
        "duration": 49,
        "start_time": "2022-05-10T14:31:23.975Z"
      },
      {
        "duration": 80,
        "start_time": "2022-05-10T14:31:24.026Z"
      },
      {
        "duration": 43,
        "start_time": "2022-05-10T14:31:24.109Z"
      },
      {
        "duration": 52,
        "start_time": "2022-05-10T14:31:24.155Z"
      },
      {
        "duration": 3013,
        "start_time": "2022-05-10T14:31:24.210Z"
      },
      {
        "duration": 544,
        "start_time": "2022-05-10T14:31:27.226Z"
      },
      {
        "duration": 79,
        "start_time": "2022-05-10T14:31:27.775Z"
      },
      {
        "duration": 13,
        "start_time": "2022-05-10T14:31:27.857Z"
      },
      {
        "duration": 490,
        "start_time": "2022-05-10T14:31:27.876Z"
      },
      {
        "duration": 20074,
        "start_time": "2022-05-10T14:31:28.371Z"
      },
      {
        "duration": 860,
        "start_time": "2022-05-10T14:31:48.448Z"
      },
      {
        "duration": 60,
        "start_time": "2022-05-10T14:31:49.310Z"
      },
      {
        "duration": 1572,
        "start_time": "2022-05-11T06:14:16.958Z"
      },
      {
        "duration": 412,
        "start_time": "2022-05-11T06:14:18.532Z"
      },
      {
        "duration": 73,
        "start_time": "2022-05-11T06:14:18.946Z"
      },
      {
        "duration": 97,
        "start_time": "2022-05-11T06:14:19.022Z"
      },
      {
        "duration": 163,
        "start_time": "2022-05-11T06:14:19.122Z"
      },
      {
        "duration": 53,
        "start_time": "2022-05-11T06:14:19.287Z"
      },
      {
        "duration": 73,
        "start_time": "2022-05-11T06:14:19.342Z"
      },
      {
        "duration": 15,
        "start_time": "2022-05-11T06:14:19.417Z"
      },
      {
        "duration": 39,
        "start_time": "2022-05-11T06:14:19.434Z"
      },
      {
        "duration": 1600,
        "start_time": "2022-05-11T06:14:19.475Z"
      },
      {
        "duration": 162,
        "start_time": "2022-05-11T06:14:21.077Z"
      },
      {
        "duration": 0,
        "start_time": "2022-05-11T06:14:21.241Z"
      },
      {
        "duration": 0,
        "start_time": "2022-05-11T06:14:21.242Z"
      },
      {
        "duration": 0,
        "start_time": "2022-05-11T06:14:21.243Z"
      },
      {
        "duration": 0,
        "start_time": "2022-05-11T06:14:21.245Z"
      },
      {
        "duration": 0,
        "start_time": "2022-05-11T06:14:21.246Z"
      },
      {
        "duration": 0,
        "start_time": "2022-05-11T06:14:21.247Z"
      },
      {
        "duration": 1374,
        "start_time": "2022-05-11T06:14:34.834Z"
      },
      {
        "duration": 379,
        "start_time": "2022-05-11T06:14:36.210Z"
      },
      {
        "duration": 56,
        "start_time": "2022-05-11T06:14:36.591Z"
      },
      {
        "duration": 83,
        "start_time": "2022-05-11T06:14:36.648Z"
      },
      {
        "duration": 175,
        "start_time": "2022-05-11T06:14:36.733Z"
      },
      {
        "duration": 40,
        "start_time": "2022-05-11T06:14:36.910Z"
      },
      {
        "duration": 65,
        "start_time": "2022-05-11T06:14:36.952Z"
      },
      {
        "duration": 13,
        "start_time": "2022-05-11T06:14:37.019Z"
      },
      {
        "duration": 44,
        "start_time": "2022-05-11T06:14:37.033Z"
      },
      {
        "duration": 1603,
        "start_time": "2022-05-11T06:14:37.079Z"
      },
      {
        "duration": 530,
        "start_time": "2022-05-11T06:14:38.685Z"
      },
      {
        "duration": 4,
        "start_time": "2022-05-11T06:14:39.217Z"
      },
      {
        "duration": 90,
        "start_time": "2022-05-11T06:14:39.223Z"
      },
      {
        "duration": 491,
        "start_time": "2022-05-11T06:14:39.317Z"
      },
      {
        "duration": 11911,
        "start_time": "2022-05-11T06:14:39.811Z"
      },
      {
        "duration": 544,
        "start_time": "2022-05-11T06:14:51.724Z"
      },
      {
        "duration": 42,
        "start_time": "2022-05-11T06:14:52.270Z"
      },
      {
        "duration": 484,
        "start_time": "2022-05-11T06:15:00.330Z"
      },
      {
        "duration": 1341,
        "start_time": "2022-05-11T06:22:54.855Z"
      },
      {
        "duration": 365,
        "start_time": "2022-05-11T06:22:56.198Z"
      },
      {
        "duration": 54,
        "start_time": "2022-05-11T06:22:56.564Z"
      },
      {
        "duration": 69,
        "start_time": "2022-05-11T06:22:56.619Z"
      },
      {
        "duration": 151,
        "start_time": "2022-05-11T06:22:56.709Z"
      },
      {
        "duration": 57,
        "start_time": "2022-05-11T06:22:56.862Z"
      },
      {
        "duration": 34,
        "start_time": "2022-05-11T06:22:56.920Z"
      },
      {
        "duration": 12,
        "start_time": "2022-05-11T06:22:56.956Z"
      },
      {
        "duration": 66,
        "start_time": "2022-05-11T06:22:56.970Z"
      },
      {
        "duration": 1494,
        "start_time": "2022-05-11T06:22:57.038Z"
      },
      {
        "duration": 483,
        "start_time": "2022-05-11T06:22:58.534Z"
      },
      {
        "duration": 3,
        "start_time": "2022-05-11T06:22:59.108Z"
      },
      {
        "duration": 7,
        "start_time": "2022-05-11T06:22:59.112Z"
      },
      {
        "duration": 390,
        "start_time": "2022-05-11T06:22:59.121Z"
      },
      {
        "duration": 12324,
        "start_time": "2022-05-11T06:22:59.513Z"
      },
      {
        "duration": 569,
        "start_time": "2022-05-11T06:23:11.839Z"
      },
      {
        "duration": 24,
        "start_time": "2022-05-11T06:23:12.410Z"
      },
      {
        "duration": 119,
        "start_time": "2022-05-11T06:32:32.882Z"
      },
      {
        "duration": 24,
        "start_time": "2022-05-11T06:32:59.299Z"
      },
      {
        "duration": 20,
        "start_time": "2022-05-11T06:45:52.721Z"
      },
      {
        "duration": 1433,
        "start_time": "2022-05-11T06:48:04.320Z"
      },
      {
        "duration": 413,
        "start_time": "2022-05-11T06:48:05.755Z"
      },
      {
        "duration": 63,
        "start_time": "2022-05-11T06:48:06.169Z"
      },
      {
        "duration": 95,
        "start_time": "2022-05-11T06:48:06.234Z"
      },
      {
        "duration": 158,
        "start_time": "2022-05-11T06:48:06.331Z"
      },
      {
        "duration": 54,
        "start_time": "2022-05-11T06:48:06.490Z"
      },
      {
        "duration": 74,
        "start_time": "2022-05-11T06:48:06.546Z"
      },
      {
        "duration": 15,
        "start_time": "2022-05-11T06:48:06.622Z"
      },
      {
        "duration": 45,
        "start_time": "2022-05-11T06:48:06.639Z"
      },
      {
        "duration": 1663,
        "start_time": "2022-05-11T06:48:06.686Z"
      },
      {
        "duration": 467,
        "start_time": "2022-05-11T06:48:08.350Z"
      },
      {
        "duration": 4,
        "start_time": "2022-05-11T06:48:08.819Z"
      },
      {
        "duration": 7,
        "start_time": "2022-05-11T06:48:08.825Z"
      },
      {
        "duration": 376,
        "start_time": "2022-05-11T06:48:08.834Z"
      },
      {
        "duration": 13444,
        "start_time": "2022-05-11T06:48:09.212Z"
      },
      {
        "duration": 609,
        "start_time": "2022-05-11T06:48:22.658Z"
      },
      {
        "duration": 44,
        "start_time": "2022-05-11T06:48:23.269Z"
      }
    ],
    "kernelspec": {
      "name": "python",
      "display_name": "Python (Pyodide)",
      "language": "python"
    },
    "language_info": {
      "codemirror_mode": {
        "name": "python",
        "version": 3
      },
      "file_extension": ".py",
      "mimetype": "text/x-python",
      "name": "python",
      "nbconvert_exporter": "python",
      "pygments_lexer": "ipython3",
      "version": "3.8"
    },
    "toc": {
      "base_numbering": 1,
      "nav_menu": {},
      "number_sections": true,
      "sideBar": true,
      "skip_h1_title": true,
      "title_cell": "Table of Contents",
      "title_sidebar": "Contents",
      "toc_cell": false,
      "toc_position": {},
      "toc_section_display": true,
      "toc_window_display": false
    }
  },
  "nbformat_minor": 4,
  "nbformat": 4,
  "cells": [
    {
      "cell_type": "markdown",
      "source": "# Choosing a location for a well",
      "metadata": {}
    },
    {
      "cell_type": "markdown",
      "source": "Let's say you work for the mining company GlavRosGosNeft. We need to decide where to drill a new well.\n\nYou have been provided with oil samples in three regions: in each of 10,000 fields, where the quality of oil and the volume of its reserves have been measured. Build a machine learning model to help determine the region where mining will bring the most profit. Analyze possible profits and risks using the *Bootstrap* technique\n\nSteps to choose a location:\n\n- In the selected region, they are looking for deposits, for each, the values of the signs are determined;\n- Build a model and estimate the volume of reserves;\n- Select the deposits with the highest value estimates. The number of fields depends on the company's budget and the cost of developing one well;\n- The profit is equal to the total profit of the selected deposits.\n\n**Conditions of the problem:**\nOnly linear regression is suitable for training the model (the rest are not predictable enough).\nDuring the exploration of the region, 500 points are explored, from which, using machine learning, the best 200 are selected for development.\nThe budget for the development of wells in the region is 10 billion rubles.\nAt current prices, one barrel of raw materials brings 450 rubles of income. The income from each unit of the product is 450 thousand rubles, since the volume is indicated in thousands of barrels.\nAfter assessing the risks, you need to leave only those regions in which the probability of losses is less than 2.5%. Among them, choose the region with the highest average profit.",
      "metadata": {}
    },
    {
      "cell_type": "markdown",
      "source": "Content\n1. [Loading and preparing data](#start)\n2. [Training and checking models](#model_training)\n3. [Preparation for profit calculation](#prep)\n4. [Calculation of profit and risks](#profit)",
      "metadata": {}
    },
    {
      "cell_type": "markdown",
      "source": "## Loading and preparing data <a id='start'></a> ",
      "metadata": {}
    },
    {
      "cell_type": "code",
      "source": "import pandas as pd\nimport matplotlib.pyplot as plt\nimport numpy as np\nfrom sklearn.linear_model import LinearRegression\nfrom sklearn.ensemble import RandomForestClassifier\nfrom sklearn.model_selection import train_test_split\nfrom sklearn.preprocessing import StandardScaler\nfrom sklearn.metrics import mean_squared_error, r2_score\nfrom sklearn.utils import shuffle",
      "metadata": {},
      "execution_count": 1,
      "outputs": []
    },
    {
      "cell_type": "code",
      "source": "geo_data_0 = pd.read_csv('/datasets/geo_data_0.csv')\ngeo_data_1 = pd.read_csv('/datasets/geo_data_1.csv')\ngeo_data_2 = pd.read_csv('/datasets/geo_data_2.csv')\n\ndfs = [geo_data_0, geo_data_1, geo_data_2]\n\ngeo_data_0.name = 'geo_data_0'   \ngeo_data_1.name = 'geo_data_1'\ngeo_data_2.name = 'geo_data_2'\n\nfor df in dfs:\n    display(df.name, df.head())",
      "metadata": {},
      "execution_count": 2,
      "outputs": [
        {
          "output_type": "display_data",
          "data": {
            "text/plain": [
              "'geo_data_0'"
            ]
          },
          "metadata": {}
        },
        {
          "output_type": "display_data",
          "data": {
            "text/html": [
              "<div>\n",
              "<style scoped>\n",
              "    .dataframe tbody tr th:only-of-type {\n",
              "        vertical-align: middle;\n",
              "    }\n",
              "\n",
              "    .dataframe tbody tr th {\n",
              "        vertical-align: top;\n",
              "    }\n",
              "\n",
              "    .dataframe thead th {\n",
              "        text-align: right;\n",
              "    }\n",
              "</style>\n",
              "<table border=\"1\" class=\"dataframe\">\n",
              "  <thead>\n",
              "    <tr style=\"text-align: right;\">\n",
              "      <th></th>\n",
              "      <th>id</th>\n",
              "      <th>f0</th>\n",
              "      <th>f1</th>\n",
              "      <th>f2</th>\n",
              "      <th>product</th>\n",
              "    </tr>\n",
              "  </thead>\n",
              "  <tbody>\n",
              "    <tr>\n",
              "      <th>0</th>\n",
              "      <td>txEyH</td>\n",
              "      <td>0.705745</td>\n",
              "      <td>-0.497823</td>\n",
              "      <td>1.221170</td>\n",
              "      <td>105.280062</td>\n",
              "    </tr>\n",
              "    <tr>\n",
              "      <th>1</th>\n",
              "      <td>2acmU</td>\n",
              "      <td>1.334711</td>\n",
              "      <td>-0.340164</td>\n",
              "      <td>4.365080</td>\n",
              "      <td>73.037750</td>\n",
              "    </tr>\n",
              "    <tr>\n",
              "      <th>2</th>\n",
              "      <td>409Wp</td>\n",
              "      <td>1.022732</td>\n",
              "      <td>0.151990</td>\n",
              "      <td>1.419926</td>\n",
              "      <td>85.265647</td>\n",
              "    </tr>\n",
              "    <tr>\n",
              "      <th>3</th>\n",
              "      <td>iJLyR</td>\n",
              "      <td>-0.032172</td>\n",
              "      <td>0.139033</td>\n",
              "      <td>2.978566</td>\n",
              "      <td>168.620776</td>\n",
              "    </tr>\n",
              "    <tr>\n",
              "      <th>4</th>\n",
              "      <td>Xdl7t</td>\n",
              "      <td>1.988431</td>\n",
              "      <td>0.155413</td>\n",
              "      <td>4.751769</td>\n",
              "      <td>154.036647</td>\n",
              "    </tr>\n",
              "  </tbody>\n",
              "</table>\n",
              "</div>"
            ],
            "text/plain": [
              "      id        f0        f1        f2     product\n",
              "0  txEyH  0.705745 -0.497823  1.221170  105.280062\n",
              "1  2acmU  1.334711 -0.340164  4.365080   73.037750\n",
              "2  409Wp  1.022732  0.151990  1.419926   85.265647\n",
              "3  iJLyR -0.032172  0.139033  2.978566  168.620776\n",
              "4  Xdl7t  1.988431  0.155413  4.751769  154.036647"
            ]
          },
          "metadata": {}
        },
        {
          "output_type": "display_data",
          "data": {
            "text/plain": [
              "'geo_data_1'"
            ]
          },
          "metadata": {}
        },
        {
          "output_type": "display_data",
          "data": {
            "text/html": [
              "<div>\n",
              "<style scoped>\n",
              "    .dataframe tbody tr th:only-of-type {\n",
              "        vertical-align: middle;\n",
              "    }\n",
              "\n",
              "    .dataframe tbody tr th {\n",
              "        vertical-align: top;\n",
              "    }\n",
              "\n",
              "    .dataframe thead th {\n",
              "        text-align: right;\n",
              "    }\n",
              "</style>\n",
              "<table border=\"1\" class=\"dataframe\">\n",
              "  <thead>\n",
              "    <tr style=\"text-align: right;\">\n",
              "      <th></th>\n",
              "      <th>id</th>\n",
              "      <th>f0</th>\n",
              "      <th>f1</th>\n",
              "      <th>f2</th>\n",
              "      <th>product</th>\n",
              "    </tr>\n",
              "  </thead>\n",
              "  <tbody>\n",
              "    <tr>\n",
              "      <th>0</th>\n",
              "      <td>kBEdx</td>\n",
              "      <td>-15.001348</td>\n",
              "      <td>-8.276000</td>\n",
              "      <td>-0.005876</td>\n",
              "      <td>3.179103</td>\n",
              "    </tr>\n",
              "    <tr>\n",
              "      <th>1</th>\n",
              "      <td>62mP7</td>\n",
              "      <td>14.272088</td>\n",
              "      <td>-3.475083</td>\n",
              "      <td>0.999183</td>\n",
              "      <td>26.953261</td>\n",
              "    </tr>\n",
              "    <tr>\n",
              "      <th>2</th>\n",
              "      <td>vyE1P</td>\n",
              "      <td>6.263187</td>\n",
              "      <td>-5.948386</td>\n",
              "      <td>5.001160</td>\n",
              "      <td>134.766305</td>\n",
              "    </tr>\n",
              "    <tr>\n",
              "      <th>3</th>\n",
              "      <td>KcrkZ</td>\n",
              "      <td>-13.081196</td>\n",
              "      <td>-11.506057</td>\n",
              "      <td>4.999415</td>\n",
              "      <td>137.945408</td>\n",
              "    </tr>\n",
              "    <tr>\n",
              "      <th>4</th>\n",
              "      <td>AHL4O</td>\n",
              "      <td>12.702195</td>\n",
              "      <td>-8.147433</td>\n",
              "      <td>5.004363</td>\n",
              "      <td>134.766305</td>\n",
              "    </tr>\n",
              "  </tbody>\n",
              "</table>\n",
              "</div>"
            ],
            "text/plain": [
              "      id         f0         f1        f2     product\n",
              "0  kBEdx -15.001348  -8.276000 -0.005876    3.179103\n",
              "1  62mP7  14.272088  -3.475083  0.999183   26.953261\n",
              "2  vyE1P   6.263187  -5.948386  5.001160  134.766305\n",
              "3  KcrkZ -13.081196 -11.506057  4.999415  137.945408\n",
              "4  AHL4O  12.702195  -8.147433  5.004363  134.766305"
            ]
          },
          "metadata": {}
        },
        {
          "output_type": "display_data",
          "data": {
            "text/plain": [
              "'geo_data_2'"
            ]
          },
          "metadata": {}
        },
        {
          "output_type": "display_data",
          "data": {
            "text/html": [
              "<div>\n",
              "<style scoped>\n",
              "    .dataframe tbody tr th:only-of-type {\n",
              "        vertical-align: middle;\n",
              "    }\n",
              "\n",
              "    .dataframe tbody tr th {\n",
              "        vertical-align: top;\n",
              "    }\n",
              "\n",
              "    .dataframe thead th {\n",
              "        text-align: right;\n",
              "    }\n",
              "</style>\n",
              "<table border=\"1\" class=\"dataframe\">\n",
              "  <thead>\n",
              "    <tr style=\"text-align: right;\">\n",
              "      <th></th>\n",
              "      <th>id</th>\n",
              "      <th>f0</th>\n",
              "      <th>f1</th>\n",
              "      <th>f2</th>\n",
              "      <th>product</th>\n",
              "    </tr>\n",
              "  </thead>\n",
              "  <tbody>\n",
              "    <tr>\n",
              "      <th>0</th>\n",
              "      <td>fwXo0</td>\n",
              "      <td>-1.146987</td>\n",
              "      <td>0.963328</td>\n",
              "      <td>-0.828965</td>\n",
              "      <td>27.758673</td>\n",
              "    </tr>\n",
              "    <tr>\n",
              "      <th>1</th>\n",
              "      <td>WJtFt</td>\n",
              "      <td>0.262778</td>\n",
              "      <td>0.269839</td>\n",
              "      <td>-2.530187</td>\n",
              "      <td>56.069697</td>\n",
              "    </tr>\n",
              "    <tr>\n",
              "      <th>2</th>\n",
              "      <td>ovLUW</td>\n",
              "      <td>0.194587</td>\n",
              "      <td>0.289035</td>\n",
              "      <td>-5.586433</td>\n",
              "      <td>62.871910</td>\n",
              "    </tr>\n",
              "    <tr>\n",
              "      <th>3</th>\n",
              "      <td>q6cA6</td>\n",
              "      <td>2.236060</td>\n",
              "      <td>-0.553760</td>\n",
              "      <td>0.930038</td>\n",
              "      <td>114.572842</td>\n",
              "    </tr>\n",
              "    <tr>\n",
              "      <th>4</th>\n",
              "      <td>WPMUX</td>\n",
              "      <td>-0.515993</td>\n",
              "      <td>1.716266</td>\n",
              "      <td>5.899011</td>\n",
              "      <td>149.600746</td>\n",
              "    </tr>\n",
              "  </tbody>\n",
              "</table>\n",
              "</div>"
            ],
            "text/plain": [
              "      id        f0        f1        f2     product\n",
              "0  fwXo0 -1.146987  0.963328 -0.828965   27.758673\n",
              "1  WJtFt  0.262778  0.269839 -2.530187   56.069697\n",
              "2  ovLUW  0.194587  0.289035 -5.586433   62.871910\n",
              "3  q6cA6  2.236060 -0.553760  0.930038  114.572842\n",
              "4  WPMUX -0.515993  1.716266  5.899011  149.600746"
            ]
          },
          "metadata": {}
        }
      ]
    },
    {
      "cell_type": "code",
      "source": "for df in dfs:\n    display(df.info())",
      "metadata": {},
      "execution_count": 3,
      "outputs": [
        {
          "name": "stdout",
          "output_type": "stream",
          "text": "<class 'pandas.core.frame.DataFrame'>\n\nRangeIndex: 100000 entries, 0 to 99999\n\nData columns (total 5 columns):\n\n #   Column   Non-Null Count   Dtype  \n\n---  ------   --------------   -----  \n\n 0   id       100000 non-null  object \n\n 1   f0       100000 non-null  float64\n\n 2   f1       100000 non-null  float64\n\n 3   f2       100000 non-null  float64\n\n 4   product  100000 non-null  float64\n\ndtypes: float64(4), object(1)\n\nmemory usage: 3.8+ MB\n"
        },
        {
          "output_type": "display_data",
          "data": {
            "text/plain": [
              "None"
            ]
          },
          "metadata": {}
        },
        {
          "name": "stdout",
          "output_type": "stream",
          "text": "<class 'pandas.core.frame.DataFrame'>\n\nRangeIndex: 100000 entries, 0 to 99999\n\nData columns (total 5 columns):\n\n #   Column   Non-Null Count   Dtype  \n\n---  ------   --------------   -----  \n\n 0   id       100000 non-null  object \n\n 1   f0       100000 non-null  float64\n\n 2   f1       100000 non-null  float64\n\n 3   f2       100000 non-null  float64\n\n 4   product  100000 non-null  float64\n\ndtypes: float64(4), object(1)\n\nmemory usage: 3.8+ MB\n"
        },
        {
          "output_type": "display_data",
          "data": {
            "text/plain": [
              "None"
            ]
          },
          "metadata": {}
        },
        {
          "name": "stdout",
          "output_type": "stream",
          "text": "<class 'pandas.core.frame.DataFrame'>\n\nRangeIndex: 100000 entries, 0 to 99999\n\nData columns (total 5 columns):\n\n #   Column   Non-Null Count   Dtype  \n\n---  ------   --------------   -----  \n\n 0   id       100000 non-null  object \n\n 1   f0       100000 non-null  float64\n\n 2   f1       100000 non-null  float64\n\n 3   f2       100000 non-null  float64\n\n 4   product  100000 non-null  float64\n\ndtypes: float64(4), object(1)\n\nmemory usage: 3.8+ MB\n"
        },
        {
          "output_type": "display_data",
          "data": {
            "text/plain": [
              "None"
            ]
          },
          "metadata": {}
        }
      ]
    },
    {
      "cell_type": "markdown",
      "source": "Primary analysis of exploration data of three regions showed:\n1. The table provides information:\n* id - unique identifier of the well;\n* f0, f1, f2 - three signs of points (it doesn't matter what they mean, but the signs themselves are significant);\n* product - the volume of reserves in the well (thousand barrels).\n\n2. There are no gaps.\n3. In all dataframes id - object, f0, f1, f2, product - float64.\n4. Quantitative data (f0, f1, f2, product) have a different scale (scatter of values).",
      "metadata": {}
    },
    {
      "cell_type": "markdown",
      "source": "Check dataframes for duplicates. We will assume that the lines are duplicated if they have repeated values ​​in the id column.",
      "metadata": {}
    },
    {
      "cell_type": "code",
      "source": "for df in dfs:\n    display('Number of duplicates in a dataframe {}: {}'\n            .format(df.name, df[df.duplicated('id', keep=False)]\n            .shape[0]))",
      "metadata": {},
      "execution_count": 4,
      "outputs": [
        {
          "output_type": "display_data",
          "data": {
            "text/plain": [
              "'Количество дублей в датафрейме geo_data_0: 20'"
            ]
          },
          "metadata": {}
        },
        {
          "output_type": "display_data",
          "data": {
            "text/plain": [
              "'Количество дублей в датафрейме geo_data_1: 8'"
            ]
          },
          "metadata": {}
        },
        {
          "output_type": "display_data",
          "data": {
            "text/plain": [
              "'Количество дублей в датафрейме geo_data_2: 8'"
            ]
          },
          "metadata": {}
        }
      ]
    },
    {
      "cell_type": "markdown",
      "source": "The number of duplicates is small and amounts to 2% in geo_data_0, 0.8% in geo_data_1, 0.8% in geo_data_2, so we will remove them from dataframes.",
      "metadata": {}
    },
    {
      "cell_type": "code",
      "source": "for df in dfs:\n    name = df.name\n    df = df.drop_duplicates(subset='id', keep=False).reset_index(drop=True)\n    df.name = name\n    display('Number of duplicates in dataframe {} after deletion: {}'\n            .format(df.name, df[df.duplicated('id', keep=False)]\n            .shape[0]))",
      "metadata": {},
      "execution_count": 5,
      "outputs": [
        {
          "output_type": "display_data",
          "data": {
            "text/plain": [
              "'Количествово дублей в датафрейме geo_data_0 после удаления: 0'"
            ]
          },
          "metadata": {}
        },
        {
          "output_type": "display_data",
          "data": {
            "text/plain": [
              "'Количествово дублей в датафрейме geo_data_1 после удаления: 0'"
            ]
          },
          "metadata": {}
        },
        {
          "output_type": "display_data",
          "data": {
            "text/plain": [
              "'Количествово дублей в датафрейме geo_data_2 после удаления: 0'"
            ]
          },
          "metadata": {}
        }
      ]
    },
    {
      "cell_type": "markdown",
      "source": "Let's remove the identifier column (id), which will not be used in the model.",
      "metadata": {}
    },
    {
      "cell_type": "code",
      "source": "for df in dfs:\n    df.drop('id', axis=1, inplace=True)\n    display(df.name, df.head())",
      "metadata": {},
      "execution_count": 6,
      "outputs": [
        {
          "output_type": "display_data",
          "data": {
            "text/plain": [
              "'geo_data_0'"
            ]
          },
          "metadata": {}
        },
        {
          "output_type": "display_data",
          "data": {
            "text/html": [
              "<div>\n",
              "<style scoped>\n",
              "    .dataframe tbody tr th:only-of-type {\n",
              "        vertical-align: middle;\n",
              "    }\n",
              "\n",
              "    .dataframe tbody tr th {\n",
              "        vertical-align: top;\n",
              "    }\n",
              "\n",
              "    .dataframe thead th {\n",
              "        text-align: right;\n",
              "    }\n",
              "</style>\n",
              "<table border=\"1\" class=\"dataframe\">\n",
              "  <thead>\n",
              "    <tr style=\"text-align: right;\">\n",
              "      <th></th>\n",
              "      <th>f0</th>\n",
              "      <th>f1</th>\n",
              "      <th>f2</th>\n",
              "      <th>product</th>\n",
              "    </tr>\n",
              "  </thead>\n",
              "  <tbody>\n",
              "    <tr>\n",
              "      <th>0</th>\n",
              "      <td>0.705745</td>\n",
              "      <td>-0.497823</td>\n",
              "      <td>1.221170</td>\n",
              "      <td>105.280062</td>\n",
              "    </tr>\n",
              "    <tr>\n",
              "      <th>1</th>\n",
              "      <td>1.334711</td>\n",
              "      <td>-0.340164</td>\n",
              "      <td>4.365080</td>\n",
              "      <td>73.037750</td>\n",
              "    </tr>\n",
              "    <tr>\n",
              "      <th>2</th>\n",
              "      <td>1.022732</td>\n",
              "      <td>0.151990</td>\n",
              "      <td>1.419926</td>\n",
              "      <td>85.265647</td>\n",
              "    </tr>\n",
              "    <tr>\n",
              "      <th>3</th>\n",
              "      <td>-0.032172</td>\n",
              "      <td>0.139033</td>\n",
              "      <td>2.978566</td>\n",
              "      <td>168.620776</td>\n",
              "    </tr>\n",
              "    <tr>\n",
              "      <th>4</th>\n",
              "      <td>1.988431</td>\n",
              "      <td>0.155413</td>\n",
              "      <td>4.751769</td>\n",
              "      <td>154.036647</td>\n",
              "    </tr>\n",
              "  </tbody>\n",
              "</table>\n",
              "</div>"
            ],
            "text/plain": [
              "         f0        f1        f2     product\n",
              "0  0.705745 -0.497823  1.221170  105.280062\n",
              "1  1.334711 -0.340164  4.365080   73.037750\n",
              "2  1.022732  0.151990  1.419926   85.265647\n",
              "3 -0.032172  0.139033  2.978566  168.620776\n",
              "4  1.988431  0.155413  4.751769  154.036647"
            ]
          },
          "metadata": {}
        },
        {
          "output_type": "display_data",
          "data": {
            "text/plain": [
              "'geo_data_1'"
            ]
          },
          "metadata": {}
        },
        {
          "output_type": "display_data",
          "data": {
            "text/html": [
              "<div>\n",
              "<style scoped>\n",
              "    .dataframe tbody tr th:only-of-type {\n",
              "        vertical-align: middle;\n",
              "    }\n",
              "\n",
              "    .dataframe tbody tr th {\n",
              "        vertical-align: top;\n",
              "    }\n",
              "\n",
              "    .dataframe thead th {\n",
              "        text-align: right;\n",
              "    }\n",
              "</style>\n",
              "<table border=\"1\" class=\"dataframe\">\n",
              "  <thead>\n",
              "    <tr style=\"text-align: right;\">\n",
              "      <th></th>\n",
              "      <th>f0</th>\n",
              "      <th>f1</th>\n",
              "      <th>f2</th>\n",
              "      <th>product</th>\n",
              "    </tr>\n",
              "  </thead>\n",
              "  <tbody>\n",
              "    <tr>\n",
              "      <th>0</th>\n",
              "      <td>-15.001348</td>\n",
              "      <td>-8.276000</td>\n",
              "      <td>-0.005876</td>\n",
              "      <td>3.179103</td>\n",
              "    </tr>\n",
              "    <tr>\n",
              "      <th>1</th>\n",
              "      <td>14.272088</td>\n",
              "      <td>-3.475083</td>\n",
              "      <td>0.999183</td>\n",
              "      <td>26.953261</td>\n",
              "    </tr>\n",
              "    <tr>\n",
              "      <th>2</th>\n",
              "      <td>6.263187</td>\n",
              "      <td>-5.948386</td>\n",
              "      <td>5.001160</td>\n",
              "      <td>134.766305</td>\n",
              "    </tr>\n",
              "    <tr>\n",
              "      <th>3</th>\n",
              "      <td>-13.081196</td>\n",
              "      <td>-11.506057</td>\n",
              "      <td>4.999415</td>\n",
              "      <td>137.945408</td>\n",
              "    </tr>\n",
              "    <tr>\n",
              "      <th>4</th>\n",
              "      <td>12.702195</td>\n",
              "      <td>-8.147433</td>\n",
              "      <td>5.004363</td>\n",
              "      <td>134.766305</td>\n",
              "    </tr>\n",
              "  </tbody>\n",
              "</table>\n",
              "</div>"
            ],
            "text/plain": [
              "          f0         f1        f2     product\n",
              "0 -15.001348  -8.276000 -0.005876    3.179103\n",
              "1  14.272088  -3.475083  0.999183   26.953261\n",
              "2   6.263187  -5.948386  5.001160  134.766305\n",
              "3 -13.081196 -11.506057  4.999415  137.945408\n",
              "4  12.702195  -8.147433  5.004363  134.766305"
            ]
          },
          "metadata": {}
        },
        {
          "output_type": "display_data",
          "data": {
            "text/plain": [
              "'geo_data_2'"
            ]
          },
          "metadata": {}
        },
        {
          "output_type": "display_data",
          "data": {
            "text/html": [
              "<div>\n",
              "<style scoped>\n",
              "    .dataframe tbody tr th:only-of-type {\n",
              "        vertical-align: middle;\n",
              "    }\n",
              "\n",
              "    .dataframe tbody tr th {\n",
              "        vertical-align: top;\n",
              "    }\n",
              "\n",
              "    .dataframe thead th {\n",
              "        text-align: right;\n",
              "    }\n",
              "</style>\n",
              "<table border=\"1\" class=\"dataframe\">\n",
              "  <thead>\n",
              "    <tr style=\"text-align: right;\">\n",
              "      <th></th>\n",
              "      <th>f0</th>\n",
              "      <th>f1</th>\n",
              "      <th>f2</th>\n",
              "      <th>product</th>\n",
              "    </tr>\n",
              "  </thead>\n",
              "  <tbody>\n",
              "    <tr>\n",
              "      <th>0</th>\n",
              "      <td>-1.146987</td>\n",
              "      <td>0.963328</td>\n",
              "      <td>-0.828965</td>\n",
              "      <td>27.758673</td>\n",
              "    </tr>\n",
              "    <tr>\n",
              "      <th>1</th>\n",
              "      <td>0.262778</td>\n",
              "      <td>0.269839</td>\n",
              "      <td>-2.530187</td>\n",
              "      <td>56.069697</td>\n",
              "    </tr>\n",
              "    <tr>\n",
              "      <th>2</th>\n",
              "      <td>0.194587</td>\n",
              "      <td>0.289035</td>\n",
              "      <td>-5.586433</td>\n",
              "      <td>62.871910</td>\n",
              "    </tr>\n",
              "    <tr>\n",
              "      <th>3</th>\n",
              "      <td>2.236060</td>\n",
              "      <td>-0.553760</td>\n",
              "      <td>0.930038</td>\n",
              "      <td>114.572842</td>\n",
              "    </tr>\n",
              "    <tr>\n",
              "      <th>4</th>\n",
              "      <td>-0.515993</td>\n",
              "      <td>1.716266</td>\n",
              "      <td>5.899011</td>\n",
              "      <td>149.600746</td>\n",
              "    </tr>\n",
              "  </tbody>\n",
              "</table>\n",
              "</div>"
            ],
            "text/plain": [
              "         f0        f1        f2     product\n",
              "0 -1.146987  0.963328 -0.828965   27.758673\n",
              "1  0.262778  0.269839 -2.530187   56.069697\n",
              "2  0.194587  0.289035 -5.586433   62.871910\n",
              "3  2.236060 -0.553760  0.930038  114.572842\n",
              "4 -0.515993  1.716266  5.899011  149.600746"
            ]
          },
          "metadata": {}
        }
      ]
    },
    {
      "cell_type": "markdown",
      "source": "Let's divide the sample into training (75%) and validation (25%).",
      "metadata": {}
    },
    {
      "cell_type": "code",
      "source": "#create dictionaries for training and validation samples for all dataframes,\n#where the key is the name of the dataframe,\n#and the value is a set of features of the corresponding dataframe\ndf_train = {}\ndf_valid = {}\n\nfor df in dfs:\n    df_train[df.name], df_valid[df.name] = train_test_split(\n        df, test_size=0.25, random_state=12345)\n    train_size = len(df_train[df.name]) / len(df)\n    valid_size = len(df_valid[df.name]) / len(df)\n    display('Percentage of the training sample of the dataframe {}: {:.0%}'.format(df.name, train_size))\n    display('Percentage of the validation sample of the dataframe  {}: {:.0%}'.format(df.name, valid_size))",
      "metadata": {},
      "execution_count": 7,
      "outputs": [
        {
          "output_type": "display_data",
          "data": {
            "text/plain": [
              "'Доля обучающей выборки датафрейма geo_data_0: 75%'"
            ]
          },
          "metadata": {}
        },
        {
          "output_type": "display_data",
          "data": {
            "text/plain": [
              "'Доля валидационной выборки датафрейма geo_data_0: 25%'"
            ]
          },
          "metadata": {}
        },
        {
          "output_type": "display_data",
          "data": {
            "text/plain": [
              "'Доля обучающей выборки датафрейма geo_data_1: 75%'"
            ]
          },
          "metadata": {}
        },
        {
          "output_type": "display_data",
          "data": {
            "text/plain": [
              "'Доля валидационной выборки датафрейма geo_data_1: 25%'"
            ]
          },
          "metadata": {}
        },
        {
          "output_type": "display_data",
          "data": {
            "text/plain": [
              "'Доля обучающей выборки датафрейма geo_data_2: 75%'"
            ]
          },
          "metadata": {}
        },
        {
          "output_type": "display_data",
          "data": {
            "text/plain": [
              "'Доля валидационной выборки датафрейма geo_data_2: 25%'"
            ]
          },
          "metadata": {}
        }
      ]
    },
    {
      "cell_type": "markdown",
      "source": "Let's create variables for the features and the target feature.",
      "metadata": {}
    },
    {
      "cell_type": "code",
      "source": "features_train = {}\nfeatures_valid = {}\ntarget_train = {}\ntarget_valid = {}\nfor df in dfs:\n    features_train[df.name] = df_train[df.name].drop('product', axis=1)\n    features_valid[df.name] = df_valid[df.name].drop('product', axis=1)\n    target_train[df.name] = df_train[df.name]['product']\n    target_valid[df.name] = df_valid[df.name]['product']",
      "metadata": {},
      "execution_count": 8,
      "outputs": []
    },
    {
      "cell_type": "markdown",
      "source": "Since there is a spread of values ​​in the signs, it is necessary to standardize the samples.",
      "metadata": {}
    },
    {
      "cell_type": "code",
      "source": "numeric = ['f0','f1','f2']\nfor df in dfs:\n    scaler = StandardScaler()\n    scaler.fit(features_train[df.name])\n    features_train[df.name][numeric] = scaler.transform(features_train[df.name][numeric])\n    features_valid[df.name][numeric] = scaler.transform(features_valid[df.name][numeric])",
      "metadata": {},
      "execution_count": 9,
      "outputs": []
    },
    {
      "cell_type": "code",
      "source": "for df in dfs:\n    fig = plt.figure(figsize=(20, 5))\n    ttl = fig.suptitle(df.name, fontsize=18)\n    rows = 1\n    cols = 3\n    counter = 1\n    for column in ['f0', 'f1', 'f2']:\n        ax = plt.subplot(rows, cols, counter)\n        plt.xlabel('Feature value')\n        plt.ylabel('Quantity, pcs.')\n        ax.set_title(column)\n        features_train[df.name][column].plot(kind='hist', bins=30)\n        counter += 1\nplt.show()",
      "metadata": {},
      "execution_count": 10,
      "outputs": [
        {
          "output_type": "display_data",
          "data": {
            "image/png": "[encoded data removed]",
            "text/plain": [
              "<Figure size 1440x360 with 3 Axes>"
            ]
          },
          "metadata": {
            "needs_background": "light"
          }
        },
        {
          "output_type": "display_data",
          "data": {
            "image/png": "[encoded data removed]",
            "text/plain": [
              "<Figure size 1440x360 with 3 Axes>"
            ]
          },
          "metadata": {
            "needs_background": "light"
          }
        },
        {
          "output_type": "display_data",
          "data": {
            "image/png": "[encoded data removed]",
            "text/plain": [
              "<Figure size 1440x360 with 3 Axes>"
            ]
          },
          "metadata": {
            "needs_background": "light"
          }
        }
      ]
    },
    {
      "cell_type": "markdown",
      "source": "All attributes of dataframes are distributed around the value 0.",
      "metadata": {}
    },
    {
      "cell_type": "markdown",
      "source": "## Training and checking models <a id='model_training'></a> ",
      "metadata": {}
    },
    {
      "cell_type": "markdown",
      "source": "Let's train the models using linear regression.",
      "metadata": {}
    },
    {
      "cell_type": "code",
      "source": "#create dictionaries to store the target feature/features (dictionary value)\n#by corresponding dataframe (dictionary key)\npredicted_valid = {}\npredicted_valid_top200 = {}\ntarget_valid_top200 = {}\nfeatures_valid_top200 = {}\nmodel = {}\n\n#models\nfor df in dfs:\n    model[df.name] = LinearRegression()\n    model[df.name].fit(features_train[df.name], target_train[df.name])\n    predicted_valid[df.name] = pd.Series(data=model[df.name]\n                                                            .predict(features_valid[df.name]),\n                                                            index=features_valid[df.name]\n                                                            .index)\n    \n#the top 200 wells in each region\n    predicted_valid_top200[df.name] = (predicted_valid[df.name]\n                                                              .sort_values(ascending=False)\n                                                              .head(200)\n                                      )\n    selected_indexes = predicted_valid_top200[df.name].index\n    target_valid_top200[df.name] = target_valid[df.name].loc[selected_indexes]\n    \n    predicted_valid_top200_mean = predicted_valid_top200[df.name].mean()\n    rmse_top200 = mean_squared_error(target_valid_top200[df.name], predicted_valid_top200[df.name]) ** 0.5\n    \n    rmse= mean_squared_error(target_valid[df.name], predicted_valid[df.name]) ** 0.5\n    r2 = r2_score(target_valid[df.name], predicted_valid[df.name])\n    \n    display('Region {}'.format(df.name))\n    display('Average stock of predicted raw materials for the top 200 wells:           {:0.0f} тыс.'.\n          format(predicted_valid_top200_mean))\n    display('RMSE for top 200 wells:                                                   {:0.0f} тыс.'.\n          format(rmse_top200))\n    display('RMSE across the entire validation set:                                    {:0.0f} тыс.'.\n          format(rmse))\n    display('Determination coefficient R2 (over the entire validation set):            {:.2%}'.\n          format(r2))\n    print('')",
      "metadata": {},
      "execution_count": 11,
      "outputs": [
        {
          "output_type": "display_data",
          "data": {
            "text/plain": [
              "'Регион geo_data_0'"
            ]
          },
          "metadata": {}
        },
        {
          "output_type": "display_data",
          "data": {
            "text/plain": [
              "'Средний запас предсказанного сырья для топ-200 скважин:           156 тыс.'"
            ]
          },
          "metadata": {}
        },
        {
          "output_type": "display_data",
          "data": {
            "text/plain": [
              "'RMSE для топ-200 скважин:                                         27 тыс.'"
            ]
          },
          "metadata": {}
        },
        {
          "output_type": "display_data",
          "data": {
            "text/plain": [
              "'RMSE по всей валидационной выборке:                               38 тыс.'"
            ]
          },
          "metadata": {}
        },
        {
          "output_type": "display_data",
          "data": {
            "text/plain": [
              "'Коэффициент детерминации R2 (по всей валидационной выборке):      27.99%'"
            ]
          },
          "metadata": {}
        },
        {
          "name": "stdout",
          "output_type": "stream",
          "text": "\n"
        },
        {
          "output_type": "display_data",
          "data": {
            "text/plain": [
              "'Регион geo_data_1'"
            ]
          },
          "metadata": {}
        },
        {
          "output_type": "display_data",
          "data": {
            "text/plain": [
              "'Средний запас предсказанного сырья для топ-200 скважин:           139 тыс.'"
            ]
          },
          "metadata": {}
        },
        {
          "output_type": "display_data",
          "data": {
            "text/plain": [
              "'RMSE для топ-200 скважин:                                         1 тыс.'"
            ]
          },
          "metadata": {}
        },
        {
          "output_type": "display_data",
          "data": {
            "text/plain": [
              "'RMSE по всей валидационной выборке:                               1 тыс.'"
            ]
          },
          "metadata": {}
        },
        {
          "output_type": "display_data",
          "data": {
            "text/plain": [
              "'Коэффициент детерминации R2 (по всей валидационной выборке):      99.96%'"
            ]
          },
          "metadata": {}
        },
        {
          "name": "stdout",
          "output_type": "stream",
          "text": "\n"
        },
        {
          "output_type": "display_data",
          "data": {
            "text/plain": [
              "'Регион geo_data_2'"
            ]
          },
          "metadata": {}
        },
        {
          "output_type": "display_data",
          "data": {
            "text/plain": [
              "'Средний запас предсказанного сырья для топ-200 скважин:           148 тыс.'"
            ]
          },
          "metadata": {}
        },
        {
          "output_type": "display_data",
          "data": {
            "text/plain": [
              "'RMSE для топ-200 скважин:                                         29 тыс.'"
            ]
          },
          "metadata": {}
        },
        {
          "output_type": "display_data",
          "data": {
            "text/plain": [
              "'RMSE по всей валидационной выборке:                               40 тыс.'"
            ]
          },
          "metadata": {}
        },
        {
          "output_type": "display_data",
          "data": {
            "text/plain": [
              "'Коэффициент детерминации R2 (по всей валидационной выборке):      20.52%'"
            ]
          },
          "metadata": {}
        },
        {
          "name": "stdout",
          "output_type": "stream",
          "text": "\n"
        }
      ]
    },
    {
      "cell_type": "markdown",
      "source": "Models trained on the data of geo_data_0 and geo_data_2 regions have a weak predictive ability, as evidenced by the low value of the coefficient of determination (R2). The model trained on the data of geo_data_1 region has the largest coefficient of determination R2, therefore it has the best quality, despite the fact that it predicted the smallest amount of the average product.",
      "metadata": {}
    },
    {
      "cell_type": "markdown",
      "source": "## Preparation for profit calculation <a id='prep'></a> ",
      "metadata": {}
    },
    {
      "cell_type": "markdown",
      "source": "Let's save all key values for calculations in separate variables.",
      "metadata": {}
    },
    {
      "cell_type": "code",
      "source": "N = 500 #number of points explored during exploration of the region, pcs.\nM = 200 #the number of the best points selected using machine learning for development, pcs.\nTOTAL_COSTS = 10000000000 #well development budget in one region, rubles\nREVENUE_PER_OIL_WELL = 450000 #income from each unit of product, rubles\nLOSS_PROBABILITY  = 0.025 #loss probability",
      "metadata": {},
      "execution_count": 12,
      "outputs": []
    },
    {
      "cell_type": "markdown",
      "source": "Let us calculate a sufficient volume of raw materials for the break-even development of a new well. Since the volume is indicated in thousands of barrels, the calculation will be carried out per thousand units.",
      "metadata": {}
    },
    {
      "cell_type": "code",
      "source": "loss_per_oil_well = TOTAL_COSTS / M #consumption per well\nnecessary_product = loss_per_oil_well / REVENUE_PER_OIL_WELL\ndisplay('Required volume of raw materials per well for break-even development of a new well: {:0.0f} thousand barrels'\n        .format(necessary_product))",
      "metadata": {},
      "execution_count": 13,
      "outputs": [
        {
          "output_type": "display_data",
          "data": {
            "text/plain": [
              "'Необходимый объем сырья на одну скважину для безубыточной разработки новой скважины: 111 тыс. баррелей'"
            ]
          },
          "metadata": {}
        }
      ]
    },
    {
      "cell_type": "markdown",
      "source": "The average reserves of predicted raw materials in the regions (geo_data_0 - 156 thousand barrels, geo_data_1 - 139 thousand barrels, geo_data_3 - 148 thousand barrels) are more than the required volume of raw materials for break-even development of a new well. The highest value of the average volume of raw materials in the geo_data_0 region.",
      "metadata": {}
    },
    {
      "cell_type": "markdown",
      "source": "Let's write a function to calculate the profit for the selected wells and model predictions. Calculate the profit for the received volume of raw materials.",
      "metadata": {}
    },
    {
      "cell_type": "code",
      "source": "def total_profit(data, region):\n    features = data.drop('product', axis=1)\n    targets = data['product']\n    predictions = model[region].predict(features)\n    predictions = pd.Series(predictions, index=features.index)\n    selected_oil_well = (predictions\n                                    .sort_values(ascending=False)\n                                    .head(200)\n                                    .index\n                        )\n    revenue = (targets\n                     .loc[selected_oil_well]\n                     .sum() * REVENUE_PER_OIL_WELL\n              )\n    costs = TOTAL_COSTS\n    profit = revenue - costs\n    return profit\n\nfor df in dfs:\n    display('Profit by region {} : {:0.2f} billion rubles'.format(df.name, total_profit(df_train[df.name], df.name) / 1000000000 ))",
      "metadata": {},
      "execution_count": 14,
      "outputs": [
        {
          "output_type": "display_data",
          "data": {
            "text/plain": [
              "'Прибыль по региону geo_data_0 : 3.02 млрд. руб.'"
            ]
          },
          "metadata": {}
        },
        {
          "output_type": "display_data",
          "data": {
            "text/plain": [
              "'Прибыль по региону geo_data_1 : 2.42 млрд. руб.'"
            ]
          },
          "metadata": {}
        },
        {
          "output_type": "display_data",
          "data": {
            "text/plain": [
              "'Прибыль по региону geo_data_2 : 2.55 млрд. руб.'"
            ]
          },
          "metadata": {}
        }
      ]
    },
    {
      "cell_type": "markdown",
      "source": "## Calculation of profit and risks <a id='profit'></a>  ",
      "metadata": {}
    },
    {
      "cell_type": "markdown",
      "source": "Let's calculate the risks and profits for each region. Let's find the profit distribution using the Bootstrap technique.",
      "metadata": {}
    },
    {
      "cell_type": "code",
      "source": "state = np.random.RandomState(12345)\nbootstrap_samples = 1000\n\nvalues_profit = {}\nfor df in dfs:\n    values_profit[df.name] = []\n    for i in range(bootstrap_samples):\n        subsample = df.sample(n=N, replace=False, random_state=state)\n        values_profit[df.name].append(total_profit(data=subsample, region=df.name))\n    values_profit[df.name] = pd.Series(values_profit[df.name])\n",
      "metadata": {},
      "execution_count": 15,
      "outputs": []
    },
    {
      "cell_type": "markdown",
      "source": "Let's look at the distribution of profits for each region.",
      "metadata": {}
    },
    {
      "cell_type": "code",
      "source": "fig = plt.figure(figsize=(20, 5))\nttl = fig.suptitle('Distribution of profits in each region', fontsize=15)\n\nrows = 1\ncols = 3\ncounter = 1\nfor df in dfs:\n    ax = plt.subplot(rows, cols, counter)\n    plt.xlabel('Profit', fontsize=10)\n    plt.ylabel('Quantity, pcs.', fontsize=10)\n    ax.set_title(df.name, fontsize=15)\n    values_profit[df.name].plot(kind='hist', bins=50)\n    counter += 1\nplt.show()",
      "metadata": {},
      "execution_count": 16,
      "outputs": [
        {
          "output_type": "display_data",
          "data": {
            "image/png": "[encoded data removed]",
            "text/plain": [
              "<Figure size 1440x360 with 3 Axes>"
            ]
          },
          "metadata": {
            "needs_background": "light"
          }
        }
      ]
    },
    {
      "cell_type": "markdown",
      "source": "Let's calculate the average profit for each region. Profit will be rounded up to millions. Let's find the 95% confidence interval, which contains the general average profit from the development of the region.",
      "metadata": {}
    },
    {
      "cell_type": "code",
      "source": "for df in dfs:\n    profit_mean = values_profit[df.name].mean() / 1000000 \n    display('Average profit in the region {}: {:0.0f} million rubles'.format(df.name, profit_mean))\n    lower = values_profit[df.name].quantile(0.025) / 1000000\n    upper = values_profit[df.name].quantile(0.975) / 1000000\n    display('Confidence interval for average profit in the region {}: [{:0.0f}, {:0.0f}] (million rubles)'.\n          format(df.name, lower, upper))\n    loss_prob = (values_profit[df.name] < 0).mean()\n    display('Probability of getting a loss in the region {}: {:.0%}'.format(df.name, loss_prob))\n    print('')",
      "metadata": {},
      "execution_count": 17,
      "outputs": [
        {
          "output_type": "display_data",
          "data": {
            "text/plain": [
              "'Средняя прибыль в регионе geo_data_0: 335 млн. руб.'"
            ]
          },
          "metadata": {}
        },
        {
          "output_type": "display_data",
          "data": {
            "text/plain": [
              "'Доверительный интервал для средней прибыли в регионе geo_data_0: [-163, 829] (млн. руб.)'"
            ]
          },
          "metadata": {}
        },
        {
          "output_type": "display_data",
          "data": {
            "text/plain": [
              "'Вероятность получить убыток в регионе geo_data_0: 12%'"
            ]
          },
          "metadata": {}
        },
        {
          "name": "stdout",
          "output_type": "stream",
          "text": "\n"
        },
        {
          "output_type": "display_data",
          "data": {
            "text/plain": [
              "'Средняя прибыль в регионе geo_data_1: 457 млн. руб.'"
            ]
          },
          "metadata": {}
        },
        {
          "output_type": "display_data",
          "data": {
            "text/plain": [
              "'Доверительный интервал для средней прибыли в регионе geo_data_1: [67, 858] (млн. руб.)'"
            ]
          },
          "metadata": {}
        },
        {
          "output_type": "display_data",
          "data": {
            "text/plain": [
              "'Вероятность получить убыток в регионе geo_data_1: 1%'"
            ]
          },
          "metadata": {}
        },
        {
          "name": "stdout",
          "output_type": "stream",
          "text": "\n"
        },
        {
          "output_type": "display_data",
          "data": {
            "text/plain": [
              "'Средняя прибыль в регионе geo_data_2: 356 млн. руб.'"
            ]
          },
          "metadata": {}
        },
        {
          "output_type": "display_data",
          "data": {
            "text/plain": [
              "'Доверительный интервал для средней прибыли в регионе geo_data_2: [-167, 872] (млн. руб.)'"
            ]
          },
          "metadata": {}
        },
        {
          "output_type": "display_data",
          "data": {
            "text/plain": [
              "'Вероятность получить убыток в регионе geo_data_2: 11%'"
            ]
          },
          "metadata": {}
        },
        {
          "name": "stdout",
          "output_type": "stream",
          "text": "\n"
        }
      ]
    },
    {
      "cell_type": "markdown",
      "source": "The geo_data_1 region satisfies the loss probability threshold condition (less than 2.5%). To develop the field, the geo_data_1 region is proposed as a region with a low probability of losses (1%) and the highest average profit from development (457 million rubles).",
      "metadata": {}
    },
    {
      "cell_type": "code",
      "source": "",
      "metadata": {},
      "execution_count": null,
      "outputs": []
    }
  ]
}